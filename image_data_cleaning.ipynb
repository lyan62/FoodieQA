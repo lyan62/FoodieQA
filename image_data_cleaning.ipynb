{
 "cells": [
  {
   "cell_type": "code",
   "execution_count": 200,
   "metadata": {},
   "outputs": [],
   "source": [
    "import pandas as pd\n",
    "import json\n",
    "import re\n",
    "import os"
   ]
  },
  {
   "cell_type": "code",
   "execution_count": 245,
   "metadata": {},
   "outputs": [],
   "source": [
    "food_type_cols = ['2.您的美食属于哪个菜系/地区？:川菜（四川，重庆）', '2.您的美食属于哪个菜系/地区？:湘菜（湖南）',\n",
    "       '2.您的美食属于哪个菜系/地区？:鲁菜（山东）', '2.您的美食属于哪个菜系/地区？:西北菜 （陕西，甘肃等地）',\n",
    "       '2.您的美食属于哪个菜系/地区？:赣菜（江西）', '2.您的美食属于哪个菜系/地区？:东北菜 （黑龙江等地）',\n",
    "       '2.您的美食属于哪个菜系/地区？:黔菜 (贵州）', '2.您的美食属于哪个菜系/地区？:内蒙菜 （内蒙古）',\n",
    "       '2.您的美食属于哪个菜系/地区？:徽菜 （安徽）', '2.您的美食属于哪个菜系/地区？:粤菜（广东等地）',\n",
    "       '2.您的美食属于哪个菜系/地区？:苏菜（江苏）', '2.您的美食属于哪个菜系/地区？:浙菜（浙江）',\n",
    "       '2.您的美食属于哪个菜系/地区？:闽菜（福建）', '2.您的美食属于哪个菜系/地区？:新疆菜',\n",
    "       '2.您的美食属于哪个菜系/地区？:其他____{fillblank-f468}',\n",
    "       '2.您的美食属于哪个菜系/地区？:其他____{fillblank-f468}[选项填空]']\n",
    "\n",
    "def extract_img_file_name(row):\n",
    "    hyperlink = row[\"1.请上传您的美食照片_附件1\"]\n",
    "    pattern = r'\"([^\"]+)\"\\)$'\n",
    "    match = re.search(pattern, hyperlink)\n",
    "\n",
    "    if match:\n",
    "        image_name = match.group(1)\n",
    "        return str(row['编号'])+ \"_\" + image_name\n",
    "    else:\n",
    "        return None\n",
    "    \n",
    "def clean_item(row):\n",
    "    item_dict = {\"main_ingredient\":set()}\n",
    "    row_dict = row.dropna().to_dict()\n",
    "    keep_cols = {\n",
    "        '编号': \"id\",\n",
    "        '美食名称': \"food_name\",\n",
    "        '4.您的美食来自': \"food_location\"\n",
    "    }\n",
    "    for key in row_dict.keys():\n",
    "        if key in food_type_cols:\n",
    "            if len(row_dict[key].split(\".\")) == 2:\n",
    "                item_dict[\"food_type\"] = row_dict[key].split(\".\")[1]\n",
    "            else:\n",
    "                item_dict[\"food_type\"] = row_dict[key]\n",
    "        if key in keep_cols:\n",
    "            if key == \"4.您的美食来自\":\n",
    "                if len(row_dict[key].split(\".\")) == 2:\n",
    "                    item_dict[keep_cols[key]] = row_dict[key].split(\".\")[1] \n",
    "            else:\n",
    "                item_dict[keep_cols[key]] = row_dict[key]\n",
    "    item_dict[\"food_file\"] = extract_img_file_name(row)\n",
    "    \n",
    "    main_ingredients = [\"鱼\", \"肉\", \"牛\", \"鸡\", \"羊\", \"蛋\", \"虾\", \"肉\", \"饭\", \"蟹\", \"豆腐\", \"面\", \"鸭\", \"鹅\"]\n",
    "    for ingredient in main_ingredients:\n",
    "        if ingredient in item_dict[\"food_name\"]:\n",
    "            item_dict[\"main_ingredient\"].add(ingredient)\n",
    "    item_dict[\"main_ingredient\"] = list(item_dict[\"main_ingredient\"])\n",
    "    if len(item_dict[\"main_ingredient\"]) == 0:\n",
    "        item_dict[\"main_ingredient\"] = [\"其他\"]\n",
    "    return item_dict"
   ]
  },
  {
   "cell_type": "code",
   "execution_count": 262,
   "metadata": {},
   "outputs": [],
   "source": [
    "def clean_image_collections(survey_file):\n",
    "    survey_folder_dict = {\n",
    "        \"14456664_202404221743366663_verified.csv\": \"14456664_all_202404292352223293\",\n",
    "        \"14521898_202404291705453365_verified.csv\": \"14521898_all_202404291706016981\"       \n",
    "        }\n",
    "    survey_df = pd.read_csv(survey_file, delimiter=\";\")\n",
    "    verified_df = survey_df[survey_df['Image-confirmed'] == \"Good\"]\n",
    "    food_dict = verified_df.apply(clean_item, axis=1).to_list()\n",
    "    for item in food_dict:\n",
    "        if item[\"food_file\"]:\n",
    "            item[\"food_file\"] = f\"{survey_folder_dict[os.path.basename(survey_file)]}/{item['food_file']}\"\n",
    "    with open(survey_file.replace(\".csv\", \"_cleaned.json\"), \"w\") as f:\n",
    "        json.dump(food_dict, f, ensure_ascii=False, indent=4)\n",
    "    return food_dict"
   ]
  },
  {
   "cell_type": "code",
   "execution_count": 247,
   "metadata": {},
   "outputs": [],
   "source": [
    "survey1_file = \"/Users/wli/projects/foodie-dataset/data-collection/14456664_202404221743366663_verified.csv\"\n",
    "survey2_file = \"/Users/wli/projects/foodie-dataset/data-collection/14521898_202404291705453365_verified.csv\""
   ]
  },
  {
   "cell_type": "code",
   "execution_count": 248,
   "metadata": {},
   "outputs": [],
   "source": [
    "survey1_dict = clean_image_collections(survey1_file)"
   ]
  },
  {
   "cell_type": "code",
   "execution_count": 249,
   "metadata": {},
   "outputs": [],
   "source": [
    "survey2_dict = clean_image_collections(survey2_file)"
   ]
  },
  {
   "cell_type": "code",
   "execution_count": 250,
   "metadata": {},
   "outputs": [
    {
     "data": {
      "text/plain": [
       "(175, 140)"
      ]
     },
     "execution_count": 250,
     "metadata": {},
     "output_type": "execute_result"
    }
   ],
   "source": [
    "len(survey1_dict), len(survey2_dict)"
   ]
  },
  {
   "cell_type": "code",
   "execution_count": 252,
   "metadata": {},
   "outputs": [
    {
     "name": "stdout",
     "output_type": "stream",
     "text": [
      "{'main_ingredient': ['牛'], 'id': 37, 'food_name': '牛油火锅', 'food_type': '川菜（四川，重庆）', 'food_location': '餐馆', 'food_file': '14456664_all_202404292352223293/37_IMG_1059.jpeg'}\n",
      "{'main_ingredient': ['牛'], 'id': 49, 'food_name': '干锅牛蛙', 'food_type': '川菜（四川，重庆）', 'food_location': '餐馆', 'food_file': '14456664_all_202404292352223293/49_IMG_1004.jpeg'}\n",
      "{'main_ingredient': ['牛'], 'id': 152, 'food_name': '干炒牛河', 'food_type': '粤菜（广东等地）', 'food_location': '餐馆', 'food_file': '14456664_all_202404292352223293/152_IMG_20240414_124846.jpg'}\n",
      "{'main_ingredient': ['牛'], 'id': 174, 'food_name': '招牌牛蛙', 'food_type': '湘菜（湖南）', 'food_location': '餐馆', 'food_file': '14456664_all_202404292352223293/174_IMG_1449.jpeg'}\n",
      "{'main_ingredient': ['牛'], 'id': 222, 'food_name': '一品干香牛蛙', 'food_location': '餐馆', 'food_file': '14456664_all_202404292352223293/222_1d59bbd9409b075e106f87dd5d58b559.jpeg'}\n"
     ]
    }
   ],
   "source": [
    "for item in survey1_dict:\n",
    "    if item[\"main_ingredient\"] == [\"牛\"]:\n",
    "        print(item)"
   ]
  },
  {
   "cell_type": "code",
   "execution_count": 269,
   "metadata": {},
   "outputs": [],
   "source": [
    "def extract_overlapped_phrases(data, phrase_field):\n",
    "    # Extract the phrases from the list of dictionaries\n",
    "    phrases = [item[phrase_field] for item in data]\n",
    "    \n",
    "    # Sort the phrases by length in descending order\n",
    "    phrases = sorted(phrases, key=len, reverse=True)\n",
    "    \n",
    "    overlapped_phrases = []\n",
    "    \n",
    "    for i in range(len(phrases)):\n",
    "        for j in range(i+1, len(phrases)):\n",
    "            # Check if the current phrase is a substring of any other phrase\n",
    "            if phrases[j] in phrases[i]:\n",
    "                overlapped_phrases.append(phrases[j])\n",
    "                break\n",
    "    \n",
    "    # Group the list of dictionaries by the overlapped phrases\n",
    "    grouped_data = {}\n",
    "    for item in data:\n",
    "        for phrase in overlapped_phrases:\n",
    "            if phrase in item[phrase_field]:\n",
    "                if phrase not in grouped_data:\n",
    "                    grouped_data[phrase] = []\n",
    "                grouped_data[phrase].append(item)\n",
    "                break\n",
    "    \n",
    "    return grouped_data"
   ]
  },
  {
   "cell_type": "markdown",
   "metadata": {},
   "source": [
    "## extract food groups"
   ]
  },
  {
   "cell_type": "code",
   "execution_count": 270,
   "metadata": {},
   "outputs": [
    {
     "name": "stdout",
     "output_type": "stream",
     "text": [
      "Phrase: 大盘鸡\n",
      "- {'main_ingredient': ['鸡'], 'id': 3, 'food_name': '大盘鸡', 'food_location': '家里自制', 'food_file': '14456664_all_202404292352223293/3_67F2793A-58D3-4845-9515-6FD3734B0311.jpeg'}\n",
      "\n",
      "Phrase: 辣子鸡\n",
      "- {'main_ingredient': ['鸡'], 'id': 4, 'food_name': '辣子鸡', 'food_location': '家里自制', 'food_file': '14456664_all_202404292352223293/4_BDA2BB3D-53D1-46CA-B83B-D8D5280F0754.jpeg'}\n",
      "\n",
      "Phrase: 酸菜鱼\n",
      "- {'main_ingredient': ['鱼'], 'id': 13, 'food_name': '酸菜鱼', 'food_type': '川菜（四川，重庆）', 'food_location': '家里自制', 'food_file': '14456664_all_202404292352223293/13_IMG_20230522_201922.jpg'}\n",
      "- {'main_ingredient': ['鱼'], 'id': 72, 'food_name': '酸菜鱼', 'food_type': '川菜（四川，重庆）', 'food_location': '餐馆', 'food_file': '14456664_all_202404292352223293/72_IMG_0618.jpeg'}\n",
      "\n",
      "Phrase: 海鲜\n",
      "- {'main_ingredient': ['其他'], 'id': 16, 'food_name': '捞汁小海鲜', 'food_type': '闽菜（福建）', 'food_location': '餐馆', 'food_file': '14456664_all_202404292352223293/16_IMG_0704.jpeg'}\n",
      "- {'main_ingredient': ['饭'], 'id': 91, 'food_name': '海鲜炒饭', 'food_type': '湘菜（湖南）', 'food_location': '外卖', 'food_file': '14456664_all_202404292352223293/91_FE154646-BC59-42C7-8310-0C2268EFD25A.jpeg'}\n",
      "- {'main_ingredient': ['蟹'], 'id': 106, 'food_name': '海鲜粥和蟹黄粉丝煲', 'food_type': '粤菜（广东等地）', 'food_location': '餐馆', 'food_file': '14456664_all_202404292352223293/106_IMG_20240404_233450.jpg'}\n",
      "- {'main_ingredient': ['其他'], 'id': 114, 'food_name': '海鲜', 'food_location': '餐馆', 'food_file': '14456664_all_202404292352223293/114_58A2736B-F369-4345-908B-090099E078DB.jpeg'}\n",
      "\n",
      "Phrase: 烤鱼\n",
      "- {'main_ingredient': ['鱼'], 'id': 18, 'food_name': '烤鱼', 'food_type': '川菜（四川，重庆）', 'food_location': '餐馆', 'food_file': '14456664_all_202404292352223293/18_IMG_20240406_174552.jpg'}\n",
      "- {'main_ingredient': ['鱼'], 'id': 42, 'food_name': '烤匠烤鱼', 'food_type': '川菜（四川，重庆）', 'food_location': '餐馆', 'food_file': '14456664_all_202404292352223293/42_IMG_20190330_175931.jpeg'}\n",
      "\n",
      "Phrase: 丁丁炒面\n",
      "- {'main_ingredient': ['面'], 'id': 25, 'food_name': '丁丁炒面', 'food_location': '餐馆', 'food_file': '14456664_all_202404292352223293/25_IMG_4329.jpeg'}\n",
      "- {'main_ingredient': ['面'], 'id': 216, 'food_name': '丁丁炒面', 'food_type': '新疆菜', 'food_location': '餐馆', 'food_file': '14456664_all_202404292352223293/216_IMG_3853.jpeg'}\n",
      "\n",
      "Phrase: 冰粉\n",
      "- {'main_ingredient': ['其他'], 'id': 31, 'food_name': '汤圆冰粉', 'food_type': '川菜（四川，重庆）', 'food_location': '餐馆', 'food_file': '14456664_all_202404292352223293/31_IMG_4113.jpeg'}\n",
      "- {'main_ingredient': ['其他'], 'id': 166, 'food_name': '冰粉', 'food_type': '川菜（四川，重庆）', 'food_location': '餐馆', 'food_file': '14456664_all_202404292352223293/166_F51EA11E-9F97-4758-B451-518AD56C40EE.jpeg'}\n",
      "\n",
      "Phrase: 火锅\n",
      "- {'main_ingredient': ['牛'], 'id': 37, 'food_name': '牛油火锅', 'food_type': '川菜（四川，重庆）', 'food_location': '餐馆', 'food_file': '14456664_all_202404292352223293/37_IMG_1059.jpeg'}\n",
      "- {'main_ingredient': ['其他'], 'id': 40, 'food_name': '四川火锅', 'food_type': '川菜（四川，重庆）', 'food_location': '餐馆', 'food_file': '14456664_all_202404292352223293/40_IMG_20170613_190017.jpg'}\n",
      "- {'main_ingredient': ['肉', '羊'], 'id': 81, 'food_name': '羊肉火锅', 'food_type': '西北菜 （陕西，甘肃等地）', 'food_location': '餐馆', 'food_file': '14456664_all_202404292352223293/81_mmexport1712999644433.jpg'}\n",
      "- {'main_ingredient': ['其他'], 'id': 108, 'food_name': '火锅', 'food_type': '川菜（四川，重庆）', 'food_location': '餐馆', 'food_file': '14456664_all_202404292352223293/108_IMG_20240331_202938.jpg'}\n",
      "- {'main_ingredient': ['豆腐', '鱼'], 'id': 112, 'food_name': '鱼豆腐火锅', 'food_type': '川菜（四川，重庆）', 'food_location': '餐馆', 'food_file': '14456664_all_202404292352223293/112_mmexport1709879227216.jpeg'}\n",
      "- {'main_ingredient': ['鸡'], 'id': 187, 'food_name': '辣子鸡火锅', 'food_type': '黔菜 (贵州）', 'food_location': '家里自制', 'food_file': '14456664_all_202404292352223293/187_mmexport1713446177339.jpg'}\n",
      "- {'main_ingredient': ['鸡'], 'id': 189, 'food_name': '火锅鸡', 'food_location': '餐馆', 'food_file': '14456664_all_202404292352223293/189_IMG_1080.jpeg'}\n",
      "\n",
      "Phrase: 麻辣小龙虾\n",
      "- {'main_ingredient': ['虾'], 'id': 44, 'food_name': '麻辣小龙虾', 'food_type': '川菜（四川，重庆）', 'food_location': '餐馆', 'food_file': '14456664_all_202404292352223293/44_IMG_20190526_200225.jpeg'}\n",
      "- {'main_ingredient': ['虾'], 'id': 54, 'food_name': '麻辣小龙虾', 'food_type': '川菜（四川，重庆）', 'food_location': '餐馆', 'food_file': '14456664_all_202404292352223293/54_IMG_20210918_184935.jpeg'}\n",
      "- {'main_ingredient': ['虾'], 'id': 104, 'food_name': '麻辣小龙虾', 'food_location': '餐馆', 'food_file': '14456664_all_202404292352223293/104_IMG_0277.jpeg'}\n",
      "- {'main_ingredient': ['虾'], 'id': 132, 'food_name': '麻辣小龙虾', 'food_type': '湘菜（湖南）', 'food_location': '家里自制', 'food_file': '14456664_all_202404292352223293/132_IMG_20220702_130156.jpg'}\n",
      "\n",
      "Phrase: 麻辣烫\n",
      "- {'main_ingredient': ['其他'], 'id': 68, 'food_name': '麻辣烫', 'food_type': '川菜（四川，重庆）', 'food_location': '餐馆', 'food_file': '14456664_all_202404292352223293/68_IMG_0971.jpeg'}\n",
      "- {'main_ingredient': ['其他'], 'id': 89, 'food_name': '甘肃麻辣烫', 'food_type': '西北菜 （陕西，甘肃等地）', 'food_location': '家里自制', 'food_file': '14456664_all_202404292352223293/89_94E8F780-2D77-4BA6-AF92-F4CD4EE3D245.jpeg'}\n",
      "- {'main_ingredient': ['其他'], 'id': 180, 'food_name': '麻辣烫', 'food_type': '川菜（四川，重庆）', 'food_location': '餐馆', 'food_file': '14456664_all_202404292352223293/180_IMG_5672.jpeg'}\n",
      "\n",
      "Phrase: 椰子鸡\n",
      "- {'main_ingredient': ['鸡'], 'id': 92, 'food_name': '椰子鸡', 'food_location': '餐馆', 'food_file': '14456664_all_202404292352223293/92_IMG_20240324_123004.jpg'}\n",
      "- {'main_ingredient': ['鸡'], 'id': 183, 'food_name': '椰子鸡', 'food_location': '餐馆', 'food_file': '14456664_all_202404292352223293/183_16996007-8E0A-44BD-AAED-49AEBD606CAB.jpeg'}\n",
      "\n",
      "Phrase: 臭鳜鱼\n",
      "- {'main_ingredient': ['鱼'], 'id': 122, 'food_name': '黄山臭鳜鱼', 'food_type': '徽菜 （安徽）', 'food_location': '餐馆', 'food_file': '14456664_all_202404292352223293/122_IMG_20240330_124857.jpg'}\n",
      "- {'main_ingredient': ['鱼'], 'id': 157, 'food_name': '臭鳜鱼', 'food_type': '徽菜 （安徽）', 'food_location': '餐馆', 'food_file': '14456664_all_202404292352223293/157_6C2A7548-345C-4766-B2AA-F18E6ABDEB50.jpeg'}\n",
      "\n",
      "Phrase: 烤肉\n",
      "- {'main_ingredient': ['肉'], 'id': 136, 'food_name': '新疆烤馕和烤肉', 'food_type': '新疆菜', 'food_location': '餐馆', 'food_file': '14456664_all_202404292352223293/136_IMG_20220709_233905.jpg'}\n",
      "- {'main_ingredient': ['肉'], 'id': 181, 'food_name': '烤肉', 'food_location': '餐馆', 'food_file': '14456664_all_202404292352223293/181_DA2CA2F0-BD8A-44FD-A111-6EA7731DFE43.jpeg'}\n",
      "\n",
      "Phrase: 新疆大盘鸡\n",
      "- {'main_ingredient': ['鸡'], 'id': 137, 'food_name': '新疆大盘鸡', 'food_type': '新疆菜', 'food_location': '餐馆', 'food_file': '14456664_all_202404292352223293/137_IMG_20220717_143941.jpg'}\n",
      "- {'main_ingredient': ['鸡'], 'id': 141, 'food_name': '新疆大盘鸡', 'food_type': '新疆菜', 'food_location': '餐馆', 'food_file': '14456664_all_202404292352223293/141_IMG_1724.jpg'}\n",
      "\n",
      "Phrase: 鸡蛋肠粉\n",
      "- {'main_ingredient': ['鸡', '蛋'], 'id': 153, 'food_name': '鸡蛋肠粉', 'food_type': '粤菜（广东等地）', 'food_location': '餐馆', 'food_file': '14456664_all_202404292352223293/153_IMG_20240411_102841.jpg'}\n",
      "- {'main_ingredient': ['鸡', '蛋'], 'id': 155, 'food_name': '鸡蛋肠粉', 'food_type': '粤菜（广东等地）', 'food_location': '餐馆', 'food_file': '14456664_all_202404292352223293/155_IMG_20240403_094547.jpg'}\n",
      "\n"
     ]
    }
   ],
   "source": [
    "\n",
    "result = extract_overlapped_phrases(survey1_dict, \"food_name\")\n",
    "for phrase, items in result.items():\n",
    "    print(f\"Phrase: {phrase}\")\n",
    "    for item in items:\n",
    "        print(f\"- {item}\")\n",
    "    print()"
   ]
  },
  {
   "cell_type": "code",
   "execution_count": null,
   "metadata": {},
   "outputs": [],
   "source": []
  },
  {
   "cell_type": "code",
   "execution_count": null,
   "metadata": {},
   "outputs": [],
   "source": []
  }
 ],
 "metadata": {
  "kernelspec": {
   "display_name": "dl",
   "language": "python",
   "name": "python3"
  },
  "language_info": {
   "codemirror_mode": {
    "name": "ipython",
    "version": 3
   },
   "file_extension": ".py",
   "mimetype": "text/x-python",
   "name": "python",
   "nbconvert_exporter": "python",
   "pygments_lexer": "ipython3",
   "version": "3.8.10"
  }
 },
 "nbformat": 4,
 "nbformat_minor": 2
}
