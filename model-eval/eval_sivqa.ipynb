{
 "cells": [
  {
   "cell_type": "code",
   "execution_count": 3,
   "metadata": {},
   "outputs": [],
   "source": [
    "## load vqa questions\n",
    "import json\n",
    "import os\n",
    "\n",
    "\n",
    "data_dir = \"/scratch3/wenyan/data/foodie\""
   ]
  },
  {
   "cell_type": "code",
   "execution_count": 4,
   "metadata": {},
   "outputs": [],
   "source": [
    "question_file = os.path.join(data_dir, \"sivqa_filtered.json\")\n",
    "with open(question_file, 'r') as f:\n",
    "    sivqa = json.load(f)"
   ]
  },
  {
   "cell_type": "code",
   "execution_count": 5,
   "metadata": {},
   "outputs": [
    {
     "data": {
      "text/plain": [
       "{'question': '图片中的食物通常属于哪个菜系?',\n",
       " 'choices': ['京菜', '徽菜', '新疆菜', '桂菜'],\n",
       " 'answer': '2',\n",
       " 'question_type': 'cuisine_type',\n",
       " 'food_name': '烤羊肉串',\n",
       " 'question_id': 'vqa-0',\n",
       " 'food_meta': {'main_ingredient': ['肉', '羊'],\n",
       "  'id': 217,\n",
       "  'food_name': '烤羊肉串',\n",
       "  'food_type': '新疆菜',\n",
       "  'food_location': '餐馆',\n",
       "  'food_file': '14456664_all_202404292352223293/217_IMG_3854.jpeg'}}"
      ]
     },
     "execution_count": 5,
     "metadata": {},
     "output_type": "execute_result"
    }
   ],
   "source": [
    "sivqa[0]"
   ]
  },
  {
   "cell_type": "code",
   "execution_count": 34,
   "metadata": {},
   "outputs": [],
   "source": [
    "# Human: {question} Here are the options: {options} Assistant: If had to select one of the options, my answer would be (\n",
    "def format_choices(choices, template=0):\n",
    "    idx2choice = {0:\"A\", 1:\"B\", 2:\"C\", 3:\"D\"}\n",
    "    choices_str = ''\n",
    "    for idx, choice in enumerate(choices):\n",
    "        choices_str += \"（{}) {}\\n\".format(idx2choice[idx], choice.strip())\n",
    "    return choices_str\n",
    "    \n",
    "def get_prompt_qwen(question, data_dir, template=0):\n",
    "    q = question[\"question\"].strip()\n",
    "    img = question[\"food_meta\"][\"food_file\"]\n",
    "    choices = question[\"choices\"]\n",
    "    choices_str = format_choices(choices)\n",
    "    # print(choices_str)\n",
    "    \n",
    "    query_list = [{\"image\": os.path.join(data_dir, img)}]\n",
    "    if template == 0:\n",
    "        query_list.append({\"text\": \"{} 选项有: {}, 从所提供的选项中选择一个正答案，为（\".format(q, choices_str)})\n",
    "    if template == 1:\n",
    "        query_list.append({\"text\": \"{} 选项有: {}, 从所提供的选项中选择一个正答案，为（\".format(q, choices_str)})\n",
    "    return query_list"
   ]
  },
  {
   "cell_type": "code",
   "execution_count": 35,
   "metadata": {},
   "outputs": [],
   "source": [
    "query_list = get_prompt_qwen(sivqa[0], data_dir)"
   ]
  },
  {
   "cell_type": "code",
   "execution_count": 36,
   "metadata": {},
   "outputs": [
    {
     "name": "stdout",
     "output_type": "stream",
     "text": [
      "[{'image': '/scratch3/wenyan/data/foodie/14456664_all_202404292352223293/217_IMG_3854.jpeg'}, {'text': '图片中的食物通常属于哪个菜系? 选项有: （A) 京菜\\n（B) 徽菜\\n（C) 新疆菜\\n（D) 桂菜\\n, 从所提供的选项中选择一个正答案，为（'}]\n"
     ]
    }
   ],
   "source": [
    "print(query_list)"
   ]
  },
  {
   "cell_type": "code",
   "execution_count": null,
   "metadata": {},
   "outputs": [],
   "source": []
  }
 ],
 "metadata": {
  "kernelspec": {
   "display_name": "dl",
   "language": "python",
   "name": "python3"
  },
  "language_info": {
   "codemirror_mode": {
    "name": "ipython",
    "version": 3
   },
   "file_extension": ".py",
   "mimetype": "text/x-python",
   "name": "python",
   "nbconvert_exporter": "python",
   "pygments_lexer": "ipython3",
   "version": "3.9.19"
  }
 },
 "nbformat": 4,
 "nbformat_minor": 2
}
