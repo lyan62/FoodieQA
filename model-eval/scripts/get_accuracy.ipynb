{
 "cells": [
  {
   "cell_type": "markdown",
   "metadata": {},
   "source": [
    "### get accuracy of sivqa evaluation"
   ]
  },
  {
   "cell_type": "markdown",
   "metadata": {},
   "source": [
    "idefics2 model"
   ]
  },
  {
   "cell_type": "code",
   "execution_count": 5,
   "metadata": {},
   "outputs": [
    {
     "name": "stdout",
     "output_type": "stream",
     "text": [
      "Collecting scikit-learn\n",
      "  Using cached scikit_learn-1.5.0-cp312-cp312-manylinux_2_17_x86_64.manylinux2014_x86_64.whl.metadata (11 kB)\n",
      "Collecting numpy>=1.19.5 (from scikit-learn)\n",
      "  Downloading numpy-1.26.4-cp312-cp312-manylinux_2_17_x86_64.manylinux2014_x86_64.whl.metadata (61 kB)\n",
      "\u001b[2K     \u001b[90m━━━━━━━━━━━━━━━━━━━━━━━━━━━━━━━━━━━━━━━━\u001b[0m \u001b[32m61.0/61.0 kB\u001b[0m \u001b[31m3.0 MB/s\u001b[0m eta \u001b[36m0:00:00\u001b[0m\n",
      "\u001b[?25hCollecting scipy>=1.6.0 (from scikit-learn)\n",
      "  Using cached scipy-1.13.1-cp312-cp312-manylinux_2_17_x86_64.manylinux2014_x86_64.whl.metadata (60 kB)\n",
      "Collecting joblib>=1.2.0 (from scikit-learn)\n",
      "  Using cached joblib-1.4.2-py3-none-any.whl.metadata (5.4 kB)\n",
      "Collecting threadpoolctl>=3.1.0 (from scikit-learn)\n",
      "  Using cached threadpoolctl-3.5.0-py3-none-any.whl.metadata (13 kB)\n",
      "Using cached scikit_learn-1.5.0-cp312-cp312-manylinux_2_17_x86_64.manylinux2014_x86_64.whl (13.1 MB)\n",
      "Using cached joblib-1.4.2-py3-none-any.whl (301 kB)\n",
      "Downloading numpy-1.26.4-cp312-cp312-manylinux_2_17_x86_64.manylinux2014_x86_64.whl (18.0 MB)\n",
      "\u001b[2K   \u001b[90m━━━━━━━━━━━━━━━━━━━━━━━━━━━━━━━━━━━━━━━━\u001b[0m \u001b[32m18.0/18.0 MB\u001b[0m \u001b[31m170.8 MB/s\u001b[0m eta \u001b[36m0:00:00\u001b[0m00:01\u001b[0m0:01\u001b[0m\n",
      "\u001b[?25hUsing cached scipy-1.13.1-cp312-cp312-manylinux_2_17_x86_64.manylinux2014_x86_64.whl (38.2 MB)\n",
      "Using cached threadpoolctl-3.5.0-py3-none-any.whl (18 kB)\n",
      "Installing collected packages: threadpoolctl, numpy, joblib, scipy, scikit-learn\n",
      "Successfully installed joblib-1.4.2 numpy-1.26.4 scikit-learn-1.5.0 scipy-1.13.1 threadpoolctl-3.5.0\n"
     ]
    }
   ],
   "source": [
    "! pip install scikit-learn"
   ]
  },
  {
   "cell_type": "code",
   "execution_count": 1,
   "metadata": {},
   "outputs": [],
   "source": [
    "import utils, sivqa_utils\n",
    "import os \n",
    "import json\n",
    "from sklearn.metrics import accuracy_score\n",
    "import re\n",
    "import random"
   ]
  },
  {
   "cell_type": "code",
   "execution_count": 2,
   "metadata": {},
   "outputs": [],
   "source": [
    "# result_dir = \"/scratch3/wenyan/data/foodie/results\"\n",
    "result_dir = \"/scratch/project/dd-23-107/wenyan/data/foodie/results\""
   ]
  },
  {
   "cell_type": "code",
   "execution_count": 3,
   "metadata": {},
   "outputs": [],
   "source": [
    "# sivqa = sivqa_utils.read_sivqa(\"/scratch3/wenyan/data/foodie\")\n",
    "sivqa = sivqa_utils.read_sivqa(\"/scratch/project/dd-23-107/wenyan/data/foodie/\")"
   ]
  },
  {
   "cell_type": "markdown",
   "metadata": {},
   "source": [
    "### eval mantis accuracy"
   ]
  },
  {
   "cell_type": "code",
   "execution_count": 3,
   "metadata": {},
   "outputs": [],
   "source": [
    "data = []\n",
    "with open(os.path.join(result_dir, \"sivqa_mantis_prompt3.jsonl\"), \"r\", encoding='utf-8') as f:\n",
    "    for line in f:\n",
    "        data.append(json.loads(line))"
   ]
  },
  {
   "cell_type": "code",
   "execution_count": 29,
   "metadata": {},
   "outputs": [],
   "source": [
    "\n",
    "ans2idx = {\n",
    "        \"A\":\"0\",\n",
    "        \"B\":\"1\",\n",
    "        \"C\":\"2\",\n",
    "        \"D\":\"3\"\n",
    "        }\n",
    "\n",
    "def parse_res(res):\n",
    "    ans_str = res[\"response\"][0].split(\"\\nAssistant:\")[-1].strip()\n",
    "    ans_letter = re.findall(r'[A-Z]', ans_str)\n",
    "    if not ans_letter or len(ans_letter) == 0:\n",
    "        print(\"can not parse ans for res: \", res)\n",
    "        return random.choice([\"0\", \"1\", \"2\", \"3\"])\n",
    "    else:\n",
    "        ans = ans_letter[0].upper()\n",
    "        if ans not in ans2idx:\n",
    "            print(\"can not parse ans for res: \", res)\n",
    "            return random.choice([\"0\", \"1\", \"2\", \"3\"])\n",
    "        else:\n",
    "            return ans2idx[ans]\n"
   ]
  },
  {
   "cell_type": "code",
   "execution_count": 31,
   "metadata": {},
   "outputs": [
    {
     "data": {
      "text/plain": [
       "{'response': ['User: 图片中的食物通常属于哪个菜系? 这是选项: （A) 京菜\\n（B) 徽菜\\n（C) 新疆菜\\n（D) 桂菜\\n 请根据上图从所提供的选项中选择一个正确答案。 \\nAssistant: 我选择（ \\nAssistant:B'],\n",
       " 'qid': 'vqa-0'}"
      ]
     },
     "execution_count": 31,
     "metadata": {},
     "output_type": "execute_result"
    }
   ],
   "source": [
    "data[0]"
   ]
  },
  {
   "cell_type": "code",
   "execution_count": 30,
   "metadata": {},
   "outputs": [
    {
     "name": "stdout",
     "output_type": "stream",
     "text": [
      "0.40234375\n"
     ]
    }
   ],
   "source": [
    "gts = [s[\"answer\"] for s in sivqa]\n",
    "answers = [parse_res(d) for d in data]\n",
    "accuracy = accuracy_score(gts, answers)\n",
    "print(accuracy)"
   ]
  },
  {
   "cell_type": "markdown",
   "metadata": {},
   "source": [
    "get qwen accuracy"
   ]
  },
  {
   "cell_type": "code",
   "execution_count": 28,
   "metadata": {},
   "outputs": [],
   "source": [
    "data = []\n",
    "with open(os.path.join(result_dir, \"sivqa_qwen_prompt2.jsonl\"), \"r\", encoding='utf-8') as f:\n",
    "    for line in f:\n",
    "        data.append(json.loads(line))"
   ]
  },
  {
   "cell_type": "code",
   "execution_count": 29,
   "metadata": {},
   "outputs": [
    {
     "data": {
      "text/plain": [
       "'Picture 1:<img>/scratch3/wenyan/data/foodie/14456664_all_202404292352223293/217_IMG_3854.jpeg</img>\\n用户：你是一个智能助手，现在请看图回答以下选择题：图片中的食物通常属于哪个菜系? 选项有: （A) 京菜\\n（B) 徽菜\\n（C) 新疆菜\\n（D) 桂菜\\n智能助手：我从所提供的选项中选择一个正确答案，为（C) 新疆菜。<|endoftext|>'"
      ]
     },
     "execution_count": 29,
     "metadata": {},
     "output_type": "execute_result"
    }
   ],
   "source": [
    "data[0][\"response\"]#.split(\"为\")[-1].strip()"
   ]
  },
  {
   "cell_type": "code",
   "execution_count": 30,
   "metadata": {},
   "outputs": [],
   "source": [
    "\n",
    "ans2idx = {\n",
    "        \"A\":\"0\",\n",
    "        \"B\":\"1\",\n",
    "        \"C\":\"2\",\n",
    "        \"D\":\"3\"\n",
    "        }\n",
    "\n",
    "def parse_res(res, template=0):\n",
    "    if template == 0 or template ==1 or template == 3:\n",
    "        ans_str = res[\"response\"].split(\"选择一个正确答案，\")[1].strip()\n",
    "    ans_letter = re.findall(r'([A-Z])', ans_str)\n",
    "    if not ans_letter or len(ans_letter) == 0:\n",
    "        print(\"can not parse ans for res: \", res)\n",
    "        return random.choice([\"0\", \"1\", \"2\", \"3\"])\n",
    "    else:\n",
    "        ans = ans_letter[0].upper()\n",
    "        if ans not in ans2idx:\n",
    "            print(\"can not parse ans for res: \", res)\n",
    "            return random.choice([\"0\", \"1\", \"2\", \"3\"])\n",
    "        else:\n",
    "            return ans2idx[ans]\n"
   ]
  },
  {
   "cell_type": "code",
   "execution_count": 31,
   "metadata": {},
   "outputs": [
    {
     "data": {
      "text/plain": [
       "'2'"
      ]
     },
     "execution_count": 31,
     "metadata": {},
     "output_type": "execute_result"
    }
   ],
   "source": [
    "parse_res(data[0])"
   ]
  },
  {
   "cell_type": "code",
   "execution_count": 11,
   "metadata": {},
   "outputs": [],
   "source": [
    "def get_accuracy(data, sivqa, template=0):\n",
    "    gts = [s[\"answer\"] for s in sivqa]\n",
    "    answers = [parse_res(d, template=template) for d in data]\n",
    "    accuracy = accuracy_score(gts, answers)\n",
    "    print(accuracy)"
   ]
  },
  {
   "cell_type": "code",
   "execution_count": 33,
   "metadata": {},
   "outputs": [
    {
     "name": "stdout",
     "output_type": "stream",
     "text": [
      "0.48828125\n"
     ]
    }
   ],
   "source": [
    "get_accuracy(data, sivqa, template=0)"
   ]
  },
  {
   "cell_type": "markdown",
   "metadata": {},
   "source": [
    "### eval yi-vl accuracy"
   ]
  },
  {
   "cell_type": "code",
   "execution_count": 4,
   "metadata": {},
   "outputs": [],
   "source": [
    "data = []\n",
    "with open(os.path.join(result_dir, \"sivqa_yi-vl_prompt3.jsonl\"), \"r\", encoding='utf-8') as f:\n",
    "    for line in f:\n",
    "        data.append(json.loads(line))"
   ]
  },
  {
   "cell_type": "code",
   "execution_count": 13,
   "metadata": {},
   "outputs": [
    {
     "data": {
      "text/plain": [
       "[{'response': 'B', 'qid': 'vqa-13'},\n",
       " {'response': 'C) 咸鲜', 'qid': 'vqa-14'},\n",
       " {'response': '徽菜', 'qid': 'vqa-16'},\n",
       " {'response': 'C', 'qid': 'vqa-17'},\n",
       " {'response': 'C', 'qid': 'vqa-18'},\n",
       " {'response': '宁波', 'qid': 'vqa-19'},\n",
       " {'response': 'D', 'qid': 'vqa-21'},\n",
       " {'response': 'D', 'qid': 'vqa-22'},\n",
       " {'response': '(A) 湘菜', 'qid': 'vqa-23'},\n",
       " {'response': 'D', 'qid': 'vqa-24'}]"
      ]
     },
     "execution_count": 13,
     "metadata": {},
     "output_type": "execute_result"
    }
   ],
   "source": [
    "data[10:20]"
   ]
  },
  {
   "cell_type": "code",
   "execution_count": 8,
   "metadata": {},
   "outputs": [],
   "source": [
    "\n",
    "ans2idx = {\n",
    "        \"A\":\"0\",\n",
    "        \"B\":\"1\",\n",
    "        \"C\":\"2\",\n",
    "        \"D\":\"3\"\n",
    "        }\n",
    "\n",
    "def parse_res(res, template=0):\n",
    "    ans_str = res[\"response\"].strip()\n",
    "    ans_letter = re.findall(r'[A-Z]', ans_str)\n",
    "    if not ans_letter or len(ans_letter) == 0:\n",
    "        print(\"can not parse ans for res: \", res)\n",
    "        return random.choice([\"0\", \"1\", \"2\", \"3\"])\n",
    "    else:\n",
    "        ans = ans_letter[0].upper()\n",
    "        if ans not in ans2idx:\n",
    "            print(\"can not parse ans for res: \", res)\n",
    "            return random.choice([\"0\", \"1\", \"2\", \"3\"])\n",
    "        else:\n",
    "            return ans2idx[ans]\n"
   ]
  },
  {
   "cell_type": "code",
   "execution_count": 12,
   "metadata": {},
   "outputs": [
    {
     "name": "stdout",
     "output_type": "stream",
     "text": [
      "can not parse ans for res:  {'response': '京菜', 'qid': 'vqa-10'}\n",
      "can not parse ans for res:  {'response': '徽菜', 'qid': 'vqa-16'}\n",
      "can not parse ans for res:  {'response': '宁波', 'qid': 'vqa-19'}\n",
      "can not parse ans for res:  {'response': '广东', 'qid': 'vqa-28'}\n",
      "can not parse ans for res:  {'response': '客家', 'qid': 'vqa-34'}\n",
      "can not parse ans for res:  {'response': '川渝', 'qid': 'vqa-36'}\n",
      "can not parse ans for res:  {'response': '东北', 'qid': 'vqa-50'}\n",
      "can not parse ans for res:  {'response': '南方', 'qid': 'vqa-57'}\n",
      "can not parse ans for res:  {'response': '台州', 'qid': 'vqa-58'}\n",
      "can not parse ans for res:  {'response': '贵州', 'qid': 'vqa-60'}\n",
      "can not parse ans for res:  {'response': '粤菜', 'qid': 'vqa-61'}\n",
      "can not parse ans for res:  {'response': '四川', 'qid': 'vqa-70'}\n",
      "can not parse ans for res:  {'response': '川菜', 'qid': 'vqa-85'}\n",
      "can not parse ans for res:  {'response': '粤', 'qid': 'vqa-92'}\n",
      "can not parse ans for res:  {'response': '川菜', 'qid': 'vqa-93'}\n",
      "can not parse ans for res:  {'response': '川菜', 'qid': 'vqa-96'}\n",
      "can not parse ans for res:  {'response': '蒸', 'qid': 'vqa-103'}\n",
      "can not parse ans for res:  {'response': '浙江', 'qid': 'vqa-112'}\n",
      "can not parse ans for res:  {'response': '新疆', 'qid': 'vqa-120'}\n",
      "can not parse ans for res:  {'response': '粤', 'qid': 'vqa-125'}\n",
      "can not parse ans for res:  {'response': '川菜', 'qid': 'vqa-160'}\n",
      "can not parse ans for res:  {'response': '错误', 'qid': 'vqa-175'}\n",
      "can not parse ans for res:  {'response': '客家菜', 'qid': 'vqa-183'}\n",
      "can not parse ans for res:  {'response': '川菜', 'qid': 'vqa-190'}\n",
      "can not parse ans for res:  {'response': '客家菜', 'qid': 'vqa-193'}\n",
      "can not parse ans for res:  {'response': '湖南', 'qid': 'vqa-199'}\n",
      "can not parse ans for res:  {'response': '广东', 'qid': 'vqa-210'}\n",
      "can not parse ans for res:  {'response': '潮汕菜', 'qid': 'vqa-230'}\n",
      "can not parse ans for res:  {'response': '东北菜', 'qid': 'vqa-233'}\n",
      "can not parse ans for res:  {'response': '蒸', 'qid': 'vqa-247'}\n",
      "can not parse ans for res:  {'response': '重庆', 'qid': 'vqa-249'}\n",
      "can not parse ans for res:  {'response': '东北菜', 'qid': 'vqa-255'}\n",
      "can not parse ans for res:  {'response': '福建', 'qid': 'vqa-298'}\n",
      "can not parse ans for res:  {'response': '川菜', 'qid': 'vqa-305'}\n",
      "can not parse ans for res:  {'response': '双层铜锅', 'qid': 'vqa-307'}\n",
      "can not parse ans for res:  {'response': '北京', 'qid': 'vqa-326'}\n",
      "0.4609375\n"
     ]
    }
   ],
   "source": [
    "get_accuracy(data, sivqa, template=3)"
   ]
  },
  {
   "cell_type": "code",
   "execution_count": null,
   "metadata": {},
   "outputs": [
    {
     "name": "stdout",
     "output_type": "stream",
     "text": [
      "0.48046875\n"
     ]
    }
   ],
   "source": [
    "get_accuracy(data, sivqa, template=1)"
   ]
  },
  {
   "cell_type": "code",
   "execution_count": 7,
   "metadata": {},
   "outputs": [
    {
     "ename": "NameError",
     "evalue": "name 'get_accuracy' is not defined",
     "output_type": "error",
     "traceback": [
      "\u001b[0;31m---------------------------------------------------------------------------\u001b[0m",
      "\u001b[0;31mNameError\u001b[0m                                 Traceback (most recent call last)",
      "Cell \u001b[0;32mIn[7], line 1\u001b[0m\n\u001b[0;32m----> 1\u001b[0m \u001b[43mget_accuracy\u001b[49m(data, sivqa, template\u001b[38;5;241m=\u001b[39m\u001b[38;5;241m2\u001b[39m)\n",
      "\u001b[0;31mNameError\u001b[0m: name 'get_accuracy' is not defined"
     ]
    }
   ],
   "source": [
    "get_accuracy(data, sivqa, template=2)"
   ]
  },
  {
   "cell_type": "code",
   "execution_count": 18,
   "metadata": {},
   "outputs": [
    {
     "name": "stdout",
     "output_type": "stream",
     "text": [
      "can not parse ans for res:  {'response': '新疆菜', 'qid': 'vqa-0'}\n",
      "can not parse ans for res:  {'response': '川渝', 'qid': 'vqa-6'}\n",
      "can not parse ans for res:  {'response': '香港', 'qid': 'vqa-8'}\n",
      "can not parse ans for res:  {'response': '鲜甜', 'qid': 'vqa-9'}\n",
      "can not parse ans for res:  {'response': '赣菜', 'qid': 'vqa-10'}\n",
      "can not parse ans for res:  {'response': '氽', 'qid': 'vqa-13'}\n",
      "can not parse ans for res:  {'response': '徽菜', 'qid': 'vqa-16'}\n",
      "can not parse ans for res:  {'response': '香港', 'qid': 'vqa-18'}\n",
      "can not parse ans for res:  {'response': '宁波', 'qid': 'vqa-19'}\n",
      "can not parse ans for res:  {'response': '西北菜', 'qid': 'vqa-21'}\n",
      "can not parse ans for res:  {'response': '北京', 'qid': 'vqa-22'}\n",
      "can not parse ans for res:  {'response': '川菜', 'qid': 'vqa-24'}\n",
      "can not parse ans for res:  {'response': '潮汕菜', 'qid': 'vqa-26'}\n",
      "can not parse ans for res:  {'response': '客家', 'qid': 'vqa-28'}\n",
      "can not parse ans for res:  {'response': '炒', 'qid': 'vqa-30'}\n",
      "can not parse ans for res:  {'response': '客家', 'qid': 'vqa-34'}\n",
      "can not parse ans for res:  {'response': '川渝', 'qid': 'vqa-36'}\n",
      "can not parse ans for res:  {'response': '鱼', 'qid': 'vqa-41'}\n",
      "can not parse ans for res:  {'response': '粤菜', 'qid': 'vqa-42'}\n",
      "can not parse ans for res:  {'response': '麻', 'qid': 'vqa-46'}\n",
      "can not parse ans for res:  {'response': '徽州', 'qid': 'vqa-50'}\n",
      "can not parse ans for res:  {'response': '鲁菜', 'qid': 'vqa-51'}\n",
      "can not parse ans for res:  {'response': '煮', 'qid': 'vqa-52'}\n",
      "can not parse ans for res:  {'response': '粤菜', 'qid': 'vqa-55'}\n",
      "can not parse ans for res:  {'response': '浙江', 'qid': 'vqa-57'}\n",
      "can not parse ans for res:  {'response': '江西', 'qid': 'vqa-58'}\n",
      "can not parse ans for res:  {'response': '贵州', 'qid': 'vqa-60'}\n",
      "can not parse ans for res:  {'response': '粤菜', 'qid': 'vqa-61'}\n",
      "can not parse ans for res:  {'response': '甜辣', 'qid': 'vqa-62'}\n",
      "can not parse ans for res:  {'response': '广东', 'qid': 'vqa-63'}\n",
      "can not parse ans for res:  {'response': '粤菜', 'qid': 'vqa-66'}\n",
      "can not parse ans for res:  {'response': '南方', 'qid': 'vqa-67'}\n",
      "can not parse ans for res:  {'response': '蒸', 'qid': 'vqa-68'}\n",
      "can not parse ans for res:  {'response': '四川', 'qid': 'vqa-70'}\n",
      "can not parse ans for res:  {'response': '食物通常有辣味。', 'qid': 'vqa-73'}\n",
      "can not parse ans for res:  {'response': '新疆菜', 'qid': 'vqa-78'}\n",
      "can not parse ans for res:  {'response': '香港', 'qid': 'vqa-79'}\n",
      "can not parse ans for res:  {'response': '川菜', 'qid': 'vqa-80'}\n",
      "can not parse ans for res:  {'response': '西北菜', 'qid': 'vqa-81'}\n",
      "can not parse ans for res:  {'response': '川菜', 'qid': 'vqa-85'}\n",
      "can not parse ans for res:  {'response': '猪里脊', 'qid': 'vqa-87'}\n",
      "can not parse ans for res:  {'response': '粤', 'qid': 'vqa-92'}\n",
      "can not parse ans for res:  {'response': '川菜', 'qid': 'vqa-93'}\n",
      "can not parse ans for res:  {'response': '湖南', 'qid': 'vqa-94'}\n",
      "can not parse ans for res:  {'response': '淮扬菜', 'qid': 'vqa-96'}\n",
      "can not parse ans for res:  {'response': '蒸', 'qid': 'vqa-99'}\n",
      "can not parse ans for res:  {'response': '粤菜', 'qid': 'vqa-104'}\n",
      "can not parse ans for res:  {'response': '炒', 'qid': 'vqa-105'}\n",
      "can not parse ans for res:  {'response': '新疆', 'qid': 'vqa-107'}\n",
      "can not parse ans for res:  {'response': '山东', 'qid': 'vqa-109'}\n",
      "can not parse ans for res:  {'response': '浙江', 'qid': 'vqa-112'}\n",
      "can not parse ans for res:  {'response': '湘菜', 'qid': 'vqa-114'}\n",
      "can not parse ans for res:  {'response': '食物在图像中烹饪,这表明它可能需要烹饪,如烤或烤。然而,没有更多的信息或视觉提示,很难确定准确的烹饪方法。', 'qid': 'vqa-118'}\n",
      "can not parse ans for res:  {'response': '川渝', 'qid': 'vqa-119'}\n",
      "can not parse ans for res:  {'response': '苏菜', 'qid': 'vqa-120'}\n",
      "can not parse ans for res:  {'response': '浙菜', 'qid': 'vqa-122'}\n",
      "can not parse ans for res:  {'response': '粤', 'qid': 'vqa-125'}\n",
      "can not parse ans for res:  {'response': '淮扬菜', 'qid': 'vqa-129'}\n",
      "can not parse ans for res:  {'response': '新疆', 'qid': 'vqa-137'}\n",
      "can not parse ans for res:  {'response': '川菜', 'qid': 'vqa-139'}\n",
      "can not parse ans for res:  {'response': '闽菜', 'qid': 'vqa-140'}\n",
      "can not parse ans for res:  {'response': '川菜', 'qid': 'vqa-141'}\n",
      "can not parse ans for res:  {'response': '广东', 'qid': 'vqa-142'}\n",
      "can not parse ans for res:  {'response': '新疆', 'qid': 'vqa-145'}\n",
      "can not parse ans for res:  {'response': '四川', 'qid': 'vqa-150'}\n",
      "can not parse ans for res:  {'response': '川菜', 'qid': 'vqa-153'}\n",
      "can not parse ans for res:  {'response': '蒸', 'qid': 'vqa-154'}\n",
      "can not parse ans for res:  {'response': '浙江', 'qid': 'vqa-155'}\n",
      "can not parse ans for res:  {'response': '广东', 'qid': 'vqa-158'}\n",
      "can not parse ans for res:  {'response': '烹饪', 'qid': 'vqa-170'}\n",
      "can not parse ans for res:  {'response': '食物在烹饪过程中通常需要烤。', 'qid': 'vqa-171'}\n",
      "can not parse ans for res:  {'response': '淮扬菜', 'qid': 'vqa-175'}\n",
      "can not parse ans for res:  {'response': '广东', 'qid': 'vqa-176'}\n",
      "can not parse ans for res:  {'response': '广东', 'qid': 'vqa-177'}\n",
      "can not parse ans for res:  {'response': '福建', 'qid': 'vqa-178'}\n",
      "can not parse ans for res:  {'response': '鲁菜', 'qid': 'vqa-179'}\n",
      "can not parse ans for res:  {'response': '四川', 'qid': 'vqa-182'}\n",
      "can not parse ans for res:  {'response': '赣菜 (客家菜）', 'qid': 'vqa-183'}\n",
      "can not parse ans for res:  {'response': '炸', 'qid': 'vqa-189'}\n",
      "can not parse ans for res:  {'response': '川菜', 'qid': 'vqa-190'}\n",
      "can not parse ans for res:  {'response': '赣菜 (客家菜）', 'qid': 'vqa-193'}\n",
      "can not parse ans for res:  {'response': '四川', 'qid': 'vqa-197'}\n",
      "can not parse ans for res:  {'response': '湖南', 'qid': 'vqa-199'}\n",
      "can not parse ans for res:  {'response': '西北菜', 'qid': 'vqa-202'}\n",
      "can not parse ans for res:  {'response': '贵州', 'qid': 'vqa-203'}\n",
      "can not parse ans for res:  {'response': '粤菜', 'qid': 'vqa-205'}\n",
      "can not parse ans for res:  {'response': '蒸', 'qid': 'vqa-206'}\n",
      "can not parse ans for res:  {'response': '香', 'qid': 'vqa-213'}\n",
      "can not parse ans for res:  {'response': '台州', 'qid': 'vqa-214'}\n",
      "can not parse ans for res:  {'response': '赣菜', 'qid': 'vqa-216'}\n",
      "can not parse ans for res:  {'response': '粤菜', 'qid': 'vqa-218'}\n",
      "can not parse ans for res:  {'response': '新疆', 'qid': 'vqa-225'}\n",
      "can not parse ans for res:  {'response': '川菜', 'qid': 'vqa-229'}\n",
      "can not parse ans for res:  {'response': '潮汕菜', 'qid': 'vqa-230'}\n",
      "can not parse ans for res:  {'response': '川菜', 'qid': 'vqa-231'}\n",
      "can not parse ans for res:  {'response': '东北菜', 'qid': 'vqa-233'}\n",
      "can not parse ans for res:  {'response': '广西', 'qid': 'vqa-245'}\n",
      "can not parse ans for res:  {'response': '烤', 'qid': 'vqa-247'}\n",
      "can not parse ans for res:  {'response': '炸', 'qid': 'vqa-251'}\n",
      "can not parse ans for res:  {'response': '东北菜', 'qid': 'vqa-255'}\n",
      "can not parse ans for res:  {'response': '粤菜', 'qid': 'vqa-256'}\n",
      "can not parse ans for res:  {'response': '东北菜', 'qid': 'vqa-262'}\n",
      "can not parse ans for res:  {'response': '福建', 'qid': 'vqa-267'}\n",
      "can not parse ans for res:  {'response': '请提供更多关于图像中食物类型的信息。', 'qid': 'vqa-270'}\n",
      "can not parse ans for res:  {'response': '甜', 'qid': 'vqa-273'}\n",
      "can not parse ans for res:  {'response': '东北菜', 'qid': 'vqa-276'}\n",
      "can not parse ans for res:  {'response': '新疆', 'qid': 'vqa-278'}\n",
      "can not parse ans for res:  {'response': '鱼', 'qid': 'vqa-281'}\n",
      "can not parse ans for res:  {'response': '烹饪过程中必不可少的步骤是炒。', 'qid': 'vqa-285'}\n",
      "can not parse ans for res:  {'response': '东北', 'qid': 'vqa-286'}\n",
      "can not parse ans for res:  {'response': '蒸', 'qid': 'vqa-297'}\n",
      "can not parse ans for res:  {'response': '福建', 'qid': 'vqa-298'}\n",
      "can not parse ans for res:  {'response': '东北', 'qid': 'vqa-299'}\n",
      "can not parse ans for res:  {'response': '江南', 'qid': 'vqa-301'}\n",
      "can not parse ans for res:  {'response': '宁波', 'qid': 'vqa-304'}\n",
      "can not parse ans for res:  {'response': '双层铜锅', 'qid': 'vqa-307'}\n",
      "can not parse ans for res:  {'response': '新疆', 'qid': 'vqa-308'}\n",
      "can not parse ans for res:  {'response': '粤菜', 'qid': 'vqa-309'}\n",
      "can not parse ans for res:  {'response': '新疆', 'qid': 'vqa-318'}\n",
      "can not parse ans for res:  {'response': '川菜', 'qid': 'vqa-320'}\n",
      "can not parse ans for res:  {'response': '东北', 'qid': 'vqa-323'}\n",
      "can not parse ans for res:  {'response': '广东', 'qid': 'vqa-324'}\n",
      "can not parse ans for res:  {'response': '北京', 'qid': 'vqa-326'}\n",
      "can not parse ans for res:  {'response': '香港', 'qid': 'vqa-328'}\n",
      "can not parse ans for res:  {'response': '新疆', 'qid': 'vqa-332'}\n",
      "can not parse ans for res:  {'response': '广东', 'qid': 'vqa-333'}\n",
      "0.41015625\n"
     ]
    }
   ],
   "source": [
    "get_accuracy(data, sivqa, template=3)"
   ]
  },
  {
   "cell_type": "code",
   "execution_count": null,
   "metadata": {},
   "outputs": [],
   "source": []
  }
 ],
 "metadata": {
  "kernelspec": {
   "display_name": "dl",
   "language": "python",
   "name": "python3"
  },
  "language_info": {
   "codemirror_mode": {
    "name": "ipython",
    "version": 3
   },
   "file_extension": ".py",
   "mimetype": "text/x-python",
   "name": "python",
   "nbconvert_exporter": "python",
   "pygments_lexer": "ipython3",
   "version": "3.12.3"
  }
 },
 "nbformat": 4,
 "nbformat_minor": 2
}
