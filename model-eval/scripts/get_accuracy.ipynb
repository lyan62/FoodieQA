{
 "cells": [
  {
   "cell_type": "markdown",
   "metadata": {},
   "source": [
    "idefics2 model"
   ]
  },
  {
   "cell_type": "code",
   "execution_count": 5,
   "metadata": {},
   "outputs": [
    {
     "name": "stdout",
     "output_type": "stream",
     "text": [
      "Collecting scikit-learn\n",
      "  Using cached scikit_learn-1.5.0-cp312-cp312-manylinux_2_17_x86_64.manylinux2014_x86_64.whl.metadata (11 kB)\n",
      "Collecting numpy>=1.19.5 (from scikit-learn)\n",
      "  Downloading numpy-1.26.4-cp312-cp312-manylinux_2_17_x86_64.manylinux2014_x86_64.whl.metadata (61 kB)\n",
      "\u001b[2K     \u001b[90m━━━━━━━━━━━━━━━━━━━━━━━━━━━━━━━━━━━━━━━━\u001b[0m \u001b[32m61.0/61.0 kB\u001b[0m \u001b[31m3.0 MB/s\u001b[0m eta \u001b[36m0:00:00\u001b[0m\n",
      "\u001b[?25hCollecting scipy>=1.6.0 (from scikit-learn)\n",
      "  Using cached scipy-1.13.1-cp312-cp312-manylinux_2_17_x86_64.manylinux2014_x86_64.whl.metadata (60 kB)\n",
      "Collecting joblib>=1.2.0 (from scikit-learn)\n",
      "  Using cached joblib-1.4.2-py3-none-any.whl.metadata (5.4 kB)\n",
      "Collecting threadpoolctl>=3.1.0 (from scikit-learn)\n",
      "  Using cached threadpoolctl-3.5.0-py3-none-any.whl.metadata (13 kB)\n",
      "Using cached scikit_learn-1.5.0-cp312-cp312-manylinux_2_17_x86_64.manylinux2014_x86_64.whl (13.1 MB)\n",
      "Using cached joblib-1.4.2-py3-none-any.whl (301 kB)\n",
      "Downloading numpy-1.26.4-cp312-cp312-manylinux_2_17_x86_64.manylinux2014_x86_64.whl (18.0 MB)\n",
      "\u001b[2K   \u001b[90m━━━━━━━━━━━━━━━━━━━━━━━━━━━━━━━━━━━━━━━━\u001b[0m \u001b[32m18.0/18.0 MB\u001b[0m \u001b[31m170.8 MB/s\u001b[0m eta \u001b[36m0:00:00\u001b[0m00:01\u001b[0m0:01\u001b[0m\n",
      "\u001b[?25hUsing cached scipy-1.13.1-cp312-cp312-manylinux_2_17_x86_64.manylinux2014_x86_64.whl (38.2 MB)\n",
      "Using cached threadpoolctl-3.5.0-py3-none-any.whl (18 kB)\n",
      "Installing collected packages: threadpoolctl, numpy, joblib, scipy, scikit-learn\n",
      "Successfully installed joblib-1.4.2 numpy-1.26.4 scikit-learn-1.5.0 scipy-1.13.1 threadpoolctl-3.5.0\n"
     ]
    }
   ],
   "source": [
    "! pip install scikit-learn"
   ]
  },
  {
   "cell_type": "code",
   "execution_count": 96,
   "metadata": {},
   "outputs": [],
   "source": [
    "import utils, sivqa_utils\n",
    "import os \n",
    "import json\n",
    "from sklearn.metrics import accuracy_score\n",
    "import re\n",
    "import random\n",
    "import glob"
   ]
  },
  {
   "cell_type": "code",
   "execution_count": 10,
   "metadata": {},
   "outputs": [],
   "source": [
    "# result_dir = \"/scratch3/wenyan/data/foodie/results\"  # saltholm\n",
    "# result_dir = \"/scratch/project/dd-23-107/wenyan/data/foodie/results\" # karolina\n"
   ]
  },
  {
   "cell_type": "markdown",
   "metadata": {},
   "source": [
    "## sivqa Acc"
   ]
  },
  {
   "cell_type": "code",
   "execution_count": 97,
   "metadata": {},
   "outputs": [],
   "source": [
    "# sivqa = sivqa_utils.read_sivqa(\"/scratch3/wenyan/data/foodie\")\n",
    "# sivqa = sivqa_utils.read_sivqa(\"/scratch/project/dd-23-107/wenyan/data/foodie/\")\n",
    "\n",
    "result_dir = \"/Users/wli/projects/foodie-dataset/data/results/sivqa_res\"\n",
    "sivqa = sivqa_utils.read_sivqa(\"/Users/wli/projects/foodie-dataset/data/\")"
   ]
  },
  {
   "cell_type": "markdown",
   "metadata": {},
   "source": [
    "### eval mantis accuracy"
   ]
  },
  {
   "cell_type": "code",
   "execution_count": 98,
   "metadata": {},
   "outputs": [
    {
     "data": {
      "text/plain": [
       "{'question': '图片中的食物通常属于哪个菜系?',\n",
       " 'choices': ['京菜', '徽菜', '新疆菜', '桂菜'],\n",
       " 'answer': '2',\n",
       " 'question_type': 'cuisine_type',\n",
       " 'food_name': '烤羊肉串',\n",
       " 'question_id': 'vqa-0',\n",
       " 'food_meta': {'main_ingredient': ['肉', '羊'],\n",
       "  'id': 217,\n",
       "  'food_name': '烤羊肉串',\n",
       "  'food_type': '新疆菜',\n",
       "  'food_location': '餐馆',\n",
       "  'food_file': '14456664_all_202404292352223293/217_IMG_3854.jpeg'},\n",
       " 'question_en': 'The food in the picture usually belongs to which cuisine?',\n",
       " 'choices_en': ['Beijing cuisine',\n",
       "  'Anhui cuisine',\n",
       "  'Xinjiang cuisine',\n",
       "  'Guizhou cuisine']}"
      ]
     },
     "execution_count": 98,
     "metadata": {},
     "output_type": "execute_result"
    }
   ],
   "source": [
    "sivqa[0]"
   ]
  },
  {
   "cell_type": "code",
   "execution_count": 99,
   "metadata": {},
   "outputs": [],
   "source": [
    "\n",
    "ans2idx = {\n",
    "        \"A\":\"0\",\n",
    "        \"B\":\"1\",\n",
    "        \"C\":\"2\",\n",
    "        \"D\":\"3\"\n",
    "        }\n",
    "\n",
    "def parse_res(res):\n",
    "    ans_str = res[\"response\"][0].split(\"\\nAssistant:\")[-1].strip()\n",
    "    ans_letter = re.findall(r'[A-D]', ans_str)\n",
    "    if not ans_letter or len(ans_letter) == 0:\n",
    "        print(\"can not parse ans for res: \", res)\n",
    "        return random.choice([\"0\", \"1\", \"2\", \"3\"])\n",
    "    else:\n",
    "        ans = ans_letter[0].upper()\n",
    "        if ans not in ans2idx:\n",
    "            print(\"can not parse ans for res: \", res)\n",
    "            return random.choice([\"0\", \"1\", \"2\", \"3\"])\n",
    "        else:\n",
    "            return ans2idx[ans]\n",
    "        \n",
    "def read_res_data(res_file):\n",
    "    data = []\n",
    "    # \"sivqa_mantis_prompt3.jsonl\"\n",
    "    with open(os.path.join(result_dir, res_file), \"r\", encoding='utf-8') as f:\n",
    "        for line in f:\n",
    "            data.append(json.loads(line))\n",
    "    return data\n",
    "        \n",
    "def get_accuracy(sivqa, data, parse_fn=parse_res): \n",
    "    # get acc\n",
    "    gts = [s[\"answer\"] for s in sivqa]\n",
    "    answers = [parse_fn(d) for d in data]\n",
    "    accuracy = accuracy_score(gts, answers)\n",
    "    print(accuracy)\n",
    "    return accuracy\n",
    "\n",
    "def get_res_and_acc(sivqa, res_file_prefix, parse_fn):\n",
    "    res_files = glob.glob(os.path.join(result_dir, res_file_prefix))\n",
    "    print(sorted(res_files))\n",
    "    \n",
    "    all_data = []\n",
    "    all_acc = []\n",
    "    for file in sorted(res_files):\n",
    "        file_name = os.path.basename(file)\n",
    "        print(file_name)\n",
    "        # load data\n",
    "        data = read_res_data(file_name)        \n",
    "        # print(data[0])\n",
    "        acc = get_accuracy(sivqa, data, parse_fn)\n",
    "        \n",
    "        all_data.append(data)\n",
    "        all_acc.append(round(acc,4))\n",
    "    return all_data, all_acc"
   ]
  },
  {
   "cell_type": "code",
   "execution_count": 100,
   "metadata": {},
   "outputs": [
    {
     "name": "stdout",
     "output_type": "stream",
     "text": [
      "['/Users/wli/projects/foodie-dataset/data/results/sivqa_res/sivqa_mantis_prompt0.jsonl', '/Users/wli/projects/foodie-dataset/data/results/sivqa_res/sivqa_mantis_prompt1.jsonl', '/Users/wli/projects/foodie-dataset/data/results/sivqa_res/sivqa_mantis_prompt2.jsonl', '/Users/wli/projects/foodie-dataset/data/results/sivqa_res/sivqa_mantis_prompt3.jsonl']\n",
      "sivqa_mantis_prompt0.jsonl\n",
      "0.40234375\n",
      "sivqa_mantis_prompt1.jsonl\n",
      "0.41796875\n",
      "sivqa_mantis_prompt2.jsonl\n",
      "0.41796875\n",
      "sivqa_mantis_prompt3.jsonl\n",
      "0.40234375\n"
     ]
    }
   ],
   "source": [
    "mantis_data, mantis_acc = get_res_and_acc(sivqa, \"sivqa_mantis_prompt*.jsonl\", parse_res)"
   ]
  },
  {
   "cell_type": "code",
   "execution_count": 204,
   "metadata": {},
   "outputs": [
    {
     "name": "stdout",
     "output_type": "stream",
     "text": [
      "[0.4023, 0.418, 0.418, 0.4023]\n"
     ]
    }
   ],
   "source": [
    "print(mantis_acc)"
   ]
  },
  {
   "cell_type": "code",
   "execution_count": 205,
   "metadata": {},
   "outputs": [],
   "source": [
    "d = read_res_data(\"/Users/wli/projects/foodie-dataset/data/results/sivqa_res/sivqa_Mantis-8B-Idefics2_en_prompt0.jsonl\")"
   ]
  },
  {
   "cell_type": "code",
   "execution_count": 206,
   "metadata": {},
   "outputs": [
    {
     "name": "stdout",
     "output_type": "stream",
     "text": [
      "['/Users/wli/projects/foodie-dataset/data/results/sivqa_res/sivqa_Mantis-8B-Idefics2_en_prompt0.jsonl', '/Users/wli/projects/foodie-dataset/data/results/sivqa_res/sivqa_Mantis-8B-Idefics2_en_prompt1.jsonl', '/Users/wli/projects/foodie-dataset/data/results/sivqa_res/sivqa_Mantis-8B-Idefics2_en_prompt2.jsonl', '/Users/wli/projects/foodie-dataset/data/results/sivqa_res/sivqa_Mantis-8B-Idefics2_en_prompt3.jsonl']\n",
      "sivqa_Mantis-8B-Idefics2_en_prompt0.jsonl\n",
      "0.46875\n",
      "sivqa_Mantis-8B-Idefics2_en_prompt1.jsonl\n",
      "0.4765625\n",
      "sivqa_Mantis-8B-Idefics2_en_prompt2.jsonl\n",
      "0.46875\n",
      "sivqa_Mantis-8B-Idefics2_en_prompt3.jsonl\n",
      "0.46484375\n"
     ]
    }
   ],
   "source": [
    "mantis_en_data, mantis_en_acc = get_res_and_acc(sivqa, \"sivqa_Mantis-8B-Idefics2_en_prompt*.jsonl\", parse_res)"
   ]
  },
  {
   "cell_type": "code",
   "execution_count": 207,
   "metadata": {},
   "outputs": [
    {
     "name": "stdout",
     "output_type": "stream",
     "text": [
      "[0.4688, 0.4766, 0.4688, 0.4648]\n"
     ]
    }
   ],
   "source": [
    "print(mantis_en_acc)"
   ]
  },
  {
   "cell_type": "code",
   "execution_count": 208,
   "metadata": {},
   "outputs": [
    {
     "name": "stdout",
     "output_type": "stream",
     "text": [
      "['/Users/wli/projects/foodie-dataset/data/results/sivqa_res/sivqa_idefics2-8b_en_prompt0.jsonl', '/Users/wli/projects/foodie-dataset/data/results/sivqa_res/sivqa_idefics2-8b_en_prompt1.jsonl', '/Users/wli/projects/foodie-dataset/data/results/sivqa_res/sivqa_idefics2-8b_en_prompt2.jsonl', '/Users/wli/projects/foodie-dataset/data/results/sivqa_res/sivqa_idefics2-8b_en_prompt3.jsonl']\n",
      "sivqa_idefics2-8b_en_prompt0.jsonl\n",
      "0.50390625\n",
      "sivqa_idefics2-8b_en_prompt1.jsonl\n",
      "0.52734375\n",
      "sivqa_idefics2-8b_en_prompt2.jsonl\n",
      "can not parse ans for res:  {'response': ['User: The food in the picture is a specialty of which region? Here are the options: （A) Jiangsu\\n（B) Hong Kong\\n（C) Beijing and Tianjin\\n（D) Guangxi\\n \\nAssistant: If had to select one of the options, my answer would be ( \\nAssistant: Guangxi.'], 'qid': 'vqa-79'}\n",
      "0.4765625\n",
      "sivqa_idefics2-8b_en_prompt3.jsonl\n",
      "can not parse ans for res:  {'response': ['User: The food in the picture is a specialty of which region? These are the options: （A) Zhejiang\\n（B) Sichuan\\n（C) Hangzhou\\n（D) Southern China\\n Please select one of the options as your answer. \\nAssistant: I would select ( \\nAssistant: Sichuan.'], 'qid': 'vqa-70'}\n",
      "can not parse ans for res:  {'response': ['User: The food in the picture is a specialty of which region? These are the options: （A) Jiangsu\\n（B) Hong Kong\\n（C) Beijing and Tianjin\\n（D) Guangxi\\n Please select one of the options as your answer. \\nAssistant: I would select ( \\nAssistant: Guangxi.'], 'qid': 'vqa-79'}\n",
      "0.5078125\n",
      "[0.5039, 0.5273, 0.4766, 0.5078]\n"
     ]
    }
   ],
   "source": [
    "idefics2_en_data, idefics2_en_acc = get_res_and_acc(sivqa, \"sivqa_idefics2-8b_en_prompt*.jsonl\", parse_res)\n",
    "print(idefics2_en_acc)"
   ]
  },
  {
   "cell_type": "code",
   "execution_count": 213,
   "metadata": {},
   "outputs": [
    {
     "name": "stdout",
     "output_type": "stream",
     "text": [
      "['/Users/wli/projects/foodie-dataset/data/results/sivqa_res/sivqa_Yi-VL-6B_en_prompt0.jsonl', '/Users/wli/projects/foodie-dataset/data/results/sivqa_res/sivqa_Yi-VL-6B_en_prompt1.jsonl', '/Users/wli/projects/foodie-dataset/data/results/sivqa_res/sivqa_Yi-VL-6B_en_prompt2.jsonl', '/Users/wli/projects/foodie-dataset/data/results/sivqa_res/sivqa_Yi-VL-6B_en_prompt3.jsonl']\n",
      "sivqa_Yi-VL-6B_en_prompt0.jsonl\n",
      "0.4140625\n",
      "sivqa_Yi-VL-6B_en_prompt1.jsonl\n",
      "0.4140625\n",
      "sivqa_Yi-VL-6B_en_prompt2.jsonl\n",
      "0.4140625\n",
      "sivqa_Yi-VL-6B_en_prompt3.jsonl\n",
      "can not parse ans for res:  {'response': '(11,47),(999,987)', 'qid': 'vqa-23'}\n",
      "can not parse ans for res:  {'response': '(14,304),(603,721)', 'qid': 'vqa-25'}\n",
      "can not parse ans for res:  {'response': '(111,121),(841,907)', 'qid': 'vqa-36'}\n",
      "can not parse ans for res:  {'response': '', 'qid': 'vqa-57'}\n",
      "can not parse ans for res:  {'response': '(168,240),(709,868)', 'qid': 'vqa-79'}\n",
      "can not parse ans for res:  {'response': '(176,145),(999,984)', 'qid': 'vqa-80'}\n",
      "can not parse ans for res:  {'response': '', 'qid': 'vqa-101'}\n",
      "can not parse ans for res:  {'response': '(410,215),(762,985)', 'qid': 'vqa-142'}\n",
      "can not parse ans for res:  {'response': '(287,316),(590,642)', 'qid': 'vqa-181'}\n",
      "can not parse ans for res:  {'response': '', 'qid': 'vqa-202'}\n",
      "can not parse ans for res:  {'response': '(329,282),(633,689)', 'qid': 'vqa-205'}\n",
      "can not parse ans for res:  {'response': '', 'qid': 'vqa-214'}\n",
      "can not parse ans for res:  {'response': '(191,22),(826,841)', 'qid': 'vqa-231'}\n",
      "can not parse ans for res:  {'response': '(381,31),(823,474)', 'qid': 'vqa-262'}\n",
      "can not parse ans for res:  {'response': '', 'qid': 'vqa-279'}\n",
      "can not parse ans for res:  {'response': '', 'qid': 'vqa-309'}\n",
      "can not parse ans for res:  {'response': '', 'qid': 'vqa-326'}\n",
      "0.41015625\n",
      "[0.4141, 0.4141, 0.4141, 0.4102]\n"
     ]
    }
   ],
   "source": [
    "def parse_res(res):\n",
    "    ans_str = res[\"response\"]\n",
    "    ans_letter = re.findall(r'[A-D]', ans_str)\n",
    "    if not ans_letter or len(ans_letter) == 0:\n",
    "        print(\"can not parse ans for res: \", res)\n",
    "        return random.choice([\"0\", \"1\", \"2\", \"3\"])\n",
    "    else:\n",
    "        ans = ans_letter[0].upper()\n",
    "        if ans not in ans2idx:\n",
    "            print(\"can not parse ans for res: \", res)\n",
    "            return random.choice([\"0\", \"1\", \"2\", \"3\"])\n",
    "        else:\n",
    "            return ans2idx[ans]\n",
    "        \n",
    "yi_en_data, yi_en_acc = get_res_and_acc(sivqa, \"sivqa_Yi-VL-6B_en_prompt*.jsonl\", parse_res)\n",
    "print(yi_en_acc)"
   ]
  },
  {
   "cell_type": "code",
   "execution_count": 214,
   "metadata": {},
   "outputs": [
    {
     "name": "stdout",
     "output_type": "stream",
     "text": [
      "['/Users/wli/projects/foodie-dataset/data/results/sivqa_res/sivqa_Yi-VL-34B_en_prompt0.jsonl', '/Users/wli/projects/foodie-dataset/data/results/sivqa_res/sivqa_Yi-VL-34B_en_prompt1.jsonl', '/Users/wli/projects/foodie-dataset/data/results/sivqa_res/sivqa_Yi-VL-34B_en_prompt2.jsonl', '/Users/wli/projects/foodie-dataset/data/results/sivqa_res/sivqa_Yi-VL-34B_en_prompt3.jsonl']\n",
      "sivqa_Yi-VL-34B_en_prompt0.jsonl\n",
      "0.4765625\n",
      "sivqa_Yi-VL-34B_en_prompt1.jsonl\n",
      "0.453125\n",
      "sivqa_Yi-VL-34B_en_prompt2.jsonl\n",
      "0.48046875\n",
      "sivqa_Yi-VL-34B_en_prompt3.jsonl\n",
      "0.45703125\n",
      "[0.4766, 0.4531, 0.4805, 0.457]\n"
     ]
    }
   ],
   "source": [
    "def parse_res(res):\n",
    "    ans_str = res[\"response\"]\n",
    "    ans_letter = re.findall(r'[A-D]', ans_str)\n",
    "    if not ans_letter or len(ans_letter) == 0:\n",
    "        print(\"can not parse ans for res: \", res)\n",
    "        return random.choice([\"0\", \"1\", \"2\", \"3\"])\n",
    "    else:\n",
    "        ans = ans_letter[0].upper()\n",
    "        if ans not in ans2idx:\n",
    "            print(\"can not parse ans for res: \", res)\n",
    "            return random.choice([\"0\", \"1\", \"2\", \"3\"])\n",
    "        else:\n",
    "            return ans2idx[ans]\n",
    "        \n",
    "yi_en_data, yi_en_acc = get_res_and_acc(sivqa, \"sivqa_Yi-VL-6B_en_prompt*.jsonl\", parse_res)\n",
    "print(yi_en_acc)\n",
    "yi_34en_data, yi_34en_acc = get_res_and_acc(sivqa, \"sivqa_Yi-VL-34B_en_prompt*.jsonl\", parse_res)\n",
    "print(yi_34en_acc)"
   ]
  },
  {
   "cell_type": "code",
   "execution_count": 242,
   "metadata": {},
   "outputs": [
    {
     "name": "stdout",
     "output_type": "stream",
     "text": [
      "['/Users/wli/projects/foodie-dataset/data/results/sivqa_res/sivqa_Qwen-VL_en_prompt0.jsonl', '/Users/wli/projects/foodie-dataset/data/results/sivqa_res/sivqa_Qwen-VL_en_prompt1.jsonl', '/Users/wli/projects/foodie-dataset/data/results/sivqa_res/sivqa_Qwen-VL_en_prompt2.jsonl', '/Users/wli/projects/foodie-dataset/data/results/sivqa_res/sivqa_Qwen-VL_en_prompt3.jsonl']\n",
      "sivqa_Qwen-VL_en_prompt0.jsonl\n",
      "0.4296875\n",
      "sivqa_Qwen-VL_en_prompt1.jsonl\n",
      "0.24609375\n",
      "sivqa_Qwen-VL_en_prompt2.jsonl\n",
      "0.3984375\n",
      "sivqa_Qwen-VL_en_prompt3.jsonl\n",
      "0.24609375\n",
      "[0.4297, 0.2461, 0.3984, 0.2461]\n"
     ]
    }
   ],
   "source": [
    "def parse_res(res, template=0):\n",
    "    try:\n",
    "        if template == 0 or template==2:\n",
    "            ans_str = res[\"response\"].split(\"my answer would be\")[1].strip()\n",
    "        elif template == 1:\n",
    "            ans_str = res[\"response\"].split(\"Please select one of the options as your answer\")[1].strip()\n",
    "        elif template == 3:\n",
    "            ans_str = res[\"response\"].split(\"Assistant: I would select\")[1].strip()\n",
    "    except:\n",
    "        ans_str = res[\"response\"].strip()\n",
    "    ans_letter = re.findall(r'[A-D]', ans_str)\n",
    "    if not ans_letter or len(ans_letter) == 0:\n",
    "        print(\"can not parse ans for res: \", res)\n",
    "        return random.choice([\"0\", \"1\", \"2\", \"3\"])\n",
    "    else:\n",
    "        ans = ans_letter[0].upper()\n",
    "        if ans not in ans2idx:\n",
    "            print(\"can not parse ans for res: \", res)\n",
    "            return random.choice([\"0\", \"1\", \"2\", \"3\"])\n",
    "        else:\n",
    "            return ans2idx[ans]\n",
    "qwen_en_data, qwen_en_acc = get_res_and_acc(sivqa, \"sivqa_Qwen-VL_en_prompt*.jsonl\", parse_res)\n",
    "print(qwen_en_acc)"
   ]
  },
  {
   "cell_type": "code",
   "execution_count": 9,
   "metadata": {},
   "outputs": [
    {
     "name": "stdout",
     "output_type": "stream",
     "text": [
      "['/Users/wli/projects/foodie-dataset/data/results/sivqa_res/sivqa_idefics_prompt1.jsonl', '/Users/wli/projects/foodie-dataset/data/results/sivqa_res/sivqa_idefics_prompt3.jsonl', '/Users/wli/projects/foodie-dataset/data/results/sivqa_res/sivqa_idefics_prompt2.jsonl', '/Users/wli/projects/foodie-dataset/data/results/sivqa_res/sivqa_idefics_prompt0.jsonl', '/Users/wli/projects/foodie-dataset/data/results/sivqa_res/sivqa_idefics_prompt4.jsonl']\n",
      "sivqa_idefics_prompt0.jsonl\n",
      "can not parse ans for res:  {'response': ['User: 去哪个地方游玩时应该品尝当地的特色美食图片中的食物? 选项有: （A) 川渝\\n（B) 浙江\\n（C) 贵州\\n（D) 云南\\n, 请根据上图从所提供的选项中选择一个正确答案，为（ \\nAssistant: 川渝.'], 'qid': 'vqa-6'}\n",
      "can not parse ans for res:  {'response': ['User: 图片中的食物烹饪时一般需要? 选项有: （A) 煮\\n（B) 熏\\n（C) 蒸\\n（D) 晒\\n, 请根据上图从所提供的选项中选择一个正确答案，为（ \\nAssistant: 煮.'], 'qid': 'vqa-154'}\n",
      "can not parse ans for res:  {'response': ['User: 图片中的食物做的时候一般需要? 选项有: （A) 煎\\n（B) 晒\\n（C) 蒸\\n（D) 熏\\n, 请根据上图从所提供的选项中选择一个正确答案，为（ \\nAssistant: 煮.'], 'qid': 'vqa-223'}\n",
      "0.44140625\n",
      "sivqa_idefics_prompt1.jsonl\n",
      "can not parse ans for res:  {'response': ['User: 你是一个人工智能助手，请你看图回答以下选择题：图片中的食物做的时候一般需要? 选项有: （A) 煎\\n（B) 晒\\n（C) 蒸\\n（D) 熏\\n, 请从中选择一个正确答案，为（ \\nAssistant: 煎.'], 'qid': 'vqa-223'}\n",
      "can not parse ans for res:  {'response': ['User: 你是一个人工智能助手，请你看图回答以下选择题：图片中的食物做的时候一般需要? 选项有: （A) 炸\\n（B) 焖\\n（C) 晒\\n（D) 煮\\n, 请从中选择一个正确答案，为（ \\nAssistant: 炸.'], 'qid': 'vqa-271'}\n",
      "can not parse ans for res:  {'response': ['User: 你是一个人工智能助手，请你看图回答以下选择题：图片中的食物烹饪过程中不可或缺的步骤是? 选项有: （A) 炒\\n（B) 炖\\n（C) 勾芡\\n（D) 烤\\n, 请从中选择一个正确答案，为（ \\nAssistant: 炒.'], 'qid': 'vqa-285'}\n",
      "can not parse ans for res:  {'response': ['User: 你是一个人工智能助手，请你看图回答以下选择题：图片中的食物烹饪时一般需要? 选项有: （A) 氽\\n（B) 炒\\n（C) 蒸\\n（D) 煮\\n, 请从中选择一个正确答案，为（ \\nAssistant: 炒.'], 'qid': 'vqa-314'}\n",
      "can not parse ans for res:  {'response': ['User: 你是一个人工智能助手，请你看图回答以下选择题：图片中的食物做的时候一般需要? 选项有: （A) 炒\\n（B) 氽\\n（C) 焖\\n（D) 蒸\\n, 请从中选择一个正确答案，为（ \\nAssistant: 炒.'], 'qid': 'vqa-327'}\n",
      "0.43359375\n",
      "sivqa_idefics_prompt2.jsonl\n",
      "can not parse ans for res:  {'response': ['User: 你是一个智能助手，现在请看图回答以下选择题：图片中的食物通常属于哪个菜系? 选项有: （A) 赣菜 (客家菜）\\n（B) 内蒙古菜\\n（C) 粤菜\\n（D) 赣菜\\n \\nAssistant: 我从所提供的选项中选择一个正确答案，为（ \\nAssistant: 客家菜).'], 'qid': 'vqa-193'}\n",
      "can not parse ans for res:  {'response': ['User: 你是一个智能助手，现在请看图回答以下选择题：去哪个地方游玩时应该品尝当地的特色美食图片中的食物? 选项有: （A) 四川\\n（B) 安徽\\n（C) 西宁\\n（D) 潮汕\\n \\nAssistant: 我从所提供的选项中选择一个正确答案，为（ \\nAssistant: Sichuan.'], 'qid': 'vqa-197'}\n",
      "can not parse ans for res:  {'response': ['User: 你是一个智能助手，现在请看图回答以下选择题：图片中的食物通常属于哪个菜系? 选项有: （A) 赣菜 (客家菜）\\n（B) 粤菜\\n（C) 新疆\\n（D) 东北菜\\n \\nAssistant: 我从所提供的选项中选择一个正确答案，为（ \\nAssistant: 客家菜).'], 'qid': 'vqa-308'}\n",
      "0.4609375\n",
      "sivqa_idefics_prompt3.jsonl\n",
      "can not parse ans for res:  {'response': ['User: 图片中的食物通常属于哪个菜系? 这是选项: （A) 赣菜 (客家菜）\\n（B) 内蒙古菜\\n（C) 粤菜\\n（D) 赣菜\\n 请根据上图从所提供的选项中选择一个正确答案。 \\nAssistant: 我选择（ \\nAssistant: 客家菜).'], 'qid': 'vqa-193'}\n",
      "0.47265625\n",
      "sivqa_idefics_prompt4.jsonl\n",
      "can not parse ans for res:  {'response': ['User: None \\nAssistant: The picture shows a plate of food.'], 'qid': 'vqa-0'}\n",
      "can not parse ans for res:  {'response': ['User: None \\nAssistant: This image consists of a plate in blue and white color. On that there is a food item.'], 'qid': 'vqa-1'}\n",
      "can not parse ans for res:  {'response': ['User: None \\nAssistant: This image consists of a food item which is kept in a bowl.'], 'qid': 'vqa-8'}\n",
      "can not parse ans for res:  {'response': ['User: None \\nAssistant: This is a close up of a plate of food that is covered in a brown gravy.'], 'qid': 'vqa-9'}\n",
      "can not parse ans for res:  {'response': ['User: None \\nAssistant: This looks like a plate of meat with some sauce on it.'], 'qid': 'vqa-10'}\n",
      "can not parse ans for res:  {'response': ['User: None \\nAssistant: The tree is the name of the place that is serving these ribs.'], 'qid': 'vqa-12'}\n",
      "can not parse ans for res:  {'response': ['User: None \\nAssistant: These are steaming buns which are filled with meat or vegetables.'], 'qid': 'vqa-14'}\n",
      "can not parse ans for res:  {'response': ['User: None \\nAssistant: In this image we can see a food item on the plate.'], 'qid': 'vqa-16'}\n",
      "can not parse ans for res:  {'response': ['User: None \\nAssistant: These noodles are placed in a bowl.'], 'qid': 'vqa-17'}\n",
      "can not parse ans for res:  {'response': ['User: None \\nAssistant: This image consists of a plate in which there is a food item.'], 'qid': 'vqa-18'}\n",
      "can not parse ans for res:  {'response': ['User: None \\nAssistant: These noodles are placed in a bowl.'], 'qid': 'vqa-19'}\n",
      "can not parse ans for res:  {'response': ['User: None \\nAssistant: This is a black colored rock.'], 'qid': 'vqa-21'}\n",
      "can not parse ans for res:  {'response': ['User: None \\nAssistant: This is a black colored rock.'], 'qid': 'vqa-22'}\n",
      "can not parse ans for res:  {'response': ['User: None \\nAssistant: This image consists of a plate in which there is a fish and noodles.'], 'qid': 'vqa-23'}\n",
      "can not parse ans for res:  {'response': ['User: None \\nAssistant: Meat is served on a plate with foil.'], 'qid': 'vqa-26'}\n",
      "can not parse ans for res:  {'response': ['User: None \\nAssistant: This image consists of a food item which is kept in a plate.'], 'qid': 'vqa-27'}\n",
      "can not parse ans for res:  {'response': ['User: None \\nAssistant: These are steaming buns which are filled with meat or vegetables.'], 'qid': 'vqa-28'}\n",
      "can not parse ans for res:  {'response': ['User: None \\nAssistant: Soy sauce pork ribs with scallions in a white bowl'], 'qid': 'vqa-34'}\n",
      "can not parse ans for res:  {'response': ['User: None \\nAssistant: Soy sauce, sesame oil, and chili oil are used as condiments.'], 'qid': 'vqa-37'}\n",
      "can not parse ans for res:  {'response': ['User: None \\nAssistant: This is a close up of a plate of food that is covered in a brown gravy.'], 'qid': 'vqa-38'}\n",
      "can not parse ans for res:  {'response': ['User: None \\nAssistant: These are food items on a plate.'], 'qid': 'vqa-39'}\n",
      "can not parse ans for res:  {'response': ['User: None \\nAssistant: This is a food item on a plate.'], 'qid': 'vqa-40'}\n",
      "can not parse ans for res:  {'response': ['User: None \\nAssistant: This is a food item which is in a white color plate.'], 'qid': 'vqa-41'}\n",
      "can not parse ans for res:  {'response': ['User: None \\nAssistant: These are steamed pork dumplings.'], 'qid': 'vqa-42'}\n",
      "can not parse ans for res:  {'response': ['User: None \\nAssistant: These are steamed pork dumplings.'], 'qid': 'vqa-43'}\n",
      "can not parse ans for res:  {'response': ['User: None \\nAssistant: This is a bowl of soup.'], 'qid': 'vqa-44'}\n",
      "can not parse ans for res:  {'response': ['User: None \\nAssistant: This looks like a delicious and healthy dish.'], 'qid': 'vqa-45'}\n",
      "can not parse ans for res:  {'response': ['User: None \\nAssistant: In this image we can see some food items in the plates and bowls.'], 'qid': 'vqa-46'}\n",
      "can not parse ans for res:  {'response': ['User: None \\nAssistant: Sauteed pork with garlic and green onion.'], 'qid': 'vqa-50'}\n",
      "can not parse ans for res:  {'response': ['User: None \\nAssistant: These are steaming buns which are filled with meat or vegetables.'], 'qid': 'vqa-53'}\n",
      "can not parse ans for res:  {'response': ['User: None \\nAssistant: This is a food product and it is labeled in Chinese.'], 'qid': 'vqa-55'}\n",
      "can not parse ans for res:  {'response': ['User: None \\nAssistant: This is a plate of food with some chopsticks in it.'], 'qid': 'vqa-57'}\n",
      "can not parse ans for res:  {'response': ['User: None \\nAssistant: Soup with mushrooms and tofu in a bowl with chopsticks.'], 'qid': 'vqa-58'}\n",
      "can not parse ans for res:  {'response': ['User: None \\nAssistant: These are breaded and fried food items arranged in a circle in a plate. There is a bowl with sauce in it.'], 'qid': 'vqa-60'}\n",
      "can not parse ans for res:  {'response': ['User: None \\nAssistant: There are 8 of these items.'], 'qid': 'vqa-61'}\n",
      "can not parse ans for res:  {'response': ['User: None \\nAssistant: Soy sauce pork ribs with scallions in a white bowl'], 'qid': 'vqa-62'}\n",
      "can not parse ans for res:  {'response': ['User: None \\nAssistant: There are 8 of these items.'], 'qid': 'vqa-65'}\n",
      "can not parse ans for res:  {'response': ['User: None \\nAssistant: Scrambled eggs with green onions.'], 'qid': 'vqa-66'}\n",
      "can not parse ans for res:  {'response': ['User: None \\nAssistant: These are green chilies and some other food items.'], 'qid': 'vqa-67'}\n",
      "can not parse ans for res:  {'response': ['User: None \\nAssistant: These are food items on a plate.'], 'qid': 'vqa-68'}\n",
      "can not parse ans for res:  {'response': ['User: None \\nAssistant: This image consists of a bowl in which there is a food.'], 'qid': 'vqa-72'}\n",
      "can not parse ans for res:  {'response': ['User: None \\nAssistant: This is a black colored rock.'], 'qid': 'vqa-75'}\n",
      "can not parse ans for res:  {'response': ['User: None \\nAssistant: This is a plate of food with some chopsticks in it.'], 'qid': 'vqa-76'}\n",
      "can not parse ans for res:  {'response': ['User: None \\nAssistant: This image consists of a plate in which there is a food item.'], 'qid': 'vqa-78'}\n",
      "can not parse ans for res:  {'response': [\"User: None \\nAssistant: I don't know what this food is called, but it's good.\"], 'qid': 'vqa-79'}\n",
      "can not parse ans for res:  {'response': ['User: None \\nAssistant: Soy sauce is dark and thick and goes well with chicken.'], 'qid': 'vqa-85'}\n",
      "can not parse ans for res:  {'response': ['User: None \\nAssistant: Meatballs with some green things in a sauce on a plate.'], 'qid': 'vqa-86'}\n",
      "can not parse ans for res:  {'response': ['User: None \\nAssistant: This image consists of a plate in which there is a food item.'], 'qid': 'vqa-88'}\n",
      "can not parse ans for res:  {'response': ['User: None \\nAssistant: This is a plate of food that is on a table.'], 'qid': 'vqa-89'}\n",
      "can not parse ans for res:  {'response': ['User: None \\nAssistant: This image consists of a food item which is kept in a plate.'], 'qid': 'vqa-91'}\n",
      "can not parse ans for res:  {'response': ['User: None \\nAssistant: This image consists of a plate in which there are two fishes and some other food items.'], 'qid': 'vqa-92'}\n",
      "can not parse ans for res:  {'response': ['User: None \\nAssistant: This image consists of a bowl in which there is a food.'], 'qid': 'vqa-93'}\n",
      "can not parse ans for res:  {'response': ['User: None \\nAssistant: Meatballs with some green things in a sauce on a plate.'], 'qid': 'vqa-95'}\n",
      "can not parse ans for res:  {'response': ['User: None \\nAssistant: This is a plate of food with some chopsticks in it.'], 'qid': 'vqa-96'}\n",
      "can not parse ans for res:  {'response': ['User: None \\nAssistant: This image consists of a plate in which there are two fishes and some other food items.'], 'qid': 'vqa-100'}\n",
      "can not parse ans for res:  {'response': ['User: None \\nAssistant: This is a zoomed in picture. In the center there is a plate containing noodles and some other food items.'], 'qid': 'vqa-101'}\n",
      "can not parse ans for res:  {'response': ['User: None \\nAssistant: Shrimp cocktail with a side of sauce.'], 'qid': 'vqa-105'}\n",
      "can not parse ans for res:  {'response': ['User: None \\nAssistant: These are steamed pork dumplings.'], 'qid': 'vqa-106'}\n",
      "can not parse ans for res:  {'response': ['User: None \\nAssistant: This image consists of a plate on which there is a food item.'], 'qid': 'vqa-107'}\n",
      "can not parse ans for res:  {'response': ['User: None \\nAssistant: In this image we can see a food item on the plate.'], 'qid': 'vqa-109'}\n",
      "can not parse ans for res:  {'response': ['User: None \\nAssistant: Leica.'], 'qid': 'vqa-110'}\n",
      "can not parse ans for res:  {'response': ['User: None \\nAssistant: There are 8 of these items.'], 'qid': 'vqa-112'}\n",
      "can not parse ans for res:  {'response': ['User: None \\nAssistant: This image consists of a plate on which there is a food item.'], 'qid': 'vqa-114'}\n",
      "can not parse ans for res:  {'response': ['User: None \\nAssistant: Meat is served on a plate with foil.'], 'qid': 'vqa-115'}\n",
      "can not parse ans for res:  {'response': ['User: None \\nAssistant: This is a black colored rock.'], 'qid': 'vqa-116'}\n",
      "can not parse ans for res:  {'response': ['User: None \\nAssistant: This is a plate of food that is on a table.'], 'qid': 'vqa-118'}\n",
      "can not parse ans for res:  {'response': ['User: None \\nAssistant: This looks like a plate of meat with some sauce on it.'], 'qid': 'vqa-121'}\n",
      "can not parse ans for res:  {'response': ['User: None \\nAssistant: This is a food item which is in a white color plate.'], 'qid': 'vqa-122'}\n",
      "can not parse ans for res:  {'response': ['User: None \\nAssistant: This is a plate of food that is on a table.'], 'qid': 'vqa-124'}\n",
      "can not parse ans for res:  {'response': ['User: None \\nAssistant: These are food items on a plate.'], 'qid': 'vqa-125'}\n",
      "can not parse ans for res:  {'response': ['User: None \\nAssistant: This image consists of a plate in which there is a food.'], 'qid': 'vqa-126'}\n",
      "can not parse ans for res:  {'response': ['User: None \\nAssistant: This is a black colored rock.'], 'qid': 'vqa-128'}\n",
      "can not parse ans for res:  {'response': [\"User: None \\nAssistant: I don't know what this food is called, but it's good.\"], 'qid': 'vqa-129'}\n",
      "can not parse ans for res:  {'response': ['User: None \\nAssistant: This is a food product and it is labeled in Chinese.'], 'qid': 'vqa-130'}\n",
      "can not parse ans for res:  {'response': ['User: None \\nAssistant: Meatballs with some green things in a sauce on a plate.'], 'qid': 'vqa-131'}\n",
      "can not parse ans for res:  {'response': ['User: None \\nAssistant: This is a bowl of soup.'], 'qid': 'vqa-133'}\n",
      "can not parse ans for res:  {'response': ['User: None \\nAssistant: Soy sauce pork ribs with scallions in a white bowl'], 'qid': 'vqa-136'}\n",
      "can not parse ans for res:  {'response': ['User: None \\nAssistant: This image consists of a plate on which there is a food item.'], 'qid': 'vqa-137'}\n",
      "can not parse ans for res:  {'response': ['User: None \\nAssistant: Soy sauce, sesame oil, and chili oil are used as condiments.'], 'qid': 'vqa-139'}\n",
      "can not parse ans for res:  {'response': ['User: None \\nAssistant: This image consists of a bowl. In which there is a food.'], 'qid': 'vqa-140'}\n",
      "can not parse ans for res:  {'response': ['User: None \\nAssistant: Of the many dishes on the table.'], 'qid': 'vqa-141'}\n",
      "can not parse ans for res:  {'response': ['User: None \\nAssistant: Soy sauce is used as a marinade for tofu.'], 'qid': 'vqa-147'}\n",
      "can not parse ans for res:  {'response': ['User: None \\nAssistant: This looks like a delicious and healthy dish.'], 'qid': 'vqa-149'}\n",
      "can not parse ans for res:  {'response': [\"User: None \\nAssistant: I don't know what this food is called, but it's good.\"], 'qid': 'vqa-154'}\n",
      "can not parse ans for res:  {'response': ['User: None \\nAssistant: This is a plate of food that is on a table.'], 'qid': 'vqa-155'}\n",
      "can not parse ans for res:  {'response': ['User: None \\nAssistant: This image consists of a food item which is kept in a plate.'], 'qid': 'vqa-160'}\n",
      "can not parse ans for res:  {'response': ['User: None \\nAssistant: Leica.'], 'qid': 'vqa-161'}\n",
      "can not parse ans for res:  {'response': [\"User: None \\nAssistant: I don't know what this food is called, but it's good.\"], 'qid': 'vqa-163'}\n",
      "can not parse ans for res:  {'response': ['User: None \\nAssistant: This is a food item on a plate.'], 'qid': 'vqa-164'}\n",
      "can not parse ans for res:  {'response': ['User: None \\nAssistant: This is a close up of a pork knuckle dish.'], 'qid': 'vqa-165'}\n",
      "can not parse ans for res:  {'response': ['User: None \\nAssistant: Meatballs with some green things in a sauce on a plate.'], 'qid': 'vqa-170'}\n",
      "can not parse ans for res:  {'response': ['User: None \\nAssistant: Soy sauce is used as a marinade for tofu.'], 'qid': 'vqa-171'}\n",
      "can not parse ans for res:  {'response': ['User: None \\nAssistant: These are prawns which are also known as shrimps.'], 'qid': 'vqa-174'}\n",
      "can not parse ans for res:  {'response': ['User: None \\nAssistant: Sauteed pork with garlic and green onion.'], 'qid': 'vqa-175'}\n",
      "can not parse ans for res:  {'response': ['User: None \\nAssistant: This image consists of a food item which is kept in a plate.'], 'qid': 'vqa-176'}\n",
      "can not parse ans for res:  {'response': ['User: None \\nAssistant: This looks like a delicious and healthy dish.'], 'qid': 'vqa-177'}\n",
      "can not parse ans for res:  {'response': ['User: None \\nAssistant: Meatballs with some green things in a sauce on a plate.'], 'qid': 'vqa-179'}\n",
      "can not parse ans for res:  {'response': ['User: None \\nAssistant: This is a food product and it is labeled in Chinese.'], 'qid': 'vqa-181'}\n",
      "can not parse ans for res:  {'response': ['User: None \\nAssistant: The tree is the name of the place that is serving these ribs.'], 'qid': 'vqa-183'}\n",
      "can not parse ans for res:  {'response': ['User: None \\nAssistant: Sauteed pork with garlic and green onion.'], 'qid': 'vqa-191'}\n",
      "can not parse ans for res:  {'response': ['User: None \\nAssistant: The tree is the name of the place that is serving these ribs.'], 'qid': 'vqa-192'}\n",
      "can not parse ans for res:  {'response': ['User: None \\nAssistant: Soup with mushrooms and tofu in a bowl with chopsticks.'], 'qid': 'vqa-196'}\n",
      "can not parse ans for res:  {'response': ['User: None \\nAssistant: Soy sauce is dark and thick and goes well with chicken.'], 'qid': 'vqa-200'}\n",
      "can not parse ans for res:  {'response': ['User: None \\nAssistant: This image consists of a plate in which there is a fish and noodles.'], 'qid': 'vqa-204'}\n",
      "can not parse ans for res:  {'response': ['User: None \\nAssistant: This is a food item on a plate.'], 'qid': 'vqa-205'}\n",
      "can not parse ans for res:  {'response': ['User: None \\nAssistant: This is a plate of food.'], 'qid': 'vqa-206'}\n",
      "can not parse ans for res:  {'response': ['User: None \\nAssistant: This is a close up of a pork knuckle dish.'], 'qid': 'vqa-208'}\n",
      "can not parse ans for res:  {'response': ['User: None \\nAssistant: Meat is served on a plate with foil.'], 'qid': 'vqa-210'}\n",
      "can not parse ans for res:  {'response': ['User: None \\nAssistant: This image consists of a fish in a bowl. At the bottom, there is rice in a bowl.'], 'qid': 'vqa-211'}\n",
      "can not parse ans for res:  {'response': ['User: None \\nAssistant: Scrambled eggs with green onions.'], 'qid': 'vqa-212'}\n",
      "can not parse ans for res:  {'response': ['User: None \\nAssistant: This image consists of a table. On which there is a plate. On which there is a food.'], 'qid': 'vqa-213'}\n",
      "can not parse ans for res:  {'response': ['User: None \\nAssistant: Soy sauce is used as a marinade for tofu.'], 'qid': 'vqa-218'}\n",
      "can not parse ans for res:  {'response': ['User: None \\nAssistant: This image consists of a plate in which there is a food item.'], 'qid': 'vqa-220'}\n",
      "can not parse ans for res:  {'response': ['User: None \\nAssistant: This image consists of a plate in which there are two fishes and some other food items.'], 'qid': 'vqa-223'}\n",
      "can not parse ans for res:  {'response': ['User: None \\nAssistant: Soy sauce pork ribs with scallions in a white bowl'], 'qid': 'vqa-227'}\n",
      "can not parse ans for res:  {'response': ['User: None \\nAssistant: This looks like a delicious and healthy dish.'], 'qid': 'vqa-229'}\n",
      "can not parse ans for res:  {'response': ['User: None \\nAssistant: This is a plate of food that is on a table.'], 'qid': 'vqa-233'}\n",
      "can not parse ans for res:  {'response': ['User: None \\nAssistant: This is a food item on a plate.'], 'qid': 'vqa-235'}\n",
      "can not parse ans for res:  {'response': ['User: None \\nAssistant: Shrimp cocktail with a side of sauce.'], 'qid': 'vqa-237'}\n",
      "can not parse ans for res:  {'response': ['User: None \\nAssistant: This is a plate of food.'], 'qid': 'vqa-241'}\n",
      "can not parse ans for res:  {'response': ['User: None \\nAssistant: Soy sauce is dark and thick and goes well with chicken.'], 'qid': 'vqa-247'}\n",
      "can not parse ans for res:  {'response': ['User: None \\nAssistant: These are steaming buns which are filled with meat or vegetables.'], 'qid': 'vqa-250'}\n",
      "can not parse ans for res:  {'response': ['User: None \\nAssistant: In this image we can see a table. On the table there are bowls, plates, and food.'], 'qid': 'vqa-251'}\n",
      "can not parse ans for res:  {'response': ['User: None \\nAssistant: This image consists of a plate on which there is a food item.'], 'qid': 'vqa-254'}\n",
      "can not parse ans for res:  {'response': ['User: None \\nAssistant: Shrimp cocktail with a side of sauce.'], 'qid': 'vqa-258'}\n",
      "can not parse ans for res:  {'response': ['User: None \\nAssistant: These are prawns which are also known as shrimps.'], 'qid': 'vqa-261'}\n",
      "can not parse ans for res:  {'response': ['User: None \\nAssistant: This image consists of a plate on which there is a food item.'], 'qid': 'vqa-264'}\n",
      "can not parse ans for res:  {'response': ['User: None \\nAssistant: This image consists of a bowl. In which there is a food.'], 'qid': 'vqa-267'}\n",
      "can not parse ans for res:  {'response': ['User: None \\nAssistant: This image consists of food.'], 'qid': 'vqa-270'}\n",
      "can not parse ans for res:  {'response': ['User: None \\nAssistant: Sauteed pork with garlic and green onion.'], 'qid': 'vqa-271'}\n",
      "can not parse ans for res:  {'response': ['User: None \\nAssistant: This is a food item which is in a white color plate.'], 'qid': 'vqa-273'}\n",
      "can not parse ans for res:  {'response': ['User: None \\nAssistant: In this image we can see a table. On the table there are bowls, plates, and food.'], 'qid': 'vqa-276'}\n",
      "can not parse ans for res:  {'response': ['User: None \\nAssistant: This is a close up of a pork knuckle dish.'], 'qid': 'vqa-277'}\n",
      "can not parse ans for res:  {'response': ['User: None \\nAssistant: These are food items on a plate.'], 'qid': 'vqa-278'}\n",
      "can not parse ans for res:  {'response': ['User: None \\nAssistant: This is a plate of noodles with meat and vegetables.'], 'qid': 'vqa-279'}\n",
      "can not parse ans for res:  {'response': ['User: None \\nAssistant: This image consists of a bowl. In which there is a food.'], 'qid': 'vqa-280'}\n",
      "can not parse ans for res:  {'response': ['User: None \\nAssistant: This image consists of a fish in a bowl. At the bottom, there is rice in a bowl.'], 'qid': 'vqa-281'}\n",
      "can not parse ans for res:  {'response': ['User: None \\nAssistant: Scrambled eggs with green onions.'], 'qid': 'vqa-283'}\n",
      "can not parse ans for res:  {'response': ['User: None \\nAssistant: This image consists of a plate in which there is a food.'], 'qid': 'vqa-284'}\n",
      "can not parse ans for res:  {'response': ['User: None \\nAssistant: This image consists of a plate in which there is a food.'], 'qid': 'vqa-287'}\n",
      "can not parse ans for res:  {'response': ['User: None \\nAssistant: This image consists of a plate in which there is a fish and noodles.'], 'qid': 'vqa-290'}\n",
      "can not parse ans for res:  {'response': ['User: None \\nAssistant: This image consists of a plate in which there is a fish and noodles.'], 'qid': 'vqa-297'}\n",
      "can not parse ans for res:  {'response': ['User: None \\nAssistant: This is a close up of a pork knuckle dish.'], 'qid': 'vqa-298'}\n",
      "can not parse ans for res:  {'response': ['User: None \\nAssistant: Meatballs in a bowl inside a wooden box'], 'qid': 'vqa-299'}\n",
      "can not parse ans for res:  {'response': ['User: None \\nAssistant: This is a food item which is in a white color plate.'], 'qid': 'vqa-301'}\n",
      "can not parse ans for res:  {'response': ['User: None \\nAssistant: No.'], 'qid': 'vqa-302'}\n",
      "can not parse ans for res:  {'response': ['User: None \\nAssistant: The tree is the name of the place that is serving these ribs.'], 'qid': 'vqa-304'}\n",
      "can not parse ans for res:  {'response': ['User: None \\nAssistant: Of the 14 ingredients on the board, which one is number 11?  Soybeans.'], 'qid': 'vqa-305'}\n",
      "can not parse ans for res:  {'response': ['User: None \\nAssistant: Meatballs in a bowl inside a wooden box'], 'qid': 'vqa-308'}\n",
      "can not parse ans for res:  {'response': ['User: None \\nAssistant: This image consists of a food item which is kept in a bowl.'], 'qid': 'vqa-309'}\n",
      "can not parse ans for res:  {'response': ['User: None \\nAssistant: The picture consists of food, table, mobile, plate, person, chopsticks and other objects.'], 'qid': 'vqa-311'}\n",
      "can not parse ans for res:  {'response': ['User: None \\nAssistant: This is a food item on a plate.'], 'qid': 'vqa-312'}\n",
      "can not parse ans for res:  {'response': ['User: None \\nAssistant: This is a plate of food with some chopsticks in it.'], 'qid': 'vqa-313'}\n",
      "can not parse ans for res:  {'response': ['User: None \\nAssistant: This is a plate of food with some chopsticks in it.'], 'qid': 'vqa-314'}\n",
      "can not parse ans for res:  {'response': ['User: None \\nAssistant: This image consists of a plate in which there is a food item.'], 'qid': 'vqa-318'}\n",
      "can not parse ans for res:  {'response': ['User: None \\nAssistant: Meatballs with some green things in a sauce on a plate.'], 'qid': 'vqa-319'}\n",
      "can not parse ans for res:  {'response': ['User: None \\nAssistant: This is a plate of food that is on a table.'], 'qid': 'vqa-322'}\n",
      "can not parse ans for res:  {'response': ['User: None \\nAssistant: These are prawns which are also known as shrimps.'], 'qid': 'vqa-323'}\n",
      "can not parse ans for res:  {'response': ['User: None \\nAssistant: This is a plate of noodles with meat and vegetables.'], 'qid': 'vqa-324'}\n",
      "can not parse ans for res:  {'response': ['User: None \\nAssistant: Soy sauce, sesame oil, and chili oil are used as condiments.'], 'qid': 'vqa-326'}\n",
      "can not parse ans for res:  {'response': ['User: None \\nAssistant: Meat is served on a plate with foil.'], 'qid': 'vqa-327'}\n",
      "can not parse ans for res:  {'response': ['User: None \\nAssistant: This looks like a plate of meat with some sauce on it.'], 'qid': 'vqa-328'}\n",
      "can not parse ans for res:  {'response': ['User: None \\nAssistant: This image consists of a bowl in which there is a food item.'], 'qid': 'vqa-330'}\n",
      "0.2578125\n"
     ]
    }
   ],
   "source": [
    "idefics_res_files = glob.glob(os.path.join(result_dir, \"sivqa_idefics*.jsonl\"))\n",
    "print(idefics_res_files)\n",
    "\n",
    "for file in sorted(idefics_res_files):\n",
    "    file_name = os.path.basename(file)\n",
    "    print(file_name)\n",
    "    # load data\n",
    "    data = read_res_data(file_name)        \n",
    "    get_accuracy(sivqa, data)"
   ]
  },
  {
   "cell_type": "markdown",
   "metadata": {},
   "source": [
    "### phi3"
   ]
  },
  {
   "cell_type": "code",
   "execution_count": 76,
   "metadata": {},
   "outputs": [],
   "source": [
    "def parse_res(res):\n",
    "    random.seed(42)\n",
    "    ans_str = res[\"response\"]\n",
    "    ans_letter = re.findall(r'[A-Z]', ans_str)\n",
    "    if not ans_letter or len(ans_letter) == 0:\n",
    "        print(\"can not parse ans for res: \", res)\n",
    "        return random.choice([\"0\", \"1\", \"2\", \"3\"])\n",
    "    else:\n",
    "        ans = ans_letter[0].upper()\n",
    "        if ans not in ans2idx:\n",
    "            print(\"can not parse ans for res: \", res)\n",
    "            return random.choice([\"0\", \"1\", \"2\", \"3\"])\n",
    "        else:\n",
    "            return ans2idx[ans]"
   ]
  },
  {
   "cell_type": "code",
   "execution_count": 24,
   "metadata": {},
   "outputs": [
    {
     "name": "stdout",
     "output_type": "stream",
     "text": [
      "['/Users/wli/projects/foodie-dataset/data/results/sivqa_res/sivqa_Phi-3-vision-128k-instruct_en_prompt0.jsonl', '/Users/wli/projects/foodie-dataset/data/results/sivqa_res/sivqa_Phi-3-vision-128k-instruct_en_prompt2.jsonl', '/Users/wli/projects/foodie-dataset/data/results/sivqa_res/sivqa_Phi-3-vision-128k-instruct_en_prompt3.jsonl', '/Users/wli/projects/foodie-dataset/data/results/sivqa_res/sivqa_Phi-3-vision-128k-instruct_en_prompt1.jsonl']\n",
      "sivqa_Phi-3-vision-128k-instruct_en_prompt0.jsonl\n",
      "can not parse ans for res:  {'response': '\\nThe image shows a dish that appears to be a type of braised meat, which is a specialty of the Xinjiang region. The dish is served with a side of soup and a spoon, and there are also some spices and a chopstick visible. The correct answer is (A) Xinjiang.', 'qid': 'vqa-161'}\n",
      "0.44140625\n",
      "sivqa_Phi-3-vision-128k-instruct_en_prompt1.jsonl\n",
      "0.42578125\n",
      "sivqa_Phi-3-vision-128k-instruct_en_prompt2.jsonl\n",
      "0.4140625\n",
      "sivqa_Phi-3-vision-128k-instruct_en_prompt3.jsonl\n",
      "can not parse ans for res:  {'response': 'I would select (B) South Xinjiang as my answer. The image shows a pan filled with a local specialty of South Xinjiang, which appears to be a type of stir-fried meat and vegetables. This dish is a popular local specialty in South Xinjiang, and it is known for its unique flavor and texture. The other options, Yantai, Guizhou, and Wenzhou, are not as closely associated with this particular dish as South Xinjiang is.', 'qid': 'vqa-146'}\n",
      "0.4453125\n"
     ]
    }
   ],
   "source": [
    "phi3_res_files = glob.glob(os.path.join(result_dir, \"sivqa_Phi-3*_en*.jsonl\"))\n",
    "print(phi3_res_files)\n",
    "\n",
    "for file in sorted(phi3_res_files):\n",
    "    file_name = os.path.basename(file)\n",
    "    print(file_name)\n",
    "    # load data\n",
    "    data = read_res_data(file_name)        \n",
    "    get_accuracy(sivqa, data, parse_fn=parse_res)"
   ]
  },
  {
   "cell_type": "code",
   "execution_count": 87,
   "metadata": {},
   "outputs": [],
   "source": [
    "data = read_res_data(\"sivqa_idefics_prompt0.jsonl\")"
   ]
  },
  {
   "cell_type": "code",
   "execution_count": 90,
   "metadata": {},
   "outputs": [
    {
     "data": {
      "text/plain": [
       "[{'response': ['User: 图片中的食物通常属于哪个菜系? 选项有: A. 京菜B. 徽菜C. 新疆菜D. 桂菜, 请根据上图从所提供的选项中选择一个正确答案，并输出选项字母。答案是: \\nAssistant: A. 京菜.'],\n",
       "  'qid': 'vqa-0'},\n",
       " {'response': ['User: 图片中的食物通常属于哪个菜系? 选项有: A. 徽菜B. 赣菜 (客家菜）C. 川菜D. 新疆菜, 请根据上图从所提供的选项中选择一个正确答案，并输出选项字母。答案是: \\nAssistant: Answer: B'],\n",
       "  'qid': 'vqa-1'},\n",
       " {'response': ['User: 如果让你简单形容一下品尝图片中的食物的滋味，你会描述它 选项有: A. 脆爽B. 麻辣C. 皮酥肉嫩D. 清淡, 请根据上图从所提供的选项中选择一个正确答案，并输出选项字母。答案是: \\nAssistant: C. 皮酥肉嫩.'],\n",
       "  'qid': 'vqa-2'},\n",
       " {'response': ['User: 去哪个地方游玩时应该品尝当地的特色美食图片中的食物? 选项有: A. 川渝B. 浙江C. 贵州D. 云南, 请根据上图从所提供的选项中选择一个正确答案，并输出选项字母。答案是: \\nAssistant: A. 川渝.'],\n",
       "  'qid': 'vqa-6'},\n",
       " {'response': ['User: 食用图片中的食物时，一般它上菜或摆盘时的特点是? 选项有: A. 片状B. 常见大块C. 使用磁坛D. 麻将大小, 请根据上图从所提供的选项中选择一个正确答案，并输出选项字母。答案是: \\nAssistant: Answer: B'],\n",
       "  'qid': 'vqa-7'},\n",
       " {'response': ['User: 去哪个地方游玩时应该品尝当地的特色美食图片中的食物? 选项有: A. 香港B. 广东C. 嘉兴D. 台州, 请根据上图从所提供的选项中选择一个正确答案，并输出选项字母。答案是: \\nAssistant: A. 香港.'],\n",
       "  'qid': 'vqa-8'},\n",
       " {'response': ['User: 图片中的食物吃起来口感是? 选项有: A. 麻辣鲜香B. 孜然C. 鲜甜D. 咸, 请根据上图从所提供的选项中选择一个正确答案，并输出选项字母。答案是: \\nAssistant: D. 咸.'],\n",
       "  'qid': 'vqa-9'},\n",
       " {'response': ['User: 图片中的食物是哪个菜系的经典菜? 选项有: A. 赣菜B. 京菜C. 浙菜D. 苏菜, 请根据上图从所提供的选项中选择一个正确答案，并输出选项字母。答案是: \\nAssistant: A. 赣菜.'],\n",
       "  'qid': 'vqa-10'},\n",
       " {'response': ['User: 图片中的食物通常是什么口味? 选项有: A. 脆嫩B. 微酸C. 咸鲜D. 酸甜, 请根据上图从所提供的选项中选择一个正确答案，并输出选项字母。答案是: \\nAssistant: A. 脆嫩.'],\n",
       "  'qid': 'vqa-11'},\n",
       " {'response': ['User: 图片中的食物尝起来是什么味道? 选项有: A. 胡辣B. 清淡C. 糯D. 甜咸, 请根据上图从所提供的选项中选择一个正确答案，并输出选项字母。答案是: \\nAssistant: Answer: D'],\n",
       "  'qid': 'vqa-12'},\n",
       " {'response': ['User: 图片中的食物烹饪过程中不可或缺的步骤是? 选项有: A. 烤B. 勾芡C. 氽D. 炒, 请根据上图从所提供的选项中选择一个正确答案，并输出选项字母。答案是: \\nAssistant: A. 烤.'],\n",
       "  'qid': 'vqa-13'},\n",
       " {'response': ['User: 图片中的食物通常是什么口味? 选项有: A. 脆嫩B. 香辣C. 咸鲜D. 麻, 请根据上图从所提供的选项中选择一个正确答案，并输出选项字母。答案是: \\nAssistant: A. 脆嫩.'],\n",
       "  'qid': 'vqa-14'},\n",
       " {'response': ['User: 图片中的食物是哪个菜系的经典菜? 选项有: A. 苏菜B. 浙菜C. 沪菜D. 徽菜, 请根据上图从所提供的选项中选择一个正确答案，并输出选项字母。答案是: \\nAssistant: C. 沪菜.'],\n",
       "  'qid': 'vqa-16'},\n",
       " {'response': ['User: 图片中的食物尝起来是什么味道? 选项有: A. 香甜可口B. 酸辣C. 清新淡甜D. 后味清香, 请根据上图从所提供的选项中选择一个正确答案，并输出选项字母。答案是: \\nAssistant: D. 后味清香.'],\n",
       "  'qid': 'vqa-17'},\n",
       " {'response': ['User: 图片中的食物是哪个地区的特色菜? 选项有: A. 江南B. 东北C. 四川D. 香港, 请根据上图从所提供的选项中选择一个正确答案，并输出选项字母。答案是: \\nAssistant: C. 四川.'],\n",
       "  'qid': 'vqa-18'},\n",
       " {'response': ['User: 图片中的食物是哪个地区的特色菜? 选项有: A. 宁波B. 烟台C. 江南D. 陕西, 请根据上图从所提供的选项中选择一个正确答案，并输出选项字母。答案是: \\nAssistant: A. 宁波.'],\n",
       "  'qid': 'vqa-19'},\n",
       " {'response': ['User: 图片中的食物属于哪个菜系? 选项有: A. 西北菜B. 湘菜C. 家常菜D. 潮汕菜, 请根据上图从所提供的选项中选择一个正确答案，并输出选项字母。答案是: \\nAssistant: D. 潮汕菜.'],\n",
       "  'qid': 'vqa-21'},\n",
       " {'response': ['User: 去哪个地方游玩时应该品尝当地的特色美食图片中的食物? 选项有: A. 北京B. 上海C. 济南D. 湖南, 请根据上图从所提供的选项中选择一个正确答案，并输出选项字母。答案是: \\nAssistant: D. 湖南.'],\n",
       "  'qid': 'vqa-22'},\n",
       " {'response': ['User: 图片中的食物通常属于哪个菜系? 选项有: A. 湘菜B. 内蒙古菜C. 徽菜D. 沪菜, 请根据上图从所提供的选项中选择一个正确答案，并输出选项字母。答案是: \\nAssistant: D. 沪菜.'],\n",
       "  'qid': 'vqa-23'},\n",
       " {'response': ['User: 图片中的食物属于哪个菜系? 选项有: A. 鲁菜B. 赣菜 (客家菜）C. 粤菜D. 川菜, 请根据上图从所提供的选项中选择一个正确答案，并输出选项字母。答案是: \\nAssistant: Answer: B'],\n",
       "  'qid': 'vqa-24'},\n",
       " {'response': ['User: 图片中的食物烹饪过程中不可或缺的步骤是? 选项有: A. 氽B. 晒C. 烤D. 蒸, 请根据上图从所提供的选项中选择一个正确答案，并输出选项字母。答案是: \\nAssistant: Answer: C'],\n",
       "  'qid': 'vqa-25'},\n",
       " {'response': ['User: 图片中的食物是哪个菜系的经典菜? 选项有: A. 闽菜B. 潮汕菜C. 赣菜 (客家菜）D. 粤菜, 请根据上图从所提供的选项中选择一个正确答案，并输出选项字母。答案是: \\nAssistant: C. 赣菜 (客家菜)'],\n",
       "  'qid': 'vqa-26'},\n",
       " {'response': ['User: 图片中的食物烹饪过程中不可或缺的步骤是? 选项有: A. 勾芡B. 焖C. 蒸D. 炖, 请根据上图从所提供的选项中选择一个正确答案，并输出选项字母。答案是: \\nAssistant: Answer: B'],\n",
       "  'qid': 'vqa-27'},\n",
       " {'response': ['User: 图片中的食物是哪个地区的特色美食? 选项有: A. 客家B. 广东C. 江苏D. 京津, 请根据上图从所提供的选项中选择一个正确答案，并输出选项字母。答案是: \\nAssistant: A. 客家.'],\n",
       "  'qid': 'vqa-28'},\n",
       " {'response': ['User: 图片中的食物烹饪过程中不可或缺的步骤是? 选项有: A. 炒B. 氽C. 勾芡D. 熏, 请根据上图从所提供的选项中选择一个正确答案，并输出选项字母。答案是: \\nAssistant: A. 炒.'],\n",
       "  'qid': 'vqa-30'},\n",
       " {'response': ['User: 图片中的食物是哪个菜系的经典菜? 选项有: A. 苏菜B. 京菜C. 鲁菜D. 赣菜, 请根据上图从所提供的选项中选择一个正确答案，并输出选项字母。答案是: \\nAssistant: Answer: C. 鲁菜'],\n",
       "  'qid': 'vqa-33'},\n",
       " {'response': ['User: 图片中的食物是哪个地区的特色美食? 选项有: A. 山西B. 济南C. 南疆D. 客家, 请根据上图从所提供的选项中选择一个正确答案，并输出选项字母。答案是: \\nAssistant: D. 客家.'],\n",
       "  'qid': 'vqa-34'},\n",
       " {'response': ['User: 图片中的食物是哪个地区的特色美食? 选项有: A. 川渝B. 西宁C. 嘉兴D. 南疆, 请根据上图从所提供的选项中选择一个正确答案，并输出选项字母。答案是: \\nAssistant: A. 川渝.'],\n",
       "  'qid': 'vqa-36'},\n",
       " {'response': ['User: 图片中的食物通常是什么口味? 选项有: A. 后味清香B. 酸辣C. 松软鲜美D. 外皮酥韧, 请根据上图从所提供的选项中选择一个正确答案，并输出选项字母。答案是: \\nAssistant: A. 后味清香.'],\n",
       "  'qid': 'vqa-37'},\n",
       " {'response': ['User: 图片中的食物烹饪时一般需要? 选项有: A. 炸B. 蒸C. 煎D. 炒, 请根据上图从所提供的选项中选择一个正确答案，并输出选项字母。答案是: \\nAssistant: D. 炒.'],\n",
       "  'qid': 'vqa-38'}]"
      ]
     },
     "execution_count": 90,
     "metadata": {},
     "output_type": "execute_result"
    }
   ],
   "source": [
    "data[0:30]"
   ]
  },
  {
   "cell_type": "code",
   "execution_count": 89,
   "metadata": {},
   "outputs": [
    {
     "name": "stdout",
     "output_type": "stream",
     "text": [
      "0.3203125\n"
     ]
    }
   ],
   "source": [
    "get_accuracy(sivqa, data)"
   ]
  },
  {
   "cell_type": "markdown",
   "metadata": {},
   "source": [
    "### get qwen accuracy"
   ]
  },
  {
   "cell_type": "code",
   "execution_count": 106,
   "metadata": {},
   "outputs": [],
   "source": [
    "\n",
    "ans2idx = {\n",
    "        \"A\":\"0\",\n",
    "        \"B\":\"1\",\n",
    "        \"C\":\"2\",\n",
    "        \"D\":\"3\"\n",
    "        }\n",
    "\n",
    "def parse_qwen(res, template=0):\n",
    "    if template == 0 or template ==1 or template == 3:\n",
    "        ans_str = res[\"response\"].split(\"选择一个正确答案\")[1].strip()\n",
    "    ans_letter = re.findall(r'([A-Z])', ans_str)\n",
    "    if not ans_letter or len(ans_letter) == 0:\n",
    "        print(\"can not parse ans for res: \", res)\n",
    "        return random.choice([\"0\", \"1\", \"2\", \"3\"])\n",
    "    else:\n",
    "        ans = ans_letter[0].upper()\n",
    "        if ans not in ans2idx:\n",
    "            print(\"can not parse ans for res: \", res)\n",
    "            return random.choice([\"0\", \"1\", \"2\", \"3\"])\n",
    "        else:\n",
    "            return ans2idx[ans]\n"
   ]
  },
  {
   "cell_type": "code",
   "execution_count": 50,
   "metadata": {},
   "outputs": [],
   "source": [
    "# def get_accuracy(data, sivqa, template=0):\n",
    "#     gts = [s[\"answer\"] for s in sivqa]\n",
    "#     answers = [parse_res(d, template=template) for d in data]\n",
    "#     accuracy = accuracy_score(gts, answers)\n",
    "#     print(accuracy)"
   ]
  },
  {
   "cell_type": "code",
   "execution_count": 107,
   "metadata": {},
   "outputs": [
    {
     "name": "stdout",
     "output_type": "stream",
     "text": [
      "[]\n"
     ]
    }
   ],
   "source": [
    "qwen_res_files = glob.glob(os.path.join(result_dir, \"sivqa_qwen_prompt*.jsonl\"))\n",
    "print(sorted(qwen_res_files))\n",
    "\n",
    "for file in sorted(qwen_res_files):\n",
    "    file_name = os.path.basename(file)\n",
    "    print(file_name)\n",
    "    # load data\n",
    "    data = read_res_data(file_name)        \n",
    "    get_accuracy(sivqa, data, parse_fn=parse_qwen)"
   ]
  },
  {
   "cell_type": "markdown",
   "metadata": {},
   "source": [
    "### get yi-vl accuracy"
   ]
  },
  {
   "cell_type": "code",
   "execution_count": 6,
   "metadata": {},
   "outputs": [],
   "source": [
    "data = []\n",
    "with open(os.path.join(result_dir, \"sivqa_yi-vl_prompt3.jsonl\"), \"r\", encoding='utf-8') as f:\n",
    "    for line in f:\n",
    "        data.append(json.loads(line))"
   ]
  },
  {
   "cell_type": "code",
   "execution_count": 7,
   "metadata": {},
   "outputs": [
    {
     "data": {
      "text/plain": [
       "[{'response': 'B', 'qid': 'vqa-13'},\n",
       " {'response': 'C) 咸鲜', 'qid': 'vqa-14'},\n",
       " {'response': '徽菜', 'qid': 'vqa-16'},\n",
       " {'response': 'C', 'qid': 'vqa-17'},\n",
       " {'response': 'C', 'qid': 'vqa-18'},\n",
       " {'response': '宁波', 'qid': 'vqa-19'},\n",
       " {'response': 'D', 'qid': 'vqa-21'},\n",
       " {'response': 'D', 'qid': 'vqa-22'},\n",
       " {'response': '(A) 湘菜', 'qid': 'vqa-23'},\n",
       " {'response': 'D', 'qid': 'vqa-24'}]"
      ]
     },
     "execution_count": 7,
     "metadata": {},
     "output_type": "execute_result"
    }
   ],
   "source": [
    "data[10:20]"
   ]
  },
  {
   "cell_type": "code",
   "execution_count": 8,
   "metadata": {},
   "outputs": [],
   "source": [
    "\n",
    "ans2idx = {\n",
    "        \"A\":\"0\",\n",
    "        \"B\":\"1\",\n",
    "        \"C\":\"2\",\n",
    "        \"D\":\"3\"\n",
    "        }\n",
    "\n",
    "def parse_yi(res, template=0):\n",
    "    ans_str = res[\"response\"].strip()\n",
    "    ans_letter = re.findall(r'[A-Z]', ans_str)\n",
    "    if not ans_letter or len(ans_letter) == 0:\n",
    "        print(\"can not parse ans for res: \", res)\n",
    "        return random.choice([\"0\", \"1\", \"2\", \"3\"])\n",
    "    else:\n",
    "        ans = ans_letter[0].upper()\n",
    "        if ans not in ans2idx:\n",
    "            print(\"can not parse ans for res: \", res)\n",
    "            return random.choice([\"0\", \"1\", \"2\", \"3\"])\n",
    "        else:\n",
    "            return ans2idx[ans]\n"
   ]
  },
  {
   "cell_type": "code",
   "execution_count": 9,
   "metadata": {},
   "outputs": [
    {
     "name": "stdout",
     "output_type": "stream",
     "text": [
      "['/Users/wli/projects/foodie-dataset/data/results/sivqa_res/sivqa_yi-vl_prompt0.jsonl', '/Users/wli/projects/foodie-dataset/data/results/sivqa_res/sivqa_yi-vl_prompt1.jsonl', '/Users/wli/projects/foodie-dataset/data/results/sivqa_res/sivqa_yi-vl_prompt2.jsonl', '/Users/wli/projects/foodie-dataset/data/results/sivqa_res/sivqa_yi-vl_prompt3.jsonl', '/Users/wli/projects/foodie-dataset/data/results/sivqa_res/sivqa_yi-vl_prompt4.jsonl']\n",
      "sivqa_yi-vl_prompt0.jsonl\n",
      "0.49609375\n",
      "sivqa_yi-vl_prompt1.jsonl\n",
      "0.48046875\n",
      "sivqa_yi-vl_prompt2.jsonl\n",
      "0.4765625\n",
      "sivqa_yi-vl_prompt3.jsonl\n",
      "can not parse ans for res:  {'response': '京菜', 'qid': 'vqa-10'}\n",
      "can not parse ans for res:  {'response': '徽菜', 'qid': 'vqa-16'}\n",
      "can not parse ans for res:  {'response': '宁波', 'qid': 'vqa-19'}\n",
      "can not parse ans for res:  {'response': '广东', 'qid': 'vqa-28'}\n",
      "can not parse ans for res:  {'response': '客家', 'qid': 'vqa-34'}\n",
      "can not parse ans for res:  {'response': '川渝', 'qid': 'vqa-36'}\n",
      "can not parse ans for res:  {'response': '东北', 'qid': 'vqa-50'}\n",
      "can not parse ans for res:  {'response': '南方', 'qid': 'vqa-57'}\n",
      "can not parse ans for res:  {'response': '台州', 'qid': 'vqa-58'}\n",
      "can not parse ans for res:  {'response': '贵州', 'qid': 'vqa-60'}\n",
      "can not parse ans for res:  {'response': '粤菜', 'qid': 'vqa-61'}\n",
      "can not parse ans for res:  {'response': '四川', 'qid': 'vqa-70'}\n",
      "can not parse ans for res:  {'response': '川菜', 'qid': 'vqa-85'}\n",
      "can not parse ans for res:  {'response': '粤', 'qid': 'vqa-92'}\n",
      "can not parse ans for res:  {'response': '川菜', 'qid': 'vqa-93'}\n",
      "can not parse ans for res:  {'response': '川菜', 'qid': 'vqa-96'}\n",
      "can not parse ans for res:  {'response': '蒸', 'qid': 'vqa-103'}\n",
      "can not parse ans for res:  {'response': '浙江', 'qid': 'vqa-112'}\n",
      "can not parse ans for res:  {'response': '新疆', 'qid': 'vqa-120'}\n",
      "can not parse ans for res:  {'response': '粤', 'qid': 'vqa-125'}\n",
      "can not parse ans for res:  {'response': '川菜', 'qid': 'vqa-160'}\n",
      "can not parse ans for res:  {'response': '错误', 'qid': 'vqa-175'}\n",
      "can not parse ans for res:  {'response': '客家菜', 'qid': 'vqa-183'}\n",
      "can not parse ans for res:  {'response': '川菜', 'qid': 'vqa-190'}\n",
      "can not parse ans for res:  {'response': '客家菜', 'qid': 'vqa-193'}\n",
      "can not parse ans for res:  {'response': '湖南', 'qid': 'vqa-199'}\n",
      "can not parse ans for res:  {'response': '广东', 'qid': 'vqa-210'}\n",
      "can not parse ans for res:  {'response': '潮汕菜', 'qid': 'vqa-230'}\n",
      "can not parse ans for res:  {'response': '东北菜', 'qid': 'vqa-233'}\n",
      "can not parse ans for res:  {'response': '蒸', 'qid': 'vqa-247'}\n",
      "can not parse ans for res:  {'response': '重庆', 'qid': 'vqa-249'}\n",
      "can not parse ans for res:  {'response': '东北菜', 'qid': 'vqa-255'}\n",
      "can not parse ans for res:  {'response': '福建', 'qid': 'vqa-298'}\n",
      "can not parse ans for res:  {'response': '川菜', 'qid': 'vqa-305'}\n",
      "can not parse ans for res:  {'response': '双层铜锅', 'qid': 'vqa-307'}\n",
      "can not parse ans for res:  {'response': '北京', 'qid': 'vqa-326'}\n",
      "0.46484375\n"
     ]
    }
   ],
   "source": [
    "yi_res_files = glob.glob(os.path.join(result_dir, \"sivqa_yi*.jsonl\"))\n",
    "print(sorted(yi_res_files))\n",
    "\n",
    "for file in sorted(yi_res_files)[:4]:\n",
    "    file_name = os.path.basename(file)\n",
    "    print(file_name)\n",
    "    # load data\n",
    "    data = read_res_data(file_name)        \n",
    "    get_accuracy(sivqa, data, parse_fn=parse_yi)"
   ]
  },
  {
   "cell_type": "code",
   "execution_count": 10,
   "metadata": {},
   "outputs": [
    {
     "name": "stdout",
     "output_type": "stream",
     "text": [
      "['/Users/wli/projects/foodie-dataset/data/results/sivqa_res/sivqa_Yi-VL-34B_prompt0.jsonl', '/Users/wli/projects/foodie-dataset/data/results/sivqa_res/sivqa_Yi-VL-34B_prompt1.jsonl', '/Users/wli/projects/foodie-dataset/data/results/sivqa_res/sivqa_Yi-VL-34B_prompt2.jsonl', '/Users/wli/projects/foodie-dataset/data/results/sivqa_res/sivqa_Yi-VL-34B_prompt3.jsonl']\n",
      "sivqa_Yi-VL-34B_prompt0.jsonl\n",
      "0.50390625\n",
      "sivqa_Yi-VL-34B_prompt1.jsonl\n",
      "0.52734375\n",
      "sivqa_Yi-VL-34B_prompt2.jsonl\n",
      "can not parse ans for res:  {'response': '蒸', 'qid': 'vqa-45'}\n",
      "can not parse ans for res:  {'response': '这个图片描绘了充满各种食物的碗,包括许多小豆子,可能还有一些蔬菜。根据视觉提示,这碗食物看起来更接近于苏菜或沪菜,因为这两道菜都以其独特的烹饪风格和口味而闻名。', 'qid': 'vqa-120'}\n",
      "can not parse ans for res:  {'response': '这个图片显示的是苏菜。', 'qid': 'vqa-160'}\n",
      "can not parse ans for res:  {'response': '这个图片展示了一个美味的甜点,上面有水果和酱油,放在一张纸上。', 'qid': 'vqa-183'}\n",
      "can not parse ans for res:  {'response': '这个图片显示了一个碗牛肉面,它通常属于中国菜,特别是粤菜。', 'qid': 'vqa-193'}\n",
      "can not parse ans for res:  {'response': '东北菜', 'qid': 'vqa-255'}\n",
      "0.515625\n",
      "sivqa_Yi-VL-34B_prompt3.jsonl\n",
      "can not parse ans for res:  {'response': '这个图片显示了一个白色的盘子,上面放着一块土豆,上面放着一些草药。', 'qid': 'vqa-148'}\n",
      "0.48828125\n"
     ]
    }
   ],
   "source": [
    "yi_res_files = glob.glob(os.path.join(result_dir, \"sivqa_Yi-*.jsonl\"))\n",
    "print(sorted(yi_res_files))\n",
    "\n",
    "for file in sorted(yi_res_files)[:4]:\n",
    "    file_name = os.path.basename(file)\n",
    "    print(file_name)\n",
    "    # load data\n",
    "    data = read_res_data(file_name)        \n",
    "    get_accuracy(sivqa, data, parse_fn=parse_yi)"
   ]
  },
  {
   "cell_type": "code",
   "execution_count": 11,
   "metadata": {},
   "outputs": [],
   "source": [
    "result_dir = \"/Users/wli/projects/foodie-dataset/data/results/sivqa_show_food_name\""
   ]
  },
  {
   "cell_type": "code",
   "execution_count": 19,
   "metadata": {},
   "outputs": [
    {
     "name": "stdout",
     "output_type": "stream",
     "text": [
      "['/Users/wli/projects/foodie-dataset/data/results/sivqa_show_food_name/sivqa_Yi-VL-6B_prompt0.jsonl', '/Users/wli/projects/foodie-dataset/data/results/sivqa_show_food_name/sivqa_Yi-VL-6B_prompt1.jsonl', '/Users/wli/projects/foodie-dataset/data/results/sivqa_show_food_name/sivqa_Yi-VL-6B_prompt2.jsonl', '/Users/wli/projects/foodie-dataset/data/results/sivqa_show_food_name/sivqa_Yi-VL-6B_prompt3.jsonl']\n",
      "sivqa_Yi-VL-6B_prompt0.jsonl\n",
      "0.73828125\n",
      "sivqa_Yi-VL-6B_prompt1.jsonl\n",
      "0.74609375\n",
      "sivqa_Yi-VL-6B_prompt2.jsonl\n",
      "0.76171875\n",
      "sivqa_Yi-VL-6B_prompt3.jsonl\n",
      "can not parse ans for res:  {'response': '香港', 'qid': 'vqa-8'}\n",
      "can not parse ans for res:  {'response': '甜咸', 'qid': 'vqa-12'}\n",
      "can not parse ans for res:  {'response': '宁波', 'qid': 'vqa-19'}\n",
      "can not parse ans for res:  {'response': '湘菜', 'qid': 'vqa-23'}\n",
      "can not parse ans for res:  {'response': '川菜', 'qid': 'vqa-24'}\n",
      "can not parse ans for res:  {'response': '客家', 'qid': 'vqa-34'}\n",
      "can not parse ans for res:  {'response': '粤菜', 'qid': 'vqa-42'}\n",
      "can not parse ans for res:  {'response': '川菜', 'qid': 'vqa-44'}\n",
      "can not parse ans for res:  {'response': '四川', 'qid': 'vqa-57'}\n",
      "can not parse ans for res:  {'response': '贵州', 'qid': 'vqa-60'}\n",
      "can not parse ans for res:  {'response': '粤菜', 'qid': 'vqa-61'}\n",
      "can not parse ans for res:  {'response': '甜辣', 'qid': 'vqa-62'}\n",
      "can not parse ans for res:  {'response': '蒸', 'qid': 'vqa-68'}\n",
      "can not parse ans for res:  {'response': '四川', 'qid': 'vqa-70'}\n",
      "can not parse ans for res:  {'response': '新疆菜', 'qid': 'vqa-78'}\n",
      "can not parse ans for res:  {'response': '香港', 'qid': 'vqa-79'}\n",
      "can not parse ans for res:  {'response': '西北菜', 'qid': 'vqa-81'}\n",
      "can not parse ans for res:  {'response': '粤', 'qid': 'vqa-92'}\n",
      "can not parse ans for res:  {'response': '鱼丸粉是粤菜的经典菜肴。', 'qid': 'vqa-104'}\n",
      "can not parse ans for res:  {'response': '安徽', 'qid': 'vqa-109'}\n",
      "can not parse ans for res:  {'response': '浙江', 'qid': 'vqa-112'}\n",
      "can not parse ans for res:  {'response': '湘菜', 'qid': 'vqa-114'}\n",
      "can not parse ans for res:  {'response': '粤', 'qid': 'vqa-125'}\n",
      "can not parse ans for res:  {'response': '新疆菜', 'qid': 'vqa-126'}\n",
      "can not parse ans for res:  {'response': '淮扬菜', 'qid': 'vqa-129'}\n",
      "can not parse ans for res:  {'response': '川菜', 'qid': 'vqa-139'}\n",
      "can not parse ans for res:  {'response': '新疆', 'qid': 'vqa-145'}\n",
      "can not parse ans for res:  {'response': '浙江', 'qid': 'vqa-155'}\n",
      "can not parse ans for res:  {'response': '广东', 'qid': 'vqa-158'}\n",
      "can not parse ans for res:  {'response': '新疆', 'qid': 'vqa-161'}\n",
      "can not parse ans for res:  {'response': '川菜', 'qid': 'vqa-162'}\n",
      "can not parse ans for res:  {'response': '江苏', 'qid': 'vqa-176'}\n",
      "can not parse ans for res:  {'response': '宁波', 'qid': 'vqa-178'}\n",
      "can not parse ans for res:  {'response': '甜', 'qid': 'vqa-184'}\n",
      "can not parse ans for res:  {'response': '重庆火锅烹饪过程中必不可少的步骤是涮。', 'qid': 'vqa-189'}\n",
      "can not parse ans for res:  {'response': '粤菜', 'qid': 'vqa-193'}\n",
      "can not parse ans for res:  {'response': '四川', 'qid': 'vqa-197'}\n",
      "can not parse ans for res:  {'response': '苏菜', 'qid': 'vqa-202'}\n",
      "can not parse ans for res:  {'response': '闽菜', 'qid': 'vqa-208'}\n",
      "can not parse ans for res:  {'response': '粤菜', 'qid': 'vqa-215'}\n",
      "can not parse ans for res:  {'response': '浙菜', 'qid': 'vqa-216'}\n",
      "can not parse ans for res:  {'response': '川菜', 'qid': 'vqa-224'}\n",
      "can not parse ans for res:  {'response': '浙菜', 'qid': 'vqa-237'}\n",
      "can not parse ans for res:  {'response': '咸辣', 'qid': 'vqa-254'}\n",
      "can not parse ans for res:  {'response': '浙菜', 'qid': 'vqa-261'}\n",
      "can not parse ans for res:  {'response': '新疆菜', 'qid': 'vqa-262'}\n",
      "can not parse ans for res:  {'response': '东北菜', 'qid': 'vqa-276'}\n",
      "can not parse ans for res:  {'response': '新疆', 'qid': 'vqa-287'}\n",
      "can not parse ans for res:  {'response': '广东', 'qid': 'vqa-304'}\n",
      "can not parse ans for res:  {'response': '新疆', 'qid': 'vqa-318'}\n",
      "can not parse ans for res:  {'response': '北京', 'qid': 'vqa-326'}\n",
      "can not parse ans for res:  {'response': '香港', 'qid': 'vqa-328'}\n",
      "0.625\n"
     ]
    }
   ],
   "source": [
    "yi_res_files = glob.glob(os.path.join(result_dir, \"sivqa_Yi-VL-6B*.jsonl\"))\n",
    "print(sorted(yi_res_files))\n",
    "\n",
    "for file in sorted(yi_res_files)[:4]:\n",
    "    file_name = os.path.basename(file)\n",
    "    print(file_name)\n",
    "    # load data\n",
    "    data = read_res_data(file_name)        \n",
    "    get_accuracy(sivqa, data, parse_fn=parse_yi)"
   ]
  },
  {
   "cell_type": "code",
   "execution_count": 17,
   "metadata": {},
   "outputs": [
    {
     "data": {
      "text/plain": [
       "[]"
      ]
     },
     "execution_count": 17,
     "metadata": {},
     "output_type": "execute_result"
    }
   ],
   "source": [
    "yi_res_files"
   ]
  },
  {
   "cell_type": "code",
   "execution_count": 249,
   "metadata": {},
   "outputs": [
    {
     "data": {
      "image/png": "[encoded data removed]",
      "text/plain": [
       "<Figure size 576x432 with 1 Axes>"
      ]
     },
     "metadata": {},
     "output_type": "display_data"
    }
   ],
   "source": [
    "import pandas as pd\n",
    "from matplotlib import pyplot as plt\n",
    "import seaborn as sns\n",
    "\n",
    "sivqa_acc = pd.read_csv(\"../sivqa_acc.csv\", delimiter=\",\")\n",
    "\n",
    "plt.figure(figsize=(8, 6))\n",
    "g = sns.boxplot(x='model', y='acc', hue='lang', data=sivqa_acc,showmeans=True)\n",
    "plt.axhline(y=74.41, color='red', linestyle='--', label='Human Accuracy (ZH)')\n",
    "# sns.despine(offset=10, trim=True)\n",
    "# Rotate x labels\n",
    "# Wrap the x-axis labels\n",
    "plt.xticks(rotation=45)\n",
    "# g.set_xlabel('Model')\n",
    "g.set_xlabel(None)\n",
    "g.set_ylabel('Accuracy')\n",
    "\n",
    "def wrap_labels(ax, width, break_long_words=False):\n",
    "    labels = ax.get_xticklabels()\n",
    "    new_labels = [textwrap.fill(label.get_text(), width=width, break_long_words=break_long_words) for label in labels]\n",
    "    ax.set_xticklabels(new_labels, rotation=45, ha='center')\n",
    "\n",
    "import textwrap\n",
    "ax = plt.gca()\n",
    "wrap_labels(ax, 10)\n",
    "plt.tight_layout()\n",
    "plt.savefig(\"/Users/wli/projects/foodie-dataset/data/figs/sivqa_acc.pdf\")\n"
   ]
  },
  {
   "cell_type": "markdown",
   "metadata": {},
   "source": [
    "## MIVQA accuracy"
   ]
  },
  {
   "cell_type": "code",
   "execution_count": 98,
   "metadata": {},
   "outputs": [],
   "source": [
    "result_dir = \"/Users/wli/projects/foodie-dataset/data/results/mivqa_res\"\n",
    "mivqa = utils.read_mivqa(\"/Users/wli/projects/foodie-dataset/data/\", \"mivqa_filtered.json\")"
   ]
  },
  {
   "cell_type": "code",
   "execution_count": 99,
   "metadata": {},
   "outputs": [
    {
     "name": "stdout",
     "output_type": "stream",
     "text": [
      "mivqa_Mantis-8B-Idefics2_en_prompt0.jsonl\n",
      "mivqa_Mantis-8B-Idefics2_en_prompt1.jsonl\n",
      "mivqa_Mantis-8B-Idefics2_en_prompt2.jsonl\n",
      "mivqa_Mantis-8B-Idefics2_en_prompt3.jsonl\n",
      "mivqa_Phi-3-vision-128k-instruct_en_prompt0.jsonl\n",
      "mivqa_Phi-3-vision-128k-instruct_en_prompt1.jsonl\n",
      "mivqa_Phi-3-vision-128k-instruct_en_prompt2.jsonl\n",
      "mivqa_Phi-3-vision-128k-instruct_en_prompt3.jsonl\n",
      "mivqa_Phi-3-vision-128k-instruct_prompt0.jsonl\n",
      "mivqa_Phi-3-vision-128k-instruct_prompt1.jsonl\n",
      "mivqa_Phi-3-vision-128k-instruct_prompt2.jsonl\n",
      "mivqa_Phi-3-vision-128k-instruct_prompt3.jsonl\n",
      "mivqa_Qwen-VL_en_prompt0.jsonl\n",
      "mivqa_Qwen-VL_en_prompt1.jsonl\n",
      "mivqa_Qwen-VL_en_prompt2.jsonl\n",
      "mivqa_Qwen-VL_en_prompt3.jsonl\n",
      "mivqa_idefics2-8b_en_prompt0.jsonl\n",
      "mivqa_idefics2-8b_en_prompt1.jsonl\n",
      "mivqa_idefics2-8b_en_prompt2.jsonl\n",
      "mivqa_idefics2-8b_en_prompt3.jsonl\n",
      "mivqa_idefics2-8b_prompt0.jsonl\n",
      "mivqa_idefics2-8b_prompt1.jsonl\n",
      "mivqa_idefics2-8b_prompt2.jsonl\n",
      "mivqa_idefics2-8b_prompt3.jsonl\n",
      "mivqa_mantis_prompt0.jsonl\n",
      "mivqa_mantis_prompt1.jsonl\n",
      "mivqa_mantis_prompt2.jsonl\n",
      "mivqa_mantis_prompt3.jsonl\n",
      "mivqa_qwen_temp0.jsonl\n",
      "mivqa_qwen_temp1.jsonl\n",
      "mivqa_qwen_temp2.jsonl\n",
      "mivqa_qwen_temp3.jsonl\n"
     ]
    }
   ],
   "source": [
    "! ls /Users/wli/projects/foodie-dataset/data/results/mivqa_res"
   ]
  },
  {
   "cell_type": "code",
   "execution_count": 70,
   "metadata": {},
   "outputs": [],
   "source": [
    "def get_res_and_acc(mivqa, res_file_prefix, parse_fn):\n",
    "    res_files = glob.glob(os.path.join(result_dir, res_file_prefix))\n",
    "    print(sorted(res_files))\n",
    "    \n",
    "    all_data = []\n",
    "    all_acc = []\n",
    "    for file in sorted(res_files):\n",
    "        file_name = os.path.basename(file)\n",
    "        print(file_name)\n",
    "        # load data\n",
    "        data = read_res_data(file_name)        \n",
    "        # print(data[0])\n",
    "        acc = get_accuracy(mivqa, data, parse_fn)\n",
    "        \n",
    "        all_data.append(data)\n",
    "        all_acc.append(round(acc,4))\n",
    "    return all_data, all_acc"
   ]
  },
  {
   "cell_type": "code",
   "execution_count": 71,
   "metadata": {},
   "outputs": [
    {
     "name": "stdout",
     "output_type": "stream",
     "text": [
      "['/Users/wli/projects/foodie-dataset/data/results/mivqa_res/mivqa_mantis_prompt0.jsonl', '/Users/wli/projects/foodie-dataset/data/results/mivqa_res/mivqa_mantis_prompt1.jsonl', '/Users/wli/projects/foodie-dataset/data/results/mivqa_res/mivqa_mantis_prompt2.jsonl', '/Users/wli/projects/foodie-dataset/data/results/mivqa_res/mivqa_mantis_prompt3.jsonl']\n",
      "mivqa_mantis_prompt0.jsonl\n",
      "0.4665012406947891\n",
      "mivqa_mantis_prompt1.jsonl\n",
      "Can not parse response, falling back to random...\n",
      "Can not parse response, falling back to random...\n",
      "Can not parse response, falling back to random...\n",
      "Can not parse response, falling back to random...\n",
      "Can not parse response, falling back to random...\n",
      "Can not parse response, falling back to random...\n",
      "Can not parse response, falling back to random...\n",
      "Can not parse response, falling back to random...\n",
      "Can not parse response, falling back to random...\n",
      "Can not parse response, falling back to random...\n",
      "Can not parse response, falling back to random...\n",
      "Can not parse response, falling back to random...\n",
      "Can not parse response, falling back to random...\n",
      "Can not parse response, falling back to random...\n",
      "Can not parse response, falling back to random...\n",
      "Can not parse response, falling back to random...\n",
      "Can not parse response, falling back to random...\n",
      "Can not parse response, falling back to random...\n",
      "Can not parse response, falling back to random...\n",
      "Can not parse response, falling back to random...\n",
      "Can not parse response, falling back to random...\n",
      "Can not parse response, falling back to random...\n",
      "Can not parse response, falling back to random...\n",
      "Can not parse response, falling back to random...\n",
      "Can not parse response, falling back to random...\n",
      "Can not parse response, falling back to random...\n",
      "Can not parse response, falling back to random...\n",
      "Can not parse response, falling back to random...\n",
      "Can not parse response, falling back to random...\n",
      "Can not parse response, falling back to random...\n",
      "Can not parse response, falling back to random...\n",
      "Can not parse response, falling back to random...\n",
      "Can not parse response, falling back to random...\n",
      "Can not parse response, falling back to random...\n",
      "Can not parse response, falling back to random...\n",
      "Can not parse response, falling back to random...\n",
      "Can not parse response, falling back to random...\n",
      "Can not parse response, falling back to random...\n",
      "Can not parse response, falling back to random...\n",
      "Can not parse response, falling back to random...\n",
      "Can not parse response, falling back to random...\n",
      "Can not parse response, falling back to random...\n",
      "Can not parse response, falling back to random...\n",
      "Can not parse response, falling back to random...\n",
      "Can not parse response, falling back to random...\n",
      "Can not parse response, falling back to random...\n",
      "Can not parse response, falling back to random...\n",
      "Can not parse response, falling back to random...\n",
      "Can not parse response, falling back to random...\n",
      "Can not parse response, falling back to random...\n",
      "Can not parse response, falling back to random...\n",
      "Can not parse response, falling back to random...\n",
      "Can not parse response, falling back to random...\n",
      "Can not parse response, falling back to random...\n",
      "Can not parse response, falling back to random...\n",
      "Can not parse response, falling back to random...\n",
      "Can not parse response, falling back to random...\n",
      "Can not parse response, falling back to random...\n",
      "Can not parse response, falling back to random...\n",
      "Can not parse response, falling back to random...\n",
      "Can not parse response, falling back to random...\n",
      "Can not parse response, falling back to random...\n",
      "Can not parse response, falling back to random...\n",
      "Can not parse response, falling back to random...\n",
      "Can not parse response, falling back to random...\n",
      "Can not parse response, falling back to random...\n",
      "Can not parse response, falling back to random...\n",
      "Can not parse response, falling back to random...\n",
      "Can not parse response, falling back to random...\n",
      "Can not parse response, falling back to random...\n",
      "Can not parse response, falling back to random...\n",
      "Can not parse response, falling back to random...\n",
      "Can not parse response, falling back to random...\n",
      "Can not parse response, falling back to random...\n",
      "Can not parse response, falling back to random...\n",
      "Can not parse response, falling back to random...\n",
      "Can not parse response, falling back to random...\n",
      "Can not parse response, falling back to random...\n",
      "Can not parse response, falling back to random...\n",
      "Can not parse response, falling back to random...\n",
      "Can not parse response, falling back to random...\n",
      "Can not parse response, falling back to random...\n",
      "Can not parse response, falling back to random...\n",
      "Can not parse response, falling back to random...\n",
      "Can not parse response, falling back to random...\n",
      "Can not parse response, falling back to random...\n",
      "Can not parse response, falling back to random...\n",
      "Can not parse response, falling back to random...\n",
      "Can not parse response, falling back to random...\n",
      "Can not parse response, falling back to random...\n",
      "Can not parse response, falling back to random...\n",
      "Can not parse response, falling back to random...\n",
      "Can not parse response, falling back to random...\n",
      "Can not parse response, falling back to random...\n",
      "Can not parse response, falling back to random...\n",
      "Can not parse response, falling back to random...\n",
      "Can not parse response, falling back to random...\n",
      "Can not parse response, falling back to random...\n",
      "Can not parse response, falling back to random...\n",
      "Can not parse response, falling back to random...\n",
      "Can not parse response, falling back to random...\n",
      "Can not parse response, falling back to random...\n",
      "Can not parse response, falling back to random...\n",
      "Can not parse response, falling back to random...\n",
      "Can not parse response, falling back to random...\n",
      "Can not parse response, falling back to random...\n",
      "Can not parse response, falling back to random...\n",
      "Can not parse response, falling back to random...\n",
      "Can not parse response, falling back to random...\n",
      "Can not parse response, falling back to random...\n",
      "Can not parse response, falling back to random...\n",
      "Can not parse response, falling back to random...\n",
      "Can not parse response, falling back to random...\n",
      "Can not parse response, falling back to random...\n",
      "Can not parse response, falling back to random...\n",
      "Can not parse response, falling back to random...\n",
      "Can not parse response, falling back to random...\n",
      "Can not parse response, falling back to random...\n",
      "Can not parse response, falling back to random...\n",
      "Can not parse response, falling back to random...\n",
      "Can not parse response, falling back to random...\n",
      "Can not parse response, falling back to random...\n",
      "Can not parse response, falling back to random...\n",
      "Can not parse response, falling back to random...\n",
      "Can not parse response, falling back to random...\n",
      "Can not parse response, falling back to random...\n",
      "Can not parse response, falling back to random...\n",
      "Can not parse response, falling back to random...\n",
      "Can not parse response, falling back to random...\n",
      "Can not parse response, falling back to random...\n",
      "Can not parse response, falling back to random...\n",
      "Can not parse response, falling back to random...\n",
      "Can not parse response, falling back to random...\n",
      "Can not parse response, falling back to random...\n",
      "Can not parse response, falling back to random...\n",
      "Can not parse response, falling back to random...\n",
      "Can not parse response, falling back to random...\n",
      "Can not parse response, falling back to random...\n",
      "Can not parse response, falling back to random...\n",
      "Can not parse response, falling back to random...\n",
      "Can not parse response, falling back to random...\n",
      "Can not parse response, falling back to random...\n",
      "Can not parse response, falling back to random...\n",
      "Can not parse response, falling back to random...\n",
      "Can not parse response, falling back to random...\n",
      "Can not parse response, falling back to random...\n",
      "Can not parse response, falling back to random...\n",
      "Can not parse response, falling back to random...\n",
      "Can not parse response, falling back to random...\n",
      "Can not parse response, falling back to random...\n",
      "Can not parse response, falling back to random...\n",
      "Can not parse response, falling back to random...\n",
      "Can not parse response, falling back to random...\n",
      "Can not parse response, falling back to random...\n",
      "Can not parse response, falling back to random...\n",
      "Can not parse response, falling back to random...\n",
      "Can not parse response, falling back to random...\n",
      "Can not parse response, falling back to random...\n",
      "Can not parse response, falling back to random...\n",
      "Can not parse response, falling back to random...\n",
      "Can not parse response, falling back to random...\n",
      "Can not parse response, falling back to random...\n",
      "Can not parse response, falling back to random...\n",
      "Can not parse response, falling back to random...\n",
      "Can not parse response, falling back to random...\n",
      "Can not parse response, falling back to random...\n",
      "Can not parse response, falling back to random...\n",
      "Can not parse response, falling back to random...\n",
      "Can not parse response, falling back to random...\n",
      "Can not parse response, falling back to random...\n",
      "Can not parse response, falling back to random...\n",
      "Can not parse response, falling back to random...\n",
      "Can not parse response, falling back to random...\n",
      "Can not parse response, falling back to random...\n",
      "Can not parse response, falling back to random...\n",
      "Can not parse response, falling back to random...\n",
      "Can not parse response, falling back to random...\n",
      "Can not parse response, falling back to random...\n",
      "Can not parse response, falling back to random...\n",
      "Can not parse response, falling back to random...\n",
      "Can not parse response, falling back to random...\n",
      "Can not parse response, falling back to random...\n",
      "Can not parse response, falling back to random...\n",
      "Can not parse response, falling back to random...\n",
      "Can not parse response, falling back to random...\n",
      "Can not parse response, falling back to random...\n",
      "Can not parse response, falling back to random...\n",
      "Can not parse response, falling back to random...\n",
      "Can not parse response, falling back to random...\n",
      "Can not parse response, falling back to random...\n",
      "Can not parse response, falling back to random...\n",
      "Can not parse response, falling back to random...\n",
      "Can not parse response, falling back to random...\n",
      "Can not parse response, falling back to random...\n",
      "Can not parse response, falling back to random...\n",
      "Can not parse response, falling back to random...\n",
      "Can not parse response, falling back to random...\n",
      "Can not parse response, falling back to random...\n",
      "Can not parse response, falling back to random...\n",
      "Can not parse response, falling back to random...\n",
      "Can not parse response, falling back to random...\n",
      "Can not parse response, falling back to random...\n",
      "Can not parse response, falling back to random...\n",
      "Can not parse response, falling back to random...\n",
      "Can not parse response, falling back to random...\n",
      "Can not parse response, falling back to random...\n",
      "Can not parse response, falling back to random...\n",
      "Can not parse response, falling back to random...\n",
      "Can not parse response, falling back to random...\n",
      "Can not parse response, falling back to random...\n",
      "Can not parse response, falling back to random...\n",
      "Can not parse response, falling back to random...\n",
      "Can not parse response, falling back to random...\n",
      "Can not parse response, falling back to random...\n",
      "Can not parse response, falling back to random...\n",
      "Can not parse response, falling back to random...\n",
      "Can not parse response, falling back to random...\n",
      "Can not parse response, falling back to random...\n",
      "Can not parse response, falling back to random...\n",
      "Can not parse response, falling back to random...\n",
      "Can not parse response, falling back to random...\n",
      "Can not parse response, falling back to random...\n",
      "Can not parse response, falling back to random...\n",
      "Can not parse response, falling back to random...\n",
      "Can not parse response, falling back to random...\n",
      "Can not parse response, falling back to random...\n",
      "Can not parse response, falling back to random...\n",
      "Can not parse response, falling back to random...\n",
      "Can not parse response, falling back to random...\n",
      "Can not parse response, falling back to random...\n",
      "Can not parse response, falling back to random...\n",
      "Can not parse response, falling back to random...\n",
      "Can not parse response, falling back to random...\n",
      "Can not parse response, falling back to random...\n",
      "Can not parse response, falling back to random...\n",
      "Can not parse response, falling back to random...\n",
      "Can not parse response, falling back to random...\n",
      "Can not parse response, falling back to random...\n",
      "Can not parse response, falling back to random...\n",
      "Can not parse response, falling back to random...\n",
      "Can not parse response, falling back to random...\n",
      "Can not parse response, falling back to random...\n",
      "Can not parse response, falling back to random...\n",
      "Can not parse response, falling back to random...\n",
      "Can not parse response, falling back to random...\n",
      "Can not parse response, falling back to random...\n",
      "Can not parse response, falling back to random...\n",
      "Can not parse response, falling back to random...\n",
      "Can not parse response, falling back to random...\n",
      "Can not parse response, falling back to random...\n",
      "Can not parse response, falling back to random...\n",
      "Can not parse response, falling back to random...\n",
      "Can not parse response, falling back to random...\n",
      "Can not parse response, falling back to random...\n",
      "Can not parse response, falling back to random...\n",
      "Can not parse response, falling back to random...\n",
      "Can not parse response, falling back to random...\n",
      "Can not parse response, falling back to random...\n",
      "Can not parse response, falling back to random...\n",
      "Can not parse response, falling back to random...\n",
      "Can not parse response, falling back to random...\n",
      "Can not parse response, falling back to random...\n",
      "Can not parse response, falling back to random...\n",
      "Can not parse response, falling back to random...\n",
      "Can not parse response, falling back to random...\n",
      "Can not parse response, falling back to random...\n",
      "Can not parse response, falling back to random...\n",
      "Can not parse response, falling back to random...\n",
      "Can not parse response, falling back to random...\n",
      "Can not parse response, falling back to random...\n",
      "Can not parse response, falling back to random...\n",
      "Can not parse response, falling back to random...\n",
      "Can not parse response, falling back to random...\n",
      "Can not parse response, falling back to random...\n",
      "Can not parse response, falling back to random...\n",
      "Can not parse response, falling back to random...\n",
      "Can not parse response, falling back to random...\n",
      "Can not parse response, falling back to random...\n",
      "Can not parse response, falling back to random...\n",
      "Can not parse response, falling back to random...\n",
      "Can not parse response, falling back to random...\n",
      "Can not parse response, falling back to random...\n",
      "Can not parse response, falling back to random...\n",
      "Can not parse response, falling back to random...\n",
      "Can not parse response, falling back to random...\n",
      "Can not parse response, falling back to random...\n",
      "Can not parse response, falling back to random...\n",
      "Can not parse response, falling back to random...\n",
      "Can not parse response, falling back to random...\n",
      "Can not parse response, falling back to random...\n",
      "Can not parse response, falling back to random...\n",
      "Can not parse response, falling back to random...\n",
      "Can not parse response, falling back to random...\n",
      "Can not parse response, falling back to random...\n",
      "Can not parse response, falling back to random...\n",
      "Can not parse response, falling back to random...\n",
      "Can not parse response, falling back to random...\n",
      "Can not parse response, falling back to random...\n",
      "Can not parse response, falling back to random...\n",
      "Can not parse response, falling back to random...\n",
      "Can not parse response, falling back to random...\n",
      "Can not parse response, falling back to random...\n",
      "Can not parse response, falling back to random...\n",
      "Can not parse response, falling back to random...\n",
      "Can not parse response, falling back to random...\n",
      "Can not parse response, falling back to random...\n",
      "Can not parse response, falling back to random...\n",
      "Can not parse response, falling back to random...\n",
      "Can not parse response, falling back to random...\n",
      "Can not parse response, falling back to random...\n",
      "Can not parse response, falling back to random...\n",
      "Can not parse response, falling back to random...\n",
      "Can not parse response, falling back to random...\n",
      "Can not parse response, falling back to random...\n",
      "Can not parse response, falling back to random...\n",
      "Can not parse response, falling back to random...\n",
      "Can not parse response, falling back to random...\n",
      "Can not parse response, falling back to random...\n",
      "Can not parse response, falling back to random...\n",
      "Can not parse response, falling back to random...\n",
      "Can not parse response, falling back to random...\n",
      "Can not parse response, falling back to random...\n",
      "Can not parse response, falling back to random...\n",
      "Can not parse response, falling back to random...\n",
      "Can not parse response, falling back to random...\n",
      "Can not parse response, falling back to random...\n",
      "Can not parse response, falling back to random...\n",
      "Can not parse response, falling back to random...\n",
      "Can not parse response, falling back to random...\n",
      "Can not parse response, falling back to random...\n",
      "Can not parse response, falling back to random...\n",
      "Can not parse response, falling back to random...\n",
      "Can not parse response, falling back to random...\n",
      "Can not parse response, falling back to random...\n",
      "Can not parse response, falling back to random...\n",
      "Can not parse response, falling back to random...\n",
      "Can not parse response, falling back to random...\n",
      "Can not parse response, falling back to random...\n",
      "Can not parse response, falling back to random...\n",
      "Can not parse response, falling back to random...\n",
      "Can not parse response, falling back to random...\n",
      "Can not parse response, falling back to random...\n",
      "Can not parse response, falling back to random...\n",
      "Can not parse response, falling back to random...\n",
      "Can not parse response, falling back to random...\n",
      "Can not parse response, falling back to random...\n",
      "Can not parse response, falling back to random...\n",
      "Can not parse response, falling back to random...\n",
      "Can not parse response, falling back to random...\n",
      "Can not parse response, falling back to random...\n",
      "Can not parse response, falling back to random...\n",
      "Can not parse response, falling back to random...\n",
      "Can not parse response, falling back to random...\n",
      "Can not parse response, falling back to random...\n",
      "Can not parse response, falling back to random...\n",
      "Can not parse response, falling back to random...\n",
      "Can not parse response, falling back to random...\n",
      "Can not parse response, falling back to random...\n",
      "Can not parse response, falling back to random...\n",
      "Can not parse response, falling back to random...\n",
      "Can not parse response, falling back to random...\n",
      "Can not parse response, falling back to random...\n",
      "Can not parse response, falling back to random...\n",
      "Can not parse response, falling back to random...\n",
      "Can not parse response, falling back to random...\n",
      "Can not parse response, falling back to random...\n",
      "Can not parse response, falling back to random...\n",
      "Can not parse response, falling back to random...\n",
      "Can not parse response, falling back to random...\n",
      "Can not parse response, falling back to random...\n",
      "Can not parse response, falling back to random...\n",
      "Can not parse response, falling back to random...\n",
      "Can not parse response, falling back to random...\n",
      "Can not parse response, falling back to random...\n",
      "Can not parse response, falling back to random...\n",
      "Can not parse response, falling back to random...\n",
      "Can not parse response, falling back to random...\n",
      "Can not parse response, falling back to random...\n",
      "Can not parse response, falling back to random...\n",
      "Can not parse response, falling back to random...\n",
      "Can not parse response, falling back to random...\n",
      "Can not parse response, falling back to random...\n",
      "Can not parse response, falling back to random...\n",
      "Can not parse response, falling back to random...\n",
      "Can not parse response, falling back to random...\n",
      "Can not parse response, falling back to random...\n",
      "Can not parse response, falling back to random...\n",
      "Can not parse response, falling back to random...\n",
      "Can not parse response, falling back to random...\n",
      "Can not parse response, falling back to random...\n",
      "0.23573200992555832\n",
      "mivqa_mantis_prompt2.jsonl\n",
      "Can not parse response, falling back to random...\n",
      "Can not parse response, falling back to random...\n",
      "Can not parse response, falling back to random...\n",
      "Can not parse response, falling back to random...\n",
      "Can not parse response, falling back to random...\n",
      "Can not parse response, falling back to random...\n",
      "Can not parse response, falling back to random...\n",
      "Can not parse response, falling back to random...\n",
      "Can not parse response, falling back to random...\n",
      "Can not parse response, falling back to random...\n",
      "Can not parse response, falling back to random...\n",
      "Can not parse response, falling back to random...\n",
      "Can not parse response, falling back to random...\n",
      "Can not parse response, falling back to random...\n",
      "Can not parse response, falling back to random...\n",
      "Can not parse response, falling back to random...\n",
      "Can not parse response, falling back to random...\n",
      "Can not parse response, falling back to random...\n",
      "Can not parse response, falling back to random...\n",
      "Can not parse response, falling back to random...\n",
      "Can not parse response, falling back to random...\n",
      "Can not parse response, falling back to random...\n",
      "Can not parse response, falling back to random...\n",
      "Can not parse response, falling back to random...\n",
      "Can not parse response, falling back to random...\n",
      "Can not parse response, falling back to random...\n",
      "Can not parse response, falling back to random...\n",
      "Can not parse response, falling back to random...\n",
      "Can not parse response, falling back to random...\n",
      "Can not parse response, falling back to random...\n",
      "Can not parse response, falling back to random...\n",
      "Can not parse response, falling back to random...\n",
      "Can not parse response, falling back to random...\n",
      "Can not parse response, falling back to random...\n",
      "Can not parse response, falling back to random...\n",
      "Can not parse response, falling back to random...\n",
      "Can not parse response, falling back to random...\n",
      "Can not parse response, falling back to random...\n",
      "Can not parse response, falling back to random...\n",
      "Can not parse response, falling back to random...\n",
      "Can not parse response, falling back to random...\n",
      "Can not parse response, falling back to random...\n",
      "Can not parse response, falling back to random...\n",
      "Can not parse response, falling back to random...\n",
      "Can not parse response, falling back to random...\n",
      "Can not parse response, falling back to random...\n",
      "Can not parse response, falling back to random...\n",
      "Can not parse response, falling back to random...\n",
      "Can not parse response, falling back to random...\n",
      "Can not parse response, falling back to random...\n",
      "Can not parse response, falling back to random...\n",
      "Can not parse response, falling back to random...\n",
      "Can not parse response, falling back to random...\n",
      "Can not parse response, falling back to random...\n",
      "Can not parse response, falling back to random...\n",
      "Can not parse response, falling back to random...\n",
      "Can not parse response, falling back to random...\n",
      "Can not parse response, falling back to random...\n",
      "Can not parse response, falling back to random...\n",
      "Can not parse response, falling back to random...\n",
      "Can not parse response, falling back to random...\n",
      "Can not parse response, falling back to random...\n",
      "Can not parse response, falling back to random...\n",
      "Can not parse response, falling back to random...\n",
      "Can not parse response, falling back to random...\n",
      "Can not parse response, falling back to random...\n",
      "Can not parse response, falling back to random...\n",
      "0.37965260545905705\n",
      "mivqa_mantis_prompt3.jsonl\n",
      "0.2704714640198511\n",
      "[0.4665, 0.2357, 0.3797, 0.2705]\n"
     ]
    }
   ],
   "source": [
    "mantis_data, mantis_acc = get_res_and_acc(mivqa, \"mivqa_mantis_prompt*.jsonl\", utils.parse_mantis)\n",
    "print(mantis_acc)"
   ]
  },
  {
   "cell_type": "code",
   "execution_count": 72,
   "metadata": {},
   "outputs": [
    {
     "name": "stdout",
     "output_type": "stream",
     "text": [
      "['/Users/wli/projects/foodie-dataset/data/results/mivqa_res/mivqa_qwen_temp0.jsonl', '/Users/wli/projects/foodie-dataset/data/results/mivqa_res/mivqa_qwen_temp1.jsonl', '/Users/wli/projects/foodie-dataset/data/results/mivqa_res/mivqa_qwen_temp2.jsonl', '/Users/wli/projects/foodie-dataset/data/results/mivqa_res/mivqa_qwen_temp3.jsonl']\n",
      "mivqa_qwen_temp0.jsonl\n",
      "0.2555831265508685\n",
      "mivqa_qwen_temp1.jsonl\n",
      "0.27543424317617865\n",
      "mivqa_qwen_temp2.jsonl\n",
      "0.3052109181141439\n",
      "mivqa_qwen_temp3.jsonl\n",
      "0.2630272952853598\n",
      "[0.2556, 0.2754, 0.3052, 0.263]\n"
     ]
    }
   ],
   "source": [
    "mantis_data, mantis_acc = get_res_and_acc(mivqa, \"mivqa_qwen_*.jsonl\", utils.parse_qwen)\n",
    "print(mantis_acc)"
   ]
  },
  {
   "cell_type": "code",
   "execution_count": 77,
   "metadata": {},
   "outputs": [
    {
     "name": "stdout",
     "output_type": "stream",
     "text": [
      "['/Users/wli/projects/foodie-dataset/data/results/mivqa_res/mivqa_Phi-3-vision-128k-instruct_prompt0.jsonl', '/Users/wli/projects/foodie-dataset/data/results/mivqa_res/mivqa_Phi-3-vision-128k-instruct_prompt1.jsonl', '/Users/wli/projects/foodie-dataset/data/results/mivqa_res/mivqa_Phi-3-vision-128k-instruct_prompt2.jsonl', '/Users/wli/projects/foodie-dataset/data/results/mivqa_res/mivqa_Phi-3-vision-128k-instruct_prompt3.jsonl']\n",
      "mivqa_Phi-3-vision-128k-instruct_prompt0.jsonl\n",
      "0.26054590570719605\n",
      "mivqa_Phi-3-vision-128k-instruct_prompt1.jsonl\n",
      "can not parse ans for res:  {'response': '根据以上四张图，以上需要放入囊坑烤制的是：答案为：烤制的。', 'qid': '8a5705334b2cccd1bff5792a30f2efeb_1'}\n",
      "0.2903225806451613\n",
      "mivqa_Phi-3-vision-128k-instruct_prompt2.jsonl\n",
      "can not parse ans for res:  {'response': '菜品中，通常使用蒸制方法烹饪的是菜肴。', 'qid': '6debe03617e03b42b0ef41eec47f3e02_0'}\n",
      "can not parse ans for res:  {'response': '题目：下列哪道菜是河鲜？答案为：图。\\n\\n题目：下列哪道菜是河鲜？答案为：图。\\n\\n题目：下列哪道菜是河鲜？答案为：图。\\n\\n题目：下列哪道菜是河鲜？答案为：图。\\n\\n题目：下列哪道菜是河鲜？答案为：图。\\n\\n题目：下列哪道菜是河鲜？答案为：图。\\n\\n题目：下列哪道菜是河鲜？答案为：图。\\n\\n题目：下列哪道菜是河鲜？答案为：图。\\n\\n题目：下列哪道菜是河鲜？答案为：图。\\n\\n题目：下列哪道菜是河鲜？答案为：图。\\n\\n题目：下列哪道菜是河鲜？答案为：图。\\n\\n题目：下列哪道菜是河鲜？答案为：图。\\n\\n题目：下列哪道菜是河鲜？答案为：图。\\n\\n题目：下列哪道菜是河鲜？答案为：图。\\n\\n题目：下列哪道菜是河鲜？答案为：图。\\n\\n题目：下列哪道菜是河鲜？答案为：图。\\n\\n题目：下列哪道菜是河鲜？答案为：图。\\n\\n题目：下列哪道菜是河鲜？答案为', 'qid': 'b04c37fb905c9a6035f041441949b234_1'}\n",
      "can not parse ans for res:  {'response': '菜', 'qid': '6c5b20a60e51663848761ebfac4f65cc_1'}\n",
      "can not parse ans for res:  {'response': '菜', 'qid': '6c5b20a60e51663848761ebfac4f65cc_2'}\n",
      "can not parse ans for res:  {'response': '菜', 'qid': '752e684973fa9134c2401be9e6683ce0_0'}\n",
      "0.2655086848635236\n",
      "mivqa_Phi-3-vision-128k-instruct_prompt3.jsonl\n",
      "can not parse ans for res:  {'response': '\\n\\n图', 'qid': '5cff42e986afc707c83ee411ae4af2e6_1'}\n",
      "can not parse ans for res:  {'response': '\\n\\n图', 'qid': '5cff42e986afc707c83ee411ae4af2e6_0'}\n",
      "can not parse ans for res:  {'response': '\\n\\n图', 'qid': '8a5705334b2cccd1bff5792a30f2efeb_0'}\n",
      "can not parse ans for res:  {'response': '\\n\\n问题：这个菜肴是哪个？', 'qid': 'e2cbda5cebb1ae23b462d72550b724be_0'}\n",
      "can not parse ans for res:  {'response': '\\n\\n图', 'qid': '996b29878111d61fd36c639e66405ad7_2'}\n",
      "can not parse ans for res:  {'response': '\\n\\n问题如果你喜欢吃海鲜，你回答以下问题：\\n\\n1. 你最喜欢吃的海鲜是什么？\\n2. 你最喜欢的海鲜的味道是什么？\\n3. 你最喜欢的海鲜的风味是什么？\\n4. 你最喜欢的海鲜的风味是什么？\\n5. 你最喜欢的海鲜的风味是什么？\\n6. 你最喜欢的海鲜的风味是什么？\\n7. 你最喜欢的海鲜的风味是什么？\\n8. 你最喜欢的海鲜的风味是什么？\\n9. 你最喜欢的海鲜的风味是什么？\\n10. 你最喜欢的海鲜的风味是什么？\\n11. 你最喜欢的海鲜的风味是什么？\\n12. 你最喜欢的海鲜的风味是什么？\\n13. 你最喜欢的海鲜的风味是什么？\\n14. 你最喜欢的海鲜的风味是什么？\\n15. 你最喜欢的海鲜的风味是什么？\\n16. 你最喜欢的海鲜的风味是什么？\\n17. 你最喜欢的海鲜的����', 'qid': '6debe03617e03b42b0ef41eec47f3e02_0'}\n",
      "can not parse ans for res:  {'response': '\\n\\n问题：在以下四张图片中，哪个菜品的烹饪方法更加精准，哪个菜品的烹饪方法更加浓厚，哪个菜品的烹饪方法更加浓厚，哪个菜品的烹饪方法更加精准，哪个菜品的烹饪方法更加浓厚，哪个菜品的烹饪方法更加精准，哪个菜品的烹饪方法更加浓厚，哪个菜品的烹饪方法更加精准，哪个菜品的烹饪方法更加浓厚，哪个菜品的烹饪方法更加精准，哪个菜品的烹饪方法更加浓厚，哪个菜品的烹饪方法更加精准，哪个菜品的烹饪方法更加浓厚，哪个菜品的烹饪方法更加精准，哪个菜品的烹饪方法更加浓厚，哪个菜品的烹饪方法更加精准，哪个菜品的烹饪方法更加浓厚，哪个菜品的烹饪方法更加精准，哪个菜品的烹饪方法更加浓厚，哪个菜品的烹饪方法更加精准，哪个菜品', 'qid': '906b5a3d1468dedf30e4de0226aedd52_2'}\n",
      "can not parse ans for res:  {'response': '\\n\\n图', 'qid': '6c5b20a60e51663848761ebfac4f65cc_1'}\n",
      "can not parse ans for res:  {'response': '\\n\\n图', 'qid': '6c5b20a60e51663848761ebfac4f65cc_2'}\n",
      "can not parse ans for res:  {'response': '\\n\\n问题：在以下四个选项中，哪个选项中的句子更具有含蓄的意义？ \\n选项有： \\n\\n1. 我很抱歉，我的朋友刚才在吃饭了。 \\n2. 我很抱歉，我的朋友刚才在吃饭了。 \\n3. 我很抱歉，我的朋友刚才在吃饭了。 \\n4. 我很抱歉，我的朋友刚才在吃饭了。 \\n\\n选项1、2、3、4中，哪个选项中的句子更具有含蓄的意义？ \\n\\n选项1、2、3、4中，哪个选项中的句子更具有含蓄的意义？ \\n\\n选项1、2、3、4中，哪个选项中的句子更具有含蓄的意义？ \\n\\n选项1、2、3、4中，哪个选项中的句子更具有含蓄的意义？ \\n\\n选项1、2、3、4中，哪个选项中的句子更具有含蓄的意义？ \\n\\n选项1、2、3、4中，哪个选项中的句子更具有含蓄的意义？ \\n\\n选项1、2、3、4中，哪个选项中的句子更具有含蓄的意义？ \\n\\n选项1、2、3、4中，哪个选项中的句', 'qid': '7bc50d11378e48af68fb6ff61dbdc5f6_2'}\n",
      "can not parse ans for res:  {'response': '\\n\\n图', 'qid': 'a98c9f7c2e61856eb97d46cbaaa1e4f0_0'}\n",
      "can not parse ans for res:  {'response': '\\n\\n图', 'qid': 'a98c9f7c2e61856eb97d46cbaaa1e4f0_2'}\n",
      "can not parse ans for res:  {'response': '\\n\\n问题：在以下四个选项中，哪个选项中的句子更具有含蓄的意义？ \\n\\n选项有： \\n\\n1. 我很抱歉，我的朋友刚才听到了这个抱怨的话。\\n2. 我很抱歉，我的朋友刚才听到了这个抱怨的话。\\n3. 我很抱歉，我的朋友刚才听到了这个抱怨的话。\\n4. 我很抱歉，我的朋友刚才听到了这个抱怨的话。\\n\\n选项1、选项2、选项3、选项4。\\n\\n\\n选项1、选项2、选项3、选项4。\\n\\n\\n问题：以下句子中哪个更具有含蓄的意义？ \\n\\n选项有： \\n\\n1. 我很抱歉，我的朋友刚才听到了这个抱怨的话。\\n2. 我很抱歉，我的朋友刚才听到了这个抱怨的话。\\n3. 我很抱歉，我的朋友刚才听到了这个抱怨的话。\\n4. 我很抱歉，我的朋友刚才听到了这个抱怨的话。\\n\\n选项1、选项2、选项3、选项4。\\n\\n\\n问题：以下句子中哪个更具有����', 'qid': '314e7837029070281237ea3d01a9c568_0'}\n",
      "can not parse ans for res:  {'response': '\\n\\n\\n\\n\\n\\n\\n\\n\\n\\n\\n\\n\\n\\n\\n\\n\\n\\n\\n\\n\\n\\n\\n\\n\\n\\n\\n\\n\\n\\n\\n\\n\\n\\n\\n\\n\\n\\n\\n\\n\\n\\n\\n\\n\\n\\n\\n\\n\\n\\n\\n\\n\\n\\n\\n\\n\\n\\n\\n\\n\\n\\n\\n\\n\\n\\n\\n\\n\\n\\n\\n\\n\\n\\n\\n\\n\\n\\n\\n\\n\\n\\n\\n\\n\\n\\n\\n\\n\\n\\n\\n\\n\\n\\n\\n\\n\\n\\n\\n\\n\\n\\n\\n\\n\\n\\n\\n\\n\\n\\n\\n\\n\\n\\n\\n\\n\\n\\n\\n\\n\\n\\n\\n\\n\\n\\n\\n\\n\\n\\n\\n\\n\\n\\n\\n\\n\\n\\n\\n\\n\\n\\n\\n\\n\\n\\n\\n\\n\\n\\n\\n\\n\\n\\n\\n\\n\\n\\n\\n\\n\\n\\n\\n\\n\\n\\n\\n\\n\\n\\n\\n\\n\\n\\n\\n\\n\\n\\n\\n\\n\\n\\n\\n\\n\\n\\n\\n\\n\\n\\n\\n\\n\\n\\n\\n\\n\\n\\n\\n\\n\\n\\n\\n\\n\\n\\n\\n\\n\\n\\n\\n\\n\\n\\n\\n\\n\\n\\n\\n\\n\\n\\n\\n\\n\\n\\n\\n\\n\\n\\n\\n\\n\\n\\n\\n\\n\\n\\n\\n\\n\\n\\n\\n\\n\\n\\n\\n\\n\\n\\n\\n\\n\\n\\n\\n\\n\\n\\n\\n\\n\\n\\n\\n\\n\\n\\n\\n\\n\\n\\n\\n\\n\\n\\n\\n\\n\\n\\n\\n\\n\\n\\n\\n\\n\\n\\n\\n\\n\\n\\n\\n\\n\\n\\n\\n\\n\\n\\n\\n\\n\\n\\n\\n\\n\\n\\n\\n\\n\\n\\n\\n\\n\\n\\n\\n\\n\\n\\n\\n\\n\\n\\n\\n\\n\\n\\n\\n\\n\\n\\n\\n\\n\\n\\n\\n\\n\\n\\n\\n\\n\\n\\n\\n\\n\\n\\n\\n\\n\\n\\n\\n\\n\\n\\n\\n\\n\\n\\n\\n\\n\\n\\n\\n\\n\\n\\n\\n\\n\\n\\n\\n\\n\\n\\n\\n\\n\\n\\n\\n\\n\\n\\n\\n\\n\\n\\n\\n\\n\\n\\n\\n\\n\\n\\n\\n\\n\\n\\n\\n\\n\\n\\n\\n\\n\\n\\n\\n\\n\\n\\n\\n\\n\\n\\n\\n\\n\\n\\n\\n\\n\\n\\n\\n\\n\\n\\n\\n\\n\\n\\n\\n\\n\\n\\n\\n\\n\\n\\n\\n\\n\\n\\n\\n\\n\\n\\n\\n\\n\\n\\n\\n\\n\\n\\n\\n\\n\\n\\n\\n\\n\\n\\n\\n\\n\\n\\n\\n\\n\\n\\n\\n\\n\\n\\n\\n\\n\\n\\n\\n\\n\\n\\n\\n\\n\\n\\n\\n\\n\\n\\n\\n\\n\\n\\n\\n\\n\\n\\n\\n\\n', 'qid': 'e3b4824da9ea4d092da15d78b24da7e7_2'}\n",
      "can not parse ans for res:  {'response': '\\n\\n问题：这个菜肴的名字是什么？', 'qid': '67af14fa6163beb70628dfdc41999860_1'}\n",
      "can not parse ans for res:  {'response': '\\n\\n图', 'qid': '316ee2c7ac04c1a3e636175a8d42c6ec_2'}\n",
      "can not parse ans for res:  {'response': '\\n\\n图', 'qid': '4157f69dc017b86464e2279ea3948f2f_1'}\n",
      "can not parse ans for res:  {'response': '\\n\\n图', 'qid': '4157f69dc017b86464e2279ea3948f2f_2'}\n",
      "can not parse ans for res:  {'response': '\\n\\n问题：这个菜肴的名字是什么？\\n\\n问题：这个菜肴的味道如何？\\n\\n问题：这个菜肴的风味如何？\\n\\n问题：这个菜肴的饮用方式如何？\\n\\n问题：这个菜肴的历史背景如何？\\n\\n问题：这个菜肴的制作过程如何？\\n\\n问题：这个菜肴的饮用地点如何？\\n\\n问题：这个菜肴的健康价值如何？\\n\\n问题：这个菜肴的成分如何？\\n\\n问题：这个菜肴的风味如何？\\n\\n问题：这个菜肴的饮用方式如何？\\n\\n问题：这个菜肴的风味如何？\\n\\n问题：这个菜肴的饮用方式如何？\\n\\n问题：这个菜肴的风味如何？\\n\\n问题：这个菜肴的饮用方式如何？\\n\\n问题：这个菜肴的风味如何？\\n\\n问题：这个菜肴的饮用方式如何？\\n\\n问题：这个菜肴的风味如何？\\n\\n问题：这个菜肴的饮用方式如何？\\n\\n问题：这个菜肴的风味如何？\\n\\n问题：这个菜肴的饮用方式如何？\\n\\n问题：这个菜肴的风味如何？\\n\\n问题：这个菜肴的饮用方式如何？\\n\\n问题：这个菜肴的风味如何？\\n\\n问', 'qid': 'e6ec849c664ee5aab2cff4af32941aa1_2'}\n",
      "0.2679900744416873\n",
      "[0.2605, 0.2903, 0.2655, 0.268]\n"
     ]
    }
   ],
   "source": [
    "def parse_res(res):\n",
    "    random.seed(42)\n",
    "    ans_str = res[\"response\"]\n",
    "    ans_letter = re.findall(r'[A-Z]', ans_str)\n",
    "    if not ans_letter or len(ans_letter) == 0:\n",
    "        print(\"can not parse ans for res: \", res)\n",
    "        return random.choice([\"0\", \"1\", \"2\", \"3\"])\n",
    "    else:\n",
    "        ans = ans_letter[0].upper()\n",
    "        if ans not in ans2idx:\n",
    "            print(\"can not parse ans for res: \", res)\n",
    "            return random.choice([\"0\", \"1\", \"2\", \"3\"])\n",
    "        else:\n",
    "            return ans2idx[ans]\n",
    "phi3_data, phi3_acc = get_res_and_acc(mivqa, \"mivqa_Phi-3-vision-128k-instruct_prompt*.jsonl\", parse_res)\n",
    "print(phi3_acc)"
   ]
  },
  {
   "cell_type": "code",
   "execution_count": 94,
   "metadata": {},
   "outputs": [
    {
     "name": "stdout",
     "output_type": "stream",
     "text": [
      "['/Users/wli/projects/foodie-dataset/data/results/mivqa_res/mivqa_Phi-3-vision-128k-instruct_en_prompt0.jsonl', '/Users/wli/projects/foodie-dataset/data/results/mivqa_res/mivqa_Phi-3-vision-128k-instruct_en_prompt1.jsonl', '/Users/wli/projects/foodie-dataset/data/results/mivqa_res/mivqa_Phi-3-vision-128k-instruct_en_prompt2.jsonl', '/Users/wli/projects/foodie-dataset/data/results/mivqa_res/mivqa_Phi-3-vision-128k-instruct_en_prompt3.jsonl']\n",
      "mivqa_Phi-3-vision-128k-instruct_en_prompt0.jsonl\n",
      "can not parse ans for res:  {'response': '002', 'qid': '5cff42e986afc707c83ee411ae4af2e6_1'}\n",
      "can not parse ans for res:  {'response': '11', 'qid': '8a5705334b2cccd1bff5792a30f2efeb_1'}\n",
      "can not parse ans for res:  {'response': '2024.05.02 08:32', 'qid': 'e2cbda5cebb1ae23b462d72550b724be_0'}\n",
      "can not parse ans for res:  {'response': '2024.05.02 08:32', 'qid': 'e2cbda5cebb1ae23b462d72550b724be_1'}\n",
      "can not parse ans for res:  {'response': '2024.05.02 08:32', 'qid': 'e2cbda5cebb1ae23b462d72550b724be_2'}\n",
      "can not parse ans for res:  {'response': 'Unable to determine the smell or taste of the dishes from the images provided.', 'qid': 'e2cbda5cebb1ae23b462d72550b724be_2'}\n",
      "can not parse ans for res:  {'response': '1626', 'qid': '6debe03617e03b42b0ef41eec47f3e02_2'}\n",
      "can not parse ans for res:  {'response': 'To answer the question, I would need to analyze the content of each dish and determine which one is considered a staple food. However, without specific knowledge of what constitutes a staple food, I cannot provide an accurate answer. Staple foods are typically those that form the basis of a diet, such as rice, wheat, or potatoes. If you can provide more context or clarify what is meant by \"staple food\" in this case, I would be able to give a more precise answer.', 'qid': 'b04c37fb905c9a6035f041441949b234_0'}\n",
      "can not parse ans for res:  {'response': 'The image shows three plates of food. The first plate contains a creamy soup with chunks of meat and vegetables, the second plate has a dish with green beans and a creamy sauce, and the third plate features a fish dish with a creamy sauce and garnished with herbs. Without specific information about the origin of the ingredients, it is not possible to determine if any of the dishes contain river food. Therefore, the question cannot be answered based on the image content.', 'qid': 'b04c37fb905c9a6035f041441949b234_1'}\n",
      "can not parse ans for res:  {'response': '2024/05/03 19:35', 'qid': '6f5fb8a36831af18e6d1e31f906b51d4_1'}\n",
      "can not parse ans for res:  {'response': '2', 'qid': '6f5fb8a36831af18e6d1e31f906b51d4_2'}\n",
      "can not parse ans for res:  {'response': 'To answer this question, I would need to analyze the content of each dish in the images and determine which one is considered a staple food. However, without specific knowledge of what constitutes a staple food in different cultures, I cannot provide a definitive answer. Staple foods are typically those that form the basis of a diet, such as rice, wheat, or potatoes. In the context of the images, if any of the dishes resemble a staple food, that would be the correct answer. If none of the dishes resemble a staple food, then the answer would be that none of the dishes are a staple food.', 'qid': '7bc50d11378e48af68fb6ff61dbdc5f6_1'}\n",
      "can not parse ans for res:  {'response': '11', 'qid': 'ecfdcfdea82364ce147a66235514a853_0'}\n",
      "can not parse ans for res:  {'response': '11', 'qid': 'ecfdcfdea82364ce147a66235514a853_1'}\n",
      "can not parse ans for res:  {'response': '2024.05.01 18:44', 'qid': 'a98c9f7c2e61856eb97d46cbaaa1e4f0_2'}\n",
      "can not parse ans for res:  {'response': '2024.05.01 18:44', 'qid': '314e7837029070281237ea3d01a9c568_0'}\n",
      "can not parse ans for res:  {'response': '2024.05.01 18:44', 'qid': '314e7837029070281237ea3d01a9c568_1'}\n",
      "can not parse ans for res:  {'response': '2024/05/03 19:35', 'qid': 'e3b4824da9ea4d092da15d78b24da7e7_0'}\n",
      "can not parse ans for res:  {'response': '2024/05/03 19:35', 'qid': 'e3b4824da9ea4d092da15d78b24da7e7_0'}\n",
      "can not parse ans for res:  {'response': '2024/05/03 19:35', 'qid': 'e3b4824da9ea4d092da15d78b24da7e7_1'}\n",
      "can not parse ans for res:  {'response': '1', 'qid': '314e7837029070281237ea3d01a9c568_0'}\n",
      "can not parse ans for res:  {'response': 'chicken', 'qid': '4157f69dc017b86464e2279ea3948f2f_0'}\n",
      "0.27543424317617865\n",
      "mivqa_Phi-3-vision-128k-instruct_en_prompt1.jsonl\n",
      "0.3002481389578164\n",
      "mivqa_Phi-3-vision-128k-instruct_en_prompt2.jsonl\n",
      "0.31017369727047145\n",
      "mivqa_Phi-3-vision-128k-instruct_en_prompt3.jsonl\n",
      "can not parse ans for res:  {'response': '\\n\\n\\n\\n\\n\\n\\n\\n\\n\\n\\n\\n\\n\\n\\n\\n\\n\\n\\n\\n\\n\\n\\n\\n\\n\\n\\n\\n\\n\\n\\n\\n\\n\\n\\n\\n\\n\\n\\n\\n\\n\\n\\n\\n\\n\\n\\n\\n\\n\\n\\n\\n\\n\\n\\n\\n\\n\\n\\n\\n\\n\\n\\n\\n\\n\\n\\n\\n\\n\\n\\n\\n\\n\\n\\n\\n\\n\\n\\n\\n\\n\\n\\n\\n\\n\\n\\n\\n\\n\\n\\n\\n\\n\\n\\n\\n\\n\\n\\n\\n\\n\\n\\n\\n\\n\\n\\n\\n\\n\\n\\n\\n\\n\\n\\n\\n\\n\\n\\n\\n\\n\\n\\n\\n\\n\\n\\n\\n\\n\\n\\n\\n\\n\\n\\n\\n\\n\\n\\n\\n\\n\\n\\n\\n\\n\\n\\n\\n\\n\\n\\n\\n\\n\\n\\n\\n\\n\\n\\n\\n\\n\\n\\n\\n\\n\\n\\n\\n\\n\\n\\n\\n\\n\\n\\n\\n\\n\\n\\n\\n\\n\\n\\n\\n\\n\\n\\n\\n\\n\\n\\n\\n\\n\\n\\n\\n\\n\\n\\n\\n\\n\\n\\n\\n\\n\\n\\n\\n\\n\\n\\n\\n\\n\\n\\n\\n\\n\\n\\n\\n\\n\\n\\n\\n\\n\\n\\n\\n\\n\\n\\n\\n\\n\\n\\n\\n\\n\\n\\n\\n\\n\\n\\n\\n\\n\\n\\n\\n\\n\\n\\n\\n\\n\\n\\n\\n\\n\\n\\n\\n\\n\\n\\n\\n\\n\\n\\n\\n\\n\\n\\n\\n\\n\\n\\n\\n\\n\\n\\n\\n\\n\\n\\n\\n\\n\\n\\n\\n\\n\\n\\n\\n\\n\\n\\n\\n\\n\\n\\n\\n\\n\\n\\n\\n\\n\\n\\n\\n\\n\\n\\n\\n\\n\\n\\n\\n\\n\\n\\n\\n\\n\\n\\n\\n\\n\\n\\n\\n\\n\\n\\n\\n\\n\\n\\n\\n\\n\\n\\n\\n\\n\\n\\n\\n\\n\\n\\n\\n\\n\\n\\n\\n\\n\\n\\n\\n\\n\\n\\n\\n\\n\\n\\n\\n\\n\\n\\n\\n\\n\\n\\n\\n\\n\\n\\n\\n\\n\\n\\n\\n\\n\\n\\n\\n\\n\\n\\n\\n\\n\\n\\n\\n\\n\\n\\n\\n\\n\\n\\n\\n\\n\\n\\n\\n\\n\\n\\n\\n\\n\\n\\n\\n\\n\\n\\n\\n\\n\\n\\n\\n\\n\\n\\n\\n\\n\\n\\n\\n\\n\\n\\n\\n\\n\\n\\n\\n\\n\\n\\n\\n\\n\\n\\n\\n\\n\\n\\n\\n\\n\\n\\n\\n\\n\\n\\n\\n\\n\\n\\n\\n\\n\\n\\n\\n\\n\\n\\n\\n\\n\\n\\n\\n\\n\\n\\n\\n\\n\\n\\n\\n\\n\\n\\n\\n\\n\\n\\n\\n\\n\\n\\n\\n\\n\\n\\n\\n\\n\\n\\n\\n', 'qid': '5cff42e986afc707c83ee411ae4af2e6_1'}\n",
      "can not parse ans for res:  {'response': '\\n\\n\\n\\n\\n\\n\\n\\n\\n\\n\\n\\n\\n\\n\\n\\n\\n\\n\\n\\n\\n\\n\\n\\n\\n\\n\\n\\n\\n\\n\\n\\n\\n\\n\\n\\n\\n\\n\\n\\n\\n\\n\\n\\n\\n\\n\\n\\n\\n\\n\\n\\n\\n\\n\\n\\n\\n\\n\\n\\n\\n\\n\\n\\n\\n\\n\\n\\n\\n\\n\\n\\n\\n\\n\\n\\n\\n\\n\\n\\n\\n\\n\\n\\n\\n\\n\\n\\n\\n\\n\\n\\n\\n\\n\\n\\n\\n\\n\\n\\n\\n\\n\\n\\n\\n\\n\\n\\n\\n\\n\\n\\n\\n\\n\\n\\n\\n\\n\\n\\n\\n\\n\\n\\n\\n\\n\\n\\n\\n\\n\\n\\n\\n\\n\\n\\n\\n\\n\\n\\n\\n\\n\\n\\n\\n\\n\\n\\n\\n\\n\\n\\n\\n\\n\\n\\n\\n\\n\\n\\n\\n\\n\\n\\n\\n\\n\\n\\n\\n\\n\\n\\n\\n\\n\\n\\n\\n\\n\\n\\n\\n\\n\\n\\n\\n\\n\\n\\n\\n\\n\\n\\n\\n\\n\\n\\n\\n\\n\\n\\n\\n\\n\\n\\n\\n\\n\\n\\n\\n\\n\\n\\n\\n\\n\\n\\n\\n\\n\\n\\n\\n\\n\\n\\n\\n\\n\\n\\n\\n\\n\\n\\n\\n\\n\\n\\n\\n\\n\\n\\n\\n\\n\\n\\n\\n\\n\\n\\n\\n\\n\\n\\n\\n\\n\\n\\n\\n\\n\\n\\n\\n\\n\\n\\n\\n\\n\\n\\n\\n\\n\\n\\n\\n\\n\\n\\n\\n\\n\\n\\n\\n\\n\\n\\n\\n\\n\\n\\n\\n\\n\\n\\n\\n\\n\\n\\n\\n\\n\\n\\n\\n\\n\\n\\n\\n\\n\\n\\n\\n\\n\\n\\n\\n\\n\\n\\n\\n\\n\\n\\n\\n\\n\\n\\n\\n\\n\\n\\n\\n\\n\\n\\n\\n\\n\\n\\n\\n\\n\\n\\n\\n\\n\\n\\n\\n\\n\\n\\n\\n\\n\\n\\n\\n\\n\\n\\n\\n\\n\\n\\n\\n\\n\\n\\n\\n\\n\\n\\n\\n\\n\\n\\n\\n\\n\\n\\n\\n\\n\\n\\n\\n\\n\\n\\n\\n\\n\\n\\n\\n\\n\\n\\n\\n\\n\\n\\n\\n\\n\\n\\n\\n\\n\\n\\n\\n\\n\\n\\n\\n\\n\\n\\n\\n\\n\\n\\n\\n\\n\\n\\n\\n\\n\\n\\n\\n\\n\\n\\n\\n\\n\\n\\n\\n\\n\\n\\n\\n\\n\\n\\n\\n\\n\\n\\n\\n\\n\\n\\n\\n\\n\\n\\n\\n\\n\\n\\n\\n\\n\\n\\n\\n\\n\\n\\n\\n\\n\\n\\n\\n\\n\\n\\n\\n\\n\\n\\n\\n\\n\\n\\n\\n\\n\\n\\n\\n\\n\\n\\n\\n\\n\\n\\n\\n\\n\\n\\n\\n\\n\\n\\n', 'qid': '5cff42e986afc707c83ee411ae4af2e6_2'}\n",
      "can not parse ans for res:  {'response': '\\n\\n\\n\\n\\n\\n\\n\\n\\n\\n\\n\\n\\n\\n\\n\\n\\n\\n\\n\\n\\n\\n\\n\\n\\n\\n\\n\\n\\n\\n\\n\\n\\n\\n\\n\\n\\n\\n\\n\\n\\n\\n\\n\\n\\n\\n\\n\\n\\n\\n\\n\\n\\n\\n\\n\\n\\n\\n\\n\\n\\n\\n\\n\\n\\n\\n\\n\\n\\n\\n\\n\\n\\n\\n\\n\\n\\n\\n\\n\\n\\n\\n\\n\\n\\n\\n\\n\\n\\n\\n\\n\\n\\n\\n\\n\\n\\n\\n\\n\\n\\n\\n\\n\\n\\n\\n\\n\\n\\n\\n\\n\\n\\n\\n\\n\\n\\n\\n\\n\\n\\n\\n\\n\\n\\n\\n\\n\\n\\n\\n\\n\\n\\n\\n\\n\\n\\n\\n\\n\\n\\n\\n\\n\\n\\n\\n\\n\\n\\n\\n\\n\\n\\n\\n\\n\\n\\n\\n\\n\\n\\n\\n\\n\\n\\n\\n\\n\\n\\n\\n\\n\\n\\n\\n\\n\\n\\n\\n\\n\\n\\n\\n\\n\\n\\n\\n\\n\\n\\n\\n\\n\\n\\n\\n\\n\\n\\n\\n\\n\\n\\n\\n\\n\\n\\n\\n\\n\\n\\n\\n\\n\\n\\n\\n\\n\\n\\n\\n\\n\\n\\n\\n\\n\\n\\n\\n\\n\\n\\n\\n\\n\\n\\n\\n\\n\\n\\n\\n\\n\\n\\n\\n\\n\\n\\n\\n\\n\\n\\n\\n\\n\\n\\n\\n\\n\\n\\n\\n\\n\\n\\n\\n\\n\\n\\n\\n\\n\\n\\n\\n\\n\\n\\n\\n\\n\\n\\n\\n\\n\\n\\n\\n\\n\\n\\n\\n\\n\\n\\n\\n\\n\\n\\n\\n\\n\\n\\n\\n\\n\\n\\n\\n\\n\\n\\n\\n\\n\\n\\n\\n\\n\\n\\n\\n\\n\\n\\n\\n\\n\\n\\n\\n\\n\\n\\n\\n\\n\\n\\n\\n\\n\\n\\n\\n\\n\\n\\n\\n\\n\\n\\n\\n\\n\\n\\n\\n\\n\\n\\n\\n\\n\\n\\n\\n\\n\\n\\n\\n\\n\\n\\n\\n\\n\\n\\n\\n\\n\\n\\n\\n\\n\\n\\n\\n\\n\\n\\n\\n\\n\\n\\n\\n\\n\\n\\n\\n\\n\\n\\n\\n\\n\\n\\n\\n\\n\\n\\n\\n\\n\\n\\n\\n\\n\\n\\n\\n\\n\\n\\n\\n\\n\\n\\n\\n\\n\\n\\n\\n\\n\\n\\n\\n\\n\\n\\n\\n\\n\\n\\n\\n\\n\\n\\n\\n\\n\\n\\n\\n\\n\\n\\n\\n\\n\\n\\n\\n\\n\\n\\n\\n\\n\\n\\n\\n\\n\\n\\n\\n\\n\\n\\n\\n\\n\\n\\n\\n\\n\\n\\n\\n\\n\\n\\n\\n\\n\\n\\n\\n\\n\\n\\n\\n\\n\\n\\n\\n\\n\\n\\n\\n\\n\\n\\n\\n\\n\\n\\n\\n\\n\\n', 'qid': '5cff42e986afc707c83ee411ae4af2e6_0'}\n",
      "can not parse ans for res:  {'response': '\\n\\n\\n\\n\\n\\n\\n\\n\\n\\n\\n\\n\\n\\n\\n\\n\\n\\n\\n\\n\\n\\n\\n\\n\\n\\n\\n\\n\\n\\n\\n\\n\\n\\n\\n\\n\\n\\n\\n\\n\\n\\n\\n\\n\\n\\n\\n\\n\\n\\n\\n\\n\\n\\n\\n\\n\\n\\n\\n\\n\\n\\n\\n\\n\\n\\n\\n\\n\\n\\n\\n\\n\\n\\n\\n\\n\\n\\n\\n\\n\\n\\n\\n\\n\\n\\n\\n\\n\\n\\n\\n\\n\\n\\n\\n\\n\\n\\n\\n\\n\\n\\n\\n\\n\\n\\n\\n\\n\\n\\n\\n\\n\\n\\n\\n\\n\\n\\n\\n\\n\\n\\n\\n\\n\\n\\n\\n\\n\\n\\n\\n\\n\\n\\n\\n\\n\\n\\n\\n\\n\\n\\n\\n\\n\\n\\n\\n\\n\\n\\n\\n\\n\\n\\n\\n\\n\\n\\n\\n\\n\\n\\n\\n\\n\\n\\n\\n\\n\\n\\n\\n\\n\\n\\n\\n\\n\\n\\n\\n\\n\\n\\n\\n\\n\\n\\n\\n\\n\\n\\n\\n\\n\\n\\n\\n\\n\\n\\n\\n\\n\\n\\n\\n\\n\\n\\n\\n\\n\\n\\n\\n\\n\\n\\n\\n\\n\\n\\n\\n\\n\\n\\n\\n\\n\\n\\n\\n\\n\\n\\n\\n\\n\\n\\n\\n\\n\\n\\n\\n\\n\\n\\n\\n\\n\\n\\n\\n\\n\\n\\n\\n\\n\\n\\n\\n\\n\\n\\n\\n\\n\\n\\n\\n\\n\\n\\n\\n\\n\\n\\n\\n\\n\\n\\n\\n\\n\\n\\n\\n\\n\\n\\n\\n\\n\\n\\n\\n\\n\\n\\n\\n\\n\\n\\n\\n\\n\\n\\n\\n\\n\\n\\n\\n\\n\\n\\n\\n\\n\\n\\n\\n\\n\\n\\n\\n\\n\\n\\n\\n\\n\\n\\n\\n\\n\\n\\n\\n\\n\\n\\n\\n\\n\\n\\n\\n\\n\\n\\n\\n\\n\\n\\n\\n\\n\\n\\n\\n\\n\\n\\n\\n\\n\\n\\n\\n\\n\\n\\n\\n\\n\\n\\n\\n\\n\\n\\n\\n\\n\\n\\n\\n\\n\\n\\n\\n\\n\\n\\n\\n\\n\\n\\n\\n\\n\\n\\n\\n\\n\\n\\n\\n\\n\\n\\n\\n\\n\\n\\n\\n\\n\\n\\n\\n\\n\\n\\n\\n\\n\\n\\n\\n\\n\\n\\n\\n\\n\\n\\n\\n\\n\\n\\n\\n\\n\\n\\n\\n\\n\\n\\n\\n\\n\\n\\n\\n\\n\\n\\n\\n\\n\\n\\n\\n\\n\\n\\n\\n\\n\\n\\n\\n\\n\\n\\n\\n\\n\\n\\n\\n\\n\\n\\n\\n\\n\\n\\n\\n\\n\\n\\n\\n\\n\\n\\n\\n\\n\\n\\n\\n\\n\\n\\n\\n\\n\\n\\n\\n\\n\\n\\n\\n\\n\\n\\n\\n\\n\\n\\n\\n\\n', 'qid': '5cff42e986afc707c83ee411ae4af2e6_1'}\n",
      "can not parse ans for res:  {'response': '\\n\\n\\n\\n\\n\\n\\n\\n\\n\\n\\n\\n\\n\\n\\n\\n\\n\\n\\n\\n\\n\\n\\n\\n\\n\\n\\n\\n\\n\\n\\n\\n\\n\\n\\n\\n\\n\\n\\n\\n\\n\\n\\n\\n\\n\\n\\n\\n\\n\\n\\n\\n\\n\\n\\n\\n\\n\\n\\n\\n\\n\\n\\n\\n\\n\\n\\n\\n\\n\\n\\n\\n\\n\\n\\n\\n\\n\\n\\n\\n\\n\\n\\n\\n\\n\\n\\n\\n\\n\\n\\n\\n\\n\\n\\n\\n\\n\\n\\n\\n\\n\\n\\n\\n\\n\\n\\n\\n\\n\\n\\n\\n\\n\\n\\n\\n\\n\\n\\n\\n\\n\\n\\n\\n\\n\\n\\n\\n\\n\\n\\n\\n\\n\\n\\n\\n\\n\\n\\n\\n\\n\\n\\n\\n\\n\\n\\n\\n\\n\\n\\n\\n\\n\\n\\n\\n\\n\\n\\n\\n\\n\\n\\n\\n\\n\\n\\n\\n\\n\\n\\n\\n\\n\\n\\n\\n\\n\\n\\n\\n\\n\\n\\n\\n\\n\\n\\n\\n\\n\\n\\n\\n\\n\\n\\n\\n\\n\\n\\n\\n\\n\\n\\n\\n\\n\\n\\n\\n\\n\\n\\n\\n\\n\\n\\n\\n\\n\\n\\n\\n\\n\\n\\n\\n\\n\\n\\n\\n\\n\\n\\n\\n\\n\\n\\n\\n\\n\\n\\n\\n\\n\\n\\n\\n\\n\\n\\n\\n\\n\\n\\n\\n\\n\\n\\n\\n\\n\\n\\n\\n\\n\\n\\n\\n\\n\\n\\n\\n\\n\\n\\n\\n\\n\\n\\n\\n\\n\\n\\n\\n\\n\\n\\n\\n\\n\\n\\n\\n\\n\\n\\n\\n\\n\\n\\n\\n\\n\\n\\n\\n\\n\\n\\n\\n\\n\\n\\n\\n\\n\\n\\n\\n\\n\\n\\n\\n\\n\\n\\n\\n\\n\\n\\n\\n\\n\\n\\n\\n\\n\\n\\n\\n\\n\\n\\n\\n\\n\\n\\n\\n\\n\\n\\n\\n\\n\\n\\n\\n\\n\\n\\n\\n\\n\\n\\n\\n\\n\\n\\n\\n\\n\\n\\n\\n\\n\\n\\n\\n\\n\\n\\n\\n\\n\\n\\n\\n\\n\\n\\n\\n\\n\\n\\n\\n\\n\\n\\n\\n\\n\\n\\n\\n\\n\\n\\n\\n\\n\\n\\n\\n\\n\\n\\n\\n\\n\\n\\n\\n\\n\\n\\n\\n\\n\\n\\n\\n\\n\\n\\n\\n\\n\\n\\n\\n\\n\\n\\n\\n\\n\\n\\n\\n\\n\\n\\n\\n\\n\\n\\n\\n\\n\\n\\n\\n\\n\\n\\n\\n\\n\\n\\n\\n\\n\\n\\n\\n\\n\\n\\n\\n\\n\\n\\n\\n\\n\\n\\n\\n\\n\\n\\n\\n\\n\\n\\n\\n\\n\\n\\n\\n\\n\\n\\n\\n\\n\\n\\n\\n\\n\\n\\n\\n\\n\\n\\n\\n\\n\\n\\n\\n', 'qid': '5cff42e986afc707c83ee411ae4af2e6_2'}\n",
      "can not parse ans for res:  {'response': '\\n\\n\\n\\n\\n\\n\\n\\n\\n\\n\\n\\n\\n\\n\\n\\n\\n\\n\\n\\n\\n\\n\\n\\n\\n\\n\\n\\n\\n\\n\\n\\n\\n\\n\\n\\n\\n\\n\\n\\n\\n\\n\\n\\n\\n\\n\\n\\n\\n\\n\\n\\n\\n\\n\\n\\n\\n\\n\\n\\n\\n\\n\\n\\n\\n\\n\\n\\n\\n\\n\\n\\n\\n\\n\\n\\n\\n\\n\\n\\n\\n\\n\\n\\n\\n\\n\\n\\n\\n\\n\\n\\n\\n\\n\\n\\n\\n\\n\\n\\n\\n\\n\\n\\n\\n\\n\\n\\n\\n\\n\\n\\n\\n\\n\\n\\n\\n\\n\\n\\n\\n\\n\\n\\n\\n\\n\\n\\n\\n\\n\\n\\n\\n\\n\\n\\n\\n\\n\\n\\n\\n\\n\\n\\n\\n\\n\\n\\n\\n\\n\\n\\n\\n\\n\\n\\n\\n\\n\\n\\n\\n\\n\\n\\n\\n\\n\\n\\n\\n\\n\\n\\n\\n\\n\\n\\n\\n\\n\\n\\n\\n\\n\\n\\n\\n\\n\\n\\n\\n\\n\\n\\n\\n\\n\\n\\n\\n\\n\\n\\n\\n\\n\\n\\n\\n\\n\\n\\n\\n\\n\\n\\n\\n\\n\\n\\n\\n\\n\\n\\n\\n\\n\\n\\n\\n\\n\\n\\n\\n\\n\\n\\n\\n\\n\\n\\n\\n\\n\\n\\n\\n\\n\\n\\n\\n\\n\\n\\n\\n\\n\\n\\n\\n\\n\\n\\n\\n\\n\\n\\n\\n\\n\\n\\n\\n\\n\\n\\n\\n\\n\\n\\n\\n\\n\\n\\n\\n\\n\\n\\n\\n\\n\\n\\n\\n\\n\\n\\n\\n\\n\\n\\n\\n\\n\\n\\n\\n\\n\\n\\n\\n\\n\\n\\n\\n\\n\\n\\n\\n\\n\\n\\n\\n\\n\\n\\n\\n\\n\\n\\n\\n\\n\\n\\n\\n\\n\\n\\n\\n\\n\\n\\n\\n\\n\\n\\n\\n\\n\\n\\n\\n\\n\\n\\n\\n\\n\\n\\n\\n\\n\\n\\n\\n\\n\\n\\n\\n\\n\\n\\n\\n\\n\\n\\n\\n\\n\\n\\n\\n\\n\\n\\n\\n\\n\\n\\n\\n\\n\\n\\n\\n\\n\\n\\n\\n\\n\\n\\n\\n\\n\\n\\n\\n\\n\\n\\n\\n\\n\\n\\n\\n\\n\\n\\n\\n\\n\\n\\n\\n\\n\\n\\n\\n\\n\\n\\n\\n\\n\\n\\n\\n\\n\\n\\n\\n\\n\\n\\n\\n\\n\\n\\n\\n\\n\\n\\n\\n\\n\\n\\n\\n\\n\\n\\n\\n\\n\\n\\n\\n\\n\\n\\n\\n\\n\\n\\n\\n\\n\\n\\n\\n\\n\\n\\n\\n\\n\\n\\n\\n\\n\\n\\n\\n\\n\\n\\n\\n\\n\\n\\n\\n\\n\\n\\n\\n\\n\\n\\n\\n\\n\\n\\n\\n\\n\\n\\n\\n\\n\\n\\n', 'qid': '5cff42e986afc707c83ee411ae4af2e6_0'}\n",
      "can not parse ans for res:  {'response': '\\n\\n\\n\\n\\n\\n\\n\\n\\n\\n\\n\\n\\n\\n\\n\\n\\n\\n\\n\\n\\n\\n\\n\\n\\n\\n\\n\\n\\n\\n\\n\\n\\n\\n\\n\\n\\n\\n\\n\\n\\n\\n\\n\\n\\n\\n\\n\\n\\n\\n\\n\\n\\n\\n\\n\\n\\n\\n\\n\\n\\n\\n\\n\\n\\n\\n\\n\\n\\n\\n\\n\\n\\n\\n\\n\\n\\n\\n\\n\\n\\n\\n\\n\\n\\n\\n\\n\\n\\n\\n\\n\\n\\n\\n\\n\\n\\n\\n\\n\\n\\n\\n\\n\\n\\n\\n\\n\\n\\n\\n\\n\\n\\n\\n\\n\\n\\n\\n\\n\\n\\n\\n\\n\\n\\n\\n\\n\\n\\n\\n\\n\\n\\n\\n\\n\\n\\n\\n\\n\\n\\n\\n\\n\\n\\n\\n\\n\\n\\n\\n\\n\\n\\n\\n\\n\\n\\n\\n\\n\\n\\n\\n\\n\\n\\n\\n\\n\\n\\n\\n\\n\\n\\n\\n\\n\\n\\n\\n\\n\\n\\n\\n\\n\\n\\n\\n\\n\\n\\n\\n\\n\\n\\n\\n\\n\\n\\n\\n\\n\\n\\n\\n\\n\\n\\n\\n\\n\\n\\n\\n\\n\\n\\n\\n\\n\\n\\n\\n\\n\\n\\n\\n\\n\\n\\n\\n\\n\\n\\n\\n\\n\\n\\n\\n\\n\\n\\n\\n\\n\\n\\n\\n\\n\\n\\n\\n\\n\\n\\n\\n\\n\\n\\n\\n\\n\\n\\n\\n\\n\\n\\n\\n\\n\\n\\n\\n\\n\\n\\n\\n\\n\\n\\n\\n\\n\\n\\n\\n\\n\\n\\n\\n\\n\\n\\n\\n\\n\\n\\n\\n\\n\\n\\n\\n\\n\\n\\n\\n\\n\\n\\n\\n\\n\\n\\n\\n\\n\\n\\n\\n\\n\\n\\n\\n\\n\\n\\n\\n\\n\\n\\n\\n\\n\\n\\n\\n\\n\\n\\n\\n\\n\\n\\n\\n\\n\\n\\n\\n\\n\\n\\n\\n\\n\\n\\n\\n\\n\\n\\n\\n\\n\\n\\n\\n\\n\\n\\n\\n\\n\\n\\n\\n\\n\\n\\n\\n\\n\\n\\n\\n\\n\\n\\n\\n\\n\\n\\n\\n\\n\\n\\n\\n\\n\\n\\n\\n\\n\\n\\n\\n\\n\\n\\n\\n\\n\\n\\n\\n\\n\\n\\n\\n\\n\\n\\n\\n\\n\\n\\n\\n\\n\\n\\n\\n\\n\\n\\n\\n\\n\\n\\n\\n\\n\\n\\n\\n\\n\\n\\n\\n\\n\\n\\n\\n\\n\\n\\n\\n\\n\\n\\n\\n\\n\\n\\n\\n\\n\\n\\n\\n\\n\\n\\n\\n\\n\\n\\n\\n\\n\\n\\n\\n\\n\\n\\n\\n\\n\\n\\n\\n\\n\\n\\n\\n\\n\\n\\n\\n\\n\\n\\n\\n\\n\\n\\n\\n\\n\\n\\n\\n\\n\\n\\n\\n\\n\\n\\n\\n\\n\\n', 'qid': '8a5705334b2cccd1bff5792a30f2efeb_1'}\n",
      "can not parse ans for res:  {'response': '\\n\\n\\n\\n\\n\\n\\n\\n\\n\\n\\n\\n\\n\\n\\n\\n\\n\\n\\n\\n\\n\\n\\n\\n\\n\\n\\n\\n\\n\\n\\n\\n\\n\\n\\n\\n\\n\\n\\n\\n\\n\\n\\n\\n\\n\\n\\n\\n\\n\\n\\n\\n\\n\\n\\n\\n\\n\\n\\n\\n\\n\\n\\n\\n\\n\\n\\n\\n\\n\\n\\n\\n\\n\\n\\n\\n\\n\\n\\n\\n\\n\\n\\n\\n\\n\\n\\n\\n\\n\\n\\n\\n\\n\\n\\n\\n\\n\\n\\n\\n\\n\\n\\n\\n\\n\\n\\n\\n\\n\\n\\n\\n\\n\\n\\n\\n\\n\\n\\n\\n\\n\\n\\n\\n\\n\\n\\n\\n\\n\\n\\n\\n\\n\\n\\n\\n\\n\\n\\n\\n\\n\\n\\n\\n\\n\\n\\n\\n\\n\\n\\n\\n\\n\\n\\n\\n\\n\\n\\n\\n\\n\\n\\n\\n\\n\\n\\n\\n\\n\\n\\n\\n\\n\\n\\n\\n\\n\\n\\n\\n\\n\\n\\n\\n\\n\\n\\n\\n\\n\\n\\n\\n\\n\\n\\n\\n\\n\\n\\n\\n\\n\\n\\n\\n\\n\\n\\n\\n\\n\\n\\n\\n\\n\\n\\n\\n\\n\\n\\n\\n\\n\\n\\n\\n\\n\\n\\n\\n\\n\\n\\n\\n\\n\\n\\n\\n\\n\\n\\n\\n\\n\\n\\n\\n\\n\\n\\n\\n\\n\\n\\n\\n\\n\\n\\n\\n\\n\\n\\n\\n\\n\\n\\n\\n\\n\\n\\n\\n\\n\\n\\n\\n\\n\\n\\n\\n\\n\\n\\n\\n\\n\\n\\n\\n\\n\\n\\n\\n\\n\\n\\n\\n\\n\\n\\n\\n\\n\\n\\n\\n\\n\\n\\n\\n\\n\\n\\n\\n\\n\\n\\n\\n\\n\\n\\n\\n\\n\\n\\n\\n\\n\\n\\n\\n\\n\\n\\n\\n\\n\\n\\n\\n\\n\\n\\n\\n\\n\\n\\n\\n\\n\\n\\n\\n\\n\\n\\n\\n\\n\\n\\n\\n\\n\\n\\n\\n\\n\\n\\n\\n\\n\\n\\n\\n\\n\\n\\n\\n\\n\\n\\n\\n\\n\\n\\n\\n\\n\\n\\n\\n\\n\\n\\n\\n\\n\\n\\n\\n\\n\\n\\n\\n\\n\\n\\n\\n\\n\\n\\n\\n\\n\\n\\n\\n\\n\\n\\n\\n\\n\\n\\n\\n\\n\\n\\n\\n\\n\\n\\n\\n\\n\\n\\n\\n\\n\\n\\n\\n\\n\\n\\n\\n\\n\\n\\n\\n\\n\\n\\n\\n\\n\\n\\n\\n\\n\\n\\n\\n\\n\\n\\n\\n\\n\\n\\n\\n\\n\\n\\n\\n\\n\\n\\n\\n\\n\\n\\n\\n\\n\\n\\n\\n\\n\\n\\n\\n\\n\\n\\n\\n\\n\\n\\n\\n\\n\\n\\n\\n\\n\\n\\n\\n\\n\\n\\n\\n\\n\\n\\n\\n', 'qid': '8a5705334b2cccd1bff5792a30f2efeb_0'}\n",
      "can not parse ans for res:  {'response': '\\n\\n\\n\\n\\n\\n\\n\\n\\n\\n\\n\\n\\n\\n\\n\\n\\n\\n\\n\\n\\n\\n\\n\\n\\n\\n\\n\\n\\n\\n\\n\\n\\n\\n\\n\\n\\n\\n\\n\\n\\n\\n\\n\\n\\n\\n\\n\\n\\n\\n\\n\\n\\n\\n\\n\\n\\n\\n\\n\\n\\n\\n\\n\\n\\n\\n\\n\\n\\n\\n\\n\\n\\n\\n\\n\\n\\n\\n\\n\\n\\n\\n\\n\\n\\n\\n\\n\\n\\n\\n\\n\\n\\n\\n\\n\\n\\n\\n\\n\\n\\n\\n\\n\\n\\n\\n\\n\\n\\n\\n\\n\\n\\n\\n\\n\\n\\n\\n\\n\\n\\n\\n\\n\\n\\n\\n\\n\\n\\n\\n\\n\\n\\n\\n\\n\\n\\n\\n\\n\\n\\n\\n\\n\\n\\n\\n\\n\\n\\n\\n\\n\\n\\n\\n\\n\\n\\n\\n\\n\\n\\n\\n\\n\\n\\n\\n\\n\\n\\n\\n\\n\\n\\n\\n\\n\\n\\n\\n\\n\\n\\n\\n\\n\\n\\n\\n\\n\\n\\n\\n\\n\\n\\n\\n\\n\\n\\n\\n\\n\\n\\n\\n\\n\\n\\n\\n\\n\\n\\n\\n\\n\\n\\n\\n\\n\\n\\n\\n\\n\\n\\n\\n\\n\\n\\n\\n\\n\\n\\n\\n\\n\\n\\n\\n\\n\\n\\n\\n\\n\\n\\n\\n\\n\\n\\n\\n\\n\\n\\n\\n\\n\\n\\n\\n\\n\\n\\n\\n\\n\\n\\n\\n\\n\\n\\n\\n\\n\\n\\n\\n\\n\\n\\n\\n\\n\\n\\n\\n\\n\\n\\n\\n\\n\\n\\n\\n\\n\\n\\n\\n\\n\\n\\n\\n\\n\\n\\n\\n\\n\\n\\n\\n\\n\\n\\n\\n\\n\\n\\n\\n\\n\\n\\n\\n\\n\\n\\n\\n\\n\\n\\n\\n\\n\\n\\n\\n\\n\\n\\n\\n\\n\\n\\n\\n\\n\\n\\n\\n\\n\\n\\n\\n\\n\\n\\n\\n\\n\\n\\n\\n\\n\\n\\n\\n\\n\\n\\n\\n\\n\\n\\n\\n\\n\\n\\n\\n\\n\\n\\n\\n\\n\\n\\n\\n\\n\\n\\n\\n\\n\\n\\n\\n\\n\\n\\n\\n\\n\\n\\n\\n\\n\\n\\n\\n\\n\\n\\n\\n\\n\\n\\n\\n\\n\\n\\n\\n\\n\\n\\n\\n\\n\\n\\n\\n\\n\\n\\n\\n\\n\\n\\n\\n\\n\\n\\n\\n\\n\\n\\n\\n\\n\\n\\n\\n\\n\\n\\n\\n\\n\\n\\n\\n\\n\\n\\n\\n\\n\\n\\n\\n\\n\\n\\n\\n\\n\\n\\n\\n\\n\\n\\n\\n\\n\\n\\n\\n\\n\\n\\n\\n\\n\\n\\n\\n\\n\\n\\n\\n\\n\\n\\n\\n\\n\\n\\n\\n\\n\\n\\n\\n\\n\\n\\n\\n\\n\\n\\n\\n\\n\\n', 'qid': '8a5705334b2cccd1bff5792a30f2efeb_1'}\n",
      "can not parse ans for res:  {'response': '\\n\\n\\n\\n\\n\\n\\n\\n\\n\\n\\n\\n\\n\\n\\n\\n\\n\\n\\n\\n\\n\\n\\n\\n\\n\\n\\n\\n\\n\\n\\n\\n\\n\\n\\n\\n\\n\\n\\n\\n\\n\\n\\n\\n\\n\\n\\n\\n\\n\\n\\n\\n\\n\\n\\n\\n\\n\\n\\n\\n\\n\\n\\n\\n\\n\\n\\n\\n\\n\\n\\n\\n\\n\\n\\n\\n\\n\\n\\n\\n\\n\\n\\n\\n\\n\\n\\n\\n\\n\\n\\n\\n\\n\\n\\n\\n\\n\\n\\n\\n\\n\\n\\n\\n\\n\\n\\n\\n\\n\\n\\n\\n\\n\\n\\n\\n\\n\\n\\n\\n\\n\\n\\n\\n\\n\\n\\n\\n\\n\\n\\n\\n\\n\\n\\n\\n\\n\\n\\n\\n\\n\\n\\n\\n\\n\\n\\n\\n\\n\\n\\n\\n\\n\\n\\n\\n\\n\\n\\n\\n\\n\\n\\n\\n\\n\\n\\n\\n\\n\\n\\n\\n\\n\\n\\n\\n\\n\\n\\n\\n\\n\\n\\n\\n\\n\\n\\n\\n\\n\\n\\n\\n\\n\\n\\n\\n\\n\\n\\n\\n\\n\\n\\n\\n\\n\\n\\n\\n\\n\\n\\n\\n\\n\\n\\n\\n\\n\\n\\n\\n\\n\\n\\n\\n\\n\\n\\n\\n\\n\\n\\n\\n\\n\\n\\n\\n\\n\\n\\n\\n\\n\\n\\n\\n\\n\\n\\n\\n\\n\\n\\n\\n\\n\\n\\n\\n\\n\\n\\n\\n\\n\\n\\n\\n\\n\\n\\n\\n\\n\\n\\n\\n\\n\\n\\n\\n\\n\\n\\n\\n\\n\\n\\n\\n\\n\\n\\n\\n\\n\\n\\n\\n\\n\\n\\n\\n\\n\\n\\n\\n\\n\\n\\n\\n\\n\\n\\n\\n\\n\\n\\n\\n\\n\\n\\n\\n\\n\\n\\n\\n\\n\\n\\n\\n\\n\\n\\n\\n\\n\\n\\n\\n\\n\\n\\n\\n\\n\\n\\n\\n\\n\\n\\n\\n\\n\\n\\n\\n\\n\\n\\n\\n\\n\\n\\n\\n\\n\\n\\n\\n\\n\\n\\n\\n\\n\\n\\n\\n\\n\\n\\n\\n\\n\\n\\n\\n\\n\\n\\n\\n\\n\\n\\n\\n\\n\\n\\n\\n\\n\\n\\n\\n\\n\\n\\n\\n\\n\\n\\n\\n\\n\\n\\n\\n\\n\\n\\n\\n\\n\\n\\n\\n\\n\\n\\n\\n\\n\\n\\n\\n\\n\\n\\n\\n\\n\\n\\n\\n\\n\\n\\n\\n\\n\\n\\n\\n\\n\\n\\n\\n\\n\\n\\n\\n\\n\\n\\n\\n\\n\\n\\n\\n\\n\\n\\n\\n\\n\\n\\n\\n\\n\\n\\n\\n\\n\\n\\n\\n\\n\\n\\n\\n\\n\\n\\n\\n\\n\\n\\n\\n\\n\\n\\n\\n\\n\\n\\n\\n\\n\\n\\n\\n\\n\\n\\n\\n\\n\\n\\n\\n', 'qid': '8a5705334b2cccd1bff5792a30f2efeb_0'}\n",
      "can not parse ans for res:  {'response': '\\n\\n\\n\\n\\n\\n\\n\\n\\n\\n\\n\\n\\n\\n\\n\\n\\n\\n\\n\\n\\n\\n\\n\\n\\n\\n\\n\\n\\n\\n\\n\\n\\n\\n\\n\\n\\n\\n\\n\\n\\n\\n\\n\\n\\n\\n\\n\\n\\n\\n\\n\\n\\n\\n\\n\\n\\n\\n\\n\\n\\n\\n\\n\\n\\n\\n\\n\\n\\n\\n\\n\\n\\n\\n\\n\\n\\n\\n\\n\\n\\n\\n\\n\\n\\n\\n\\n\\n\\n\\n\\n\\n\\n\\n\\n\\n\\n\\n\\n\\n\\n\\n\\n\\n\\n\\n\\n\\n\\n\\n\\n\\n\\n\\n\\n\\n\\n\\n\\n\\n\\n\\n\\n\\n\\n\\n\\n\\n\\n\\n\\n\\n\\n\\n\\n\\n\\n\\n\\n\\n\\n\\n\\n\\n\\n\\n\\n\\n\\n\\n\\n\\n\\n\\n\\n\\n\\n\\n\\n\\n\\n\\n\\n\\n\\n\\n\\n\\n\\n\\n\\n\\n\\n\\n\\n\\n\\n\\n\\n\\n\\n\\n\\n\\n\\n\\n\\n\\n\\n\\n\\n\\n\\n\\n\\n\\n\\n\\n\\n\\n\\n\\n\\n\\n\\n\\n\\n\\n\\n\\n\\n\\n\\n\\n\\n\\n\\n\\n\\n\\n\\n\\n\\n\\n\\n\\n\\n\\n\\n\\n\\n\\n\\n\\n\\n\\n\\n\\n\\n\\n\\n\\n\\n\\n\\n\\n\\n\\n\\n\\n\\n\\n\\n\\n\\n\\n\\n\\n\\n\\n\\n\\n\\n\\n\\n\\n\\n\\n\\n\\n\\n\\n\\n\\n\\n\\n\\n\\n\\n\\n\\n\\n\\n\\n\\n\\n\\n\\n\\n\\n\\n\\n\\n\\n\\n\\n\\n\\n\\n\\n\\n\\n\\n\\n\\n\\n\\n\\n\\n\\n\\n\\n\\n\\n\\n\\n\\n\\n\\n\\n\\n\\n\\n\\n\\n\\n\\n\\n\\n\\n\\n\\n\\n\\n\\n\\n\\n\\n\\n\\n\\n\\n\\n\\n\\n\\n\\n\\n\\n\\n\\n\\n\\n\\n\\n\\n\\n\\n\\n\\n\\n\\n\\n\\n\\n\\n\\n\\n\\n\\n\\n\\n\\n\\n\\n\\n\\n\\n\\n\\n\\n\\n\\n\\n\\n\\n\\n\\n\\n\\n\\n\\n\\n\\n\\n\\n\\n\\n\\n\\n\\n\\n\\n\\n\\n\\n\\n\\n\\n\\n\\n\\n\\n\\n\\n\\n\\n\\n\\n\\n\\n\\n\\n\\n\\n\\n\\n\\n\\n\\n\\n\\n\\n\\n\\n\\n\\n\\n\\n\\n\\n\\n\\n\\n\\n\\n\\n\\n\\n\\n\\n\\n\\n\\n\\n\\n\\n\\n\\n\\n\\n\\n\\n\\n\\n\\n\\n\\n\\n\\n\\n\\n\\n\\n\\n\\n\\n\\n\\n\\n\\n\\n\\n\\n\\n\\n\\n\\n\\n\\n\\n\\n\\n\\n\\n\\n\\n\\n\\n\\n', 'qid': '8a5705334b2cccd1bff5792a30f2efeb_1'}\n",
      "can not parse ans for res:  {'response': '\\n\\n\\n\\n\\n\\n\\n\\n\\n\\n\\n\\n\\n\\n\\n\\n\\n\\n\\n\\n\\n\\n\\n\\n\\n\\n\\n\\n\\n\\n\\n\\n\\n\\n\\n\\n\\n\\n\\n\\n\\n\\n\\n\\n\\n\\n\\n\\n\\n\\n\\n\\n\\n\\n\\n\\n\\n\\n\\n\\n\\n\\n\\n\\n\\n\\n\\n\\n\\n\\n\\n\\n\\n\\n\\n\\n\\n\\n\\n\\n\\n\\n\\n\\n\\n\\n\\n\\n\\n\\n\\n\\n\\n\\n\\n\\n\\n\\n\\n\\n\\n\\n\\n\\n\\n\\n\\n\\n\\n\\n\\n\\n\\n\\n\\n\\n\\n\\n\\n\\n\\n\\n\\n\\n\\n\\n\\n\\n\\n\\n\\n\\n\\n\\n\\n\\n\\n\\n\\n\\n\\n\\n\\n\\n\\n\\n\\n\\n\\n\\n\\n\\n\\n\\n\\n\\n\\n\\n\\n\\n\\n\\n\\n\\n\\n\\n\\n\\n\\n\\n\\n\\n\\n\\n\\n\\n\\n\\n\\n\\n\\n\\n\\n\\n\\n\\n\\n\\n\\n\\n\\n\\n\\n\\n\\n\\n\\n\\n\\n\\n\\n\\n\\n\\n\\n\\n\\n\\n\\n\\n\\n\\n\\n\\n\\n\\n\\n\\n\\n\\n\\n\\n\\n\\n\\n\\n\\n\\n\\n\\n\\n\\n\\n\\n\\n\\n\\n\\n\\n\\n\\n\\n\\n\\n\\n\\n\\n\\n\\n\\n\\n\\n\\n\\n\\n\\n\\n\\n\\n\\n\\n\\n\\n\\n\\n\\n\\n\\n\\n\\n\\n\\n\\n\\n\\n\\n\\n\\n\\n\\n\\n\\n\\n\\n\\n\\n\\n\\n\\n\\n\\n\\n\\n\\n\\n\\n\\n\\n\\n\\n\\n\\n\\n\\n\\n\\n\\n\\n\\n\\n\\n\\n\\n\\n\\n\\n\\n\\n\\n\\n\\n\\n\\n\\n\\n\\n\\n\\n\\n\\n\\n\\n\\n\\n\\n\\n\\n\\n\\n\\n\\n\\n\\n\\n\\n\\n\\n\\n\\n\\n\\n\\n\\n\\n\\n\\n\\n\\n\\n\\n\\n\\n\\n\\n\\n\\n\\n\\n\\n\\n\\n\\n\\n\\n\\n\\n\\n\\n\\n\\n\\n\\n\\n\\n\\n\\n\\n\\n\\n\\n\\n\\n\\n\\n\\n\\n\\n\\n\\n\\n\\n\\n\\n\\n\\n\\n\\n\\n\\n\\n\\n\\n\\n\\n\\n\\n\\n\\n\\n\\n\\n\\n\\n\\n\\n\\n\\n\\n\\n\\n\\n\\n\\n\\n\\n\\n\\n\\n\\n\\n\\n\\n\\n\\n\\n\\n\\n\\n\\n\\n\\n\\n\\n\\n\\n\\n\\n\\n\\n\\n\\n\\n\\n\\n\\n\\n\\n\\n\\n\\n\\n\\n\\n\\n\\n\\n\\n\\n\\n\\n\\n\\n\\n\\n\\n\\n\\n\\n\\n\\n\\n\\n\\n\\n\\n\\n\\n\\n\\n\\n', 'qid': '8a5705334b2cccd1bff5792a30f2efeb_1'}\n",
      "can not parse ans for res:  {'response': '\\n\\n\\n\\n\\n\\n\\n\\n\\n\\n\\n\\n\\n\\n\\n\\n\\n\\n\\n\\n\\n\\n\\n\\n\\n\\n\\n\\n\\n\\n\\n\\n\\n\\n\\n\\n\\n\\n\\n\\n\\n\\n\\n\\n\\n\\n\\n\\n\\n\\n\\n\\n\\n\\n\\n\\n\\n\\n\\n\\n\\n\\n\\n\\n\\n\\n\\n\\n\\n\\n\\n\\n\\n\\n\\n\\n\\n\\n\\n\\n\\n\\n\\n\\n\\n\\n\\n\\n\\n\\n\\n\\n\\n\\n\\n\\n\\n\\n\\n\\n\\n\\n\\n\\n\\n\\n\\n\\n\\n\\n\\n\\n\\n\\n\\n\\n\\n\\n\\n\\n\\n\\n\\n\\n\\n\\n\\n\\n\\n\\n\\n\\n\\n\\n\\n\\n\\n\\n\\n\\n\\n\\n\\n\\n\\n\\n\\n\\n\\n\\n\\n\\n\\n\\n\\n\\n\\n\\n\\n\\n\\n\\n\\n\\n\\n\\n\\n\\n\\n\\n\\n\\n\\n\\n\\n\\n\\n\\n\\n\\n\\n\\n\\n\\n\\n\\n\\n\\n\\n\\n\\n\\n\\n\\n\\n\\n\\n\\n\\n\\n\\n\\n\\n\\n\\n\\n\\n\\n\\n\\n\\n\\n\\n\\n\\n\\n\\n\\n\\n\\n\\n\\n\\n\\n\\n\\n\\n\\n\\n\\n\\n\\n\\n\\n\\n\\n\\n\\n\\n\\n\\n\\n\\n\\n\\n\\n\\n\\n\\n\\n\\n\\n\\n\\n\\n\\n\\n\\n\\n\\n\\n\\n\\n\\n\\n\\n\\n\\n\\n\\n\\n\\n\\n\\n\\n\\n\\n\\n\\n\\n\\n\\n\\n\\n\\n\\n\\n\\n\\n\\n\\n\\n\\n\\n\\n\\n\\n\\n\\n\\n\\n\\n\\n\\n\\n\\n\\n\\n\\n\\n\\n\\n\\n\\n\\n\\n\\n\\n\\n\\n\\n\\n\\n\\n\\n\\n\\n\\n\\n\\n\\n\\n\\n\\n\\n\\n\\n\\n\\n\\n\\n\\n\\n\\n\\n\\n\\n\\n\\n\\n\\n\\n\\n\\n\\n\\n\\n\\n\\n\\n\\n\\n\\n\\n\\n\\n\\n\\n\\n\\n\\n\\n\\n\\n\\n\\n\\n\\n\\n\\n\\n\\n\\n\\n\\n\\n\\n\\n\\n\\n\\n\\n\\n\\n\\n\\n\\n\\n\\n\\n\\n\\n\\n\\n\\n\\n\\n\\n\\n\\n\\n\\n\\n\\n\\n\\n\\n\\n\\n\\n\\n\\n\\n\\n\\n\\n\\n\\n\\n\\n\\n\\n\\n\\n\\n\\n\\n\\n\\n\\n\\n\\n\\n\\n\\n\\n\\n\\n\\n\\n\\n\\n\\n\\n\\n\\n\\n\\n\\n\\n\\n\\n\\n\\n\\n\\n\\n\\n\\n\\n\\n\\n\\n\\n\\n\\n\\n\\n\\n\\n\\n\\n\\n\\n\\n\\n\\n\\n\\n\\n\\n\\n\\n\\n\\n\\n\\n\\n\\n\\n', 'qid': '8a5705334b2cccd1bff5792a30f2efeb_2'}\n",
      "can not parse ans for res:  {'response': '\\n\\n\\n\\n\\n\\n\\n\\n\\n\\n\\n\\n\\n\\n\\n\\n\\n\\n\\n\\n\\n\\n\\n\\n\\n\\n\\n\\n\\n\\n\\n\\n\\n\\n\\n\\n\\n\\n\\n\\n\\n\\n\\n\\n\\n\\n\\n\\n\\n\\n\\n\\n\\n\\n\\n\\n\\n\\n\\n\\n\\n\\n\\n\\n\\n\\n\\n\\n\\n\\n\\n\\n\\n\\n\\n\\n\\n\\n\\n\\n\\n\\n\\n\\n\\n\\n\\n\\n\\n\\n\\n\\n\\n\\n\\n\\n\\n\\n\\n\\n\\n\\n\\n\\n\\n\\n\\n\\n\\n\\n\\n\\n\\n\\n\\n\\n\\n\\n\\n\\n\\n\\n\\n\\n\\n\\n\\n\\n\\n\\n\\n\\n\\n\\n\\n\\n\\n\\n\\n\\n\\n\\n\\n\\n\\n\\n\\n\\n\\n\\n\\n\\n\\n\\n\\n\\n\\n\\n\\n\\n\\n\\n\\n\\n\\n\\n\\n\\n\\n\\n\\n\\n\\n\\n\\n\\n\\n\\n\\n\\n\\n\\n\\n\\n\\n\\n\\n\\n\\n\\n\\n\\n\\n\\n\\n\\n\\n\\n\\n\\n\\n\\n\\n\\n\\n\\n\\n\\n\\n\\n\\n\\n\\n\\n\\n\\n\\n\\n\\n\\n\\n\\n\\n\\n\\n\\n\\n\\n\\n\\n\\n\\n\\n\\n\\n\\n\\n\\n\\n\\n\\n\\n\\n\\n\\n\\n\\n\\n\\n\\n\\n\\n\\n\\n\\n\\n\\n\\n\\n\\n\\n\\n\\n\\n\\n\\n\\n\\n\\n\\n\\n\\n\\n\\n\\n\\n\\n\\n\\n\\n\\n\\n\\n\\n\\n\\n\\n\\n\\n\\n\\n\\n\\n\\n\\n\\n\\n\\n\\n\\n\\n\\n\\n\\n\\n\\n\\n\\n\\n\\n\\n\\n\\n\\n\\n\\n\\n\\n\\n\\n\\n\\n\\n\\n\\n\\n\\n\\n\\n\\n\\n\\n\\n\\n\\n\\n\\n\\n\\n\\n\\n\\n\\n\\n\\n\\n\\n\\n\\n\\n\\n\\n\\n\\n\\n\\n\\n\\n\\n\\n\\n\\n\\n\\n\\n\\n\\n\\n\\n\\n\\n\\n\\n\\n\\n\\n\\n\\n\\n\\n\\n\\n\\n\\n\\n\\n\\n\\n\\n\\n\\n\\n\\n\\n\\n\\n\\n\\n\\n\\n\\n\\n\\n\\n\\n\\n\\n\\n\\n\\n\\n\\n\\n\\n\\n\\n\\n\\n\\n\\n\\n\\n\\n\\n\\n\\n\\n\\n\\n\\n\\n\\n\\n\\n\\n\\n\\n\\n\\n\\n\\n\\n\\n\\n\\n\\n\\n\\n\\n\\n\\n\\n\\n\\n\\n\\n\\n\\n\\n\\n\\n\\n\\n\\n\\n\\n\\n\\n\\n\\n\\n\\n\\n\\n\\n\\n\\n\\n\\n\\n\\n\\n\\n\\n\\n\\n\\n\\n\\n\\n\\n\\n\\n\\n\\n\\n\\n\\n\\n\\n', 'qid': '8a5705334b2cccd1bff5792a30f2efeb_2'}\n",
      "can not parse ans for res:  {'response': '\\n\\nQuestion: Which bowl of noodles is the blandest?\\n\\nOptions:\\nOption (A)\\nOption (B)\\nOption (C)\\nOption (D)\\n\\nAnswer: Option (C)\\n\\nExplanation: The bowl of noodles in Option (C) is the blandest because it has the least amount of seasoning and flavor compared to the other options. The noodles in Option (C) are not heavily seasoned with spices or sauces, making them less flavorful and more plain. The other options have more seasoning and flavor, making them more flavorful and less bland.', 'qid': 'e2cbda5cebb1ae23b462d72550b724be_0'}\n",
      "can not parse ans for res:  {'response': '\\n\\n\\n\\n\\n\\n\\n\\n\\n\\n\\n\\n\\n\\n\\n\\n\\n\\n\\n\\n\\n\\n\\n\\n\\n\\n\\n\\n\\n\\n\\n\\n\\n\\n\\n\\n\\n\\n\\n\\n\\n\\n\\n\\n\\n\\n\\n\\n\\n\\n\\n\\n\\n\\n\\n\\n\\n\\n\\n\\n\\n\\n\\n\\n\\n\\n\\n\\n\\n\\n\\n\\n\\n\\n\\n\\n\\n\\n\\n\\n\\n\\n\\n\\n\\n\\n\\n\\n\\n\\n\\n\\n\\n\\n\\n\\n\\n\\n\\n\\n\\n\\n\\n\\n\\n\\n\\n\\n\\n\\n\\n\\n\\n\\n\\n\\n\\n\\n\\n\\n\\n\\n\\n\\n\\n\\n\\n\\n\\n\\n\\n\\n\\n\\n\\n\\n\\n\\n\\n\\n\\n\\n\\n\\n\\n\\n\\n\\n\\n\\n\\n\\n\\n\\n\\n\\n\\n\\n\\n\\n\\n\\n\\n\\n\\n\\n\\n\\n\\n\\n\\n\\n\\n\\n\\n\\n\\n\\n\\n\\n\\n\\n\\n\\n\\n\\n\\n\\n\\n\\n\\n\\n\\n\\n\\n\\n\\n\\n\\n\\n\\n\\n\\n\\n\\n\\n\\n\\n\\n\\n\\n\\n\\n\\n\\n\\n\\n\\n\\n\\n\\n\\n\\n\\n\\n\\n\\n\\n\\n\\n\\n\\n\\n\\n\\n\\n\\n\\n\\n\\n\\n\\n\\n\\n\\n\\n\\n\\n\\n\\n\\n\\n\\n\\n\\n\\n\\n\\n\\n\\n\\n\\n\\n\\n\\n\\n\\n\\n\\n\\n\\n\\n\\n\\n\\n\\n\\n\\n\\n\\n\\n\\n\\n\\n\\n\\n\\n\\n\\n\\n\\n\\n\\n\\n\\n\\n\\n\\n\\n\\n\\n\\n\\n\\n\\n\\n\\n\\n\\n\\n\\n\\n\\n\\n\\n\\n\\n\\n\\n\\n\\n\\n\\n\\n\\n\\n\\n\\n\\n\\n\\n\\n\\n\\n\\n\\n\\n\\n\\n\\n\\n\\n\\n\\n\\n\\n\\n\\n\\n\\n\\n\\n\\n\\n\\n\\n\\n\\n\\n\\n\\n\\n\\n\\n\\n\\n\\n\\n\\n\\n\\n\\n\\n\\n\\n\\n\\n\\n\\n\\n\\n\\n\\n\\n\\n\\n\\n\\n\\n\\n\\n\\n\\n\\n\\n\\n\\n\\n\\n\\n\\n\\n\\n\\n\\n\\n\\n\\n\\n\\n\\n\\n\\n\\n\\n\\n\\n\\n\\n\\n\\n\\n\\n\\n\\n\\n\\n\\n\\n\\n\\n\\n\\n\\n\\n\\n\\n\\n\\n\\n\\n\\n\\n\\n\\n\\n\\n\\n\\n\\n\\n\\n\\n\\n\\n\\n\\n\\n\\n\\n\\n\\n\\n\\n\\n\\n\\n\\n\\n\\n\\n\\n\\n\\n\\n\\n\\n\\n\\n\\n\\n\\n\\n\\n\\n\\n\\n\\n\\n\\n\\n\\n\\n\\n\\n\\n\\n\\n\\n\\n', 'qid': 'e2cbda5cebb1ae23b462d72550b724be_0'}\n",
      "can not parse ans for res:  {'response': '\\n\\n\\n\\n\\n\\n\\n\\n\\n\\n\\n\\n\\n\\n\\n\\n\\n\\n\\n\\n\\n\\n\\n\\n\\n\\n\\n\\n\\n\\n\\n\\n\\n\\n\\n\\n\\n\\n\\n\\n\\n\\n\\n\\n\\n\\n\\n\\n\\n\\n\\n\\n\\n\\n\\n\\n\\n\\n\\n\\n\\n\\n\\n\\n\\n\\n\\n\\n\\n\\n\\n\\n\\n\\n\\n\\n\\n\\n\\n\\n\\n\\n\\n\\n\\n\\n\\n\\n\\n\\n\\n\\n\\n\\n\\n\\n\\n\\n\\n\\n\\n\\n\\n\\n\\n\\n\\n\\n\\n\\n\\n\\n\\n\\n\\n\\n\\n\\n\\n\\n\\n\\n\\n\\n\\n\\n\\n\\n\\n\\n\\n\\n\\n\\n\\n\\n\\n\\n\\n\\n\\n\\n\\n\\n\\n\\n\\n\\n\\n\\n\\n\\n\\n\\n\\n\\n\\n\\n\\n\\n\\n\\n\\n\\n\\n\\n\\n\\n\\n\\n\\n\\n\\n\\n\\n\\n\\n\\n\\n\\n\\n\\n\\n\\n\\n\\n\\n\\n\\n\\n\\n\\n\\n\\n\\n\\n\\n\\n\\n\\n\\n\\n\\n\\n\\n\\n\\n\\n\\n\\n\\n\\n\\n\\n\\n\\n\\n\\n\\n\\n\\n\\n\\n\\n\\n\\n\\n\\n\\n\\n\\n\\n\\n\\n\\n\\n\\n\\n\\n\\n\\n\\n\\n\\n\\n\\n\\n\\n\\n\\n\\n\\n\\n\\n\\n\\n\\n\\n\\n\\n\\n\\n\\n\\n\\n\\n\\n\\n\\n\\n\\n\\n\\n\\n\\n\\n\\n\\n\\n\\n\\n\\n\\n\\n\\n\\n\\n\\n\\n\\n\\n\\n\\n\\n\\n\\n\\n\\n\\n\\n\\n\\n\\n\\n\\n\\n\\n\\n\\n\\n\\n\\n\\n\\n\\n\\n\\n\\n\\n\\n\\n\\n\\n\\n\\n\\n\\n\\n\\n\\n\\n\\n\\n\\n\\n\\n\\n\\n\\n\\n\\n\\n\\n\\n\\n\\n\\n\\n\\n\\n\\n\\n\\n\\n\\n\\n\\n\\n\\n\\n\\n\\n\\n\\n\\n\\n\\n\\n\\n\\n\\n\\n\\n\\n\\n\\n\\n\\n\\n\\n\\n\\n\\n\\n\\n\\n\\n\\n\\n\\n\\n\\n\\n\\n\\n\\n\\n\\n\\n\\n\\n\\n\\n\\n\\n\\n\\n\\n\\n\\n\\n\\n\\n\\n\\n\\n\\n\\n\\n\\n\\n\\n\\n\\n\\n\\n\\n\\n\\n\\n\\n\\n\\n\\n\\n\\n\\n\\n\\n\\n\\n\\n\\n\\n\\n\\n\\n\\n\\n\\n\\n\\n\\n\\n\\n\\n\\n\\n\\n\\n\\n\\n\\n\\n\\n\\n\\n\\n\\n\\n\\n\\n\\n\\n\\n\\n\\n\\n\\n\\n\\n\\n\\n\\n\\n\\n\\n\\n\\n\\n\\n\\n\\n\\n\\n\\n\\n\\n\\n\\n', 'qid': 'e2cbda5cebb1ae23b462d72550b724be_1'}\n",
      "can not parse ans for res:  {'response': '\\n\\n\\n\\n\\n\\n\\n\\n\\n\\n\\n\\n\\n\\n\\n\\n\\n\\n\\n\\n\\n\\n\\n\\n\\n\\n\\n\\n\\n\\n\\n\\n\\n\\n\\n\\n\\n\\n\\n\\n\\n\\n\\n\\n\\n\\n\\n\\n\\n\\n\\n\\n\\n\\n\\n\\n\\n\\n\\n\\n\\n\\n\\n\\n\\n\\n\\n\\n\\n\\n\\n\\n\\n\\n\\n\\n\\n\\n\\n\\n\\n\\n\\n\\n\\n\\n\\n\\n\\n\\n\\n\\n\\n\\n\\n\\n\\n\\n\\n\\n\\n\\n\\n\\n\\n\\n\\n\\n\\n\\n\\n\\n\\n\\n\\n\\n\\n\\n\\n\\n\\n\\n\\n\\n\\n\\n\\n\\n\\n\\n\\n\\n\\n\\n\\n\\n\\n\\n\\n\\n\\n\\n\\n\\n\\n\\n\\n\\n\\n\\n\\n\\n\\n\\n\\n\\n\\n\\n\\n\\n\\n\\n\\n\\n\\n\\n\\n\\n\\n\\n\\n\\n\\n\\n\\n\\n\\n\\n\\n\\n\\n\\n\\n\\n\\n\\n\\n\\n\\n\\n\\n\\n\\n\\n\\n\\n\\n\\n\\n\\n\\n\\n\\n\\n\\n\\n\\n\\n\\n\\n\\n\\n\\n\\n\\n\\n\\n\\n\\n\\n\\n\\n\\n\\n\\n\\n\\n\\n\\n\\n\\n\\n\\n\\n\\n\\n\\n\\n\\n\\n\\n\\n\\n\\n\\n\\n\\n\\n\\n\\n\\n\\n\\n\\n\\n\\n\\n\\n\\n\\n\\n\\n\\n\\n\\n\\n\\n\\n\\n\\n\\n\\n\\n\\n\\n\\n\\n\\n\\n\\n\\n\\n\\n\\n\\n\\n\\n\\n\\n\\n\\n\\n\\n\\n\\n\\n\\n\\n\\n\\n\\n\\n\\n\\n\\n\\n\\n\\n\\n\\n\\n\\n\\n\\n\\n\\n\\n\\n\\n\\n\\n\\n\\n\\n\\n\\n\\n\\n\\n\\n\\n\\n\\n\\n\\n\\n\\n\\n\\n\\n\\n\\n\\n\\n\\n\\n\\n\\n\\n\\n\\n\\n\\n\\n\\n\\n\\n\\n\\n\\n\\n\\n\\n\\n\\n\\n\\n\\n\\n\\n\\n\\n\\n\\n\\n\\n\\n\\n\\n\\n\\n\\n\\n\\n\\n\\n\\n\\n\\n\\n\\n\\n\\n\\n\\n\\n\\n\\n\\n\\n\\n\\n\\n\\n\\n\\n\\n\\n\\n\\n\\n\\n\\n\\n\\n\\n\\n\\n\\n\\n\\n\\n\\n\\n\\n\\n\\n\\n\\n\\n\\n\\n\\n\\n\\n\\n\\n\\n\\n\\n\\n\\n\\n\\n\\n\\n\\n\\n\\n\\n\\n\\n\\n\\n\\n\\n\\n\\n\\n\\n\\n\\n\\n\\n\\n\\n\\n\\n\\n\\n\\n\\n\\n\\n\\n\\n\\n\\n\\n\\n\\n\\n\\n\\n\\n\\n\\n\\n\\n\\n\\n\\n\\n\\n\\n\\n\\n\\n\\n\\n', 'qid': 'e2cbda5cebb1ae23b462d72550b724be_2'}\n",
      "can not parse ans for res:  {'response': '\\n\\n\\n\\n\\n\\n\\n\\n\\n\\n\\n\\n\\n\\n\\n\\n\\n\\n\\n\\n\\n\\n\\n\\n\\n\\n\\n\\n\\n\\n\\n\\n\\n\\n\\n\\n\\n\\n\\n\\n\\n\\n\\n\\n\\n\\n\\n\\n\\n\\n\\n\\n\\n\\n\\n\\n\\n\\n\\n\\n\\n\\n\\n\\n\\n\\n\\n\\n\\n\\n\\n\\n\\n\\n\\n\\n\\n\\n\\n\\n\\n\\n\\n\\n\\n\\n\\n\\n\\n\\n\\n\\n\\n\\n\\n\\n\\n\\n\\n\\n\\n\\n\\n\\n\\n\\n\\n\\n\\n\\n\\n\\n\\n\\n\\n\\n\\n\\n\\n\\n\\n\\n\\n\\n\\n\\n\\n\\n\\n\\n\\n\\n\\n\\n\\n\\n\\n\\n\\n\\n\\n\\n\\n\\n\\n\\n\\n\\n\\n\\n\\n\\n\\n\\n\\n\\n\\n\\n\\n\\n\\n\\n\\n\\n\\n\\n\\n\\n\\n\\n\\n\\n\\n\\n\\n\\n\\n\\n\\n\\n\\n\\n\\n\\n\\n\\n\\n\\n\\n\\n\\n\\n\\n\\n\\n\\n\\n\\n\\n\\n\\n\\n\\n\\n\\n\\n\\n\\n\\n\\n\\n\\n\\n\\n\\n\\n\\n\\n\\n\\n\\n\\n\\n\\n\\n\\n\\n\\n\\n\\n\\n\\n\\n\\n\\n\\n\\n\\n\\n\\n\\n\\n\\n\\n\\n\\n\\n\\n\\n\\n\\n\\n\\n\\n\\n\\n\\n\\n\\n\\n\\n\\n\\n\\n\\n\\n\\n\\n\\n\\n\\n\\n\\n\\n\\n\\n\\n\\n\\n\\n\\n\\n\\n\\n\\n\\n\\n\\n\\n\\n\\n\\n\\n\\n\\n\\n\\n\\n\\n\\n\\n\\n\\n\\n\\n\\n\\n\\n\\n\\n\\n\\n\\n\\n\\n\\n\\n\\n\\n\\n\\n\\n\\n\\n\\n\\n\\n\\n\\n\\n\\n\\n\\n\\n\\n\\n\\n\\n\\n\\n\\n\\n\\n\\n\\n\\n\\n\\n\\n\\n\\n\\n\\n\\n\\n\\n\\n\\n\\n\\n\\n\\n\\n\\n\\n\\n\\n\\n\\n\\n\\n\\n\\n\\n\\n\\n\\n\\n\\n\\n\\n\\n\\n\\n\\n\\n\\n\\n\\n\\n\\n\\n\\n\\n\\n\\n\\n\\n\\n\\n\\n\\n\\n\\n\\n\\n\\n\\n\\n\\n\\n\\n\\n\\n\\n\\n\\n\\n\\n\\n\\n\\n\\n\\n\\n\\n\\n\\n\\n\\n\\n\\n\\n\\n\\n\\n\\n\\n\\n\\n\\n\\n\\n\\n\\n\\n\\n\\n\\n\\n\\n\\n\\n\\n\\n\\n\\n\\n\\n\\n\\n\\n\\n\\n\\n\\n\\n\\n\\n\\n\\n\\n\\n\\n\\n\\n\\n\\n\\n\\n\\n\\n\\n\\n\\n\\n\\n\\n\\n\\n\\n\\n\\n\\n\\n\\n\\n\\n\\n\\n', 'qid': 'e2cbda5cebb1ae23b462d72550b724be_0'}\n",
      "can not parse ans for res:  {'response': '\\n\\n\\n\\n\\n\\n\\n\\n\\n\\n\\n\\n\\n\\n\\n\\n\\n\\n\\n\\n\\n\\n\\n\\n\\n\\n\\n\\n\\n\\n\\n\\n\\n\\n\\n\\n\\n\\n\\n\\n\\n\\n\\n\\n\\n\\n\\n\\n\\n\\n\\n\\n\\n\\n\\n\\n\\n\\n\\n\\n\\n\\n\\n\\n\\n\\n\\n\\n\\n\\n\\n\\n\\n\\n\\n\\n\\n\\n\\n\\n\\n\\n\\n\\n\\n\\n\\n\\n\\n\\n\\n\\n\\n\\n\\n\\n\\n\\n\\n\\n\\n\\n\\n\\n\\n\\n\\n\\n\\n\\n\\n\\n\\n\\n\\n\\n\\n\\n\\n\\n\\n\\n\\n\\n\\n\\n\\n\\n\\n\\n\\n\\n\\n\\n\\n\\n\\n\\n\\n\\n\\n\\n\\n\\n\\n\\n\\n\\n\\n\\n\\n\\n\\n\\n\\n\\n\\n\\n\\n\\n\\n\\n\\n\\n\\n\\n\\n\\n\\n\\n\\n\\n\\n\\n\\n\\n\\n\\n\\n\\n\\n\\n\\n\\n\\n\\n\\n\\n\\n\\n\\n\\n\\n\\n\\n\\n\\n\\n\\n\\n\\n\\n\\n\\n\\n\\n\\n\\n\\n\\n\\n\\n\\n\\n\\n\\n\\n\\n\\n\\n\\n\\n\\n\\n\\n\\n\\n\\n\\n\\n\\n\\n\\n\\n\\n\\n\\n\\n\\n\\n\\n\\n\\n\\n\\n\\n\\n\\n\\n\\n\\n\\n\\n\\n\\n\\n\\n\\n\\n\\n\\n\\n\\n\\n\\n\\n\\n\\n\\n\\n\\n\\n\\n\\n\\n\\n\\n\\n\\n\\n\\n\\n\\n\\n\\n\\n\\n\\n\\n\\n\\n\\n\\n\\n\\n\\n\\n\\n\\n\\n\\n\\n\\n\\n\\n\\n\\n\\n\\n\\n\\n\\n\\n\\n\\n\\n\\n\\n\\n\\n\\n\\n\\n\\n\\n\\n\\n\\n\\n\\n\\n\\n\\n\\n\\n\\n\\n\\n\\n\\n\\n\\n\\n\\n\\n\\n\\n\\n\\n\\n\\n\\n\\n\\n\\n\\n\\n\\n\\n\\n\\n\\n\\n\\n\\n\\n\\n\\n\\n\\n\\n\\n\\n\\n\\n\\n\\n\\n\\n\\n\\n\\n\\n\\n\\n\\n\\n\\n\\n\\n\\n\\n\\n\\n\\n\\n\\n\\n\\n\\n\\n\\n\\n\\n\\n\\n\\n\\n\\n\\n\\n\\n\\n\\n\\n\\n\\n\\n\\n\\n\\n\\n\\n\\n\\n\\n\\n\\n\\n\\n\\n\\n\\n\\n\\n\\n\\n\\n\\n\\n\\n\\n\\n\\n\\n\\n\\n\\n\\n\\n\\n\\n\\n\\n\\n\\n\\n\\n\\n\\n\\n\\n\\n\\n\\n\\n\\n\\n\\n\\n\\n\\n\\n\\n\\n\\n\\n\\n\\n\\n\\n\\n\\n\\n\\n\\n\\n\\n\\n\\n\\n\\n\\n\\n\\n\\n\\n\\n\\n\\n', 'qid': 'e2cbda5cebb1ae23b462d72550b724be_1'}\n",
      "can not parse ans for res:  {'response': '\\n\\n\\n\\n\\n\\n\\n\\n\\n\\n\\n\\n\\n\\n\\n\\n\\n\\n\\n\\n\\n\\n\\n\\n\\n\\n\\n\\n\\n\\n\\n\\n\\n\\n\\n\\n\\n\\n\\n\\n\\n\\n\\n\\n\\n\\n\\n\\n\\n\\n\\n\\n\\n\\n\\n\\n\\n\\n\\n\\n\\n\\n\\n\\n\\n\\n\\n\\n\\n\\n\\n\\n\\n\\n\\n\\n\\n\\n\\n\\n\\n\\n\\n\\n\\n\\n\\n\\n\\n\\n\\n\\n\\n\\n\\n\\n\\n\\n\\n\\n\\n\\n\\n\\n\\n\\n\\n\\n\\n\\n\\n\\n\\n\\n\\n\\n\\n\\n\\n\\n\\n\\n\\n\\n\\n\\n\\n\\n\\n\\n\\n\\n\\n\\n\\n\\n\\n\\n\\n\\n\\n\\n\\n\\n\\n\\n\\n\\n\\n\\n\\n\\n\\n\\n\\n\\n\\n\\n\\n\\n\\n\\n\\n\\n\\n\\n\\n\\n\\n\\n\\n\\n\\n\\n\\n\\n\\n\\n\\n\\n\\n\\n\\n\\n\\n\\n\\n\\n\\n\\n\\n\\n\\n\\n\\n\\n\\n\\n\\n\\n\\n\\n\\n\\n\\n\\n\\n\\n\\n\\n\\n\\n\\n\\n\\n\\n\\n\\n\\n\\n\\n\\n\\n\\n\\n\\n\\n\\n\\n\\n\\n\\n\\n\\n\\n\\n\\n\\n\\n\\n\\n\\n\\n\\n\\n\\n\\n\\n\\n\\n\\n\\n\\n\\n\\n\\n\\n\\n\\n\\n\\n\\n\\n\\n\\n\\n\\n\\n\\n\\n\\n\\n\\n\\n\\n\\n\\n\\n\\n\\n\\n\\n\\n\\n\\n\\n\\n\\n\\n\\n\\n\\n\\n\\n\\n\\n\\n\\n\\n\\n\\n\\n\\n\\n\\n\\n\\n\\n\\n\\n\\n\\n\\n\\n\\n\\n\\n\\n\\n\\n\\n\\n\\n\\n\\n\\n\\n\\n\\n\\n\\n\\n\\n\\n\\n\\n\\n\\n\\n\\n\\n\\n\\n\\n\\n\\n\\n\\n\\n\\n\\n\\n\\n\\n\\n\\n\\n\\n\\n\\n\\n\\n\\n\\n\\n\\n\\n\\n\\n\\n\\n\\n\\n\\n\\n\\n\\n\\n\\n\\n\\n\\n\\n\\n\\n\\n\\n\\n\\n\\n\\n\\n\\n\\n\\n\\n\\n\\n\\n\\n\\n\\n\\n\\n\\n\\n\\n\\n\\n\\n\\n\\n\\n\\n\\n\\n\\n\\n\\n\\n\\n\\n\\n\\n\\n\\n\\n\\n\\n\\n\\n\\n\\n\\n\\n\\n\\n\\n\\n\\n\\n\\n\\n\\n\\n\\n\\n\\n\\n\\n\\n\\n\\n\\n\\n\\n\\n\\n\\n\\n\\n\\n\\n\\n\\n\\n\\n\\n\\n\\n\\n\\n\\n\\n\\n\\n\\n\\n\\n\\n\\n\\n\\n\\n\\n\\n\\n\\n\\n\\n\\n\\n\\n\\n\\n\\n\\n\\n\\n\\n', 'qid': 'e2cbda5cebb1ae23b462d72550b724be_2'}\n",
      "can not parse ans for res:  {'response': '\\n\\n\\n\\n\\n\\n\\n\\n\\n\\n\\n\\n\\n\\n\\n\\n\\n\\n\\n\\n\\n\\n\\n\\n\\n\\n\\n\\n\\n\\n\\n\\n\\n\\n\\n\\n\\n\\n\\n\\n\\n\\n\\n\\n\\n\\n\\n\\n\\n\\n\\n\\n\\n\\n\\n\\n\\n\\n\\n\\n\\n\\n\\n\\n\\n\\n\\n\\n\\n\\n\\n\\n\\n\\n\\n\\n\\n\\n\\n\\n\\n\\n\\n\\n\\n\\n\\n\\n\\n\\n\\n\\n\\n\\n\\n\\n\\n\\n\\n\\n\\n\\n\\n\\n\\n\\n\\n\\n\\n\\n\\n\\n\\n\\n\\n\\n\\n\\n\\n\\n\\n\\n\\n\\n\\n\\n\\n\\n\\n\\n\\n\\n\\n\\n\\n\\n\\n\\n\\n\\n\\n\\n\\n\\n\\n\\n\\n\\n\\n\\n\\n\\n\\n\\n\\n\\n\\n\\n\\n\\n\\n\\n\\n\\n\\n\\n\\n\\n\\n\\n\\n\\n\\n\\n\\n\\n\\n\\n\\n\\n\\n\\n\\n\\n\\n\\n\\n\\n\\n\\n\\n\\n\\n\\n\\n\\n\\n\\n\\n\\n\\n\\n\\n\\n\\n\\n\\n\\n\\n\\n\\n\\n\\n\\n\\n\\n\\n\\n\\n\\n\\n\\n\\n\\n\\n\\n\\n\\n\\n\\n\\n\\n\\n\\n\\n\\n\\n\\n\\n\\n\\n\\n\\n\\n\\n\\n\\n\\n\\n\\n\\n\\n\\n\\n\\n\\n\\n\\n\\n\\n\\n\\n\\n\\n\\n\\n\\n\\n\\n\\n\\n\\n\\n\\n\\n\\n\\n\\n\\n\\n\\n\\n\\n\\n\\n\\n\\n\\n\\n\\n\\n\\n\\n\\n\\n\\n\\n\\n\\n\\n\\n\\n\\n\\n\\n\\n\\n\\n\\n\\n\\n\\n\\n\\n\\n\\n\\n\\n\\n\\n\\n\\n\\n\\n\\n\\n\\n\\n\\n\\n\\n\\n\\n\\n\\n\\n\\n\\n\\n\\n\\n\\n\\n\\n\\n\\n\\n\\n\\n\\n\\n\\n\\n\\n\\n\\n\\n\\n\\n\\n\\n\\n\\n\\n\\n\\n\\n\\n\\n\\n\\n\\n\\n\\n\\n\\n\\n\\n\\n\\n\\n\\n\\n\\n\\n\\n\\n\\n\\n\\n\\n\\n\\n\\n\\n\\n\\n\\n\\n\\n\\n\\n\\n\\n\\n\\n\\n\\n\\n\\n\\n\\n\\n\\n\\n\\n\\n\\n\\n\\n\\n\\n\\n\\n\\n\\n\\n\\n\\n\\n\\n\\n\\n\\n\\n\\n\\n\\n\\n\\n\\n\\n\\n\\n\\n\\n\\n\\n\\n\\n\\n\\n\\n\\n\\n\\n\\n\\n\\n\\n\\n\\n\\n\\n\\n\\n\\n\\n\\n\\n\\n\\n\\n\\n\\n\\n\\n\\n\\n\\n\\n\\n\\n\\n\\n\\n\\n\\n\\n\\n\\n\\n\\n\\n\\n\\n\\n\\n\\n\\n', 'qid': 'e2cbda5cebb1ae23b462d72550b724be_0'}\n",
      "can not parse ans for res:  {'response': '\\n\\n\\n\\n\\n\\n\\n\\n\\n\\n\\n\\n\\n\\n\\n\\n\\n\\n\\n\\n\\n\\n\\n\\n\\n\\n\\n\\n\\n\\n\\n\\n\\n\\n\\n\\n\\n\\n\\n\\n\\n\\n\\n\\n\\n\\n\\n\\n\\n\\n\\n\\n\\n\\n\\n\\n\\n\\n\\n\\n\\n\\n\\n\\n\\n\\n\\n\\n\\n\\n\\n\\n\\n\\n\\n\\n\\n\\n\\n\\n\\n\\n\\n\\n\\n\\n\\n\\n\\n\\n\\n\\n\\n\\n\\n\\n\\n\\n\\n\\n\\n\\n\\n\\n\\n\\n\\n\\n\\n\\n\\n\\n\\n\\n\\n\\n\\n\\n\\n\\n\\n\\n\\n\\n\\n\\n\\n\\n\\n\\n\\n\\n\\n\\n\\n\\n\\n\\n\\n\\n\\n\\n\\n\\n\\n\\n\\n\\n\\n\\n\\n\\n\\n\\n\\n\\n\\n\\n\\n\\n\\n\\n\\n\\n\\n\\n\\n\\n\\n\\n\\n\\n\\n\\n\\n\\n\\n\\n\\n\\n\\n\\n\\n\\n\\n\\n\\n\\n\\n\\n\\n\\n\\n\\n\\n\\n\\n\\n\\n\\n\\n\\n\\n\\n\\n\\n\\n\\n\\n\\n\\n\\n\\n\\n\\n\\n\\n\\n\\n\\n\\n\\n\\n\\n\\n\\n\\n\\n\\n\\n\\n\\n\\n\\n\\n\\n\\n\\n\\n\\n\\n\\n\\n\\n\\n\\n\\n\\n\\n\\n\\n\\n\\n\\n\\n\\n\\n\\n\\n\\n\\n\\n\\n\\n\\n\\n\\n\\n\\n\\n\\n\\n\\n\\n\\n\\n\\n\\n\\n\\n\\n\\n\\n\\n\\n\\n\\n\\n\\n\\n\\n\\n\\n\\n\\n\\n\\n\\n\\n\\n\\n\\n\\n\\n\\n\\n\\n\\n\\n\\n\\n\\n\\n\\n\\n\\n\\n\\n\\n\\n\\n\\n\\n\\n\\n\\n\\n\\n\\n\\n\\n\\n\\n\\n\\n\\n\\n\\n\\n\\n\\n\\n\\n\\n\\n\\n\\n\\n\\n\\n\\n\\n\\n\\n\\n\\n\\n\\n\\n\\n\\n\\n\\n\\n\\n\\n\\n\\n\\n\\n\\n\\n\\n\\n\\n\\n\\n\\n\\n\\n\\n\\n\\n\\n\\n\\n\\n\\n\\n\\n\\n\\n\\n\\n\\n\\n\\n\\n\\n\\n\\n\\n\\n\\n\\n\\n\\n\\n\\n\\n\\n\\n\\n\\n\\n\\n\\n\\n\\n\\n\\n\\n\\n\\n\\n\\n\\n\\n\\n\\n\\n\\n\\n\\n\\n\\n\\n\\n\\n\\n\\n\\n\\n\\n\\n\\n\\n\\n\\n\\n\\n\\n\\n\\n\\n\\n\\n\\n\\n\\n\\n\\n\\n\\n\\n\\n\\n\\n\\n\\n\\n\\n\\n\\n\\n\\n\\n\\n\\n\\n\\n\\n\\n\\n\\n\\n\\n\\n\\n\\n\\n\\n\\n\\n\\n\\n\\n\\n\\n\\n', 'qid': 'e2cbda5cebb1ae23b462d72550b724be_1'}\n",
      "can not parse ans for res:  {'response': '\\n\\n\\n\\n\\n\\n\\n\\n\\n\\n\\n\\n\\n\\n\\n\\n\\n\\n\\n\\n\\n\\n\\n\\n\\n\\n\\n\\n\\n\\n\\n\\n\\n\\n\\n\\n\\n\\n\\n\\n\\n\\n\\n\\n\\n\\n\\n\\n\\n\\n\\n\\n\\n\\n\\n\\n\\n\\n\\n\\n\\n\\n\\n\\n\\n\\n\\n\\n\\n\\n\\n\\n\\n\\n\\n\\n\\n\\n\\n\\n\\n\\n\\n\\n\\n\\n\\n\\n\\n\\n\\n\\n\\n\\n\\n\\n\\n\\n\\n\\n\\n\\n\\n\\n\\n\\n\\n\\n\\n\\n\\n\\n\\n\\n\\n\\n\\n\\n\\n\\n\\n\\n\\n\\n\\n\\n\\n\\n\\n\\n\\n\\n\\n\\n\\n\\n\\n\\n\\n\\n\\n\\n\\n\\n\\n\\n\\n\\n\\n\\n\\n\\n\\n\\n\\n\\n\\n\\n\\n\\n\\n\\n\\n\\n\\n\\n\\n\\n\\n\\n\\n\\n\\n\\n\\n\\n\\n\\n\\n\\n\\n\\n\\n\\n\\n\\n\\n\\n\\n\\n\\n\\n\\n\\n\\n\\n\\n\\n\\n\\n\\n\\n\\n\\n\\n\\n\\n\\n\\n\\n\\n\\n\\n\\n\\n\\n\\n\\n\\n\\n\\n\\n\\n\\n\\n\\n\\n\\n\\n\\n\\n\\n\\n\\n\\n\\n\\n\\n\\n\\n\\n\\n\\n\\n\\n\\n\\n\\n\\n\\n\\n\\n\\n\\n\\n\\n\\n\\n\\n\\n\\n\\n\\n\\n\\n\\n\\n\\n\\n\\n\\n\\n\\n\\n\\n\\n\\n\\n\\n\\n\\n\\n\\n\\n\\n\\n\\n\\n\\n\\n\\n\\n\\n\\n\\n\\n\\n\\n\\n\\n\\n\\n\\n\\n\\n\\n\\n\\n\\n\\n\\n\\n\\n\\n\\n\\n\\n\\n\\n\\n\\n\\n\\n\\n\\n\\n\\n\\n\\n\\n\\n\\n\\n\\n\\n\\n\\n\\n\\n\\n\\n\\n\\n\\n\\n\\n\\n\\n\\n\\n\\n\\n\\n\\n\\n\\n\\n\\n\\n\\n\\n\\n\\n\\n\\n\\n\\n\\n\\n\\n\\n\\n\\n\\n\\n\\n\\n\\n\\n\\n\\n\\n\\n\\n\\n\\n\\n\\n\\n\\n\\n\\n\\n\\n\\n\\n\\n\\n\\n\\n\\n\\n\\n\\n\\n\\n\\n\\n\\n\\n\\n\\n\\n\\n\\n\\n\\n\\n\\n\\n\\n\\n\\n\\n\\n\\n\\n\\n\\n\\n\\n\\n\\n\\n\\n\\n\\n\\n\\n\\n\\n\\n\\n\\n\\n\\n\\n\\n\\n\\n\\n\\n\\n\\n\\n\\n\\n\\n\\n\\n\\n\\n\\n\\n\\n\\n\\n\\n\\n\\n\\n\\n\\n\\n\\n\\n\\n\\n\\n\\n\\n\\n\\n\\n\\n\\n\\n\\n\\n\\n\\n\\n\\n\\n\\n\\n\\n\\n\\n\\n', 'qid': 'e2cbda5cebb1ae23b462d72550b724be_0'}\n",
      "can not parse ans for res:  {'response': '\\n\\n\\n\\n\\n\\n\\n\\n\\n\\n\\n\\n\\n\\n\\n\\n\\n\\n\\n\\n\\n\\n\\n\\n\\n\\n\\n\\n\\n\\n\\n\\n\\n\\n\\n\\n\\n\\n\\n\\n\\n\\n\\n\\n\\n\\n\\n\\n\\n\\n\\n\\n\\n\\n\\n\\n\\n\\n\\n\\n\\n\\n\\n\\n\\n\\n\\n\\n\\n\\n\\n\\n\\n\\n\\n\\n\\n\\n\\n\\n\\n\\n\\n\\n\\n\\n\\n\\n\\n\\n\\n\\n\\n\\n\\n\\n\\n\\n\\n\\n\\n\\n\\n\\n\\n\\n\\n\\n\\n\\n\\n\\n\\n\\n\\n\\n\\n\\n\\n\\n\\n\\n\\n\\n\\n\\n\\n\\n\\n\\n\\n\\n\\n\\n\\n\\n\\n\\n\\n\\n\\n\\n\\n\\n\\n\\n\\n\\n\\n\\n\\n\\n\\n\\n\\n\\n\\n\\n\\n\\n\\n\\n\\n\\n\\n\\n\\n\\n\\n\\n\\n\\n\\n\\n\\n\\n\\n\\n\\n\\n\\n\\n\\n\\n\\n\\n\\n\\n\\n\\n\\n\\n\\n\\n\\n\\n\\n\\n\\n\\n\\n\\n\\n\\n\\n\\n\\n\\n\\n\\n\\n\\n\\n\\n\\n\\n\\n\\n\\n\\n\\n\\n\\n\\n\\n\\n\\n\\n\\n\\n\\n\\n\\n\\n\\n\\n\\n\\n\\n\\n\\n\\n\\n\\n\\n\\n\\n\\n\\n\\n\\n\\n\\n\\n\\n\\n\\n\\n\\n\\n\\n\\n\\n\\n\\n\\n\\n\\n\\n\\n\\n\\n\\n\\n\\n\\n\\n\\n\\n\\n\\n\\n\\n\\n\\n\\n\\n\\n\\n\\n\\n\\n\\n\\n\\n\\n\\n\\n\\n\\n\\n\\n\\n\\n\\n\\n\\n\\n\\n\\n\\n\\n\\n\\n\\n\\n\\n\\n\\n\\n\\n\\n\\n\\n\\n\\n\\n\\n\\n\\n\\n\\n\\n\\n\\n\\n\\n\\n\\n\\n\\n\\n\\n\\n\\n\\n\\n\\n\\n\\n\\n\\n\\n\\n\\n\\n\\n\\n\\n\\n\\n\\n\\n\\n\\n\\n\\n\\n\\n\\n\\n\\n\\n\\n\\n\\n\\n\\n\\n\\n\\n\\n\\n\\n\\n\\n\\n\\n\\n\\n\\n\\n\\n\\n\\n\\n\\n\\n\\n\\n\\n\\n\\n\\n\\n\\n\\n\\n\\n\\n\\n\\n\\n\\n\\n\\n\\n\\n\\n\\n\\n\\n\\n\\n\\n\\n\\n\\n\\n\\n\\n\\n\\n\\n\\n\\n\\n\\n\\n\\n\\n\\n\\n\\n\\n\\n\\n\\n\\n\\n\\n\\n\\n\\n\\n\\n\\n\\n\\n\\n\\n\\n\\n\\n\\n\\n\\n\\n\\n\\n\\n\\n\\n\\n\\n\\n\\n\\n\\n\\n\\n\\n\\n\\n\\n\\n\\n\\n\\n\\n\\n\\n\\n\\n\\n\\n\\n\\n\\n\\n', 'qid': 'e2cbda5cebb1ae23b462d72550b724be_2'}\n",
      "can not parse ans for res:  {'response': '\\n\\n\\n\\n\\n\\n\\n\\n\\n\\n\\n\\n\\n\\n\\n\\n\\n\\n\\n\\n\\n\\n\\n\\n\\n\\n\\n\\n\\n\\n\\n\\n\\n\\n\\n\\n\\n\\n\\n\\n\\n\\n\\n\\n\\n\\n\\n\\n\\n\\n\\n\\n\\n\\n\\n\\n\\n\\n\\n\\n\\n\\n\\n\\n\\n\\n\\n\\n\\n\\n\\n\\n\\n\\n\\n\\n\\n\\n\\n\\n\\n\\n\\n\\n\\n\\n\\n\\n\\n\\n\\n\\n\\n\\n\\n\\n\\n\\n\\n\\n\\n\\n\\n\\n\\n\\n\\n\\n\\n\\n\\n\\n\\n\\n\\n\\n\\n\\n\\n\\n\\n\\n\\n\\n\\n\\n\\n\\n\\n\\n\\n\\n\\n\\n\\n\\n\\n\\n\\n\\n\\n\\n\\n\\n\\n\\n\\n\\n\\n\\n\\n\\n\\n\\n\\n\\n\\n\\n\\n\\n\\n\\n\\n\\n\\n\\n\\n\\n\\n\\n\\n\\n\\n\\n\\n\\n\\n\\n\\n\\n\\n\\n\\n\\n\\n\\n\\n\\n\\n\\n\\n\\n\\n\\n\\n\\n\\n\\n\\n\\n\\n\\n\\n\\n\\n\\n\\n\\n\\n\\n\\n\\n\\n\\n\\n\\n\\n\\n\\n\\n\\n\\n\\n\\n\\n\\n\\n\\n\\n\\n\\n\\n\\n\\n\\n\\n\\n\\n\\n\\n\\n\\n\\n\\n\\n\\n\\n\\n\\n\\n\\n\\n\\n\\n\\n\\n\\n\\n\\n\\n\\n\\n\\n\\n\\n\\n\\n\\n\\n\\n\\n\\n\\n\\n\\n\\n\\n\\n\\n\\n\\n\\n\\n\\n\\n\\n\\n\\n\\n\\n\\n\\n\\n\\n\\n\\n\\n\\n\\n\\n\\n\\n\\n\\n\\n\\n\\n\\n\\n\\n\\n\\n\\n\\n\\n\\n\\n\\n\\n\\n\\n\\n\\n\\n\\n\\n\\n\\n\\n\\n\\n\\n\\n\\n\\n\\n\\n\\n\\n\\n\\n\\n\\n\\n\\n\\n\\n\\n\\n\\n\\n\\n\\n\\n\\n\\n\\n\\n\\n\\n\\n\\n\\n\\n\\n\\n\\n\\n\\n\\n\\n\\n\\n\\n\\n\\n\\n\\n\\n\\n\\n\\n\\n\\n\\n\\n\\n\\n\\n\\n\\n\\n\\n\\n\\n\\n\\n\\n\\n\\n\\n\\n\\n\\n\\n\\n\\n\\n\\n\\n\\n\\n\\n\\n\\n\\n\\n\\n\\n\\n\\n\\n\\n\\n\\n\\n\\n\\n\\n\\n\\n\\n\\n\\n\\n\\n\\n\\n\\n\\n\\n\\n\\n\\n\\n\\n\\n\\n\\n\\n\\n\\n\\n\\n\\n\\n\\n\\n\\n\\n\\n\\n\\n\\n\\n\\n\\n\\n\\n\\n\\n\\n\\n\\n\\n\\n\\n\\n\\n\\n\\n\\n\\n\\n\\n\\n\\n\\n\\n\\n\\n\\n\\n\\n\\n\\n\\n\\n\\n\\n', 'qid': 'e2cbda5cebb1ae23b462d72550b724be_0'}\n",
      "can not parse ans for res:  {'response': '\\n\\n\\n\\n\\n\\n\\n\\n\\n\\n\\n\\n\\n\\n\\n\\n\\n\\n\\n\\n\\n\\n\\n\\n\\n\\n\\n\\n\\n\\n\\n\\n\\n\\n\\n\\n\\n\\n\\n\\n\\n\\n\\n\\n\\n\\n\\n\\n\\n\\n\\n\\n\\n\\n\\n\\n\\n\\n\\n\\n\\n\\n\\n\\n\\n\\n\\n\\n\\n\\n\\n\\n\\n\\n\\n\\n\\n\\n\\n\\n\\n\\n\\n\\n\\n\\n\\n\\n\\n\\n\\n\\n\\n\\n\\n\\n\\n\\n\\n\\n\\n\\n\\n\\n\\n\\n\\n\\n\\n\\n\\n\\n\\n\\n\\n\\n\\n\\n\\n\\n\\n\\n\\n\\n\\n\\n\\n\\n\\n\\n\\n\\n\\n\\n\\n\\n\\n\\n\\n\\n\\n\\n\\n\\n\\n\\n\\n\\n\\n\\n\\n\\n\\n\\n\\n\\n\\n\\n\\n\\n\\n\\n\\n\\n\\n\\n\\n\\n\\n\\n\\n\\n\\n\\n\\n\\n\\n\\n\\n\\n\\n\\n\\n\\n\\n\\n\\n\\n\\n\\n\\n\\n\\n\\n\\n\\n\\n\\n\\n\\n\\n\\n\\n\\n\\n\\n\\n\\n\\n\\n\\n\\n\\n\\n\\n\\n\\n\\n\\n\\n\\n\\n\\n\\n\\n\\n\\n\\n\\n\\n\\n\\n\\n\\n\\n\\n\\n\\n\\n\\n\\n\\n\\n\\n\\n\\n\\n\\n\\n\\n\\n\\n\\n\\n\\n\\n\\n\\n\\n\\n\\n\\n\\n\\n\\n\\n\\n\\n\\n\\n\\n\\n\\n\\n\\n\\n\\n\\n\\n\\n\\n\\n\\n\\n\\n\\n\\n\\n\\n\\n\\n\\n\\n\\n\\n\\n\\n\\n\\n\\n\\n\\n\\n\\n\\n\\n\\n\\n\\n\\n\\n\\n\\n\\n\\n\\n\\n\\n\\n\\n\\n\\n\\n\\n\\n\\n\\n\\n\\n\\n\\n\\n\\n\\n\\n\\n\\n\\n\\n\\n\\n\\n\\n\\n\\n\\n\\n\\n\\n\\n\\n\\n\\n\\n\\n\\n\\n\\n\\n\\n\\n\\n\\n\\n\\n\\n\\n\\n\\n\\n\\n\\n\\n\\n\\n\\n\\n\\n\\n\\n\\n\\n\\n\\n\\n\\n\\n\\n\\n\\n\\n\\n\\n\\n\\n\\n\\n\\n\\n\\n\\n\\n\\n\\n\\n\\n\\n\\n\\n\\n\\n\\n\\n\\n\\n\\n\\n\\n\\n\\n\\n\\n\\n\\n\\n\\n\\n\\n\\n\\n\\n\\n\\n\\n\\n\\n\\n\\n\\n\\n\\n\\n\\n\\n\\n\\n\\n\\n\\n\\n\\n\\n\\n\\n\\n\\n\\n\\n\\n\\n\\n\\n\\n\\n\\n\\n\\n\\n\\n\\n\\n\\n\\n\\n\\n\\n\\n\\n\\n\\n\\n\\n\\n\\n\\n\\n\\n\\n\\n\\n\\n\\n\\n\\n\\n\\n\\n\\n\\n\\n', 'qid': 'e2cbda5cebb1ae23b462d72550b724be_1'}\n",
      "can not parse ans for res:  {'response': '\\n\\n\\n\\n\\n\\n\\n\\n\\n\\n\\n\\n\\n\\n\\n\\n\\n\\n\\n\\n\\n\\n\\n\\n\\n\\n\\n\\n\\n\\n\\n\\n\\n\\n\\n\\n\\n\\n\\n\\n\\n\\n\\n\\n\\n\\n\\n\\n\\n\\n\\n\\n\\n\\n\\n\\n\\n\\n\\n\\n\\n\\n\\n\\n\\n\\n\\n\\n\\n\\n\\n\\n\\n\\n\\n\\n\\n\\n\\n\\n\\n\\n\\n\\n\\n\\n\\n\\n\\n\\n\\n\\n\\n\\n\\n\\n\\n\\n\\n\\n\\n\\n\\n\\n\\n\\n\\n\\n\\n\\n\\n\\n\\n\\n\\n\\n\\n\\n\\n\\n\\n\\n\\n\\n\\n\\n\\n\\n\\n\\n\\n\\n\\n\\n\\n\\n\\n\\n\\n\\n\\n\\n\\n\\n\\n\\n\\n\\n\\n\\n\\n\\n\\n\\n\\n\\n\\n\\n\\n\\n\\n\\n\\n\\n\\n\\n\\n\\n\\n\\n\\n\\n\\n\\n\\n\\n\\n\\n\\n\\n\\n\\n\\n\\n\\n\\n\\n\\n\\n\\n\\n\\n\\n\\n\\n\\n\\n\\n\\n\\n\\n\\n\\n\\n\\n\\n\\n\\n\\n\\n\\n\\n\\n\\n\\n\\n\\n\\n\\n\\n\\n\\n\\n\\n\\n\\n\\n\\n\\n\\n\\n\\n\\n\\n\\n\\n\\n\\n\\n\\n\\n\\n\\n\\n\\n\\n\\n\\n\\n\\n\\n\\n\\n\\n\\n\\n\\n\\n\\n\\n\\n\\n\\n\\n\\n\\n\\n\\n\\n\\n\\n\\n\\n\\n\\n\\n\\n\\n\\n\\n\\n\\n\\n\\n\\n\\n\\n\\n\\n\\n\\n\\n\\n\\n\\n\\n\\n\\n\\n\\n\\n\\n\\n\\n\\n\\n\\n\\n\\n\\n\\n\\n\\n\\n\\n\\n\\n\\n\\n\\n\\n\\n\\n\\n\\n\\n\\n\\n\\n\\n\\n\\n\\n\\n\\n\\n\\n\\n\\n\\n\\n\\n\\n\\n\\n\\n\\n\\n\\n\\n\\n\\n\\n\\n\\n\\n\\n\\n\\n\\n\\n\\n\\n\\n\\n\\n\\n\\n\\n\\n\\n\\n\\n\\n\\n\\n\\n\\n\\n\\n\\n\\n\\n\\n\\n\\n\\n\\n\\n\\n\\n\\n\\n\\n\\n\\n\\n\\n\\n\\n\\n\\n\\n\\n\\n\\n\\n\\n\\n\\n\\n\\n\\n\\n\\n\\n\\n\\n\\n\\n\\n\\n\\n\\n\\n\\n\\n\\n\\n\\n\\n\\n\\n\\n\\n\\n\\n\\n\\n\\n\\n\\n\\n\\n\\n\\n\\n\\n\\n\\n\\n\\n\\n\\n\\n\\n\\n\\n\\n\\n\\n\\n\\n\\n\\n\\n\\n\\n\\n\\n\\n\\n\\n\\n\\n\\n\\n\\n\\n\\n\\n\\n\\n\\n\\n\\n\\n\\n\\n\\n\\n\\n\\n\\n\\n\\n\\n\\n\\n\\n', 'qid': 'e2cbda5cebb1ae23b462d72550b724be_2'}\n",
      "can not parse ans for res:  {'response': '\\n\\n\\n\\n\\n\\n\\n\\n\\n\\n\\n\\n\\n\\n\\n\\n\\n\\n\\n\\n\\n\\n\\n\\n\\n\\n\\n\\n\\n\\n\\n\\n\\n\\n\\n\\n\\n\\n\\n\\n\\n\\n\\n\\n\\n\\n\\n\\n\\n\\n\\n\\n\\n\\n\\n\\n\\n\\n\\n\\n\\n\\n\\n\\n\\n\\n\\n\\n\\n\\n\\n\\n\\n\\n\\n\\n\\n\\n\\n\\n\\n\\n\\n\\n\\n\\n\\n\\n\\n\\n\\n\\n\\n\\n\\n\\n\\n\\n\\n\\n\\n\\n\\n\\n\\n\\n\\n\\n\\n\\n\\n\\n\\n\\n\\n\\n\\n\\n\\n\\n\\n\\n\\n\\n\\n\\n\\n\\n\\n\\n\\n\\n\\n\\n\\n\\n\\n\\n\\n\\n\\n\\n\\n\\n\\n\\n\\n\\n\\n\\n\\n\\n\\n\\n\\n\\n\\n\\n\\n\\n\\n\\n\\n\\n\\n\\n\\n\\n\\n\\n\\n\\n\\n\\n\\n\\n\\n\\n\\n\\n\\n\\n\\n\\n\\n\\n\\n\\n\\n\\n\\n\\n\\n\\n\\n\\n\\n\\n\\n\\n\\n\\n\\n\\n\\n\\n\\n\\n\\n\\n\\n\\n\\n\\n\\n\\n\\n\\n\\n\\n\\n\\n\\n\\n\\n\\n\\n\\n\\n\\n\\n\\n\\n\\n\\n\\n\\n\\n\\n\\n\\n\\n\\n\\n\\n\\n\\n\\n\\n\\n\\n\\n\\n\\n\\n\\n\\n\\n\\n\\n\\n\\n\\n\\n\\n\\n\\n\\n\\n\\n\\n\\n\\n\\n\\n\\n\\n\\n\\n\\n\\n\\n\\n\\n\\n\\n\\n\\n\\n\\n\\n\\n\\n\\n\\n\\n\\n\\n\\n\\n\\n\\n\\n\\n\\n\\n\\n\\n\\n\\n\\n\\n\\n\\n\\n\\n\\n\\n\\n\\n\\n\\n\\n\\n\\n\\n\\n\\n\\n\\n\\n\\n\\n\\n\\n\\n\\n\\n\\n\\n\\n\\n\\n\\n\\n\\n\\n\\n\\n\\n\\n\\n\\n\\n\\n\\n\\n\\n\\n\\n\\n\\n\\n\\n\\n\\n\\n\\n\\n\\n\\n\\n\\n\\n\\n\\n\\n\\n\\n\\n\\n\\n\\n\\n\\n\\n\\n\\n\\n\\n\\n\\n\\n\\n\\n\\n\\n\\n\\n\\n\\n\\n\\n\\n\\n\\n\\n\\n\\n\\n\\n\\n\\n\\n\\n\\n\\n\\n\\n\\n\\n\\n\\n\\n\\n\\n\\n\\n\\n\\n\\n\\n\\n\\n\\n\\n\\n\\n\\n\\n\\n\\n\\n\\n\\n\\n\\n\\n\\n\\n\\n\\n\\n\\n\\n\\n\\n\\n\\n\\n\\n\\n\\n\\n\\n\\n\\n\\n\\n\\n\\n\\n\\n\\n\\n\\n\\n\\n\\n\\n\\n\\n\\n\\n\\n\\n\\n\\n\\n\\n\\n\\n\\n\\n\\n\\n\\n\\n\\n\\n', 'qid': 'e2cbda5cebb1ae23b462d72550b724be_0'}\n",
      "can not parse ans for res:  {'response': '\\n\\n\\n\\n\\n\\n\\n\\n\\n\\n\\n\\n\\n\\n\\n\\n\\n\\n\\n\\n\\n\\n\\n\\n\\n\\n\\n\\n\\n\\n\\n\\n\\n\\n\\n\\n\\n\\n\\n\\n\\n\\n\\n\\n\\n\\n\\n\\n\\n\\n\\n\\n\\n\\n\\n\\n\\n\\n\\n\\n\\n\\n\\n\\n\\n\\n\\n\\n\\n\\n\\n\\n\\n\\n\\n\\n\\n\\n\\n\\n\\n\\n\\n\\n\\n\\n\\n\\n\\n\\n\\n\\n\\n\\n\\n\\n\\n\\n\\n\\n\\n\\n\\n\\n\\n\\n\\n\\n\\n\\n\\n\\n\\n\\n\\n\\n\\n\\n\\n\\n\\n\\n\\n\\n\\n\\n\\n\\n\\n\\n\\n\\n\\n\\n\\n\\n\\n\\n\\n\\n\\n\\n\\n\\n\\n\\n\\n\\n\\n\\n\\n\\n\\n\\n\\n\\n\\n\\n\\n\\n\\n\\n\\n\\n\\n\\n\\n\\n\\n\\n\\n\\n\\n\\n\\n\\n\\n\\n\\n\\n\\n\\n\\n\\n\\n\\n\\n\\n\\n\\n\\n\\n\\n\\n\\n\\n\\n\\n\\n\\n\\n\\n\\n\\n\\n\\n\\n\\n\\n\\n\\n\\n\\n\\n\\n\\n\\n\\n\\n\\n\\n\\n\\n\\n\\n\\n\\n\\n\\n\\n\\n\\n\\n\\n\\n\\n\\n\\n\\n\\n\\n\\n\\n\\n\\n\\n\\n\\n\\n\\n\\n\\n\\n\\n\\n\\n\\n\\n\\n\\n\\n\\n\\n\\n\\n\\n\\n\\n\\n\\n\\n\\n\\n\\n\\n\\n\\n\\n\\n\\n\\n\\n\\n\\n\\n\\n\\n\\n\\n\\n\\n\\n\\n\\n\\n\\n\\n\\n\\n\\n\\n\\n\\n\\n\\n\\n\\n\\n\\n\\n\\n\\n\\n\\n\\n\\n\\n\\n\\n\\n\\n\\n\\n\\n\\n\\n\\n\\n\\n\\n\\n\\n\\n\\n\\n\\n\\n\\n\\n\\n\\n\\n\\n\\n\\n\\n\\n\\n\\n\\n\\n\\n\\n\\n\\n\\n\\n\\n\\n\\n\\n\\n\\n\\n\\n\\n\\n\\n\\n\\n\\n\\n\\n\\n\\n\\n\\n\\n\\n\\n\\n\\n\\n\\n\\n\\n\\n\\n\\n\\n\\n\\n\\n\\n\\n\\n\\n\\n\\n\\n\\n\\n\\n\\n\\n\\n\\n\\n\\n\\n\\n\\n\\n\\n\\n\\n\\n\\n\\n\\n\\n\\n\\n\\n\\n\\n\\n\\n\\n\\n\\n\\n\\n\\n\\n\\n\\n\\n\\n\\n\\n\\n\\n\\n\\n\\n\\n\\n\\n\\n\\n\\n\\n\\n\\n\\n\\n\\n\\n\\n\\n\\n\\n\\n\\n\\n\\n\\n\\n\\n\\n\\n\\n\\n\\n\\n\\n\\n\\n\\n\\n\\n\\n\\n\\n\\n\\n\\n\\n\\n\\n\\n\\n\\n\\n\\n\\n\\n\\n\\n', 'qid': 'e2cbda5cebb1ae23b462d72550b724be_1'}\n",
      "can not parse ans for res:  {'response': '\\n\\n\\n\\n\\n\\n\\n\\n\\n\\n\\n\\n\\n\\n\\n\\n\\n\\n\\n\\n\\n\\n\\n\\n\\n\\n\\n\\n\\n\\n\\n\\n\\n\\n\\n\\n\\n\\n\\n\\n\\n\\n\\n\\n\\n\\n\\n\\n\\n\\n\\n\\n\\n\\n\\n\\n\\n\\n\\n\\n\\n\\n\\n\\n\\n\\n\\n\\n\\n\\n\\n\\n\\n\\n\\n\\n\\n\\n\\n\\n\\n\\n\\n\\n\\n\\n\\n\\n\\n\\n\\n\\n\\n\\n\\n\\n\\n\\n\\n\\n\\n\\n\\n\\n\\n\\n\\n\\n\\n\\n\\n\\n\\n\\n\\n\\n\\n\\n\\n\\n\\n\\n\\n\\n\\n\\n\\n\\n\\n\\n\\n\\n\\n\\n\\n\\n\\n\\n\\n\\n\\n\\n\\n\\n\\n\\n\\n\\n\\n\\n\\n\\n\\n\\n\\n\\n\\n\\n\\n\\n\\n\\n\\n\\n\\n\\n\\n\\n\\n\\n\\n\\n\\n\\n\\n\\n\\n\\n\\n\\n\\n\\n\\n\\n\\n\\n\\n\\n\\n\\n\\n\\n\\n\\n\\n\\n\\n\\n\\n\\n\\n\\n\\n\\n\\n\\n\\n\\n\\n\\n\\n\\n\\n\\n\\n\\n\\n\\n\\n\\n\\n\\n\\n\\n\\n\\n\\n\\n\\n\\n\\n\\n\\n\\n\\n\\n\\n\\n\\n\\n\\n\\n\\n\\n\\n\\n\\n\\n\\n\\n\\n\\n\\n\\n\\n\\n\\n\\n\\n\\n\\n\\n\\n\\n\\n\\n\\n\\n\\n\\n\\n\\n\\n\\n\\n\\n\\n\\n\\n\\n\\n\\n\\n\\n\\n\\n\\n\\n\\n\\n\\n\\n\\n\\n\\n\\n\\n\\n\\n\\n\\n\\n\\n\\n\\n\\n\\n\\n\\n\\n\\n\\n\\n\\n\\n\\n\\n\\n\\n\\n\\n\\n\\n\\n\\n\\n\\n\\n\\n\\n\\n\\n\\n\\n\\n\\n\\n\\n\\n\\n\\n\\n\\n\\n\\n\\n\\n\\n\\n\\n\\n\\n\\n\\n\\n\\n\\n\\n\\n\\n\\n\\n\\n\\n\\n\\n\\n\\n\\n\\n\\n\\n\\n\\n\\n\\n\\n\\n\\n\\n\\n\\n\\n\\n\\n\\n\\n\\n\\n\\n\\n\\n\\n\\n\\n\\n\\n\\n\\n\\n\\n\\n\\n\\n\\n\\n\\n\\n\\n\\n\\n\\n\\n\\n\\n\\n\\n\\n\\n\\n\\n\\n\\n\\n\\n\\n\\n\\n\\n\\n\\n\\n\\n\\n\\n\\n\\n\\n\\n\\n\\n\\n\\n\\n\\n\\n\\n\\n\\n\\n\\n\\n\\n\\n\\n\\n\\n\\n\\n\\n\\n\\n\\n\\n\\n\\n\\n\\n\\n\\n\\n\\n\\n\\n\\n\\n\\n\\n\\n\\n\\n\\n\\n\\n\\n\\n\\n\\n\\n\\n\\n\\n\\n\\n\\n\\n\\n\\n\\n\\n', 'qid': 'e2cbda5cebb1ae23b462d72550b724be_0'}\n",
      "can not parse ans for res:  {'response': '\\n\\n\\n\\n\\n\\n\\n\\n\\n\\n\\n\\n\\n\\n\\n\\n\\n\\n\\n\\n\\n\\n\\n\\n\\n\\n\\n\\n\\n\\n\\n\\n\\n\\n\\n\\n\\n\\n\\n\\n\\n\\n\\n\\n\\n\\n\\n\\n\\n\\n\\n\\n\\n\\n\\n\\n\\n\\n\\n\\n\\n\\n\\n\\n\\n\\n\\n\\n\\n\\n\\n\\n\\n\\n\\n\\n\\n\\n\\n\\n\\n\\n\\n\\n\\n\\n\\n\\n\\n\\n\\n\\n\\n\\n\\n\\n\\n\\n\\n\\n\\n\\n\\n\\n\\n\\n\\n\\n\\n\\n\\n\\n\\n\\n\\n\\n\\n\\n\\n\\n\\n\\n\\n\\n\\n\\n\\n\\n\\n\\n\\n\\n\\n\\n\\n\\n\\n\\n\\n\\n\\n\\n\\n\\n\\n\\n\\n\\n\\n\\n\\n\\n\\n\\n\\n\\n\\n\\n\\n\\n\\n\\n\\n\\n\\n\\n\\n\\n\\n\\n\\n\\n\\n\\n\\n\\n\\n\\n\\n\\n\\n\\n\\n\\n\\n\\n\\n\\n\\n\\n\\n\\n\\n\\n\\n\\n\\n\\n\\n\\n\\n\\n\\n\\n\\n\\n\\n\\n\\n\\n\\n\\n\\n\\n\\n\\n\\n\\n\\n\\n\\n\\n\\n\\n\\n\\n\\n\\n\\n\\n\\n\\n\\n\\n\\n\\n\\n\\n\\n\\n\\n\\n\\n\\n\\n\\n\\n\\n\\n\\n\\n\\n\\n\\n\\n\\n\\n\\n\\n\\n\\n\\n\\n\\n\\n\\n\\n\\n\\n\\n\\n\\n\\n\\n\\n\\n\\n\\n\\n\\n\\n\\n\\n\\n\\n\\n\\n\\n\\n\\n\\n\\n\\n\\n\\n\\n\\n\\n\\n\\n\\n\\n\\n\\n\\n\\n\\n\\n\\n\\n\\n\\n\\n\\n\\n\\n\\n\\n\\n\\n\\n\\n\\n\\n\\n\\n\\n\\n\\n\\n\\n\\n\\n\\n\\n\\n\\n\\n\\n\\n\\n\\n\\n\\n\\n\\n\\n\\n\\n\\n\\n\\n\\n\\n\\n\\n\\n\\n\\n\\n\\n\\n\\n\\n\\n\\n\\n\\n\\n\\n\\n\\n\\n\\n\\n\\n\\n\\n\\n\\n\\n\\n\\n\\n\\n\\n\\n\\n\\n\\n\\n\\n\\n\\n\\n\\n\\n\\n\\n\\n\\n\\n\\n\\n\\n\\n\\n\\n\\n\\n\\n\\n\\n\\n\\n\\n\\n\\n\\n\\n\\n\\n\\n\\n\\n\\n\\n\\n\\n\\n\\n\\n\\n\\n\\n\\n\\n\\n\\n\\n\\n\\n\\n\\n\\n\\n\\n\\n\\n\\n\\n\\n\\n\\n\\n\\n\\n\\n\\n\\n\\n\\n\\n\\n\\n\\n\\n\\n\\n\\n\\n\\n\\n\\n\\n\\n\\n\\n\\n\\n\\n\\n\\n\\n\\n\\n\\n\\n\\n\\n\\n\\n\\n\\n\\n\\n\\n\\n\\n\\n', 'qid': 'e2cbda5cebb1ae23b462d72550b724be_1'}\n",
      "can not parse ans for res:  {'response': '\\n\\n\\n\\n\\n\\n\\n\\n\\n\\n\\n\\n\\n\\n\\n\\n\\n\\n\\n\\n\\n\\n\\n\\n\\n\\n\\n\\n\\n\\n\\n\\n\\n\\n\\n\\n\\n\\n\\n\\n\\n\\n\\n\\n\\n\\n\\n\\n\\n\\n\\n\\n\\n\\n\\n\\n\\n\\n\\n\\n\\n\\n\\n\\n\\n\\n\\n\\n\\n\\n\\n\\n\\n\\n\\n\\n\\n\\n\\n\\n\\n\\n\\n\\n\\n\\n\\n\\n\\n\\n\\n\\n\\n\\n\\n\\n\\n\\n\\n\\n\\n\\n\\n\\n\\n\\n\\n\\n\\n\\n\\n\\n\\n\\n\\n\\n\\n\\n\\n\\n\\n\\n\\n\\n\\n\\n\\n\\n\\n\\n\\n\\n\\n\\n\\n\\n\\n\\n\\n\\n\\n\\n\\n\\n\\n\\n\\n\\n\\n\\n\\n\\n\\n\\n\\n\\n\\n\\n\\n\\n\\n\\n\\n\\n\\n\\n\\n\\n\\n\\n\\n\\n\\n\\n\\n\\n\\n\\n\\n\\n\\n\\n\\n\\n\\n\\n\\n\\n\\n\\n\\n\\n\\n\\n\\n\\n\\n\\n\\n\\n\\n\\n\\n\\n\\n\\n\\n\\n\\n\\n\\n\\n\\n\\n\\n\\n\\n\\n\\n\\n\\n\\n\\n\\n\\n\\n\\n\\n\\n\\n\\n\\n\\n\\n\\n\\n\\n\\n\\n\\n\\n\\n\\n\\n\\n\\n\\n\\n\\n\\n\\n\\n\\n\\n\\n\\n\\n\\n\\n\\n\\n\\n\\n\\n\\n\\n\\n\\n\\n\\n\\n\\n\\n\\n\\n\\n\\n\\n\\n\\n\\n\\n\\n\\n\\n\\n\\n\\n\\n\\n\\n\\n\\n\\n\\n\\n\\n\\n\\n\\n\\n\\n\\n\\n\\n\\n\\n\\n\\n\\n\\n\\n\\n\\n\\n\\n\\n\\n\\n\\n\\n\\n\\n\\n\\n\\n\\n\\n\\n\\n\\n\\n\\n\\n\\n\\n\\n\\n\\n\\n\\n\\n\\n\\n\\n\\n\\n\\n\\n\\n\\n\\n\\n\\n\\n\\n\\n\\n\\n\\n\\n\\n\\n\\n\\n\\n\\n\\n\\n\\n\\n\\n\\n\\n\\n\\n\\n\\n\\n\\n\\n\\n\\n\\n\\n\\n\\n\\n\\n\\n\\n\\n\\n\\n\\n\\n\\n\\n\\n\\n\\n\\n\\n\\n\\n\\n\\n\\n\\n\\n\\n\\n\\n\\n\\n\\n\\n\\n\\n\\n\\n\\n\\n\\n\\n\\n\\n\\n\\n\\n\\n\\n\\n\\n\\n\\n\\n\\n\\n\\n\\n\\n\\n\\n\\n\\n\\n\\n\\n\\n\\n\\n\\n\\n\\n\\n\\n\\n\\n\\n\\n\\n\\n\\n\\n\\n\\n\\n\\n\\n\\n\\n\\n\\n\\n\\n\\n\\n\\n\\n\\n\\n\\n\\n\\n\\n\\n\\n\\n\\n\\n\\n\\n\\n\\n\\n\\n\\n\\n\\n', 'qid': 'e2cbda5cebb1ae23b462d72550b724be_2'}\n",
      "can not parse ans for res:  {'response': '\\n\\n\\n\\n\\n\\n\\n\\n\\n\\n\\n\\n\\n\\n\\n\\n\\n\\n\\n\\n\\n\\n\\n\\n\\n\\n\\n\\n\\n\\n\\n\\n\\n\\n\\n\\n\\n\\n\\n\\n\\n\\n\\n\\n\\n\\n\\n\\n\\n\\n\\n\\n\\n\\n\\n\\n\\n\\n\\n\\n\\n\\n\\n\\n\\n\\n\\n\\n\\n\\n\\n\\n\\n\\n\\n\\n\\n\\n\\n\\n\\n\\n\\n\\n\\n\\n\\n\\n\\n\\n\\n\\n\\n\\n\\n\\n\\n\\n\\n\\n\\n\\n\\n\\n\\n\\n\\n\\n\\n\\n\\n\\n\\n\\n\\n\\n\\n\\n\\n\\n\\n\\n\\n\\n\\n\\n\\n\\n\\n\\n\\n\\n\\n\\n\\n\\n\\n\\n\\n\\n\\n\\n\\n\\n\\n\\n\\n\\n\\n\\n\\n\\n\\n\\n\\n\\n\\n\\n\\n\\n\\n\\n\\n\\n\\n\\n\\n\\n\\n\\n\\n\\n\\n\\n\\n\\n\\n\\n\\n\\n\\n\\n\\n\\n\\n\\n\\n\\n\\n\\n\\n\\n\\n\\n\\n\\n\\n\\n\\n\\n\\n\\n\\n\\n\\n\\n\\n\\n\\n\\n\\n\\n\\n\\n\\n\\n\\n\\n\\n\\n\\n\\n\\n\\n\\n\\n\\n\\n\\n\\n\\n\\n\\n\\n\\n\\n\\n\\n\\n\\n\\n\\n\\n\\n\\n\\n\\n\\n\\n\\n\\n\\n\\n\\n\\n\\n\\n\\n\\n\\n\\n\\n\\n\\n\\n\\n\\n\\n\\n\\n\\n\\n\\n\\n\\n\\n\\n\\n\\n\\n\\n\\n\\n\\n\\n\\n\\n\\n\\n\\n\\n\\n\\n\\n\\n\\n\\n\\n\\n\\n\\n\\n\\n\\n\\n\\n\\n\\n\\n\\n\\n\\n\\n\\n\\n\\n\\n\\n\\n\\n\\n\\n\\n\\n\\n\\n\\n\\n\\n\\n\\n\\n\\n\\n\\n\\n\\n\\n\\n\\n\\n\\n\\n\\n\\n\\n\\n\\n\\n\\n\\n\\n\\n\\n\\n\\n\\n\\n\\n\\n\\n\\n\\n\\n\\n\\n\\n\\n\\n\\n\\n\\n\\n\\n\\n\\n\\n\\n\\n\\n\\n\\n\\n\\n\\n\\n\\n\\n\\n\\n\\n\\n\\n\\n\\n\\n\\n\\n\\n\\n\\n\\n\\n\\n\\n\\n\\n\\n\\n\\n\\n\\n\\n\\n\\n\\n\\n\\n\\n\\n\\n\\n\\n\\n\\n\\n\\n\\n\\n\\n\\n\\n\\n\\n\\n\\n\\n\\n\\n\\n\\n\\n\\n\\n\\n\\n\\n\\n\\n\\n\\n\\n\\n\\n\\n\\n\\n\\n\\n\\n\\n\\n\\n\\n\\n\\n\\n\\n\\n\\n\\n\\n\\n\\n\\n\\n\\n\\n\\n\\n\\n\\n\\n\\n\\n\\n\\n\\n\\n\\n\\n\\n\\n\\n\\n\\n\\n\\n\\n\\n', 'qid': 'e2cbda5cebb1ae23b462d72550b724be_0'}\n",
      "can not parse ans for res:  {'response': '\\n\\n\\n\\n\\n\\n\\n\\n\\n\\n\\n\\n\\n\\n\\n\\n\\n\\n\\n\\n\\n\\n\\n\\n\\n\\n\\n\\n\\n\\n\\n\\n\\n\\n\\n\\n\\n\\n\\n\\n\\n\\n\\n\\n\\n\\n\\n\\n\\n\\n\\n\\n\\n\\n\\n\\n\\n\\n\\n\\n\\n\\n\\n\\n\\n\\n\\n\\n\\n\\n\\n\\n\\n\\n\\n\\n\\n\\n\\n\\n\\n\\n\\n\\n\\n\\n\\n\\n\\n\\n\\n\\n\\n\\n\\n\\n\\n\\n\\n\\n\\n\\n\\n\\n\\n\\n\\n\\n\\n\\n\\n\\n\\n\\n\\n\\n\\n\\n\\n\\n\\n\\n\\n\\n\\n\\n\\n\\n\\n\\n\\n\\n\\n\\n\\n\\n\\n\\n\\n\\n\\n\\n\\n\\n\\n\\n\\n\\n\\n\\n\\n\\n\\n\\n\\n\\n\\n\\n\\n\\n\\n\\n\\n\\n\\n\\n\\n\\n\\n\\n\\n\\n\\n\\n\\n\\n\\n\\n\\n\\n\\n\\n\\n\\n\\n\\n\\n\\n\\n\\n\\n\\n\\n\\n\\n\\n\\n\\n\\n\\n\\n\\n\\n\\n\\n\\n\\n\\n\\n\\n\\n\\n\\n\\n\\n\\n\\n\\n\\n\\n\\n\\n\\n\\n\\n\\n\\n\\n\\n\\n\\n\\n\\n\\n\\n\\n\\n\\n\\n\\n\\n\\n\\n\\n\\n\\n\\n\\n\\n\\n\\n\\n\\n\\n\\n\\n\\n\\n\\n\\n\\n\\n\\n\\n\\n\\n\\n\\n\\n\\n\\n\\n\\n\\n\\n\\n\\n\\n\\n\\n\\n\\n\\n\\n\\n\\n\\n\\n\\n\\n\\n\\n\\n\\n\\n\\n\\n\\n\\n\\n\\n\\n\\n\\n\\n\\n\\n\\n\\n\\n\\n\\n\\n\\n\\n\\n\\n\\n\\n\\n\\n\\n\\n\\n\\n\\n\\n\\n\\n\\n\\n\\n\\n\\n\\n\\n\\n\\n\\n\\n\\n\\n\\n\\n\\n\\n\\n\\n\\n\\n\\n\\n\\n\\n\\n\\n\\n\\n\\n\\n\\n\\n\\n\\n\\n\\n\\n\\n\\n\\n\\n\\n\\n\\n\\n\\n\\n\\n\\n\\n\\n\\n\\n\\n\\n\\n\\n\\n\\n\\n\\n\\n\\n\\n\\n\\n\\n\\n\\n\\n\\n\\n\\n\\n\\n\\n\\n\\n\\n\\n\\n\\n\\n\\n\\n\\n\\n\\n\\n\\n\\n\\n\\n\\n\\n\\n\\n\\n\\n\\n\\n\\n\\n\\n\\n\\n\\n\\n\\n\\n\\n\\n\\n\\n\\n\\n\\n\\n\\n\\n\\n\\n\\n\\n\\n\\n\\n\\n\\n\\n\\n\\n\\n\\n\\n\\n\\n\\n\\n\\n\\n\\n\\n\\n\\n\\n\\n\\n\\n\\n\\n\\n\\n\\n\\n\\n\\n\\n\\n\\n\\n\\n\\n\\n\\n\\n\\n\\n\\n\\n', 'qid': 'e2cbda5cebb1ae23b462d72550b724be_2'}\n",
      "can not parse ans for res:  {'response': '\\n\\n\\n\\n\\n\\n\\n\\n\\n\\n\\n\\n\\n\\n\\n\\n\\n\\n\\n\\n\\n\\n\\n\\n\\n\\n\\n\\n\\n\\n\\n\\n\\n\\n\\n\\n\\n\\n\\n\\n\\n\\n\\n\\n\\n\\n\\n\\n\\n\\n\\n\\n\\n\\n\\n\\n\\n\\n\\n\\n\\n\\n\\n\\n\\n\\n\\n\\n\\n\\n\\n\\n\\n\\n\\n\\n\\n\\n\\n\\n\\n\\n\\n\\n\\n\\n\\n\\n\\n\\n\\n\\n\\n\\n\\n\\n\\n\\n\\n\\n\\n\\n\\n\\n\\n\\n\\n\\n\\n\\n\\n\\n\\n\\n\\n\\n\\n\\n\\n\\n\\n\\n\\n\\n\\n\\n\\n\\n\\n\\n\\n\\n\\n\\n\\n\\n\\n\\n\\n\\n\\n\\n\\n\\n\\n\\n\\n\\n\\n\\n\\n\\n\\n\\n\\n\\n\\n\\n\\n\\n\\n\\n\\n\\n\\n\\n\\n\\n\\n\\n\\n\\n\\n\\n\\n\\n\\n\\n\\n\\n\\n\\n\\n\\n\\n\\n\\n\\n\\n\\n\\n\\n\\n\\n\\n\\n\\n\\n\\n\\n\\n\\n\\n\\n\\n\\n\\n\\n\\n\\n\\n\\n\\n\\n\\n\\n\\n\\n\\n\\n\\n\\n\\n\\n\\n\\n\\n\\n\\n\\n\\n\\n\\n\\n\\n\\n\\n\\n\\n\\n\\n\\n\\n\\n\\n\\n\\n\\n\\n\\n\\n\\n\\n\\n\\n\\n\\n\\n\\n\\n\\n\\n\\n\\n\\n\\n\\n\\n\\n\\n\\n\\n\\n\\n\\n\\n\\n\\n\\n\\n\\n\\n\\n\\n\\n\\n\\n\\n\\n\\n\\n\\n\\n\\n\\n\\n\\n\\n\\n\\n\\n\\n\\n\\n\\n\\n\\n\\n\\n\\n\\n\\n\\n\\n\\n\\n\\n\\n\\n\\n\\n\\n\\n\\n\\n\\n\\n\\n\\n\\n\\n\\n\\n\\n\\n\\n\\n\\n\\n\\n\\n\\n\\n\\n\\n\\n\\n\\n\\n\\n\\n\\n\\n\\n\\n\\n\\n\\n\\n\\n\\n\\n\\n\\n\\n\\n\\n\\n\\n\\n\\n\\n\\n\\n\\n\\n\\n\\n\\n\\n\\n\\n\\n\\n\\n\\n\\n\\n\\n\\n\\n\\n\\n\\n\\n\\n\\n\\n\\n\\n\\n\\n\\n\\n\\n\\n\\n\\n\\n\\n\\n\\n\\n\\n\\n\\n\\n\\n\\n\\n\\n\\n\\n\\n\\n\\n\\n\\n\\n\\n\\n\\n\\n\\n\\n\\n\\n\\n\\n\\n\\n\\n\\n\\n\\n\\n\\n\\n\\n\\n\\n\\n\\n\\n\\n\\n\\n\\n\\n\\n\\n\\n\\n\\n\\n\\n\\n\\n\\n\\n\\n\\n\\n\\n\\n\\n\\n\\n\\n\\n\\n\\n\\n\\n\\n\\n\\n\\n\\n\\n\\n\\n\\n\\n\\n\\n\\n\\n\\n\\n', 'qid': 'e2cbda5cebb1ae23b462d72550b724be_0'}\n",
      "can not parse ans for res:  {'response': '\\n\\n\\n\\n\\n\\n\\n\\n\\n\\n\\n\\n\\n\\n\\n\\n\\n\\n\\n\\n\\n\\n\\n\\n\\n\\n\\n\\n\\n\\n\\n\\n\\n\\n\\n\\n\\n\\n\\n\\n\\n\\n\\n\\n\\n\\n\\n\\n\\n\\n\\n\\n\\n\\n\\n\\n\\n\\n\\n\\n\\n\\n\\n\\n\\n\\n\\n\\n\\n\\n\\n\\n\\n\\n\\n\\n\\n\\n\\n\\n\\n\\n\\n\\n\\n\\n\\n\\n\\n\\n\\n\\n\\n\\n\\n\\n\\n\\n\\n\\n\\n\\n\\n\\n\\n\\n\\n\\n\\n\\n\\n\\n\\n\\n\\n\\n\\n\\n\\n\\n\\n\\n\\n\\n\\n\\n\\n\\n\\n\\n\\n\\n\\n\\n\\n\\n\\n\\n\\n\\n\\n\\n\\n\\n\\n\\n\\n\\n\\n\\n\\n\\n\\n\\n\\n\\n\\n\\n\\n\\n\\n\\n\\n\\n\\n\\n\\n\\n\\n\\n\\n\\n\\n\\n\\n\\n\\n\\n\\n\\n\\n\\n\\n\\n\\n\\n\\n\\n\\n\\n\\n\\n\\n\\n\\n\\n\\n\\n\\n\\n\\n\\n\\n\\n\\n\\n\\n\\n\\n\\n\\n\\n\\n\\n\\n\\n\\n\\n\\n\\n\\n\\n\\n\\n\\n\\n\\n\\n\\n\\n\\n\\n\\n\\n\\n\\n\\n\\n\\n\\n\\n\\n\\n\\n\\n\\n\\n\\n\\n\\n\\n\\n\\n\\n\\n\\n\\n\\n\\n\\n\\n\\n\\n\\n\\n\\n\\n\\n\\n\\n\\n\\n\\n\\n\\n\\n\\n\\n\\n\\n\\n\\n\\n\\n\\n\\n\\n\\n\\n\\n\\n\\n\\n\\n\\n\\n\\n\\n\\n\\n\\n\\n\\n\\n\\n\\n\\n\\n\\n\\n\\n\\n\\n\\n\\n\\n\\n\\n\\n\\n\\n\\n\\n\\n\\n\\n\\n\\n\\n\\n\\n\\n\\n\\n\\n\\n\\n\\n\\n\\n\\n\\n\\n\\n\\n\\n\\n\\n\\n\\n\\n\\n\\n\\n\\n\\n\\n\\n\\n\\n\\n\\n\\n\\n\\n\\n\\n\\n\\n\\n\\n\\n\\n\\n\\n\\n\\n\\n\\n\\n\\n\\n\\n\\n\\n\\n\\n\\n\\n\\n\\n\\n\\n\\n\\n\\n\\n\\n\\n\\n\\n\\n\\n\\n\\n\\n\\n\\n\\n\\n\\n\\n\\n\\n\\n\\n\\n\\n\\n\\n\\n\\n\\n\\n\\n\\n\\n\\n\\n\\n\\n\\n\\n\\n\\n\\n\\n\\n\\n\\n\\n\\n\\n\\n\\n\\n\\n\\n\\n\\n\\n\\n\\n\\n\\n\\n\\n\\n\\n\\n\\n\\n\\n\\n\\n\\n\\n\\n\\n\\n\\n\\n\\n\\n\\n\\n\\n\\n\\n\\n\\n\\n\\n\\n\\n\\n\\n\\n\\n\\n\\n\\n\\n\\n\\n\\n\\n\\n\\n\\n', 'qid': 'e2cbda5cebb1ae23b462d72550b724be_2'}\n",
      "can not parse ans for res:  {'response': '\\n\\nThe image shows a variety of dumplings and other food items arranged on a table. There are multiple bowls containing different types of dumplings, some with garnishes on top, and others with sauces. There are also some other dishes like a soup and a plate with what appears to be a type of meat. The table has a patterned cloth and there are chopsticks placed on the table. The dumplings are the main focus of the image, and they are presented in a way that suggests they are ready to be eaten. The question seems to be asking which dish has ginger on it, but based on the visible contents of the image, there is no clear evidence of ginger being used as a garnish or ingredient on any of the dishes. Therefore, without a clear view of the dishes or additional context, it is not possible to accurately determine which dish has ginger on it.', 'qid': 'b27383760f2fc936edec58383c7a83c5_2'}\n",
      "can not parse ans for res:  {'response': '\\n\\n\\n\\n\\n\\n\\n\\n\\n\\n\\n\\n\\n\\n\\n\\n\\n\\n\\n\\n\\n\\n\\n\\n\\n\\n\\n\\n\\n\\n\\n\\n\\n\\n\\n\\n\\n\\n\\n\\n\\n\\n\\n\\n\\n\\n\\n\\n\\n\\n\\n\\n\\n\\n\\n\\n\\n\\n\\n\\n\\n\\n\\n\\n\\n\\n\\n\\n\\n\\n\\n\\n\\n\\n\\n\\n\\n\\n\\n\\n\\n\\n\\n\\n\\n\\n\\n\\n\\n\\n\\n\\n\\n\\n\\n\\n\\n\\n\\n\\n\\n\\n\\n\\n\\n\\n\\n\\n\\n\\n\\n\\n\\n\\n\\n\\n\\n\\n\\n\\n\\n\\n\\n\\n\\n\\n\\n\\n\\n\\n\\n\\n\\n\\n\\n\\n\\n\\n\\n\\n\\n\\n\\n\\n\\n\\n\\n\\n\\n\\n\\n\\n\\n\\n\\n\\n\\n\\n\\n\\n\\n\\n\\n\\n\\n\\n\\n\\n\\n\\n\\n\\n\\n\\n\\n\\n\\n\\n\\n\\n\\n\\n\\n\\n\\n\\n\\n\\n\\n\\n\\n\\n\\n\\n\\n\\n\\n\\n\\n\\n\\n\\n\\n\\n\\n\\n\\n\\n\\n\\n\\n\\n\\n\\n\\n\\n\\n\\n\\n\\n\\n\\n\\n\\n\\n\\n\\n\\n\\n\\n\\n\\n\\n\\n\\n\\n\\n\\n\\n\\n\\n\\n\\n\\n\\n\\n\\n\\n\\n\\n\\n\\n\\n\\n\\n\\n\\n\\n\\n\\n\\n\\n\\n\\n\\n\\n\\n\\n\\n\\n\\n\\n\\n\\n\\n\\n\\n\\n\\n\\n\\n\\n\\n\\n\\n\\n\\n\\n\\n\\n\\n\\n\\n\\n\\n\\n\\n\\n\\n\\n\\n\\n\\n\\n\\n\\n\\n\\n\\n\\n\\n\\n\\n\\n\\n\\n\\n\\n\\n\\n\\n\\n\\n\\n\\n\\n\\n\\n\\n\\n\\n\\n\\n\\n\\n\\n\\n\\n\\n\\n\\n\\n\\n\\n\\n\\n\\n\\n\\n\\n\\n\\n\\n\\n\\n\\n\\n\\n\\n\\n\\n\\n\\n\\n\\n\\n\\n\\n\\n\\n\\n\\n\\n\\n\\n\\n\\n\\n\\n\\n\\n\\n\\n\\n\\n\\n\\n\\n\\n\\n\\n\\n\\n\\n\\n\\n\\n\\n\\n\\n\\n\\n\\n\\n\\n\\n\\n\\n\\n\\n\\n\\n\\n\\n\\n\\n\\n\\n\\n\\n\\n\\n\\n\\n\\n\\n\\n\\n\\n\\n\\n\\n\\n\\n\\n\\n\\n\\n\\n\\n\\n\\n\\n\\n\\n\\n\\n\\n\\n\\n\\n\\n\\n\\n\\n\\n\\n\\n\\n\\n\\n\\n\\n\\n\\n\\n\\n\\n\\n\\n\\n\\n\\n\\n\\n\\n\\n\\n\\n\\n\\n\\n\\n\\n\\n\\n\\n\\n\\n\\n\\n\\n\\n\\n\\n\\n\\n\\n\\n\\n', 'qid': 'b27383760f2fc936edec58383c7a83c5_0'}\n",
      "can not parse ans for res:  {'response': '\\n\\n\\n\\n\\n\\n\\n\\n\\n\\n\\n\\n\\n\\n\\n\\n\\n\\n\\n\\n\\n\\n\\n\\n\\n\\n\\n\\n\\n\\n\\n\\n\\n\\n\\n\\n\\n\\n\\n\\n\\n\\n\\n\\n\\n\\n\\n\\n\\n\\n\\n\\n\\n\\n\\n\\n\\n\\n\\n\\n\\n\\n\\n\\n\\n\\n\\n\\n\\n\\n\\n\\n\\n\\n\\n\\n\\n\\n\\n\\n\\n\\n\\n\\n\\n\\n\\n\\n\\n\\n\\n\\n\\n\\n\\n\\n\\n\\n\\n\\n\\n\\n\\n\\n\\n\\n\\n\\n\\n\\n\\n\\n\\n\\n\\n\\n\\n\\n\\n\\n\\n\\n\\n\\n\\n\\n\\n\\n\\n\\n\\n\\n\\n\\n\\n\\n\\n\\n\\n\\n\\n\\n\\n\\n\\n\\n\\n\\n\\n\\n\\n\\n\\n\\n\\n\\n\\n\\n\\n\\n\\n\\n\\n\\n\\n\\n\\n\\n\\n\\n\\n\\n\\n\\n\\n\\n\\n\\n\\n\\n\\n\\n\\n\\n\\n\\n\\n\\n\\n\\n\\n\\n\\n\\n\\n\\n\\n\\n\\n\\n\\n\\n\\n\\n\\n\\n\\n\\n\\n\\n\\n\\n\\n\\n\\n\\n\\n\\n\\n\\n\\n\\n\\n\\n\\n\\n\\n\\n\\n\\n\\n\\n\\n\\n\\n\\n\\n\\n\\n\\n\\n\\n\\n\\n\\n\\n\\n\\n\\n\\n\\n\\n\\n\\n\\n\\n\\n\\n\\n\\n\\n\\n\\n\\n\\n\\n\\n\\n\\n\\n\\n\\n\\n\\n\\n\\n\\n\\n\\n\\n\\n\\n\\n\\n\\n\\n\\n\\n\\n\\n\\n\\n\\n\\n\\n\\n\\n\\n\\n\\n\\n\\n\\n\\n\\n\\n\\n\\n\\n\\n\\n\\n\\n\\n\\n\\n\\n\\n\\n\\n\\n\\n\\n\\n\\n\\n\\n\\n\\n\\n\\n\\n\\n\\n\\n\\n\\n\\n\\n\\n\\n\\n\\n\\n\\n\\n\\n\\n\\n\\n\\n\\n\\n\\n\\n\\n\\n\\n\\n\\n\\n\\n\\n\\n\\n\\n\\n\\n\\n\\n\\n\\n\\n\\n\\n\\n\\n\\n\\n\\n\\n\\n\\n\\n\\n\\n\\n\\n\\n\\n\\n\\n\\n\\n\\n\\n\\n\\n\\n\\n\\n\\n\\n\\n\\n\\n\\n\\n\\n\\n\\n\\n\\n\\n\\n\\n\\n\\n\\n\\n\\n\\n\\n\\n\\n\\n\\n\\n\\n\\n\\n\\n\\n\\n\\n\\n\\n\\n\\n\\n\\n\\n\\n\\n\\n\\n\\n\\n\\n\\n\\n\\n\\n\\n\\n\\n\\n\\n\\n\\n\\n\\n\\n\\n\\n\\n\\n\\n\\n\\n\\n\\n\\n\\n\\n\\n\\n\\n\\n\\n\\n\\n\\n\\n\\n\\n\\n\\n\\n\\n\\n\\n\\n\\n\\n\\n\\n\\n\\n\\n', 'qid': '996b29878111d61fd36c639e66405ad7_2'}\n",
      "can not parse ans for res:  {'response': '\\n\\n\\n\\n\\n\\n\\n\\n\\n\\n\\n\\n\\n\\n\\n\\n\\n\\n\\n\\n\\n\\n\\n\\n\\n\\n\\n\\n\\n\\n\\n\\n\\n\\n\\n\\n\\n\\n\\n\\n\\n\\n\\n\\n\\n\\n\\n\\n\\n\\n\\n\\n\\n\\n\\n\\n\\n\\n\\n\\n\\n\\n\\n\\n\\n\\n\\n\\n\\n\\n\\n\\n\\n\\n\\n\\n\\n\\n\\n\\n\\n\\n\\n\\n\\n\\n\\n\\n\\n\\n\\n\\n\\n\\n\\n\\n\\n\\n\\n\\n\\n\\n\\n\\n\\n\\n\\n\\n\\n\\n\\n\\n\\n\\n\\n\\n\\n\\n\\n\\n\\n\\n\\n\\n\\n\\n\\n\\n\\n\\n\\n\\n\\n\\n\\n\\n\\n\\n\\n\\n\\n\\n\\n\\n\\n\\n\\n\\n\\n\\n\\n\\n\\n\\n\\n\\n\\n\\n\\n\\n\\n\\n\\n\\n\\n\\n\\n\\n\\n\\n\\n\\n\\n\\n\\n\\n\\n\\n\\n\\n\\n\\n\\n\\n\\n\\n\\n\\n\\n\\n\\n\\n\\n\\n\\n\\n\\n\\n\\n\\n\\n\\n\\n\\n\\n\\n\\n\\n\\n\\n\\n\\n\\n\\n\\n\\n\\n\\n\\n\\n\\n\\n\\n\\n\\n\\n\\n\\n\\n\\n\\n\\n\\n\\n\\n\\n\\n\\n\\n\\n\\n\\n\\n\\n\\n\\n\\n\\n\\n\\n\\n\\n\\n\\n\\n\\n\\n\\n\\n\\n\\n\\n\\n\\n\\n\\n\\n\\n\\n\\n\\n\\n\\n\\n\\n\\n\\n\\n\\n\\n\\n\\n\\n\\n\\n\\n\\n\\n\\n\\n\\n\\n\\n\\n\\n\\n\\n\\n\\n\\n\\n\\n\\n\\n\\n\\n\\n\\n\\n\\n\\n\\n\\n\\n\\n\\n\\n\\n\\n\\n\\n\\n\\n\\n\\n\\n\\n\\n\\n\\n\\n\\n\\n\\n\\n\\n\\n\\n\\n\\n\\n\\n\\n\\n\\n\\n\\n\\n\\n\\n\\n\\n\\n\\n\\n\\n\\n\\n\\n\\n\\n\\n\\n\\n\\n\\n\\n\\n\\n\\n\\n\\n\\n\\n\\n\\n\\n\\n\\n\\n\\n\\n\\n\\n\\n\\n\\n\\n\\n\\n\\n\\n\\n\\n\\n\\n\\n\\n\\n\\n\\n\\n\\n\\n\\n\\n\\n\\n\\n\\n\\n\\n\\n\\n\\n\\n\\n\\n\\n\\n\\n\\n\\n\\n\\n\\n\\n\\n\\n\\n\\n\\n\\n\\n\\n\\n\\n\\n\\n\\n\\n\\n\\n\\n\\n\\n\\n\\n\\n\\n\\n\\n\\n\\n\\n\\n\\n\\n\\n\\n\\n\\n\\n\\n\\n\\n\\n\\n\\n\\n\\n\\n\\n\\n\\n\\n\\n\\n\\n\\n\\n\\n\\n\\n\\n\\n\\n\\n\\n\\n\\n\\n\\n\\n\\n\\n\\n\\n\\n\\n', 'qid': '996b29878111d61fd36c639e66405ad7_0'}\n",
      "can not parse ans for res:  {'response': '\\n\\n\\n\\n\\n\\n\\n\\n\\n\\n\\n\\n\\n\\n\\n\\n\\n\\n\\n\\n\\n\\n\\n\\n\\n\\n\\n\\n\\n\\n\\n\\n\\n\\n\\n\\n\\n\\n\\n\\n\\n\\n\\n\\n\\n\\n\\n\\n\\n\\n\\n\\n\\n\\n\\n\\n\\n\\n\\n\\n\\n\\n\\n\\n\\n\\n\\n\\n\\n\\n\\n\\n\\n\\n\\n\\n\\n\\n\\n\\n\\n\\n\\n\\n\\n\\n\\n\\n\\n\\n\\n\\n\\n\\n\\n\\n\\n\\n\\n\\n\\n\\n\\n\\n\\n\\n\\n\\n\\n\\n\\n\\n\\n\\n\\n\\n\\n\\n\\n\\n\\n\\n\\n\\n\\n\\n\\n\\n\\n\\n\\n\\n\\n\\n\\n\\n\\n\\n\\n\\n\\n\\n\\n\\n\\n\\n\\n\\n\\n\\n\\n\\n\\n\\n\\n\\n\\n\\n\\n\\n\\n\\n\\n\\n\\n\\n\\n\\n\\n\\n\\n\\n\\n\\n\\n\\n\\n\\n\\n\\n\\n\\n\\n\\n\\n\\n\\n\\n\\n\\n\\n\\n\\n\\n\\n\\n\\n\\n\\n\\n\\n\\n\\n\\n\\n\\n\\n\\n\\n\\n\\n\\n\\n\\n\\n\\n\\n\\n\\n\\n\\n\\n\\n\\n\\n\\n\\n\\n\\n\\n\\n\\n\\n\\n\\n\\n\\n\\n\\n\\n\\n\\n\\n\\n\\n\\n\\n\\n\\n\\n\\n\\n\\n\\n\\n\\n\\n\\n\\n\\n\\n\\n\\n\\n\\n\\n\\n\\n\\n\\n\\n\\n\\n\\n\\n\\n\\n\\n\\n\\n\\n\\n\\n\\n\\n\\n\\n\\n\\n\\n\\n\\n\\n\\n\\n\\n\\n\\n\\n\\n\\n\\n\\n\\n\\n\\n\\n\\n\\n\\n\\n\\n\\n\\n\\n\\n\\n\\n\\n\\n\\n\\n\\n\\n\\n\\n\\n\\n\\n\\n\\n\\n\\n\\n\\n\\n\\n\\n\\n\\n\\n\\n\\n\\n\\n\\n\\n\\n\\n\\n\\n\\n\\n\\n\\n\\n\\n\\n\\n\\n\\n\\n\\n\\n\\n\\n\\n\\n\\n\\n\\n\\n\\n\\n\\n\\n\\n\\n\\n\\n\\n\\n\\n\\n\\n\\n\\n\\n\\n\\n\\n\\n\\n\\n\\n\\n\\n\\n\\n\\n\\n\\n\\n\\n\\n\\n\\n\\n\\n\\n\\n\\n\\n\\n\\n\\n\\n\\n\\n\\n\\n\\n\\n\\n\\n\\n\\n\\n\\n\\n\\n\\n\\n\\n\\n\\n\\n\\n\\n\\n\\n\\n\\n\\n\\n\\n\\n\\n\\n\\n\\n\\n\\n\\n\\n\\n\\n\\n\\n\\n\\n\\n\\n\\n\\n\\n\\n\\n\\n\\n\\n\\n\\n\\n\\n\\n\\n\\n\\n\\n\\n\\n\\n\\n\\n\\n\\n\\n\\n\\n\\n\\n\\n\\n\\n\\n\\n\\n\\n\\n', 'qid': '44cc119b4871c1a0657e1db277cbccc2_0'}\n",
      "can not parse ans for res:  {'response': '\\n\\n\\n\\n\\n\\n\\n\\n\\n\\n\\n\\n\\n\\n\\n\\n\\n\\n\\n\\n\\n\\n\\n\\n\\n\\n\\n\\n\\n\\n\\n\\n\\n\\n\\n\\n\\n\\n\\n\\n\\n\\n\\n\\n\\n\\n\\n\\n\\n\\n\\n\\n\\n\\n\\n\\n\\n\\n\\n\\n\\n\\n\\n\\n\\n\\n\\n\\n\\n\\n\\n\\n\\n\\n\\n\\n\\n\\n\\n\\n\\n\\n\\n\\n\\n\\n\\n\\n\\n\\n\\n\\n\\n\\n\\n\\n\\n\\n\\n\\n\\n\\n\\n\\n\\n\\n\\n\\n\\n\\n\\n\\n\\n\\n\\n\\n\\n\\n\\n\\n\\n\\n\\n\\n\\n\\n\\n\\n\\n\\n\\n\\n\\n\\n\\n\\n\\n\\n\\n\\n\\n\\n\\n\\n\\n\\n\\n\\n\\n\\n\\n\\n\\n\\n\\n\\n\\n\\n\\n\\n\\n\\n\\n\\n\\n\\n\\n\\n\\n\\n\\n\\n\\n\\n\\n\\n\\n\\n\\n\\n\\n\\n\\n\\n\\n\\n\\n\\n\\n\\n\\n\\n\\n\\n\\n\\n\\n\\n\\n\\n\\n\\n\\n\\n\\n\\n\\n\\n\\n\\n\\n\\n\\n\\n\\n\\n\\n\\n\\n\\n\\n\\n\\n\\n\\n\\n\\n\\n\\n\\n\\n\\n\\n\\n\\n\\n\\n\\n\\n\\n\\n\\n\\n\\n\\n\\n\\n\\n\\n\\n\\n\\n\\n\\n\\n\\n\\n\\n\\n\\n\\n\\n\\n\\n\\n\\n\\n\\n\\n\\n\\n\\n\\n\\n\\n\\n\\n\\n\\n\\n\\n\\n\\n\\n\\n\\n\\n\\n\\n\\n\\n\\n\\n\\n\\n\\n\\n\\n\\n\\n\\n\\n\\n\\n\\n\\n\\n\\n\\n\\n\\n\\n\\n\\n\\n\\n\\n\\n\\n\\n\\n\\n\\n\\n\\n\\n\\n\\n\\n\\n\\n\\n\\n\\n\\n\\n\\n\\n\\n\\n\\n\\n\\n\\n\\n\\n\\n\\n\\n\\n\\n\\n\\n\\n\\n\\n\\n\\n\\n\\n\\n\\n\\n\\n\\n\\n\\n\\n\\n\\n\\n\\n\\n\\n\\n\\n\\n\\n\\n\\n\\n\\n\\n\\n\\n\\n\\n\\n\\n\\n\\n\\n\\n\\n\\n\\n\\n\\n\\n\\n\\n\\n\\n\\n\\n\\n\\n\\n\\n\\n\\n\\n\\n\\n\\n\\n\\n\\n\\n\\n\\n\\n\\n\\n\\n\\n\\n\\n\\n\\n\\n\\n\\n\\n\\n\\n\\n\\n\\n\\n\\n\\n\\n\\n\\n\\n\\n\\n\\n\\n\\n\\n\\n\\n\\n\\n\\n\\n\\n\\n\\n\\n\\n\\n\\n\\n\\n\\n\\n\\n\\n\\n\\n\\n\\n\\n\\n\\n\\n\\n\\n\\n\\n\\n\\n\\n\\n\\n\\n\\n\\n\\n\\n\\n\\n\\n\\n\\n\\n\\n', 'qid': '44cc119b4871c1a0657e1db277cbccc2_1'}\n",
      "can not parse ans for res:  {'response': '\\n\\n\\n\\n\\n\\n\\n\\n\\n\\n\\n\\n\\n\\n\\n\\n\\n\\n\\n\\n\\n\\n\\n\\n\\n\\n\\n\\n\\n\\n\\n\\n\\n\\n\\n\\n\\n\\n\\n\\n\\n\\n\\n\\n\\n\\n\\n\\n\\n\\n\\n\\n\\n\\n\\n\\n\\n\\n\\n\\n\\n\\n\\n\\n\\n\\n\\n\\n\\n\\n\\n\\n\\n\\n\\n\\n\\n\\n\\n\\n\\n\\n\\n\\n\\n\\n\\n\\n\\n\\n\\n\\n\\n\\n\\n\\n\\n\\n\\n\\n\\n\\n\\n\\n\\n\\n\\n\\n\\n\\n\\n\\n\\n\\n\\n\\n\\n\\n\\n\\n\\n\\n\\n\\n\\n\\n\\n\\n\\n\\n\\n\\n\\n\\n\\n\\n\\n\\n\\n\\n\\n\\n\\n\\n\\n\\n\\n\\n\\n\\n\\n\\n\\n\\n\\n\\n\\n\\n\\n\\n\\n\\n\\n\\n\\n\\n\\n\\n\\n\\n\\n\\n\\n\\n\\n\\n\\n\\n\\n\\n\\n\\n\\n\\n\\n\\n\\n\\n\\n\\n\\n\\n\\n\\n\\n\\n\\n\\n\\n\\n\\n\\n\\n\\n\\n\\n\\n\\n\\n\\n\\n\\n\\n\\n\\n\\n\\n\\n\\n\\n\\n\\n\\n\\n\\n\\n\\n\\n\\n\\n\\n\\n\\n\\n\\n\\n\\n\\n\\n\\n\\n\\n\\n\\n\\n\\n\\n\\n\\n\\n\\n\\n\\n\\n\\n\\n\\n\\n\\n\\n\\n\\n\\n\\n\\n\\n\\n\\n\\n\\n\\n\\n\\n\\n\\n\\n\\n\\n\\n\\n\\n\\n\\n\\n\\n\\n\\n\\n\\n\\n\\n\\n\\n\\n\\n\\n\\n\\n\\n\\n\\n\\n\\n\\n\\n\\n\\n\\n\\n\\n\\n\\n\\n\\n\\n\\n\\n\\n\\n\\n\\n\\n\\n\\n\\n\\n\\n\\n\\n\\n\\n\\n\\n\\n\\n\\n\\n\\n\\n\\n\\n\\n\\n\\n\\n\\n\\n\\n\\n\\n\\n\\n\\n\\n\\n\\n\\n\\n\\n\\n\\n\\n\\n\\n\\n\\n\\n\\n\\n\\n\\n\\n\\n\\n\\n\\n\\n\\n\\n\\n\\n\\n\\n\\n\\n\\n\\n\\n\\n\\n\\n\\n\\n\\n\\n\\n\\n\\n\\n\\n\\n\\n\\n\\n\\n\\n\\n\\n\\n\\n\\n\\n\\n\\n\\n\\n\\n\\n\\n\\n\\n\\n\\n\\n\\n\\n\\n\\n\\n\\n\\n\\n\\n\\n\\n\\n\\n\\n\\n\\n\\n\\n\\n\\n\\n\\n\\n\\n\\n\\n\\n\\n\\n\\n\\n\\n\\n\\n\\n\\n\\n\\n\\n\\n\\n\\n\\n\\n\\n\\n\\n\\n\\n\\n\\n\\n\\n\\n\\n\\n\\n\\n\\n\\n\\n\\n\\n\\n\\n\\n\\n\\n\\n\\n\\n\\n\\n\\n\\n\\n', 'qid': '44cc119b4871c1a0657e1db277cbccc2_1'}\n",
      "can not parse ans for res:  {'response': '\\n\\n\\n\\n\\n\\n\\n\\n\\n\\n\\n\\n\\n\\n\\n\\n\\n\\n\\n\\n\\n\\n\\n\\n\\n\\n\\n\\n\\n\\n\\n\\n\\n\\n\\n\\n\\n\\n\\n\\n\\n\\n\\n\\n\\n\\n\\n\\n\\n\\n\\n\\n\\n\\n\\n\\n\\n\\n\\n\\n\\n\\n\\n\\n\\n\\n\\n\\n\\n\\n\\n\\n\\n\\n\\n\\n\\n\\n\\n\\n\\n\\n\\n\\n\\n\\n\\n\\n\\n\\n\\n\\n\\n\\n\\n\\n\\n\\n\\n\\n\\n\\n\\n\\n\\n\\n\\n\\n\\n\\n\\n\\n\\n\\n\\n\\n\\n\\n\\n\\n\\n\\n\\n\\n\\n\\n\\n\\n\\n\\n\\n\\n\\n\\n\\n\\n\\n\\n\\n\\n\\n\\n\\n\\n\\n\\n\\n\\n\\n\\n\\n\\n\\n\\n\\n\\n\\n\\n\\n\\n\\n\\n\\n\\n\\n\\n\\n\\n\\n\\n\\n\\n\\n\\n\\n\\n\\n\\n\\n\\n\\n\\n\\n\\n\\n\\n\\n\\n\\n\\n\\n\\n\\n\\n\\n\\n\\n\\n\\n\\n\\n\\n\\n\\n\\n\\n\\n\\n\\n\\n\\n\\n\\n\\n\\n\\n\\n\\n\\n\\n\\n\\n\\n\\n\\n\\n\\n\\n\\n\\n\\n\\n\\n\\n\\n\\n\\n\\n\\n\\n\\n\\n\\n\\n\\n\\n\\n\\n\\n\\n\\n\\n\\n\\n\\n\\n\\n\\n\\n\\n\\n\\n\\n\\n\\n\\n\\n\\n\\n\\n\\n\\n\\n\\n\\n\\n\\n\\n\\n\\n\\n\\n\\n\\n\\n\\n\\n\\n\\n\\n\\n\\n\\n\\n\\n\\n\\n\\n\\n\\n\\n\\n\\n\\n\\n\\n\\n\\n\\n\\n\\n\\n\\n\\n\\n\\n\\n\\n\\n\\n\\n\\n\\n\\n\\n\\n\\n\\n\\n\\n\\n\\n\\n\\n\\n\\n\\n\\n\\n\\n\\n\\n\\n\\n\\n\\n\\n\\n\\n\\n\\n\\n\\n\\n\\n\\n\\n\\n\\n\\n\\n\\n\\n\\n\\n\\n\\n\\n\\n\\n\\n\\n\\n\\n\\n\\n\\n\\n\\n\\n\\n\\n\\n\\n\\n\\n\\n\\n\\n\\n\\n\\n\\n\\n\\n\\n\\n\\n\\n\\n\\n\\n\\n\\n\\n\\n\\n\\n\\n\\n\\n\\n\\n\\n\\n\\n\\n\\n\\n\\n\\n\\n\\n\\n\\n\\n\\n\\n\\n\\n\\n\\n\\n\\n\\n\\n\\n\\n\\n\\n\\n\\n\\n\\n\\n\\n\\n\\n\\n\\n\\n\\n\\n\\n\\n\\n\\n\\n\\n\\n\\n\\n\\n\\n\\n\\n\\n\\n\\n\\n\\n\\n\\n\\n\\n\\n\\n\\n\\n\\n\\n\\n\\n\\n\\n\\n\\n\\n\\n\\n\\n\\n\\n\\n\\n\\n\\n\\n\\n\\n', 'qid': '44cc119b4871c1a0657e1db277cbccc2_2'}\n",
      "can not parse ans for res:  {'response': '\\n\\nThe image shows a variety of dishes, including a bowl of soup with chunks of meat and vegetables, a plate with sliced vegetables and a red sauce, a dish with a creamy sauce and what appears to be sliced fish, and a bowl with a yellow sauce and chunks of meat. Without specific information about the ingredients of each dish, it is not possible to determine which dish contains eggs. However, based on the visual information, it is not possible to definitively answer the question.', 'qid': '048af6af720970b5d43d69d9e0ec45b7_2'}\n",
      "can not parse ans for res:  {'response': '\\n\\n\\n\\n\\n\\n\\n\\n\\n\\n\\n\\n\\n\\n\\n\\n\\n\\n\\n\\n\\n\\n\\n\\n\\n\\n\\n\\n\\n\\n\\n\\n\\n\\n\\n\\n\\n\\n\\n\\n\\n\\n\\n\\n\\n\\n\\n\\n\\n\\n\\n\\n\\n\\n\\n\\n\\n\\n\\n\\n\\n\\n\\n\\n\\n\\n\\n\\n\\n\\n\\n\\n\\n\\n\\n\\n\\n\\n\\n\\n\\n\\n\\n\\n\\n\\n\\n\\n\\n\\n\\n\\n\\n\\n\\n\\n\\n\\n\\n\\n\\n\\n\\n\\n\\n\\n\\n\\n\\n\\n\\n\\n\\n\\n\\n\\n\\n\\n\\n\\n\\n\\n\\n\\n\\n\\n\\n\\n\\n\\n\\n\\n\\n\\n\\n\\n\\n\\n\\n\\n\\n\\n\\n\\n\\n\\n\\n\\n\\n\\n\\n\\n\\n\\n\\n\\n\\n\\n\\n\\n\\n\\n\\n\\n\\n\\n\\n\\n\\n\\n\\n\\n\\n\\n\\n\\n\\n\\n\\n\\n\\n\\n\\n\\n\\n\\n\\n\\n\\n\\n\\n\\n\\n\\n\\n\\n\\n\\n\\n\\n\\n\\n\\n\\n\\n\\n\\n\\n\\n\\n\\n\\n\\n\\n\\n\\n\\n\\n\\n\\n\\n\\n\\n\\n\\n\\n\\n\\n\\n\\n\\n\\n\\n\\n\\n\\n\\n\\n\\n\\n\\n\\n\\n\\n\\n\\n\\n\\n\\n\\n\\n\\n\\n\\n\\n\\n\\n\\n\\n\\n\\n\\n\\n\\n\\n\\n\\n\\n\\n\\n\\n\\n\\n\\n\\n\\n\\n\\n\\n\\n\\n\\n\\n\\n\\n\\n\\n\\n\\n\\n\\n\\n\\n\\n\\n\\n\\n\\n\\n\\n\\n\\n\\n\\n\\n\\n\\n\\n\\n\\n\\n\\n\\n\\n\\n\\n\\n\\n\\n\\n\\n\\n\\n\\n\\n\\n\\n\\n\\n\\n\\n\\n\\n\\n\\n\\n\\n\\n\\n\\n\\n\\n\\n\\n\\n\\n\\n\\n\\n\\n\\n\\n\\n\\n\\n\\n\\n\\n\\n\\n\\n\\n\\n\\n\\n\\n\\n\\n\\n\\n\\n\\n\\n\\n\\n\\n\\n\\n\\n\\n\\n\\n\\n\\n\\n\\n\\n\\n\\n\\n\\n\\n\\n\\n\\n\\n\\n\\n\\n\\n\\n\\n\\n\\n\\n\\n\\n\\n\\n\\n\\n\\n\\n\\n\\n\\n\\n\\n\\n\\n\\n\\n\\n\\n\\n\\n\\n\\n\\n\\n\\n\\n\\n\\n\\n\\n\\n\\n\\n\\n\\n\\n\\n\\n\\n\\n\\n\\n\\n\\n\\n\\n\\n\\n\\n\\n\\n\\n\\n\\n\\n\\n\\n\\n\\n\\n\\n\\n\\n\\n\\n\\n\\n\\n\\n\\n\\n\\n\\n\\n\\n\\n\\n\\n\\n\\n\\n\\n\\n\\n\\n\\n\\n\\n\\n\\n\\n\\n\\n\\n', 'qid': '44cc119b4871c1a0657e1db277cbccc2_1'}\n",
      "can not parse ans for res:  {'response': '\\n\\n\\n\\n\\n\\n\\n\\n\\n\\n\\n\\n\\n\\n\\n\\n\\n\\n\\n\\n\\n\\n\\n\\n\\n\\n\\n\\n\\n\\n\\n\\n\\n\\n\\n\\n\\n\\n\\n\\n\\n\\n\\n\\n\\n\\n\\n\\n\\n\\n\\n\\n\\n\\n\\n\\n\\n\\n\\n\\n\\n\\n\\n\\n\\n\\n\\n\\n\\n\\n\\n\\n\\n\\n\\n\\n\\n\\n\\n\\n\\n\\n\\n\\n\\n\\n\\n\\n\\n\\n\\n\\n\\n\\n\\n\\n\\n\\n\\n\\n\\n\\n\\n\\n\\n\\n\\n\\n\\n\\n\\n\\n\\n\\n\\n\\n\\n\\n\\n\\n\\n\\n\\n\\n\\n\\n\\n\\n\\n\\n\\n\\n\\n\\n\\n\\n\\n\\n\\n\\n\\n\\n\\n\\n\\n\\n\\n\\n\\n\\n\\n\\n\\n\\n\\n\\n\\n\\n\\n\\n\\n\\n\\n\\n\\n\\n\\n\\n\\n\\n\\n\\n\\n\\n\\n\\n\\n\\n\\n\\n\\n\\n\\n\\n\\n\\n\\n\\n\\n\\n\\n\\n\\n\\n\\n\\n\\n\\n\\n\\n\\n\\n\\n\\n\\n\\n\\n\\n\\n\\n\\n\\n\\n\\n\\n\\n\\n\\n\\n\\n\\n\\n\\n\\n\\n\\n\\n\\n\\n\\n\\n\\n\\n\\n\\n\\n\\n\\n\\n\\n\\n\\n\\n\\n\\n\\n\\n\\n\\n\\n\\n\\n\\n\\n\\n\\n\\n\\n\\n\\n\\n\\n\\n\\n\\n\\n\\n\\n\\n\\n\\n\\n\\n\\n\\n\\n\\n\\n\\n\\n\\n\\n\\n\\n\\n\\n\\n\\n\\n\\n\\n\\n\\n\\n\\n\\n\\n\\n\\n\\n\\n\\n\\n\\n\\n\\n\\n\\n\\n\\n\\n\\n\\n\\n\\n\\n\\n\\n\\n\\n\\n\\n\\n\\n\\n\\n\\n\\n\\n\\n\\n\\n\\n\\n\\n\\n\\n\\n\\n\\n\\n\\n\\n\\n\\n\\n\\n\\n\\n\\n\\n\\n\\n\\n\\n\\n\\n\\n\\n\\n\\n\\n\\n\\n\\n\\n\\n\\n\\n\\n\\n\\n\\n\\n\\n\\n\\n\\n\\n\\n\\n\\n\\n\\n\\n\\n\\n\\n\\n\\n\\n\\n\\n\\n\\n\\n\\n\\n\\n\\n\\n\\n\\n\\n\\n\\n\\n\\n\\n\\n\\n\\n\\n\\n\\n\\n\\n\\n\\n\\n\\n\\n\\n\\n\\n\\n\\n\\n\\n\\n\\n\\n\\n\\n\\n\\n\\n\\n\\n\\n\\n\\n\\n\\n\\n\\n\\n\\n\\n\\n\\n\\n\\n\\n\\n\\n\\n\\n\\n\\n\\n\\n\\n\\n\\n\\n\\n\\n\\n\\n\\n\\n\\n\\n\\n\\n\\n\\n\\n\\n\\n\\n\\n\\n\\n\\n\\n\\n\\n\\n\\n\\n\\n\\n\\n\\n\\n\\n\\n\\n', 'qid': '44cc119b4871c1a0657e1db277cbccc2_2'}\n",
      "can not parse ans for res:  {'response': '\\n\\n\\n\\n\\n\\n\\n\\n\\n\\n\\n\\n\\n\\n\\n\\n\\n\\n\\n\\n\\n\\n\\n\\n\\n\\n\\n\\n\\n\\n\\n\\n\\n\\n\\n\\n\\n\\n\\n\\n\\n\\n\\n\\n\\n\\n\\n\\n\\n\\n\\n\\n\\n\\n\\n\\n\\n\\n\\n\\n\\n\\n\\n\\n\\n\\n\\n\\n\\n\\n\\n\\n\\n\\n\\n\\n\\n\\n\\n\\n\\n\\n\\n\\n\\n\\n\\n\\n\\n\\n\\n\\n\\n\\n\\n\\n\\n\\n\\n\\n\\n\\n\\n\\n\\n\\n\\n\\n\\n\\n\\n\\n\\n\\n\\n\\n\\n\\n\\n\\n\\n\\n\\n\\n\\n\\n\\n\\n\\n\\n\\n\\n\\n\\n\\n\\n\\n\\n\\n\\n\\n\\n\\n\\n\\n\\n\\n\\n\\n\\n\\n\\n\\n\\n\\n\\n\\n\\n\\n\\n\\n\\n\\n\\n\\n\\n\\n\\n\\n\\n\\n\\n\\n\\n\\n\\n\\n\\n\\n\\n\\n\\n\\n\\n\\n\\n\\n\\n\\n\\n\\n\\n\\n\\n\\n\\n\\n\\n\\n\\n\\n\\n\\n\\n\\n\\n\\n\\n\\n\\n\\n\\n\\n\\n\\n\\n\\n\\n\\n\\n\\n\\n\\n\\n\\n\\n\\n\\n\\n\\n\\n\\n\\n\\n\\n\\n\\n\\n\\n\\n\\n\\n\\n\\n\\n\\n\\n\\n\\n\\n\\n\\n\\n\\n\\n\\n\\n\\n\\n\\n\\n\\n\\n\\n\\n\\n\\n\\n\\n\\n\\n\\n\\n\\n\\n\\n\\n\\n\\n\\n\\n\\n\\n\\n\\n\\n\\n\\n\\n\\n\\n\\n\\n\\n\\n\\n\\n\\n\\n\\n\\n\\n\\n\\n\\n\\n\\n\\n\\n\\n\\n\\n\\n\\n\\n\\n\\n\\n\\n\\n\\n\\n\\n\\n\\n\\n\\n\\n\\n\\n\\n\\n\\n\\n\\n\\n\\n\\n\\n\\n\\n\\n\\n\\n\\n\\n\\n\\n\\n\\n\\n\\n\\n\\n\\n\\n\\n\\n\\n\\n\\n\\n\\n\\n\\n\\n\\n\\n\\n\\n\\n\\n\\n\\n\\n\\n\\n\\n\\n\\n\\n\\n\\n\\n\\n\\n\\n\\n\\n\\n\\n\\n\\n\\n\\n\\n\\n\\n\\n\\n\\n\\n\\n\\n\\n\\n\\n\\n\\n\\n\\n\\n\\n\\n\\n\\n\\n\\n\\n\\n\\n\\n\\n\\n\\n\\n\\n\\n\\n\\n\\n\\n\\n\\n\\n\\n\\n\\n\\n\\n\\n\\n\\n\\n\\n\\n\\n\\n\\n\\n\\n\\n\\n\\n\\n\\n\\n\\n\\n\\n\\n\\n\\n\\n\\n\\n\\n\\n\\n\\n\\n\\n\\n\\n\\n\\n\\n\\n\\n\\n\\n\\n\\n\\n\\n\\n\\n\\n\\n\\n\\n\\n\\n\\n\\n\\n\\n\\n\\n\\n', 'qid': '44cc119b4871c1a0657e1db277cbccc2_2'}\n",
      "can not parse ans for res:  {'response': '\\n\\nThe image shows a bowl of noodles with various toppings, including what appears to be sliced meat, green onions, and possibly some type of sauce or seasoning. The noodles are coated with a white, creamy substance, which could be a type of cheese or a sauce. The dish is served in a bowl with a patterned rim, and there is a spoon resting in the bowl. The noodles are partially submerged in the sauce, and the toppings are scattered on top of the noodles. The image does not provide any text or context that would indicate the flavor or spiciness of the dish, so it is not possible to determine which dish is the blandest based on the image alone. Therefore, the question cannot be answered definitively without additional information.', 'qid': '048af6af720970b5d43d69d9e0ec45b7_0'}\n",
      "can not parse ans for res:  {'response': '\\n\\nThe image shows a bowl of noodles with various ingredients such as green onions, sliced meat, and possibly some type of vegetables or herbs. The noodles appear to be stir-fried and are served in a bowl with a spoon, indicating it is ready to be eaten. The broth in the bowl is clear, suggesting it might be a light or soup-based broth, and there are no visible chopsticks, which might indicate that the dish is meant to be eaten with a spoon.\\n\\n\\nThe question asks for the noodle dish with the most ingredients in broth, but the image does not provide enough context to determine the exact number of ingredients in the broth for each dish. Without additional information or a comparison of the dishes, it is impossible to accurately answer which dish has the most ingredients in broth. Therefore, the question cannot be answered confidently based on the image provided.', 'qid': '048af6af720970b5d43d69d9e0ec45b7_1'}\n",
      "can not parse ans for res:  {'response': '\\n\\nQuestion: Which kind of noodles are best for stir-frying?\\n\\nOptions:\\n\\nOption (A) Udon noodles\\n\\nOption (B) Ramen noodles\\n\\nOption (C) Udon noodles\\n\\nOption (D) Ramen noodles\\n\\nAnswer: Option (A) Udon noodles\\n\\nExplanation: Udon noodles are made from wheat flour and have a thick and chewy texture, which makes them ideal for stir-frying. They can withstand high heat and hold up well when tossed in sauces or stir-fried with various ingredients. Udon noodles are also versatile and can be used in a variety of dishes, such as stir-fry, soup, and even in salads. They have a neutral flavor that can absorb the flavors of the other ingredients in the dish, making them a popular choice for stir-frying.\\n\\nOn the other hand, ramen noodles are made from wheat flour and are typically served in a broth or with a sauce. They are not as suitable for stir-frying as they can become soggy and lose their texture when cooked in a hot oil. Ramen noodles are better suited for dishes where they are served in a liquid, such as ramen soup or ramen broth.\\n\\nIn conclusion, udon noodles are the best choice for stir-frying due to their thick and chewy texture, ability to withstand high heat, and versatility in absorbing flavors. They are a popular choice for stir-fry dishes and can be used in a variety of recipes.', 'qid': '048af6af720970b5d43d69d9e0ec45b7_2'}\n",
      "can not parse ans for res:  {'response': '\\n\\n\\n\\n\\n\\n\\n\\n\\n\\n\\n\\n\\n\\n\\n\\n\\n\\n\\n\\n\\n\\n\\n\\n\\n\\n\\n\\n\\n\\n\\n\\n\\n\\n\\n\\n\\n\\n\\n\\n\\n\\n\\n\\n\\n\\n\\n\\n\\n\\n\\n\\n\\n\\n\\n\\n\\n\\n\\n\\n\\n\\n\\n\\n\\n\\n\\n\\n\\n\\n\\n\\n\\n\\n\\n\\n\\n\\n\\n\\n\\n\\n\\n\\n\\n\\n\\n\\n\\n\\n\\n\\n\\n\\n\\n\\n\\n\\n\\n\\n\\n\\n\\n\\n\\n\\n\\n\\n\\n\\n\\n\\n\\n\\n\\n\\n\\n\\n\\n\\n\\n\\n\\n\\n\\n\\n\\n\\n\\n\\n\\n\\n\\n\\n\\n\\n\\n\\n\\n\\n\\n\\n\\n\\n\\n\\n\\n\\n\\n\\n\\n\\n\\n\\n\\n\\n\\n\\n\\n\\n\\n\\n\\n\\n\\n\\n\\n\\n\\n\\n\\n\\n\\n\\n\\n\\n\\n\\n\\n\\n\\n\\n\\n\\n\\n\\n\\n\\n\\n\\n\\n\\n\\n\\n\\n\\n\\n\\n\\n\\n\\n\\n\\n\\n\\n\\n\\n\\n\\n\\n\\n\\n\\n\\n\\n\\n\\n\\n\\n\\n\\n\\n\\n\\n\\n\\n\\n\\n\\n\\n\\n\\n\\n\\n\\n\\n\\n\\n\\n\\n\\n\\n\\n\\n\\n\\n\\n\\n\\n\\n\\n\\n\\n\\n\\n\\n\\n\\n\\n\\n\\n\\n\\n\\n\\n\\n\\n\\n\\n\\n\\n\\n\\n\\n\\n\\n\\n\\n\\n\\n\\n\\n\\n\\n\\n\\n\\n\\n\\n\\n\\n\\n\\n\\n\\n\\n\\n\\n\\n\\n\\n\\n\\n\\n\\n\\n\\n\\n\\n\\n\\n\\n\\n\\n\\n\\n\\n\\n\\n\\n\\n\\n\\n\\n\\n\\n\\n\\n\\n\\n\\n\\n\\n\\n\\n\\n\\n\\n\\n\\n\\n\\n\\n\\n\\n\\n\\n\\n\\n\\n\\n\\n\\n\\n\\n\\n\\n\\n\\n\\n\\n\\n\\n\\n\\n\\n\\n\\n\\n\\n\\n\\n\\n\\n\\n\\n\\n\\n\\n\\n\\n\\n\\n\\n\\n\\n\\n\\n\\n\\n\\n\\n\\n\\n\\n\\n\\n\\n\\n\\n\\n\\n\\n\\n\\n\\n\\n\\n\\n\\n\\n\\n\\n\\n\\n\\n\\n\\n\\n\\n\\n\\n\\n\\n\\n\\n\\n\\n\\n\\n\\n\\n\\n\\n\\n\\n\\n\\n\\n\\n\\n\\n\\n\\n\\n\\n\\n\\n\\n\\n\\n\\n\\n\\n\\n\\n\\n\\n\\n\\n\\n\\n\\n\\n\\n\\n\\n\\n\\n\\n\\n\\n\\n\\n\\n\\n\\n\\n\\n\\n\\n\\n\\n\\n\\n\\n\\n\\n\\n\\n\\n\\n\\n\\n\\n\\n\\n\\n\\n\\n', 'qid': '44cc119b4871c1a0657e1db277cbccc2_1'}\n",
      "can not parse ans for res:  {'response': '\\n\\n\\n\\n\\n\\n\\n\\n\\n\\n\\n\\n\\n\\n\\n\\n\\n\\n\\n\\n\\n\\n\\n\\n\\n\\n\\n\\n\\n\\n\\n\\n\\n\\n\\n\\n\\n\\n\\n\\n\\n\\n\\n\\n\\n\\n\\n\\n\\n\\n\\n\\n\\n\\n\\n\\n\\n\\n\\n\\n\\n\\n\\n\\n\\n\\n\\n\\n\\n\\n\\n\\n\\n\\n\\n\\n\\n\\n\\n\\n\\n\\n\\n\\n\\n\\n\\n\\n\\n\\n\\n\\n\\n\\n\\n\\n\\n\\n\\n\\n\\n\\n\\n\\n\\n\\n\\n\\n\\n\\n\\n\\n\\n\\n\\n\\n\\n\\n\\n\\n\\n\\n\\n\\n\\n\\n\\n\\n\\n\\n\\n\\n\\n\\n\\n\\n\\n\\n\\n\\n\\n\\n\\n\\n\\n\\n\\n\\n\\n\\n\\n\\n\\n\\n\\n\\n\\n\\n\\n\\n\\n\\n\\n\\n\\n\\n\\n\\n\\n\\n\\n\\n\\n\\n\\n\\n\\n\\n\\n\\n\\n\\n\\n\\n\\n\\n\\n\\n\\n\\n\\n\\n\\n\\n\\n\\n\\n\\n\\n\\n\\n\\n\\n\\n\\n\\n\\n\\n\\n\\n\\n\\n\\n\\n\\n\\n\\n\\n\\n\\n\\n\\n\\n\\n\\n\\n\\n\\n\\n\\n\\n\\n\\n\\n\\n\\n\\n\\n\\n\\n\\n\\n\\n\\n\\n\\n\\n\\n\\n\\n\\n\\n\\n\\n\\n\\n\\n\\n\\n\\n\\n\\n\\n\\n\\n\\n\\n\\n\\n\\n\\n\\n\\n\\n\\n\\n\\n\\n\\n\\n\\n\\n\\n\\n\\n\\n\\n\\n\\n\\n\\n\\n\\n\\n\\n\\n\\n\\n\\n\\n\\n\\n\\n\\n\\n\\n\\n\\n\\n\\n\\n\\n\\n\\n\\n\\n\\n\\n\\n\\n\\n\\n\\n\\n\\n\\n\\n\\n\\n\\n\\n\\n\\n\\n\\n\\n\\n\\n\\n\\n\\n\\n\\n\\n\\n\\n\\n\\n\\n\\n\\n\\n\\n\\n\\n\\n\\n\\n\\n\\n\\n\\n\\n\\n\\n\\n\\n\\n\\n\\n\\n\\n\\n\\n\\n\\n\\n\\n\\n\\n\\n\\n\\n\\n\\n\\n\\n\\n\\n\\n\\n\\n\\n\\n\\n\\n\\n\\n\\n\\n\\n\\n\\n\\n\\n\\n\\n\\n\\n\\n\\n\\n\\n\\n\\n\\n\\n\\n\\n\\n\\n\\n\\n\\n\\n\\n\\n\\n\\n\\n\\n\\n\\n\\n\\n\\n\\n\\n\\n\\n\\n\\n\\n\\n\\n\\n\\n\\n\\n\\n\\n\\n\\n\\n\\n\\n\\n\\n\\n\\n\\n\\n\\n\\n\\n\\n\\n\\n\\n\\n\\n\\n\\n\\n\\n\\n\\n\\n\\n\\n\\n\\n\\n\\n\\n\\n\\n\\n\\n\\n\\n\\n\\n\\n\\n\\n\\n\\n\\n\\n', 'qid': '44cc119b4871c1a0657e1db277cbccc2_2'}\n",
      "can not parse ans for res:  {'response': '\\n\\n\\n\\n\\n\\n\\n\\n\\n\\n\\n\\n\\n\\n\\n\\n\\n\\n\\n\\n\\n\\n\\n\\n\\n\\n\\n\\n\\n\\n\\n\\n\\n\\n\\n\\n\\n\\n\\n\\n\\n\\n\\n\\n\\n\\n\\n\\n\\n\\n\\n\\n\\n\\n\\n\\n\\n\\n\\n\\n\\n\\n\\n\\n\\n\\n\\n\\n\\n\\n\\n\\n\\n\\n\\n\\n\\n\\n\\n\\n\\n\\n\\n\\n\\n\\n\\n\\n\\n\\n\\n\\n\\n\\n\\n\\n\\n\\n\\n\\n\\n\\n\\n\\n\\n\\n\\n\\n\\n\\n\\n\\n\\n\\n\\n\\n\\n\\n\\n\\n\\n\\n\\n\\n\\n\\n\\n\\n\\n\\n\\n\\n\\n\\n\\n\\n\\n\\n\\n\\n\\n\\n\\n\\n\\n\\n\\n\\n\\n\\n\\n\\n\\n\\n\\n\\n\\n\\n\\n\\n\\n\\n\\n\\n\\n\\n\\n\\n\\n\\n\\n\\n\\n\\n\\n\\n\\n\\n\\n\\n\\n\\n\\n\\n\\n\\n\\n\\n\\n\\n\\n\\n\\n\\n\\n\\n\\n\\n\\n\\n\\n\\n\\n\\n\\n\\n\\n\\n\\n\\n\\n\\n\\n\\n\\n\\n\\n\\n\\n\\n\\n\\n\\n\\n\\n\\n\\n\\n\\n\\n\\n\\n\\n\\n\\n\\n\\n\\n\\n\\n\\n\\n\\n\\n\\n\\n\\n\\n\\n\\n\\n\\n\\n\\n\\n\\n\\n\\n\\n\\n\\n\\n\\n\\n\\n\\n\\n\\n\\n\\n\\n\\n\\n\\n\\n\\n\\n\\n\\n\\n\\n\\n\\n\\n\\n\\n\\n\\n\\n\\n\\n\\n\\n\\n\\n\\n\\n\\n\\n\\n\\n\\n\\n\\n\\n\\n\\n\\n\\n\\n\\n\\n\\n\\n\\n\\n\\n\\n\\n\\n\\n\\n\\n\\n\\n\\n\\n\\n\\n\\n\\n\\n\\n\\n\\n\\n\\n\\n\\n\\n\\n\\n\\n\\n\\n\\n\\n\\n\\n\\n\\n\\n\\n\\n\\n\\n\\n\\n\\n\\n\\n\\n\\n\\n\\n\\n\\n\\n\\n\\n\\n\\n\\n\\n\\n\\n\\n\\n\\n\\n\\n\\n\\n\\n\\n\\n\\n\\n\\n\\n\\n\\n\\n\\n\\n\\n\\n\\n\\n\\n\\n\\n\\n\\n\\n\\n\\n\\n\\n\\n\\n\\n\\n\\n\\n\\n\\n\\n\\n\\n\\n\\n\\n\\n\\n\\n\\n\\n\\n\\n\\n\\n\\n\\n\\n\\n\\n\\n\\n\\n\\n\\n\\n\\n\\n\\n\\n\\n\\n\\n\\n\\n\\n\\n\\n\\n\\n\\n\\n\\n\\n\\n\\n\\n\\n\\n\\n\\n\\n\\n\\n\\n\\n\\n\\n\\n\\n\\n\\n\\n\\n\\n\\n\\n\\n\\n\\n\\n\\n\\n\\n\\n\\n\\n\\n\\n\\n\\n\\n\\n', 'qid': '6debe03617e03b42b0ef41eec47f3e02_0'}\n",
      "can not parse ans for res:  {'response': '\\n\\n\\n\\n\\n\\n\\n\\n\\n\\n\\n\\n\\n\\n\\n\\n\\n\\n\\n\\n\\n\\n\\n\\n\\n\\n\\n\\n\\n\\n\\n\\n\\n\\n\\n\\n\\n\\n\\n\\n\\n\\n\\n\\n\\n\\n\\n\\n\\n\\n\\n\\n\\n\\n\\n\\n\\n\\n\\n\\n\\n\\n\\n\\n\\n\\n\\n\\n\\n\\n\\n\\n\\n\\n\\n\\n\\n\\n\\n\\n\\n\\n\\n\\n\\n\\n\\n\\n\\n\\n\\n\\n\\n\\n\\n\\n\\n\\n\\n\\n\\n\\n\\n\\n\\n\\n\\n\\n\\n\\n\\n\\n\\n\\n\\n\\n\\n\\n\\n\\n\\n\\n\\n\\n\\n\\n\\n\\n\\n\\n\\n\\n\\n\\n\\n\\n\\n\\n\\n\\n\\n\\n\\n\\n\\n\\n\\n\\n\\n\\n\\n\\n\\n\\n\\n\\n\\n\\n\\n\\n\\n\\n\\n\\n\\n\\n\\n\\n\\n\\n\\n\\n\\n\\n\\n\\n\\n\\n\\n\\n\\n\\n\\n\\n\\n\\n\\n\\n\\n\\n\\n\\n\\n\\n\\n\\n\\n\\n\\n\\n\\n\\n\\n\\n\\n\\n\\n\\n\\n\\n\\n\\n\\n\\n\\n\\n\\n\\n\\n\\n\\n\\n\\n\\n\\n\\n\\n\\n\\n\\n\\n\\n\\n\\n\\n\\n\\n\\n\\n\\n\\n\\n\\n\\n\\n\\n\\n\\n\\n\\n\\n\\n\\n\\n\\n\\n\\n\\n\\n\\n\\n\\n\\n\\n\\n\\n\\n\\n\\n\\n\\n\\n\\n\\n\\n\\n\\n\\n\\n\\n\\n\\n\\n\\n\\n\\n\\n\\n\\n\\n\\n\\n\\n\\n\\n\\n\\n\\n\\n\\n\\n\\n\\n\\n\\n\\n\\n\\n\\n\\n\\n\\n\\n\\n\\n\\n\\n\\n\\n\\n\\n\\n\\n\\n\\n\\n\\n\\n\\n\\n\\n\\n\\n\\n\\n\\n\\n\\n\\n\\n\\n\\n\\n\\n\\n\\n\\n\\n\\n\\n\\n\\n\\n\\n\\n\\n\\n\\n\\n\\n\\n\\n\\n\\n\\n\\n\\n\\n\\n\\n\\n\\n\\n\\n\\n\\n\\n\\n\\n\\n\\n\\n\\n\\n\\n\\n\\n\\n\\n\\n\\n\\n\\n\\n\\n\\n\\n\\n\\n\\n\\n\\n\\n\\n\\n\\n\\n\\n\\n\\n\\n\\n\\n\\n\\n\\n\\n\\n\\n\\n\\n\\n\\n\\n\\n\\n\\n\\n\\n\\n\\n\\n\\n\\n\\n\\n\\n\\n\\n\\n\\n\\n\\n\\n\\n\\n\\n\\n\\n\\n\\n\\n\\n\\n\\n\\n\\n\\n\\n\\n\\n\\n\\n\\n\\n\\n\\n\\n\\n\\n\\n\\n\\n\\n\\n\\n\\n\\n\\n\\n\\n\\n\\n\\n\\n\\n\\n\\n\\n\\n\\n\\n\\n\\n\\n\\n\\n\\n\\n\\n', 'qid': '6debe03617e03b42b0ef41eec47f3e02_2'}\n",
      "can not parse ans for res:  {'response': '\\n\\n\\n\\n\\n\\n\\n\\n\\n\\n\\n\\n\\n\\n\\n\\n\\n\\n\\n\\n\\n\\n\\n\\n\\n\\n\\n\\n\\n\\n\\n\\n\\n\\n\\n\\n\\n\\n\\n\\n\\n\\n\\n\\n\\n\\n\\n\\n\\n\\n\\n\\n\\n\\n\\n\\n\\n\\n\\n\\n\\n\\n\\n\\n\\n\\n\\n\\n\\n\\n\\n\\n\\n\\n\\n\\n\\n\\n\\n\\n\\n\\n\\n\\n\\n\\n\\n\\n\\n\\n\\n\\n\\n\\n\\n\\n\\n\\n\\n\\n\\n\\n\\n\\n\\n\\n\\n\\n\\n\\n\\n\\n\\n\\n\\n\\n\\n\\n\\n\\n\\n\\n\\n\\n\\n\\n\\n\\n\\n\\n\\n\\n\\n\\n\\n\\n\\n\\n\\n\\n\\n\\n\\n\\n\\n\\n\\n\\n\\n\\n\\n\\n\\n\\n\\n\\n\\n\\n\\n\\n\\n\\n\\n\\n\\n\\n\\n\\n\\n\\n\\n\\n\\n\\n\\n\\n\\n\\n\\n\\n\\n\\n\\n\\n\\n\\n\\n\\n\\n\\n\\n\\n\\n\\n\\n\\n\\n\\n\\n\\n\\n\\n\\n\\n\\n\\n\\n\\n\\n\\n\\n\\n\\n\\n\\n\\n\\n\\n\\n\\n\\n\\n\\n\\n\\n\\n\\n\\n\\n\\n\\n\\n\\n\\n\\n\\n\\n\\n\\n\\n\\n\\n\\n\\n\\n\\n\\n\\n\\n\\n\\n\\n\\n\\n\\n\\n\\n\\n\\n\\n\\n\\n\\n\\n\\n\\n\\n\\n\\n\\n\\n\\n\\n\\n\\n\\n\\n\\n\\n\\n\\n\\n\\n\\n\\n\\n\\n\\n\\n\\n\\n\\n\\n\\n\\n\\n\\n\\n\\n\\n\\n\\n\\n\\n\\n\\n\\n\\n\\n\\n\\n\\n\\n\\n\\n\\n\\n\\n\\n\\n\\n\\n\\n\\n\\n\\n\\n\\n\\n\\n\\n\\n\\n\\n\\n\\n\\n\\n\\n\\n\\n\\n\\n\\n\\n\\n\\n\\n\\n\\n\\n\\n\\n\\n\\n\\n\\n\\n\\n\\n\\n\\n\\n\\n\\n\\n\\n\\n\\n\\n\\n\\n\\n\\n\\n\\n\\n\\n\\n\\n\\n\\n\\n\\n\\n\\n\\n\\n\\n\\n\\n\\n\\n\\n\\n\\n\\n\\n\\n\\n\\n\\n\\n\\n\\n\\n\\n\\n\\n\\n\\n\\n\\n\\n\\n\\n\\n\\n\\n\\n\\n\\n\\n\\n\\n\\n\\n\\n\\n\\n\\n\\n\\n\\n\\n\\n\\n\\n\\n\\n\\n\\n\\n\\n\\n\\n\\n\\n\\n\\n\\n\\n\\n\\n\\n\\n\\n\\n\\n\\n\\n\\n\\n\\n\\n\\n\\n\\n\\n\\n\\n\\n\\n\\n\\n\\n\\n\\n\\n\\n\\n\\n\\n\\n\\n\\n\\n\\n\\n\\n\\n\\n\\n\\n\\n\\n\\n\\n\\n\\n', 'qid': '6debe03617e03b42b0ef41eec47f3e02_0'}\n",
      "can not parse ans for res:  {'response': '\\n\\n\\n\\n\\n\\n\\n\\n\\n\\n\\n\\n\\n\\n\\n\\n\\n\\n\\n\\n\\n\\n\\n\\n\\n\\n\\n\\n\\n\\n\\n\\n\\n\\n\\n\\n\\n\\n\\n\\n\\n\\n\\n\\n\\n\\n\\n\\n\\n\\n\\n\\n\\n\\n\\n\\n\\n\\n\\n\\n\\n\\n\\n\\n\\n\\n\\n\\n\\n\\n\\n\\n\\n\\n\\n\\n\\n\\n\\n\\n\\n\\n\\n\\n\\n\\n\\n\\n\\n\\n\\n\\n\\n\\n\\n\\n\\n\\n\\n\\n\\n\\n\\n\\n\\n\\n\\n\\n\\n\\n\\n\\n\\n\\n\\n\\n\\n\\n\\n\\n\\n\\n\\n\\n\\n\\n\\n\\n\\n\\n\\n\\n\\n\\n\\n\\n\\n\\n\\n\\n\\n\\n\\n\\n\\n\\n\\n\\n\\n\\n\\n\\n\\n\\n\\n\\n\\n\\n\\n\\n\\n\\n\\n\\n\\n\\n\\n\\n\\n\\n\\n\\n\\n\\n\\n\\n\\n\\n\\n\\n\\n\\n\\n\\n\\n\\n\\n\\n\\n\\n\\n\\n\\n\\n\\n\\n\\n\\n\\n\\n\\n\\n\\n\\n\\n\\n\\n\\n\\n\\n\\n\\n\\n\\n\\n\\n\\n\\n\\n\\n\\n\\n\\n\\n\\n\\n\\n\\n\\n\\n\\n\\n\\n\\n\\n\\n\\n\\n\\n\\n\\n\\n\\n\\n\\n\\n\\n\\n\\n\\n\\n\\n\\n\\n\\n\\n\\n\\n\\n\\n\\n\\n\\n\\n\\n\\n\\n\\n\\n\\n\\n\\n\\n\\n\\n\\n\\n\\n\\n\\n\\n\\n\\n\\n\\n\\n\\n\\n\\n\\n\\n\\n\\n\\n\\n\\n\\n\\n\\n\\n\\n\\n\\n\\n\\n\\n\\n\\n\\n\\n\\n\\n\\n\\n\\n\\n\\n\\n\\n\\n\\n\\n\\n\\n\\n\\n\\n\\n\\n\\n\\n\\n\\n\\n\\n\\n\\n\\n\\n\\n\\n\\n\\n\\n\\n\\n\\n\\n\\n\\n\\n\\n\\n\\n\\n\\n\\n\\n\\n\\n\\n\\n\\n\\n\\n\\n\\n\\n\\n\\n\\n\\n\\n\\n\\n\\n\\n\\n\\n\\n\\n\\n\\n\\n\\n\\n\\n\\n\\n\\n\\n\\n\\n\\n\\n\\n\\n\\n\\n\\n\\n\\n\\n\\n\\n\\n\\n\\n\\n\\n\\n\\n\\n\\n\\n\\n\\n\\n\\n\\n\\n\\n\\n\\n\\n\\n\\n\\n\\n\\n\\n\\n\\n\\n\\n\\n\\n\\n\\n\\n\\n\\n\\n\\n\\n\\n\\n\\n\\n\\n\\n\\n\\n\\n\\n\\n\\n\\n\\n\\n\\n\\n\\n\\n\\n\\n\\n\\n\\n\\n\\n\\n\\n\\n\\n\\n\\n\\n\\n\\n\\n\\n\\n\\n\\n\\n\\n\\n\\n\\n\\n\\n\\n\\n\\n\\n\\n\\n\\n\\n', 'qid': '6debe03617e03b42b0ef41eec47f3e02_2'}\n",
      "can not parse ans for res:  {'response': '\\n\\n\\n\\n\\n\\n\\n\\n\\n\\n\\n\\n\\n\\n\\n\\n\\n\\n\\n\\n\\n\\n\\n\\n\\n\\n\\n\\n\\n\\n\\n\\n\\n\\n\\n\\n\\n\\n\\n\\n\\n\\n\\n\\n\\n\\n\\n\\n\\n\\n\\n\\n\\n\\n\\n\\n\\n\\n\\n\\n\\n\\n\\n\\n\\n\\n\\n\\n\\n\\n\\n\\n\\n\\n\\n\\n\\n\\n\\n\\n\\n\\n\\n\\n\\n\\n\\n\\n\\n\\n\\n\\n\\n\\n\\n\\n\\n\\n\\n\\n\\n\\n\\n\\n\\n\\n\\n\\n\\n\\n\\n\\n\\n\\n\\n\\n\\n\\n\\n\\n\\n\\n\\n\\n\\n\\n\\n\\n\\n\\n\\n\\n\\n\\n\\n\\n\\n\\n\\n\\n\\n\\n\\n\\n\\n\\n\\n\\n\\n\\n\\n\\n\\n\\n\\n\\n\\n\\n\\n\\n\\n\\n\\n\\n\\n\\n\\n\\n\\n\\n\\n\\n\\n\\n\\n\\n\\n\\n\\n\\n\\n\\n\\n\\n\\n\\n\\n\\n\\n\\n\\n\\n\\n\\n\\n\\n\\n\\n\\n\\n\\n\\n\\n\\n\\n\\n\\n\\n\\n\\n\\n\\n\\n\\n\\n\\n\\n\\n\\n\\n\\n\\n\\n\\n\\n\\n\\n\\n\\n\\n\\n\\n\\n\\n\\n\\n\\n\\n\\n\\n\\n\\n\\n\\n\\n\\n\\n\\n\\n\\n\\n\\n\\n\\n\\n\\n\\n\\n\\n\\n\\n\\n\\n\\n\\n\\n\\n\\n\\n\\n\\n\\n\\n\\n\\n\\n\\n\\n\\n\\n\\n\\n\\n\\n\\n\\n\\n\\n\\n\\n\\n\\n\\n\\n\\n\\n\\n\\n\\n\\n\\n\\n\\n\\n\\n\\n\\n\\n\\n\\n\\n\\n\\n\\n\\n\\n\\n\\n\\n\\n\\n\\n\\n\\n\\n\\n\\n\\n\\n\\n\\n\\n\\n\\n\\n\\n\\n\\n\\n\\n\\n\\n\\n\\n\\n\\n\\n\\n\\n\\n\\n\\n\\n\\n\\n\\n\\n\\n\\n\\n\\n\\n\\n\\n\\n\\n\\n\\n\\n\\n\\n\\n\\n\\n\\n\\n\\n\\n\\n\\n\\n\\n\\n\\n\\n\\n\\n\\n\\n\\n\\n\\n\\n\\n\\n\\n\\n\\n\\n\\n\\n\\n\\n\\n\\n\\n\\n\\n\\n\\n\\n\\n\\n\\n\\n\\n\\n\\n\\n\\n\\n\\n\\n\\n\\n\\n\\n\\n\\n\\n\\n\\n\\n\\n\\n\\n\\n\\n\\n\\n\\n\\n\\n\\n\\n\\n\\n\\n\\n\\n\\n\\n\\n\\n\\n\\n\\n\\n\\n\\n\\n\\n\\n\\n\\n\\n\\n\\n\\n\\n\\n\\n\\n\\n\\n\\n\\n\\n\\n\\n\\n\\n\\n\\n\\n\\n\\n\\n\\n\\n\\n\\n\\n\\n\\n\\n\\n\\n\\n\\n', 'qid': '6debe03617e03b42b0ef41eec47f3e02_0'}\n",
      "can not parse ans for res:  {'response': '\\n\\nThe image shows a variety of seafood dishes, including what appears to be crab, shrimp, and possibly other types of shellfish, served in different bowls and plates. There are also some vegetables and a bowl of soup, which might be a part of the dish. The dishes are arranged on a table with chopsticks and a spoon, suggesting they are ready to be eaten. The image does not provide any information about the quantity of seafood in each dish, so it is not possible to determine which dish has the most various seafood in the side dish. Therefore, the question cannot be answered definitively based on the image content.', 'qid': '6debe03617e03b42b0ef41eec47f3e02_1'}\n",
      "can not parse ans for res:  {'response': '\\n\\n\\n\\n\\n\\n\\n\\n\\n\\n\\n\\n\\n\\n\\n\\n\\n\\n\\n\\n\\n\\n\\n\\n\\n\\n\\n\\n\\n\\n\\n\\n\\n\\n\\n\\n\\n\\n\\n\\n\\n\\n\\n\\n\\n\\n\\n\\n\\n\\n\\n\\n\\n\\n\\n\\n\\n\\n\\n\\n\\n\\n\\n\\n\\n\\n\\n\\n\\n\\n\\n\\n\\n\\n\\n\\n\\n\\n\\n\\n\\n\\n\\n\\n\\n\\n\\n\\n\\n\\n\\n\\n\\n\\n\\n\\n\\n\\n\\n\\n\\n\\n\\n\\n\\n\\n\\n\\n\\n\\n\\n\\n\\n\\n\\n\\n\\n\\n\\n\\n\\n\\n\\n\\n\\n\\n\\n\\n\\n\\n\\n\\n\\n\\n\\n\\n\\n\\n\\n\\n\\n\\n\\n\\n\\n\\n\\n\\n\\n\\n\\n\\n\\n\\n\\n\\n\\n\\n\\n\\n\\n\\n\\n\\n\\n\\n\\n\\n\\n\\n\\n\\n\\n\\n\\n\\n\\n\\n\\n\\n\\n\\n\\n\\n\\n\\n\\n\\n\\n\\n\\n\\n\\n\\n\\n\\n\\n\\n\\n\\n\\n\\n\\n\\n\\n\\n\\n\\n\\n\\n\\n\\n\\n\\n\\n\\n\\n\\n\\n\\n\\n\\n\\n\\n\\n\\n\\n\\n\\n\\n\\n\\n\\n\\n\\n\\n\\n\\n\\n\\n\\n\\n\\n\\n\\n\\n\\n\\n\\n\\n\\n\\n\\n\\n\\n\\n\\n\\n\\n\\n\\n\\n\\n\\n\\n\\n\\n\\n\\n\\n\\n\\n\\n\\n\\n\\n\\n\\n\\n\\n\\n\\n\\n\\n\\n\\n\\n\\n\\n\\n\\n\\n\\n\\n\\n\\n\\n\\n\\n\\n\\n\\n\\n\\n\\n\\n\\n\\n\\n\\n\\n\\n\\n\\n\\n\\n\\n\\n\\n\\n\\n\\n\\n\\n\\n\\n\\n\\n\\n\\n\\n\\n\\n\\n\\n\\n\\n\\n\\n\\n\\n\\n\\n\\n\\n\\n\\n\\n\\n\\n\\n\\n\\n\\n\\n\\n\\n\\n\\n\\n\\n\\n\\n\\n\\n\\n\\n\\n\\n\\n\\n\\n\\n\\n\\n\\n\\n\\n\\n\\n\\n\\n\\n\\n\\n\\n\\n\\n\\n\\n\\n\\n\\n\\n\\n\\n\\n\\n\\n\\n\\n\\n\\n\\n\\n\\n\\n\\n\\n\\n\\n\\n\\n\\n\\n\\n\\n\\n\\n\\n\\n\\n\\n\\n\\n\\n\\n\\n\\n\\n\\n\\n\\n\\n\\n\\n\\n\\n\\n\\n\\n\\n\\n\\n\\n\\n\\n\\n\\n\\n\\n\\n\\n\\n\\n\\n\\n\\n\\n\\n\\n\\n\\n\\n\\n\\n\\n\\n\\n\\n\\n\\n\\n\\n\\n\\n\\n\\n\\n\\n\\n\\n\\n\\n\\n\\n\\n\\n\\n\\n\\n\\n\\n\\n\\n\\n\\n\\n\\n\\n', 'qid': '6debe03617e03b42b0ef41eec47f3e02_2'}\n",
      "can not parse ans for res:  {'response': '\\n\\n\\n\\n\\n\\n\\n\\n\\n\\n\\n\\n\\n\\n\\n\\n\\n\\n\\n\\n\\n\\n\\n\\n\\n\\n\\n\\n\\n\\n\\n\\n\\n\\n\\n\\n\\n\\n\\n\\n\\n\\n\\n\\n\\n\\n\\n\\n\\n\\n\\n\\n\\n\\n\\n\\n\\n\\n\\n\\n\\n\\n\\n\\n\\n\\n\\n\\n\\n\\n\\n\\n\\n\\n\\n\\n\\n\\n\\n\\n\\n\\n\\n\\n\\n\\n\\n\\n\\n\\n\\n\\n\\n\\n\\n\\n\\n\\n\\n\\n\\n\\n\\n\\n\\n\\n\\n\\n\\n\\n\\n\\n\\n\\n\\n\\n\\n\\n\\n\\n\\n\\n\\n\\n\\n\\n\\n\\n\\n\\n\\n\\n\\n\\n\\n\\n\\n\\n\\n\\n\\n\\n\\n\\n\\n\\n\\n\\n\\n\\n\\n\\n\\n\\n\\n\\n\\n\\n\\n\\n\\n\\n\\n\\n\\n\\n\\n\\n\\n\\n\\n\\n\\n\\n\\n\\n\\n\\n\\n\\n\\n\\n\\n\\n\\n\\n\\n\\n\\n\\n\\n\\n\\n\\n\\n\\n\\n\\n\\n\\n\\n\\n\\n\\n\\n\\n\\n\\n\\n\\n\\n\\n\\n\\n\\n\\n\\n\\n\\n\\n\\n\\n\\n\\n\\n\\n\\n\\n\\n\\n\\n\\n\\n\\n\\n\\n\\n\\n\\n\\n\\n\\n\\n\\n\\n\\n\\n\\n\\n\\n\\n\\n\\n\\n\\n\\n\\n\\n\\n\\n\\n\\n\\n\\n\\n\\n\\n\\n\\n\\n\\n\\n\\n\\n\\n\\n\\n\\n\\n\\n\\n\\n\\n\\n\\n\\n\\n\\n\\n\\n\\n\\n\\n\\n\\n\\n\\n\\n\\n\\n\\n\\n\\n\\n\\n\\n\\n\\n\\n\\n\\n\\n\\n\\n\\n\\n\\n\\n\\n\\n\\n\\n\\n\\n\\n\\n\\n\\n\\n\\n\\n\\n\\n\\n\\n\\n\\n\\n\\n\\n\\n\\n\\n\\n\\n\\n\\n\\n\\n\\n\\n\\n\\n\\n\\n\\n\\n\\n\\n\\n\\n\\n\\n\\n\\n\\n\\n\\n\\n\\n\\n\\n\\n\\n\\n\\n\\n\\n\\n\\n\\n\\n\\n\\n\\n\\n\\n\\n\\n\\n\\n\\n\\n\\n\\n\\n\\n\\n\\n\\n\\n\\n\\n\\n\\n\\n\\n\\n\\n\\n\\n\\n\\n\\n\\n\\n\\n\\n\\n\\n\\n\\n\\n\\n\\n\\n\\n\\n\\n\\n\\n\\n\\n\\n\\n\\n\\n\\n\\n\\n\\n\\n\\n\\n\\n\\n\\n\\n\\n\\n\\n\\n\\n\\n\\n\\n\\n\\n\\n\\n\\n\\n\\n\\n\\n\\n\\n\\n\\n\\n\\n\\n\\n\\n\\n\\n\\n\\n\\n\\n\\n\\n\\n\\n\\n\\n\\n\\n\\n\\n\\n\\n\\n\\n\\n\\n\\n\\n\\n\\n', 'qid': '6debe03617e03b42b0ef41eec47f3e02_0'}\n",
      "can not parse ans for res:  {'response': '\\n\\n\\n\\n\\n\\n\\n\\n\\n\\n\\n\\n\\n\\n\\n\\n\\n\\n\\n\\n\\n\\n\\n\\n\\n\\n\\n\\n\\n\\n\\n\\n\\n\\n\\n\\n\\n\\n\\n\\n\\n\\n\\n\\n\\n\\n\\n\\n\\n\\n\\n\\n\\n\\n\\n\\n\\n\\n\\n\\n\\n\\n\\n\\n\\n\\n\\n\\n\\n\\n\\n\\n\\n\\n\\n\\n\\n\\n\\n\\n\\n\\n\\n\\n\\n\\n\\n\\n\\n\\n\\n\\n\\n\\n\\n\\n\\n\\n\\n\\n\\n\\n\\n\\n\\n\\n\\n\\n\\n\\n\\n\\n\\n\\n\\n\\n\\n\\n\\n\\n\\n\\n\\n\\n\\n\\n\\n\\n\\n\\n\\n\\n\\n\\n\\n\\n\\n\\n\\n\\n\\n\\n\\n\\n\\n\\n\\n\\n\\n\\n\\n\\n\\n\\n\\n\\n\\n\\n\\n\\n\\n\\n\\n\\n\\n\\n\\n\\n\\n\\n\\n\\n\\n\\n\\n\\n\\n\\n\\n\\n\\n\\n\\n\\n\\n\\n\\n\\n\\n\\n\\n\\n\\n\\n\\n\\n\\n\\n\\n\\n\\n\\n\\n\\n\\n\\n\\n\\n\\n\\n\\n\\n\\n\\n\\n\\n\\n\\n\\n\\n\\n\\n\\n\\n\\n\\n\\n\\n\\n\\n\\n\\n\\n\\n\\n\\n\\n\\n\\n\\n\\n\\n\\n\\n\\n\\n\\n\\n\\n\\n\\n\\n\\n\\n\\n\\n\\n\\n\\n\\n\\n\\n\\n\\n\\n\\n\\n\\n\\n\\n\\n\\n\\n\\n\\n\\n\\n\\n\\n\\n\\n\\n\\n\\n\\n\\n\\n\\n\\n\\n\\n\\n\\n\\n\\n\\n\\n\\n\\n\\n\\n\\n\\n\\n\\n\\n\\n\\n\\n\\n\\n\\n\\n\\n\\n\\n\\n\\n\\n\\n\\n\\n\\n\\n\\n\\n\\n\\n\\n\\n\\n\\n\\n\\n\\n\\n\\n\\n\\n\\n\\n\\n\\n\\n\\n\\n\\n\\n\\n\\n\\n\\n\\n\\n\\n\\n\\n\\n\\n\\n\\n\\n\\n\\n\\n\\n\\n\\n\\n\\n\\n\\n\\n\\n\\n\\n\\n\\n\\n\\n\\n\\n\\n\\n\\n\\n\\n\\n\\n\\n\\n\\n\\n\\n\\n\\n\\n\\n\\n\\n\\n\\n\\n\\n\\n\\n\\n\\n\\n\\n\\n\\n\\n\\n\\n\\n\\n\\n\\n\\n\\n\\n\\n\\n\\n\\n\\n\\n\\n\\n\\n\\n\\n\\n\\n\\n\\n\\n\\n\\n\\n\\n\\n\\n\\n\\n\\n\\n\\n\\n\\n\\n\\n\\n\\n\\n\\n\\n\\n\\n\\n\\n\\n\\n\\n\\n\\n\\n\\n\\n\\n\\n\\n\\n\\n\\n\\n\\n\\n\\n\\n\\n\\n\\n\\n\\n\\n\\n\\n\\n\\n\\n\\n\\n\\n\\n\\n\\n\\n\\n', 'qid': '6debe03617e03b42b0ef41eec47f3e02_1'}\n",
      "can not parse ans for res:  {'response': '\\n\\n\\n\\n\\n\\n\\n\\n\\n\\n\\n\\n\\n\\n\\n\\n\\n\\n\\n\\n\\n\\n\\n\\n\\n\\n\\n\\n\\n\\n\\n\\n\\n\\n\\n\\n\\n\\n\\n\\n\\n\\n\\n\\n\\n\\n\\n\\n\\n\\n\\n\\n\\n\\n\\n\\n\\n\\n\\n\\n\\n\\n\\n\\n\\n\\n\\n\\n\\n\\n\\n\\n\\n\\n\\n\\n\\n\\n\\n\\n\\n\\n\\n\\n\\n\\n\\n\\n\\n\\n\\n\\n\\n\\n\\n\\n\\n\\n\\n\\n\\n\\n\\n\\n\\n\\n\\n\\n\\n\\n\\n\\n\\n\\n\\n\\n\\n\\n\\n\\n\\n\\n\\n\\n\\n\\n\\n\\n\\n\\n\\n\\n\\n\\n\\n\\n\\n\\n\\n\\n\\n\\n\\n\\n\\n\\n\\n\\n\\n\\n\\n\\n\\n\\n\\n\\n\\n\\n\\n\\n\\n\\n\\n\\n\\n\\n\\n\\n\\n\\n\\n\\n\\n\\n\\n\\n\\n\\n\\n\\n\\n\\n\\n\\n\\n\\n\\n\\n\\n\\n\\n\\n\\n\\n\\n\\n\\n\\n\\n\\n\\n\\n\\n\\n\\n\\n\\n\\n\\n\\n\\n\\n\\n\\n\\n\\n\\n\\n\\n\\n\\n\\n\\n\\n\\n\\n\\n\\n\\n\\n\\n\\n\\n\\n\\n\\n\\n\\n\\n\\n\\n\\n\\n\\n\\n\\n\\n\\n\\n\\n\\n\\n\\n\\n\\n\\n\\n\\n\\n\\n\\n\\n\\n\\n\\n\\n\\n\\n\\n\\n\\n\\n\\n\\n\\n\\n\\n\\n\\n\\n\\n\\n\\n\\n\\n\\n\\n\\n\\n\\n\\n\\n\\n\\n\\n\\n\\n\\n\\n\\n\\n\\n\\n\\n\\n\\n\\n\\n\\n\\n\\n\\n\\n\\n\\n\\n\\n\\n\\n\\n\\n\\n\\n\\n\\n\\n\\n\\n\\n\\n\\n\\n\\n\\n\\n\\n\\n\\n\\n\\n\\n\\n\\n\\n\\n\\n\\n\\n\\n\\n\\n\\n\\n\\n\\n\\n\\n\\n\\n\\n\\n\\n\\n\\n\\n\\n\\n\\n\\n\\n\\n\\n\\n\\n\\n\\n\\n\\n\\n\\n\\n\\n\\n\\n\\n\\n\\n\\n\\n\\n\\n\\n\\n\\n\\n\\n\\n\\n\\n\\n\\n\\n\\n\\n\\n\\n\\n\\n\\n\\n\\n\\n\\n\\n\\n\\n\\n\\n\\n\\n\\n\\n\\n\\n\\n\\n\\n\\n\\n\\n\\n\\n\\n\\n\\n\\n\\n\\n\\n\\n\\n\\n\\n\\n\\n\\n\\n\\n\\n\\n\\n\\n\\n\\n\\n\\n\\n\\n\\n\\n\\n\\n\\n\\n\\n\\n\\n\\n\\n\\n\\n\\n\\n\\n\\n\\n\\n\\n\\n\\n\\n\\n\\n\\n\\n\\n\\n\\n\\n\\n\\n\\n\\n\\n\\n\\n\\n\\n\\n\\n', 'qid': '6debe03617e03b42b0ef41eec47f3e02_0'}\n",
      "can not parse ans for res:  {'response': '\\n\\n\\n\\n\\n\\n\\n\\n\\n\\n\\n\\n\\n\\n\\n\\n\\n\\n\\n\\n\\n\\n\\n\\n\\n\\n\\n\\n\\n\\n\\n\\n\\n\\n\\n\\n\\n\\n\\n\\n\\n\\n\\n\\n\\n\\n\\n\\n\\n\\n\\n\\n\\n\\n\\n\\n\\n\\n\\n\\n\\n\\n\\n\\n\\n\\n\\n\\n\\n\\n\\n\\n\\n\\n\\n\\n\\n\\n\\n\\n\\n\\n\\n\\n\\n\\n\\n\\n\\n\\n\\n\\n\\n\\n\\n\\n\\n\\n\\n\\n\\n\\n\\n\\n\\n\\n\\n\\n\\n\\n\\n\\n\\n\\n\\n\\n\\n\\n\\n\\n\\n\\n\\n\\n\\n\\n\\n\\n\\n\\n\\n\\n\\n\\n\\n\\n\\n\\n\\n\\n\\n\\n\\n\\n\\n\\n\\n\\n\\n\\n\\n\\n\\n\\n\\n\\n\\n\\n\\n\\n\\n\\n\\n\\n\\n\\n\\n\\n\\n\\n\\n\\n\\n\\n\\n\\n\\n\\n\\n\\n\\n\\n\\n\\n\\n\\n\\n\\n\\n\\n\\n\\n\\n\\n\\n\\n\\n\\n\\n\\n\\n\\n\\n\\n\\n\\n\\n\\n\\n\\n\\n\\n\\n\\n\\n\\n\\n\\n\\n\\n\\n\\n\\n\\n\\n\\n\\n\\n\\n\\n\\n\\n\\n\\n\\n\\n\\n\\n\\n\\n\\n\\n\\n\\n\\n\\n\\n\\n\\n\\n\\n\\n\\n\\n\\n\\n\\n\\n\\n\\n\\n\\n\\n\\n\\n\\n\\n\\n\\n\\n\\n\\n\\n\\n\\n\\n\\n\\n\\n\\n\\n\\n\\n\\n\\n\\n\\n\\n\\n\\n\\n\\n\\n\\n\\n\\n\\n\\n\\n\\n\\n\\n\\n\\n\\n\\n\\n\\n\\n\\n\\n\\n\\n\\n\\n\\n\\n\\n\\n\\n\\n\\n\\n\\n\\n\\n\\n\\n\\n\\n\\n\\n\\n\\n\\n\\n\\n\\n\\n\\n\\n\\n\\n\\n\\n\\n\\n\\n\\n\\n\\n\\n\\n\\n\\n\\n\\n\\n\\n\\n\\n\\n\\n\\n\\n\\n\\n\\n\\n\\n\\n\\n\\n\\n\\n\\n\\n\\n\\n\\n\\n\\n\\n\\n\\n\\n\\n\\n\\n\\n\\n\\n\\n\\n\\n\\n\\n\\n\\n\\n\\n\\n\\n\\n\\n\\n\\n\\n\\n\\n\\n\\n\\n\\n\\n\\n\\n\\n\\n\\n\\n\\n\\n\\n\\n\\n\\n\\n\\n\\n\\n\\n\\n\\n\\n\\n\\n\\n\\n\\n\\n\\n\\n\\n\\n\\n\\n\\n\\n\\n\\n\\n\\n\\n\\n\\n\\n\\n\\n\\n\\n\\n\\n\\n\\n\\n\\n\\n\\n\\n\\n\\n\\n\\n\\n\\n\\n\\n\\n\\n\\n\\n\\n\\n\\n\\n\\n\\n\\n\\n\\n\\n\\n\\n\\n\\n\\n\\n\\n\\n', 'qid': '6debe03617e03b42b0ef41eec47f3e02_1'}\n",
      "can not parse ans for res:  {'response': '\\n\\n\\n\\n\\n\\n\\n\\n\\n\\n\\n\\n\\n\\n\\n\\n\\n\\n\\n\\n\\n\\n\\n\\n\\n\\n\\n\\n\\n\\n\\n\\n\\n\\n\\n\\n\\n\\n\\n\\n\\n\\n\\n\\n\\n\\n\\n\\n\\n\\n\\n\\n\\n\\n\\n\\n\\n\\n\\n\\n\\n\\n\\n\\n\\n\\n\\n\\n\\n\\n\\n\\n\\n\\n\\n\\n\\n\\n\\n\\n\\n\\n\\n\\n\\n\\n\\n\\n\\n\\n\\n\\n\\n\\n\\n\\n\\n\\n\\n\\n\\n\\n\\n\\n\\n\\n\\n\\n\\n\\n\\n\\n\\n\\n\\n\\n\\n\\n\\n\\n\\n\\n\\n\\n\\n\\n\\n\\n\\n\\n\\n\\n\\n\\n\\n\\n\\n\\n\\n\\n\\n\\n\\n\\n\\n\\n\\n\\n\\n\\n\\n\\n\\n\\n\\n\\n\\n\\n\\n\\n\\n\\n\\n\\n\\n\\n\\n\\n\\n\\n\\n\\n\\n\\n\\n\\n\\n\\n\\n\\n\\n\\n\\n\\n\\n\\n\\n\\n\\n\\n\\n\\n\\n\\n\\n\\n\\n\\n\\n\\n\\n\\n\\n\\n\\n\\n\\n\\n\\n\\n\\n\\n\\n\\n\\n\\n\\n\\n\\n\\n\\n\\n\\n\\n\\n\\n\\n\\n\\n\\n\\n\\n\\n\\n\\n\\n\\n\\n\\n\\n\\n\\n\\n\\n\\n\\n\\n\\n\\n\\n\\n\\n\\n\\n\\n\\n\\n\\n\\n\\n\\n\\n\\n\\n\\n\\n\\n\\n\\n\\n\\n\\n\\n\\n\\n\\n\\n\\n\\n\\n\\n\\n\\n\\n\\n\\n\\n\\n\\n\\n\\n\\n\\n\\n\\n\\n\\n\\n\\n\\n\\n\\n\\n\\n\\n\\n\\n\\n\\n\\n\\n\\n\\n\\n\\n\\n\\n\\n\\n\\n\\n\\n\\n\\n\\n\\n\\n\\n\\n\\n\\n\\n\\n\\n\\n\\n\\n\\n\\n\\n\\n\\n\\n\\n\\n\\n\\n\\n\\n\\n\\n\\n\\n\\n\\n\\n\\n\\n\\n\\n\\n\\n\\n\\n\\n\\n\\n\\n\\n\\n\\n\\n\\n\\n\\n\\n\\n\\n\\n\\n\\n\\n\\n\\n\\n\\n\\n\\n\\n\\n\\n\\n\\n\\n\\n\\n\\n\\n\\n\\n\\n\\n\\n\\n\\n\\n\\n\\n\\n\\n\\n\\n\\n\\n\\n\\n\\n\\n\\n\\n\\n\\n\\n\\n\\n\\n\\n\\n\\n\\n\\n\\n\\n\\n\\n\\n\\n\\n\\n\\n\\n\\n\\n\\n\\n\\n\\n\\n\\n\\n\\n\\n\\n\\n\\n\\n\\n\\n\\n\\n\\n\\n\\n\\n\\n\\n\\n\\n\\n\\n\\n\\n\\n\\n\\n\\n\\n\\n\\n\\n\\n\\n\\n\\n\\n\\n\\n\\n\\n\\n\\n\\n\\n\\n\\n\\n\\n\\n\\n\\n', 'qid': '6debe03617e03b42b0ef41eec47f3e02_2'}\n",
      "can not parse ans for res:  {'response': '\\n\\n\\n\\n\\n\\n\\n\\n\\n\\n\\n\\n\\n\\n\\n\\n\\n\\n\\n\\n\\n\\n\\n\\n\\n\\n\\n\\n\\n\\n\\n\\n\\n\\n\\n\\n\\n\\n\\n\\n\\n\\n\\n\\n\\n\\n\\n\\n\\n\\n\\n\\n\\n\\n\\n\\n\\n\\n\\n\\n\\n\\n\\n\\n\\n\\n\\n\\n\\n\\n\\n\\n\\n\\n\\n\\n\\n\\n\\n\\n\\n\\n\\n\\n\\n\\n\\n\\n\\n\\n\\n\\n\\n\\n\\n\\n\\n\\n\\n\\n\\n\\n\\n\\n\\n\\n\\n\\n\\n\\n\\n\\n\\n\\n\\n\\n\\n\\n\\n\\n\\n\\n\\n\\n\\n\\n\\n\\n\\n\\n\\n\\n\\n\\n\\n\\n\\n\\n\\n\\n\\n\\n\\n\\n\\n\\n\\n\\n\\n\\n\\n\\n\\n\\n\\n\\n\\n\\n\\n\\n\\n\\n\\n\\n\\n\\n\\n\\n\\n\\n\\n\\n\\n\\n\\n\\n\\n\\n\\n\\n\\n\\n\\n\\n\\n\\n\\n\\n\\n\\n\\n\\n\\n\\n\\n\\n\\n\\n\\n\\n\\n\\n\\n\\n\\n\\n\\n\\n\\n\\n\\n\\n\\n\\n\\n\\n\\n\\n\\n\\n\\n\\n\\n\\n\\n\\n\\n\\n\\n\\n\\n\\n\\n\\n\\n\\n\\n\\n\\n\\n\\n\\n\\n\\n\\n\\n\\n\\n\\n\\n\\n\\n\\n\\n\\n\\n\\n\\n\\n\\n\\n\\n\\n\\n\\n\\n\\n\\n\\n\\n\\n\\n\\n\\n\\n\\n\\n\\n\\n\\n\\n\\n\\n\\n\\n\\n\\n\\n\\n\\n\\n\\n\\n\\n\\n\\n\\n\\n\\n\\n\\n\\n\\n\\n\\n\\n\\n\\n\\n\\n\\n\\n\\n\\n\\n\\n\\n\\n\\n\\n\\n\\n\\n\\n\\n\\n\\n\\n\\n\\n\\n\\n\\n\\n\\n\\n\\n\\n\\n\\n\\n\\n\\n\\n\\n\\n\\n\\n\\n\\n\\n\\n\\n\\n\\n\\n\\n\\n\\n\\n\\n\\n\\n\\n\\n\\n\\n\\n\\n\\n\\n\\n\\n\\n\\n\\n\\n\\n\\n\\n\\n\\n\\n\\n\\n\\n\\n\\n\\n\\n\\n\\n\\n\\n\\n\\n\\n\\n\\n\\n\\n\\n\\n\\n\\n\\n\\n\\n\\n\\n\\n\\n\\n\\n\\n\\n\\n\\n\\n\\n\\n\\n\\n\\n\\n\\n\\n\\n\\n\\n\\n\\n\\n\\n\\n\\n\\n\\n\\n\\n\\n\\n\\n\\n\\n\\n\\n\\n\\n\\n\\n\\n\\n\\n\\n\\n\\n\\n\\n\\n\\n\\n\\n\\n\\n\\n\\n\\n\\n\\n\\n\\n\\n\\n\\n\\n\\n\\n\\n\\n\\n\\n\\n\\n\\n\\n\\n\\n\\n\\n\\n\\n\\n\\n\\n\\n\\n\\n\\n\\n', 'qid': '6debe03617e03b42b0ef41eec47f3e02_0'}\n",
      "can not parse ans for res:  {'response': '\\n\\n\\n\\n\\n\\n\\n\\n\\n\\n\\n\\n\\n\\n\\n\\n\\n\\n\\n\\n\\n\\n\\n\\n\\n\\n\\n\\n\\n\\n\\n\\n\\n\\n\\n\\n\\n\\n\\n\\n\\n\\n\\n\\n\\n\\n\\n\\n\\n\\n\\n\\n\\n\\n\\n\\n\\n\\n\\n\\n\\n\\n\\n\\n\\n\\n\\n\\n\\n\\n\\n\\n\\n\\n\\n\\n\\n\\n\\n\\n\\n\\n\\n\\n\\n\\n\\n\\n\\n\\n\\n\\n\\n\\n\\n\\n\\n\\n\\n\\n\\n\\n\\n\\n\\n\\n\\n\\n\\n\\n\\n\\n\\n\\n\\n\\n\\n\\n\\n\\n\\n\\n\\n\\n\\n\\n\\n\\n\\n\\n\\n\\n\\n\\n\\n\\n\\n\\n\\n\\n\\n\\n\\n\\n\\n\\n\\n\\n\\n\\n\\n\\n\\n\\n\\n\\n\\n\\n\\n\\n\\n\\n\\n\\n\\n\\n\\n\\n\\n\\n\\n\\n\\n\\n\\n\\n\\n\\n\\n\\n\\n\\n\\n\\n\\n\\n\\n\\n\\n\\n\\n\\n\\n\\n\\n\\n\\n\\n\\n\\n\\n\\n\\n\\n\\n\\n\\n\\n\\n\\n\\n\\n\\n\\n\\n\\n\\n\\n\\n\\n\\n\\n\\n\\n\\n\\n\\n\\n\\n\\n\\n\\n\\n\\n\\n\\n\\n\\n\\n\\n\\n\\n\\n\\n\\n\\n\\n\\n\\n\\n\\n\\n\\n\\n\\n\\n\\n\\n\\n\\n\\n\\n\\n\\n\\n\\n\\n\\n\\n\\n\\n\\n\\n\\n\\n\\n\\n\\n\\n\\n\\n\\n\\n\\n\\n\\n\\n\\n\\n\\n\\n\\n\\n\\n\\n\\n\\n\\n\\n\\n\\n\\n\\n\\n\\n\\n\\n\\n\\n\\n\\n\\n\\n\\n\\n\\n\\n\\n\\n\\n\\n\\n\\n\\n\\n\\n\\n\\n\\n\\n\\n\\n\\n\\n\\n\\n\\n\\n\\n\\n\\n\\n\\n\\n\\n\\n\\n\\n\\n\\n\\n\\n\\n\\n\\n\\n\\n\\n\\n\\n\\n\\n\\n\\n\\n\\n\\n\\n\\n\\n\\n\\n\\n\\n\\n\\n\\n\\n\\n\\n\\n\\n\\n\\n\\n\\n\\n\\n\\n\\n\\n\\n\\n\\n\\n\\n\\n\\n\\n\\n\\n\\n\\n\\n\\n\\n\\n\\n\\n\\n\\n\\n\\n\\n\\n\\n\\n\\n\\n\\n\\n\\n\\n\\n\\n\\n\\n\\n\\n\\n\\n\\n\\n\\n\\n\\n\\n\\n\\n\\n\\n\\n\\n\\n\\n\\n\\n\\n\\n\\n\\n\\n\\n\\n\\n\\n\\n\\n\\n\\n\\n\\n\\n\\n\\n\\n\\n\\n\\n\\n\\n\\n\\n\\n\\n\\n\\n\\n\\n\\n\\n\\n\\n\\n\\n\\n\\n\\n\\n\\n\\n\\n\\n\\n\\n\\n\\n\\n\\n\\n', 'qid': '6debe03617e03b42b0ef41eec47f3e02_1'}\n",
      "can not parse ans for res:  {'response': '\\n\\n\\n\\n\\n\\n\\n\\n\\n\\n\\n\\n\\n\\n\\n\\n\\n\\n\\n\\n\\n\\n\\n\\n\\n\\n\\n\\n\\n\\n\\n\\n\\n\\n\\n\\n\\n\\n\\n\\n\\n\\n\\n\\n\\n\\n\\n\\n\\n\\n\\n\\n\\n\\n\\n\\n\\n\\n\\n\\n\\n\\n\\n\\n\\n\\n\\n\\n\\n\\n\\n\\n\\n\\n\\n\\n\\n\\n\\n\\n\\n\\n\\n\\n\\n\\n\\n\\n\\n\\n\\n\\n\\n\\n\\n\\n\\n\\n\\n\\n\\n\\n\\n\\n\\n\\n\\n\\n\\n\\n\\n\\n\\n\\n\\n\\n\\n\\n\\n\\n\\n\\n\\n\\n\\n\\n\\n\\n\\n\\n\\n\\n\\n\\n\\n\\n\\n\\n\\n\\n\\n\\n\\n\\n\\n\\n\\n\\n\\n\\n\\n\\n\\n\\n\\n\\n\\n\\n\\n\\n\\n\\n\\n\\n\\n\\n\\n\\n\\n\\n\\n\\n\\n\\n\\n\\n\\n\\n\\n\\n\\n\\n\\n\\n\\n\\n\\n\\n\\n\\n\\n\\n\\n\\n\\n\\n\\n\\n\\n\\n\\n\\n\\n\\n\\n\\n\\n\\n\\n\\n\\n\\n\\n\\n\\n\\n\\n\\n\\n\\n\\n\\n\\n\\n\\n\\n\\n\\n\\n\\n\\n\\n\\n\\n\\n\\n\\n\\n\\n\\n\\n\\n\\n\\n\\n\\n\\n\\n\\n\\n\\n\\n\\n\\n\\n\\n\\n\\n\\n\\n\\n\\n\\n\\n\\n\\n\\n\\n\\n\\n\\n\\n\\n\\n\\n\\n\\n\\n\\n\\n\\n\\n\\n\\n\\n\\n\\n\\n\\n\\n\\n\\n\\n\\n\\n\\n\\n\\n\\n\\n\\n\\n\\n\\n\\n\\n\\n\\n\\n\\n\\n\\n\\n\\n\\n\\n\\n\\n\\n\\n\\n\\n\\n\\n\\n\\n\\n\\n\\n\\n\\n\\n\\n\\n\\n\\n\\n\\n\\n\\n\\n\\n\\n\\n\\n\\n\\n\\n\\n\\n\\n\\n\\n\\n\\n\\n\\n\\n\\n\\n\\n\\n\\n\\n\\n\\n\\n\\n\\n\\n\\n\\n\\n\\n\\n\\n\\n\\n\\n\\n\\n\\n\\n\\n\\n\\n\\n\\n\\n\\n\\n\\n\\n\\n\\n\\n\\n\\n\\n\\n\\n\\n\\n\\n\\n\\n\\n\\n\\n\\n\\n\\n\\n\\n\\n\\n\\n\\n\\n\\n\\n\\n\\n\\n\\n\\n\\n\\n\\n\\n\\n\\n\\n\\n\\n\\n\\n\\n\\n\\n\\n\\n\\n\\n\\n\\n\\n\\n\\n\\n\\n\\n\\n\\n\\n\\n\\n\\n\\n\\n\\n\\n\\n\\n\\n\\n\\n\\n\\n\\n\\n\\n\\n\\n\\n\\n\\n\\n\\n\\n\\n\\n\\n\\n\\n\\n\\n\\n\\n\\n\\n\\n\\n\\n\\n\\n\\n\\n\\n\\n', 'qid': '6debe03617e03b42b0ef41eec47f3e02_2'}\n",
      "can not parse ans for res:  {'response': '\\n\\n\\n\\n\\n\\n\\n\\n\\n\\n\\n\\n\\n\\n\\n\\n\\n\\n\\n\\n\\n\\n\\n\\n\\n\\n\\n\\n\\n\\n\\n\\n\\n\\n\\n\\n\\n\\n\\n\\n\\n\\n\\n\\n\\n\\n\\n\\n\\n\\n\\n\\n\\n\\n\\n\\n\\n\\n\\n\\n\\n\\n\\n\\n\\n\\n\\n\\n\\n\\n\\n\\n\\n\\n\\n\\n\\n\\n\\n\\n\\n\\n\\n\\n\\n\\n\\n\\n\\n\\n\\n\\n\\n\\n\\n\\n\\n\\n\\n\\n\\n\\n\\n\\n\\n\\n\\n\\n\\n\\n\\n\\n\\n\\n\\n\\n\\n\\n\\n\\n\\n\\n\\n\\n\\n\\n\\n\\n\\n\\n\\n\\n\\n\\n\\n\\n\\n\\n\\n\\n\\n\\n\\n\\n\\n\\n\\n\\n\\n\\n\\n\\n\\n\\n\\n\\n\\n\\n\\n\\n\\n\\n\\n\\n\\n\\n\\n\\n\\n\\n\\n\\n\\n\\n\\n\\n\\n\\n\\n\\n\\n\\n\\n\\n\\n\\n\\n\\n\\n\\n\\n\\n\\n\\n\\n\\n\\n\\n\\n\\n\\n\\n\\n\\n\\n\\n\\n\\n\\n\\n\\n\\n\\n\\n\\n\\n\\n\\n\\n\\n\\n\\n\\n\\n\\n\\n\\n\\n\\n\\n\\n\\n\\n\\n\\n\\n\\n\\n\\n\\n\\n\\n\\n\\n\\n\\n\\n\\n\\n\\n\\n\\n\\n\\n\\n\\n\\n\\n\\n\\n\\n\\n\\n\\n\\n\\n\\n\\n\\n\\n\\n\\n\\n\\n\\n\\n\\n\\n\\n\\n\\n\\n\\n\\n\\n\\n\\n\\n\\n\\n\\n\\n\\n\\n\\n\\n\\n\\n\\n\\n\\n\\n\\n\\n\\n\\n\\n\\n\\n\\n\\n\\n\\n\\n\\n\\n\\n\\n\\n\\n\\n\\n\\n\\n\\n\\n\\n\\n\\n\\n\\n\\n\\n\\n\\n\\n\\n\\n\\n\\n\\n\\n\\n\\n\\n\\n\\n\\n\\n\\n\\n\\n\\n\\n\\n\\n\\n\\n\\n\\n\\n\\n\\n\\n\\n\\n\\n\\n\\n\\n\\n\\n\\n\\n\\n\\n\\n\\n\\n\\n\\n\\n\\n\\n\\n\\n\\n\\n\\n\\n\\n\\n\\n\\n\\n\\n\\n\\n\\n\\n\\n\\n\\n\\n\\n\\n\\n\\n\\n\\n\\n\\n\\n\\n\\n\\n\\n\\n\\n\\n\\n\\n\\n\\n\\n\\n\\n\\n\\n\\n\\n\\n\\n\\n\\n\\n\\n\\n\\n\\n\\n\\n\\n\\n\\n\\n\\n\\n\\n\\n\\n\\n\\n\\n\\n\\n\\n\\n\\n\\n\\n\\n\\n\\n\\n\\n\\n\\n\\n\\n\\n\\n\\n\\n\\n\\n\\n\\n\\n\\n\\n\\n\\n\\n\\n\\n\\n\\n\\n\\n\\n\\n\\n\\n\\n\\n\\n\\n\\n\\n', 'qid': 'b04c37fb905c9a6035f041441949b234_0'}\n",
      "can not parse ans for res:  {'response': '\\n\\n\\n\\n\\n\\n\\n\\n\\n\\n\\n\\n\\n\\n\\n\\n\\n\\n\\n\\n\\n\\n\\n\\n\\n\\n\\n\\n\\n\\n\\n\\n\\n\\n\\n\\n\\n\\n\\n\\n\\n\\n\\n\\n\\n\\n\\n\\n\\n\\n\\n\\n\\n\\n\\n\\n\\n\\n\\n\\n\\n\\n\\n\\n\\n\\n\\n\\n\\n\\n\\n\\n\\n\\n\\n\\n\\n\\n\\n\\n\\n\\n\\n\\n\\n\\n\\n\\n\\n\\n\\n\\n\\n\\n\\n\\n\\n\\n\\n\\n\\n\\n\\n\\n\\n\\n\\n\\n\\n\\n\\n\\n\\n\\n\\n\\n\\n\\n\\n\\n\\n\\n\\n\\n\\n\\n\\n\\n\\n\\n\\n\\n\\n\\n\\n\\n\\n\\n\\n\\n\\n\\n\\n\\n\\n\\n\\n\\n\\n\\n\\n\\n\\n\\n\\n\\n\\n\\n\\n\\n\\n\\n\\n\\n\\n\\n\\n\\n\\n\\n\\n\\n\\n\\n\\n\\n\\n\\n\\n\\n\\n\\n\\n\\n\\n\\n\\n\\n\\n\\n\\n\\n\\n\\n\\n\\n\\n\\n\\n\\n\\n\\n\\n\\n\\n\\n\\n\\n\\n\\n\\n\\n\\n\\n\\n\\n\\n\\n\\n\\n\\n\\n\\n\\n\\n\\n\\n\\n\\n\\n\\n\\n\\n\\n\\n\\n\\n\\n\\n\\n\\n\\n\\n\\n\\n\\n\\n\\n\\n\\n\\n\\n\\n\\n\\n\\n\\n\\n\\n\\n\\n\\n\\n\\n\\n\\n\\n\\n\\n\\n\\n\\n\\n\\n\\n\\n\\n\\n\\n\\n\\n\\n\\n\\n\\n\\n\\n\\n\\n\\n\\n\\n\\n\\n\\n\\n\\n\\n\\n\\n\\n\\n\\n\\n\\n\\n\\n\\n\\n\\n\\n\\n\\n\\n\\n\\n\\n\\n\\n\\n\\n\\n\\n\\n\\n\\n\\n\\n\\n\\n\\n\\n\\n\\n\\n\\n\\n\\n\\n\\n\\n\\n\\n\\n\\n\\n\\n\\n\\n\\n\\n\\n\\n\\n\\n\\n\\n\\n\\n\\n\\n\\n\\n\\n\\n\\n\\n\\n\\n\\n\\n\\n\\n\\n\\n\\n\\n\\n\\n\\n\\n\\n\\n\\n\\n\\n\\n\\n\\n\\n\\n\\n\\n\\n\\n\\n\\n\\n\\n\\n\\n\\n\\n\\n\\n\\n\\n\\n\\n\\n\\n\\n\\n\\n\\n\\n\\n\\n\\n\\n\\n\\n\\n\\n\\n\\n\\n\\n\\n\\n\\n\\n\\n\\n\\n\\n\\n\\n\\n\\n\\n\\n\\n\\n\\n\\n\\n\\n\\n\\n\\n\\n\\n\\n\\n\\n\\n\\n\\n\\n\\n\\n\\n\\n\\n\\n\\n\\n\\n\\n\\n\\n\\n\\n\\n\\n\\n\\n\\n\\n\\n\\n\\n\\n\\n\\n\\n\\n\\n\\n\\n\\n\\n\\n\\n\\n\\n\\n\\n\\n', 'qid': 'b04c37fb905c9a6035f041441949b234_0'}\n",
      "can not parse ans for res:  {'response': '\\n\\n\\n\\n\\n\\n\\n\\n\\n\\n\\n\\n\\n\\n\\n\\n\\n\\n\\n\\n\\n\\n\\n\\n\\n\\n\\n\\n\\n\\n\\n\\n\\n\\n\\n\\n\\n\\n\\n\\n\\n\\n\\n\\n\\n\\n\\n\\n\\n\\n\\n\\n\\n\\n\\n\\n\\n\\n\\n\\n\\n\\n\\n\\n\\n\\n\\n\\n\\n\\n\\n\\n\\n\\n\\n\\n\\n\\n\\n\\n\\n\\n\\n\\n\\n\\n\\n\\n\\n\\n\\n\\n\\n\\n\\n\\n\\n\\n\\n\\n\\n\\n\\n\\n\\n\\n\\n\\n\\n\\n\\n\\n\\n\\n\\n\\n\\n\\n\\n\\n\\n\\n\\n\\n\\n\\n\\n\\n\\n\\n\\n\\n\\n\\n\\n\\n\\n\\n\\n\\n\\n\\n\\n\\n\\n\\n\\n\\n\\n\\n\\n\\n\\n\\n\\n\\n\\n\\n\\n\\n\\n\\n\\n\\n\\n\\n\\n\\n\\n\\n\\n\\n\\n\\n\\n\\n\\n\\n\\n\\n\\n\\n\\n\\n\\n\\n\\n\\n\\n\\n\\n\\n\\n\\n\\n\\n\\n\\n\\n\\n\\n\\n\\n\\n\\n\\n\\n\\n\\n\\n\\n\\n\\n\\n\\n\\n\\n\\n\\n\\n\\n\\n\\n\\n\\n\\n\\n\\n\\n\\n\\n\\n\\n\\n\\n\\n\\n\\n\\n\\n\\n\\n\\n\\n\\n\\n\\n\\n\\n\\n\\n\\n\\n\\n\\n\\n\\n\\n\\n\\n\\n\\n\\n\\n\\n\\n\\n\\n\\n\\n\\n\\n\\n\\n\\n\\n\\n\\n\\n\\n\\n\\n\\n\\n\\n\\n\\n\\n\\n\\n\\n\\n\\n\\n\\n\\n\\n\\n\\n\\n\\n\\n\\n\\n\\n\\n\\n\\n\\n\\n\\n\\n\\n\\n\\n\\n\\n\\n\\n\\n\\n\\n\\n\\n\\n\\n\\n\\n\\n\\n\\n\\n\\n\\n\\n\\n\\n\\n\\n\\n\\n\\n\\n\\n\\n\\n\\n\\n\\n\\n\\n\\n\\n\\n\\n\\n\\n\\n\\n\\n\\n\\n\\n\\n\\n\\n\\n\\n\\n\\n\\n\\n\\n\\n\\n\\n\\n\\n\\n\\n\\n\\n\\n\\n\\n\\n\\n\\n\\n\\n\\n\\n\\n\\n\\n\\n\\n\\n\\n\\n\\n\\n\\n\\n\\n\\n\\n\\n\\n\\n\\n\\n\\n\\n\\n\\n\\n\\n\\n\\n\\n\\n\\n\\n\\n\\n\\n\\n\\n\\n\\n\\n\\n\\n\\n\\n\\n\\n\\n\\n\\n\\n\\n\\n\\n\\n\\n\\n\\n\\n\\n\\n\\n\\n\\n\\n\\n\\n\\n\\n\\n\\n\\n\\n\\n\\n\\n\\n\\n\\n\\n\\n\\n\\n\\n\\n\\n\\n\\n\\n\\n\\n\\n\\n\\n\\n\\n\\n\\n\\n\\n\\n\\n\\n\\n\\n\\n\\n\\n\\n', 'qid': 'b04c37fb905c9a6035f041441949b234_2'}\n",
      "can not parse ans for res:  {'response': '\\n\\n\\n\\n\\n\\n\\n\\n\\n\\n\\n\\n\\n\\n\\n\\n\\n\\n\\n\\n\\n\\n\\n\\n\\n\\n\\n\\n\\n\\n\\n\\n\\n\\n\\n\\n\\n\\n\\n\\n\\n\\n\\n\\n\\n\\n\\n\\n\\n\\n\\n\\n\\n\\n\\n\\n\\n\\n\\n\\n\\n\\n\\n\\n\\n\\n\\n\\n\\n\\n\\n\\n\\n\\n\\n\\n\\n\\n\\n\\n\\n\\n\\n\\n\\n\\n\\n\\n\\n\\n\\n\\n\\n\\n\\n\\n\\n\\n\\n\\n\\n\\n\\n\\n\\n\\n\\n\\n\\n\\n\\n\\n\\n\\n\\n\\n\\n\\n\\n\\n\\n\\n\\n\\n\\n\\n\\n\\n\\n\\n\\n\\n\\n\\n\\n\\n\\n\\n\\n\\n\\n\\n\\n\\n\\n\\n\\n\\n\\n\\n\\n\\n\\n\\n\\n\\n\\n\\n\\n\\n\\n\\n\\n\\n\\n\\n\\n\\n\\n\\n\\n\\n\\n\\n\\n\\n\\n\\n\\n\\n\\n\\n\\n\\n\\n\\n\\n\\n\\n\\n\\n\\n\\n\\n\\n\\n\\n\\n\\n\\n\\n\\n\\n\\n\\n\\n\\n\\n\\n\\n\\n\\n\\n\\n\\n\\n\\n\\n\\n\\n\\n\\n\\n\\n\\n\\n\\n\\n\\n\\n\\n\\n\\n\\n\\n\\n\\n\\n\\n\\n\\n\\n\\n\\n\\n\\n\\n\\n\\n\\n\\n\\n\\n\\n\\n\\n\\n\\n\\n\\n\\n\\n\\n\\n\\n\\n\\n\\n\\n\\n\\n\\n\\n\\n\\n\\n\\n\\n\\n\\n\\n\\n\\n\\n\\n\\n\\n\\n\\n\\n\\n\\n\\n\\n\\n\\n\\n\\n\\n\\n\\n\\n\\n\\n\\n\\n\\n\\n\\n\\n\\n\\n\\n\\n\\n\\n\\n\\n\\n\\n\\n\\n\\n\\n\\n\\n\\n\\n\\n\\n\\n\\n\\n\\n\\n\\n\\n\\n\\n\\n\\n\\n\\n\\n\\n\\n\\n\\n\\n\\n\\n\\n\\n\\n\\n\\n\\n\\n\\n\\n\\n\\n\\n\\n\\n\\n\\n\\n\\n\\n\\n\\n\\n\\n\\n\\n\\n\\n\\n\\n\\n\\n\\n\\n\\n\\n\\n\\n\\n\\n\\n\\n\\n\\n\\n\\n\\n\\n\\n\\n\\n\\n\\n\\n\\n\\n\\n\\n\\n\\n\\n\\n\\n\\n\\n\\n\\n\\n\\n\\n\\n\\n\\n\\n\\n\\n\\n\\n\\n\\n\\n\\n\\n\\n\\n\\n\\n\\n\\n\\n\\n\\n\\n\\n\\n\\n\\n\\n\\n\\n\\n\\n\\n\\n\\n\\n\\n\\n\\n\\n\\n\\n\\n\\n\\n\\n\\n\\n\\n\\n\\n\\n\\n\\n\\n\\n\\n\\n\\n\\n\\n\\n\\n\\n\\n\\n\\n\\n\\n\\n\\n\\n\\n\\n\\n\\n\\n\\n\\n\\n', 'qid': 'b04c37fb905c9a6035f041441949b234_0'}\n",
      "can not parse ans for res:  {'response': '\\n\\n\\n\\n\\n\\n\\n\\n\\n\\n\\n\\n\\n\\n\\n\\n\\n\\n\\n\\n\\n\\n\\n\\n\\n\\n\\n\\n\\n\\n\\n\\n\\n\\n\\n\\n\\n\\n\\n\\n\\n\\n\\n\\n\\n\\n\\n\\n\\n\\n\\n\\n\\n\\n\\n\\n\\n\\n\\n\\n\\n\\n\\n\\n\\n\\n\\n\\n\\n\\n\\n\\n\\n\\n\\n\\n\\n\\n\\n\\n\\n\\n\\n\\n\\n\\n\\n\\n\\n\\n\\n\\n\\n\\n\\n\\n\\n\\n\\n\\n\\n\\n\\n\\n\\n\\n\\n\\n\\n\\n\\n\\n\\n\\n\\n\\n\\n\\n\\n\\n\\n\\n\\n\\n\\n\\n\\n\\n\\n\\n\\n\\n\\n\\n\\n\\n\\n\\n\\n\\n\\n\\n\\n\\n\\n\\n\\n\\n\\n\\n\\n\\n\\n\\n\\n\\n\\n\\n\\n\\n\\n\\n\\n\\n\\n\\n\\n\\n\\n\\n\\n\\n\\n\\n\\n\\n\\n\\n\\n\\n\\n\\n\\n\\n\\n\\n\\n\\n\\n\\n\\n\\n\\n\\n\\n\\n\\n\\n\\n\\n\\n\\n\\n\\n\\n\\n\\n\\n\\n\\n\\n\\n\\n\\n\\n\\n\\n\\n\\n\\n\\n\\n\\n\\n\\n\\n\\n\\n\\n\\n\\n\\n\\n\\n\\n\\n\\n\\n\\n\\n\\n\\n\\n\\n\\n\\n\\n\\n\\n\\n\\n\\n\\n\\n\\n\\n\\n\\n\\n\\n\\n\\n\\n\\n\\n\\n\\n\\n\\n\\n\\n\\n\\n\\n\\n\\n\\n\\n\\n\\n\\n\\n\\n\\n\\n\\n\\n\\n\\n\\n\\n\\n\\n\\n\\n\\n\\n\\n\\n\\n\\n\\n\\n\\n\\n\\n\\n\\n\\n\\n\\n\\n\\n\\n\\n\\n\\n\\n\\n\\n\\n\\n\\n\\n\\n\\n\\n\\n\\n\\n\\n\\n\\n\\n\\n\\n\\n\\n\\n\\n\\n\\n\\n\\n\\n\\n\\n\\n\\n\\n\\n\\n\\n\\n\\n\\n\\n\\n\\n\\n\\n\\n\\n\\n\\n\\n\\n\\n\\n\\n\\n\\n\\n\\n\\n\\n\\n\\n\\n\\n\\n\\n\\n\\n\\n\\n\\n\\n\\n\\n\\n\\n\\n\\n\\n\\n\\n\\n\\n\\n\\n\\n\\n\\n\\n\\n\\n\\n\\n\\n\\n\\n\\n\\n\\n\\n\\n\\n\\n\\n\\n\\n\\n\\n\\n\\n\\n\\n\\n\\n\\n\\n\\n\\n\\n\\n\\n\\n\\n\\n\\n\\n\\n\\n\\n\\n\\n\\n\\n\\n\\n\\n\\n\\n\\n\\n\\n\\n\\n\\n\\n\\n\\n\\n\\n\\n\\n\\n\\n\\n\\n\\n\\n\\n\\n\\n\\n\\n\\n\\n\\n\\n\\n\\n\\n\\n\\n\\n\\n\\n\\n\\n\\n\\n\\n\\n\\n\\n\\n\\n', 'qid': 'b04c37fb905c9a6035f041441949b234_1'}\n",
      "can not parse ans for res:  {'response': '\\n\\n\\n\\n\\n\\n\\n\\n\\n\\n\\n\\n\\n\\n\\n\\n\\n\\n\\n\\n\\n\\n\\n\\n\\n\\n\\n\\n\\n\\n\\n\\n\\n\\n\\n\\n\\n\\n\\n\\n\\n\\n\\n\\n\\n\\n\\n\\n\\n\\n\\n\\n\\n\\n\\n\\n\\n\\n\\n\\n\\n\\n\\n\\n\\n\\n\\n\\n\\n\\n\\n\\n\\n\\n\\n\\n\\n\\n\\n\\n\\n\\n\\n\\n\\n\\n\\n\\n\\n\\n\\n\\n\\n\\n\\n\\n\\n\\n\\n\\n\\n\\n\\n\\n\\n\\n\\n\\n\\n\\n\\n\\n\\n\\n\\n\\n\\n\\n\\n\\n\\n\\n\\n\\n\\n\\n\\n\\n\\n\\n\\n\\n\\n\\n\\n\\n\\n\\n\\n\\n\\n\\n\\n\\n\\n\\n\\n\\n\\n\\n\\n\\n\\n\\n\\n\\n\\n\\n\\n\\n\\n\\n\\n\\n\\n\\n\\n\\n\\n\\n\\n\\n\\n\\n\\n\\n\\n\\n\\n\\n\\n\\n\\n\\n\\n\\n\\n\\n\\n\\n\\n\\n\\n\\n\\n\\n\\n\\n\\n\\n\\n\\n\\n\\n\\n\\n\\n\\n\\n\\n\\n\\n\\n\\n\\n\\n\\n\\n\\n\\n\\n\\n\\n\\n\\n\\n\\n\\n\\n\\n\\n\\n\\n\\n\\n\\n\\n\\n\\n\\n\\n\\n\\n\\n\\n\\n\\n\\n\\n\\n\\n\\n\\n\\n\\n\\n\\n\\n\\n\\n\\n\\n\\n\\n\\n\\n\\n\\n\\n\\n\\n\\n\\n\\n\\n\\n\\n\\n\\n\\n\\n\\n\\n\\n\\n\\n\\n\\n\\n\\n\\n\\n\\n\\n\\n\\n\\n\\n\\n\\n\\n\\n\\n\\n\\n\\n\\n\\n\\n\\n\\n\\n\\n\\n\\n\\n\\n\\n\\n\\n\\n\\n\\n\\n\\n\\n\\n\\n\\n\\n\\n\\n\\n\\n\\n\\n\\n\\n\\n\\n\\n\\n\\n\\n\\n\\n\\n\\n\\n\\n\\n\\n\\n\\n\\n\\n\\n\\n\\n\\n\\n\\n\\n\\n\\n\\n\\n\\n\\n\\n\\n\\n\\n\\n\\n\\n\\n\\n\\n\\n\\n\\n\\n\\n\\n\\n\\n\\n\\n\\n\\n\\n\\n\\n\\n\\n\\n\\n\\n\\n\\n\\n\\n\\n\\n\\n\\n\\n\\n\\n\\n\\n\\n\\n\\n\\n\\n\\n\\n\\n\\n\\n\\n\\n\\n\\n\\n\\n\\n\\n\\n\\n\\n\\n\\n\\n\\n\\n\\n\\n\\n\\n\\n\\n\\n\\n\\n\\n\\n\\n\\n\\n\\n\\n\\n\\n\\n\\n\\n\\n\\n\\n\\n\\n\\n\\n\\n\\n\\n\\n\\n\\n\\n\\n\\n\\n\\n\\n\\n\\n\\n\\n\\n\\n\\n\\n\\n\\n\\n\\n\\n\\n\\n\\n\\n\\n\\n\\n\\n\\n', 'qid': 'b04c37fb905c9a6035f041441949b234_2'}\n",
      "can not parse ans for res:  {'response': '\\n\\n\\n\\n\\n\\n\\n\\n\\n\\n\\n\\n\\n\\n\\n\\n\\n\\n\\n\\n\\n\\n\\n\\n\\n\\n\\n\\n\\n\\n\\n\\n\\n\\n\\n\\n\\n\\n\\n\\n\\n\\n\\n\\n\\n\\n\\n\\n\\n\\n\\n\\n\\n\\n\\n\\n\\n\\n\\n\\n\\n\\n\\n\\n\\n\\n\\n\\n\\n\\n\\n\\n\\n\\n\\n\\n\\n\\n\\n\\n\\n\\n\\n\\n\\n\\n\\n\\n\\n\\n\\n\\n\\n\\n\\n\\n\\n\\n\\n\\n\\n\\n\\n\\n\\n\\n\\n\\n\\n\\n\\n\\n\\n\\n\\n\\n\\n\\n\\n\\n\\n\\n\\n\\n\\n\\n\\n\\n\\n\\n\\n\\n\\n\\n\\n\\n\\n\\n\\n\\n\\n\\n\\n\\n\\n\\n\\n\\n\\n\\n\\n\\n\\n\\n\\n\\n\\n\\n\\n\\n\\n\\n\\n\\n\\n\\n\\n\\n\\n\\n\\n\\n\\n\\n\\n\\n\\n\\n\\n\\n\\n\\n\\n\\n\\n\\n\\n\\n\\n\\n\\n\\n\\n\\n\\n\\n\\n\\n\\n\\n\\n\\n\\n\\n\\n\\n\\n\\n\\n\\n\\n\\n\\n\\n\\n\\n\\n\\n\\n\\n\\n\\n\\n\\n\\n\\n\\n\\n\\n\\n\\n\\n\\n\\n\\n\\n\\n\\n\\n\\n\\n\\n\\n\\n\\n\\n\\n\\n\\n\\n\\n\\n\\n\\n\\n\\n\\n\\n\\n\\n\\n\\n\\n\\n\\n\\n\\n\\n\\n\\n\\n\\n\\n\\n\\n\\n\\n\\n\\n\\n\\n\\n\\n\\n\\n\\n\\n\\n\\n\\n\\n\\n\\n\\n\\n\\n\\n\\n\\n\\n\\n\\n\\n\\n\\n\\n\\n\\n\\n\\n\\n\\n\\n\\n\\n\\n\\n\\n\\n\\n\\n\\n\\n\\n\\n\\n\\n\\n\\n\\n\\n\\n\\n\\n\\n\\n\\n\\n\\n\\n\\n\\n\\n\\n\\n\\n\\n\\n\\n\\n\\n\\n\\n\\n\\n\\n\\n\\n\\n\\n\\n\\n\\n\\n\\n\\n\\n\\n\\n\\n\\n\\n\\n\\n\\n\\n\\n\\n\\n\\n\\n\\n\\n\\n\\n\\n\\n\\n\\n\\n\\n\\n\\n\\n\\n\\n\\n\\n\\n\\n\\n\\n\\n\\n\\n\\n\\n\\n\\n\\n\\n\\n\\n\\n\\n\\n\\n\\n\\n\\n\\n\\n\\n\\n\\n\\n\\n\\n\\n\\n\\n\\n\\n\\n\\n\\n\\n\\n\\n\\n\\n\\n\\n\\n\\n\\n\\n\\n\\n\\n\\n\\n\\n\\n\\n\\n\\n\\n\\n\\n\\n\\n\\n\\n\\n\\n\\n\\n\\n\\n\\n\\n\\n\\n\\n\\n\\n\\n\\n\\n\\n\\n\\n\\n\\n\\n\\n\\n\\n\\n\\n\\n\\n\\n\\n\\n\\n\\n\\n\\n', 'qid': 'b04c37fb905c9a6035f041441949b234_0'}\n",
      "can not parse ans for res:  {'response': '\\n\\n\\n\\n\\n\\n\\n\\n\\n\\n\\n\\n\\n\\n\\n\\n\\n\\n\\n\\n\\n\\n\\n\\n\\n\\n\\n\\n\\n\\n\\n\\n\\n\\n\\n\\n\\n\\n\\n\\n\\n\\n\\n\\n\\n\\n\\n\\n\\n\\n\\n\\n\\n\\n\\n\\n\\n\\n\\n\\n\\n\\n\\n\\n\\n\\n\\n\\n\\n\\n\\n\\n\\n\\n\\n\\n\\n\\n\\n\\n\\n\\n\\n\\n\\n\\n\\n\\n\\n\\n\\n\\n\\n\\n\\n\\n\\n\\n\\n\\n\\n\\n\\n\\n\\n\\n\\n\\n\\n\\n\\n\\n\\n\\n\\n\\n\\n\\n\\n\\n\\n\\n\\n\\n\\n\\n\\n\\n\\n\\n\\n\\n\\n\\n\\n\\n\\n\\n\\n\\n\\n\\n\\n\\n\\n\\n\\n\\n\\n\\n\\n\\n\\n\\n\\n\\n\\n\\n\\n\\n\\n\\n\\n\\n\\n\\n\\n\\n\\n\\n\\n\\n\\n\\n\\n\\n\\n\\n\\n\\n\\n\\n\\n\\n\\n\\n\\n\\n\\n\\n\\n\\n\\n\\n\\n\\n\\n\\n\\n\\n\\n\\n\\n\\n\\n\\n\\n\\n\\n\\n\\n\\n\\n\\n\\n\\n\\n\\n\\n\\n\\n\\n\\n\\n\\n\\n\\n\\n\\n\\n\\n\\n\\n\\n\\n\\n\\n\\n\\n\\n\\n\\n\\n\\n\\n\\n\\n\\n\\n\\n\\n\\n\\n\\n\\n\\n\\n\\n\\n\\n\\n\\n\\n\\n\\n\\n\\n\\n\\n\\n\\n\\n\\n\\n\\n\\n\\n\\n\\n\\n\\n\\n\\n\\n\\n\\n\\n\\n\\n\\n\\n\\n\\n\\n\\n\\n\\n\\n\\n\\n\\n\\n\\n\\n\\n\\n\\n\\n\\n\\n\\n\\n\\n\\n\\n\\n\\n\\n\\n\\n\\n\\n\\n\\n\\n\\n\\n\\n\\n\\n\\n\\n\\n\\n\\n\\n\\n\\n\\n\\n\\n\\n\\n\\n\\n\\n\\n\\n\\n\\n\\n\\n\\n\\n\\n\\n\\n\\n\\n\\n\\n\\n\\n\\n\\n\\n\\n\\n\\n\\n\\n\\n\\n\\n\\n\\n\\n\\n\\n\\n\\n\\n\\n\\n\\n\\n\\n\\n\\n\\n\\n\\n\\n\\n\\n\\n\\n\\n\\n\\n\\n\\n\\n\\n\\n\\n\\n\\n\\n\\n\\n\\n\\n\\n\\n\\n\\n\\n\\n\\n\\n\\n\\n\\n\\n\\n\\n\\n\\n\\n\\n\\n\\n\\n\\n\\n\\n\\n\\n\\n\\n\\n\\n\\n\\n\\n\\n\\n\\n\\n\\n\\n\\n\\n\\n\\n\\n\\n\\n\\n\\n\\n\\n\\n\\n\\n\\n\\n\\n\\n\\n\\n\\n\\n\\n\\n\\n\\n\\n\\n\\n\\n\\n\\n\\n\\n\\n\\n\\n\\n\\n\\n\\n\\n\\n\\n\\n\\n\\n\\n', 'qid': 'b04c37fb905c9a6035f041441949b234_1'}\n",
      "can not parse ans for res:  {'response': '\\n\\nThe image shows a variety of dishes, including a bowl with noodles and a white egg on top, a bowl with a creamy sauce and what appears to be sliced meat, a bowl with a clear broth and a spoon, and a bowl with a dark sauce and sliced meat. There is also a plate with a piece of watermelon and a bowl with a red sauce and a piece of meat. The watermelon is cut into a shape that resembles a heart, and the red sauce could be a type of ketchup or tomato-based sauce. The dishes are arranged on a table with chopsticks and a pair of chopsticks resting on the table. The watermelon is placed on the right side of the image, and the bowls are on the left side. The chopsticks are positioned in front of the bowls, suggesting that they are meant to be used with the dishes. The image does not provide any information about the specific dishes or their ingredients, so it is not possible to determine which dish uses watermelon during the preparation. Therefore, the best answer is that the image does not provide enough information to determine which dish uses watermelon during the preparation.', 'qid': '6c5b20a60e51663848761ebfac4f65cc_2'}\n",
      "can not parse ans for res:  {'response': '\\n\\n\\n\\n\\n\\n\\n\\n\\n\\n\\n\\n\\n\\n\\n\\n\\n\\n\\n\\n\\n\\n\\n\\n\\n\\n\\n\\n\\n\\n\\n\\n\\n\\n\\n\\n\\n\\n\\n\\n\\n\\n\\n\\n\\n\\n\\n\\n\\n\\n\\n\\n\\n\\n\\n\\n\\n\\n\\n\\n\\n\\n\\n\\n\\n\\n\\n\\n\\n\\n\\n\\n\\n\\n\\n\\n\\n\\n\\n\\n\\n\\n\\n\\n\\n\\n\\n\\n\\n\\n\\n\\n\\n\\n\\n\\n\\n\\n\\n\\n\\n\\n\\n\\n\\n\\n\\n\\n\\n\\n\\n\\n\\n\\n\\n\\n\\n\\n\\n\\n\\n\\n\\n\\n\\n\\n\\n\\n\\n\\n\\n\\n\\n\\n\\n\\n\\n\\n\\n\\n\\n\\n\\n\\n\\n\\n\\n\\n\\n\\n\\n\\n\\n\\n\\n\\n\\n\\n\\n\\n\\n\\n\\n\\n\\n\\n\\n\\n\\n\\n\\n\\n\\n\\n\\n\\n\\n\\n\\n\\n\\n\\n\\n\\n\\n\\n\\n\\n\\n\\n\\n\\n\\n\\n\\n\\n\\n\\n\\n\\n\\n\\n\\n\\n\\n\\n\\n\\n\\n\\n\\n\\n\\n\\n\\n\\n\\n\\n\\n\\n\\n\\n\\n\\n\\n\\n\\n\\n\\n\\n\\n\\n\\n\\n\\n\\n\\n\\n\\n\\n\\n\\n\\n\\n\\n\\n\\n\\n\\n\\n\\n\\n\\n\\n\\n\\n\\n\\n\\n\\n\\n\\n\\n\\n\\n\\n\\n\\n\\n\\n\\n\\n\\n\\n\\n\\n\\n\\n\\n\\n\\n\\n\\n\\n\\n\\n\\n\\n\\n\\n\\n\\n\\n\\n\\n\\n\\n\\n\\n\\n\\n\\n\\n\\n\\n\\n\\n\\n\\n\\n\\n\\n\\n\\n\\n\\n\\n\\n\\n\\n\\n\\n\\n\\n\\n\\n\\n\\n\\n\\n\\n\\n\\n\\n\\n\\n\\n\\n\\n\\n\\n\\n\\n\\n\\n\\n\\n\\n\\n\\n\\n\\n\\n\\n\\n\\n\\n\\n\\n\\n\\n\\n\\n\\n\\n\\n\\n\\n\\n\\n\\n\\n\\n\\n\\n\\n\\n\\n\\n\\n\\n\\n\\n\\n\\n\\n\\n\\n\\n\\n\\n\\n\\n\\n\\n\\n\\n\\n\\n\\n\\n\\n\\n\\n\\n\\n\\n\\n\\n\\n\\n\\n\\n\\n\\n\\n\\n\\n\\n\\n\\n\\n\\n\\n\\n\\n\\n\\n\\n\\n\\n\\n\\n\\n\\n\\n\\n\\n\\n\\n\\n\\n\\n\\n\\n\\n\\n\\n\\n\\n\\n\\n\\n\\n\\n\\n\\n\\n\\n\\n\\n\\n\\n\\n\\n\\n\\n\\n\\n\\n\\n\\n\\n\\n\\n\\n\\n\\n\\n\\n\\n\\n\\n\\n\\n\\n\\n\\n\\n\\n\\n\\n\\n\\n\\n\\n\\n\\n\\n\\n', 'qid': '6c5b20a60e51663848761ebfac4f65cc_0'}\n",
      "can not parse ans for res:  {'response': '\\n\\n\\n\\n\\n\\n\\n\\n\\n\\n\\n\\n\\n\\n\\n\\n\\n\\n\\n\\n\\n\\n\\n\\n\\n\\n\\n\\n\\n\\n\\n\\n\\n\\n\\n\\n\\n\\n\\n\\n\\n\\n\\n\\n\\n\\n\\n\\n\\n\\n\\n\\n\\n\\n\\n\\n\\n\\n\\n\\n\\n\\n\\n\\n\\n\\n\\n\\n\\n\\n\\n\\n\\n\\n\\n\\n\\n\\n\\n\\n\\n\\n\\n\\n\\n\\n\\n\\n\\n\\n\\n\\n\\n\\n\\n\\n\\n\\n\\n\\n\\n\\n\\n\\n\\n\\n\\n\\n\\n\\n\\n\\n\\n\\n\\n\\n\\n\\n\\n\\n\\n\\n\\n\\n\\n\\n\\n\\n\\n\\n\\n\\n\\n\\n\\n\\n\\n\\n\\n\\n\\n\\n\\n\\n\\n\\n\\n\\n\\n\\n\\n\\n\\n\\n\\n\\n\\n\\n\\n\\n\\n\\n\\n\\n\\n\\n\\n\\n\\n\\n\\n\\n\\n\\n\\n\\n\\n\\n\\n\\n\\n\\n\\n\\n\\n\\n\\n\\n\\n\\n\\n\\n\\n\\n\\n\\n\\n\\n\\n\\n\\n\\n\\n\\n\\n\\n\\n\\n\\n\\n\\n\\n\\n\\n\\n\\n\\n\\n\\n\\n\\n\\n\\n\\n\\n\\n\\n\\n\\n\\n\\n\\n\\n\\n\\n\\n\\n\\n\\n\\n\\n\\n\\n\\n\\n\\n\\n\\n\\n\\n\\n\\n\\n\\n\\n\\n\\n\\n\\n\\n\\n\\n\\n\\n\\n\\n\\n\\n\\n\\n\\n\\n\\n\\n\\n\\n\\n\\n\\n\\n\\n\\n\\n\\n\\n\\n\\n\\n\\n\\n\\n\\n\\n\\n\\n\\n\\n\\n\\n\\n\\n\\n\\n\\n\\n\\n\\n\\n\\n\\n\\n\\n\\n\\n\\n\\n\\n\\n\\n\\n\\n\\n\\n\\n\\n\\n\\n\\n\\n\\n\\n\\n\\n\\n\\n\\n\\n\\n\\n\\n\\n\\n\\n\\n\\n\\n\\n\\n\\n\\n\\n\\n\\n\\n\\n\\n\\n\\n\\n\\n\\n\\n\\n\\n\\n\\n\\n\\n\\n\\n\\n\\n\\n\\n\\n\\n\\n\\n\\n\\n\\n\\n\\n\\n\\n\\n\\n\\n\\n\\n\\n\\n\\n\\n\\n\\n\\n\\n\\n\\n\\n\\n\\n\\n\\n\\n\\n\\n\\n\\n\\n\\n\\n\\n\\n\\n\\n\\n\\n\\n\\n\\n\\n\\n\\n\\n\\n\\n\\n\\n\\n\\n\\n\\n\\n\\n\\n\\n\\n\\n\\n\\n\\n\\n\\n\\n\\n\\n\\n\\n\\n\\n\\n\\n\\n\\n\\n\\n\\n\\n\\n\\n\\n\\n\\n\\n\\n\\n\\n\\n\\n\\n\\n\\n\\n\\n\\n\\n\\n\\n\\n\\n\\n\\n\\n\\n\\n\\n\\n\\n\\n\\n\\n\\n\\n\\n\\n\\n\\n\\n', 'qid': '6c5b20a60e51663848761ebfac4f65cc_1'}\n",
      "can not parse ans for res:  {'response': '\\n\\n\\n\\n\\n\\n\\n\\n\\n\\n\\n\\n\\n\\n\\n\\n\\n\\n\\n\\n\\n\\n\\n\\n\\n\\n\\n\\n\\n\\n\\n\\n\\n\\n\\n\\n\\n\\n\\n\\n\\n\\n\\n\\n\\n\\n\\n\\n\\n\\n\\n\\n\\n\\n\\n\\n\\n\\n\\n\\n\\n\\n\\n\\n\\n\\n\\n\\n\\n\\n\\n\\n\\n\\n\\n\\n\\n\\n\\n\\n\\n\\n\\n\\n\\n\\n\\n\\n\\n\\n\\n\\n\\n\\n\\n\\n\\n\\n\\n\\n\\n\\n\\n\\n\\n\\n\\n\\n\\n\\n\\n\\n\\n\\n\\n\\n\\n\\n\\n\\n\\n\\n\\n\\n\\n\\n\\n\\n\\n\\n\\n\\n\\n\\n\\n\\n\\n\\n\\n\\n\\n\\n\\n\\n\\n\\n\\n\\n\\n\\n\\n\\n\\n\\n\\n\\n\\n\\n\\n\\n\\n\\n\\n\\n\\n\\n\\n\\n\\n\\n\\n\\n\\n\\n\\n\\n\\n\\n\\n\\n\\n\\n\\n\\n\\n\\n\\n\\n\\n\\n\\n\\n\\n\\n\\n\\n\\n\\n\\n\\n\\n\\n\\n\\n\\n\\n\\n\\n\\n\\n\\n\\n\\n\\n\\n\\n\\n\\n\\n\\n\\n\\n\\n\\n\\n\\n\\n\\n\\n\\n\\n\\n\\n\\n\\n\\n\\n\\n\\n\\n\\n\\n\\n\\n\\n\\n\\n\\n\\n\\n\\n\\n\\n\\n\\n\\n\\n\\n\\n\\n\\n\\n\\n\\n\\n\\n\\n\\n\\n\\n\\n\\n\\n\\n\\n\\n\\n\\n\\n\\n\\n\\n\\n\\n\\n\\n\\n\\n\\n\\n\\n\\n\\n\\n\\n\\n\\n\\n\\n\\n\\n\\n\\n\\n\\n\\n\\n\\n\\n\\n\\n\\n\\n\\n\\n\\n\\n\\n\\n\\n\\n\\n\\n\\n\\n\\n\\n\\n\\n\\n\\n\\n\\n\\n\\n\\n\\n\\n\\n\\n\\n\\n\\n\\n\\n\\n\\n\\n\\n\\n\\n\\n\\n\\n\\n\\n\\n\\n\\n\\n\\n\\n\\n\\n\\n\\n\\n\\n\\n\\n\\n\\n\\n\\n\\n\\n\\n\\n\\n\\n\\n\\n\\n\\n\\n\\n\\n\\n\\n\\n\\n\\n\\n\\n\\n\\n\\n\\n\\n\\n\\n\\n\\n\\n\\n\\n\\n\\n\\n\\n\\n\\n\\n\\n\\n\\n\\n\\n\\n\\n\\n\\n\\n\\n\\n\\n\\n\\n\\n\\n\\n\\n\\n\\n\\n\\n\\n\\n\\n\\n\\n\\n\\n\\n\\n\\n\\n\\n\\n\\n\\n\\n\\n\\n\\n\\n\\n\\n\\n\\n\\n\\n\\n\\n\\n\\n\\n\\n\\n\\n\\n\\n\\n\\n\\n\\n\\n\\n\\n\\n\\n\\n\\n\\n\\n\\n\\n\\n\\n\\n\\n\\n\\n\\n\\n\\n\\n\\n\\n\\n', 'qid': '6c5b20a60e51663848761ebfac4f65cc_2'}\n",
      "can not parse ans for res:  {'response': '\\n\\n\\n\\n\\n\\n\\n\\n\\n\\n\\n\\n\\n\\n\\n\\n\\n\\n\\n\\n\\n\\n\\n\\n\\n\\n\\n\\n\\n\\n\\n\\n\\n\\n\\n\\n\\n\\n\\n\\n\\n\\n\\n\\n\\n\\n\\n\\n\\n\\n\\n\\n\\n\\n\\n\\n\\n\\n\\n\\n\\n\\n\\n\\n\\n\\n\\n\\n\\n\\n\\n\\n\\n\\n\\n\\n\\n\\n\\n\\n\\n\\n\\n\\n\\n\\n\\n\\n\\n\\n\\n\\n\\n\\n\\n\\n\\n\\n\\n\\n\\n\\n\\n\\n\\n\\n\\n\\n\\n\\n\\n\\n\\n\\n\\n\\n\\n\\n\\n\\n\\n\\n\\n\\n\\n\\n\\n\\n\\n\\n\\n\\n\\n\\n\\n\\n\\n\\n\\n\\n\\n\\n\\n\\n\\n\\n\\n\\n\\n\\n\\n\\n\\n\\n\\n\\n\\n\\n\\n\\n\\n\\n\\n\\n\\n\\n\\n\\n\\n\\n\\n\\n\\n\\n\\n\\n\\n\\n\\n\\n\\n\\n\\n\\n\\n\\n\\n\\n\\n\\n\\n\\n\\n\\n\\n\\n\\n\\n\\n\\n\\n\\n\\n\\n\\n\\n\\n\\n\\n\\n\\n\\n\\n\\n\\n\\n\\n\\n\\n\\n\\n\\n\\n\\n\\n\\n\\n\\n\\n\\n\\n\\n\\n\\n\\n\\n\\n\\n\\n\\n\\n\\n\\n\\n\\n\\n\\n\\n\\n\\n\\n\\n\\n\\n\\n\\n\\n\\n\\n\\n\\n\\n\\n\\n\\n\\n\\n\\n\\n\\n\\n\\n\\n\\n\\n\\n\\n\\n\\n\\n\\n\\n\\n\\n\\n\\n\\n\\n\\n\\n\\n\\n\\n\\n\\n\\n\\n\\n\\n\\n\\n\\n\\n\\n\\n\\n\\n\\n\\n\\n\\n\\n\\n\\n\\n\\n\\n\\n\\n\\n\\n\\n\\n\\n\\n\\n\\n\\n\\n\\n\\n\\n\\n\\n\\n\\n\\n\\n\\n\\n\\n\\n\\n\\n\\n\\n\\n\\n\\n\\n\\n\\n\\n\\n\\n\\n\\n\\n\\n\\n\\n\\n\\n\\n\\n\\n\\n\\n\\n\\n\\n\\n\\n\\n\\n\\n\\n\\n\\n\\n\\n\\n\\n\\n\\n\\n\\n\\n\\n\\n\\n\\n\\n\\n\\n\\n\\n\\n\\n\\n\\n\\n\\n\\n\\n\\n\\n\\n\\n\\n\\n\\n\\n\\n\\n\\n\\n\\n\\n\\n\\n\\n\\n\\n\\n\\n\\n\\n\\n\\n\\n\\n\\n\\n\\n\\n\\n\\n\\n\\n\\n\\n\\n\\n\\n\\n\\n\\n\\n\\n\\n\\n\\n\\n\\n\\n\\n\\n\\n\\n\\n\\n\\n\\n\\n\\n\\n\\n\\n\\n\\n\\n\\n\\n\\n\\n\\n\\n\\n\\n\\n\\n\\n\\n\\n\\n\\n\\n\\n\\n\\n\\n\\n\\n\\n\\n\\n\\n\\n\\n', 'qid': '6c5b20a60e51663848761ebfac4f65cc_2'}\n",
      "can not parse ans for res:  {'response': '\\n\\nThe image shows a close-up of a dish with a creamy sauce, garnished with what appears to be sesame seeds and green onions. The dish is served on a white plate, and there is a spoon resting on the plate. The sauce looks thick and rich, suggesting it might be a type of stew or curry. There are also pieces of what could be chicken or tofu in the sauce, and some red chili peppers are visible, which might be used for seasoning. The dish is presented on a wooden surface, and there is a blurred object in the background that is not clearly identifiable.\\n\\nThe question asks to identify the blandest dish from the given options, but there is no information about the other dishes to compare with. Therefore, without any context or comparison, it is impossible to determine which dish is the blandest. The image only provides details about one dish, and without knowing the nature of the other dishes, it is not possible to make a judgment based on the provided image alone.', 'qid': '6f5fb8a36831af18e6d1e31f906b51d4_0'}\n",
      "can not parse ans for res:  {'response': '\\n\\n\\n\\n\\n\\n\\n\\n\\n\\n\\n\\n\\n\\n\\n\\n\\n\\n\\n\\n\\n\\n\\n\\n\\n\\n\\n\\n\\n\\n\\n\\n\\n\\n\\n\\n\\n\\n\\n\\n\\n\\n\\n\\n\\n\\n\\n\\n\\n\\n\\n\\n\\n\\n\\n\\n\\n\\n\\n\\n\\n\\n\\n\\n\\n\\n\\n\\n\\n\\n\\n\\n\\n\\n\\n\\n\\n\\n\\n\\n\\n\\n\\n\\n\\n\\n\\n\\n\\n\\n\\n\\n\\n\\n\\n\\n\\n\\n\\n\\n\\n\\n\\n\\n\\n\\n\\n\\n\\n\\n\\n\\n\\n\\n\\n\\n\\n\\n\\n\\n\\n\\n\\n\\n\\n\\n\\n\\n\\n\\n\\n\\n\\n\\n\\n\\n\\n\\n\\n\\n\\n\\n\\n\\n\\n\\n\\n\\n\\n\\n\\n\\n\\n\\n\\n\\n\\n\\n\\n\\n\\n\\n\\n\\n\\n\\n\\n\\n\\n\\n\\n\\n\\n\\n\\n\\n\\n\\n\\n\\n\\n\\n\\n\\n\\n\\n\\n\\n\\n\\n\\n\\n\\n\\n\\n\\n\\n\\n\\n\\n\\n\\n\\n\\n\\n\\n\\n\\n\\n\\n\\n\\n\\n\\n\\n\\n\\n\\n\\n\\n\\n\\n\\n\\n\\n\\n\\n\\n\\n\\n\\n\\n\\n\\n\\n\\n\\n\\n\\n\\n\\n\\n\\n\\n\\n\\n\\n\\n\\n\\n\\n\\n\\n\\n\\n\\n\\n\\n\\n\\n\\n\\n\\n\\n\\n\\n\\n\\n\\n\\n\\n\\n\\n\\n\\n\\n\\n\\n\\n\\n\\n\\n\\n\\n\\n\\n\\n\\n\\n\\n\\n\\n\\n\\n\\n\\n\\n\\n\\n\\n\\n\\n\\n\\n\\n\\n\\n\\n\\n\\n\\n\\n\\n\\n\\n\\n\\n\\n\\n\\n\\n\\n\\n\\n\\n\\n\\n\\n\\n\\n\\n\\n\\n\\n\\n\\n\\n\\n\\n\\n\\n\\n\\n\\n\\n\\n\\n\\n\\n\\n\\n\\n\\n\\n\\n\\n\\n\\n\\n\\n\\n\\n\\n\\n\\n\\n\\n\\n\\n\\n\\n\\n\\n\\n\\n\\n\\n\\n\\n\\n\\n\\n\\n\\n\\n\\n\\n\\n\\n\\n\\n\\n\\n\\n\\n\\n\\n\\n\\n\\n\\n\\n\\n\\n\\n\\n\\n\\n\\n\\n\\n\\n\\n\\n\\n\\n\\n\\n\\n\\n\\n\\n\\n\\n\\n\\n\\n\\n\\n\\n\\n\\n\\n\\n\\n\\n\\n\\n\\n\\n\\n\\n\\n\\n\\n\\n\\n\\n\\n\\n\\n\\n\\n\\n\\n\\n\\n\\n\\n\\n\\n\\n\\n\\n\\n\\n\\n\\n\\n\\n\\n\\n\\n\\n\\n\\n\\n\\n\\n\\n\\n\\n\\n\\n\\n\\n\\n\\n\\n\\n\\n\\n\\n\\n\\n\\n\\n\\n\\n\\n', 'qid': '6f5fb8a36831af18e6d1e31f906b51d4_0'}\n",
      "can not parse ans for res:  {'response': '\\n\\n\\n\\n\\n\\n\\n\\n\\n\\n\\n\\n\\n\\n\\n\\n\\n\\n\\n\\n\\n\\n\\n\\n\\n\\n\\n\\n\\n\\n\\n\\n\\n\\n\\n\\n\\n\\n\\n\\n\\n\\n\\n\\n\\n\\n\\n\\n\\n\\n\\n\\n\\n\\n\\n\\n\\n\\n\\n\\n\\n\\n\\n\\n\\n\\n\\n\\n\\n\\n\\n\\n\\n\\n\\n\\n\\n\\n\\n\\n\\n\\n\\n\\n\\n\\n\\n\\n\\n\\n\\n\\n\\n\\n\\n\\n\\n\\n\\n\\n\\n\\n\\n\\n\\n\\n\\n\\n\\n\\n\\n\\n\\n\\n\\n\\n\\n\\n\\n\\n\\n\\n\\n\\n\\n\\n\\n\\n\\n\\n\\n\\n\\n\\n\\n\\n\\n\\n\\n\\n\\n\\n\\n\\n\\n\\n\\n\\n\\n\\n\\n\\n\\n\\n\\n\\n\\n\\n\\n\\n\\n\\n\\n\\n\\n\\n\\n\\n\\n\\n\\n\\n\\n\\n\\n\\n\\n\\n\\n\\n\\n\\n\\n\\n\\n\\n\\n\\n\\n\\n\\n\\n\\n\\n\\n\\n\\n\\n\\n\\n\\n\\n\\n\\n\\n\\n\\n\\n\\n\\n\\n\\n\\n\\n\\n\\n\\n\\n\\n\\n\\n\\n\\n\\n\\n\\n\\n\\n\\n\\n\\n\\n\\n\\n\\n\\n\\n\\n\\n\\n\\n\\n\\n\\n\\n\\n\\n\\n\\n\\n\\n\\n\\n\\n\\n\\n\\n\\n\\n\\n\\n\\n\\n\\n\\n\\n\\n\\n\\n\\n\\n\\n\\n\\n\\n\\n\\n\\n\\n\\n\\n\\n\\n\\n\\n\\n\\n\\n\\n\\n\\n\\n\\n\\n\\n\\n\\n\\n\\n\\n\\n\\n\\n\\n\\n\\n\\n\\n\\n\\n\\n\\n\\n\\n\\n\\n\\n\\n\\n\\n\\n\\n\\n\\n\\n\\n\\n\\n\\n\\n\\n\\n\\n\\n\\n\\n\\n\\n\\n\\n\\n\\n\\n\\n\\n\\n\\n\\n\\n\\n\\n\\n\\n\\n\\n\\n\\n\\n\\n\\n\\n\\n\\n\\n\\n\\n\\n\\n\\n\\n\\n\\n\\n\\n\\n\\n\\n\\n\\n\\n\\n\\n\\n\\n\\n\\n\\n\\n\\n\\n\\n\\n\\n\\n\\n\\n\\n\\n\\n\\n\\n\\n\\n\\n\\n\\n\\n\\n\\n\\n\\n\\n\\n\\n\\n\\n\\n\\n\\n\\n\\n\\n\\n\\n\\n\\n\\n\\n\\n\\n\\n\\n\\n\\n\\n\\n\\n\\n\\n\\n\\n\\n\\n\\n\\n\\n\\n\\n\\n\\n\\n\\n\\n\\n\\n\\n\\n\\n\\n\\n\\n\\n\\n\\n\\n\\n\\n\\n\\n\\n\\n\\n\\n\\n\\n\\n\\n\\n\\n\\n\\n\\n\\n\\n\\n\\n\\n\\n\\n\\n\\n\\n\\n\\n\\n\\n\\n\\n\\n\\n', 'qid': '6f5fb8a36831af18e6d1e31f906b51d4_2'}\n",
      "can not parse ans for res:  {'response': '\\n\\n\\n\\n\\n\\n\\n\\n\\n\\n\\n\\n\\n\\n\\n\\n\\n\\n\\n\\n\\n\\n\\n\\n\\n\\n\\n\\n\\n\\n\\n\\n\\n\\n\\n\\n\\n\\n\\n\\n\\n\\n\\n\\n\\n\\n\\n\\n\\n\\n\\n\\n\\n\\n\\n\\n\\n\\n\\n\\n\\n\\n\\n\\n\\n\\n\\n\\n\\n\\n\\n\\n\\n\\n\\n\\n\\n\\n\\n\\n\\n\\n\\n\\n\\n\\n\\n\\n\\n\\n\\n\\n\\n\\n\\n\\n\\n\\n\\n\\n\\n\\n\\n\\n\\n\\n\\n\\n\\n\\n\\n\\n\\n\\n\\n\\n\\n\\n\\n\\n\\n\\n\\n\\n\\n\\n\\n\\n\\n\\n\\n\\n\\n\\n\\n\\n\\n\\n\\n\\n\\n\\n\\n\\n\\n\\n\\n\\n\\n\\n\\n\\n\\n\\n\\n\\n\\n\\n\\n\\n\\n\\n\\n\\n\\n\\n\\n\\n\\n\\n\\n\\n\\n\\n\\n\\n\\n\\n\\n\\n\\n\\n\\n\\n\\n\\n\\n\\n\\n\\n\\n\\n\\n\\n\\n\\n\\n\\n\\n\\n\\n\\n\\n\\n\\n\\n\\n\\n\\n\\n\\n\\n\\n\\n\\n\\n\\n\\n\\n\\n\\n\\n\\n\\n\\n\\n\\n\\n\\n\\n\\n\\n\\n\\n\\n\\n\\n\\n\\n\\n\\n\\n\\n\\n\\n\\n\\n\\n\\n\\n\\n\\n\\n\\n\\n\\n\\n\\n\\n\\n\\n\\n\\n\\n\\n\\n\\n\\n\\n\\n\\n\\n\\n\\n\\n\\n\\n\\n\\n\\n\\n\\n\\n\\n\\n\\n\\n\\n\\n\\n\\n\\n\\n\\n\\n\\n\\n\\n\\n\\n\\n\\n\\n\\n\\n\\n\\n\\n\\n\\n\\n\\n\\n\\n\\n\\n\\n\\n\\n\\n\\n\\n\\n\\n\\n\\n\\n\\n\\n\\n\\n\\n\\n\\n\\n\\n\\n\\n\\n\\n\\n\\n\\n\\n\\n\\n\\n\\n\\n\\n\\n\\n\\n\\n\\n\\n\\n\\n\\n\\n\\n\\n\\n\\n\\n\\n\\n\\n\\n\\n\\n\\n\\n\\n\\n\\n\\n\\n\\n\\n\\n\\n\\n\\n\\n\\n\\n\\n\\n\\n\\n\\n\\n\\n\\n\\n\\n\\n\\n\\n\\n\\n\\n\\n\\n\\n\\n\\n\\n\\n\\n\\n\\n\\n\\n\\n\\n\\n\\n\\n\\n\\n\\n\\n\\n\\n\\n\\n\\n\\n\\n\\n\\n\\n\\n\\n\\n\\n\\n\\n\\n\\n\\n\\n\\n\\n\\n\\n\\n\\n\\n\\n\\n\\n\\n\\n\\n\\n\\n\\n\\n\\n\\n\\n\\n\\n\\n\\n\\n\\n\\n\\n\\n\\n\\n\\n\\n\\n\\n\\n\\n\\n\\n\\n\\n\\n\\n\\n\\n\\n\\n\\n\\n\\n\\n\\n\\n\\n\\n\\n', 'qid': '6f5fb8a36831af18e6d1e31f906b51d4_2'}\n",
      "can not parse ans for res:  {'response': '\\n\\n\\n\\n\\n\\n\\n\\n\\n\\n\\n\\n\\n\\n\\n\\n\\n\\n\\n\\n\\n\\n\\n\\n\\n\\n\\n\\n\\n\\n\\n\\n\\n\\n\\n\\n\\n\\n\\n\\n\\n\\n\\n\\n\\n\\n\\n\\n\\n\\n\\n\\n\\n\\n\\n\\n\\n\\n\\n\\n\\n\\n\\n\\n\\n\\n\\n\\n\\n\\n\\n\\n\\n\\n\\n\\n\\n\\n\\n\\n\\n\\n\\n\\n\\n\\n\\n\\n\\n\\n\\n\\n\\n\\n\\n\\n\\n\\n\\n\\n\\n\\n\\n\\n\\n\\n\\n\\n\\n\\n\\n\\n\\n\\n\\n\\n\\n\\n\\n\\n\\n\\n\\n\\n\\n\\n\\n\\n\\n\\n\\n\\n\\n\\n\\n\\n\\n\\n\\n\\n\\n\\n\\n\\n\\n\\n\\n\\n\\n\\n\\n\\n\\n\\n\\n\\n\\n\\n\\n\\n\\n\\n\\n\\n\\n\\n\\n\\n\\n\\n\\n\\n\\n\\n\\n\\n\\n\\n\\n\\n\\n\\n\\n\\n\\n\\n\\n\\n\\n\\n\\n\\n\\n\\n\\n\\n\\n\\n\\n\\n\\n\\n\\n\\n\\n\\n\\n\\n\\n\\n\\n\\n\\n\\n\\n\\n\\n\\n\\n\\n\\n\\n\\n\\n\\n\\n\\n\\n\\n\\n\\n\\n\\n\\n\\n\\n\\n\\n\\n\\n\\n\\n\\n\\n\\n\\n\\n\\n\\n\\n\\n\\n\\n\\n\\n\\n\\n\\n\\n\\n\\n\\n\\n\\n\\n\\n\\n\\n\\n\\n\\n\\n\\n\\n\\n\\n\\n\\n\\n\\n\\n\\n\\n\\n\\n\\n\\n\\n\\n\\n\\n\\n\\n\\n\\n\\n\\n\\n\\n\\n\\n\\n\\n\\n\\n\\n\\n\\n\\n\\n\\n\\n\\n\\n\\n\\n\\n\\n\\n\\n\\n\\n\\n\\n\\n\\n\\n\\n\\n\\n\\n\\n\\n\\n\\n\\n\\n\\n\\n\\n\\n\\n\\n\\n\\n\\n\\n\\n\\n\\n\\n\\n\\n\\n\\n\\n\\n\\n\\n\\n\\n\\n\\n\\n\\n\\n\\n\\n\\n\\n\\n\\n\\n\\n\\n\\n\\n\\n\\n\\n\\n\\n\\n\\n\\n\\n\\n\\n\\n\\n\\n\\n\\n\\n\\n\\n\\n\\n\\n\\n\\n\\n\\n\\n\\n\\n\\n\\n\\n\\n\\n\\n\\n\\n\\n\\n\\n\\n\\n\\n\\n\\n\\n\\n\\n\\n\\n\\n\\n\\n\\n\\n\\n\\n\\n\\n\\n\\n\\n\\n\\n\\n\\n\\n\\n\\n\\n\\n\\n\\n\\n\\n\\n\\n\\n\\n\\n\\n\\n\\n\\n\\n\\n\\n\\n\\n\\n\\n\\n\\n\\n\\n\\n\\n\\n\\n\\n\\n\\n\\n\\n\\n\\n\\n\\n\\n\\n\\n\\n\\n\\n\\n\\n\\n\\n\\n\\n\\n\\n\\n', 'qid': '6f5fb8a36831af18e6d1e31f906b51d4_0'}\n",
      "can not parse ans for res:  {'response': '\\n\\n\\n\\n\\n\\n\\n\\n\\n\\n\\n\\n\\n\\n\\n\\n\\n\\n\\n\\n\\n\\n\\n\\n\\n\\n\\n\\n\\n\\n\\n\\n\\n\\n\\n\\n\\n\\n\\n\\n\\n\\n\\n\\n\\n\\n\\n\\n\\n\\n\\n\\n\\n\\n\\n\\n\\n\\n\\n\\n\\n\\n\\n\\n\\n\\n\\n\\n\\n\\n\\n\\n\\n\\n\\n\\n\\n\\n\\n\\n\\n\\n\\n\\n\\n\\n\\n\\n\\n\\n\\n\\n\\n\\n\\n\\n\\n\\n\\n\\n\\n\\n\\n\\n\\n\\n\\n\\n\\n\\n\\n\\n\\n\\n\\n\\n\\n\\n\\n\\n\\n\\n\\n\\n\\n\\n\\n\\n\\n\\n\\n\\n\\n\\n\\n\\n\\n\\n\\n\\n\\n\\n\\n\\n\\n\\n\\n\\n\\n\\n\\n\\n\\n\\n\\n\\n\\n\\n\\n\\n\\n\\n\\n\\n\\n\\n\\n\\n\\n\\n\\n\\n\\n\\n\\n\\n\\n\\n\\n\\n\\n\\n\\n\\n\\n\\n\\n\\n\\n\\n\\n\\n\\n\\n\\n\\n\\n\\n\\n\\n\\n\\n\\n\\n\\n\\n\\n\\n\\n\\n\\n\\n\\n\\n\\n\\n\\n\\n\\n\\n\\n\\n\\n\\n\\n\\n\\n\\n\\n\\n\\n\\n\\n\\n\\n\\n\\n\\n\\n\\n\\n\\n\\n\\n\\n\\n\\n\\n\\n\\n\\n\\n\\n\\n\\n\\n\\n\\n\\n\\n\\n\\n\\n\\n\\n\\n\\n\\n\\n\\n\\n\\n\\n\\n\\n\\n\\n\\n\\n\\n\\n\\n\\n\\n\\n\\n\\n\\n\\n\\n\\n\\n\\n\\n\\n\\n\\n\\n\\n\\n\\n\\n\\n\\n\\n\\n\\n\\n\\n\\n\\n\\n\\n\\n\\n\\n\\n\\n\\n\\n\\n\\n\\n\\n\\n\\n\\n\\n\\n\\n\\n\\n\\n\\n\\n\\n\\n\\n\\n\\n\\n\\n\\n\\n\\n\\n\\n\\n\\n\\n\\n\\n\\n\\n\\n\\n\\n\\n\\n\\n\\n\\n\\n\\n\\n\\n\\n\\n\\n\\n\\n\\n\\n\\n\\n\\n\\n\\n\\n\\n\\n\\n\\n\\n\\n\\n\\n\\n\\n\\n\\n\\n\\n\\n\\n\\n\\n\\n\\n\\n\\n\\n\\n\\n\\n\\n\\n\\n\\n\\n\\n\\n\\n\\n\\n\\n\\n\\n\\n\\n\\n\\n\\n\\n\\n\\n\\n\\n\\n\\n\\n\\n\\n\\n\\n\\n\\n\\n\\n\\n\\n\\n\\n\\n\\n\\n\\n\\n\\n\\n\\n\\n\\n\\n\\n\\n\\n\\n\\n\\n\\n\\n\\n\\n\\n\\n\\n\\n\\n\\n\\n\\n\\n\\n\\n\\n\\n\\n\\n\\n\\n\\n\\n\\n\\n\\n\\n\\n\\n\\n\\n\\n\\n\\n\\n\\n\\n\\n\\n\\n', 'qid': '6f5fb8a36831af18e6d1e31f906b51d4_1'}\n",
      "can not parse ans for res:  {'response': '\\n\\n\\n\\n\\n\\n\\n\\n\\n\\n\\n\\n\\n\\n\\n\\n\\n\\n\\n\\n\\n\\n\\n\\n\\n\\n\\n\\n\\n\\n\\n\\n\\n\\n\\n\\n\\n\\n\\n\\n\\n\\n\\n\\n\\n\\n\\n\\n\\n\\n\\n\\n\\n\\n\\n\\n\\n\\n\\n\\n\\n\\n\\n\\n\\n\\n\\n\\n\\n\\n\\n\\n\\n\\n\\n\\n\\n\\n\\n\\n\\n\\n\\n\\n\\n\\n\\n\\n\\n\\n\\n\\n\\n\\n\\n\\n\\n\\n\\n\\n\\n\\n\\n\\n\\n\\n\\n\\n\\n\\n\\n\\n\\n\\n\\n\\n\\n\\n\\n\\n\\n\\n\\n\\n\\n\\n\\n\\n\\n\\n\\n\\n\\n\\n\\n\\n\\n\\n\\n\\n\\n\\n\\n\\n\\n\\n\\n\\n\\n\\n\\n\\n\\n\\n\\n\\n\\n\\n\\n\\n\\n\\n\\n\\n\\n\\n\\n\\n\\n\\n\\n\\n\\n\\n\\n\\n\\n\\n\\n\\n\\n\\n\\n\\n\\n\\n\\n\\n\\n\\n\\n\\n\\n\\n\\n\\n\\n\\n\\n\\n\\n\\n\\n\\n\\n\\n\\n\\n\\n\\n\\n\\n\\n\\n\\n\\n\\n\\n\\n\\n\\n\\n\\n\\n\\n\\n\\n\\n\\n\\n\\n\\n\\n\\n\\n\\n\\n\\n\\n\\n\\n\\n\\n\\n\\n\\n\\n\\n\\n\\n\\n\\n\\n\\n\\n\\n\\n\\n\\n\\n\\n\\n\\n\\n\\n\\n\\n\\n\\n\\n\\n\\n\\n\\n\\n\\n\\n\\n\\n\\n\\n\\n\\n\\n\\n\\n\\n\\n\\n\\n\\n\\n\\n\\n\\n\\n\\n\\n\\n\\n\\n\\n\\n\\n\\n\\n\\n\\n\\n\\n\\n\\n\\n\\n\\n\\n\\n\\n\\n\\n\\n\\n\\n\\n\\n\\n\\n\\n\\n\\n\\n\\n\\n\\n\\n\\n\\n\\n\\n\\n\\n\\n\\n\\n\\n\\n\\n\\n\\n\\n\\n\\n\\n\\n\\n\\n\\n\\n\\n\\n\\n\\n\\n\\n\\n\\n\\n\\n\\n\\n\\n\\n\\n\\n\\n\\n\\n\\n\\n\\n\\n\\n\\n\\n\\n\\n\\n\\n\\n\\n\\n\\n\\n\\n\\n\\n\\n\\n\\n\\n\\n\\n\\n\\n\\n\\n\\n\\n\\n\\n\\n\\n\\n\\n\\n\\n\\n\\n\\n\\n\\n\\n\\n\\n\\n\\n\\n\\n\\n\\n\\n\\n\\n\\n\\n\\n\\n\\n\\n\\n\\n\\n\\n\\n\\n\\n\\n\\n\\n\\n\\n\\n\\n\\n\\n\\n\\n\\n\\n\\n\\n\\n\\n\\n\\n\\n\\n\\n\\n\\n\\n\\n\\n\\n\\n\\n\\n\\n\\n\\n\\n\\n\\n\\n\\n\\n\\n\\n\\n\\n\\n\\n\\n\\n\\n\\n\\n\\n\\n\\n', 'qid': '6f5fb8a36831af18e6d1e31f906b51d4_0'}\n",
      "can not parse ans for res:  {'response': '\\n\\n\\n\\n\\n\\n\\n\\n\\n\\n\\n\\n\\n\\n\\n\\n\\n\\n\\n\\n\\n\\n\\n\\n\\n\\n\\n\\n\\n\\n\\n\\n\\n\\n\\n\\n\\n\\n\\n\\n\\n\\n\\n\\n\\n\\n\\n\\n\\n\\n\\n\\n\\n\\n\\n\\n\\n\\n\\n\\n\\n\\n\\n\\n\\n\\n\\n\\n\\n\\n\\n\\n\\n\\n\\n\\n\\n\\n\\n\\n\\n\\n\\n\\n\\n\\n\\n\\n\\n\\n\\n\\n\\n\\n\\n\\n\\n\\n\\n\\n\\n\\n\\n\\n\\n\\n\\n\\n\\n\\n\\n\\n\\n\\n\\n\\n\\n\\n\\n\\n\\n\\n\\n\\n\\n\\n\\n\\n\\n\\n\\n\\n\\n\\n\\n\\n\\n\\n\\n\\n\\n\\n\\n\\n\\n\\n\\n\\n\\n\\n\\n\\n\\n\\n\\n\\n\\n\\n\\n\\n\\n\\n\\n\\n\\n\\n\\n\\n\\n\\n\\n\\n\\n\\n\\n\\n\\n\\n\\n\\n\\n\\n\\n\\n\\n\\n\\n\\n\\n\\n\\n\\n\\n\\n\\n\\n\\n\\n\\n\\n\\n\\n\\n\\n\\n\\n\\n\\n\\n\\n\\n\\n\\n\\n\\n\\n\\n\\n\\n\\n\\n\\n\\n\\n\\n\\n\\n\\n\\n\\n\\n\\n\\n\\n\\n\\n\\n\\n\\n\\n\\n\\n\\n\\n\\n\\n\\n\\n\\n\\n\\n\\n\\n\\n\\n\\n\\n\\n\\n\\n\\n\\n\\n\\n\\n\\n\\n\\n\\n\\n\\n\\n\\n\\n\\n\\n\\n\\n\\n\\n\\n\\n\\n\\n\\n\\n\\n\\n\\n\\n\\n\\n\\n\\n\\n\\n\\n\\n\\n\\n\\n\\n\\n\\n\\n\\n\\n\\n\\n\\n\\n\\n\\n\\n\\n\\n\\n\\n\\n\\n\\n\\n\\n\\n\\n\\n\\n\\n\\n\\n\\n\\n\\n\\n\\n\\n\\n\\n\\n\\n\\n\\n\\n\\n\\n\\n\\n\\n\\n\\n\\n\\n\\n\\n\\n\\n\\n\\n\\n\\n\\n\\n\\n\\n\\n\\n\\n\\n\\n\\n\\n\\n\\n\\n\\n\\n\\n\\n\\n\\n\\n\\n\\n\\n\\n\\n\\n\\n\\n\\n\\n\\n\\n\\n\\n\\n\\n\\n\\n\\n\\n\\n\\n\\n\\n\\n\\n\\n\\n\\n\\n\\n\\n\\n\\n\\n\\n\\n\\n\\n\\n\\n\\n\\n\\n\\n\\n\\n\\n\\n\\n\\n\\n\\n\\n\\n\\n\\n\\n\\n\\n\\n\\n\\n\\n\\n\\n\\n\\n\\n\\n\\n\\n\\n\\n\\n\\n\\n\\n\\n\\n\\n\\n\\n\\n\\n\\n\\n\\n\\n\\n\\n\\n\\n\\n\\n\\n\\n\\n\\n\\n\\n\\n\\n\\n\\n\\n\\n\\n\\n\\n\\n\\n\\n\\n\\n\\n\\n\\n\\n', 'qid': '6f5fb8a36831af18e6d1e31f906b51d4_0'}\n",
      "can not parse ans for res:  {'response': '\\n\\n\\n\\n\\n\\n\\n\\n\\n\\n\\n\\n\\n\\n\\n\\n\\n\\n\\n\\n\\n\\n\\n\\n\\n\\n\\n\\n\\n\\n\\n\\n\\n\\n\\n\\n\\n\\n\\n\\n\\n\\n\\n\\n\\n\\n\\n\\n\\n\\n\\n\\n\\n\\n\\n\\n\\n\\n\\n\\n\\n\\n\\n\\n\\n\\n\\n\\n\\n\\n\\n\\n\\n\\n\\n\\n\\n\\n\\n\\n\\n\\n\\n\\n\\n\\n\\n\\n\\n\\n\\n\\n\\n\\n\\n\\n\\n\\n\\n\\n\\n\\n\\n\\n\\n\\n\\n\\n\\n\\n\\n\\n\\n\\n\\n\\n\\n\\n\\n\\n\\n\\n\\n\\n\\n\\n\\n\\n\\n\\n\\n\\n\\n\\n\\n\\n\\n\\n\\n\\n\\n\\n\\n\\n\\n\\n\\n\\n\\n\\n\\n\\n\\n\\n\\n\\n\\n\\n\\n\\n\\n\\n\\n\\n\\n\\n\\n\\n\\n\\n\\n\\n\\n\\n\\n\\n\\n\\n\\n\\n\\n\\n\\n\\n\\n\\n\\n\\n\\n\\n\\n\\n\\n\\n\\n\\n\\n\\n\\n\\n\\n\\n\\n\\n\\n\\n\\n\\n\\n\\n\\n\\n\\n\\n\\n\\n\\n\\n\\n\\n\\n\\n\\n\\n\\n\\n\\n\\n\\n\\n\\n\\n\\n\\n\\n\\n\\n\\n\\n\\n\\n\\n\\n\\n\\n\\n\\n\\n\\n\\n\\n\\n\\n\\n\\n\\n\\n\\n\\n\\n\\n\\n\\n\\n\\n\\n\\n\\n\\n\\n\\n\\n\\n\\n\\n\\n\\n\\n\\n\\n\\n\\n\\n\\n\\n\\n\\n\\n\\n\\n\\n\\n\\n\\n\\n\\n\\n\\n\\n\\n\\n\\n\\n\\n\\n\\n\\n\\n\\n\\n\\n\\n\\n\\n\\n\\n\\n\\n\\n\\n\\n\\n\\n\\n\\n\\n\\n\\n\\n\\n\\n\\n\\n\\n\\n\\n\\n\\n\\n\\n\\n\\n\\n\\n\\n\\n\\n\\n\\n\\n\\n\\n\\n\\n\\n\\n\\n\\n\\n\\n\\n\\n\\n\\n\\n\\n\\n\\n\\n\\n\\n\\n\\n\\n\\n\\n\\n\\n\\n\\n\\n\\n\\n\\n\\n\\n\\n\\n\\n\\n\\n\\n\\n\\n\\n\\n\\n\\n\\n\\n\\n\\n\\n\\n\\n\\n\\n\\n\\n\\n\\n\\n\\n\\n\\n\\n\\n\\n\\n\\n\\n\\n\\n\\n\\n\\n\\n\\n\\n\\n\\n\\n\\n\\n\\n\\n\\n\\n\\n\\n\\n\\n\\n\\n\\n\\n\\n\\n\\n\\n\\n\\n\\n\\n\\n\\n\\n\\n\\n\\n\\n\\n\\n\\n\\n\\n\\n\\n\\n\\n\\n\\n\\n\\n\\n\\n\\n\\n\\n\\n\\n\\n\\n\\n\\n\\n\\n\\n\\n\\n\\n\\n\\n\\n\\n\\n\\n\\n\\n\\n', 'qid': '6f5fb8a36831af18e6d1e31f906b51d4_0'}\n",
      "can not parse ans for res:  {'response': '\\n\\n\\n\\n\\n\\n\\n\\n\\n\\n\\n\\n\\n\\n\\n\\n\\n\\n\\n\\n\\n\\n\\n\\n\\n\\n\\n\\n\\n\\n\\n\\n\\n\\n\\n\\n\\n\\n\\n\\n\\n\\n\\n\\n\\n\\n\\n\\n\\n\\n\\n\\n\\n\\n\\n\\n\\n\\n\\n\\n\\n\\n\\n\\n\\n\\n\\n\\n\\n\\n\\n\\n\\n\\n\\n\\n\\n\\n\\n\\n\\n\\n\\n\\n\\n\\n\\n\\n\\n\\n\\n\\n\\n\\n\\n\\n\\n\\n\\n\\n\\n\\n\\n\\n\\n\\n\\n\\n\\n\\n\\n\\n\\n\\n\\n\\n\\n\\n\\n\\n\\n\\n\\n\\n\\n\\n\\n\\n\\n\\n\\n\\n\\n\\n\\n\\n\\n\\n\\n\\n\\n\\n\\n\\n\\n\\n\\n\\n\\n\\n\\n\\n\\n\\n\\n\\n\\n\\n\\n\\n\\n\\n\\n\\n\\n\\n\\n\\n\\n\\n\\n\\n\\n\\n\\n\\n\\n\\n\\n\\n\\n\\n\\n\\n\\n\\n\\n\\n\\n\\n\\n\\n\\n\\n\\n\\n\\n\\n\\n\\n\\n\\n\\n\\n\\n\\n\\n\\n\\n\\n\\n\\n\\n\\n\\n\\n\\n\\n\\n\\n\\n\\n\\n\\n\\n\\n\\n\\n\\n\\n\\n\\n\\n\\n\\n\\n\\n\\n\\n\\n\\n\\n\\n\\n\\n\\n\\n\\n\\n\\n\\n\\n\\n\\n\\n\\n\\n\\n\\n\\n\\n\\n\\n\\n\\n\\n\\n\\n\\n\\n\\n\\n\\n\\n\\n\\n\\n\\n\\n\\n\\n\\n\\n\\n\\n\\n\\n\\n\\n\\n\\n\\n\\n\\n\\n\\n\\n\\n\\n\\n\\n\\n\\n\\n\\n\\n\\n\\n\\n\\n\\n\\n\\n\\n\\n\\n\\n\\n\\n\\n\\n\\n\\n\\n\\n\\n\\n\\n\\n\\n\\n\\n\\n\\n\\n\\n\\n\\n\\n\\n\\n\\n\\n\\n\\n\\n\\n\\n\\n\\n\\n\\n\\n\\n\\n\\n\\n\\n\\n\\n\\n\\n\\n\\n\\n\\n\\n\\n\\n\\n\\n\\n\\n\\n\\n\\n\\n\\n\\n\\n\\n\\n\\n\\n\\n\\n\\n\\n\\n\\n\\n\\n\\n\\n\\n\\n\\n\\n\\n\\n\\n\\n\\n\\n\\n\\n\\n\\n\\n\\n\\n\\n\\n\\n\\n\\n\\n\\n\\n\\n\\n\\n\\n\\n\\n\\n\\n\\n\\n\\n\\n\\n\\n\\n\\n\\n\\n\\n\\n\\n\\n\\n\\n\\n\\n\\n\\n\\n\\n\\n\\n\\n\\n\\n\\n\\n\\n\\n\\n\\n\\n\\n\\n\\n\\n\\n\\n\\n\\n\\n\\n\\n\\n\\n\\n\\n\\n\\n\\n\\n\\n\\n\\n\\n\\n\\n\\n\\n\\n\\n\\n\\n\\n\\n\\n\\n\\n\\n\\n\\n', 'qid': '6f5fb8a36831af18e6d1e31f906b51d4_0'}\n",
      "can not parse ans for res:  {'response': '\\n\\n\\n\\n\\n\\n\\n\\n\\n\\n\\n\\n\\n\\n\\n\\n\\n\\n\\n\\n\\n\\n\\n\\n\\n\\n\\n\\n\\n\\n\\n\\n\\n\\n\\n\\n\\n\\n\\n\\n\\n\\n\\n\\n\\n\\n\\n\\n\\n\\n\\n\\n\\n\\n\\n\\n\\n\\n\\n\\n\\n\\n\\n\\n\\n\\n\\n\\n\\n\\n\\n\\n\\n\\n\\n\\n\\n\\n\\n\\n\\n\\n\\n\\n\\n\\n\\n\\n\\n\\n\\n\\n\\n\\n\\n\\n\\n\\n\\n\\n\\n\\n\\n\\n\\n\\n\\n\\n\\n\\n\\n\\n\\n\\n\\n\\n\\n\\n\\n\\n\\n\\n\\n\\n\\n\\n\\n\\n\\n\\n\\n\\n\\n\\n\\n\\n\\n\\n\\n\\n\\n\\n\\n\\n\\n\\n\\n\\n\\n\\n\\n\\n\\n\\n\\n\\n\\n\\n\\n\\n\\n\\n\\n\\n\\n\\n\\n\\n\\n\\n\\n\\n\\n\\n\\n\\n\\n\\n\\n\\n\\n\\n\\n\\n\\n\\n\\n\\n\\n\\n\\n\\n\\n\\n\\n\\n\\n\\n\\n\\n\\n\\n\\n\\n\\n\\n\\n\\n\\n\\n\\n\\n\\n\\n\\n\\n\\n\\n\\n\\n\\n\\n\\n\\n\\n\\n\\n\\n\\n\\n\\n\\n\\n\\n\\n\\n\\n\\n\\n\\n\\n\\n\\n\\n\\n\\n\\n\\n\\n\\n\\n\\n\\n\\n\\n\\n\\n\\n\\n\\n\\n\\n\\n\\n\\n\\n\\n\\n\\n\\n\\n\\n\\n\\n\\n\\n\\n\\n\\n\\n\\n\\n\\n\\n\\n\\n\\n\\n\\n\\n\\n\\n\\n\\n\\n\\n\\n\\n\\n\\n\\n\\n\\n\\n\\n\\n\\n\\n\\n\\n\\n\\n\\n\\n\\n\\n\\n\\n\\n\\n\\n\\n\\n\\n\\n\\n\\n\\n\\n\\n\\n\\n\\n\\n\\n\\n\\n\\n\\n\\n\\n\\n\\n\\n\\n\\n\\n\\n\\n\\n\\n\\n\\n\\n\\n\\n\\n\\n\\n\\n\\n\\n\\n\\n\\n\\n\\n\\n\\n\\n\\n\\n\\n\\n\\n\\n\\n\\n\\n\\n\\n\\n\\n\\n\\n\\n\\n\\n\\n\\n\\n\\n\\n\\n\\n\\n\\n\\n\\n\\n\\n\\n\\n\\n\\n\\n\\n\\n\\n\\n\\n\\n\\n\\n\\n\\n\\n\\n\\n\\n\\n\\n\\n\\n\\n\\n\\n\\n\\n\\n\\n\\n\\n\\n\\n\\n\\n\\n\\n\\n\\n\\n\\n\\n\\n\\n\\n\\n\\n\\n\\n\\n\\n\\n\\n\\n\\n\\n\\n\\n\\n\\n\\n\\n\\n\\n\\n\\n\\n\\n\\n\\n\\n\\n\\n\\n\\n\\n\\n\\n\\n\\n\\n\\n\\n\\n\\n\\n\\n\\n\\n\\n\\n\\n\\n\\n\\n\\n\\n\\n', 'qid': '6f5fb8a36831af18e6d1e31f906b51d4_0'}\n",
      "can not parse ans for res:  {'response': '\\n\\n\\n\\n\\n\\n\\n\\n\\n\\n\\n\\n\\n\\n\\n\\n\\n\\n\\n\\n\\n\\n\\n\\n\\n\\n\\n\\n\\n\\n\\n\\n\\n\\n\\n\\n\\n\\n\\n\\n\\n\\n\\n\\n\\n\\n\\n\\n\\n\\n\\n\\n\\n\\n\\n\\n\\n\\n\\n\\n\\n\\n\\n\\n\\n\\n\\n\\n\\n\\n\\n\\n\\n\\n\\n\\n\\n\\n\\n\\n\\n\\n\\n\\n\\n\\n\\n\\n\\n\\n\\n\\n\\n\\n\\n\\n\\n\\n\\n\\n\\n\\n\\n\\n\\n\\n\\n\\n\\n\\n\\n\\n\\n\\n\\n\\n\\n\\n\\n\\n\\n\\n\\n\\n\\n\\n\\n\\n\\n\\n\\n\\n\\n\\n\\n\\n\\n\\n\\n\\n\\n\\n\\n\\n\\n\\n\\n\\n\\n\\n\\n\\n\\n\\n\\n\\n\\n\\n\\n\\n\\n\\n\\n\\n\\n\\n\\n\\n\\n\\n\\n\\n\\n\\n\\n\\n\\n\\n\\n\\n\\n\\n\\n\\n\\n\\n\\n\\n\\n\\n\\n\\n\\n\\n\\n\\n\\n\\n\\n\\n\\n\\n\\n\\n\\n\\n\\n\\n\\n\\n\\n\\n\\n\\n\\n\\n\\n\\n\\n\\n\\n\\n\\n\\n\\n\\n\\n\\n\\n\\n\\n\\n\\n\\n\\n\\n\\n\\n\\n\\n\\n\\n\\n\\n\\n\\n\\n\\n\\n\\n\\n\\n\\n\\n\\n\\n\\n\\n\\n\\n\\n\\n\\n\\n\\n\\n\\n\\n\\n\\n\\n\\n\\n\\n\\n\\n\\n\\n\\n\\n\\n\\n\\n\\n\\n\\n\\n\\n\\n\\n\\n\\n\\n\\n\\n\\n\\n\\n\\n\\n\\n\\n\\n\\n\\n\\n\\n\\n\\n\\n\\n\\n\\n\\n\\n\\n\\n\\n\\n\\n\\n\\n\\n\\n\\n\\n\\n\\n\\n\\n\\n\\n\\n\\n\\n\\n\\n\\n\\n\\n\\n\\n\\n\\n\\n\\n\\n\\n\\n\\n\\n\\n\\n\\n\\n\\n\\n\\n\\n\\n\\n\\n\\n\\n\\n\\n\\n\\n\\n\\n\\n\\n\\n\\n\\n\\n\\n\\n\\n\\n\\n\\n\\n\\n\\n\\n\\n\\n\\n\\n\\n\\n\\n\\n\\n\\n\\n\\n\\n\\n\\n\\n\\n\\n\\n\\n\\n\\n\\n\\n\\n\\n\\n\\n\\n\\n\\n\\n\\n\\n\\n\\n\\n\\n\\n\\n\\n\\n\\n\\n\\n\\n\\n\\n\\n\\n\\n\\n\\n\\n\\n\\n\\n\\n\\n\\n\\n\\n\\n\\n\\n\\n\\n\\n\\n\\n\\n\\n\\n\\n\\n\\n\\n\\n\\n\\n\\n\\n\\n\\n\\n\\n\\n\\n\\n\\n\\n\\n\\n\\n\\n\\n\\n\\n\\n\\n\\n\\n\\n\\n\\n\\n\\n\\n\\n\\n\\n\\n\\n\\n', 'qid': '6f5fb8a36831af18e6d1e31f906b51d4_1'}\n",
      "can not parse ans for res:  {'response': '\\n\\n\\n\\n\\n\\n\\n\\n\\n\\n\\n\\n\\n\\n\\n\\n\\n\\n\\n\\n\\n\\n\\n\\n\\n\\n\\n\\n\\n\\n\\n\\n\\n\\n\\n\\n\\n\\n\\n\\n\\n\\n\\n\\n\\n\\n\\n\\n\\n\\n\\n\\n\\n\\n\\n\\n\\n\\n\\n\\n\\n\\n\\n\\n\\n\\n\\n\\n\\n\\n\\n\\n\\n\\n\\n\\n\\n\\n\\n\\n\\n\\n\\n\\n\\n\\n\\n\\n\\n\\n\\n\\n\\n\\n\\n\\n\\n\\n\\n\\n\\n\\n\\n\\n\\n\\n\\n\\n\\n\\n\\n\\n\\n\\n\\n\\n\\n\\n\\n\\n\\n\\n\\n\\n\\n\\n\\n\\n\\n\\n\\n\\n\\n\\n\\n\\n\\n\\n\\n\\n\\n\\n\\n\\n\\n\\n\\n\\n\\n\\n\\n\\n\\n\\n\\n\\n\\n\\n\\n\\n\\n\\n\\n\\n\\n\\n\\n\\n\\n\\n\\n\\n\\n\\n\\n\\n\\n\\n\\n\\n\\n\\n\\n\\n\\n\\n\\n\\n\\n\\n\\n\\n\\n\\n\\n\\n\\n\\n\\n\\n\\n\\n\\n\\n\\n\\n\\n\\n\\n\\n\\n\\n\\n\\n\\n\\n\\n\\n\\n\\n\\n\\n\\n\\n\\n\\n\\n\\n\\n\\n\\n\\n\\n\\n\\n\\n\\n\\n\\n\\n\\n\\n\\n\\n\\n\\n\\n\\n\\n\\n\\n\\n\\n\\n\\n\\n\\n\\n\\n\\n\\n\\n\\n\\n\\n\\n\\n\\n\\n\\n\\n\\n\\n\\n\\n\\n\\n\\n\\n\\n\\n\\n\\n\\n\\n\\n\\n\\n\\n\\n\\n\\n\\n\\n\\n\\n\\n\\n\\n\\n\\n\\n\\n\\n\\n\\n\\n\\n\\n\\n\\n\\n\\n\\n\\n\\n\\n\\n\\n\\n\\n\\n\\n\\n\\n\\n\\n\\n\\n\\n\\n\\n\\n\\n\\n\\n\\n\\n\\n\\n\\n\\n\\n\\n\\n\\n\\n\\n\\n\\n\\n\\n\\n\\n\\n\\n\\n\\n\\n\\n\\n\\n\\n\\n\\n\\n\\n\\n\\n\\n\\n\\n\\n\\n\\n\\n\\n\\n\\n\\n\\n\\n\\n\\n\\n\\n\\n\\n\\n\\n\\n\\n\\n\\n\\n\\n\\n\\n\\n\\n\\n\\n\\n\\n\\n\\n\\n\\n\\n\\n\\n\\n\\n\\n\\n\\n\\n\\n\\n\\n\\n\\n\\n\\n\\n\\n\\n\\n\\n\\n\\n\\n\\n\\n\\n\\n\\n\\n\\n\\n\\n\\n\\n\\n\\n\\n\\n\\n\\n\\n\\n\\n\\n\\n\\n\\n\\n\\n\\n\\n\\n\\n\\n\\n\\n\\n\\n\\n\\n\\n\\n\\n\\n\\n\\n\\n\\n\\n\\n\\n\\n\\n\\n\\n\\n\\n\\n\\n\\n\\n\\n\\n\\n\\n\\n\\n\\n\\n\\n\\n', 'qid': '6f5fb8a36831af18e6d1e31f906b51d4_2'}\n",
      "can not parse ans for res:  {'response': '\\n\\n\\n\\n\\n\\n\\n\\n\\n\\n\\n\\n\\n\\n\\n\\n\\n\\n\\n\\n\\n\\n\\n\\n\\n\\n\\n\\n\\n\\n\\n\\n\\n\\n\\n\\n\\n\\n\\n\\n\\n\\n\\n\\n\\n\\n\\n\\n\\n\\n\\n\\n\\n\\n\\n\\n\\n\\n\\n\\n\\n\\n\\n\\n\\n\\n\\n\\n\\n\\n\\n\\n\\n\\n\\n\\n\\n\\n\\n\\n\\n\\n\\n\\n\\n\\n\\n\\n\\n\\n\\n\\n\\n\\n\\n\\n\\n\\n\\n\\n\\n\\n\\n\\n\\n\\n\\n\\n\\n\\n\\n\\n\\n\\n\\n\\n\\n\\n\\n\\n\\n\\n\\n\\n\\n\\n\\n\\n\\n\\n\\n\\n\\n\\n\\n\\n\\n\\n\\n\\n\\n\\n\\n\\n\\n\\n\\n\\n\\n\\n\\n\\n\\n\\n\\n\\n\\n\\n\\n\\n\\n\\n\\n\\n\\n\\n\\n\\n\\n\\n\\n\\n\\n\\n\\n\\n\\n\\n\\n\\n\\n\\n\\n\\n\\n\\n\\n\\n\\n\\n\\n\\n\\n\\n\\n\\n\\n\\n\\n\\n\\n\\n\\n\\n\\n\\n\\n\\n\\n\\n\\n\\n\\n\\n\\n\\n\\n\\n\\n\\n\\n\\n\\n\\n\\n\\n\\n\\n\\n\\n\\n\\n\\n\\n\\n\\n\\n\\n\\n\\n\\n\\n\\n\\n\\n\\n\\n\\n\\n\\n\\n\\n\\n\\n\\n\\n\\n\\n\\n\\n\\n\\n\\n\\n\\n\\n\\n\\n\\n\\n\\n\\n\\n\\n\\n\\n\\n\\n\\n\\n\\n\\n\\n\\n\\n\\n\\n\\n\\n\\n\\n\\n\\n\\n\\n\\n\\n\\n\\n\\n\\n\\n\\n\\n\\n\\n\\n\\n\\n\\n\\n\\n\\n\\n\\n\\n\\n\\n\\n\\n\\n\\n\\n\\n\\n\\n\\n\\n\\n\\n\\n\\n\\n\\n\\n\\n\\n\\n\\n\\n\\n\\n\\n\\n\\n\\n\\n\\n\\n\\n\\n\\n\\n\\n\\n\\n\\n\\n\\n\\n\\n\\n\\n\\n\\n\\n\\n\\n\\n\\n\\n\\n\\n\\n\\n\\n\\n\\n\\n\\n\\n\\n\\n\\n\\n\\n\\n\\n\\n\\n\\n\\n\\n\\n\\n\\n\\n\\n\\n\\n\\n\\n\\n\\n\\n\\n\\n\\n\\n\\n\\n\\n\\n\\n\\n\\n\\n\\n\\n\\n\\n\\n\\n\\n\\n\\n\\n\\n\\n\\n\\n\\n\\n\\n\\n\\n\\n\\n\\n\\n\\n\\n\\n\\n\\n\\n\\n\\n\\n\\n\\n\\n\\n\\n\\n\\n\\n\\n\\n\\n\\n\\n\\n\\n\\n\\n\\n\\n\\n\\n\\n\\n\\n\\n\\n\\n\\n\\n\\n\\n\\n\\n\\n\\n\\n\\n\\n\\n\\n\\n\\n\\n\\n\\n\\n\\n\\n\\n\\n\\n', 'qid': '6f5fb8a36831af18e6d1e31f906b51d4_0'}\n",
      "can not parse ans for res:  {'response': '\\n\\n\\n\\n\\n\\n\\n\\n\\n\\n\\n\\n\\n\\n\\n\\n\\n\\n\\n\\n\\n\\n\\n\\n\\n\\n\\n\\n\\n\\n\\n\\n\\n\\n\\n\\n\\n\\n\\n\\n\\n\\n\\n\\n\\n\\n\\n\\n\\n\\n\\n\\n\\n\\n\\n\\n\\n\\n\\n\\n\\n\\n\\n\\n\\n\\n\\n\\n\\n\\n\\n\\n\\n\\n\\n\\n\\n\\n\\n\\n\\n\\n\\n\\n\\n\\n\\n\\n\\n\\n\\n\\n\\n\\n\\n\\n\\n\\n\\n\\n\\n\\n\\n\\n\\n\\n\\n\\n\\n\\n\\n\\n\\n\\n\\n\\n\\n\\n\\n\\n\\n\\n\\n\\n\\n\\n\\n\\n\\n\\n\\n\\n\\n\\n\\n\\n\\n\\n\\n\\n\\n\\n\\n\\n\\n\\n\\n\\n\\n\\n\\n\\n\\n\\n\\n\\n\\n\\n\\n\\n\\n\\n\\n\\n\\n\\n\\n\\n\\n\\n\\n\\n\\n\\n\\n\\n\\n\\n\\n\\n\\n\\n\\n\\n\\n\\n\\n\\n\\n\\n\\n\\n\\n\\n\\n\\n\\n\\n\\n\\n\\n\\n\\n\\n\\n\\n\\n\\n\\n\\n\\n\\n\\n\\n\\n\\n\\n\\n\\n\\n\\n\\n\\n\\n\\n\\n\\n\\n\\n\\n\\n\\n\\n\\n\\n\\n\\n\\n\\n\\n\\n\\n\\n\\n\\n\\n\\n\\n\\n\\n\\n\\n\\n\\n\\n\\n\\n\\n\\n\\n\\n\\n\\n\\n\\n\\n\\n\\n\\n\\n\\n\\n\\n\\n\\n\\n\\n\\n\\n\\n\\n\\n\\n\\n\\n\\n\\n\\n\\n\\n\\n\\n\\n\\n\\n\\n\\n\\n\\n\\n\\n\\n\\n\\n\\n\\n\\n\\n\\n\\n\\n\\n\\n\\n\\n\\n\\n\\n\\n\\n\\n\\n\\n\\n\\n\\n\\n\\n\\n\\n\\n\\n\\n\\n\\n\\n\\n\\n\\n\\n\\n\\n\\n\\n\\n\\n\\n\\n\\n\\n\\n\\n\\n\\n\\n\\n\\n\\n\\n\\n\\n\\n\\n\\n\\n\\n\\n\\n\\n\\n\\n\\n\\n\\n\\n\\n\\n\\n\\n\\n\\n\\n\\n\\n\\n\\n\\n\\n\\n\\n\\n\\n\\n\\n\\n\\n\\n\\n\\n\\n\\n\\n\\n\\n\\n\\n\\n\\n\\n\\n\\n\\n\\n\\n\\n\\n\\n\\n\\n\\n\\n\\n\\n\\n\\n\\n\\n\\n\\n\\n\\n\\n\\n\\n\\n\\n\\n\\n\\n\\n\\n\\n\\n\\n\\n\\n\\n\\n\\n\\n\\n\\n\\n\\n\\n\\n\\n\\n\\n\\n\\n\\n\\n\\n\\n\\n\\n\\n\\n\\n\\n\\n\\n\\n\\n\\n\\n\\n\\n\\n\\n\\n\\n\\n\\n\\n\\n\\n\\n\\n\\n\\n\\n\\n\\n\\n\\n\\n\\n\\n', 'qid': '6f5fb8a36831af18e6d1e31f906b51d4_0'}\n",
      "can not parse ans for res:  {'response': '\\n\\n\\n\\n\\n\\n\\n\\n\\n\\n\\n\\n\\n\\n\\n\\n\\n\\n\\n\\n\\n\\n\\n\\n\\n\\n\\n\\n\\n\\n\\n\\n\\n\\n\\n\\n\\n\\n\\n\\n\\n\\n\\n\\n\\n\\n\\n\\n\\n\\n\\n\\n\\n\\n\\n\\n\\n\\n\\n\\n\\n\\n\\n\\n\\n\\n\\n\\n\\n\\n\\n\\n\\n\\n\\n\\n\\n\\n\\n\\n\\n\\n\\n\\n\\n\\n\\n\\n\\n\\n\\n\\n\\n\\n\\n\\n\\n\\n\\n\\n\\n\\n\\n\\n\\n\\n\\n\\n\\n\\n\\n\\n\\n\\n\\n\\n\\n\\n\\n\\n\\n\\n\\n\\n\\n\\n\\n\\n\\n\\n\\n\\n\\n\\n\\n\\n\\n\\n\\n\\n\\n\\n\\n\\n\\n\\n\\n\\n\\n\\n\\n\\n\\n\\n\\n\\n\\n\\n\\n\\n\\n\\n\\n\\n\\n\\n\\n\\n\\n\\n\\n\\n\\n\\n\\n\\n\\n\\n\\n\\n\\n\\n\\n\\n\\n\\n\\n\\n\\n\\n\\n\\n\\n\\n\\n\\n\\n\\n\\n\\n\\n\\n\\n\\n\\n\\n\\n\\n\\n\\n\\n\\n\\n\\n\\n\\n\\n\\n\\n\\n\\n\\n\\n\\n\\n\\n\\n\\n\\n\\n\\n\\n\\n\\n\\n\\n\\n\\n\\n\\n\\n\\n\\n\\n\\n\\n\\n\\n\\n\\n\\n\\n\\n\\n\\n\\n\\n\\n\\n\\n\\n\\n\\n\\n\\n\\n\\n\\n\\n\\n\\n\\n\\n\\n\\n\\n\\n\\n\\n\\n\\n\\n\\n\\n\\n\\n\\n\\n\\n\\n\\n\\n\\n\\n\\n\\n\\n\\n\\n\\n\\n\\n\\n\\n\\n\\n\\n\\n\\n\\n\\n\\n\\n\\n\\n\\n\\n\\n\\n\\n\\n\\n\\n\\n\\n\\n\\n\\n\\n\\n\\n\\n\\n\\n\\n\\n\\n\\n\\n\\n\\n\\n\\n\\n\\n\\n\\n\\n\\n\\n\\n\\n\\n\\n\\n\\n\\n\\n\\n\\n\\n\\n\\n\\n\\n\\n\\n\\n\\n\\n\\n\\n\\n\\n\\n\\n\\n\\n\\n\\n\\n\\n\\n\\n\\n\\n\\n\\n\\n\\n\\n\\n\\n\\n\\n\\n\\n\\n\\n\\n\\n\\n\\n\\n\\n\\n\\n\\n\\n\\n\\n\\n\\n\\n\\n\\n\\n\\n\\n\\n\\n\\n\\n\\n\\n\\n\\n\\n\\n\\n\\n\\n\\n\\n\\n\\n\\n\\n\\n\\n\\n\\n\\n\\n\\n\\n\\n\\n\\n\\n\\n\\n\\n\\n\\n\\n\\n\\n\\n\\n\\n\\n\\n\\n\\n\\n\\n\\n\\n\\n\\n\\n\\n\\n\\n\\n\\n\\n\\n\\n\\n\\n\\n\\n\\n\\n\\n\\n\\n\\n\\n\\n\\n\\n\\n\\n\\n\\n\\n\\n', 'qid': '27bd1d7663eafe5ff068ab349885c221_0'}\n",
      "can not parse ans for res:  {'response': '\\n\\n\\n\\n\\n\\n\\n\\n\\n\\n\\n\\n\\n\\n\\n\\n\\n\\n\\n\\n\\n\\n\\n\\n\\n\\n\\n\\n\\n\\n\\n\\n\\n\\n\\n\\n\\n\\n\\n\\n\\n\\n\\n\\n\\n\\n\\n\\n\\n\\n\\n\\n\\n\\n\\n\\n\\n\\n\\n\\n\\n\\n\\n\\n\\n\\n\\n\\n\\n\\n\\n\\n\\n\\n\\n\\n\\n\\n\\n\\n\\n\\n\\n\\n\\n\\n\\n\\n\\n\\n\\n\\n\\n\\n\\n\\n\\n\\n\\n\\n\\n\\n\\n\\n\\n\\n\\n\\n\\n\\n\\n\\n\\n\\n\\n\\n\\n\\n\\n\\n\\n\\n\\n\\n\\n\\n\\n\\n\\n\\n\\n\\n\\n\\n\\n\\n\\n\\n\\n\\n\\n\\n\\n\\n\\n\\n\\n\\n\\n\\n\\n\\n\\n\\n\\n\\n\\n\\n\\n\\n\\n\\n\\n\\n\\n\\n\\n\\n\\n\\n\\n\\n\\n\\n\\n\\n\\n\\n\\n\\n\\n\\n\\n\\n\\n\\n\\n\\n\\n\\n\\n\\n\\n\\n\\n\\n\\n\\n\\n\\n\\n\\n\\n\\n\\n\\n\\n\\n\\n\\n\\n\\n\\n\\n\\n\\n\\n\\n\\n\\n\\n\\n\\n\\n\\n\\n\\n\\n\\n\\n\\n\\n\\n\\n\\n\\n\\n\\n\\n\\n\\n\\n\\n\\n\\n\\n\\n\\n\\n\\n\\n\\n\\n\\n\\n\\n\\n\\n\\n\\n\\n\\n\\n\\n\\n\\n\\n\\n\\n\\n\\n\\n\\n\\n\\n\\n\\n\\n\\n\\n\\n\\n\\n\\n\\n\\n\\n\\n\\n\\n\\n\\n\\n\\n\\n\\n\\n\\n\\n\\n\\n\\n\\n\\n\\n\\n\\n\\n\\n\\n\\n\\n\\n\\n\\n\\n\\n\\n\\n\\n\\n\\n\\n\\n\\n\\n\\n\\n\\n\\n\\n\\n\\n\\n\\n\\n\\n\\n\\n\\n\\n\\n\\n\\n\\n\\n\\n\\n\\n\\n\\n\\n\\n\\n\\n\\n\\n\\n\\n\\n\\n\\n\\n\\n\\n\\n\\n\\n\\n\\n\\n\\n\\n\\n\\n\\n\\n\\n\\n\\n\\n\\n\\n\\n\\n\\n\\n\\n\\n\\n\\n\\n\\n\\n\\n\\n\\n\\n\\n\\n\\n\\n\\n\\n\\n\\n\\n\\n\\n\\n\\n\\n\\n\\n\\n\\n\\n\\n\\n\\n\\n\\n\\n\\n\\n\\n\\n\\n\\n\\n\\n\\n\\n\\n\\n\\n\\n\\n\\n\\n\\n\\n\\n\\n\\n\\n\\n\\n\\n\\n\\n\\n\\n\\n\\n\\n\\n\\n\\n\\n\\n\\n\\n\\n\\n\\n\\n\\n\\n\\n\\n\\n\\n\\n\\n\\n\\n\\n\\n\\n\\n\\n\\n\\n\\n\\n\\n\\n\\n\\n\\n\\n\\n\\n\\n\\n\\n\\n\\n\\n', 'qid': '27bd1d7663eafe5ff068ab349885c221_0'}\n",
      "can not parse ans for res:  {'response': '\\n\\n\\n\\n\\n\\n\\n\\n\\n\\n\\n\\n\\n\\n\\n\\n\\n\\n\\n\\n\\n\\n\\n\\n\\n\\n\\n\\n\\n\\n\\n\\n\\n\\n\\n\\n\\n\\n\\n\\n\\n\\n\\n\\n\\n\\n\\n\\n\\n\\n\\n\\n\\n\\n\\n\\n\\n\\n\\n\\n\\n\\n\\n\\n\\n\\n\\n\\n\\n\\n\\n\\n\\n\\n\\n\\n\\n\\n\\n\\n\\n\\n\\n\\n\\n\\n\\n\\n\\n\\n\\n\\n\\n\\n\\n\\n\\n\\n\\n\\n\\n\\n\\n\\n\\n\\n\\n\\n\\n\\n\\n\\n\\n\\n\\n\\n\\n\\n\\n\\n\\n\\n\\n\\n\\n\\n\\n\\n\\n\\n\\n\\n\\n\\n\\n\\n\\n\\n\\n\\n\\n\\n\\n\\n\\n\\n\\n\\n\\n\\n\\n\\n\\n\\n\\n\\n\\n\\n\\n\\n\\n\\n\\n\\n\\n\\n\\n\\n\\n\\n\\n\\n\\n\\n\\n\\n\\n\\n\\n\\n\\n\\n\\n\\n\\n\\n\\n\\n\\n\\n\\n\\n\\n\\n\\n\\n\\n\\n\\n\\n\\n\\n\\n\\n\\n\\n\\n\\n\\n\\n\\n\\n\\n\\n\\n\\n\\n\\n\\n\\n\\n\\n\\n\\n\\n\\n\\n\\n\\n\\n\\n\\n\\n\\n\\n\\n\\n\\n\\n\\n\\n\\n\\n\\n\\n\\n\\n\\n\\n\\n\\n\\n\\n\\n\\n\\n\\n\\n\\n\\n\\n\\n\\n\\n\\n\\n\\n\\n\\n\\n\\n\\n\\n\\n\\n\\n\\n\\n\\n\\n\\n\\n\\n\\n\\n\\n\\n\\n\\n\\n\\n\\n\\n\\n\\n\\n\\n\\n\\n\\n\\n\\n\\n\\n\\n\\n\\n\\n\\n\\n\\n\\n\\n\\n\\n\\n\\n\\n\\n\\n\\n\\n\\n\\n\\n\\n\\n\\n\\n\\n\\n\\n\\n\\n\\n\\n\\n\\n\\n\\n\\n\\n\\n\\n\\n\\n\\n\\n\\n\\n\\n\\n\\n\\n\\n\\n\\n\\n\\n\\n\\n\\n\\n\\n\\n\\n\\n\\n\\n\\n\\n\\n\\n\\n\\n\\n\\n\\n\\n\\n\\n\\n\\n\\n\\n\\n\\n\\n\\n\\n\\n\\n\\n\\n\\n\\n\\n\\n\\n\\n\\n\\n\\n\\n\\n\\n\\n\\n\\n\\n\\n\\n\\n\\n\\n\\n\\n\\n\\n\\n\\n\\n\\n\\n\\n\\n\\n\\n\\n\\n\\n\\n\\n\\n\\n\\n\\n\\n\\n\\n\\n\\n\\n\\n\\n\\n\\n\\n\\n\\n\\n\\n\\n\\n\\n\\n\\n\\n\\n\\n\\n\\n\\n\\n\\n\\n\\n\\n\\n\\n\\n\\n\\n\\n\\n\\n\\n\\n\\n\\n\\n\\n\\n\\n\\n\\n\\n\\n\\n\\n\\n\\n\\n\\n\\n\\n\\n\\n\\n\\n', 'qid': '27bd1d7663eafe5ff068ab349885c221_0'}\n",
      "can not parse ans for res:  {'response': '\\n\\n\\n\\n\\n\\n\\n\\n\\n\\n\\n\\n\\n\\n\\n\\n\\n\\n\\n\\n\\n\\n\\n\\n\\n\\n\\n\\n\\n\\n\\n\\n\\n\\n\\n\\n\\n\\n\\n\\n\\n\\n\\n\\n\\n\\n\\n\\n\\n\\n\\n\\n\\n\\n\\n\\n\\n\\n\\n\\n\\n\\n\\n\\n\\n\\n\\n\\n\\n\\n\\n\\n\\n\\n\\n\\n\\n\\n\\n\\n\\n\\n\\n\\n\\n\\n\\n\\n\\n\\n\\n\\n\\n\\n\\n\\n\\n\\n\\n\\n\\n\\n\\n\\n\\n\\n\\n\\n\\n\\n\\n\\n\\n\\n\\n\\n\\n\\n\\n\\n\\n\\n\\n\\n\\n\\n\\n\\n\\n\\n\\n\\n\\n\\n\\n\\n\\n\\n\\n\\n\\n\\n\\n\\n\\n\\n\\n\\n\\n\\n\\n\\n\\n\\n\\n\\n\\n\\n\\n\\n\\n\\n\\n\\n\\n\\n\\n\\n\\n\\n\\n\\n\\n\\n\\n\\n\\n\\n\\n\\n\\n\\n\\n\\n\\n\\n\\n\\n\\n\\n\\n\\n\\n\\n\\n\\n\\n\\n\\n\\n\\n\\n\\n\\n\\n\\n\\n\\n\\n\\n\\n\\n\\n\\n\\n\\n\\n\\n\\n\\n\\n\\n\\n\\n\\n\\n\\n\\n\\n\\n\\n\\n\\n\\n\\n\\n\\n\\n\\n\\n\\n\\n\\n\\n\\n\\n\\n\\n\\n\\n\\n\\n\\n\\n\\n\\n\\n\\n\\n\\n\\n\\n\\n\\n\\n\\n\\n\\n\\n\\n\\n\\n\\n\\n\\n\\n\\n\\n\\n\\n\\n\\n\\n\\n\\n\\n\\n\\n\\n\\n\\n\\n\\n\\n\\n\\n\\n\\n\\n\\n\\n\\n\\n\\n\\n\\n\\n\\n\\n\\n\\n\\n\\n\\n\\n\\n\\n\\n\\n\\n\\n\\n\\n\\n\\n\\n\\n\\n\\n\\n\\n\\n\\n\\n\\n\\n\\n\\n\\n\\n\\n\\n\\n\\n\\n\\n\\n\\n\\n\\n\\n\\n\\n\\n\\n\\n\\n\\n\\n\\n\\n\\n\\n\\n\\n\\n\\n\\n\\n\\n\\n\\n\\n\\n\\n\\n\\n\\n\\n\\n\\n\\n\\n\\n\\n\\n\\n\\n\\n\\n\\n\\n\\n\\n\\n\\n\\n\\n\\n\\n\\n\\n\\n\\n\\n\\n\\n\\n\\n\\n\\n\\n\\n\\n\\n\\n\\n\\n\\n\\n\\n\\n\\n\\n\\n\\n\\n\\n\\n\\n\\n\\n\\n\\n\\n\\n\\n\\n\\n\\n\\n\\n\\n\\n\\n\\n\\n\\n\\n\\n\\n\\n\\n\\n\\n\\n\\n\\n\\n\\n\\n\\n\\n\\n\\n\\n\\n\\n\\n\\n\\n\\n\\n\\n\\n\\n\\n\\n\\n\\n\\n\\n\\n\\n\\n\\n\\n\\n\\n\\n\\n\\n\\n\\n\\n\\n\\n\\n\\n\\n', 'qid': '27bd1d7663eafe5ff068ab349885c221_2'}\n",
      "can not parse ans for res:  {'response': '\\n\\n\\n\\n\\n\\n\\n\\n\\n\\n\\n\\n\\n\\n\\n\\n\\n\\n\\n\\n\\n\\n\\n\\n\\n\\n\\n\\n\\n\\n\\n\\n\\n\\n\\n\\n\\n\\n\\n\\n\\n\\n\\n\\n\\n\\n\\n\\n\\n\\n\\n\\n\\n\\n\\n\\n\\n\\n\\n\\n\\n\\n\\n\\n\\n\\n\\n\\n\\n\\n\\n\\n\\n\\n\\n\\n\\n\\n\\n\\n\\n\\n\\n\\n\\n\\n\\n\\n\\n\\n\\n\\n\\n\\n\\n\\n\\n\\n\\n\\n\\n\\n\\n\\n\\n\\n\\n\\n\\n\\n\\n\\n\\n\\n\\n\\n\\n\\n\\n\\n\\n\\n\\n\\n\\n\\n\\n\\n\\n\\n\\n\\n\\n\\n\\n\\n\\n\\n\\n\\n\\n\\n\\n\\n\\n\\n\\n\\n\\n\\n\\n\\n\\n\\n\\n\\n\\n\\n\\n\\n\\n\\n\\n\\n\\n\\n\\n\\n\\n\\n\\n\\n\\n\\n\\n\\n\\n\\n\\n\\n\\n\\n\\n\\n\\n\\n\\n\\n\\n\\n\\n\\n\\n\\n\\n\\n\\n\\n\\n\\n\\n\\n\\n\\n\\n\\n\\n\\n\\n\\n\\n\\n\\n\\n\\n\\n\\n\\n\\n\\n\\n\\n\\n\\n\\n\\n\\n\\n\\n\\n\\n\\n\\n\\n\\n\\n\\n\\n\\n\\n\\n\\n\\n\\n\\n\\n\\n\\n\\n\\n\\n\\n\\n\\n\\n\\n\\n\\n\\n\\n\\n\\n\\n\\n\\n\\n\\n\\n\\n\\n\\n\\n\\n\\n\\n\\n\\n\\n\\n\\n\\n\\n\\n\\n\\n\\n\\n\\n\\n\\n\\n\\n\\n\\n\\n\\n\\n\\n\\n\\n\\n\\n\\n\\n\\n\\n\\n\\n\\n\\n\\n\\n\\n\\n\\n\\n\\n\\n\\n\\n\\n\\n\\n\\n\\n\\n\\n\\n\\n\\n\\n\\n\\n\\n\\n\\n\\n\\n\\n\\n\\n\\n\\n\\n\\n\\n\\n\\n\\n\\n\\n\\n\\n\\n\\n\\n\\n\\n\\n\\n\\n\\n\\n\\n\\n\\n\\n\\n\\n\\n\\n\\n\\n\\n\\n\\n\\n\\n\\n\\n\\n\\n\\n\\n\\n\\n\\n\\n\\n\\n\\n\\n\\n\\n\\n\\n\\n\\n\\n\\n\\n\\n\\n\\n\\n\\n\\n\\n\\n\\n\\n\\n\\n\\n\\n\\n\\n\\n\\n\\n\\n\\n\\n\\n\\n\\n\\n\\n\\n\\n\\n\\n\\n\\n\\n\\n\\n\\n\\n\\n\\n\\n\\n\\n\\n\\n\\n\\n\\n\\n\\n\\n\\n\\n\\n\\n\\n\\n\\n\\n\\n\\n\\n\\n\\n\\n\\n\\n\\n\\n\\n\\n\\n\\n\\n\\n\\n\\n\\n\\n\\n\\n\\n\\n\\n\\n\\n\\n\\n\\n\\n\\n\\n\\n\\n\\n\\n\\n\\n\\n', 'qid': '8fe547e3165c8929ae262e6426d58fbe_1'}\n",
      "can not parse ans for res:  {'response': '\\n\\n\\n\\n\\n\\n\\n\\n\\n\\n\\n\\n\\n\\n\\n\\n\\n\\n\\n\\n\\n\\n\\n\\n\\n\\n\\n\\n\\n\\n\\n\\n\\n\\n\\n\\n\\n\\n\\n\\n\\n\\n\\n\\n\\n\\n\\n\\n\\n\\n\\n\\n\\n\\n\\n\\n\\n\\n\\n\\n\\n\\n\\n\\n\\n\\n\\n\\n\\n\\n\\n\\n\\n\\n\\n\\n\\n\\n\\n\\n\\n\\n\\n\\n\\n\\n\\n\\n\\n\\n\\n\\n\\n\\n\\n\\n\\n\\n\\n\\n\\n\\n\\n\\n\\n\\n\\n\\n\\n\\n\\n\\n\\n\\n\\n\\n\\n\\n\\n\\n\\n\\n\\n\\n\\n\\n\\n\\n\\n\\n\\n\\n\\n\\n\\n\\n\\n\\n\\n\\n\\n\\n\\n\\n\\n\\n\\n\\n\\n\\n\\n\\n\\n\\n\\n\\n\\n\\n\\n\\n\\n\\n\\n\\n\\n\\n\\n\\n\\n\\n\\n\\n\\n\\n\\n\\n\\n\\n\\n\\n\\n\\n\\n\\n\\n\\n\\n\\n\\n\\n\\n\\n\\n\\n\\n\\n\\n\\n\\n\\n\\n\\n\\n\\n\\n\\n\\n\\n\\n\\n\\n\\n\\n\\n\\n\\n\\n\\n\\n\\n\\n\\n\\n\\n\\n\\n\\n\\n\\n\\n\\n\\n\\n\\n\\n\\n\\n\\n\\n\\n\\n\\n\\n\\n\\n\\n\\n\\n\\n\\n\\n\\n\\n\\n\\n\\n\\n\\n\\n\\n\\n\\n\\n\\n\\n\\n\\n\\n\\n\\n\\n\\n\\n\\n\\n\\n\\n\\n\\n\\n\\n\\n\\n\\n\\n\\n\\n\\n\\n\\n\\n\\n\\n\\n\\n\\n\\n\\n\\n\\n\\n\\n\\n\\n\\n\\n\\n\\n\\n\\n\\n\\n\\n\\n\\n\\n\\n\\n\\n\\n\\n\\n\\n\\n\\n\\n\\n\\n\\n\\n\\n\\n\\n\\n\\n\\n\\n\\n\\n\\n\\n\\n\\n\\n\\n\\n\\n\\n\\n\\n\\n\\n\\n\\n\\n\\n\\n\\n\\n\\n\\n\\n\\n\\n\\n\\n\\n\\n\\n\\n\\n\\n\\n\\n\\n\\n\\n\\n\\n\\n\\n\\n\\n\\n\\n\\n\\n\\n\\n\\n\\n\\n\\n\\n\\n\\n\\n\\n\\n\\n\\n\\n\\n\\n\\n\\n\\n\\n\\n\\n\\n\\n\\n\\n\\n\\n\\n\\n\\n\\n\\n\\n\\n\\n\\n\\n\\n\\n\\n\\n\\n\\n\\n\\n\\n\\n\\n\\n\\n\\n\\n\\n\\n\\n\\n\\n\\n\\n\\n\\n\\n\\n\\n\\n\\n\\n\\n\\n\\n\\n\\n\\n\\n\\n\\n\\n\\n\\n\\n\\n\\n\\n\\n\\n\\n\\n\\n\\n\\n\\n\\n\\n\\n\\n\\n\\n\\n\\n\\n\\n\\n\\n\\n\\n\\n\\n\\n\\n\\n\\n', 'qid': '8fe547e3165c8929ae262e6426d58fbe_2'}\n",
      "can not parse ans for res:  {'response': '\\n\\n\\n\\n\\n\\n\\n\\n\\n\\n\\n\\n\\n\\n\\n\\n\\n\\n\\n\\n\\n\\n\\n\\n\\n\\n\\n\\n\\n\\n\\n\\n\\n\\n\\n\\n\\n\\n\\n\\n\\n\\n\\n\\n\\n\\n\\n\\n\\n\\n\\n\\n\\n\\n\\n\\n\\n\\n\\n\\n\\n\\n\\n\\n\\n\\n\\n\\n\\n\\n\\n\\n\\n\\n\\n\\n\\n\\n\\n\\n\\n\\n\\n\\n\\n\\n\\n\\n\\n\\n\\n\\n\\n\\n\\n\\n\\n\\n\\n\\n\\n\\n\\n\\n\\n\\n\\n\\n\\n\\n\\n\\n\\n\\n\\n\\n\\n\\n\\n\\n\\n\\n\\n\\n\\n\\n\\n\\n\\n\\n\\n\\n\\n\\n\\n\\n\\n\\n\\n\\n\\n\\n\\n\\n\\n\\n\\n\\n\\n\\n\\n\\n\\n\\n\\n\\n\\n\\n\\n\\n\\n\\n\\n\\n\\n\\n\\n\\n\\n\\n\\n\\n\\n\\n\\n\\n\\n\\n\\n\\n\\n\\n\\n\\n\\n\\n\\n\\n\\n\\n\\n\\n\\n\\n\\n\\n\\n\\n\\n\\n\\n\\n\\n\\n\\n\\n\\n\\n\\n\\n\\n\\n\\n\\n\\n\\n\\n\\n\\n\\n\\n\\n\\n\\n\\n\\n\\n\\n\\n\\n\\n\\n\\n\\n\\n\\n\\n\\n\\n\\n\\n\\n\\n\\n\\n\\n\\n\\n\\n\\n\\n\\n\\n\\n\\n\\n\\n\\n\\n\\n\\n\\n\\n\\n\\n\\n\\n\\n\\n\\n\\n\\n\\n\\n\\n\\n\\n\\n\\n\\n\\n\\n\\n\\n\\n\\n\\n\\n\\n\\n\\n\\n\\n\\n\\n\\n\\n\\n\\n\\n\\n\\n\\n\\n\\n\\n\\n\\n\\n\\n\\n\\n\\n\\n\\n\\n\\n\\n\\n\\n\\n\\n\\n\\n\\n\\n\\n\\n\\n\\n\\n\\n\\n\\n\\n\\n\\n\\n\\n\\n\\n\\n\\n\\n\\n\\n\\n\\n\\n\\n\\n\\n\\n\\n\\n\\n\\n\\n\\n\\n\\n\\n\\n\\n\\n\\n\\n\\n\\n\\n\\n\\n\\n\\n\\n\\n\\n\\n\\n\\n\\n\\n\\n\\n\\n\\n\\n\\n\\n\\n\\n\\n\\n\\n\\n\\n\\n\\n\\n\\n\\n\\n\\n\\n\\n\\n\\n\\n\\n\\n\\n\\n\\n\\n\\n\\n\\n\\n\\n\\n\\n\\n\\n\\n\\n\\n\\n\\n\\n\\n\\n\\n\\n\\n\\n\\n\\n\\n\\n\\n\\n\\n\\n\\n\\n\\n\\n\\n\\n\\n\\n\\n\\n\\n\\n\\n\\n\\n\\n\\n\\n\\n\\n\\n\\n\\n\\n\\n\\n\\n\\n\\n\\n\\n\\n\\n\\n\\n\\n\\n\\n\\n\\n\\n\\n\\n\\n\\n\\n\\n\\n\\n\\n\\n\\n\\n\\n\\n\\n\\n', 'qid': '07303769b5355c5ace8fd165e7b331f6_0'}\n",
      "can not parse ans for res:  {'response': '\\n\\n\\n\\n\\n\\n\\n\\n\\n\\n\\n\\n\\n\\n\\n\\n\\n\\n\\n\\n\\n\\n\\n\\n\\n\\n\\n\\n\\n\\n\\n\\n\\n\\n\\n\\n\\n\\n\\n\\n\\n\\n\\n\\n\\n\\n\\n\\n\\n\\n\\n\\n\\n\\n\\n\\n\\n\\n\\n\\n\\n\\n\\n\\n\\n\\n\\n\\n\\n\\n\\n\\n\\n\\n\\n\\n\\n\\n\\n\\n\\n\\n\\n\\n\\n\\n\\n\\n\\n\\n\\n\\n\\n\\n\\n\\n\\n\\n\\n\\n\\n\\n\\n\\n\\n\\n\\n\\n\\n\\n\\n\\n\\n\\n\\n\\n\\n\\n\\n\\n\\n\\n\\n\\n\\n\\n\\n\\n\\n\\n\\n\\n\\n\\n\\n\\n\\n\\n\\n\\n\\n\\n\\n\\n\\n\\n\\n\\n\\n\\n\\n\\n\\n\\n\\n\\n\\n\\n\\n\\n\\n\\n\\n\\n\\n\\n\\n\\n\\n\\n\\n\\n\\n\\n\\n\\n\\n\\n\\n\\n\\n\\n\\n\\n\\n\\n\\n\\n\\n\\n\\n\\n\\n\\n\\n\\n\\n\\n\\n\\n\\n\\n\\n\\n\\n\\n\\n\\n\\n\\n\\n\\n\\n\\n\\n\\n\\n\\n\\n\\n\\n\\n\\n\\n\\n\\n\\n\\n\\n\\n\\n\\n\\n\\n\\n\\n\\n\\n\\n\\n\\n\\n\\n\\n\\n\\n\\n\\n\\n\\n\\n\\n\\n\\n\\n\\n\\n\\n\\n\\n\\n\\n\\n\\n\\n\\n\\n\\n\\n\\n\\n\\n\\n\\n\\n\\n\\n\\n\\n\\n\\n\\n\\n\\n\\n\\n\\n\\n\\n\\n\\n\\n\\n\\n\\n\\n\\n\\n\\n\\n\\n\\n\\n\\n\\n\\n\\n\\n\\n\\n\\n\\n\\n\\n\\n\\n\\n\\n\\n\\n\\n\\n\\n\\n\\n\\n\\n\\n\\n\\n\\n\\n\\n\\n\\n\\n\\n\\n\\n\\n\\n\\n\\n\\n\\n\\n\\n\\n\\n\\n\\n\\n\\n\\n\\n\\n\\n\\n\\n\\n\\n\\n\\n\\n\\n\\n\\n\\n\\n\\n\\n\\n\\n\\n\\n\\n\\n\\n\\n\\n\\n\\n\\n\\n\\n\\n\\n\\n\\n\\n\\n\\n\\n\\n\\n\\n\\n\\n\\n\\n\\n\\n\\n\\n\\n\\n\\n\\n\\n\\n\\n\\n\\n\\n\\n\\n\\n\\n\\n\\n\\n\\n\\n\\n\\n\\n\\n\\n\\n\\n\\n\\n\\n\\n\\n\\n\\n\\n\\n\\n\\n\\n\\n\\n\\n\\n\\n\\n\\n\\n\\n\\n\\n\\n\\n\\n\\n\\n\\n\\n\\n\\n\\n\\n\\n\\n\\n\\n\\n\\n\\n\\n\\n\\n\\n\\n\\n\\n\\n\\n\\n\\n\\n\\n\\n\\n\\n\\n\\n\\n\\n\\n\\n\\n\\n\\n\\n\\n\\n\\n', 'qid': '7bc50d11378e48af68fb6ff61dbdc5f6_0'}\n",
      "can not parse ans for res:  {'response': '\\n\\n\\n\\n\\n\\n\\n\\n\\n\\n\\n\\n\\n\\n\\n\\n\\n\\n\\n\\n\\n\\n\\n\\n\\n\\n\\n\\n\\n\\n\\n\\n\\n\\n\\n\\n\\n\\n\\n\\n\\n\\n\\n\\n\\n\\n\\n\\n\\n\\n\\n\\n\\n\\n\\n\\n\\n\\n\\n\\n\\n\\n\\n\\n\\n\\n\\n\\n\\n\\n\\n\\n\\n\\n\\n\\n\\n\\n\\n\\n\\n\\n\\n\\n\\n\\n\\n\\n\\n\\n\\n\\n\\n\\n\\n\\n\\n\\n\\n\\n\\n\\n\\n\\n\\n\\n\\n\\n\\n\\n\\n\\n\\n\\n\\n\\n\\n\\n\\n\\n\\n\\n\\n\\n\\n\\n\\n\\n\\n\\n\\n\\n\\n\\n\\n\\n\\n\\n\\n\\n\\n\\n\\n\\n\\n\\n\\n\\n\\n\\n\\n\\n\\n\\n\\n\\n\\n\\n\\n\\n\\n\\n\\n\\n\\n\\n\\n\\n\\n\\n\\n\\n\\n\\n\\n\\n\\n\\n\\n\\n\\n\\n\\n\\n\\n\\n\\n\\n\\n\\n\\n\\n\\n\\n\\n\\n\\n\\n\\n\\n\\n\\n\\n\\n\\n\\n\\n\\n\\n\\n\\n\\n\\n\\n\\n\\n\\n\\n\\n\\n\\n\\n\\n\\n\\n\\n\\n\\n\\n\\n\\n\\n\\n\\n\\n\\n\\n\\n\\n\\n\\n\\n\\n\\n\\n\\n\\n\\n\\n\\n\\n\\n\\n\\n\\n\\n\\n\\n\\n\\n\\n\\n\\n\\n\\n\\n\\n\\n\\n\\n\\n\\n\\n\\n\\n\\n\\n\\n\\n\\n\\n\\n\\n\\n\\n\\n\\n\\n\\n\\n\\n\\n\\n\\n\\n\\n\\n\\n\\n\\n\\n\\n\\n\\n\\n\\n\\n\\n\\n\\n\\n\\n\\n\\n\\n\\n\\n\\n\\n\\n\\n\\n\\n\\n\\n\\n\\n\\n\\n\\n\\n\\n\\n\\n\\n\\n\\n\\n\\n\\n\\n\\n\\n\\n\\n\\n\\n\\n\\n\\n\\n\\n\\n\\n\\n\\n\\n\\n\\n\\n\\n\\n\\n\\n\\n\\n\\n\\n\\n\\n\\n\\n\\n\\n\\n\\n\\n\\n\\n\\n\\n\\n\\n\\n\\n\\n\\n\\n\\n\\n\\n\\n\\n\\n\\n\\n\\n\\n\\n\\n\\n\\n\\n\\n\\n\\n\\n\\n\\n\\n\\n\\n\\n\\n\\n\\n\\n\\n\\n\\n\\n\\n\\n\\n\\n\\n\\n\\n\\n\\n\\n\\n\\n\\n\\n\\n\\n\\n\\n\\n\\n\\n\\n\\n\\n\\n\\n\\n\\n\\n\\n\\n\\n\\n\\n\\n\\n\\n\\n\\n\\n\\n\\n\\n\\n\\n\\n\\n\\n\\n\\n\\n\\n\\n\\n\\n\\n\\n\\n\\n\\n\\n\\n\\n\\n\\n\\n\\n\\n\\n\\n\\n\\n\\n\\n\\n\\n\\n\\n\\n', 'qid': '7bc50d11378e48af68fb6ff61dbdc5f6_1'}\n",
      "can not parse ans for res:  {'response': '\\n\\n\\n\\n\\n\\n\\n\\n\\n\\n\\n\\n\\n\\n\\n\\n\\n\\n\\n\\n\\n\\n\\n\\n\\n\\n\\n\\n\\n\\n\\n\\n\\n\\n\\n\\n\\n\\n\\n\\n\\n\\n\\n\\n\\n\\n\\n\\n\\n\\n\\n\\n\\n\\n\\n\\n\\n\\n\\n\\n\\n\\n\\n\\n\\n\\n\\n\\n\\n\\n\\n\\n\\n\\n\\n\\n\\n\\n\\n\\n\\n\\n\\n\\n\\n\\n\\n\\n\\n\\n\\n\\n\\n\\n\\n\\n\\n\\n\\n\\n\\n\\n\\n\\n\\n\\n\\n\\n\\n\\n\\n\\n\\n\\n\\n\\n\\n\\n\\n\\n\\n\\n\\n\\n\\n\\n\\n\\n\\n\\n\\n\\n\\n\\n\\n\\n\\n\\n\\n\\n\\n\\n\\n\\n\\n\\n\\n\\n\\n\\n\\n\\n\\n\\n\\n\\n\\n\\n\\n\\n\\n\\n\\n\\n\\n\\n\\n\\n\\n\\n\\n\\n\\n\\n\\n\\n\\n\\n\\n\\n\\n\\n\\n\\n\\n\\n\\n\\n\\n\\n\\n\\n\\n\\n\\n\\n\\n\\n\\n\\n\\n\\n\\n\\n\\n\\n\\n\\n\\n\\n\\n\\n\\n\\n\\n\\n\\n\\n\\n\\n\\n\\n\\n\\n\\n\\n\\n\\n\\n\\n\\n\\n\\n\\n\\n\\n\\n\\n\\n\\n\\n\\n\\n\\n\\n\\n\\n\\n\\n\\n\\n\\n\\n\\n\\n\\n\\n\\n\\n\\n\\n\\n\\n\\n\\n\\n\\n\\n\\n\\n\\n\\n\\n\\n\\n\\n\\n\\n\\n\\n\\n\\n\\n\\n\\n\\n\\n\\n\\n\\n\\n\\n\\n\\n\\n\\n\\n\\n\\n\\n\\n\\n\\n\\n\\n\\n\\n\\n\\n\\n\\n\\n\\n\\n\\n\\n\\n\\n\\n\\n\\n\\n\\n\\n\\n\\n\\n\\n\\n\\n\\n\\n\\n\\n\\n\\n\\n\\n\\n\\n\\n\\n\\n\\n\\n\\n\\n\\n\\n\\n\\n\\n\\n\\n\\n\\n\\n\\n\\n\\n\\n\\n\\n\\n\\n\\n\\n\\n\\n\\n\\n\\n\\n\\n\\n\\n\\n\\n\\n\\n\\n\\n\\n\\n\\n\\n\\n\\n\\n\\n\\n\\n\\n\\n\\n\\n\\n\\n\\n\\n\\n\\n\\n\\n\\n\\n\\n\\n\\n\\n\\n\\n\\n\\n\\n\\n\\n\\n\\n\\n\\n\\n\\n\\n\\n\\n\\n\\n\\n\\n\\n\\n\\n\\n\\n\\n\\n\\n\\n\\n\\n\\n\\n\\n\\n\\n\\n\\n\\n\\n\\n\\n\\n\\n\\n\\n\\n\\n\\n\\n\\n\\n\\n\\n\\n\\n\\n\\n\\n\\n\\n\\n\\n\\n\\n\\n\\n\\n\\n\\n\\n\\n\\n\\n\\n\\n\\n\\n\\n\\n\\n\\n\\n\\n\\n\\n\\n\\n\\n\\n', 'qid': '7bc50d11378e48af68fb6ff61dbdc5f6_0'}\n",
      "can not parse ans for res:  {'response': '\\n\\n\\n\\n\\n\\n\\n\\n\\n\\n\\n\\n\\n\\n\\n\\n\\n\\n\\n\\n\\n\\n\\n\\n\\n\\n\\n\\n\\n\\n\\n\\n\\n\\n\\n\\n\\n\\n\\n\\n\\n\\n\\n\\n\\n\\n\\n\\n\\n\\n\\n\\n\\n\\n\\n\\n\\n\\n\\n\\n\\n\\n\\n\\n\\n\\n\\n\\n\\n\\n\\n\\n\\n\\n\\n\\n\\n\\n\\n\\n\\n\\n\\n\\n\\n\\n\\n\\n\\n\\n\\n\\n\\n\\n\\n\\n\\n\\n\\n\\n\\n\\n\\n\\n\\n\\n\\n\\n\\n\\n\\n\\n\\n\\n\\n\\n\\n\\n\\n\\n\\n\\n\\n\\n\\n\\n\\n\\n\\n\\n\\n\\n\\n\\n\\n\\n\\n\\n\\n\\n\\n\\n\\n\\n\\n\\n\\n\\n\\n\\n\\n\\n\\n\\n\\n\\n\\n\\n\\n\\n\\n\\n\\n\\n\\n\\n\\n\\n\\n\\n\\n\\n\\n\\n\\n\\n\\n\\n\\n\\n\\n\\n\\n\\n\\n\\n\\n\\n\\n\\n\\n\\n\\n\\n\\n\\n\\n\\n\\n\\n\\n\\n\\n\\n\\n\\n\\n\\n\\n\\n\\n\\n\\n\\n\\n\\n\\n\\n\\n\\n\\n\\n\\n\\n\\n\\n\\n\\n\\n\\n\\n\\n\\n\\n\\n\\n\\n\\n\\n\\n\\n\\n\\n\\n\\n\\n\\n\\n\\n\\n\\n\\n\\n\\n\\n\\n\\n\\n\\n\\n\\n\\n\\n\\n\\n\\n\\n\\n\\n\\n\\n\\n\\n\\n\\n\\n\\n\\n\\n\\n\\n\\n\\n\\n\\n\\n\\n\\n\\n\\n\\n\\n\\n\\n\\n\\n\\n\\n\\n\\n\\n\\n\\n\\n\\n\\n\\n\\n\\n\\n\\n\\n\\n\\n\\n\\n\\n\\n\\n\\n\\n\\n\\n\\n\\n\\n\\n\\n\\n\\n\\n\\n\\n\\n\\n\\n\\n\\n\\n\\n\\n\\n\\n\\n\\n\\n\\n\\n\\n\\n\\n\\n\\n\\n\\n\\n\\n\\n\\n\\n\\n\\n\\n\\n\\n\\n\\n\\n\\n\\n\\n\\n\\n\\n\\n\\n\\n\\n\\n\\n\\n\\n\\n\\n\\n\\n\\n\\n\\n\\n\\n\\n\\n\\n\\n\\n\\n\\n\\n\\n\\n\\n\\n\\n\\n\\n\\n\\n\\n\\n\\n\\n\\n\\n\\n\\n\\n\\n\\n\\n\\n\\n\\n\\n\\n\\n\\n\\n\\n\\n\\n\\n\\n\\n\\n\\n\\n\\n\\n\\n\\n\\n\\n\\n\\n\\n\\n\\n\\n\\n\\n\\n\\n\\n\\n\\n\\n\\n\\n\\n\\n\\n\\n\\n\\n\\n\\n\\n\\n\\n\\n\\n\\n\\n\\n\\n\\n\\n\\n\\n\\n\\n\\n\\n\\n\\n\\n\\n\\n\\n\\n\\n\\n\\n\\n\\n\\n\\n\\n\\n', 'qid': '7bc50d11378e48af68fb6ff61dbdc5f6_0'}\n",
      "can not parse ans for res:  {'response': '\\n\\n\\n\\n\\n\\n\\n\\n\\n\\n\\n\\n\\n\\n\\n\\n\\n\\n\\n\\n\\n\\n\\n\\n\\n\\n\\n\\n\\n\\n\\n\\n\\n\\n\\n\\n\\n\\n\\n\\n\\n\\n\\n\\n\\n\\n\\n\\n\\n\\n\\n\\n\\n\\n\\n\\n\\n\\n\\n\\n\\n\\n\\n\\n\\n\\n\\n\\n\\n\\n\\n\\n\\n\\n\\n\\n\\n\\n\\n\\n\\n\\n\\n\\n\\n\\n\\n\\n\\n\\n\\n\\n\\n\\n\\n\\n\\n\\n\\n\\n\\n\\n\\n\\n\\n\\n\\n\\n\\n\\n\\n\\n\\n\\n\\n\\n\\n\\n\\n\\n\\n\\n\\n\\n\\n\\n\\n\\n\\n\\n\\n\\n\\n\\n\\n\\n\\n\\n\\n\\n\\n\\n\\n\\n\\n\\n\\n\\n\\n\\n\\n\\n\\n\\n\\n\\n\\n\\n\\n\\n\\n\\n\\n\\n\\n\\n\\n\\n\\n\\n\\n\\n\\n\\n\\n\\n\\n\\n\\n\\n\\n\\n\\n\\n\\n\\n\\n\\n\\n\\n\\n\\n\\n\\n\\n\\n\\n\\n\\n\\n\\n\\n\\n\\n\\n\\n\\n\\n\\n\\n\\n\\n\\n\\n\\n\\n\\n\\n\\n\\n\\n\\n\\n\\n\\n\\n\\n\\n\\n\\n\\n\\n\\n\\n\\n\\n\\n\\n\\n\\n\\n\\n\\n\\n\\n\\n\\n\\n\\n\\n\\n\\n\\n\\n\\n\\n\\n\\n\\n\\n\\n\\n\\n\\n\\n\\n\\n\\n\\n\\n\\n\\n\\n\\n\\n\\n\\n\\n\\n\\n\\n\\n\\n\\n\\n\\n\\n\\n\\n\\n\\n\\n\\n\\n\\n\\n\\n\\n\\n\\n\\n\\n\\n\\n\\n\\n\\n\\n\\n\\n\\n\\n\\n\\n\\n\\n\\n\\n\\n\\n\\n\\n\\n\\n\\n\\n\\n\\n\\n\\n\\n\\n\\n\\n\\n\\n\\n\\n\\n\\n\\n\\n\\n\\n\\n\\n\\n\\n\\n\\n\\n\\n\\n\\n\\n\\n\\n\\n\\n\\n\\n\\n\\n\\n\\n\\n\\n\\n\\n\\n\\n\\n\\n\\n\\n\\n\\n\\n\\n\\n\\n\\n\\n\\n\\n\\n\\n\\n\\n\\n\\n\\n\\n\\n\\n\\n\\n\\n\\n\\n\\n\\n\\n\\n\\n\\n\\n\\n\\n\\n\\n\\n\\n\\n\\n\\n\\n\\n\\n\\n\\n\\n\\n\\n\\n\\n\\n\\n\\n\\n\\n\\n\\n\\n\\n\\n\\n\\n\\n\\n\\n\\n\\n\\n\\n\\n\\n\\n\\n\\n\\n\\n\\n\\n\\n\\n\\n\\n\\n\\n\\n\\n\\n\\n\\n\\n\\n\\n\\n\\n\\n\\n\\n\\n\\n\\n\\n\\n\\n\\n\\n\\n\\n\\n\\n\\n\\n\\n\\n\\n\\n\\n\\n\\n\\n\\n\\n\\n\\n\\n', 'qid': '7bc50d11378e48af68fb6ff61dbdc5f6_1'}\n",
      "can not parse ans for res:  {'response': '\\n\\n\\n\\n\\n\\n\\n\\n\\n\\n\\n\\n\\n\\n\\n\\n\\n\\n\\n\\n\\n\\n\\n\\n\\n\\n\\n\\n\\n\\n\\n\\n\\n\\n\\n\\n\\n\\n\\n\\n\\n\\n\\n\\n\\n\\n\\n\\n\\n\\n\\n\\n\\n\\n\\n\\n\\n\\n\\n\\n\\n\\n\\n\\n\\n\\n\\n\\n\\n\\n\\n\\n\\n\\n\\n\\n\\n\\n\\n\\n\\n\\n\\n\\n\\n\\n\\n\\n\\n\\n\\n\\n\\n\\n\\n\\n\\n\\n\\n\\n\\n\\n\\n\\n\\n\\n\\n\\n\\n\\n\\n\\n\\n\\n\\n\\n\\n\\n\\n\\n\\n\\n\\n\\n\\n\\n\\n\\n\\n\\n\\n\\n\\n\\n\\n\\n\\n\\n\\n\\n\\n\\n\\n\\n\\n\\n\\n\\n\\n\\n\\n\\n\\n\\n\\n\\n\\n\\n\\n\\n\\n\\n\\n\\n\\n\\n\\n\\n\\n\\n\\n\\n\\n\\n\\n\\n\\n\\n\\n\\n\\n\\n\\n\\n\\n\\n\\n\\n\\n\\n\\n\\n\\n\\n\\n\\n\\n\\n\\n\\n\\n\\n\\n\\n\\n\\n\\n\\n\\n\\n\\n\\n\\n\\n\\n\\n\\n\\n\\n\\n\\n\\n\\n\\n\\n\\n\\n\\n\\n\\n\\n\\n\\n\\n\\n\\n\\n\\n\\n\\n\\n\\n\\n\\n\\n\\n\\n\\n\\n\\n\\n\\n\\n\\n\\n\\n\\n\\n\\n\\n\\n\\n\\n\\n\\n\\n\\n\\n\\n\\n\\n\\n\\n\\n\\n\\n\\n\\n\\n\\n\\n\\n\\n\\n\\n\\n\\n\\n\\n\\n\\n\\n\\n\\n\\n\\n\\n\\n\\n\\n\\n\\n\\n\\n\\n\\n\\n\\n\\n\\n\\n\\n\\n\\n\\n\\n\\n\\n\\n\\n\\n\\n\\n\\n\\n\\n\\n\\n\\n\\n\\n\\n\\n\\n\\n\\n\\n\\n\\n\\n\\n\\n\\n\\n\\n\\n\\n\\n\\n\\n\\n\\n\\n\\n\\n\\n\\n\\n\\n\\n\\n\\n\\n\\n\\n\\n\\n\\n\\n\\n\\n\\n\\n\\n\\n\\n\\n\\n\\n\\n\\n\\n\\n\\n\\n\\n\\n\\n\\n\\n\\n\\n\\n\\n\\n\\n\\n\\n\\n\\n\\n\\n\\n\\n\\n\\n\\n\\n\\n\\n\\n\\n\\n\\n\\n\\n\\n\\n\\n\\n\\n\\n\\n\\n\\n\\n\\n\\n\\n\\n\\n\\n\\n\\n\\n\\n\\n\\n\\n\\n\\n\\n\\n\\n\\n\\n\\n\\n\\n\\n\\n\\n\\n\\n\\n\\n\\n\\n\\n\\n\\n\\n\\n\\n\\n\\n\\n\\n\\n\\n\\n\\n\\n\\n\\n\\n\\n\\n\\n\\n\\n\\n\\n\\n\\n\\n\\n\\n\\n\\n\\n\\n\\n\\n\\n\\n\\n\\n\\n\\n', 'qid': '7bc50d11378e48af68fb6ff61dbdc5f6_0'}\n",
      "can not parse ans for res:  {'response': '\\n\\n\\n\\n\\n\\n\\n\\n\\n\\n\\n\\n\\n\\n\\n\\n\\n\\n\\n\\n\\n\\n\\n\\n\\n\\n\\n\\n\\n\\n\\n\\n\\n\\n\\n\\n\\n\\n\\n\\n\\n\\n\\n\\n\\n\\n\\n\\n\\n\\n\\n\\n\\n\\n\\n\\n\\n\\n\\n\\n\\n\\n\\n\\n\\n\\n\\n\\n\\n\\n\\n\\n\\n\\n\\n\\n\\n\\n\\n\\n\\n\\n\\n\\n\\n\\n\\n\\n\\n\\n\\n\\n\\n\\n\\n\\n\\n\\n\\n\\n\\n\\n\\n\\n\\n\\n\\n\\n\\n\\n\\n\\n\\n\\n\\n\\n\\n\\n\\n\\n\\n\\n\\n\\n\\n\\n\\n\\n\\n\\n\\n\\n\\n\\n\\n\\n\\n\\n\\n\\n\\n\\n\\n\\n\\n\\n\\n\\n\\n\\n\\n\\n\\n\\n\\n\\n\\n\\n\\n\\n\\n\\n\\n\\n\\n\\n\\n\\n\\n\\n\\n\\n\\n\\n\\n\\n\\n\\n\\n\\n\\n\\n\\n\\n\\n\\n\\n\\n\\n\\n\\n\\n\\n\\n\\n\\n\\n\\n\\n\\n\\n\\n\\n\\n\\n\\n\\n\\n\\n\\n\\n\\n\\n\\n\\n\\n\\n\\n\\n\\n\\n\\n\\n\\n\\n\\n\\n\\n\\n\\n\\n\\n\\n\\n\\n\\n\\n\\n\\n\\n\\n\\n\\n\\n\\n\\n\\n\\n\\n\\n\\n\\n\\n\\n\\n\\n\\n\\n\\n\\n\\n\\n\\n\\n\\n\\n\\n\\n\\n\\n\\n\\n\\n\\n\\n\\n\\n\\n\\n\\n\\n\\n\\n\\n\\n\\n\\n\\n\\n\\n\\n\\n\\n\\n\\n\\n\\n\\n\\n\\n\\n\\n\\n\\n\\n\\n\\n\\n\\n\\n\\n\\n\\n\\n\\n\\n\\n\\n\\n\\n\\n\\n\\n\\n\\n\\n\\n\\n\\n\\n\\n\\n\\n\\n\\n\\n\\n\\n\\n\\n\\n\\n\\n\\n\\n\\n\\n\\n\\n\\n\\n\\n\\n\\n\\n\\n\\n\\n\\n\\n\\n\\n\\n\\n\\n\\n\\n\\n\\n\\n\\n\\n\\n\\n\\n\\n\\n\\n\\n\\n\\n\\n\\n\\n\\n\\n\\n\\n\\n\\n\\n\\n\\n\\n\\n\\n\\n\\n\\n\\n\\n\\n\\n\\n\\n\\n\\n\\n\\n\\n\\n\\n\\n\\n\\n\\n\\n\\n\\n\\n\\n\\n\\n\\n\\n\\n\\n\\n\\n\\n\\n\\n\\n\\n\\n\\n\\n\\n\\n\\n\\n\\n\\n\\n\\n\\n\\n\\n\\n\\n\\n\\n\\n\\n\\n\\n\\n\\n\\n\\n\\n\\n\\n\\n\\n\\n\\n\\n\\n\\n\\n\\n\\n\\n\\n\\n\\n\\n\\n\\n\\n\\n\\n\\n\\n\\n\\n\\n\\n\\n\\n\\n\\n\\n\\n\\n\\n\\n\\n\\n', 'qid': '7bc50d11378e48af68fb6ff61dbdc5f6_2'}\n",
      "can not parse ans for res:  {'response': '\\n\\nThe image shows a plate of food with a dish that appears to be a type of fish, possibly a whole fish, served with a sauce and garnished with herbs and possibly some vegetables. The sauce looks like it could be a tomato-based sauce, and there are also some green elements that could be herbs or peas. The fish is cooked to a point where it is flaky and looks like it has been seasoned with spices and herbs. The plate is on a table with a floral patterned tablecloth, and there are other dishes visible in the background, suggesting this is a meal served in a restaurant.\\n\\nThe question asks to identify the blandest dish from the options provided, but there is no information about the other dishes to compare with, and the image only shows one dish. Therefore, without additional context or comparison, it is not possible to determine which dish is the blandest. The image does not provide enough information to make a judgment on the flavor profile of the dishes, as it only shows one dish and does not include any descriptions or tasting notes that could indicate the flavor intensity of the dish in question.', 'qid': '7bc50d11378e48af68fb6ff61dbdc5f6_1'}\n",
      "can not parse ans for res:  {'response': '\\n\\n\\n\\n\\n\\n\\n\\n\\n\\n\\n\\n\\n\\n\\n\\n\\n\\n\\n\\n\\n\\n\\n\\n\\n\\n\\n\\n\\n\\n\\n\\n\\n\\n\\n\\n\\n\\n\\n\\n\\n\\n\\n\\n\\n\\n\\n\\n\\n\\n\\n\\n\\n\\n\\n\\n\\n\\n\\n\\n\\n\\n\\n\\n\\n\\n\\n\\n\\n\\n\\n\\n\\n\\n\\n\\n\\n\\n\\n\\n\\n\\n\\n\\n\\n\\n\\n\\n\\n\\n\\n\\n\\n\\n\\n\\n\\n\\n\\n\\n\\n\\n\\n\\n\\n\\n\\n\\n\\n\\n\\n\\n\\n\\n\\n\\n\\n\\n\\n\\n\\n\\n\\n\\n\\n\\n\\n\\n\\n\\n\\n\\n\\n\\n\\n\\n\\n\\n\\n\\n\\n\\n\\n\\n\\n\\n\\n\\n\\n\\n\\n\\n\\n\\n\\n\\n\\n\\n\\n\\n\\n\\n\\n\\n\\n\\n\\n\\n\\n\\n\\n\\n\\n\\n\\n\\n\\n\\n\\n\\n\\n\\n\\n\\n\\n\\n\\n\\n\\n\\n\\n\\n\\n\\n\\n\\n\\n\\n\\n\\n\\n\\n\\n\\n\\n\\n\\n\\n\\n\\n\\n\\n\\n\\n\\n\\n\\n\\n\\n\\n\\n\\n\\n\\n\\n\\n\\n\\n\\n\\n\\n\\n\\n\\n\\n\\n\\n\\n\\n\\n\\n\\n\\n\\n\\n\\n\\n\\n\\n\\n\\n\\n\\n\\n\\n\\n\\n\\n\\n\\n\\n\\n\\n\\n\\n\\n\\n\\n\\n\\n\\n\\n\\n\\n\\n\\n\\n\\n\\n\\n\\n\\n\\n\\n\\n\\n\\n\\n\\n\\n\\n\\n\\n\\n\\n\\n\\n\\n\\n\\n\\n\\n\\n\\n\\n\\n\\n\\n\\n\\n\\n\\n\\n\\n\\n\\n\\n\\n\\n\\n\\n\\n\\n\\n\\n\\n\\n\\n\\n\\n\\n\\n\\n\\n\\n\\n\\n\\n\\n\\n\\n\\n\\n\\n\\n\\n\\n\\n\\n\\n\\n\\n\\n\\n\\n\\n\\n\\n\\n\\n\\n\\n\\n\\n\\n\\n\\n\\n\\n\\n\\n\\n\\n\\n\\n\\n\\n\\n\\n\\n\\n\\n\\n\\n\\n\\n\\n\\n\\n\\n\\n\\n\\n\\n\\n\\n\\n\\n\\n\\n\\n\\n\\n\\n\\n\\n\\n\\n\\n\\n\\n\\n\\n\\n\\n\\n\\n\\n\\n\\n\\n\\n\\n\\n\\n\\n\\n\\n\\n\\n\\n\\n\\n\\n\\n\\n\\n\\n\\n\\n\\n\\n\\n\\n\\n\\n\\n\\n\\n\\n\\n\\n\\n\\n\\n\\n\\n\\n\\n\\n\\n\\n\\n\\n\\n\\n\\n\\n\\n\\n\\n\\n\\n\\n\\n\\n\\n\\n\\n\\n\\n\\n\\n\\n\\n\\n\\n\\n\\n\\n\\n\\n\\n\\n\\n\\n\\n\\n\\n\\n', 'qid': '7bc50d11378e48af68fb6ff61dbdc5f6_0'}\n",
      "can not parse ans for res:  {'response': '\\n\\n\\n\\n\\n\\n\\n\\n\\n\\n\\n\\n\\n\\n\\n\\n\\n\\n\\n\\n\\n\\n\\n\\n\\n\\n\\n\\n\\n\\n\\n\\n\\n\\n\\n\\n\\n\\n\\n\\n\\n\\n\\n\\n\\n\\n\\n\\n\\n\\n\\n\\n\\n\\n\\n\\n\\n\\n\\n\\n\\n\\n\\n\\n\\n\\n\\n\\n\\n\\n\\n\\n\\n\\n\\n\\n\\n\\n\\n\\n\\n\\n\\n\\n\\n\\n\\n\\n\\n\\n\\n\\n\\n\\n\\n\\n\\n\\n\\n\\n\\n\\n\\n\\n\\n\\n\\n\\n\\n\\n\\n\\n\\n\\n\\n\\n\\n\\n\\n\\n\\n\\n\\n\\n\\n\\n\\n\\n\\n\\n\\n\\n\\n\\n\\n\\n\\n\\n\\n\\n\\n\\n\\n\\n\\n\\n\\n\\n\\n\\n\\n\\n\\n\\n\\n\\n\\n\\n\\n\\n\\n\\n\\n\\n\\n\\n\\n\\n\\n\\n\\n\\n\\n\\n\\n\\n\\n\\n\\n\\n\\n\\n\\n\\n\\n\\n\\n\\n\\n\\n\\n\\n\\n\\n\\n\\n\\n\\n\\n\\n\\n\\n\\n\\n\\n\\n\\n\\n\\n\\n\\n\\n\\n\\n\\n\\n\\n\\n\\n\\n\\n\\n\\n\\n\\n\\n\\n\\n\\n\\n\\n\\n\\n\\n\\n\\n\\n\\n\\n\\n\\n\\n\\n\\n\\n\\n\\n\\n\\n\\n\\n\\n\\n\\n\\n\\n\\n\\n\\n\\n\\n\\n\\n\\n\\n\\n\\n\\n\\n\\n\\n\\n\\n\\n\\n\\n\\n\\n\\n\\n\\n\\n\\n\\n\\n\\n\\n\\n\\n\\n\\n\\n\\n\\n\\n\\n\\n\\n\\n\\n\\n\\n\\n\\n\\n\\n\\n\\n\\n\\n\\n\\n\\n\\n\\n\\n\\n\\n\\n\\n\\n\\n\\n\\n\\n\\n\\n\\n\\n\\n\\n\\n\\n\\n\\n\\n\\n\\n\\n\\n\\n\\n\\n\\n\\n\\n\\n\\n\\n\\n\\n\\n\\n\\n\\n\\n\\n\\n\\n\\n\\n\\n\\n\\n\\n\\n\\n\\n\\n\\n\\n\\n\\n\\n\\n\\n\\n\\n\\n\\n\\n\\n\\n\\n\\n\\n\\n\\n\\n\\n\\n\\n\\n\\n\\n\\n\\n\\n\\n\\n\\n\\n\\n\\n\\n\\n\\n\\n\\n\\n\\n\\n\\n\\n\\n\\n\\n\\n\\n\\n\\n\\n\\n\\n\\n\\n\\n\\n\\n\\n\\n\\n\\n\\n\\n\\n\\n\\n\\n\\n\\n\\n\\n\\n\\n\\n\\n\\n\\n\\n\\n\\n\\n\\n\\n\\n\\n\\n\\n\\n\\n\\n\\n\\n\\n\\n\\n\\n\\n\\n\\n\\n\\n\\n\\n\\n\\n\\n\\n\\n\\n\\n\\n\\n\\n\\n\\n\\n\\n\\n\\n\\n\\n\\n\\n\\n\\n\\n\\n\\n', 'qid': '7bc50d11378e48af68fb6ff61dbdc5f6_1'}\n",
      "can not parse ans for res:  {'response': '\\n\\n\\n\\n\\n\\n\\n\\n\\n\\n\\n\\n\\n\\n\\n\\n\\n\\n\\n\\n\\n\\n\\n\\n\\n\\n\\n\\n\\n\\n\\n\\n\\n\\n\\n\\n\\n\\n\\n\\n\\n\\n\\n\\n\\n\\n\\n\\n\\n\\n\\n\\n\\n\\n\\n\\n\\n\\n\\n\\n\\n\\n\\n\\n\\n\\n\\n\\n\\n\\n\\n\\n\\n\\n\\n\\n\\n\\n\\n\\n\\n\\n\\n\\n\\n\\n\\n\\n\\n\\n\\n\\n\\n\\n\\n\\n\\n\\n\\n\\n\\n\\n\\n\\n\\n\\n\\n\\n\\n\\n\\n\\n\\n\\n\\n\\n\\n\\n\\n\\n\\n\\n\\n\\n\\n\\n\\n\\n\\n\\n\\n\\n\\n\\n\\n\\n\\n\\n\\n\\n\\n\\n\\n\\n\\n\\n\\n\\n\\n\\n\\n\\n\\n\\n\\n\\n\\n\\n\\n\\n\\n\\n\\n\\n\\n\\n\\n\\n\\n\\n\\n\\n\\n\\n\\n\\n\\n\\n\\n\\n\\n\\n\\n\\n\\n\\n\\n\\n\\n\\n\\n\\n\\n\\n\\n\\n\\n\\n\\n\\n\\n\\n\\n\\n\\n\\n\\n\\n\\n\\n\\n\\n\\n\\n\\n\\n\\n\\n\\n\\n\\n\\n\\n\\n\\n\\n\\n\\n\\n\\n\\n\\n\\n\\n\\n\\n\\n\\n\\n\\n\\n\\n\\n\\n\\n\\n\\n\\n\\n\\n\\n\\n\\n\\n\\n\\n\\n\\n\\n\\n\\n\\n\\n\\n\\n\\n\\n\\n\\n\\n\\n\\n\\n\\n\\n\\n\\n\\n\\n\\n\\n\\n\\n\\n\\n\\n\\n\\n\\n\\n\\n\\n\\n\\n\\n\\n\\n\\n\\n\\n\\n\\n\\n\\n\\n\\n\\n\\n\\n\\n\\n\\n\\n\\n\\n\\n\\n\\n\\n\\n\\n\\n\\n\\n\\n\\n\\n\\n\\n\\n\\n\\n\\n\\n\\n\\n\\n\\n\\n\\n\\n\\n\\n\\n\\n\\n\\n\\n\\n\\n\\n\\n\\n\\n\\n\\n\\n\\n\\n\\n\\n\\n\\n\\n\\n\\n\\n\\n\\n\\n\\n\\n\\n\\n\\n\\n\\n\\n\\n\\n\\n\\n\\n\\n\\n\\n\\n\\n\\n\\n\\n\\n\\n\\n\\n\\n\\n\\n\\n\\n\\n\\n\\n\\n\\n\\n\\n\\n\\n\\n\\n\\n\\n\\n\\n\\n\\n\\n\\n\\n\\n\\n\\n\\n\\n\\n\\n\\n\\n\\n\\n\\n\\n\\n\\n\\n\\n\\n\\n\\n\\n\\n\\n\\n\\n\\n\\n\\n\\n\\n\\n\\n\\n\\n\\n\\n\\n\\n\\n\\n\\n\\n\\n\\n\\n\\n\\n\\n\\n\\n\\n\\n\\n\\n\\n\\n\\n\\n\\n\\n\\n\\n\\n\\n\\n\\n\\n\\n\\n\\n\\n\\n\\n\\n\\n\\n\\n\\n\\n\\n', 'qid': '7bc50d11378e48af68fb6ff61dbdc5f6_2'}\n",
      "can not parse ans for res:  {'response': '\\n\\n\\n\\n\\n\\n\\n\\n\\n\\n\\n\\n\\n\\n\\n\\n\\n\\n\\n\\n\\n\\n\\n\\n\\n\\n\\n\\n\\n\\n\\n\\n\\n\\n\\n\\n\\n\\n\\n\\n\\n\\n\\n\\n\\n\\n\\n\\n\\n\\n\\n\\n\\n\\n\\n\\n\\n\\n\\n\\n\\n\\n\\n\\n\\n\\n\\n\\n\\n\\n\\n\\n\\n\\n\\n\\n\\n\\n\\n\\n\\n\\n\\n\\n\\n\\n\\n\\n\\n\\n\\n\\n\\n\\n\\n\\n\\n\\n\\n\\n\\n\\n\\n\\n\\n\\n\\n\\n\\n\\n\\n\\n\\n\\n\\n\\n\\n\\n\\n\\n\\n\\n\\n\\n\\n\\n\\n\\n\\n\\n\\n\\n\\n\\n\\n\\n\\n\\n\\n\\n\\n\\n\\n\\n\\n\\n\\n\\n\\n\\n\\n\\n\\n\\n\\n\\n\\n\\n\\n\\n\\n\\n\\n\\n\\n\\n\\n\\n\\n\\n\\n\\n\\n\\n\\n\\n\\n\\n\\n\\n\\n\\n\\n\\n\\n\\n\\n\\n\\n\\n\\n\\n\\n\\n\\n\\n\\n\\n\\n\\n\\n\\n\\n\\n\\n\\n\\n\\n\\n\\n\\n\\n\\n\\n\\n\\n\\n\\n\\n\\n\\n\\n\\n\\n\\n\\n\\n\\n\\n\\n\\n\\n\\n\\n\\n\\n\\n\\n\\n\\n\\n\\n\\n\\n\\n\\n\\n\\n\\n\\n\\n\\n\\n\\n\\n\\n\\n\\n\\n\\n\\n\\n\\n\\n\\n\\n\\n\\n\\n\\n\\n\\n\\n\\n\\n\\n\\n\\n\\n\\n\\n\\n\\n\\n\\n\\n\\n\\n\\n\\n\\n\\n\\n\\n\\n\\n\\n\\n\\n\\n\\n\\n\\n\\n\\n\\n\\n\\n\\n\\n\\n\\n\\n\\n\\n\\n\\n\\n\\n\\n\\n\\n\\n\\n\\n\\n\\n\\n\\n\\n\\n\\n\\n\\n\\n\\n\\n\\n\\n\\n\\n\\n\\n\\n\\n\\n\\n\\n\\n\\n\\n\\n\\n\\n\\n\\n\\n\\n\\n\\n\\n\\n\\n\\n\\n\\n\\n\\n\\n\\n\\n\\n\\n\\n\\n\\n\\n\\n\\n\\n\\n\\n\\n\\n\\n\\n\\n\\n\\n\\n\\n\\n\\n\\n\\n\\n\\n\\n\\n\\n\\n\\n\\n\\n\\n\\n\\n\\n\\n\\n\\n\\n\\n\\n\\n\\n\\n\\n\\n\\n\\n\\n\\n\\n\\n\\n\\n\\n\\n\\n\\n\\n\\n\\n\\n\\n\\n\\n\\n\\n\\n\\n\\n\\n\\n\\n\\n\\n\\n\\n\\n\\n\\n\\n\\n\\n\\n\\n\\n\\n\\n\\n\\n\\n\\n\\n\\n\\n\\n\\n\\n\\n\\n\\n\\n\\n\\n\\n\\n\\n\\n\\n\\n\\n\\n\\n\\n\\n\\n\\n\\n\\n\\n\\n\\n\\n\\n\\n\\n\\n', 'qid': '7bc50d11378e48af68fb6ff61dbdc5f6_0'}\n",
      "can not parse ans for res:  {'response': '\\n\\n\\n\\n\\n\\n\\n\\n\\n\\n\\n\\n\\n\\n\\n\\n\\n\\n\\n\\n\\n\\n\\n\\n\\n\\n\\n\\n\\n\\n\\n\\n\\n\\n\\n\\n\\n\\n\\n\\n\\n\\n\\n\\n\\n\\n\\n\\n\\n\\n\\n\\n\\n\\n\\n\\n\\n\\n\\n\\n\\n\\n\\n\\n\\n\\n\\n\\n\\n\\n\\n\\n\\n\\n\\n\\n\\n\\n\\n\\n\\n\\n\\n\\n\\n\\n\\n\\n\\n\\n\\n\\n\\n\\n\\n\\n\\n\\n\\n\\n\\n\\n\\n\\n\\n\\n\\n\\n\\n\\n\\n\\n\\n\\n\\n\\n\\n\\n\\n\\n\\n\\n\\n\\n\\n\\n\\n\\n\\n\\n\\n\\n\\n\\n\\n\\n\\n\\n\\n\\n\\n\\n\\n\\n\\n\\n\\n\\n\\n\\n\\n\\n\\n\\n\\n\\n\\n\\n\\n\\n\\n\\n\\n\\n\\n\\n\\n\\n\\n\\n\\n\\n\\n\\n\\n\\n\\n\\n\\n\\n\\n\\n\\n\\n\\n\\n\\n\\n\\n\\n\\n\\n\\n\\n\\n\\n\\n\\n\\n\\n\\n\\n\\n\\n\\n\\n\\n\\n\\n\\n\\n\\n\\n\\n\\n\\n\\n\\n\\n\\n\\n\\n\\n\\n\\n\\n\\n\\n\\n\\n\\n\\n\\n\\n\\n\\n\\n\\n\\n\\n\\n\\n\\n\\n\\n\\n\\n\\n\\n\\n\\n\\n\\n\\n\\n\\n\\n\\n\\n\\n\\n\\n\\n\\n\\n\\n\\n\\n\\n\\n\\n\\n\\n\\n\\n\\n\\n\\n\\n\\n\\n\\n\\n\\n\\n\\n\\n\\n\\n\\n\\n\\n\\n\\n\\n\\n\\n\\n\\n\\n\\n\\n\\n\\n\\n\\n\\n\\n\\n\\n\\n\\n\\n\\n\\n\\n\\n\\n\\n\\n\\n\\n\\n\\n\\n\\n\\n\\n\\n\\n\\n\\n\\n\\n\\n\\n\\n\\n\\n\\n\\n\\n\\n\\n\\n\\n\\n\\n\\n\\n\\n\\n\\n\\n\\n\\n\\n\\n\\n\\n\\n\\n\\n\\n\\n\\n\\n\\n\\n\\n\\n\\n\\n\\n\\n\\n\\n\\n\\n\\n\\n\\n\\n\\n\\n\\n\\n\\n\\n\\n\\n\\n\\n\\n\\n\\n\\n\\n\\n\\n\\n\\n\\n\\n\\n\\n\\n\\n\\n\\n\\n\\n\\n\\n\\n\\n\\n\\n\\n\\n\\n\\n\\n\\n\\n\\n\\n\\n\\n\\n\\n\\n\\n\\n\\n\\n\\n\\n\\n\\n\\n\\n\\n\\n\\n\\n\\n\\n\\n\\n\\n\\n\\n\\n\\n\\n\\n\\n\\n\\n\\n\\n\\n\\n\\n\\n\\n\\n\\n\\n\\n\\n\\n\\n\\n\\n\\n\\n\\n\\n\\n\\n\\n\\n\\n\\n\\n\\n\\n\\n\\n\\n\\n\\n\\n\\n\\n\\n\\n\\n', 'qid': '7bc50d11378e48af68fb6ff61dbdc5f6_1'}\n",
      "can not parse ans for res:  {'response': '\\n\\n\\n\\n\\n\\n\\n\\n\\n\\n\\n\\n\\n\\n\\n\\n\\n\\n\\n\\n\\n\\n\\n\\n\\n\\n\\n\\n\\n\\n\\n\\n\\n\\n\\n\\n\\n\\n\\n\\n\\n\\n\\n\\n\\n\\n\\n\\n\\n\\n\\n\\n\\n\\n\\n\\n\\n\\n\\n\\n\\n\\n\\n\\n\\n\\n\\n\\n\\n\\n\\n\\n\\n\\n\\n\\n\\n\\n\\n\\n\\n\\n\\n\\n\\n\\n\\n\\n\\n\\n\\n\\n\\n\\n\\n\\n\\n\\n\\n\\n\\n\\n\\n\\n\\n\\n\\n\\n\\n\\n\\n\\n\\n\\n\\n\\n\\n\\n\\n\\n\\n\\n\\n\\n\\n\\n\\n\\n\\n\\n\\n\\n\\n\\n\\n\\n\\n\\n\\n\\n\\n\\n\\n\\n\\n\\n\\n\\n\\n\\n\\n\\n\\n\\n\\n\\n\\n\\n\\n\\n\\n\\n\\n\\n\\n\\n\\n\\n\\n\\n\\n\\n\\n\\n\\n\\n\\n\\n\\n\\n\\n\\n\\n\\n\\n\\n\\n\\n\\n\\n\\n\\n\\n\\n\\n\\n\\n\\n\\n\\n\\n\\n\\n\\n\\n\\n\\n\\n\\n\\n\\n\\n\\n\\n\\n\\n\\n\\n\\n\\n\\n\\n\\n\\n\\n\\n\\n\\n\\n\\n\\n\\n\\n\\n\\n\\n\\n\\n\\n\\n\\n\\n\\n\\n\\n\\n\\n\\n\\n\\n\\n\\n\\n\\n\\n\\n\\n\\n\\n\\n\\n\\n\\n\\n\\n\\n\\n\\n\\n\\n\\n\\n\\n\\n\\n\\n\\n\\n\\n\\n\\n\\n\\n\\n\\n\\n\\n\\n\\n\\n\\n\\n\\n\\n\\n\\n\\n\\n\\n\\n\\n\\n\\n\\n\\n\\n\\n\\n\\n\\n\\n\\n\\n\\n\\n\\n\\n\\n\\n\\n\\n\\n\\n\\n\\n\\n\\n\\n\\n\\n\\n\\n\\n\\n\\n\\n\\n\\n\\n\\n\\n\\n\\n\\n\\n\\n\\n\\n\\n\\n\\n\\n\\n\\n\\n\\n\\n\\n\\n\\n\\n\\n\\n\\n\\n\\n\\n\\n\\n\\n\\n\\n\\n\\n\\n\\n\\n\\n\\n\\n\\n\\n\\n\\n\\n\\n\\n\\n\\n\\n\\n\\n\\n\\n\\n\\n\\n\\n\\n\\n\\n\\n\\n\\n\\n\\n\\n\\n\\n\\n\\n\\n\\n\\n\\n\\n\\n\\n\\n\\n\\n\\n\\n\\n\\n\\n\\n\\n\\n\\n\\n\\n\\n\\n\\n\\n\\n\\n\\n\\n\\n\\n\\n\\n\\n\\n\\n\\n\\n\\n\\n\\n\\n\\n\\n\\n\\n\\n\\n\\n\\n\\n\\n\\n\\n\\n\\n\\n\\n\\n\\n\\n\\n\\n\\n\\n\\n\\n\\n\\n\\n\\n\\n\\n\\n\\n\\n\\n\\n\\n\\n\\n\\n\\n\\n\\n\\n\\n\\n\\n', 'qid': '7bc50d11378e48af68fb6ff61dbdc5f6_2'}\n",
      "can not parse ans for res:  {'response': '\\n\\n\\n\\n\\n\\n\\n\\n\\n\\n\\n\\n\\n\\n\\n\\n\\n\\n\\n\\n\\n\\n\\n\\n\\n\\n\\n\\n\\n\\n\\n\\n\\n\\n\\n\\n\\n\\n\\n\\n\\n\\n\\n\\n\\n\\n\\n\\n\\n\\n\\n\\n\\n\\n\\n\\n\\n\\n\\n\\n\\n\\n\\n\\n\\n\\n\\n\\n\\n\\n\\n\\n\\n\\n\\n\\n\\n\\n\\n\\n\\n\\n\\n\\n\\n\\n\\n\\n\\n\\n\\n\\n\\n\\n\\n\\n\\n\\n\\n\\n\\n\\n\\n\\n\\n\\n\\n\\n\\n\\n\\n\\n\\n\\n\\n\\n\\n\\n\\n\\n\\n\\n\\n\\n\\n\\n\\n\\n\\n\\n\\n\\n\\n\\n\\n\\n\\n\\n\\n\\n\\n\\n\\n\\n\\n\\n\\n\\n\\n\\n\\n\\n\\n\\n\\n\\n\\n\\n\\n\\n\\n\\n\\n\\n\\n\\n\\n\\n\\n\\n\\n\\n\\n\\n\\n\\n\\n\\n\\n\\n\\n\\n\\n\\n\\n\\n\\n\\n\\n\\n\\n\\n\\n\\n\\n\\n\\n\\n\\n\\n\\n\\n\\n\\n\\n\\n\\n\\n\\n\\n\\n\\n\\n\\n\\n\\n\\n\\n\\n\\n\\n\\n\\n\\n\\n\\n\\n\\n\\n\\n\\n\\n\\n\\n\\n\\n\\n\\n\\n\\n\\n\\n\\n\\n\\n\\n\\n\\n\\n\\n\\n\\n\\n\\n\\n\\n\\n\\n\\n\\n\\n\\n\\n\\n\\n\\n\\n\\n\\n\\n\\n\\n\\n\\n\\n\\n\\n\\n\\n\\n\\n\\n\\n\\n\\n\\n\\n\\n\\n\\n\\n\\n\\n\\n\\n\\n\\n\\n\\n\\n\\n\\n\\n\\n\\n\\n\\n\\n\\n\\n\\n\\n\\n\\n\\n\\n\\n\\n\\n\\n\\n\\n\\n\\n\\n\\n\\n\\n\\n\\n\\n\\n\\n\\n\\n\\n\\n\\n\\n\\n\\n\\n\\n\\n\\n\\n\\n\\n\\n\\n\\n\\n\\n\\n\\n\\n\\n\\n\\n\\n\\n\\n\\n\\n\\n\\n\\n\\n\\n\\n\\n\\n\\n\\n\\n\\n\\n\\n\\n\\n\\n\\n\\n\\n\\n\\n\\n\\n\\n\\n\\n\\n\\n\\n\\n\\n\\n\\n\\n\\n\\n\\n\\n\\n\\n\\n\\n\\n\\n\\n\\n\\n\\n\\n\\n\\n\\n\\n\\n\\n\\n\\n\\n\\n\\n\\n\\n\\n\\n\\n\\n\\n\\n\\n\\n\\n\\n\\n\\n\\n\\n\\n\\n\\n\\n\\n\\n\\n\\n\\n\\n\\n\\n\\n\\n\\n\\n\\n\\n\\n\\n\\n\\n\\n\\n\\n\\n\\n\\n\\n\\n\\n\\n\\n\\n\\n\\n\\n\\n\\n\\n\\n\\n\\n\\n\\n\\n\\n\\n\\n\\n\\n\\n\\n\\n\\n\\n\\n\\n\\n', 'qid': '7bc50d11378e48af68fb6ff61dbdc5f6_0'}\n",
      "can not parse ans for res:  {'response': '\\n\\n\\n\\n\\n\\n\\n\\n\\n\\n\\n\\n\\n\\n\\n\\n\\n\\n\\n\\n\\n\\n\\n\\n\\n\\n\\n\\n\\n\\n\\n\\n\\n\\n\\n\\n\\n\\n\\n\\n\\n\\n\\n\\n\\n\\n\\n\\n\\n\\n\\n\\n\\n\\n\\n\\n\\n\\n\\n\\n\\n\\n\\n\\n\\n\\n\\n\\n\\n\\n\\n\\n\\n\\n\\n\\n\\n\\n\\n\\n\\n\\n\\n\\n\\n\\n\\n\\n\\n\\n\\n\\n\\n\\n\\n\\n\\n\\n\\n\\n\\n\\n\\n\\n\\n\\n\\n\\n\\n\\n\\n\\n\\n\\n\\n\\n\\n\\n\\n\\n\\n\\n\\n\\n\\n\\n\\n\\n\\n\\n\\n\\n\\n\\n\\n\\n\\n\\n\\n\\n\\n\\n\\n\\n\\n\\n\\n\\n\\n\\n\\n\\n\\n\\n\\n\\n\\n\\n\\n\\n\\n\\n\\n\\n\\n\\n\\n\\n\\n\\n\\n\\n\\n\\n\\n\\n\\n\\n\\n\\n\\n\\n\\n\\n\\n\\n\\n\\n\\n\\n\\n\\n\\n\\n\\n\\n\\n\\n\\n\\n\\n\\n\\n\\n\\n\\n\\n\\n\\n\\n\\n\\n\\n\\n\\n\\n\\n\\n\\n\\n\\n\\n\\n\\n\\n\\n\\n\\n\\n\\n\\n\\n\\n\\n\\n\\n\\n\\n\\n\\n\\n\\n\\n\\n\\n\\n\\n\\n\\n\\n\\n\\n\\n\\n\\n\\n\\n\\n\\n\\n\\n\\n\\n\\n\\n\\n\\n\\n\\n\\n\\n\\n\\n\\n\\n\\n\\n\\n\\n\\n\\n\\n\\n\\n\\n\\n\\n\\n\\n\\n\\n\\n\\n\\n\\n\\n\\n\\n\\n\\n\\n\\n\\n\\n\\n\\n\\n\\n\\n\\n\\n\\n\\n\\n\\n\\n\\n\\n\\n\\n\\n\\n\\n\\n\\n\\n\\n\\n\\n\\n\\n\\n\\n\\n\\n\\n\\n\\n\\n\\n\\n\\n\\n\\n\\n\\n\\n\\n\\n\\n\\n\\n\\n\\n\\n\\n\\n\\n\\n\\n\\n\\n\\n\\n\\n\\n\\n\\n\\n\\n\\n\\n\\n\\n\\n\\n\\n\\n\\n\\n\\n\\n\\n\\n\\n\\n\\n\\n\\n\\n\\n\\n\\n\\n\\n\\n\\n\\n\\n\\n\\n\\n\\n\\n\\n\\n\\n\\n\\n\\n\\n\\n\\n\\n\\n\\n\\n\\n\\n\\n\\n\\n\\n\\n\\n\\n\\n\\n\\n\\n\\n\\n\\n\\n\\n\\n\\n\\n\\n\\n\\n\\n\\n\\n\\n\\n\\n\\n\\n\\n\\n\\n\\n\\n\\n\\n\\n\\n\\n\\n\\n\\n\\n\\n\\n\\n\\n\\n\\n\\n\\n\\n\\n\\n\\n\\n\\n\\n\\n\\n\\n\\n\\n\\n\\n\\n\\n\\n\\n\\n\\n\\n\\n\\n\\n\\n\\n\\n\\n\\n', 'qid': '7bc50d11378e48af68fb6ff61dbdc5f6_1'}\n",
      "can not parse ans for res:  {'response': '\\n\\n\\n\\n\\n\\n\\n\\n\\n\\n\\n\\n\\n\\n\\n\\n\\n\\n\\n\\n\\n\\n\\n\\n\\n\\n\\n\\n\\n\\n\\n\\n\\n\\n\\n\\n\\n\\n\\n\\n\\n\\n\\n\\n\\n\\n\\n\\n\\n\\n\\n\\n\\n\\n\\n\\n\\n\\n\\n\\n\\n\\n\\n\\n\\n\\n\\n\\n\\n\\n\\n\\n\\n\\n\\n\\n\\n\\n\\n\\n\\n\\n\\n\\n\\n\\n\\n\\n\\n\\n\\n\\n\\n\\n\\n\\n\\n\\n\\n\\n\\n\\n\\n\\n\\n\\n\\n\\n\\n\\n\\n\\n\\n\\n\\n\\n\\n\\n\\n\\n\\n\\n\\n\\n\\n\\n\\n\\n\\n\\n\\n\\n\\n\\n\\n\\n\\n\\n\\n\\n\\n\\n\\n\\n\\n\\n\\n\\n\\n\\n\\n\\n\\n\\n\\n\\n\\n\\n\\n\\n\\n\\n\\n\\n\\n\\n\\n\\n\\n\\n\\n\\n\\n\\n\\n\\n\\n\\n\\n\\n\\n\\n\\n\\n\\n\\n\\n\\n\\n\\n\\n\\n\\n\\n\\n\\n\\n\\n\\n\\n\\n\\n\\n\\n\\n\\n\\n\\n\\n\\n\\n\\n\\n\\n\\n\\n\\n\\n\\n\\n\\n\\n\\n\\n\\n\\n\\n\\n\\n\\n\\n\\n\\n\\n\\n\\n\\n\\n\\n\\n\\n\\n\\n\\n\\n\\n\\n\\n\\n\\n\\n\\n\\n\\n\\n\\n\\n\\n\\n\\n\\n\\n\\n\\n\\n\\n\\n\\n\\n\\n\\n\\n\\n\\n\\n\\n\\n\\n\\n\\n\\n\\n\\n\\n\\n\\n\\n\\n\\n\\n\\n\\n\\n\\n\\n\\n\\n\\n\\n\\n\\n\\n\\n\\n\\n\\n\\n\\n\\n\\n\\n\\n\\n\\n\\n\\n\\n\\n\\n\\n\\n\\n\\n\\n\\n\\n\\n\\n\\n\\n\\n\\n\\n\\n\\n\\n\\n\\n\\n\\n\\n\\n\\n\\n\\n\\n\\n\\n\\n\\n\\n\\n\\n\\n\\n\\n\\n\\n\\n\\n\\n\\n\\n\\n\\n\\n\\n\\n\\n\\n\\n\\n\\n\\n\\n\\n\\n\\n\\n\\n\\n\\n\\n\\n\\n\\n\\n\\n\\n\\n\\n\\n\\n\\n\\n\\n\\n\\n\\n\\n\\n\\n\\n\\n\\n\\n\\n\\n\\n\\n\\n\\n\\n\\n\\n\\n\\n\\n\\n\\n\\n\\n\\n\\n\\n\\n\\n\\n\\n\\n\\n\\n\\n\\n\\n\\n\\n\\n\\n\\n\\n\\n\\n\\n\\n\\n\\n\\n\\n\\n\\n\\n\\n\\n\\n\\n\\n\\n\\n\\n\\n\\n\\n\\n\\n\\n\\n\\n\\n\\n\\n\\n\\n\\n\\n\\n\\n\\n\\n\\n\\n\\n\\n\\n\\n\\n\\n\\n\\n\\n\\n\\n\\n\\n\\n\\n\\n\\n\\n\\n', 'qid': '7bc50d11378e48af68fb6ff61dbdc5f6_1'}\n",
      "can not parse ans for res:  {'response': '\\n\\n\\n\\n\\n\\n\\n\\n\\n\\n\\n\\n\\n\\n\\n\\n\\n\\n\\n\\n\\n\\n\\n\\n\\n\\n\\n\\n\\n\\n\\n\\n\\n\\n\\n\\n\\n\\n\\n\\n\\n\\n\\n\\n\\n\\n\\n\\n\\n\\n\\n\\n\\n\\n\\n\\n\\n\\n\\n\\n\\n\\n\\n\\n\\n\\n\\n\\n\\n\\n\\n\\n\\n\\n\\n\\n\\n\\n\\n\\n\\n\\n\\n\\n\\n\\n\\n\\n\\n\\n\\n\\n\\n\\n\\n\\n\\n\\n\\n\\n\\n\\n\\n\\n\\n\\n\\n\\n\\n\\n\\n\\n\\n\\n\\n\\n\\n\\n\\n\\n\\n\\n\\n\\n\\n\\n\\n\\n\\n\\n\\n\\n\\n\\n\\n\\n\\n\\n\\n\\n\\n\\n\\n\\n\\n\\n\\n\\n\\n\\n\\n\\n\\n\\n\\n\\n\\n\\n\\n\\n\\n\\n\\n\\n\\n\\n\\n\\n\\n\\n\\n\\n\\n\\n\\n\\n\\n\\n\\n\\n\\n\\n\\n\\n\\n\\n\\n\\n\\n\\n\\n\\n\\n\\n\\n\\n\\n\\n\\n\\n\\n\\n\\n\\n\\n\\n\\n\\n\\n\\n\\n\\n\\n\\n\\n\\n\\n\\n\\n\\n\\n\\n\\n\\n\\n\\n\\n\\n\\n\\n\\n\\n\\n\\n\\n\\n\\n\\n\\n\\n\\n\\n\\n\\n\\n\\n\\n\\n\\n\\n\\n\\n\\n\\n\\n\\n\\n\\n\\n\\n\\n\\n\\n\\n\\n\\n\\n\\n\\n\\n\\n\\n\\n\\n\\n\\n\\n\\n\\n\\n\\n\\n\\n\\n\\n\\n\\n\\n\\n\\n\\n\\n\\n\\n\\n\\n\\n\\n\\n\\n\\n\\n\\n\\n\\n\\n\\n\\n\\n\\n\\n\\n\\n\\n\\n\\n\\n\\n\\n\\n\\n\\n\\n\\n\\n\\n\\n\\n\\n\\n\\n\\n\\n\\n\\n\\n\\n\\n\\n\\n\\n\\n\\n\\n\\n\\n\\n\\n\\n\\n\\n\\n\\n\\n\\n\\n\\n\\n\\n\\n\\n\\n\\n\\n\\n\\n\\n\\n\\n\\n\\n\\n\\n\\n\\n\\n\\n\\n\\n\\n\\n\\n\\n\\n\\n\\n\\n\\n\\n\\n\\n\\n\\n\\n\\n\\n\\n\\n\\n\\n\\n\\n\\n\\n\\n\\n\\n\\n\\n\\n\\n\\n\\n\\n\\n\\n\\n\\n\\n\\n\\n\\n\\n\\n\\n\\n\\n\\n\\n\\n\\n\\n\\n\\n\\n\\n\\n\\n\\n\\n\\n\\n\\n\\n\\n\\n\\n\\n\\n\\n\\n\\n\\n\\n\\n\\n\\n\\n\\n\\n\\n\\n\\n\\n\\n\\n\\n\\n\\n\\n\\n\\n\\n\\n\\n\\n\\n\\n\\n\\n\\n\\n\\n\\n\\n\\n\\n\\n\\n\\n\\n\\n\\n\\n\\n\\n\\n\\n\\n\\n', 'qid': '7bc50d11378e48af68fb6ff61dbdc5f6_2'}\n",
      "can not parse ans for res:  {'response': '\\n\\nThe image shows a variety of skewered meats being grilled, with skewers inserted into the meat pieces. The skewers are made of metal and are placed on a grill with a flame beneath it, indicating that the meat is being cooked. There are also some pieces of meat that are not on skewers, but they are also being grilled. The background includes a table with a plate and a bowl, suggesting that this is a dining setting. The question asks which dish does not use skewers, but all visible dishes in the image are using skewers for cooking the meat. Therefore, the question is not applicable to the content of the image, as all dishes shown are using skewers. If the question is referring to a different dish not shown in the image, then the answer would be the dish that is not visible in the image. However, without additional context or options, it is not possible to provide a specific answer to the question based on the image content.', 'qid': 'ecfdcfdea82364ce147a66235514a853_0'}\n",
      "can not parse ans for res:  {'response': \"\\n\\nThe image shows a variety of skewered meats on a grill, with some pieces appearing to be more charred and others less so. There are also some pieces of what looks like cheese or a similar topping. The background is not clear enough to provide additional context. The question seems to be asking which dish contains the least amount of food, but without a clear view of all the options, it's impossible to accurately determine which one has the least amount of food. Therefore, I cannot provide a definitive answer to the question based on the image provided.\", 'qid': 'ecfdcfdea82364ce147a66235514a853_1'}\n",
      "can not parse ans for res:  {'response': \"\\n\\nThe image shows a variety of grilled meats, which could be used in different dishes, including barbecue and burritos. However, without a clear view of the entire dish or additional context, it is not possible to definitively determine if the dish includes both barbecue and burritos. The image does not provide enough information to make an accurate assessment of the dish's contents. Therefore, the best answer would be to acknowledge the uncertainty and not make an assumption without further evidence.\", 'qid': 'ecfdcfdea82364ce147a66235514a853_2'}\n",
      "can not parse ans for res:  {'response': '\\n\\n\\n\\n\\n\\n\\n\\n\\n\\n\\n\\n\\n\\n\\n\\n\\n\\n\\n\\n\\n\\n\\n\\n\\n\\n\\n\\n\\n\\n\\n\\n\\n\\n\\n\\n\\n\\n\\n\\n\\n\\n\\n\\n\\n\\n\\n\\n\\n\\n\\n\\n\\n\\n\\n\\n\\n\\n\\n\\n\\n\\n\\n\\n\\n\\n\\n\\n\\n\\n\\n\\n\\n\\n\\n\\n\\n\\n\\n\\n\\n\\n\\n\\n\\n\\n\\n\\n\\n\\n\\n\\n\\n\\n\\n\\n\\n\\n\\n\\n\\n\\n\\n\\n\\n\\n\\n\\n\\n\\n\\n\\n\\n\\n\\n\\n\\n\\n\\n\\n\\n\\n\\n\\n\\n\\n\\n\\n\\n\\n\\n\\n\\n\\n\\n\\n\\n\\n\\n\\n\\n\\n\\n\\n\\n\\n\\n\\n\\n\\n\\n\\n\\n\\n\\n\\n\\n\\n\\n\\n\\n\\n\\n\\n\\n\\n\\n\\n\\n\\n\\n\\n\\n\\n\\n\\n\\n\\n\\n\\n\\n\\n\\n\\n\\n\\n\\n\\n\\n\\n\\n\\n\\n\\n\\n\\n\\n\\n\\n\\n\\n\\n\\n\\n\\n\\n\\n\\n\\n\\n\\n\\n\\n\\n\\n\\n\\n\\n\\n\\n\\n\\n\\n\\n\\n\\n\\n\\n\\n\\n\\n\\n\\n\\n\\n\\n\\n\\n\\n\\n\\n\\n\\n\\n\\n\\n\\n\\n\\n\\n\\n\\n\\n\\n\\n\\n\\n\\n\\n\\n\\n\\n\\n\\n\\n\\n\\n\\n\\n\\n\\n\\n\\n\\n\\n\\n\\n\\n\\n\\n\\n\\n\\n\\n\\n\\n\\n\\n\\n\\n\\n\\n\\n\\n\\n\\n\\n\\n\\n\\n\\n\\n\\n\\n\\n\\n\\n\\n\\n\\n\\n\\n\\n\\n\\n\\n\\n\\n\\n\\n\\n\\n\\n\\n\\n\\n\\n\\n\\n\\n\\n\\n\\n\\n\\n\\n\\n\\n\\n\\n\\n\\n\\n\\n\\n\\n\\n\\n\\n\\n\\n\\n\\n\\n\\n\\n\\n\\n\\n\\n\\n\\n\\n\\n\\n\\n\\n\\n\\n\\n\\n\\n\\n\\n\\n\\n\\n\\n\\n\\n\\n\\n\\n\\n\\n\\n\\n\\n\\n\\n\\n\\n\\n\\n\\n\\n\\n\\n\\n\\n\\n\\n\\n\\n\\n\\n\\n\\n\\n\\n\\n\\n\\n\\n\\n\\n\\n\\n\\n\\n\\n\\n\\n\\n\\n\\n\\n\\n\\n\\n\\n\\n\\n\\n\\n\\n\\n\\n\\n\\n\\n\\n\\n\\n\\n\\n\\n\\n\\n\\n\\n\\n\\n\\n\\n\\n\\n\\n\\n\\n\\n\\n\\n\\n\\n\\n\\n\\n\\n\\n\\n\\n\\n\\n\\n\\n\\n\\n\\n\\n\\n\\n\\n\\n\\n\\n\\n\\n\\n\\n\\n\\n\\n\\n\\n\\n\\n\\n\\n\\n', 'qid': 'a98c9f7c2e61856eb97d46cbaaa1e4f0_0'}\n",
      "can not parse ans for res:  {'response': '\\n\\n\\n\\n\\n\\n\\n\\n\\n\\n\\n\\n\\n\\n\\n\\n\\n\\n\\n\\n\\n\\n\\n\\n\\n\\n\\n\\n\\n\\n\\n\\n\\n\\n\\n\\n\\n\\n\\n\\n\\n\\n\\n\\n\\n\\n\\n\\n\\n\\n\\n\\n\\n\\n\\n\\n\\n\\n\\n\\n\\n\\n\\n\\n\\n\\n\\n\\n\\n\\n\\n\\n\\n\\n\\n\\n\\n\\n\\n\\n\\n\\n\\n\\n\\n\\n\\n\\n\\n\\n\\n\\n\\n\\n\\n\\n\\n\\n\\n\\n\\n\\n\\n\\n\\n\\n\\n\\n\\n\\n\\n\\n\\n\\n\\n\\n\\n\\n\\n\\n\\n\\n\\n\\n\\n\\n\\n\\n\\n\\n\\n\\n\\n\\n\\n\\n\\n\\n\\n\\n\\n\\n\\n\\n\\n\\n\\n\\n\\n\\n\\n\\n\\n\\n\\n\\n\\n\\n\\n\\n\\n\\n\\n\\n\\n\\n\\n\\n\\n\\n\\n\\n\\n\\n\\n\\n\\n\\n\\n\\n\\n\\n\\n\\n\\n\\n\\n\\n\\n\\n\\n\\n\\n\\n\\n\\n\\n\\n\\n\\n\\n\\n\\n\\n\\n\\n\\n\\n\\n\\n\\n\\n\\n\\n\\n\\n\\n\\n\\n\\n\\n\\n\\n\\n\\n\\n\\n\\n\\n\\n\\n\\n\\n\\n\\n\\n\\n\\n\\n\\n\\n\\n\\n\\n\\n\\n\\n\\n\\n\\n\\n\\n\\n\\n\\n\\n\\n\\n\\n\\n\\n\\n\\n\\n\\n\\n\\n\\n\\n\\n\\n\\n\\n\\n\\n\\n\\n\\n\\n\\n\\n\\n\\n\\n\\n\\n\\n\\n\\n\\n\\n\\n\\n\\n\\n\\n\\n\\n\\n\\n\\n\\n\\n\\n\\n\\n\\n\\n\\n\\n\\n\\n\\n\\n\\n\\n\\n\\n\\n\\n\\n\\n\\n\\n\\n\\n\\n\\n\\n\\n\\n\\n\\n\\n\\n\\n\\n\\n\\n\\n\\n\\n\\n\\n\\n\\n\\n\\n\\n\\n\\n\\n\\n\\n\\n\\n\\n\\n\\n\\n\\n\\n\\n\\n\\n\\n\\n\\n\\n\\n\\n\\n\\n\\n\\n\\n\\n\\n\\n\\n\\n\\n\\n\\n\\n\\n\\n\\n\\n\\n\\n\\n\\n\\n\\n\\n\\n\\n\\n\\n\\n\\n\\n\\n\\n\\n\\n\\n\\n\\n\\n\\n\\n\\n\\n\\n\\n\\n\\n\\n\\n\\n\\n\\n\\n\\n\\n\\n\\n\\n\\n\\n\\n\\n\\n\\n\\n\\n\\n\\n\\n\\n\\n\\n\\n\\n\\n\\n\\n\\n\\n\\n\\n\\n\\n\\n\\n\\n\\n\\n\\n\\n\\n\\n\\n\\n\\n\\n\\n\\n\\n\\n\\n\\n\\n\\n\\n\\n\\n\\n\\n\\n\\n\\n\\n\\n\\n\\n\\n\\n\\n\\n\\n\\n\\n\\n\\n\\n\\n\\n', 'qid': 'a98c9f7c2e61856eb97d46cbaaa1e4f0_1'}\n",
      "can not parse ans for res:  {'response': '\\n\\n\\n\\n\\n\\n\\n\\n\\n\\n\\n\\n\\n\\n\\n\\n\\n\\n\\n\\n\\n\\n\\n\\n\\n\\n\\n\\n\\n\\n\\n\\n\\n\\n\\n\\n\\n\\n\\n\\n\\n\\n\\n\\n\\n\\n\\n\\n\\n\\n\\n\\n\\n\\n\\n\\n\\n\\n\\n\\n\\n\\n\\n\\n\\n\\n\\n\\n\\n\\n\\n\\n\\n\\n\\n\\n\\n\\n\\n\\n\\n\\n\\n\\n\\n\\n\\n\\n\\n\\n\\n\\n\\n\\n\\n\\n\\n\\n\\n\\n\\n\\n\\n\\n\\n\\n\\n\\n\\n\\n\\n\\n\\n\\n\\n\\n\\n\\n\\n\\n\\n\\n\\n\\n\\n\\n\\n\\n\\n\\n\\n\\n\\n\\n\\n\\n\\n\\n\\n\\n\\n\\n\\n\\n\\n\\n\\n\\n\\n\\n\\n\\n\\n\\n\\n\\n\\n\\n\\n\\n\\n\\n\\n\\n\\n\\n\\n\\n\\n\\n\\n\\n\\n\\n\\n\\n\\n\\n\\n\\n\\n\\n\\n\\n\\n\\n\\n\\n\\n\\n\\n\\n\\n\\n\\n\\n\\n\\n\\n\\n\\n\\n\\n\\n\\n\\n\\n\\n\\n\\n\\n\\n\\n\\n\\n\\n\\n\\n\\n\\n\\n\\n\\n\\n\\n\\n\\n\\n\\n\\n\\n\\n\\n\\n\\n\\n\\n\\n\\n\\n\\n\\n\\n\\n\\n\\n\\n\\n\\n\\n\\n\\n\\n\\n\\n\\n\\n\\n\\n\\n\\n\\n\\n\\n\\n\\n\\n\\n\\n\\n\\n\\n\\n\\n\\n\\n\\n\\n\\n\\n\\n\\n\\n\\n\\n\\n\\n\\n\\n\\n\\n\\n\\n\\n\\n\\n\\n\\n\\n\\n\\n\\n\\n\\n\\n\\n\\n\\n\\n\\n\\n\\n\\n\\n\\n\\n\\n\\n\\n\\n\\n\\n\\n\\n\\n\\n\\n\\n\\n\\n\\n\\n\\n\\n\\n\\n\\n\\n\\n\\n\\n\\n\\n\\n\\n\\n\\n\\n\\n\\n\\n\\n\\n\\n\\n\\n\\n\\n\\n\\n\\n\\n\\n\\n\\n\\n\\n\\n\\n\\n\\n\\n\\n\\n\\n\\n\\n\\n\\n\\n\\n\\n\\n\\n\\n\\n\\n\\n\\n\\n\\n\\n\\n\\n\\n\\n\\n\\n\\n\\n\\n\\n\\n\\n\\n\\n\\n\\n\\n\\n\\n\\n\\n\\n\\n\\n\\n\\n\\n\\n\\n\\n\\n\\n\\n\\n\\n\\n\\n\\n\\n\\n\\n\\n\\n\\n\\n\\n\\n\\n\\n\\n\\n\\n\\n\\n\\n\\n\\n\\n\\n\\n\\n\\n\\n\\n\\n\\n\\n\\n\\n\\n\\n\\n\\n\\n\\n\\n\\n\\n\\n\\n\\n\\n\\n\\n\\n\\n\\n\\n\\n\\n\\n\\n\\n\\n\\n\\n\\n\\n\\n\\n\\n\\n\\n\\n\\n\\n\\n\\n', 'qid': 'a98c9f7c2e61856eb97d46cbaaa1e4f0_2'}\n",
      "can not parse ans for res:  {'response': '\\n\\n\\n\\n\\n\\n\\n\\n\\n\\n\\n\\n\\n\\n\\n\\n\\n\\n\\n\\n\\n\\n\\n\\n\\n\\n\\n\\n\\n\\n\\n\\n\\n\\n\\n\\n\\n\\n\\n\\n\\n\\n\\n\\n\\n\\n\\n\\n\\n\\n\\n\\n\\n\\n\\n\\n\\n\\n\\n\\n\\n\\n\\n\\n\\n\\n\\n\\n\\n\\n\\n\\n\\n\\n\\n\\n\\n\\n\\n\\n\\n\\n\\n\\n\\n\\n\\n\\n\\n\\n\\n\\n\\n\\n\\n\\n\\n\\n\\n\\n\\n\\n\\n\\n\\n\\n\\n\\n\\n\\n\\n\\n\\n\\n\\n\\n\\n\\n\\n\\n\\n\\n\\n\\n\\n\\n\\n\\n\\n\\n\\n\\n\\n\\n\\n\\n\\n\\n\\n\\n\\n\\n\\n\\n\\n\\n\\n\\n\\n\\n\\n\\n\\n\\n\\n\\n\\n\\n\\n\\n\\n\\n\\n\\n\\n\\n\\n\\n\\n\\n\\n\\n\\n\\n\\n\\n\\n\\n\\n\\n\\n\\n\\n\\n\\n\\n\\n\\n\\n\\n\\n\\n\\n\\n\\n\\n\\n\\n\\n\\n\\n\\n\\n\\n\\n\\n\\n\\n\\n\\n\\n\\n\\n\\n\\n\\n\\n\\n\\n\\n\\n\\n\\n\\n\\n\\n\\n\\n\\n\\n\\n\\n\\n\\n\\n\\n\\n\\n\\n\\n\\n\\n\\n\\n\\n\\n\\n\\n\\n\\n\\n\\n\\n\\n\\n\\n\\n\\n\\n\\n\\n\\n\\n\\n\\n\\n\\n\\n\\n\\n\\n\\n\\n\\n\\n\\n\\n\\n\\n\\n\\n\\n\\n\\n\\n\\n\\n\\n\\n\\n\\n\\n\\n\\n\\n\\n\\n\\n\\n\\n\\n\\n\\n\\n\\n\\n\\n\\n\\n\\n\\n\\n\\n\\n\\n\\n\\n\\n\\n\\n\\n\\n\\n\\n\\n\\n\\n\\n\\n\\n\\n\\n\\n\\n\\n\\n\\n\\n\\n\\n\\n\\n\\n\\n\\n\\n\\n\\n\\n\\n\\n\\n\\n\\n\\n\\n\\n\\n\\n\\n\\n\\n\\n\\n\\n\\n\\n\\n\\n\\n\\n\\n\\n\\n\\n\\n\\n\\n\\n\\n\\n\\n\\n\\n\\n\\n\\n\\n\\n\\n\\n\\n\\n\\n\\n\\n\\n\\n\\n\\n\\n\\n\\n\\n\\n\\n\\n\\n\\n\\n\\n\\n\\n\\n\\n\\n\\n\\n\\n\\n\\n\\n\\n\\n\\n\\n\\n\\n\\n\\n\\n\\n\\n\\n\\n\\n\\n\\n\\n\\n\\n\\n\\n\\n\\n\\n\\n\\n\\n\\n\\n\\n\\n\\n\\n\\n\\n\\n\\n\\n\\n\\n\\n\\n\\n\\n\\n\\n\\n\\n\\n\\n\\n\\n\\n\\n\\n\\n\\n\\n\\n\\n\\n\\n\\n\\n\\n\\n\\n\\n\\n\\n\\n\\n\\n\\n\\n\\n\\n\\n', 'qid': 'a98c9f7c2e61856eb97d46cbaaa1e4f0_0'}\n",
      "can not parse ans for res:  {'response': '\\n\\n\\n\\n\\n\\n\\n\\n\\n\\n\\n\\n\\n\\n\\n\\n\\n\\n\\n\\n\\n\\n\\n\\n\\n\\n\\n\\n\\n\\n\\n\\n\\n\\n\\n\\n\\n\\n\\n\\n\\n\\n\\n\\n\\n\\n\\n\\n\\n\\n\\n\\n\\n\\n\\n\\n\\n\\n\\n\\n\\n\\n\\n\\n\\n\\n\\n\\n\\n\\n\\n\\n\\n\\n\\n\\n\\n\\n\\n\\n\\n\\n\\n\\n\\n\\n\\n\\n\\n\\n\\n\\n\\n\\n\\n\\n\\n\\n\\n\\n\\n\\n\\n\\n\\n\\n\\n\\n\\n\\n\\n\\n\\n\\n\\n\\n\\n\\n\\n\\n\\n\\n\\n\\n\\n\\n\\n\\n\\n\\n\\n\\n\\n\\n\\n\\n\\n\\n\\n\\n\\n\\n\\n\\n\\n\\n\\n\\n\\n\\n\\n\\n\\n\\n\\n\\n\\n\\n\\n\\n\\n\\n\\n\\n\\n\\n\\n\\n\\n\\n\\n\\n\\n\\n\\n\\n\\n\\n\\n\\n\\n\\n\\n\\n\\n\\n\\n\\n\\n\\n\\n\\n\\n\\n\\n\\n\\n\\n\\n\\n\\n\\n\\n\\n\\n\\n\\n\\n\\n\\n\\n\\n\\n\\n\\n\\n\\n\\n\\n\\n\\n\\n\\n\\n\\n\\n\\n\\n\\n\\n\\n\\n\\n\\n\\n\\n\\n\\n\\n\\n\\n\\n\\n\\n\\n\\n\\n\\n\\n\\n\\n\\n\\n\\n\\n\\n\\n\\n\\n\\n\\n\\n\\n\\n\\n\\n\\n\\n\\n\\n\\n\\n\\n\\n\\n\\n\\n\\n\\n\\n\\n\\n\\n\\n\\n\\n\\n\\n\\n\\n\\n\\n\\n\\n\\n\\n\\n\\n\\n\\n\\n\\n\\n\\n\\n\\n\\n\\n\\n\\n\\n\\n\\n\\n\\n\\n\\n\\n\\n\\n\\n\\n\\n\\n\\n\\n\\n\\n\\n\\n\\n\\n\\n\\n\\n\\n\\n\\n\\n\\n\\n\\n\\n\\n\\n\\n\\n\\n\\n\\n\\n\\n\\n\\n\\n\\n\\n\\n\\n\\n\\n\\n\\n\\n\\n\\n\\n\\n\\n\\n\\n\\n\\n\\n\\n\\n\\n\\n\\n\\n\\n\\n\\n\\n\\n\\n\\n\\n\\n\\n\\n\\n\\n\\n\\n\\n\\n\\n\\n\\n\\n\\n\\n\\n\\n\\n\\n\\n\\n\\n\\n\\n\\n\\n\\n\\n\\n\\n\\n\\n\\n\\n\\n\\n\\n\\n\\n\\n\\n\\n\\n\\n\\n\\n\\n\\n\\n\\n\\n\\n\\n\\n\\n\\n\\n\\n\\n\\n\\n\\n\\n\\n\\n\\n\\n\\n\\n\\n\\n\\n\\n\\n\\n\\n\\n\\n\\n\\n\\n\\n\\n\\n\\n\\n\\n\\n\\n\\n\\n\\n\\n\\n\\n\\n\\n\\n\\n\\n\\n\\n\\n\\n\\n\\n\\n\\n\\n\\n\\n\\n', 'qid': 'a98c9f7c2e61856eb97d46cbaaa1e4f0_1'}\n",
      "can not parse ans for res:  {'response': '\\n\\n\\n\\n\\n\\n\\n\\n\\n\\n\\n\\n\\n\\n\\n\\n\\n\\n\\n\\n\\n\\n\\n\\n\\n\\n\\n\\n\\n\\n\\n\\n\\n\\n\\n\\n\\n\\n\\n\\n\\n\\n\\n\\n\\n\\n\\n\\n\\n\\n\\n\\n\\n\\n\\n\\n\\n\\n\\n\\n\\n\\n\\n\\n\\n\\n\\n\\n\\n\\n\\n\\n\\n\\n\\n\\n\\n\\n\\n\\n\\n\\n\\n\\n\\n\\n\\n\\n\\n\\n\\n\\n\\n\\n\\n\\n\\n\\n\\n\\n\\n\\n\\n\\n\\n\\n\\n\\n\\n\\n\\n\\n\\n\\n\\n\\n\\n\\n\\n\\n\\n\\n\\n\\n\\n\\n\\n\\n\\n\\n\\n\\n\\n\\n\\n\\n\\n\\n\\n\\n\\n\\n\\n\\n\\n\\n\\n\\n\\n\\n\\n\\n\\n\\n\\n\\n\\n\\n\\n\\n\\n\\n\\n\\n\\n\\n\\n\\n\\n\\n\\n\\n\\n\\n\\n\\n\\n\\n\\n\\n\\n\\n\\n\\n\\n\\n\\n\\n\\n\\n\\n\\n\\n\\n\\n\\n\\n\\n\\n\\n\\n\\n\\n\\n\\n\\n\\n\\n\\n\\n\\n\\n\\n\\n\\n\\n\\n\\n\\n\\n\\n\\n\\n\\n\\n\\n\\n\\n\\n\\n\\n\\n\\n\\n\\n\\n\\n\\n\\n\\n\\n\\n\\n\\n\\n\\n\\n\\n\\n\\n\\n\\n\\n\\n\\n\\n\\n\\n\\n\\n\\n\\n\\n\\n\\n\\n\\n\\n\\n\\n\\n\\n\\n\\n\\n\\n\\n\\n\\n\\n\\n\\n\\n\\n\\n\\n\\n\\n\\n\\n\\n\\n\\n\\n\\n\\n\\n\\n\\n\\n\\n\\n\\n\\n\\n\\n\\n\\n\\n\\n\\n\\n\\n\\n\\n\\n\\n\\n\\n\\n\\n\\n\\n\\n\\n\\n\\n\\n\\n\\n\\n\\n\\n\\n\\n\\n\\n\\n\\n\\n\\n\\n\\n\\n\\n\\n\\n\\n\\n\\n\\n\\n\\n\\n\\n\\n\\n\\n\\n\\n\\n\\n\\n\\n\\n\\n\\n\\n\\n\\n\\n\\n\\n\\n\\n\\n\\n\\n\\n\\n\\n\\n\\n\\n\\n\\n\\n\\n\\n\\n\\n\\n\\n\\n\\n\\n\\n\\n\\n\\n\\n\\n\\n\\n\\n\\n\\n\\n\\n\\n\\n\\n\\n\\n\\n\\n\\n\\n\\n\\n\\n\\n\\n\\n\\n\\n\\n\\n\\n\\n\\n\\n\\n\\n\\n\\n\\n\\n\\n\\n\\n\\n\\n\\n\\n\\n\\n\\n\\n\\n\\n\\n\\n\\n\\n\\n\\n\\n\\n\\n\\n\\n\\n\\n\\n\\n\\n\\n\\n\\n\\n\\n\\n\\n\\n\\n\\n\\n\\n\\n\\n\\n\\n\\n\\n\\n\\n\\n\\n\\n\\n\\n\\n\\n\\n\\n\\n\\n\\n\\n', 'qid': 'a98c9f7c2e61856eb97d46cbaaa1e4f0_2'}\n",
      "can not parse ans for res:  {'response': '\\n\\n\\n\\n\\n\\n\\n\\n\\n\\n\\n\\n\\n\\n\\n\\n\\n\\n\\n\\n\\n\\n\\n\\n\\n\\n\\n\\n\\n\\n\\n\\n\\n\\n\\n\\n\\n\\n\\n\\n\\n\\n\\n\\n\\n\\n\\n\\n\\n\\n\\n\\n\\n\\n\\n\\n\\n\\n\\n\\n\\n\\n\\n\\n\\n\\n\\n\\n\\n\\n\\n\\n\\n\\n\\n\\n\\n\\n\\n\\n\\n\\n\\n\\n\\n\\n\\n\\n\\n\\n\\n\\n\\n\\n\\n\\n\\n\\n\\n\\n\\n\\n\\n\\n\\n\\n\\n\\n\\n\\n\\n\\n\\n\\n\\n\\n\\n\\n\\n\\n\\n\\n\\n\\n\\n\\n\\n\\n\\n\\n\\n\\n\\n\\n\\n\\n\\n\\n\\n\\n\\n\\n\\n\\n\\n\\n\\n\\n\\n\\n\\n\\n\\n\\n\\n\\n\\n\\n\\n\\n\\n\\n\\n\\n\\n\\n\\n\\n\\n\\n\\n\\n\\n\\n\\n\\n\\n\\n\\n\\n\\n\\n\\n\\n\\n\\n\\n\\n\\n\\n\\n\\n\\n\\n\\n\\n\\n\\n\\n\\n\\n\\n\\n\\n\\n\\n\\n\\n\\n\\n\\n\\n\\n\\n\\n\\n\\n\\n\\n\\n\\n\\n\\n\\n\\n\\n\\n\\n\\n\\n\\n\\n\\n\\n\\n\\n\\n\\n\\n\\n\\n\\n\\n\\n\\n\\n\\n\\n\\n\\n\\n\\n\\n\\n\\n\\n\\n\\n\\n\\n\\n\\n\\n\\n\\n\\n\\n\\n\\n\\n\\n\\n\\n\\n\\n\\n\\n\\n\\n\\n\\n\\n\\n\\n\\n\\n\\n\\n\\n\\n\\n\\n\\n\\n\\n\\n\\n\\n\\n\\n\\n\\n\\n\\n\\n\\n\\n\\n\\n\\n\\n\\n\\n\\n\\n\\n\\n\\n\\n\\n\\n\\n\\n\\n\\n\\n\\n\\n\\n\\n\\n\\n\\n\\n\\n\\n\\n\\n\\n\\n\\n\\n\\n\\n\\n\\n\\n\\n\\n\\n\\n\\n\\n\\n\\n\\n\\n\\n\\n\\n\\n\\n\\n\\n\\n\\n\\n\\n\\n\\n\\n\\n\\n\\n\\n\\n\\n\\n\\n\\n\\n\\n\\n\\n\\n\\n\\n\\n\\n\\n\\n\\n\\n\\n\\n\\n\\n\\n\\n\\n\\n\\n\\n\\n\\n\\n\\n\\n\\n\\n\\n\\n\\n\\n\\n\\n\\n\\n\\n\\n\\n\\n\\n\\n\\n\\n\\n\\n\\n\\n\\n\\n\\n\\n\\n\\n\\n\\n\\n\\n\\n\\n\\n\\n\\n\\n\\n\\n\\n\\n\\n\\n\\n\\n\\n\\n\\n\\n\\n\\n\\n\\n\\n\\n\\n\\n\\n\\n\\n\\n\\n\\n\\n\\n\\n\\n\\n\\n\\n\\n\\n\\n\\n\\n\\n\\n\\n\\n\\n\\n\\n\\n\\n\\n\\n\\n\\n\\n\\n\\n', 'qid': 'a98c9f7c2e61856eb97d46cbaaa1e4f0_0'}\n",
      "can not parse ans for res:  {'response': '\\n\\n\\n\\n\\n\\n\\n\\n\\n\\n\\n\\n\\n\\n\\n\\n\\n\\n\\n\\n\\n\\n\\n\\n\\n\\n\\n\\n\\n\\n\\n\\n\\n\\n\\n\\n\\n\\n\\n\\n\\n\\n\\n\\n\\n\\n\\n\\n\\n\\n\\n\\n\\n\\n\\n\\n\\n\\n\\n\\n\\n\\n\\n\\n\\n\\n\\n\\n\\n\\n\\n\\n\\n\\n\\n\\n\\n\\n\\n\\n\\n\\n\\n\\n\\n\\n\\n\\n\\n\\n\\n\\n\\n\\n\\n\\n\\n\\n\\n\\n\\n\\n\\n\\n\\n\\n\\n\\n\\n\\n\\n\\n\\n\\n\\n\\n\\n\\n\\n\\n\\n\\n\\n\\n\\n\\n\\n\\n\\n\\n\\n\\n\\n\\n\\n\\n\\n\\n\\n\\n\\n\\n\\n\\n\\n\\n\\n\\n\\n\\n\\n\\n\\n\\n\\n\\n\\n\\n\\n\\n\\n\\n\\n\\n\\n\\n\\n\\n\\n\\n\\n\\n\\n\\n\\n\\n\\n\\n\\n\\n\\n\\n\\n\\n\\n\\n\\n\\n\\n\\n\\n\\n\\n\\n\\n\\n\\n\\n\\n\\n\\n\\n\\n\\n\\n\\n\\n\\n\\n\\n\\n\\n\\n\\n\\n\\n\\n\\n\\n\\n\\n\\n\\n\\n\\n\\n\\n\\n\\n\\n\\n\\n\\n\\n\\n\\n\\n\\n\\n\\n\\n\\n\\n\\n\\n\\n\\n\\n\\n\\n\\n\\n\\n\\n\\n\\n\\n\\n\\n\\n\\n\\n\\n\\n\\n\\n\\n\\n\\n\\n\\n\\n\\n\\n\\n\\n\\n\\n\\n\\n\\n\\n\\n\\n\\n\\n\\n\\n\\n\\n\\n\\n\\n\\n\\n\\n\\n\\n\\n\\n\\n\\n\\n\\n\\n\\n\\n\\n\\n\\n\\n\\n\\n\\n\\n\\n\\n\\n\\n\\n\\n\\n\\n\\n\\n\\n\\n\\n\\n\\n\\n\\n\\n\\n\\n\\n\\n\\n\\n\\n\\n\\n\\n\\n\\n\\n\\n\\n\\n\\n\\n\\n\\n\\n\\n\\n\\n\\n\\n\\n\\n\\n\\n\\n\\n\\n\\n\\n\\n\\n\\n\\n\\n\\n\\n\\n\\n\\n\\n\\n\\n\\n\\n\\n\\n\\n\\n\\n\\n\\n\\n\\n\\n\\n\\n\\n\\n\\n\\n\\n\\n\\n\\n\\n\\n\\n\\n\\n\\n\\n\\n\\n\\n\\n\\n\\n\\n\\n\\n\\n\\n\\n\\n\\n\\n\\n\\n\\n\\n\\n\\n\\n\\n\\n\\n\\n\\n\\n\\n\\n\\n\\n\\n\\n\\n\\n\\n\\n\\n\\n\\n\\n\\n\\n\\n\\n\\n\\n\\n\\n\\n\\n\\n\\n\\n\\n\\n\\n\\n\\n\\n\\n\\n\\n\\n\\n\\n\\n\\n\\n\\n\\n\\n\\n\\n\\n\\n\\n\\n\\n\\n\\n\\n\\n\\n\\n\\n\\n\\n\\n', 'qid': 'a98c9f7c2e61856eb97d46cbaaa1e4f0_1'}\n",
      "can not parse ans for res:  {'response': '\\n\\n\\n\\n\\n\\n\\n\\n\\n\\n\\n\\n\\n\\n\\n\\n\\n\\n\\n\\n\\n\\n\\n\\n\\n\\n\\n\\n\\n\\n\\n\\n\\n\\n\\n\\n\\n\\n\\n\\n\\n\\n\\n\\n\\n\\n\\n\\n\\n\\n\\n\\n\\n\\n\\n\\n\\n\\n\\n\\n\\n\\n\\n\\n\\n\\n\\n\\n\\n\\n\\n\\n\\n\\n\\n\\n\\n\\n\\n\\n\\n\\n\\n\\n\\n\\n\\n\\n\\n\\n\\n\\n\\n\\n\\n\\n\\n\\n\\n\\n\\n\\n\\n\\n\\n\\n\\n\\n\\n\\n\\n\\n\\n\\n\\n\\n\\n\\n\\n\\n\\n\\n\\n\\n\\n\\n\\n\\n\\n\\n\\n\\n\\n\\n\\n\\n\\n\\n\\n\\n\\n\\n\\n\\n\\n\\n\\n\\n\\n\\n\\n\\n\\n\\n\\n\\n\\n\\n\\n\\n\\n\\n\\n\\n\\n\\n\\n\\n\\n\\n\\n\\n\\n\\n\\n\\n\\n\\n\\n\\n\\n\\n\\n\\n\\n\\n\\n\\n\\n\\n\\n\\n\\n\\n\\n\\n\\n\\n\\n\\n\\n\\n\\n\\n\\n\\n\\n\\n\\n\\n\\n\\n\\n\\n\\n\\n\\n\\n\\n\\n\\n\\n\\n\\n\\n\\n\\n\\n\\n\\n\\n\\n\\n\\n\\n\\n\\n\\n\\n\\n\\n\\n\\n\\n\\n\\n\\n\\n\\n\\n\\n\\n\\n\\n\\n\\n\\n\\n\\n\\n\\n\\n\\n\\n\\n\\n\\n\\n\\n\\n\\n\\n\\n\\n\\n\\n\\n\\n\\n\\n\\n\\n\\n\\n\\n\\n\\n\\n\\n\\n\\n\\n\\n\\n\\n\\n\\n\\n\\n\\n\\n\\n\\n\\n\\n\\n\\n\\n\\n\\n\\n\\n\\n\\n\\n\\n\\n\\n\\n\\n\\n\\n\\n\\n\\n\\n\\n\\n\\n\\n\\n\\n\\n\\n\\n\\n\\n\\n\\n\\n\\n\\n\\n\\n\\n\\n\\n\\n\\n\\n\\n\\n\\n\\n\\n\\n\\n\\n\\n\\n\\n\\n\\n\\n\\n\\n\\n\\n\\n\\n\\n\\n\\n\\n\\n\\n\\n\\n\\n\\n\\n\\n\\n\\n\\n\\n\\n\\n\\n\\n\\n\\n\\n\\n\\n\\n\\n\\n\\n\\n\\n\\n\\n\\n\\n\\n\\n\\n\\n\\n\\n\\n\\n\\n\\n\\n\\n\\n\\n\\n\\n\\n\\n\\n\\n\\n\\n\\n\\n\\n\\n\\n\\n\\n\\n\\n\\n\\n\\n\\n\\n\\n\\n\\n\\n\\n\\n\\n\\n\\n\\n\\n\\n\\n\\n\\n\\n\\n\\n\\n\\n\\n\\n\\n\\n\\n\\n\\n\\n\\n\\n\\n\\n\\n\\n\\n\\n\\n\\n\\n\\n\\n\\n\\n\\n\\n\\n\\n\\n\\n\\n\\n\\n\\n\\n\\n\\n\\n\\n\\n', 'qid': 'a98c9f7c2e61856eb97d46cbaaa1e4f0_2'}\n",
      "can not parse ans for res:  {'response': '\\n\\n\\n\\n\\n\\n\\n\\n\\n\\n\\n\\n\\n\\n\\n\\n\\n\\n\\n\\n\\n\\n\\n\\n\\n\\n\\n\\n\\n\\n\\n\\n\\n\\n\\n\\n\\n\\n\\n\\n\\n\\n\\n\\n\\n\\n\\n\\n\\n\\n\\n\\n\\n\\n\\n\\n\\n\\n\\n\\n\\n\\n\\n\\n\\n\\n\\n\\n\\n\\n\\n\\n\\n\\n\\n\\n\\n\\n\\n\\n\\n\\n\\n\\n\\n\\n\\n\\n\\n\\n\\n\\n\\n\\n\\n\\n\\n\\n\\n\\n\\n\\n\\n\\n\\n\\n\\n\\n\\n\\n\\n\\n\\n\\n\\n\\n\\n\\n\\n\\n\\n\\n\\n\\n\\n\\n\\n\\n\\n\\n\\n\\n\\n\\n\\n\\n\\n\\n\\n\\n\\n\\n\\n\\n\\n\\n\\n\\n\\n\\n\\n\\n\\n\\n\\n\\n\\n\\n\\n\\n\\n\\n\\n\\n\\n\\n\\n\\n\\n\\n\\n\\n\\n\\n\\n\\n\\n\\n\\n\\n\\n\\n\\n\\n\\n\\n\\n\\n\\n\\n\\n\\n\\n\\n\\n\\n\\n\\n\\n\\n\\n\\n\\n\\n\\n\\n\\n\\n\\n\\n\\n\\n\\n\\n\\n\\n\\n\\n\\n\\n\\n\\n\\n\\n\\n\\n\\n\\n\\n\\n\\n\\n\\n\\n\\n\\n\\n\\n\\n\\n\\n\\n\\n\\n\\n\\n\\n\\n\\n\\n\\n\\n\\n\\n\\n\\n\\n\\n\\n\\n\\n\\n\\n\\n\\n\\n\\n\\n\\n\\n\\n\\n\\n\\n\\n\\n\\n\\n\\n\\n\\n\\n\\n\\n\\n\\n\\n\\n\\n\\n\\n\\n\\n\\n\\n\\n\\n\\n\\n\\n\\n\\n\\n\\n\\n\\n\\n\\n\\n\\n\\n\\n\\n\\n\\n\\n\\n\\n\\n\\n\\n\\n\\n\\n\\n\\n\\n\\n\\n\\n\\n\\n\\n\\n\\n\\n\\n\\n\\n\\n\\n\\n\\n\\n\\n\\n\\n\\n\\n\\n\\n\\n\\n\\n\\n\\n\\n\\n\\n\\n\\n\\n\\n\\n\\n\\n\\n\\n\\n\\n\\n\\n\\n\\n\\n\\n\\n\\n\\n\\n\\n\\n\\n\\n\\n\\n\\n\\n\\n\\n\\n\\n\\n\\n\\n\\n\\n\\n\\n\\n\\n\\n\\n\\n\\n\\n\\n\\n\\n\\n\\n\\n\\n\\n\\n\\n\\n\\n\\n\\n\\n\\n\\n\\n\\n\\n\\n\\n\\n\\n\\n\\n\\n\\n\\n\\n\\n\\n\\n\\n\\n\\n\\n\\n\\n\\n\\n\\n\\n\\n\\n\\n\\n\\n\\n\\n\\n\\n\\n\\n\\n\\n\\n\\n\\n\\n\\n\\n\\n\\n\\n\\n\\n\\n\\n\\n\\n\\n\\n\\n\\n\\n\\n\\n\\n\\n\\n\\n\\n\\n\\n\\n\\n\\n\\n\\n\\n\\n\\n\\n', 'qid': 'a98c9f7c2e61856eb97d46cbaaa1e4f0_0'}\n",
      "can not parse ans for res:  {'response': '\\n\\n\\n\\n\\n\\n\\n\\n\\n\\n\\n\\n\\n\\n\\n\\n\\n\\n\\n\\n\\n\\n\\n\\n\\n\\n\\n\\n\\n\\n\\n\\n\\n\\n\\n\\n\\n\\n\\n\\n\\n\\n\\n\\n\\n\\n\\n\\n\\n\\n\\n\\n\\n\\n\\n\\n\\n\\n\\n\\n\\n\\n\\n\\n\\n\\n\\n\\n\\n\\n\\n\\n\\n\\n\\n\\n\\n\\n\\n\\n\\n\\n\\n\\n\\n\\n\\n\\n\\n\\n\\n\\n\\n\\n\\n\\n\\n\\n\\n\\n\\n\\n\\n\\n\\n\\n\\n\\n\\n\\n\\n\\n\\n\\n\\n\\n\\n\\n\\n\\n\\n\\n\\n\\n\\n\\n\\n\\n\\n\\n\\n\\n\\n\\n\\n\\n\\n\\n\\n\\n\\n\\n\\n\\n\\n\\n\\n\\n\\n\\n\\n\\n\\n\\n\\n\\n\\n\\n\\n\\n\\n\\n\\n\\n\\n\\n\\n\\n\\n\\n\\n\\n\\n\\n\\n\\n\\n\\n\\n\\n\\n\\n\\n\\n\\n\\n\\n\\n\\n\\n\\n\\n\\n\\n\\n\\n\\n\\n\\n\\n\\n\\n\\n\\n\\n\\n\\n\\n\\n\\n\\n\\n\\n\\n\\n\\n\\n\\n\\n\\n\\n\\n\\n\\n\\n\\n\\n\\n\\n\\n\\n\\n\\n\\n\\n\\n\\n\\n\\n\\n\\n\\n\\n\\n\\n\\n\\n\\n\\n\\n\\n\\n\\n\\n\\n\\n\\n\\n\\n\\n\\n\\n\\n\\n\\n\\n\\n\\n\\n\\n\\n\\n\\n\\n\\n\\n\\n\\n\\n\\n\\n\\n\\n\\n\\n\\n\\n\\n\\n\\n\\n\\n\\n\\n\\n\\n\\n\\n\\n\\n\\n\\n\\n\\n\\n\\n\\n\\n\\n\\n\\n\\n\\n\\n\\n\\n\\n\\n\\n\\n\\n\\n\\n\\n\\n\\n\\n\\n\\n\\n\\n\\n\\n\\n\\n\\n\\n\\n\\n\\n\\n\\n\\n\\n\\n\\n\\n\\n\\n\\n\\n\\n\\n\\n\\n\\n\\n\\n\\n\\n\\n\\n\\n\\n\\n\\n\\n\\n\\n\\n\\n\\n\\n\\n\\n\\n\\n\\n\\n\\n\\n\\n\\n\\n\\n\\n\\n\\n\\n\\n\\n\\n\\n\\n\\n\\n\\n\\n\\n\\n\\n\\n\\n\\n\\n\\n\\n\\n\\n\\n\\n\\n\\n\\n\\n\\n\\n\\n\\n\\n\\n\\n\\n\\n\\n\\n\\n\\n\\n\\n\\n\\n\\n\\n\\n\\n\\n\\n\\n\\n\\n\\n\\n\\n\\n\\n\\n\\n\\n\\n\\n\\n\\n\\n\\n\\n\\n\\n\\n\\n\\n\\n\\n\\n\\n\\n\\n\\n\\n\\n\\n\\n\\n\\n\\n\\n\\n\\n\\n\\n\\n\\n\\n\\n\\n\\n\\n\\n\\n\\n\\n\\n\\n\\n\\n\\n\\n\\n\\n\\n', 'qid': 'a98c9f7c2e61856eb97d46cbaaa1e4f0_1'}\n",
      "can not parse ans for res:  {'response': '\\n\\n\\n\\n\\n\\n\\n\\n\\n\\n\\n\\n\\n\\n\\n\\n\\n\\n\\n\\n\\n\\n\\n\\n\\n\\n\\n\\n\\n\\n\\n\\n\\n\\n\\n\\n\\n\\n\\n\\n\\n\\n\\n\\n\\n\\n\\n\\n\\n\\n\\n\\n\\n\\n\\n\\n\\n\\n\\n\\n\\n\\n\\n\\n\\n\\n\\n\\n\\n\\n\\n\\n\\n\\n\\n\\n\\n\\n\\n\\n\\n\\n\\n\\n\\n\\n\\n\\n\\n\\n\\n\\n\\n\\n\\n\\n\\n\\n\\n\\n\\n\\n\\n\\n\\n\\n\\n\\n\\n\\n\\n\\n\\n\\n\\n\\n\\n\\n\\n\\n\\n\\n\\n\\n\\n\\n\\n\\n\\n\\n\\n\\n\\n\\n\\n\\n\\n\\n\\n\\n\\n\\n\\n\\n\\n\\n\\n\\n\\n\\n\\n\\n\\n\\n\\n\\n\\n\\n\\n\\n\\n\\n\\n\\n\\n\\n\\n\\n\\n\\n\\n\\n\\n\\n\\n\\n\\n\\n\\n\\n\\n\\n\\n\\n\\n\\n\\n\\n\\n\\n\\n\\n\\n\\n\\n\\n\\n\\n\\n\\n\\n\\n\\n\\n\\n\\n\\n\\n\\n\\n\\n\\n\\n\\n\\n\\n\\n\\n\\n\\n\\n\\n\\n\\n\\n\\n\\n\\n\\n\\n\\n\\n\\n\\n\\n\\n\\n\\n\\n\\n\\n\\n\\n\\n\\n\\n\\n\\n\\n\\n\\n\\n\\n\\n\\n\\n\\n\\n\\n\\n\\n\\n\\n\\n\\n\\n\\n\\n\\n\\n\\n\\n\\n\\n\\n\\n\\n\\n\\n\\n\\n\\n\\n\\n\\n\\n\\n\\n\\n\\n\\n\\n\\n\\n\\n\\n\\n\\n\\n\\n\\n\\n\\n\\n\\n\\n\\n\\n\\n\\n\\n\\n\\n\\n\\n\\n\\n\\n\\n\\n\\n\\n\\n\\n\\n\\n\\n\\n\\n\\n\\n\\n\\n\\n\\n\\n\\n\\n\\n\\n\\n\\n\\n\\n\\n\\n\\n\\n\\n\\n\\n\\n\\n\\n\\n\\n\\n\\n\\n\\n\\n\\n\\n\\n\\n\\n\\n\\n\\n\\n\\n\\n\\n\\n\\n\\n\\n\\n\\n\\n\\n\\n\\n\\n\\n\\n\\n\\n\\n\\n\\n\\n\\n\\n\\n\\n\\n\\n\\n\\n\\n\\n\\n\\n\\n\\n\\n\\n\\n\\n\\n\\n\\n\\n\\n\\n\\n\\n\\n\\n\\n\\n\\n\\n\\n\\n\\n\\n\\n\\n\\n\\n\\n\\n\\n\\n\\n\\n\\n\\n\\n\\n\\n\\n\\n\\n\\n\\n\\n\\n\\n\\n\\n\\n\\n\\n\\n\\n\\n\\n\\n\\n\\n\\n\\n\\n\\n\\n\\n\\n\\n\\n\\n\\n\\n\\n\\n\\n\\n\\n\\n\\n\\n\\n\\n\\n\\n\\n\\n\\n\\n\\n\\n\\n\\n\\n\\n\\n\\n\\n', 'qid': '314e7837029070281237ea3d01a9c568_0'}\n",
      "can not parse ans for res:  {'response': '\\n\\n\\n\\n\\n\\n\\n\\n\\n\\n\\n\\n\\n\\n\\n\\n\\n\\n\\n\\n\\n\\n\\n\\n\\n\\n\\n\\n\\n\\n\\n\\n\\n\\n\\n\\n\\n\\n\\n\\n\\n\\n\\n\\n\\n\\n\\n\\n\\n\\n\\n\\n\\n\\n\\n\\n\\n\\n\\n\\n\\n\\n\\n\\n\\n\\n\\n\\n\\n\\n\\n\\n\\n\\n\\n\\n\\n\\n\\n\\n\\n\\n\\n\\n\\n\\n\\n\\n\\n\\n\\n\\n\\n\\n\\n\\n\\n\\n\\n\\n\\n\\n\\n\\n\\n\\n\\n\\n\\n\\n\\n\\n\\n\\n\\n\\n\\n\\n\\n\\n\\n\\n\\n\\n\\n\\n\\n\\n\\n\\n\\n\\n\\n\\n\\n\\n\\n\\n\\n\\n\\n\\n\\n\\n\\n\\n\\n\\n\\n\\n\\n\\n\\n\\n\\n\\n\\n\\n\\n\\n\\n\\n\\n\\n\\n\\n\\n\\n\\n\\n\\n\\n\\n\\n\\n\\n\\n\\n\\n\\n\\n\\n\\n\\n\\n\\n\\n\\n\\n\\n\\n\\n\\n\\n\\n\\n\\n\\n\\n\\n\\n\\n\\n\\n\\n\\n\\n\\n\\n\\n\\n\\n\\n\\n\\n\\n\\n\\n\\n\\n\\n\\n\\n\\n\\n\\n\\n\\n\\n\\n\\n\\n\\n\\n\\n\\n\\n\\n\\n\\n\\n\\n\\n\\n\\n\\n\\n\\n\\n\\n\\n\\n\\n\\n\\n\\n\\n\\n\\n\\n\\n\\n\\n\\n\\n\\n\\n\\n\\n\\n\\n\\n\\n\\n\\n\\n\\n\\n\\n\\n\\n\\n\\n\\n\\n\\n\\n\\n\\n\\n\\n\\n\\n\\n\\n\\n\\n\\n\\n\\n\\n\\n\\n\\n\\n\\n\\n\\n\\n\\n\\n\\n\\n\\n\\n\\n\\n\\n\\n\\n\\n\\n\\n\\n\\n\\n\\n\\n\\n\\n\\n\\n\\n\\n\\n\\n\\n\\n\\n\\n\\n\\n\\n\\n\\n\\n\\n\\n\\n\\n\\n\\n\\n\\n\\n\\n\\n\\n\\n\\n\\n\\n\\n\\n\\n\\n\\n\\n\\n\\n\\n\\n\\n\\n\\n\\n\\n\\n\\n\\n\\n\\n\\n\\n\\n\\n\\n\\n\\n\\n\\n\\n\\n\\n\\n\\n\\n\\n\\n\\n\\n\\n\\n\\n\\n\\n\\n\\n\\n\\n\\n\\n\\n\\n\\n\\n\\n\\n\\n\\n\\n\\n\\n\\n\\n\\n\\n\\n\\n\\n\\n\\n\\n\\n\\n\\n\\n\\n\\n\\n\\n\\n\\n\\n\\n\\n\\n\\n\\n\\n\\n\\n\\n\\n\\n\\n\\n\\n\\n\\n\\n\\n\\n\\n\\n\\n\\n\\n\\n\\n\\n\\n\\n\\n\\n\\n\\n\\n\\n\\n\\n\\n\\n\\n\\n\\n\\n\\n\\n\\n\\n\\n\\n\\n\\n\\n\\n\\n\\n\\n', 'qid': '314e7837029070281237ea3d01a9c568_1'}\n",
      "can not parse ans for res:  {'response': '\\n\\n\\n\\n\\n\\n\\n\\n\\n\\n\\n\\n\\n\\n\\n\\n\\n\\n\\n\\n\\n\\n\\n\\n\\n\\n\\n\\n\\n\\n\\n\\n\\n\\n\\n\\n\\n\\n\\n\\n\\n\\n\\n\\n\\n\\n\\n\\n\\n\\n\\n\\n\\n\\n\\n\\n\\n\\n\\n\\n\\n\\n\\n\\n\\n\\n\\n\\n\\n\\n\\n\\n\\n\\n\\n\\n\\n\\n\\n\\n\\n\\n\\n\\n\\n\\n\\n\\n\\n\\n\\n\\n\\n\\n\\n\\n\\n\\n\\n\\n\\n\\n\\n\\n\\n\\n\\n\\n\\n\\n\\n\\n\\n\\n\\n\\n\\n\\n\\n\\n\\n\\n\\n\\n\\n\\n\\n\\n\\n\\n\\n\\n\\n\\n\\n\\n\\n\\n\\n\\n\\n\\n\\n\\n\\n\\n\\n\\n\\n\\n\\n\\n\\n\\n\\n\\n\\n\\n\\n\\n\\n\\n\\n\\n\\n\\n\\n\\n\\n\\n\\n\\n\\n\\n\\n\\n\\n\\n\\n\\n\\n\\n\\n\\n\\n\\n\\n\\n\\n\\n\\n\\n\\n\\n\\n\\n\\n\\n\\n\\n\\n\\n\\n\\n\\n\\n\\n\\n\\n\\n\\n\\n\\n\\n\\n\\n\\n\\n\\n\\n\\n\\n\\n\\n\\n\\n\\n\\n\\n\\n\\n\\n\\n\\n\\n\\n\\n\\n\\n\\n\\n\\n\\n\\n\\n\\n\\n\\n\\n\\n\\n\\n\\n\\n\\n\\n\\n\\n\\n\\n\\n\\n\\n\\n\\n\\n\\n\\n\\n\\n\\n\\n\\n\\n\\n\\n\\n\\n\\n\\n\\n\\n\\n\\n\\n\\n\\n\\n\\n\\n\\n\\n\\n\\n\\n\\n\\n\\n\\n\\n\\n\\n\\n\\n\\n\\n\\n\\n\\n\\n\\n\\n\\n\\n\\n\\n\\n\\n\\n\\n\\n\\n\\n\\n\\n\\n\\n\\n\\n\\n\\n\\n\\n\\n\\n\\n\\n\\n\\n\\n\\n\\n\\n\\n\\n\\n\\n\\n\\n\\n\\n\\n\\n\\n\\n\\n\\n\\n\\n\\n\\n\\n\\n\\n\\n\\n\\n\\n\\n\\n\\n\\n\\n\\n\\n\\n\\n\\n\\n\\n\\n\\n\\n\\n\\n\\n\\n\\n\\n\\n\\n\\n\\n\\n\\n\\n\\n\\n\\n\\n\\n\\n\\n\\n\\n\\n\\n\\n\\n\\n\\n\\n\\n\\n\\n\\n\\n\\n\\n\\n\\n\\n\\n\\n\\n\\n\\n\\n\\n\\n\\n\\n\\n\\n\\n\\n\\n\\n\\n\\n\\n\\n\\n\\n\\n\\n\\n\\n\\n\\n\\n\\n\\n\\n\\n\\n\\n\\n\\n\\n\\n\\n\\n\\n\\n\\n\\n\\n\\n\\n\\n\\n\\n\\n\\n\\n\\n\\n\\n\\n\\n\\n\\n\\n\\n\\n\\n\\n\\n\\n\\n\\n\\n\\n\\n\\n\\n\\n\\n\\n', 'qid': '752e684973fa9134c2401be9e6683ce0_0'}\n",
      "can not parse ans for res:  {'response': '\\n\\n\\n\\n\\n\\n\\n\\n\\n\\n\\n\\n\\n\\n\\n\\n\\n\\n\\n\\n\\n\\n\\n\\n\\n\\n\\n\\n\\n\\n\\n\\n\\n\\n\\n\\n\\n\\n\\n\\n\\n\\n\\n\\n\\n\\n\\n\\n\\n\\n\\n\\n\\n\\n\\n\\n\\n\\n\\n\\n\\n\\n\\n\\n\\n\\n\\n\\n\\n\\n\\n\\n\\n\\n\\n\\n\\n\\n\\n\\n\\n\\n\\n\\n\\n\\n\\n\\n\\n\\n\\n\\n\\n\\n\\n\\n\\n\\n\\n\\n\\n\\n\\n\\n\\n\\n\\n\\n\\n\\n\\n\\n\\n\\n\\n\\n\\n\\n\\n\\n\\n\\n\\n\\n\\n\\n\\n\\n\\n\\n\\n\\n\\n\\n\\n\\n\\n\\n\\n\\n\\n\\n\\n\\n\\n\\n\\n\\n\\n\\n\\n\\n\\n\\n\\n\\n\\n\\n\\n\\n\\n\\n\\n\\n\\n\\n\\n\\n\\n\\n\\n\\n\\n\\n\\n\\n\\n\\n\\n\\n\\n\\n\\n\\n\\n\\n\\n\\n\\n\\n\\n\\n\\n\\n\\n\\n\\n\\n\\n\\n\\n\\n\\n\\n\\n\\n\\n\\n\\n\\n\\n\\n\\n\\n\\n\\n\\n\\n\\n\\n\\n\\n\\n\\n\\n\\n\\n\\n\\n\\n\\n\\n\\n\\n\\n\\n\\n\\n\\n\\n\\n\\n\\n\\n\\n\\n\\n\\n\\n\\n\\n\\n\\n\\n\\n\\n\\n\\n\\n\\n\\n\\n\\n\\n\\n\\n\\n\\n\\n\\n\\n\\n\\n\\n\\n\\n\\n\\n\\n\\n\\n\\n\\n\\n\\n\\n\\n\\n\\n\\n\\n\\n\\n\\n\\n\\n\\n\\n\\n\\n\\n\\n\\n\\n\\n\\n\\n\\n\\n\\n\\n\\n\\n\\n\\n\\n\\n\\n\\n\\n\\n\\n\\n\\n\\n\\n\\n\\n\\n\\n\\n\\n\\n\\n\\n\\n\\n\\n\\n\\n\\n\\n\\n\\n\\n\\n\\n\\n\\n\\n\\n\\n\\n\\n\\n\\n\\n\\n\\n\\n\\n\\n\\n\\n\\n\\n\\n\\n\\n\\n\\n\\n\\n\\n\\n\\n\\n\\n\\n\\n\\n\\n\\n\\n\\n\\n\\n\\n\\n\\n\\n\\n\\n\\n\\n\\n\\n\\n\\n\\n\\n\\n\\n\\n\\n\\n\\n\\n\\n\\n\\n\\n\\n\\n\\n\\n\\n\\n\\n\\n\\n\\n\\n\\n\\n\\n\\n\\n\\n\\n\\n\\n\\n\\n\\n\\n\\n\\n\\n\\n\\n\\n\\n\\n\\n\\n\\n\\n\\n\\n\\n\\n\\n\\n\\n\\n\\n\\n\\n\\n\\n\\n\\n\\n\\n\\n\\n\\n\\n\\n\\n\\n\\n\\n\\n\\n\\n\\n\\n\\n\\n\\n\\n\\n\\n\\n\\n\\n\\n\\n\\n\\n\\n\\n\\n\\n\\n\\n\\n\\n', 'qid': '752e684973fa9134c2401be9e6683ce0_1'}\n",
      "can not parse ans for res:  {'response': '\\n\\n\\n\\n\\n\\n\\n\\n\\n\\n\\n\\n\\n\\n\\n\\n\\n\\n\\n\\n\\n\\n\\n\\n\\n\\n\\n\\n\\n\\n\\n\\n\\n\\n\\n\\n\\n\\n\\n\\n\\n\\n\\n\\n\\n\\n\\n\\n\\n\\n\\n\\n\\n\\n\\n\\n\\n\\n\\n\\n\\n\\n\\n\\n\\n\\n\\n\\n\\n\\n\\n\\n\\n\\n\\n\\n\\n\\n\\n\\n\\n\\n\\n\\n\\n\\n\\n\\n\\n\\n\\n\\n\\n\\n\\n\\n\\n\\n\\n\\n\\n\\n\\n\\n\\n\\n\\n\\n\\n\\n\\n\\n\\n\\n\\n\\n\\n\\n\\n\\n\\n\\n\\n\\n\\n\\n\\n\\n\\n\\n\\n\\n\\n\\n\\n\\n\\n\\n\\n\\n\\n\\n\\n\\n\\n\\n\\n\\n\\n\\n\\n\\n\\n\\n\\n\\n\\n\\n\\n\\n\\n\\n\\n\\n\\n\\n\\n\\n\\n\\n\\n\\n\\n\\n\\n\\n\\n\\n\\n\\n\\n\\n\\n\\n\\n\\n\\n\\n\\n\\n\\n\\n\\n\\n\\n\\n\\n\\n\\n\\n\\n\\n\\n\\n\\n\\n\\n\\n\\n\\n\\n\\n\\n\\n\\n\\n\\n\\n\\n\\n\\n\\n\\n\\n\\n\\n\\n\\n\\n\\n\\n\\n\\n\\n\\n\\n\\n\\n\\n\\n\\n\\n\\n\\n\\n\\n\\n\\n\\n\\n\\n\\n\\n\\n\\n\\n\\n\\n\\n\\n\\n\\n\\n\\n\\n\\n\\n\\n\\n\\n\\n\\n\\n\\n\\n\\n\\n\\n\\n\\n\\n\\n\\n\\n\\n\\n\\n\\n\\n\\n\\n\\n\\n\\n\\n\\n\\n\\n\\n\\n\\n\\n\\n\\n\\n\\n\\n\\n\\n\\n\\n\\n\\n\\n\\n\\n\\n\\n\\n\\n\\n\\n\\n\\n\\n\\n\\n\\n\\n\\n\\n\\n\\n\\n\\n\\n\\n\\n\\n\\n\\n\\n\\n\\n\\n\\n\\n\\n\\n\\n\\n\\n\\n\\n\\n\\n\\n\\n\\n\\n\\n\\n\\n\\n\\n\\n\\n\\n\\n\\n\\n\\n\\n\\n\\n\\n\\n\\n\\n\\n\\n\\n\\n\\n\\n\\n\\n\\n\\n\\n\\n\\n\\n\\n\\n\\n\\n\\n\\n\\n\\n\\n\\n\\n\\n\\n\\n\\n\\n\\n\\n\\n\\n\\n\\n\\n\\n\\n\\n\\n\\n\\n\\n\\n\\n\\n\\n\\n\\n\\n\\n\\n\\n\\n\\n\\n\\n\\n\\n\\n\\n\\n\\n\\n\\n\\n\\n\\n\\n\\n\\n\\n\\n\\n\\n\\n\\n\\n\\n\\n\\n\\n\\n\\n\\n\\n\\n\\n\\n\\n\\n\\n\\n\\n\\n\\n\\n\\n\\n\\n\\n\\n\\n\\n\\n\\n\\n\\n\\n\\n\\n\\n\\n\\n\\n\\n\\n\\n\\n\\n', 'qid': '314e7837029070281237ea3d01a9c568_1'}\n",
      "can not parse ans for res:  {'response': '\\n\\n\\n\\n\\n\\n\\n\\n\\n\\n\\n\\n\\n\\n\\n\\n\\n\\n\\n\\n\\n\\n\\n\\n\\n\\n\\n\\n\\n\\n\\n\\n\\n\\n\\n\\n\\n\\n\\n\\n\\n\\n\\n\\n\\n\\n\\n\\n\\n\\n\\n\\n\\n\\n\\n\\n\\n\\n\\n\\n\\n\\n\\n\\n\\n\\n\\n\\n\\n\\n\\n\\n\\n\\n\\n\\n\\n\\n\\n\\n\\n\\n\\n\\n\\n\\n\\n\\n\\n\\n\\n\\n\\n\\n\\n\\n\\n\\n\\n\\n\\n\\n\\n\\n\\n\\n\\n\\n\\n\\n\\n\\n\\n\\n\\n\\n\\n\\n\\n\\n\\n\\n\\n\\n\\n\\n\\n\\n\\n\\n\\n\\n\\n\\n\\n\\n\\n\\n\\n\\n\\n\\n\\n\\n\\n\\n\\n\\n\\n\\n\\n\\n\\n\\n\\n\\n\\n\\n\\n\\n\\n\\n\\n\\n\\n\\n\\n\\n\\n\\n\\n\\n\\n\\n\\n\\n\\n\\n\\n\\n\\n\\n\\n\\n\\n\\n\\n\\n\\n\\n\\n\\n\\n\\n\\n\\n\\n\\n\\n\\n\\n\\n\\n\\n\\n\\n\\n\\n\\n\\n\\n\\n\\n\\n\\n\\n\\n\\n\\n\\n\\n\\n\\n\\n\\n\\n\\n\\n\\n\\n\\n\\n\\n\\n\\n\\n\\n\\n\\n\\n\\n\\n\\n\\n\\n\\n\\n\\n\\n\\n\\n\\n\\n\\n\\n\\n\\n\\n\\n\\n\\n\\n\\n\\n\\n\\n\\n\\n\\n\\n\\n\\n\\n\\n\\n\\n\\n\\n\\n\\n\\n\\n\\n\\n\\n\\n\\n\\n\\n\\n\\n\\n\\n\\n\\n\\n\\n\\n\\n\\n\\n\\n\\n\\n\\n\\n\\n\\n\\n\\n\\n\\n\\n\\n\\n\\n\\n\\n\\n\\n\\n\\n\\n\\n\\n\\n\\n\\n\\n\\n\\n\\n\\n\\n\\n\\n\\n\\n\\n\\n\\n\\n\\n\\n\\n\\n\\n\\n\\n\\n\\n\\n\\n\\n\\n\\n\\n\\n\\n\\n\\n\\n\\n\\n\\n\\n\\n\\n\\n\\n\\n\\n\\n\\n\\n\\n\\n\\n\\n\\n\\n\\n\\n\\n\\n\\n\\n\\n\\n\\n\\n\\n\\n\\n\\n\\n\\n\\n\\n\\n\\n\\n\\n\\n\\n\\n\\n\\n\\n\\n\\n\\n\\n\\n\\n\\n\\n\\n\\n\\n\\n\\n\\n\\n\\n\\n\\n\\n\\n\\n\\n\\n\\n\\n\\n\\n\\n\\n\\n\\n\\n\\n\\n\\n\\n\\n\\n\\n\\n\\n\\n\\n\\n\\n\\n\\n\\n\\n\\n\\n\\n\\n\\n\\n\\n\\n\\n\\n\\n\\n\\n\\n\\n\\n\\n\\n\\n\\n\\n\\n\\n\\n\\n\\n\\n\\n\\n\\n\\n\\n\\n\\n\\n\\n\\n\\n\\n\\n\\n\\n', 'qid': '314e7837029070281237ea3d01a9c568_0'}\n",
      "can not parse ans for res:  {'response': '\\n\\n\\n\\n\\n\\n\\n\\n\\n\\n\\n\\n\\n\\n\\n\\n\\n\\n\\n\\n\\n\\n\\n\\n\\n\\n\\n\\n\\n\\n\\n\\n\\n\\n\\n\\n\\n\\n\\n\\n\\n\\n\\n\\n\\n\\n\\n\\n\\n\\n\\n\\n\\n\\n\\n\\n\\n\\n\\n\\n\\n\\n\\n\\n\\n\\n\\n\\n\\n\\n\\n\\n\\n\\n\\n\\n\\n\\n\\n\\n\\n\\n\\n\\n\\n\\n\\n\\n\\n\\n\\n\\n\\n\\n\\n\\n\\n\\n\\n\\n\\n\\n\\n\\n\\n\\n\\n\\n\\n\\n\\n\\n\\n\\n\\n\\n\\n\\n\\n\\n\\n\\n\\n\\n\\n\\n\\n\\n\\n\\n\\n\\n\\n\\n\\n\\n\\n\\n\\n\\n\\n\\n\\n\\n\\n\\n\\n\\n\\n\\n\\n\\n\\n\\n\\n\\n\\n\\n\\n\\n\\n\\n\\n\\n\\n\\n\\n\\n\\n\\n\\n\\n\\n\\n\\n\\n\\n\\n\\n\\n\\n\\n\\n\\n\\n\\n\\n\\n\\n\\n\\n\\n\\n\\n\\n\\n\\n\\n\\n\\n\\n\\n\\n\\n\\n\\n\\n\\n\\n\\n\\n\\n\\n\\n\\n\\n\\n\\n\\n\\n\\n\\n\\n\\n\\n\\n\\n\\n\\n\\n\\n\\n\\n\\n\\n\\n\\n\\n\\n\\n\\n\\n\\n\\n\\n\\n\\n\\n\\n\\n\\n\\n\\n\\n\\n\\n\\n\\n\\n\\n\\n\\n\\n\\n\\n\\n\\n\\n\\n\\n\\n\\n\\n\\n\\n\\n\\n\\n\\n\\n\\n\\n\\n\\n\\n\\n\\n\\n\\n\\n\\n\\n\\n\\n\\n\\n\\n\\n\\n\\n\\n\\n\\n\\n\\n\\n\\n\\n\\n\\n\\n\\n\\n\\n\\n\\n\\n\\n\\n\\n\\n\\n\\n\\n\\n\\n\\n\\n\\n\\n\\n\\n\\n\\n\\n\\n\\n\\n\\n\\n\\n\\n\\n\\n\\n\\n\\n\\n\\n\\n\\n\\n\\n\\n\\n\\n\\n\\n\\n\\n\\n\\n\\n\\n\\n\\n\\n\\n\\n\\n\\n\\n\\n\\n\\n\\n\\n\\n\\n\\n\\n\\n\\n\\n\\n\\n\\n\\n\\n\\n\\n\\n\\n\\n\\n\\n\\n\\n\\n\\n\\n\\n\\n\\n\\n\\n\\n\\n\\n\\n\\n\\n\\n\\n\\n\\n\\n\\n\\n\\n\\n\\n\\n\\n\\n\\n\\n\\n\\n\\n\\n\\n\\n\\n\\n\\n\\n\\n\\n\\n\\n\\n\\n\\n\\n\\n\\n\\n\\n\\n\\n\\n\\n\\n\\n\\n\\n\\n\\n\\n\\n\\n\\n\\n\\n\\n\\n\\n\\n\\n\\n\\n\\n\\n\\n\\n\\n\\n\\n\\n\\n\\n\\n\\n\\n\\n\\n\\n\\n\\n\\n\\n\\n\\n\\n\\n\\n\\n\\n\\n', 'qid': '314e7837029070281237ea3d01a9c568_2'}\n",
      "can not parse ans for res:  {'response': '\\n\\n\\n\\n\\n\\n\\n\\n\\n\\n\\n\\n\\n\\n\\n\\n\\n\\n\\n\\n\\n\\n\\n\\n\\n\\n\\n\\n\\n\\n\\n\\n\\n\\n\\n\\n\\n\\n\\n\\n\\n\\n\\n\\n\\n\\n\\n\\n\\n\\n\\n\\n\\n\\n\\n\\n\\n\\n\\n\\n\\n\\n\\n\\n\\n\\n\\n\\n\\n\\n\\n\\n\\n\\n\\n\\n\\n\\n\\n\\n\\n\\n\\n\\n\\n\\n\\n\\n\\n\\n\\n\\n\\n\\n\\n\\n\\n\\n\\n\\n\\n\\n\\n\\n\\n\\n\\n\\n\\n\\n\\n\\n\\n\\n\\n\\n\\n\\n\\n\\n\\n\\n\\n\\n\\n\\n\\n\\n\\n\\n\\n\\n\\n\\n\\n\\n\\n\\n\\n\\n\\n\\n\\n\\n\\n\\n\\n\\n\\n\\n\\n\\n\\n\\n\\n\\n\\n\\n\\n\\n\\n\\n\\n\\n\\n\\n\\n\\n\\n\\n\\n\\n\\n\\n\\n\\n\\n\\n\\n\\n\\n\\n\\n\\n\\n\\n\\n\\n\\n\\n\\n\\n\\n\\n\\n\\n\\n\\n\\n\\n\\n\\n\\n\\n\\n\\n\\n\\n\\n\\n\\n\\n\\n\\n\\n\\n\\n\\n\\n\\n\\n\\n\\n\\n\\n\\n\\n\\n\\n\\n\\n\\n\\n\\n\\n\\n\\n\\n\\n\\n\\n\\n\\n\\n\\n\\n\\n\\n\\n\\n\\n\\n\\n\\n\\n\\n\\n\\n\\n\\n\\n\\n\\n\\n\\n\\n\\n\\n\\n\\n\\n\\n\\n\\n\\n\\n\\n\\n\\n\\n\\n\\n\\n\\n\\n\\n\\n\\n\\n\\n\\n\\n\\n\\n\\n\\n\\n\\n\\n\\n\\n\\n\\n\\n\\n\\n\\n\\n\\n\\n\\n\\n\\n\\n\\n\\n\\n\\n\\n\\n\\n\\n\\n\\n\\n\\n\\n\\n\\n\\n\\n\\n\\n\\n\\n\\n\\n\\n\\n\\n\\n\\n\\n\\n\\n\\n\\n\\n\\n\\n\\n\\n\\n\\n\\n\\n\\n\\n\\n\\n\\n\\n\\n\\n\\n\\n\\n\\n\\n\\n\\n\\n\\n\\n\\n\\n\\n\\n\\n\\n\\n\\n\\n\\n\\n\\n\\n\\n\\n\\n\\n\\n\\n\\n\\n\\n\\n\\n\\n\\n\\n\\n\\n\\n\\n\\n\\n\\n\\n\\n\\n\\n\\n\\n\\n\\n\\n\\n\\n\\n\\n\\n\\n\\n\\n\\n\\n\\n\\n\\n\\n\\n\\n\\n\\n\\n\\n\\n\\n\\n\\n\\n\\n\\n\\n\\n\\n\\n\\n\\n\\n\\n\\n\\n\\n\\n\\n\\n\\n\\n\\n\\n\\n\\n\\n\\n\\n\\n\\n\\n\\n\\n\\n\\n\\n\\n\\n\\n\\n\\n\\n\\n\\n\\n\\n\\n\\n\\n\\n\\n\\n\\n\\n\\n\\n\\n\\n\\n\\n\\n', 'qid': 'e3b4824da9ea4d092da15d78b24da7e7_0'}\n",
      "can not parse ans for res:  {'response': '\\n\\n\\n\\n\\n\\n\\n\\n\\n\\n\\n\\n\\n\\n\\n\\n\\n\\n\\n\\n\\n\\n\\n\\n\\n\\n\\n\\n\\n\\n\\n\\n\\n\\n\\n\\n\\n\\n\\n\\n\\n\\n\\n\\n\\n\\n\\n\\n\\n\\n\\n\\n\\n\\n\\n\\n\\n\\n\\n\\n\\n\\n\\n\\n\\n\\n\\n\\n\\n\\n\\n\\n\\n\\n\\n\\n\\n\\n\\n\\n\\n\\n\\n\\n\\n\\n\\n\\n\\n\\n\\n\\n\\n\\n\\n\\n\\n\\n\\n\\n\\n\\n\\n\\n\\n\\n\\n\\n\\n\\n\\n\\n\\n\\n\\n\\n\\n\\n\\n\\n\\n\\n\\n\\n\\n\\n\\n\\n\\n\\n\\n\\n\\n\\n\\n\\n\\n\\n\\n\\n\\n\\n\\n\\n\\n\\n\\n\\n\\n\\n\\n\\n\\n\\n\\n\\n\\n\\n\\n\\n\\n\\n\\n\\n\\n\\n\\n\\n\\n\\n\\n\\n\\n\\n\\n\\n\\n\\n\\n\\n\\n\\n\\n\\n\\n\\n\\n\\n\\n\\n\\n\\n\\n\\n\\n\\n\\n\\n\\n\\n\\n\\n\\n\\n\\n\\n\\n\\n\\n\\n\\n\\n\\n\\n\\n\\n\\n\\n\\n\\n\\n\\n\\n\\n\\n\\n\\n\\n\\n\\n\\n\\n\\n\\n\\n\\n\\n\\n\\n\\n\\n\\n\\n\\n\\n\\n\\n\\n\\n\\n\\n\\n\\n\\n\\n\\n\\n\\n\\n\\n\\n\\n\\n\\n\\n\\n\\n\\n\\n\\n\\n\\n\\n\\n\\n\\n\\n\\n\\n\\n\\n\\n\\n\\n\\n\\n\\n\\n\\n\\n\\n\\n\\n\\n\\n\\n\\n\\n\\n\\n\\n\\n\\n\\n\\n\\n\\n\\n\\n\\n\\n\\n\\n\\n\\n\\n\\n\\n\\n\\n\\n\\n\\n\\n\\n\\n\\n\\n\\n\\n\\n\\n\\n\\n\\n\\n\\n\\n\\n\\n\\n\\n\\n\\n\\n\\n\\n\\n\\n\\n\\n\\n\\n\\n\\n\\n\\n\\n\\n\\n\\n\\n\\n\\n\\n\\n\\n\\n\\n\\n\\n\\n\\n\\n\\n\\n\\n\\n\\n\\n\\n\\n\\n\\n\\n\\n\\n\\n\\n\\n\\n\\n\\n\\n\\n\\n\\n\\n\\n\\n\\n\\n\\n\\n\\n\\n\\n\\n\\n\\n\\n\\n\\n\\n\\n\\n\\n\\n\\n\\n\\n\\n\\n\\n\\n\\n\\n\\n\\n\\n\\n\\n\\n\\n\\n\\n\\n\\n\\n\\n\\n\\n\\n\\n\\n\\n\\n\\n\\n\\n\\n\\n\\n\\n\\n\\n\\n\\n\\n\\n\\n\\n\\n\\n\\n\\n\\n\\n\\n\\n\\n\\n\\n\\n\\n\\n\\n\\n\\n\\n\\n\\n\\n\\n\\n\\n\\n\\n\\n\\n\\n\\n\\n\\n\\n\\n\\n\\n\\n\\n', 'qid': 'e3b4824da9ea4d092da15d78b24da7e7_2'}\n",
      "can not parse ans for res:  {'response': '\\n\\n\\n\\n\\n\\n\\n\\n\\n\\n\\n\\n\\n\\n\\n\\n\\n\\n\\n\\n\\n\\n\\n\\n\\n\\n\\n\\n\\n\\n\\n\\n\\n\\n\\n\\n\\n\\n\\n\\n\\n\\n\\n\\n\\n\\n\\n\\n\\n\\n\\n\\n\\n\\n\\n\\n\\n\\n\\n\\n\\n\\n\\n\\n\\n\\n\\n\\n\\n\\n\\n\\n\\n\\n\\n\\n\\n\\n\\n\\n\\n\\n\\n\\n\\n\\n\\n\\n\\n\\n\\n\\n\\n\\n\\n\\n\\n\\n\\n\\n\\n\\n\\n\\n\\n\\n\\n\\n\\n\\n\\n\\n\\n\\n\\n\\n\\n\\n\\n\\n\\n\\n\\n\\n\\n\\n\\n\\n\\n\\n\\n\\n\\n\\n\\n\\n\\n\\n\\n\\n\\n\\n\\n\\n\\n\\n\\n\\n\\n\\n\\n\\n\\n\\n\\n\\n\\n\\n\\n\\n\\n\\n\\n\\n\\n\\n\\n\\n\\n\\n\\n\\n\\n\\n\\n\\n\\n\\n\\n\\n\\n\\n\\n\\n\\n\\n\\n\\n\\n\\n\\n\\n\\n\\n\\n\\n\\n\\n\\n\\n\\n\\n\\n\\n\\n\\n\\n\\n\\n\\n\\n\\n\\n\\n\\n\\n\\n\\n\\n\\n\\n\\n\\n\\n\\n\\n\\n\\n\\n\\n\\n\\n\\n\\n\\n\\n\\n\\n\\n\\n\\n\\n\\n\\n\\n\\n\\n\\n\\n\\n\\n\\n\\n\\n\\n\\n\\n\\n\\n\\n\\n\\n\\n\\n\\n\\n\\n\\n\\n\\n\\n\\n\\n\\n\\n\\n\\n\\n\\n\\n\\n\\n\\n\\n\\n\\n\\n\\n\\n\\n\\n\\n\\n\\n\\n\\n\\n\\n\\n\\n\\n\\n\\n\\n\\n\\n\\n\\n\\n\\n\\n\\n\\n\\n\\n\\n\\n\\n\\n\\n\\n\\n\\n\\n\\n\\n\\n\\n\\n\\n\\n\\n\\n\\n\\n\\n\\n\\n\\n\\n\\n\\n\\n\\n\\n\\n\\n\\n\\n\\n\\n\\n\\n\\n\\n\\n\\n\\n\\n\\n\\n\\n\\n\\n\\n\\n\\n\\n\\n\\n\\n\\n\\n\\n\\n\\n\\n\\n\\n\\n\\n\\n\\n\\n\\n\\n\\n\\n\\n\\n\\n\\n\\n\\n\\n\\n\\n\\n\\n\\n\\n\\n\\n\\n\\n\\n\\n\\n\\n\\n\\n\\n\\n\\n\\n\\n\\n\\n\\n\\n\\n\\n\\n\\n\\n\\n\\n\\n\\n\\n\\n\\n\\n\\n\\n\\n\\n\\n\\n\\n\\n\\n\\n\\n\\n\\n\\n\\n\\n\\n\\n\\n\\n\\n\\n\\n\\n\\n\\n\\n\\n\\n\\n\\n\\n\\n\\n\\n\\n\\n\\n\\n\\n\\n\\n\\n\\n\\n\\n\\n\\n\\n\\n\\n\\n\\n\\n\\n\\n\\n\\n\\n\\n\\n\\n\\n\\n\\n\\n\\n', 'qid': '314e7837029070281237ea3d01a9c568_0'}\n",
      "can not parse ans for res:  {'response': '\\n\\n\\n\\n\\n\\n\\n\\n\\n\\n\\n\\n\\n\\n\\n\\n\\n\\n\\n\\n\\n\\n\\n\\n\\n\\n\\n\\n\\n\\n\\n\\n\\n\\n\\n\\n\\n\\n\\n\\n\\n\\n\\n\\n\\n\\n\\n\\n\\n\\n\\n\\n\\n\\n\\n\\n\\n\\n\\n\\n\\n\\n\\n\\n\\n\\n\\n\\n\\n\\n\\n\\n\\n\\n\\n\\n\\n\\n\\n\\n\\n\\n\\n\\n\\n\\n\\n\\n\\n\\n\\n\\n\\n\\n\\n\\n\\n\\n\\n\\n\\n\\n\\n\\n\\n\\n\\n\\n\\n\\n\\n\\n\\n\\n\\n\\n\\n\\n\\n\\n\\n\\n\\n\\n\\n\\n\\n\\n\\n\\n\\n\\n\\n\\n\\n\\n\\n\\n\\n\\n\\n\\n\\n\\n\\n\\n\\n\\n\\n\\n\\n\\n\\n\\n\\n\\n\\n\\n\\n\\n\\n\\n\\n\\n\\n\\n\\n\\n\\n\\n\\n\\n\\n\\n\\n\\n\\n\\n\\n\\n\\n\\n\\n\\n\\n\\n\\n\\n\\n\\n\\n\\n\\n\\n\\n\\n\\n\\n\\n\\n\\n\\n\\n\\n\\n\\n\\n\\n\\n\\n\\n\\n\\n\\n\\n\\n\\n\\n\\n\\n\\n\\n\\n\\n\\n\\n\\n\\n\\n\\n\\n\\n\\n\\n\\n\\n\\n\\n\\n\\n\\n\\n\\n\\n\\n\\n\\n\\n\\n\\n\\n\\n\\n\\n\\n\\n\\n\\n\\n\\n\\n\\n\\n\\n\\n\\n\\n\\n\\n\\n\\n\\n\\n\\n\\n\\n\\n\\n\\n\\n\\n\\n\\n\\n\\n\\n\\n\\n\\n\\n\\n\\n\\n\\n\\n\\n\\n\\n\\n\\n\\n\\n\\n\\n\\n\\n\\n\\n\\n\\n\\n\\n\\n\\n\\n\\n\\n\\n\\n\\n\\n\\n\\n\\n\\n\\n\\n\\n\\n\\n\\n\\n\\n\\n\\n\\n\\n\\n\\n\\n\\n\\n\\n\\n\\n\\n\\n\\n\\n\\n\\n\\n\\n\\n\\n\\n\\n\\n\\n\\n\\n\\n\\n\\n\\n\\n\\n\\n\\n\\n\\n\\n\\n\\n\\n\\n\\n\\n\\n\\n\\n\\n\\n\\n\\n\\n\\n\\n\\n\\n\\n\\n\\n\\n\\n\\n\\n\\n\\n\\n\\n\\n\\n\\n\\n\\n\\n\\n\\n\\n\\n\\n\\n\\n\\n\\n\\n\\n\\n\\n\\n\\n\\n\\n\\n\\n\\n\\n\\n\\n\\n\\n\\n\\n\\n\\n\\n\\n\\n\\n\\n\\n\\n\\n\\n\\n\\n\\n\\n\\n\\n\\n\\n\\n\\n\\n\\n\\n\\n\\n\\n\\n\\n\\n\\n\\n\\n\\n\\n\\n\\n\\n\\n\\n\\n\\n\\n\\n\\n\\n\\n\\n\\n\\n\\n\\n\\n\\n\\n\\n\\n\\n\\n\\n\\n\\n\\n\\n\\n\\n', 'qid': '314e7837029070281237ea3d01a9c568_1'}\n",
      "can not parse ans for res:  {'response': '\\n\\n\\n\\n\\n\\n\\n\\n\\n\\n\\n\\n\\n\\n\\n\\n\\n\\n\\n\\n\\n\\n\\n\\n\\n\\n\\n\\n\\n\\n\\n\\n\\n\\n\\n\\n\\n\\n\\n\\n\\n\\n\\n\\n\\n\\n\\n\\n\\n\\n\\n\\n\\n\\n\\n\\n\\n\\n\\n\\n\\n\\n\\n\\n\\n\\n\\n\\n\\n\\n\\n\\n\\n\\n\\n\\n\\n\\n\\n\\n\\n\\n\\n\\n\\n\\n\\n\\n\\n\\n\\n\\n\\n\\n\\n\\n\\n\\n\\n\\n\\n\\n\\n\\n\\n\\n\\n\\n\\n\\n\\n\\n\\n\\n\\n\\n\\n\\n\\n\\n\\n\\n\\n\\n\\n\\n\\n\\n\\n\\n\\n\\n\\n\\n\\n\\n\\n\\n\\n\\n\\n\\n\\n\\n\\n\\n\\n\\n\\n\\n\\n\\n\\n\\n\\n\\n\\n\\n\\n\\n\\n\\n\\n\\n\\n\\n\\n\\n\\n\\n\\n\\n\\n\\n\\n\\n\\n\\n\\n\\n\\n\\n\\n\\n\\n\\n\\n\\n\\n\\n\\n\\n\\n\\n\\n\\n\\n\\n\\n\\n\\n\\n\\n\\n\\n\\n\\n\\n\\n\\n\\n\\n\\n\\n\\n\\n\\n\\n\\n\\n\\n\\n\\n\\n\\n\\n\\n\\n\\n\\n\\n\\n\\n\\n\\n\\n\\n\\n\\n\\n\\n\\n\\n\\n\\n\\n\\n\\n\\n\\n\\n\\n\\n\\n\\n\\n\\n\\n\\n\\n\\n\\n\\n\\n\\n\\n\\n\\n\\n\\n\\n\\n\\n\\n\\n\\n\\n\\n\\n\\n\\n\\n\\n\\n\\n\\n\\n\\n\\n\\n\\n\\n\\n\\n\\n\\n\\n\\n\\n\\n\\n\\n\\n\\n\\n\\n\\n\\n\\n\\n\\n\\n\\n\\n\\n\\n\\n\\n\\n\\n\\n\\n\\n\\n\\n\\n\\n\\n\\n\\n\\n\\n\\n\\n\\n\\n\\n\\n\\n\\n\\n\\n\\n\\n\\n\\n\\n\\n\\n\\n\\n\\n\\n\\n\\n\\n\\n\\n\\n\\n\\n\\n\\n\\n\\n\\n\\n\\n\\n\\n\\n\\n\\n\\n\\n\\n\\n\\n\\n\\n\\n\\n\\n\\n\\n\\n\\n\\n\\n\\n\\n\\n\\n\\n\\n\\n\\n\\n\\n\\n\\n\\n\\n\\n\\n\\n\\n\\n\\n\\n\\n\\n\\n\\n\\n\\n\\n\\n\\n\\n\\n\\n\\n\\n\\n\\n\\n\\n\\n\\n\\n\\n\\n\\n\\n\\n\\n\\n\\n\\n\\n\\n\\n\\n\\n\\n\\n\\n\\n\\n\\n\\n\\n\\n\\n\\n\\n\\n\\n\\n\\n\\n\\n\\n\\n\\n\\n\\n\\n\\n\\n\\n\\n\\n\\n\\n\\n\\n\\n\\n\\n\\n\\n\\n\\n\\n\\n\\n\\n\\n\\n\\n\\n\\n\\n\\n\\n\\n\\n\\n', 'qid': '314e7837029070281237ea3d01a9c568_2'}\n",
      "can not parse ans for res:  {'response': '\\n\\n\\n\\n\\n\\n\\n\\n\\n\\n\\n\\n\\n\\n\\n\\n\\n\\n\\n\\n\\n\\n\\n\\n\\n\\n\\n\\n\\n\\n\\n\\n\\n\\n\\n\\n\\n\\n\\n\\n\\n\\n\\n\\n\\n\\n\\n\\n\\n\\n\\n\\n\\n\\n\\n\\n\\n\\n\\n\\n\\n\\n\\n\\n\\n\\n\\n\\n\\n\\n\\n\\n\\n\\n\\n\\n\\n\\n\\n\\n\\n\\n\\n\\n\\n\\n\\n\\n\\n\\n\\n\\n\\n\\n\\n\\n\\n\\n\\n\\n\\n\\n\\n\\n\\n\\n\\n\\n\\n\\n\\n\\n\\n\\n\\n\\n\\n\\n\\n\\n\\n\\n\\n\\n\\n\\n\\n\\n\\n\\n\\n\\n\\n\\n\\n\\n\\n\\n\\n\\n\\n\\n\\n\\n\\n\\n\\n\\n\\n\\n\\n\\n\\n\\n\\n\\n\\n\\n\\n\\n\\n\\n\\n\\n\\n\\n\\n\\n\\n\\n\\n\\n\\n\\n\\n\\n\\n\\n\\n\\n\\n\\n\\n\\n\\n\\n\\n\\n\\n\\n\\n\\n\\n\\n\\n\\n\\n\\n\\n\\n\\n\\n\\n\\n\\n\\n\\n\\n\\n\\n\\n\\n\\n\\n\\n\\n\\n\\n\\n\\n\\n\\n\\n\\n\\n\\n\\n\\n\\n\\n\\n\\n\\n\\n\\n\\n\\n\\n\\n\\n\\n\\n\\n\\n\\n\\n\\n\\n\\n\\n\\n\\n\\n\\n\\n\\n\\n\\n\\n\\n\\n\\n\\n\\n\\n\\n\\n\\n\\n\\n\\n\\n\\n\\n\\n\\n\\n\\n\\n\\n\\n\\n\\n\\n\\n\\n\\n\\n\\n\\n\\n\\n\\n\\n\\n\\n\\n\\n\\n\\n\\n\\n\\n\\n\\n\\n\\n\\n\\n\\n\\n\\n\\n\\n\\n\\n\\n\\n\\n\\n\\n\\n\\n\\n\\n\\n\\n\\n\\n\\n\\n\\n\\n\\n\\n\\n\\n\\n\\n\\n\\n\\n\\n\\n\\n\\n\\n\\n\\n\\n\\n\\n\\n\\n\\n\\n\\n\\n\\n\\n\\n\\n\\n\\n\\n\\n\\n\\n\\n\\n\\n\\n\\n\\n\\n\\n\\n\\n\\n\\n\\n\\n\\n\\n\\n\\n\\n\\n\\n\\n\\n\\n\\n\\n\\n\\n\\n\\n\\n\\n\\n\\n\\n\\n\\n\\n\\n\\n\\n\\n\\n\\n\\n\\n\\n\\n\\n\\n\\n\\n\\n\\n\\n\\n\\n\\n\\n\\n\\n\\n\\n\\n\\n\\n\\n\\n\\n\\n\\n\\n\\n\\n\\n\\n\\n\\n\\n\\n\\n\\n\\n\\n\\n\\n\\n\\n\\n\\n\\n\\n\\n\\n\\n\\n\\n\\n\\n\\n\\n\\n\\n\\n\\n\\n\\n\\n\\n\\n\\n\\n\\n\\n\\n\\n\\n\\n\\n\\n\\n\\n\\n\\n\\n\\n\\n\\n\\n\\n\\n\\n', 'qid': '35140a1de70c5d18dfb8dc655b8f6538_0'}\n",
      "can not parse ans for res:  {'response': '\\n\\n\\n\\n\\n\\n\\n\\n\\n\\n\\n\\n\\n\\n\\n\\n\\n\\n\\n\\n\\n\\n\\n\\n\\n\\n\\n\\n\\n\\n\\n\\n\\n\\n\\n\\n\\n\\n\\n\\n\\n\\n\\n\\n\\n\\n\\n\\n\\n\\n\\n\\n\\n\\n\\n\\n\\n\\n\\n\\n\\n\\n\\n\\n\\n\\n\\n\\n\\n\\n\\n\\n\\n\\n\\n\\n\\n\\n\\n\\n\\n\\n\\n\\n\\n\\n\\n\\n\\n\\n\\n\\n\\n\\n\\n\\n\\n\\n\\n\\n\\n\\n\\n\\n\\n\\n\\n\\n\\n\\n\\n\\n\\n\\n\\n\\n\\n\\n\\n\\n\\n\\n\\n\\n\\n\\n\\n\\n\\n\\n\\n\\n\\n\\n\\n\\n\\n\\n\\n\\n\\n\\n\\n\\n\\n\\n\\n\\n\\n\\n\\n\\n\\n\\n\\n\\n\\n\\n\\n\\n\\n\\n\\n\\n\\n\\n\\n\\n\\n\\n\\n\\n\\n\\n\\n\\n\\n\\n\\n\\n\\n\\n\\n\\n\\n\\n\\n\\n\\n\\n\\n\\n\\n\\n\\n\\n\\n\\n\\n\\n\\n\\n\\n\\n\\n\\n\\n\\n\\n\\n\\n\\n\\n\\n\\n\\n\\n\\n\\n\\n\\n\\n\\n\\n\\n\\n\\n\\n\\n\\n\\n\\n\\n\\n\\n\\n\\n\\n\\n\\n\\n\\n\\n\\n\\n\\n\\n\\n\\n\\n\\n\\n\\n\\n\\n\\n\\n\\n\\n\\n\\n\\n\\n\\n\\n\\n\\n\\n\\n\\n\\n\\n\\n\\n\\n\\n\\n\\n\\n\\n\\n\\n\\n\\n\\n\\n\\n\\n\\n\\n\\n\\n\\n\\n\\n\\n\\n\\n\\n\\n\\n\\n\\n\\n\\n\\n\\n\\n\\n\\n\\n\\n\\n\\n\\n\\n\\n\\n\\n\\n\\n\\n\\n\\n\\n\\n\\n\\n\\n\\n\\n\\n\\n\\n\\n\\n\\n\\n\\n\\n\\n\\n\\n\\n\\n\\n\\n\\n\\n\\n\\n\\n\\n\\n\\n\\n\\n\\n\\n\\n\\n\\n\\n\\n\\n\\n\\n\\n\\n\\n\\n\\n\\n\\n\\n\\n\\n\\n\\n\\n\\n\\n\\n\\n\\n\\n\\n\\n\\n\\n\\n\\n\\n\\n\\n\\n\\n\\n\\n\\n\\n\\n\\n\\n\\n\\n\\n\\n\\n\\n\\n\\n\\n\\n\\n\\n\\n\\n\\n\\n\\n\\n\\n\\n\\n\\n\\n\\n\\n\\n\\n\\n\\n\\n\\n\\n\\n\\n\\n\\n\\n\\n\\n\\n\\n\\n\\n\\n\\n\\n\\n\\n\\n\\n\\n\\n\\n\\n\\n\\n\\n\\n\\n\\n\\n\\n\\n\\n\\n\\n\\n\\n\\n\\n\\n\\n\\n\\n\\n\\n\\n\\n\\n\\n\\n\\n\\n\\n\\n\\n\\n\\n\\n\\n\\n\\n\\n\\n\\n\\n', 'qid': '35140a1de70c5d18dfb8dc655b8f6538_2'}\n",
      "can not parse ans for res:  {'response': '\\n\\n\\n\\n\\n\\n\\n\\n\\n\\n\\n\\n\\n\\n\\n\\n\\n\\n\\n\\n\\n\\n\\n\\n\\n\\n\\n\\n\\n\\n\\n\\n\\n\\n\\n\\n\\n\\n\\n\\n\\n\\n\\n\\n\\n\\n\\n\\n\\n\\n\\n\\n\\n\\n\\n\\n\\n\\n\\n\\n\\n\\n\\n\\n\\n\\n\\n\\n\\n\\n\\n\\n\\n\\n\\n\\n\\n\\n\\n\\n\\n\\n\\n\\n\\n\\n\\n\\n\\n\\n\\n\\n\\n\\n\\n\\n\\n\\n\\n\\n\\n\\n\\n\\n\\n\\n\\n\\n\\n\\n\\n\\n\\n\\n\\n\\n\\n\\n\\n\\n\\n\\n\\n\\n\\n\\n\\n\\n\\n\\n\\n\\n\\n\\n\\n\\n\\n\\n\\n\\n\\n\\n\\n\\n\\n\\n\\n\\n\\n\\n\\n\\n\\n\\n\\n\\n\\n\\n\\n\\n\\n\\n\\n\\n\\n\\n\\n\\n\\n\\n\\n\\n\\n\\n\\n\\n\\n\\n\\n\\n\\n\\n\\n\\n\\n\\n\\n\\n\\n\\n\\n\\n\\n\\n\\n\\n\\n\\n\\n\\n\\n\\n\\n\\n\\n\\n\\n\\n\\n\\n\\n\\n\\n\\n\\n\\n\\n\\n\\n\\n\\n\\n\\n\\n\\n\\n\\n\\n\\n\\n\\n\\n\\n\\n\\n\\n\\n\\n\\n\\n\\n\\n\\n\\n\\n\\n\\n\\n\\n\\n\\n\\n\\n\\n\\n\\n\\n\\n\\n\\n\\n\\n\\n\\n\\n\\n\\n\\n\\n\\n\\n\\n\\n\\n\\n\\n\\n\\n\\n\\n\\n\\n\\n\\n\\n\\n\\n\\n\\n\\n\\n\\n\\n\\n\\n\\n\\n\\n\\n\\n\\n\\n\\n\\n\\n\\n\\n\\n\\n\\n\\n\\n\\n\\n\\n\\n\\n\\n\\n\\n\\n\\n\\n\\n\\n\\n\\n\\n\\n\\n\\n\\n\\n\\n\\n\\n\\n\\n\\n\\n\\n\\n\\n\\n\\n\\n\\n\\n\\n\\n\\n\\n\\n\\n\\n\\n\\n\\n\\n\\n\\n\\n\\n\\n\\n\\n\\n\\n\\n\\n\\n\\n\\n\\n\\n\\n\\n\\n\\n\\n\\n\\n\\n\\n\\n\\n\\n\\n\\n\\n\\n\\n\\n\\n\\n\\n\\n\\n\\n\\n\\n\\n\\n\\n\\n\\n\\n\\n\\n\\n\\n\\n\\n\\n\\n\\n\\n\\n\\n\\n\\n\\n\\n\\n\\n\\n\\n\\n\\n\\n\\n\\n\\n\\n\\n\\n\\n\\n\\n\\n\\n\\n\\n\\n\\n\\n\\n\\n\\n\\n\\n\\n\\n\\n\\n\\n\\n\\n\\n\\n\\n\\n\\n\\n\\n\\n\\n\\n\\n\\n\\n\\n\\n\\n\\n\\n\\n\\n\\n\\n\\n\\n\\n\\n\\n\\n\\n\\n\\n\\n\\n\\n\\n\\n\\n\\n\\n\\n\\n\\n', 'qid': '752e684973fa9134c2401be9e6683ce0_0'}\n",
      "can not parse ans for res:  {'response': '\\n\\n\\n\\n\\n\\n\\n\\n\\n\\n\\n\\n\\n\\n\\n\\n\\n\\n\\n\\n\\n\\n\\n\\n\\n\\n\\n\\n\\n\\n\\n\\n\\n\\n\\n\\n\\n\\n\\n\\n\\n\\n\\n\\n\\n\\n\\n\\n\\n\\n\\n\\n\\n\\n\\n\\n\\n\\n\\n\\n\\n\\n\\n\\n\\n\\n\\n\\n\\n\\n\\n\\n\\n\\n\\n\\n\\n\\n\\n\\n\\n\\n\\n\\n\\n\\n\\n\\n\\n\\n\\n\\n\\n\\n\\n\\n\\n\\n\\n\\n\\n\\n\\n\\n\\n\\n\\n\\n\\n\\n\\n\\n\\n\\n\\n\\n\\n\\n\\n\\n\\n\\n\\n\\n\\n\\n\\n\\n\\n\\n\\n\\n\\n\\n\\n\\n\\n\\n\\n\\n\\n\\n\\n\\n\\n\\n\\n\\n\\n\\n\\n\\n\\n\\n\\n\\n\\n\\n\\n\\n\\n\\n\\n\\n\\n\\n\\n\\n\\n\\n\\n\\n\\n\\n\\n\\n\\n\\n\\n\\n\\n\\n\\n\\n\\n\\n\\n\\n\\n\\n\\n\\n\\n\\n\\n\\n\\n\\n\\n\\n\\n\\n\\n\\n\\n\\n\\n\\n\\n\\n\\n\\n\\n\\n\\n\\n\\n\\n\\n\\n\\n\\n\\n\\n\\n\\n\\n\\n\\n\\n\\n\\n\\n\\n\\n\\n\\n\\n\\n\\n\\n\\n\\n\\n\\n\\n\\n\\n\\n\\n\\n\\n\\n\\n\\n\\n\\n\\n\\n\\n\\n\\n\\n\\n\\n\\n\\n\\n\\n\\n\\n\\n\\n\\n\\n\\n\\n\\n\\n\\n\\n\\n\\n\\n\\n\\n\\n\\n\\n\\n\\n\\n\\n\\n\\n\\n\\n\\n\\n\\n\\n\\n\\n\\n\\n\\n\\n\\n\\n\\n\\n\\n\\n\\n\\n\\n\\n\\n\\n\\n\\n\\n\\n\\n\\n\\n\\n\\n\\n\\n\\n\\n\\n\\n\\n\\n\\n\\n\\n\\n\\n\\n\\n\\n\\n\\n\\n\\n\\n\\n\\n\\n\\n\\n\\n\\n\\n\\n\\n\\n\\n\\n\\n\\n\\n\\n\\n\\n\\n\\n\\n\\n\\n\\n\\n\\n\\n\\n\\n\\n\\n\\n\\n\\n\\n\\n\\n\\n\\n\\n\\n\\n\\n\\n\\n\\n\\n\\n\\n\\n\\n\\n\\n\\n\\n\\n\\n\\n\\n\\n\\n\\n\\n\\n\\n\\n\\n\\n\\n\\n\\n\\n\\n\\n\\n\\n\\n\\n\\n\\n\\n\\n\\n\\n\\n\\n\\n\\n\\n\\n\\n\\n\\n\\n\\n\\n\\n\\n\\n\\n\\n\\n\\n\\n\\n\\n\\n\\n\\n\\n\\n\\n\\n\\n\\n\\n\\n\\n\\n\\n\\n\\n\\n\\n\\n\\n\\n\\n\\n\\n\\n\\n\\n\\n\\n\\n\\n\\n\\n\\n\\n\\n\\n\\n\\n\\n\\n\\n\\n\\n', 'qid': '752e684973fa9134c2401be9e6683ce0_1'}\n",
      "can not parse ans for res:  {'response': '\\n\\n\\n\\n\\n\\n\\n\\n\\n\\n\\n\\n\\n\\n\\n\\n\\n\\n\\n\\n\\n\\n\\n\\n\\n\\n\\n\\n\\n\\n\\n\\n\\n\\n\\n\\n\\n\\n\\n\\n\\n\\n\\n\\n\\n\\n\\n\\n\\n\\n\\n\\n\\n\\n\\n\\n\\n\\n\\n\\n\\n\\n\\n\\n\\n\\n\\n\\n\\n\\n\\n\\n\\n\\n\\n\\n\\n\\n\\n\\n\\n\\n\\n\\n\\n\\n\\n\\n\\n\\n\\n\\n\\n\\n\\n\\n\\n\\n\\n\\n\\n\\n\\n\\n\\n\\n\\n\\n\\n\\n\\n\\n\\n\\n\\n\\n\\n\\n\\n\\n\\n\\n\\n\\n\\n\\n\\n\\n\\n\\n\\n\\n\\n\\n\\n\\n\\n\\n\\n\\n\\n\\n\\n\\n\\n\\n\\n\\n\\n\\n\\n\\n\\n\\n\\n\\n\\n\\n\\n\\n\\n\\n\\n\\n\\n\\n\\n\\n\\n\\n\\n\\n\\n\\n\\n\\n\\n\\n\\n\\n\\n\\n\\n\\n\\n\\n\\n\\n\\n\\n\\n\\n\\n\\n\\n\\n\\n\\n\\n\\n\\n\\n\\n\\n\\n\\n\\n\\n\\n\\n\\n\\n\\n\\n\\n\\n\\n\\n\\n\\n\\n\\n\\n\\n\\n\\n\\n\\n\\n\\n\\n\\n\\n\\n\\n\\n\\n\\n\\n\\n\\n\\n\\n\\n\\n\\n\\n\\n\\n\\n\\n\\n\\n\\n\\n\\n\\n\\n\\n\\n\\n\\n\\n\\n\\n\\n\\n\\n\\n\\n\\n\\n\\n\\n\\n\\n\\n\\n\\n\\n\\n\\n\\n\\n\\n\\n\\n\\n\\n\\n\\n\\n\\n\\n\\n\\n\\n\\n\\n\\n\\n\\n\\n\\n\\n\\n\\n\\n\\n\\n\\n\\n\\n\\n\\n\\n\\n\\n\\n\\n\\n\\n\\n\\n\\n\\n\\n\\n\\n\\n\\n\\n\\n\\n\\n\\n\\n\\n\\n\\n\\n\\n\\n\\n\\n\\n\\n\\n\\n\\n\\n\\n\\n\\n\\n\\n\\n\\n\\n\\n\\n\\n\\n\\n\\n\\n\\n\\n\\n\\n\\n\\n\\n\\n\\n\\n\\n\\n\\n\\n\\n\\n\\n\\n\\n\\n\\n\\n\\n\\n\\n\\n\\n\\n\\n\\n\\n\\n\\n\\n\\n\\n\\n\\n\\n\\n\\n\\n\\n\\n\\n\\n\\n\\n\\n\\n\\n\\n\\n\\n\\n\\n\\n\\n\\n\\n\\n\\n\\n\\n\\n\\n\\n\\n\\n\\n\\n\\n\\n\\n\\n\\n\\n\\n\\n\\n\\n\\n\\n\\n\\n\\n\\n\\n\\n\\n\\n\\n\\n\\n\\n\\n\\n\\n\\n\\n\\n\\n\\n\\n\\n\\n\\n\\n\\n\\n\\n\\n\\n\\n\\n\\n\\n\\n\\n\\n\\n\\n\\n\\n\\n\\n\\n\\n\\n\\n\\n\\n\\n\\n', 'qid': '752e684973fa9134c2401be9e6683ce0_2'}\n",
      "can not parse ans for res:  {'response': '\\n\\n\\n\\n\\n\\n\\n\\n\\n\\n\\n\\n\\n\\n\\n\\n\\n\\n\\n\\n\\n\\n\\n\\n\\n\\n\\n\\n\\n\\n\\n\\n\\n\\n\\n\\n\\n\\n\\n\\n\\n\\n\\n\\n\\n\\n\\n\\n\\n\\n\\n\\n\\n\\n\\n\\n\\n\\n\\n\\n\\n\\n\\n\\n\\n\\n\\n\\n\\n\\n\\n\\n\\n\\n\\n\\n\\n\\n\\n\\n\\n\\n\\n\\n\\n\\n\\n\\n\\n\\n\\n\\n\\n\\n\\n\\n\\n\\n\\n\\n\\n\\n\\n\\n\\n\\n\\n\\n\\n\\n\\n\\n\\n\\n\\n\\n\\n\\n\\n\\n\\n\\n\\n\\n\\n\\n\\n\\n\\n\\n\\n\\n\\n\\n\\n\\n\\n\\n\\n\\n\\n\\n\\n\\n\\n\\n\\n\\n\\n\\n\\n\\n\\n\\n\\n\\n\\n\\n\\n\\n\\n\\n\\n\\n\\n\\n\\n\\n\\n\\n\\n\\n\\n\\n\\n\\n\\n\\n\\n\\n\\n\\n\\n\\n\\n\\n\\n\\n\\n\\n\\n\\n\\n\\n\\n\\n\\n\\n\\n\\n\\n\\n\\n\\n\\n\\n\\n\\n\\n\\n\\n\\n\\n\\n\\n\\n\\n\\n\\n\\n\\n\\n\\n\\n\\n\\n\\n\\n\\n\\n\\n\\n\\n\\n\\n\\n\\n\\n\\n\\n\\n\\n\\n\\n\\n\\n\\n\\n\\n\\n\\n\\n\\n\\n\\n\\n\\n\\n\\n\\n\\n\\n\\n\\n\\n\\n\\n\\n\\n\\n\\n\\n\\n\\n\\n\\n\\n\\n\\n\\n\\n\\n\\n\\n\\n\\n\\n\\n\\n\\n\\n\\n\\n\\n\\n\\n\\n\\n\\n\\n\\n\\n\\n\\n\\n\\n\\n\\n\\n\\n\\n\\n\\n\\n\\n\\n\\n\\n\\n\\n\\n\\n\\n\\n\\n\\n\\n\\n\\n\\n\\n\\n\\n\\n\\n\\n\\n\\n\\n\\n\\n\\n\\n\\n\\n\\n\\n\\n\\n\\n\\n\\n\\n\\n\\n\\n\\n\\n\\n\\n\\n\\n\\n\\n\\n\\n\\n\\n\\n\\n\\n\\n\\n\\n\\n\\n\\n\\n\\n\\n\\n\\n\\n\\n\\n\\n\\n\\n\\n\\n\\n\\n\\n\\n\\n\\n\\n\\n\\n\\n\\n\\n\\n\\n\\n\\n\\n\\n\\n\\n\\n\\n\\n\\n\\n\\n\\n\\n\\n\\n\\n\\n\\n\\n\\n\\n\\n\\n\\n\\n\\n\\n\\n\\n\\n\\n\\n\\n\\n\\n\\n\\n\\n\\n\\n\\n\\n\\n\\n\\n\\n\\n\\n\\n\\n\\n\\n\\n\\n\\n\\n\\n\\n\\n\\n\\n\\n\\n\\n\\n\\n\\n\\n\\n\\n\\n\\n\\n\\n\\n\\n\\n\\n\\n\\n\\n\\n\\n\\n\\n\\n\\n\\n\\n\\n\\n\\n\\n\\n\\n', 'qid': '752e684973fa9134c2401be9e6683ce0_0'}\n",
      "can not parse ans for res:  {'response': '\\n\\n\\n\\n\\n\\n\\n\\n\\n\\n\\n\\n\\n\\n\\n\\n\\n\\n\\n\\n\\n\\n\\n\\n\\n\\n\\n\\n\\n\\n\\n\\n\\n\\n\\n\\n\\n\\n\\n\\n\\n\\n\\n\\n\\n\\n\\n\\n\\n\\n\\n\\n\\n\\n\\n\\n\\n\\n\\n\\n\\n\\n\\n\\n\\n\\n\\n\\n\\n\\n\\n\\n\\n\\n\\n\\n\\n\\n\\n\\n\\n\\n\\n\\n\\n\\n\\n\\n\\n\\n\\n\\n\\n\\n\\n\\n\\n\\n\\n\\n\\n\\n\\n\\n\\n\\n\\n\\n\\n\\n\\n\\n\\n\\n\\n\\n\\n\\n\\n\\n\\n\\n\\n\\n\\n\\n\\n\\n\\n\\n\\n\\n\\n\\n\\n\\n\\n\\n\\n\\n\\n\\n\\n\\n\\n\\n\\n\\n\\n\\n\\n\\n\\n\\n\\n\\n\\n\\n\\n\\n\\n\\n\\n\\n\\n\\n\\n\\n\\n\\n\\n\\n\\n\\n\\n\\n\\n\\n\\n\\n\\n\\n\\n\\n\\n\\n\\n\\n\\n\\n\\n\\n\\n\\n\\n\\n\\n\\n\\n\\n\\n\\n\\n\\n\\n\\n\\n\\n\\n\\n\\n\\n\\n\\n\\n\\n\\n\\n\\n\\n\\n\\n\\n\\n\\n\\n\\n\\n\\n\\n\\n\\n\\n\\n\\n\\n\\n\\n\\n\\n\\n\\n\\n\\n\\n\\n\\n\\n\\n\\n\\n\\n\\n\\n\\n\\n\\n\\n\\n\\n\\n\\n\\n\\n\\n\\n\\n\\n\\n\\n\\n\\n\\n\\n\\n\\n\\n\\n\\n\\n\\n\\n\\n\\n\\n\\n\\n\\n\\n\\n\\n\\n\\n\\n\\n\\n\\n\\n\\n\\n\\n\\n\\n\\n\\n\\n\\n\\n\\n\\n\\n\\n\\n\\n\\n\\n\\n\\n\\n\\n\\n\\n\\n\\n\\n\\n\\n\\n\\n\\n\\n\\n\\n\\n\\n\\n\\n\\n\\n\\n\\n\\n\\n\\n\\n\\n\\n\\n\\n\\n\\n\\n\\n\\n\\n\\n\\n\\n\\n\\n\\n\\n\\n\\n\\n\\n\\n\\n\\n\\n\\n\\n\\n\\n\\n\\n\\n\\n\\n\\n\\n\\n\\n\\n\\n\\n\\n\\n\\n\\n\\n\\n\\n\\n\\n\\n\\n\\n\\n\\n\\n\\n\\n\\n\\n\\n\\n\\n\\n\\n\\n\\n\\n\\n\\n\\n\\n\\n\\n\\n\\n\\n\\n\\n\\n\\n\\n\\n\\n\\n\\n\\n\\n\\n\\n\\n\\n\\n\\n\\n\\n\\n\\n\\n\\n\\n\\n\\n\\n\\n\\n\\n\\n\\n\\n\\n\\n\\n\\n\\n\\n\\n\\n\\n\\n\\n\\n\\n\\n\\n\\n\\n\\n\\n\\n\\n\\n\\n\\n\\n\\n\\n\\n\\n\\n\\n\\n\\n\\n\\n\\n\\n\\n\\n\\n\\n\\n\\n\\n\\n', 'qid': '752e684973fa9134c2401be9e6683ce0_1'}\n",
      "can not parse ans for res:  {'response': '\\n\\n\\n\\n\\n\\n\\n\\n\\n\\n\\n\\n\\n\\n\\n\\n\\n\\n\\n\\n\\n\\n\\n\\n\\n\\n\\n\\n\\n\\n\\n\\n\\n\\n\\n\\n\\n\\n\\n\\n\\n\\n\\n\\n\\n\\n\\n\\n\\n\\n\\n\\n\\n\\n\\n\\n\\n\\n\\n\\n\\n\\n\\n\\n\\n\\n\\n\\n\\n\\n\\n\\n\\n\\n\\n\\n\\n\\n\\n\\n\\n\\n\\n\\n\\n\\n\\n\\n\\n\\n\\n\\n\\n\\n\\n\\n\\n\\n\\n\\n\\n\\n\\n\\n\\n\\n\\n\\n\\n\\n\\n\\n\\n\\n\\n\\n\\n\\n\\n\\n\\n\\n\\n\\n\\n\\n\\n\\n\\n\\n\\n\\n\\n\\n\\n\\n\\n\\n\\n\\n\\n\\n\\n\\n\\n\\n\\n\\n\\n\\n\\n\\n\\n\\n\\n\\n\\n\\n\\n\\n\\n\\n\\n\\n\\n\\n\\n\\n\\n\\n\\n\\n\\n\\n\\n\\n\\n\\n\\n\\n\\n\\n\\n\\n\\n\\n\\n\\n\\n\\n\\n\\n\\n\\n\\n\\n\\n\\n\\n\\n\\n\\n\\n\\n\\n\\n\\n\\n\\n\\n\\n\\n\\n\\n\\n\\n\\n\\n\\n\\n\\n\\n\\n\\n\\n\\n\\n\\n\\n\\n\\n\\n\\n\\n\\n\\n\\n\\n\\n\\n\\n\\n\\n\\n\\n\\n\\n\\n\\n\\n\\n\\n\\n\\n\\n\\n\\n\\n\\n\\n\\n\\n\\n\\n\\n\\n\\n\\n\\n\\n\\n\\n\\n\\n\\n\\n\\n\\n\\n\\n\\n\\n\\n\\n\\n\\n\\n\\n\\n\\n\\n\\n\\n\\n\\n\\n\\n\\n\\n\\n\\n\\n\\n\\n\\n\\n\\n\\n\\n\\n\\n\\n\\n\\n\\n\\n\\n\\n\\n\\n\\n\\n\\n\\n\\n\\n\\n\\n\\n\\n\\n\\n\\n\\n\\n\\n\\n\\n\\n\\n\\n\\n\\n\\n\\n\\n\\n\\n\\n\\n\\n\\n\\n\\n\\n\\n\\n\\n\\n\\n\\n\\n\\n\\n\\n\\n\\n\\n\\n\\n\\n\\n\\n\\n\\n\\n\\n\\n\\n\\n\\n\\n\\n\\n\\n\\n\\n\\n\\n\\n\\n\\n\\n\\n\\n\\n\\n\\n\\n\\n\\n\\n\\n\\n\\n\\n\\n\\n\\n\\n\\n\\n\\n\\n\\n\\n\\n\\n\\n\\n\\n\\n\\n\\n\\n\\n\\n\\n\\n\\n\\n\\n\\n\\n\\n\\n\\n\\n\\n\\n\\n\\n\\n\\n\\n\\n\\n\\n\\n\\n\\n\\n\\n\\n\\n\\n\\n\\n\\n\\n\\n\\n\\n\\n\\n\\n\\n\\n\\n\\n\\n\\n\\n\\n\\n\\n\\n\\n\\n\\n\\n\\n\\n\\n\\n\\n\\n\\n\\n\\n\\n\\n\\n\\n\\n\\n\\n\\n\\n\\n', 'qid': '314e7837029070281237ea3d01a9c568_0'}\n",
      "can not parse ans for res:  {'response': '\\n\\n\\n\\n\\n\\n\\n\\n\\n\\n\\n\\n\\n\\n\\n\\n\\n\\n\\n\\n\\n\\n\\n\\n\\n\\n\\n\\n\\n\\n\\n\\n\\n\\n\\n\\n\\n\\n\\n\\n\\n\\n\\n\\n\\n\\n\\n\\n\\n\\n\\n\\n\\n\\n\\n\\n\\n\\n\\n\\n\\n\\n\\n\\n\\n\\n\\n\\n\\n\\n\\n\\n\\n\\n\\n\\n\\n\\n\\n\\n\\n\\n\\n\\n\\n\\n\\n\\n\\n\\n\\n\\n\\n\\n\\n\\n\\n\\n\\n\\n\\n\\n\\n\\n\\n\\n\\n\\n\\n\\n\\n\\n\\n\\n\\n\\n\\n\\n\\n\\n\\n\\n\\n\\n\\n\\n\\n\\n\\n\\n\\n\\n\\n\\n\\n\\n\\n\\n\\n\\n\\n\\n\\n\\n\\n\\n\\n\\n\\n\\n\\n\\n\\n\\n\\n\\n\\n\\n\\n\\n\\n\\n\\n\\n\\n\\n\\n\\n\\n\\n\\n\\n\\n\\n\\n\\n\\n\\n\\n\\n\\n\\n\\n\\n\\n\\n\\n\\n\\n\\n\\n\\n\\n\\n\\n\\n\\n\\n\\n\\n\\n\\n\\n\\n\\n\\n\\n\\n\\n\\n\\n\\n\\n\\n\\n\\n\\n\\n\\n\\n\\n\\n\\n\\n\\n\\n\\n\\n\\n\\n\\n\\n\\n\\n\\n\\n\\n\\n\\n\\n\\n\\n\\n\\n\\n\\n\\n\\n\\n\\n\\n\\n\\n\\n\\n\\n\\n\\n\\n\\n\\n\\n\\n\\n\\n\\n\\n\\n\\n\\n\\n\\n\\n\\n\\n\\n\\n\\n\\n\\n\\n\\n\\n\\n\\n\\n\\n\\n\\n\\n\\n\\n\\n\\n\\n\\n\\n\\n\\n\\n\\n\\n\\n\\n\\n\\n\\n\\n\\n\\n\\n\\n\\n\\n\\n\\n\\n\\n\\n\\n\\n\\n\\n\\n\\n\\n\\n\\n\\n\\n\\n\\n\\n\\n\\n\\n\\n\\n\\n\\n\\n\\n\\n\\n\\n\\n\\n\\n\\n\\n\\n\\n\\n\\n\\n\\n\\n\\n\\n\\n\\n\\n\\n\\n\\n\\n\\n\\n\\n\\n\\n\\n\\n\\n\\n\\n\\n\\n\\n\\n\\n\\n\\n\\n\\n\\n\\n\\n\\n\\n\\n\\n\\n\\n\\n\\n\\n\\n\\n\\n\\n\\n\\n\\n\\n\\n\\n\\n\\n\\n\\n\\n\\n\\n\\n\\n\\n\\n\\n\\n\\n\\n\\n\\n\\n\\n\\n\\n\\n\\n\\n\\n\\n\\n\\n\\n\\n\\n\\n\\n\\n\\n\\n\\n\\n\\n\\n\\n\\n\\n\\n\\n\\n\\n\\n\\n\\n\\n\\n\\n\\n\\n\\n\\n\\n\\n\\n\\n\\n\\n\\n\\n\\n\\n\\n\\n\\n\\n\\n\\n\\n\\n\\n\\n\\n\\n\\n\\n\\n\\n\\n\\n\\n\\n\\n\\n\\n\\n\\n\\n', 'qid': '314e7837029070281237ea3d01a9c568_1'}\n",
      "can not parse ans for res:  {'response': '\\n\\n\\n\\n\\n\\n\\n\\n\\n\\n\\n\\n\\n\\n\\n\\n\\n\\n\\n\\n\\n\\n\\n\\n\\n\\n\\n\\n\\n\\n\\n\\n\\n\\n\\n\\n\\n\\n\\n\\n\\n\\n\\n\\n\\n\\n\\n\\n\\n\\n\\n\\n\\n\\n\\n\\n\\n\\n\\n\\n\\n\\n\\n\\n\\n\\n\\n\\n\\n\\n\\n\\n\\n\\n\\n\\n\\n\\n\\n\\n\\n\\n\\n\\n\\n\\n\\n\\n\\n\\n\\n\\n\\n\\n\\n\\n\\n\\n\\n\\n\\n\\n\\n\\n\\n\\n\\n\\n\\n\\n\\n\\n\\n\\n\\n\\n\\n\\n\\n\\n\\n\\n\\n\\n\\n\\n\\n\\n\\n\\n\\n\\n\\n\\n\\n\\n\\n\\n\\n\\n\\n\\n\\n\\n\\n\\n\\n\\n\\n\\n\\n\\n\\n\\n\\n\\n\\n\\n\\n\\n\\n\\n\\n\\n\\n\\n\\n\\n\\n\\n\\n\\n\\n\\n\\n\\n\\n\\n\\n\\n\\n\\n\\n\\n\\n\\n\\n\\n\\n\\n\\n\\n\\n\\n\\n\\n\\n\\n\\n\\n\\n\\n\\n\\n\\n\\n\\n\\n\\n\\n\\n\\n\\n\\n\\n\\n\\n\\n\\n\\n\\n\\n\\n\\n\\n\\n\\n\\n\\n\\n\\n\\n\\n\\n\\n\\n\\n\\n\\n\\n\\n\\n\\n\\n\\n\\n\\n\\n\\n\\n\\n\\n\\n\\n\\n\\n\\n\\n\\n\\n\\n\\n\\n\\n\\n\\n\\n\\n\\n\\n\\n\\n\\n\\n\\n\\n\\n\\n\\n\\n\\n\\n\\n\\n\\n\\n\\n\\n\\n\\n\\n\\n\\n\\n\\n\\n\\n\\n\\n\\n\\n\\n\\n\\n\\n\\n\\n\\n\\n\\n\\n\\n\\n\\n\\n\\n\\n\\n\\n\\n\\n\\n\\n\\n\\n\\n\\n\\n\\n\\n\\n\\n\\n\\n\\n\\n\\n\\n\\n\\n\\n\\n\\n\\n\\n\\n\\n\\n\\n\\n\\n\\n\\n\\n\\n\\n\\n\\n\\n\\n\\n\\n\\n\\n\\n\\n\\n\\n\\n\\n\\n\\n\\n\\n\\n\\n\\n\\n\\n\\n\\n\\n\\n\\n\\n\\n\\n\\n\\n\\n\\n\\n\\n\\n\\n\\n\\n\\n\\n\\n\\n\\n\\n\\n\\n\\n\\n\\n\\n\\n\\n\\n\\n\\n\\n\\n\\n\\n\\n\\n\\n\\n\\n\\n\\n\\n\\n\\n\\n\\n\\n\\n\\n\\n\\n\\n\\n\\n\\n\\n\\n\\n\\n\\n\\n\\n\\n\\n\\n\\n\\n\\n\\n\\n\\n\\n\\n\\n\\n\\n\\n\\n\\n\\n\\n\\n\\n\\n\\n\\n\\n\\n\\n\\n\\n\\n\\n\\n\\n\\n\\n\\n\\n\\n\\n\\n\\n\\n\\n\\n\\n\\n\\n\\n\\n\\n\\n\\n\\n\\n', 'qid': '752e684973fa9134c2401be9e6683ce0_0'}\n",
      "can not parse ans for res:  {'response': '\\n\\n\\n\\n\\n\\n\\n\\n\\n\\n\\n\\n\\n\\n\\n\\n\\n\\n\\n\\n\\n\\n\\n\\n\\n\\n\\n\\n\\n\\n\\n\\n\\n\\n\\n\\n\\n\\n\\n\\n\\n\\n\\n\\n\\n\\n\\n\\n\\n\\n\\n\\n\\n\\n\\n\\n\\n\\n\\n\\n\\n\\n\\n\\n\\n\\n\\n\\n\\n\\n\\n\\n\\n\\n\\n\\n\\n\\n\\n\\n\\n\\n\\n\\n\\n\\n\\n\\n\\n\\n\\n\\n\\n\\n\\n\\n\\n\\n\\n\\n\\n\\n\\n\\n\\n\\n\\n\\n\\n\\n\\n\\n\\n\\n\\n\\n\\n\\n\\n\\n\\n\\n\\n\\n\\n\\n\\n\\n\\n\\n\\n\\n\\n\\n\\n\\n\\n\\n\\n\\n\\n\\n\\n\\n\\n\\n\\n\\n\\n\\n\\n\\n\\n\\n\\n\\n\\n\\n\\n\\n\\n\\n\\n\\n\\n\\n\\n\\n\\n\\n\\n\\n\\n\\n\\n\\n\\n\\n\\n\\n\\n\\n\\n\\n\\n\\n\\n\\n\\n\\n\\n\\n\\n\\n\\n\\n\\n\\n\\n\\n\\n\\n\\n\\n\\n\\n\\n\\n\\n\\n\\n\\n\\n\\n\\n\\n\\n\\n\\n\\n\\n\\n\\n\\n\\n\\n\\n\\n\\n\\n\\n\\n\\n\\n\\n\\n\\n\\n\\n\\n\\n\\n\\n\\n\\n\\n\\n\\n\\n\\n\\n\\n\\n\\n\\n\\n\\n\\n\\n\\n\\n\\n\\n\\n\\n\\n\\n\\n\\n\\n\\n\\n\\n\\n\\n\\n\\n\\n\\n\\n\\n\\n\\n\\n\\n\\n\\n\\n\\n\\n\\n\\n\\n\\n\\n\\n\\n\\n\\n\\n\\n\\n\\n\\n\\n\\n\\n\\n\\n\\n\\n\\n\\n\\n\\n\\n\\n\\n\\n\\n\\n\\n\\n\\n\\n\\n\\n\\n\\n\\n\\n\\n\\n\\n\\n\\n\\n\\n\\n\\n\\n\\n\\n\\n\\n\\n\\n\\n\\n\\n\\n\\n\\n\\n\\n\\n\\n\\n\\n\\n\\n\\n\\n\\n\\n\\n\\n\\n\\n\\n\\n\\n\\n\\n\\n\\n\\n\\n\\n\\n\\n\\n\\n\\n\\n\\n\\n\\n\\n\\n\\n\\n\\n\\n\\n\\n\\n\\n\\n\\n\\n\\n\\n\\n\\n\\n\\n\\n\\n\\n\\n\\n\\n\\n\\n\\n\\n\\n\\n\\n\\n\\n\\n\\n\\n\\n\\n\\n\\n\\n\\n\\n\\n\\n\\n\\n\\n\\n\\n\\n\\n\\n\\n\\n\\n\\n\\n\\n\\n\\n\\n\\n\\n\\n\\n\\n\\n\\n\\n\\n\\n\\n\\n\\n\\n\\n\\n\\n\\n\\n\\n\\n\\n\\n\\n\\n\\n\\n\\n\\n\\n\\n\\n\\n\\n\\n\\n\\n\\n\\n\\n\\n\\n\\n\\n\\n\\n\\n\\n\\n', 'qid': '752e684973fa9134c2401be9e6683ce0_1'}\n",
      "can not parse ans for res:  {'response': '\\n\\n\\n\\n\\n\\n\\n\\n\\n\\n\\n\\n\\n\\n\\n\\n\\n\\n\\n\\n\\n\\n\\n\\n\\n\\n\\n\\n\\n\\n\\n\\n\\n\\n\\n\\n\\n\\n\\n\\n\\n\\n\\n\\n\\n\\n\\n\\n\\n\\n\\n\\n\\n\\n\\n\\n\\n\\n\\n\\n\\n\\n\\n\\n\\n\\n\\n\\n\\n\\n\\n\\n\\n\\n\\n\\n\\n\\n\\n\\n\\n\\n\\n\\n\\n\\n\\n\\n\\n\\n\\n\\n\\n\\n\\n\\n\\n\\n\\n\\n\\n\\n\\n\\n\\n\\n\\n\\n\\n\\n\\n\\n\\n\\n\\n\\n\\n\\n\\n\\n\\n\\n\\n\\n\\n\\n\\n\\n\\n\\n\\n\\n\\n\\n\\n\\n\\n\\n\\n\\n\\n\\n\\n\\n\\n\\n\\n\\n\\n\\n\\n\\n\\n\\n\\n\\n\\n\\n\\n\\n\\n\\n\\n\\n\\n\\n\\n\\n\\n\\n\\n\\n\\n\\n\\n\\n\\n\\n\\n\\n\\n\\n\\n\\n\\n\\n\\n\\n\\n\\n\\n\\n\\n\\n\\n\\n\\n\\n\\n\\n\\n\\n\\n\\n\\n\\n\\n\\n\\n\\n\\n\\n\\n\\n\\n\\n\\n\\n\\n\\n\\n\\n\\n\\n\\n\\n\\n\\n\\n\\n\\n\\n\\n\\n\\n\\n\\n\\n\\n\\n\\n\\n\\n\\n\\n\\n\\n\\n\\n\\n\\n\\n\\n\\n\\n\\n\\n\\n\\n\\n\\n\\n\\n\\n\\n\\n\\n\\n\\n\\n\\n\\n\\n\\n\\n\\n\\n\\n\\n\\n\\n\\n\\n\\n\\n\\n\\n\\n\\n\\n\\n\\n\\n\\n\\n\\n\\n\\n\\n\\n\\n\\n\\n\\n\\n\\n\\n\\n\\n\\n\\n\\n\\n\\n\\n\\n\\n\\n\\n\\n\\n\\n\\n\\n\\n\\n\\n\\n\\n\\n\\n\\n\\n\\n\\n\\n\\n\\n\\n\\n\\n\\n\\n\\n\\n\\n\\n\\n\\n\\n\\n\\n\\n\\n\\n\\n\\n\\n\\n\\n\\n\\n\\n\\n\\n\\n\\n\\n\\n\\n\\n\\n\\n\\n\\n\\n\\n\\n\\n\\n\\n\\n\\n\\n\\n\\n\\n\\n\\n\\n\\n\\n\\n\\n\\n\\n\\n\\n\\n\\n\\n\\n\\n\\n\\n\\n\\n\\n\\n\\n\\n\\n\\n\\n\\n\\n\\n\\n\\n\\n\\n\\n\\n\\n\\n\\n\\n\\n\\n\\n\\n\\n\\n\\n\\n\\n\\n\\n\\n\\n\\n\\n\\n\\n\\n\\n\\n\\n\\n\\n\\n\\n\\n\\n\\n\\n\\n\\n\\n\\n\\n\\n\\n\\n\\n\\n\\n\\n\\n\\n\\n\\n\\n\\n\\n\\n\\n\\n\\n\\n\\n\\n\\n\\n\\n\\n\\n\\n\\n\\n\\n\\n\\n\\n\\n\\n\\n\\n\\n\\n', 'qid': '752e684973fa9134c2401be9e6683ce0_2'}\n",
      "can not parse ans for res:  {'response': '\\n\\n\\n\\n\\n\\n\\n\\n\\n\\n\\n\\n\\n\\n\\n\\n\\n\\n\\n\\n\\n\\n\\n\\n\\n\\n\\n\\n\\n\\n\\n\\n\\n\\n\\n\\n\\n\\n\\n\\n\\n\\n\\n\\n\\n\\n\\n\\n\\n\\n\\n\\n\\n\\n\\n\\n\\n\\n\\n\\n\\n\\n\\n\\n\\n\\n\\n\\n\\n\\n\\n\\n\\n\\n\\n\\n\\n\\n\\n\\n\\n\\n\\n\\n\\n\\n\\n\\n\\n\\n\\n\\n\\n\\n\\n\\n\\n\\n\\n\\n\\n\\n\\n\\n\\n\\n\\n\\n\\n\\n\\n\\n\\n\\n\\n\\n\\n\\n\\n\\n\\n\\n\\n\\n\\n\\n\\n\\n\\n\\n\\n\\n\\n\\n\\n\\n\\n\\n\\n\\n\\n\\n\\n\\n\\n\\n\\n\\n\\n\\n\\n\\n\\n\\n\\n\\n\\n\\n\\n\\n\\n\\n\\n\\n\\n\\n\\n\\n\\n\\n\\n\\n\\n\\n\\n\\n\\n\\n\\n\\n\\n\\n\\n\\n\\n\\n\\n\\n\\n\\n\\n\\n\\n\\n\\n\\n\\n\\n\\n\\n\\n\\n\\n\\n\\n\\n\\n\\n\\n\\n\\n\\n\\n\\n\\n\\n\\n\\n\\n\\n\\n\\n\\n\\n\\n\\n\\n\\n\\n\\n\\n\\n\\n\\n\\n\\n\\n\\n\\n\\n\\n\\n\\n\\n\\n\\n\\n\\n\\n\\n\\n\\n\\n\\n\\n\\n\\n\\n\\n\\n\\n\\n\\n\\n\\n\\n\\n\\n\\n\\n\\n\\n\\n\\n\\n\\n\\n\\n\\n\\n\\n\\n\\n\\n\\n\\n\\n\\n\\n\\n\\n\\n\\n\\n\\n\\n\\n\\n\\n\\n\\n\\n\\n\\n\\n\\n\\n\\n\\n\\n\\n\\n\\n\\n\\n\\n\\n\\n\\n\\n\\n\\n\\n\\n\\n\\n\\n\\n\\n\\n\\n\\n\\n\\n\\n\\n\\n\\n\\n\\n\\n\\n\\n\\n\\n\\n\\n\\n\\n\\n\\n\\n\\n\\n\\n\\n\\n\\n\\n\\n\\n\\n\\n\\n\\n\\n\\n\\n\\n\\n\\n\\n\\n\\n\\n\\n\\n\\n\\n\\n\\n\\n\\n\\n\\n\\n\\n\\n\\n\\n\\n\\n\\n\\n\\n\\n\\n\\n\\n\\n\\n\\n\\n\\n\\n\\n\\n\\n\\n\\n\\n\\n\\n\\n\\n\\n\\n\\n\\n\\n\\n\\n\\n\\n\\n\\n\\n\\n\\n\\n\\n\\n\\n\\n\\n\\n\\n\\n\\n\\n\\n\\n\\n\\n\\n\\n\\n\\n\\n\\n\\n\\n\\n\\n\\n\\n\\n\\n\\n\\n\\n\\n\\n\\n\\n\\n\\n\\n\\n\\n\\n\\n\\n\\n\\n\\n\\n\\n\\n\\n\\n\\n\\n\\n\\n\\n\\n\\n\\n\\n\\n\\n\\n\\n\\n\\n\\n\\n\\n\\n', 'qid': '752e684973fa9134c2401be9e6683ce0_0'}\n",
      "can not parse ans for res:  {'response': '\\n\\n\\n\\n\\n\\n\\n\\n\\n\\n\\n\\n\\n\\n\\n\\n\\n\\n\\n\\n\\n\\n\\n\\n\\n\\n\\n\\n\\n\\n\\n\\n\\n\\n\\n\\n\\n\\n\\n\\n\\n\\n\\n\\n\\n\\n\\n\\n\\n\\n\\n\\n\\n\\n\\n\\n\\n\\n\\n\\n\\n\\n\\n\\n\\n\\n\\n\\n\\n\\n\\n\\n\\n\\n\\n\\n\\n\\n\\n\\n\\n\\n\\n\\n\\n\\n\\n\\n\\n\\n\\n\\n\\n\\n\\n\\n\\n\\n\\n\\n\\n\\n\\n\\n\\n\\n\\n\\n\\n\\n\\n\\n\\n\\n\\n\\n\\n\\n\\n\\n\\n\\n\\n\\n\\n\\n\\n\\n\\n\\n\\n\\n\\n\\n\\n\\n\\n\\n\\n\\n\\n\\n\\n\\n\\n\\n\\n\\n\\n\\n\\n\\n\\n\\n\\n\\n\\n\\n\\n\\n\\n\\n\\n\\n\\n\\n\\n\\n\\n\\n\\n\\n\\n\\n\\n\\n\\n\\n\\n\\n\\n\\n\\n\\n\\n\\n\\n\\n\\n\\n\\n\\n\\n\\n\\n\\n\\n\\n\\n\\n\\n\\n\\n\\n\\n\\n\\n\\n\\n\\n\\n\\n\\n\\n\\n\\n\\n\\n\\n\\n\\n\\n\\n\\n\\n\\n\\n\\n\\n\\n\\n\\n\\n\\n\\n\\n\\n\\n\\n\\n\\n\\n\\n\\n\\n\\n\\n\\n\\n\\n\\n\\n\\n\\n\\n\\n\\n\\n\\n\\n\\n\\n\\n\\n\\n\\n\\n\\n\\n\\n\\n\\n\\n\\n\\n\\n\\n\\n\\n\\n\\n\\n\\n\\n\\n\\n\\n\\n\\n\\n\\n\\n\\n\\n\\n\\n\\n\\n\\n\\n\\n\\n\\n\\n\\n\\n\\n\\n\\n\\n\\n\\n\\n\\n\\n\\n\\n\\n\\n\\n\\n\\n\\n\\n\\n\\n\\n\\n\\n\\n\\n\\n\\n\\n\\n\\n\\n\\n\\n\\n\\n\\n\\n\\n\\n\\n\\n\\n\\n\\n\\n\\n\\n\\n\\n\\n\\n\\n\\n\\n\\n\\n\\n\\n\\n\\n\\n\\n\\n\\n\\n\\n\\n\\n\\n\\n\\n\\n\\n\\n\\n\\n\\n\\n\\n\\n\\n\\n\\n\\n\\n\\n\\n\\n\\n\\n\\n\\n\\n\\n\\n\\n\\n\\n\\n\\n\\n\\n\\n\\n\\n\\n\\n\\n\\n\\n\\n\\n\\n\\n\\n\\n\\n\\n\\n\\n\\n\\n\\n\\n\\n\\n\\n\\n\\n\\n\\n\\n\\n\\n\\n\\n\\n\\n\\n\\n\\n\\n\\n\\n\\n\\n\\n\\n\\n\\n\\n\\n\\n\\n\\n\\n\\n\\n\\n\\n\\n\\n\\n\\n\\n\\n\\n\\n\\n\\n\\n\\n\\n\\n\\n\\n\\n\\n\\n\\n\\n\\n\\n\\n\\n\\n\\n\\n\\n\\n\\n\\n\\n\\n', 'qid': '752e684973fa9134c2401be9e6683ce0_1'}\n",
      "can not parse ans for res:  {'response': '\\n\\n\\n\\n\\n\\n\\n\\n\\n\\n\\n\\n\\n\\n\\n\\n\\n\\n\\n\\n\\n\\n\\n\\n\\n\\n\\n\\n\\n\\n\\n\\n\\n\\n\\n\\n\\n\\n\\n\\n\\n\\n\\n\\n\\n\\n\\n\\n\\n\\n\\n\\n\\n\\n\\n\\n\\n\\n\\n\\n\\n\\n\\n\\n\\n\\n\\n\\n\\n\\n\\n\\n\\n\\n\\n\\n\\n\\n\\n\\n\\n\\n\\n\\n\\n\\n\\n\\n\\n\\n\\n\\n\\n\\n\\n\\n\\n\\n\\n\\n\\n\\n\\n\\n\\n\\n\\n\\n\\n\\n\\n\\n\\n\\n\\n\\n\\n\\n\\n\\n\\n\\n\\n\\n\\n\\n\\n\\n\\n\\n\\n\\n\\n\\n\\n\\n\\n\\n\\n\\n\\n\\n\\n\\n\\n\\n\\n\\n\\n\\n\\n\\n\\n\\n\\n\\n\\n\\n\\n\\n\\n\\n\\n\\n\\n\\n\\n\\n\\n\\n\\n\\n\\n\\n\\n\\n\\n\\n\\n\\n\\n\\n\\n\\n\\n\\n\\n\\n\\n\\n\\n\\n\\n\\n\\n\\n\\n\\n\\n\\n\\n\\n\\n\\n\\n\\n\\n\\n\\n\\n\\n\\n\\n\\n\\n\\n\\n\\n\\n\\n\\n\\n\\n\\n\\n\\n\\n\\n\\n\\n\\n\\n\\n\\n\\n\\n\\n\\n\\n\\n\\n\\n\\n\\n\\n\\n\\n\\n\\n\\n\\n\\n\\n\\n\\n\\n\\n\\n\\n\\n\\n\\n\\n\\n\\n\\n\\n\\n\\n\\n\\n\\n\\n\\n\\n\\n\\n\\n\\n\\n\\n\\n\\n\\n\\n\\n\\n\\n\\n\\n\\n\\n\\n\\n\\n\\n\\n\\n\\n\\n\\n\\n\\n\\n\\n\\n\\n\\n\\n\\n\\n\\n\\n\\n\\n\\n\\n\\n\\n\\n\\n\\n\\n\\n\\n\\n\\n\\n\\n\\n\\n\\n\\n\\n\\n\\n\\n\\n\\n\\n\\n\\n\\n\\n\\n\\n\\n\\n\\n\\n\\n\\n\\n\\n\\n\\n\\n\\n\\n\\n\\n\\n\\n\\n\\n\\n\\n\\n\\n\\n\\n\\n\\n\\n\\n\\n\\n\\n\\n\\n\\n\\n\\n\\n\\n\\n\\n\\n\\n\\n\\n\\n\\n\\n\\n\\n\\n\\n\\n\\n\\n\\n\\n\\n\\n\\n\\n\\n\\n\\n\\n\\n\\n\\n\\n\\n\\n\\n\\n\\n\\n\\n\\n\\n\\n\\n\\n\\n\\n\\n\\n\\n\\n\\n\\n\\n\\n\\n\\n\\n\\n\\n\\n\\n\\n\\n\\n\\n\\n\\n\\n\\n\\n\\n\\n\\n\\n\\n\\n\\n\\n\\n\\n\\n\\n\\n\\n\\n\\n\\n\\n\\n\\n\\n\\n\\n\\n\\n\\n\\n\\n\\n\\n\\n\\n\\n\\n\\n\\n\\n\\n\\n\\n\\n\\n\\n\\n\\n\\n\\n', 'qid': '67af14fa6163beb70628dfdc41999860_1'}\n",
      "can not parse ans for res:  {'response': '\\n\\nThe image shows a dish that appears to be a type of meat, possibly beef, served with a sauce and garnished with green herbs. The meat is sliced and presented in a way that suggests it could be a traditional dish from a specific cuisine. The sauce is a light brown color, and the garnish adds a fresh contrast with its green color. The dish is served on a plate that has a decorative rim and is placed on a table with a floral patterned tablecloth. There is also a small bowl with a green garnish on the side, which could be a condiment or a garnish for the main dish. The image does not provide any text or context that would allow me to identify the exact dish or its name. Therefore, I cannot determine if the dish contains offal or not without additional information. However, based on the visual cues, it is not possible to definitively answer the question without making assumptions.', 'qid': '67af14fa6163beb70628dfdc41999860_2'}\n",
      "can not parse ans for res:  {'response': '\\n\\n\\n\\n\\n\\n\\n\\n\\n\\n\\n\\n\\n\\n\\n\\n\\n\\n\\n\\n\\n\\n\\n\\n\\n\\n\\n\\n\\n\\n\\n\\n\\n\\n\\n\\n\\n\\n\\n\\n\\n\\n\\n\\n\\n\\n\\n\\n\\n\\n\\n\\n\\n\\n\\n\\n\\n\\n\\n\\n\\n\\n\\n\\n\\n\\n\\n\\n\\n\\n\\n\\n\\n\\n\\n\\n\\n\\n\\n\\n\\n\\n\\n\\n\\n\\n\\n\\n\\n\\n\\n\\n\\n\\n\\n\\n\\n\\n\\n\\n\\n\\n\\n\\n\\n\\n\\n\\n\\n\\n\\n\\n\\n\\n\\n\\n\\n\\n\\n\\n\\n\\n\\n\\n\\n\\n\\n\\n\\n\\n\\n\\n\\n\\n\\n\\n\\n\\n\\n\\n\\n\\n\\n\\n\\n\\n\\n\\n\\n\\n\\n\\n\\n\\n\\n\\n\\n\\n\\n\\n\\n\\n\\n\\n\\n\\n\\n\\n\\n\\n\\n\\n\\n\\n\\n\\n\\n\\n\\n\\n\\n\\n\\n\\n\\n\\n\\n\\n\\n\\n\\n\\n\\n\\n\\n\\n\\n\\n\\n\\n\\n\\n\\n\\n\\n\\n\\n\\n\\n\\n\\n\\n\\n\\n\\n\\n\\n\\n\\n\\n\\n\\n\\n\\n\\n\\n\\n\\n\\n\\n\\n\\n\\n\\n\\n\\n\\n\\n\\n\\n\\n\\n\\n\\n\\n\\n\\n\\n\\n\\n\\n\\n\\n\\n\\n\\n\\n\\n\\n\\n\\n\\n\\n\\n\\n\\n\\n\\n\\n\\n\\n\\n\\n\\n\\n\\n\\n\\n\\n\\n\\n\\n\\n\\n\\n\\n\\n\\n\\n\\n\\n\\n\\n\\n\\n\\n\\n\\n\\n\\n\\n\\n\\n\\n\\n\\n\\n\\n\\n\\n\\n\\n\\n\\n\\n\\n\\n\\n\\n\\n\\n\\n\\n\\n\\n\\n\\n\\n\\n\\n\\n\\n\\n\\n\\n\\n\\n\\n\\n\\n\\n\\n\\n\\n\\n\\n\\n\\n\\n\\n\\n\\n\\n\\n\\n\\n\\n\\n\\n\\n\\n\\n\\n\\n\\n\\n\\n\\n\\n\\n\\n\\n\\n\\n\\n\\n\\n\\n\\n\\n\\n\\n\\n\\n\\n\\n\\n\\n\\n\\n\\n\\n\\n\\n\\n\\n\\n\\n\\n\\n\\n\\n\\n\\n\\n\\n\\n\\n\\n\\n\\n\\n\\n\\n\\n\\n\\n\\n\\n\\n\\n\\n\\n\\n\\n\\n\\n\\n\\n\\n\\n\\n\\n\\n\\n\\n\\n\\n\\n\\n\\n\\n\\n\\n\\n\\n\\n\\n\\n\\n\\n\\n\\n\\n\\n\\n\\n\\n\\n\\n\\n\\n\\n\\n\\n\\n\\n\\n\\n\\n\\n\\n\\n\\n\\n\\n\\n\\n\\n\\n\\n\\n\\n\\n\\n\\n\\n\\n\\n\\n\\n\\n\\n\\n\\n\\n\\n\\n\\n\\n', 'qid': '67af14fa6163beb70628dfdc41999860_0'}\n",
      "can not parse ans for res:  {'response': '\\n\\n\\n\\n\\n\\n\\n\\n\\n\\n\\n\\n\\n\\n\\n\\n\\n\\n\\n\\n\\n\\n\\n\\n\\n\\n\\n\\n\\n\\n\\n\\n\\n\\n\\n\\n\\n\\n\\n\\n\\n\\n\\n\\n\\n\\n\\n\\n\\n\\n\\n\\n\\n\\n\\n\\n\\n\\n\\n\\n\\n\\n\\n\\n\\n\\n\\n\\n\\n\\n\\n\\n\\n\\n\\n\\n\\n\\n\\n\\n\\n\\n\\n\\n\\n\\n\\n\\n\\n\\n\\n\\n\\n\\n\\n\\n\\n\\n\\n\\n\\n\\n\\n\\n\\n\\n\\n\\n\\n\\n\\n\\n\\n\\n\\n\\n\\n\\n\\n\\n\\n\\n\\n\\n\\n\\n\\n\\n\\n\\n\\n\\n\\n\\n\\n\\n\\n\\n\\n\\n\\n\\n\\n\\n\\n\\n\\n\\n\\n\\n\\n\\n\\n\\n\\n\\n\\n\\n\\n\\n\\n\\n\\n\\n\\n\\n\\n\\n\\n\\n\\n\\n\\n\\n\\n\\n\\n\\n\\n\\n\\n\\n\\n\\n\\n\\n\\n\\n\\n\\n\\n\\n\\n\\n\\n\\n\\n\\n\\n\\n\\n\\n\\n\\n\\n\\n\\n\\n\\n\\n\\n\\n\\n\\n\\n\\n\\n\\n\\n\\n\\n\\n\\n\\n\\n\\n\\n\\n\\n\\n\\n\\n\\n\\n\\n\\n\\n\\n\\n\\n\\n\\n\\n\\n\\n\\n\\n\\n\\n\\n\\n\\n\\n\\n\\n\\n\\n\\n\\n\\n\\n\\n\\n\\n\\n\\n\\n\\n\\n\\n\\n\\n\\n\\n\\n\\n\\n\\n\\n\\n\\n\\n\\n\\n\\n\\n\\n\\n\\n\\n\\n\\n\\n\\n\\n\\n\\n\\n\\n\\n\\n\\n\\n\\n\\n\\n\\n\\n\\n\\n\\n\\n\\n\\n\\n\\n\\n\\n\\n\\n\\n\\n\\n\\n\\n\\n\\n\\n\\n\\n\\n\\n\\n\\n\\n\\n\\n\\n\\n\\n\\n\\n\\n\\n\\n\\n\\n\\n\\n\\n\\n\\n\\n\\n\\n\\n\\n\\n\\n\\n\\n\\n\\n\\n\\n\\n\\n\\n\\n\\n\\n\\n\\n\\n\\n\\n\\n\\n\\n\\n\\n\\n\\n\\n\\n\\n\\n\\n\\n\\n\\n\\n\\n\\n\\n\\n\\n\\n\\n\\n\\n\\n\\n\\n\\n\\n\\n\\n\\n\\n\\n\\n\\n\\n\\n\\n\\n\\n\\n\\n\\n\\n\\n\\n\\n\\n\\n\\n\\n\\n\\n\\n\\n\\n\\n\\n\\n\\n\\n\\n\\n\\n\\n\\n\\n\\n\\n\\n\\n\\n\\n\\n\\n\\n\\n\\n\\n\\n\\n\\n\\n\\n\\n\\n\\n\\n\\n\\n\\n\\n\\n\\n\\n\\n\\n\\n\\n\\n\\n\\n\\n\\n\\n\\n\\n\\n\\n\\n\\n\\n\\n\\n\\n\\n\\n\\n\\n\\n\\n\\n', 'qid': '67af14fa6163beb70628dfdc41999860_1'}\n",
      "can not parse ans for res:  {'response': '\\n\\n\\n\\n\\n\\n\\n\\n\\n\\n\\n\\n\\n\\n\\n\\n\\n\\n\\n\\n\\n\\n\\n\\n\\n\\n\\n\\n\\n\\n\\n\\n\\n\\n\\n\\n\\n\\n\\n\\n\\n\\n\\n\\n\\n\\n\\n\\n\\n\\n\\n\\n\\n\\n\\n\\n\\n\\n\\n\\n\\n\\n\\n\\n\\n\\n\\n\\n\\n\\n\\n\\n\\n\\n\\n\\n\\n\\n\\n\\n\\n\\n\\n\\n\\n\\n\\n\\n\\n\\n\\n\\n\\n\\n\\n\\n\\n\\n\\n\\n\\n\\n\\n\\n\\n\\n\\n\\n\\n\\n\\n\\n\\n\\n\\n\\n\\n\\n\\n\\n\\n\\n\\n\\n\\n\\n\\n\\n\\n\\n\\n\\n\\n\\n\\n\\n\\n\\n\\n\\n\\n\\n\\n\\n\\n\\n\\n\\n\\n\\n\\n\\n\\n\\n\\n\\n\\n\\n\\n\\n\\n\\n\\n\\n\\n\\n\\n\\n\\n\\n\\n\\n\\n\\n\\n\\n\\n\\n\\n\\n\\n\\n\\n\\n\\n\\n\\n\\n\\n\\n\\n\\n\\n\\n\\n\\n\\n\\n\\n\\n\\n\\n\\n\\n\\n\\n\\n\\n\\n\\n\\n\\n\\n\\n\\n\\n\\n\\n\\n\\n\\n\\n\\n\\n\\n\\n\\n\\n\\n\\n\\n\\n\\n\\n\\n\\n\\n\\n\\n\\n\\n\\n\\n\\n\\n\\n\\n\\n\\n\\n\\n\\n\\n\\n\\n\\n\\n\\n\\n\\n\\n\\n\\n\\n\\n\\n\\n\\n\\n\\n\\n\\n\\n\\n\\n\\n\\n\\n\\n\\n\\n\\n\\n\\n\\n\\n\\n\\n\\n\\n\\n\\n\\n\\n\\n\\n\\n\\n\\n\\n\\n\\n\\n\\n\\n\\n\\n\\n\\n\\n\\n\\n\\n\\n\\n\\n\\n\\n\\n\\n\\n\\n\\n\\n\\n\\n\\n\\n\\n\\n\\n\\n\\n\\n\\n\\n\\n\\n\\n\\n\\n\\n\\n\\n\\n\\n\\n\\n\\n\\n\\n\\n\\n\\n\\n\\n\\n\\n\\n\\n\\n\\n\\n\\n\\n\\n\\n\\n\\n\\n\\n\\n\\n\\n\\n\\n\\n\\n\\n\\n\\n\\n\\n\\n\\n\\n\\n\\n\\n\\n\\n\\n\\n\\n\\n\\n\\n\\n\\n\\n\\n\\n\\n\\n\\n\\n\\n\\n\\n\\n\\n\\n\\n\\n\\n\\n\\n\\n\\n\\n\\n\\n\\n\\n\\n\\n\\n\\n\\n\\n\\n\\n\\n\\n\\n\\n\\n\\n\\n\\n\\n\\n\\n\\n\\n\\n\\n\\n\\n\\n\\n\\n\\n\\n\\n\\n\\n\\n\\n\\n\\n\\n\\n\\n\\n\\n\\n\\n\\n\\n\\n\\n\\n\\n\\n\\n\\n\\n\\n\\n\\n\\n\\n\\n\\n\\n\\n\\n\\n\\n\\n\\n\\n\\n\\n\\n\\n\\n\\n\\n', 'qid': '67af14fa6163beb70628dfdc41999860_2'}\n",
      "can not parse ans for res:  {'response': '\\n\\n\\n\\n\\n\\n\\n\\n\\n\\n\\n\\n\\n\\n\\n\\n\\n\\n\\n\\n\\n\\n\\n\\n\\n\\n\\n\\n\\n\\n\\n\\n\\n\\n\\n\\n\\n\\n\\n\\n\\n\\n\\n\\n\\n\\n\\n\\n\\n\\n\\n\\n\\n\\n\\n\\n\\n\\n\\n\\n\\n\\n\\n\\n\\n\\n\\n\\n\\n\\n\\n\\n\\n\\n\\n\\n\\n\\n\\n\\n\\n\\n\\n\\n\\n\\n\\n\\n\\n\\n\\n\\n\\n\\n\\n\\n\\n\\n\\n\\n\\n\\n\\n\\n\\n\\n\\n\\n\\n\\n\\n\\n\\n\\n\\n\\n\\n\\n\\n\\n\\n\\n\\n\\n\\n\\n\\n\\n\\n\\n\\n\\n\\n\\n\\n\\n\\n\\n\\n\\n\\n\\n\\n\\n\\n\\n\\n\\n\\n\\n\\n\\n\\n\\n\\n\\n\\n\\n\\n\\n\\n\\n\\n\\n\\n\\n\\n\\n\\n\\n\\n\\n\\n\\n\\n\\n\\n\\n\\n\\n\\n\\n\\n\\n\\n\\n\\n\\n\\n\\n\\n\\n\\n\\n\\n\\n\\n\\n\\n\\n\\n\\n\\n\\n\\n\\n\\n\\n\\n\\n\\n\\n\\n\\n\\n\\n\\n\\n\\n\\n\\n\\n\\n\\n\\n\\n\\n\\n\\n\\n\\n\\n\\n\\n\\n\\n\\n\\n\\n\\n\\n\\n\\n\\n\\n\\n\\n\\n\\n\\n\\n\\n\\n\\n\\n\\n\\n\\n\\n\\n\\n\\n\\n\\n\\n\\n\\n\\n\\n\\n\\n\\n\\n\\n\\n\\n\\n\\n\\n\\n\\n\\n\\n\\n\\n\\n\\n\\n\\n\\n\\n\\n\\n\\n\\n\\n\\n\\n\\n\\n\\n\\n\\n\\n\\n\\n\\n\\n\\n\\n\\n\\n\\n\\n\\n\\n\\n\\n\\n\\n\\n\\n\\n\\n\\n\\n\\n\\n\\n\\n\\n\\n\\n\\n\\n\\n\\n\\n\\n\\n\\n\\n\\n\\n\\n\\n\\n\\n\\n\\n\\n\\n\\n\\n\\n\\n\\n\\n\\n\\n\\n\\n\\n\\n\\n\\n\\n\\n\\n\\n\\n\\n\\n\\n\\n\\n\\n\\n\\n\\n\\n\\n\\n\\n\\n\\n\\n\\n\\n\\n\\n\\n\\n\\n\\n\\n\\n\\n\\n\\n\\n\\n\\n\\n\\n\\n\\n\\n\\n\\n\\n\\n\\n\\n\\n\\n\\n\\n\\n\\n\\n\\n\\n\\n\\n\\n\\n\\n\\n\\n\\n\\n\\n\\n\\n\\n\\n\\n\\n\\n\\n\\n\\n\\n\\n\\n\\n\\n\\n\\n\\n\\n\\n\\n\\n\\n\\n\\n\\n\\n\\n\\n\\n\\n\\n\\n\\n\\n\\n\\n\\n\\n\\n\\n\\n\\n\\n\\n\\n\\n\\n\\n\\n\\n\\n\\n\\n\\n\\n\\n\\n\\n\\n\\n\\n\\n\\n\\n\\n\\n', 'qid': '67af14fa6163beb70628dfdc41999860_0'}\n",
      "can not parse ans for res:  {'response': '\\n\\n\\n\\n\\n\\n\\n\\n\\n\\n\\n\\n\\n\\n\\n\\n\\n\\n\\n\\n\\n\\n\\n\\n\\n\\n\\n\\n\\n\\n\\n\\n\\n\\n\\n\\n\\n\\n\\n\\n\\n\\n\\n\\n\\n\\n\\n\\n\\n\\n\\n\\n\\n\\n\\n\\n\\n\\n\\n\\n\\n\\n\\n\\n\\n\\n\\n\\n\\n\\n\\n\\n\\n\\n\\n\\n\\n\\n\\n\\n\\n\\n\\n\\n\\n\\n\\n\\n\\n\\n\\n\\n\\n\\n\\n\\n\\n\\n\\n\\n\\n\\n\\n\\n\\n\\n\\n\\n\\n\\n\\n\\n\\n\\n\\n\\n\\n\\n\\n\\n\\n\\n\\n\\n\\n\\n\\n\\n\\n\\n\\n\\n\\n\\n\\n\\n\\n\\n\\n\\n\\n\\n\\n\\n\\n\\n\\n\\n\\n\\n\\n\\n\\n\\n\\n\\n\\n\\n\\n\\n\\n\\n\\n\\n\\n\\n\\n\\n\\n\\n\\n\\n\\n\\n\\n\\n\\n\\n\\n\\n\\n\\n\\n\\n\\n\\n\\n\\n\\n\\n\\n\\n\\n\\n\\n\\n\\n\\n\\n\\n\\n\\n\\n\\n\\n\\n\\n\\n\\n\\n\\n\\n\\n\\n\\n\\n\\n\\n\\n\\n\\n\\n\\n\\n\\n\\n\\n\\n\\n\\n\\n\\n\\n\\n\\n\\n\\n\\n\\n\\n\\n\\n\\n\\n\\n\\n\\n\\n\\n\\n\\n\\n\\n\\n\\n\\n\\n\\n\\n\\n\\n\\n\\n\\n\\n\\n\\n\\n\\n\\n\\n\\n\\n\\n\\n\\n\\n\\n\\n\\n\\n\\n\\n\\n\\n\\n\\n\\n\\n\\n\\n\\n\\n\\n\\n\\n\\n\\n\\n\\n\\n\\n\\n\\n\\n\\n\\n\\n\\n\\n\\n\\n\\n\\n\\n\\n\\n\\n\\n\\n\\n\\n\\n\\n\\n\\n\\n\\n\\n\\n\\n\\n\\n\\n\\n\\n\\n\\n\\n\\n\\n\\n\\n\\n\\n\\n\\n\\n\\n\\n\\n\\n\\n\\n\\n\\n\\n\\n\\n\\n\\n\\n\\n\\n\\n\\n\\n\\n\\n\\n\\n\\n\\n\\n\\n\\n\\n\\n\\n\\n\\n\\n\\n\\n\\n\\n\\n\\n\\n\\n\\n\\n\\n\\n\\n\\n\\n\\n\\n\\n\\n\\n\\n\\n\\n\\n\\n\\n\\n\\n\\n\\n\\n\\n\\n\\n\\n\\n\\n\\n\\n\\n\\n\\n\\n\\n\\n\\n\\n\\n\\n\\n\\n\\n\\n\\n\\n\\n\\n\\n\\n\\n\\n\\n\\n\\n\\n\\n\\n\\n\\n\\n\\n\\n\\n\\n\\n\\n\\n\\n\\n\\n\\n\\n\\n\\n\\n\\n\\n\\n\\n\\n\\n\\n\\n\\n\\n\\n\\n\\n\\n\\n\\n\\n\\n\\n\\n\\n\\n\\n\\n\\n\\n\\n\\n\\n\\n\\n\\n\\n', 'qid': '67af14fa6163beb70628dfdc41999860_2'}\n",
      "can not parse ans for res:  {'response': '\\n\\n\\n\\n\\n\\n\\n\\n\\n\\n\\n\\n\\n\\n\\n\\n\\n\\n\\n\\n\\n\\n\\n\\n\\n\\n\\n\\n\\n\\n\\n\\n\\n\\n\\n\\n\\n\\n\\n\\n\\n\\n\\n\\n\\n\\n\\n\\n\\n\\n\\n\\n\\n\\n\\n\\n\\n\\n\\n\\n\\n\\n\\n\\n\\n\\n\\n\\n\\n\\n\\n\\n\\n\\n\\n\\n\\n\\n\\n\\n\\n\\n\\n\\n\\n\\n\\n\\n\\n\\n\\n\\n\\n\\n\\n\\n\\n\\n\\n\\n\\n\\n\\n\\n\\n\\n\\n\\n\\n\\n\\n\\n\\n\\n\\n\\n\\n\\n\\n\\n\\n\\n\\n\\n\\n\\n\\n\\n\\n\\n\\n\\n\\n\\n\\n\\n\\n\\n\\n\\n\\n\\n\\n\\n\\n\\n\\n\\n\\n\\n\\n\\n\\n\\n\\n\\n\\n\\n\\n\\n\\n\\n\\n\\n\\n\\n\\n\\n\\n\\n\\n\\n\\n\\n\\n\\n\\n\\n\\n\\n\\n\\n\\n\\n\\n\\n\\n\\n\\n\\n\\n\\n\\n\\n\\n\\n\\n\\n\\n\\n\\n\\n\\n\\n\\n\\n\\n\\n\\n\\n\\n\\n\\n\\n\\n\\n\\n\\n\\n\\n\\n\\n\\n\\n\\n\\n\\n\\n\\n\\n\\n\\n\\n\\n\\n\\n\\n\\n\\n\\n\\n\\n\\n\\n\\n\\n\\n\\n\\n\\n\\n\\n\\n\\n\\n\\n\\n\\n\\n\\n\\n\\n\\n\\n\\n\\n\\n\\n\\n\\n\\n\\n\\n\\n\\n\\n\\n\\n\\n\\n\\n\\n\\n\\n\\n\\n\\n\\n\\n\\n\\n\\n\\n\\n\\n\\n\\n\\n\\n\\n\\n\\n\\n\\n\\n\\n\\n\\n\\n\\n\\n\\n\\n\\n\\n\\n\\n\\n\\n\\n\\n\\n\\n\\n\\n\\n\\n\\n\\n\\n\\n\\n\\n\\n\\n\\n\\n\\n\\n\\n\\n\\n\\n\\n\\n\\n\\n\\n\\n\\n\\n\\n\\n\\n\\n\\n\\n\\n\\n\\n\\n\\n\\n\\n\\n\\n\\n\\n\\n\\n\\n\\n\\n\\n\\n\\n\\n\\n\\n\\n\\n\\n\\n\\n\\n\\n\\n\\n\\n\\n\\n\\n\\n\\n\\n\\n\\n\\n\\n\\n\\n\\n\\n\\n\\n\\n\\n\\n\\n\\n\\n\\n\\n\\n\\n\\n\\n\\n\\n\\n\\n\\n\\n\\n\\n\\n\\n\\n\\n\\n\\n\\n\\n\\n\\n\\n\\n\\n\\n\\n\\n\\n\\n\\n\\n\\n\\n\\n\\n\\n\\n\\n\\n\\n\\n\\n\\n\\n\\n\\n\\n\\n\\n\\n\\n\\n\\n\\n\\n\\n\\n\\n\\n\\n\\n\\n\\n\\n\\n\\n\\n\\n\\n\\n\\n\\n\\n\\n\\n\\n\\n\\n\\n\\n\\n\\n\\n\\n\\n\\n', 'qid': '67af14fa6163beb70628dfdc41999860_0'}\n",
      "can not parse ans for res:  {'response': '\\n\\n\\n\\n\\n\\n\\n\\n\\n\\n\\n\\n\\n\\n\\n\\n\\n\\n\\n\\n\\n\\n\\n\\n\\n\\n\\n\\n\\n\\n\\n\\n\\n\\n\\n\\n\\n\\n\\n\\n\\n\\n\\n\\n\\n\\n\\n\\n\\n\\n\\n\\n\\n\\n\\n\\n\\n\\n\\n\\n\\n\\n\\n\\n\\n\\n\\n\\n\\n\\n\\n\\n\\n\\n\\n\\n\\n\\n\\n\\n\\n\\n\\n\\n\\n\\n\\n\\n\\n\\n\\n\\n\\n\\n\\n\\n\\n\\n\\n\\n\\n\\n\\n\\n\\n\\n\\n\\n\\n\\n\\n\\n\\n\\n\\n\\n\\n\\n\\n\\n\\n\\n\\n\\n\\n\\n\\n\\n\\n\\n\\n\\n\\n\\n\\n\\n\\n\\n\\n\\n\\n\\n\\n\\n\\n\\n\\n\\n\\n\\n\\n\\n\\n\\n\\n\\n\\n\\n\\n\\n\\n\\n\\n\\n\\n\\n\\n\\n\\n\\n\\n\\n\\n\\n\\n\\n\\n\\n\\n\\n\\n\\n\\n\\n\\n\\n\\n\\n\\n\\n\\n\\n\\n\\n\\n\\n\\n\\n\\n\\n\\n\\n\\n\\n\\n\\n\\n\\n\\n\\n\\n\\n\\n\\n\\n\\n\\n\\n\\n\\n\\n\\n\\n\\n\\n\\n\\n\\n\\n\\n\\n\\n\\n\\n\\n\\n\\n\\n\\n\\n\\n\\n\\n\\n\\n\\n\\n\\n\\n\\n\\n\\n\\n\\n\\n\\n\\n\\n\\n\\n\\n\\n\\n\\n\\n\\n\\n\\n\\n\\n\\n\\n\\n\\n\\n\\n\\n\\n\\n\\n\\n\\n\\n\\n\\n\\n\\n\\n\\n\\n\\n\\n\\n\\n\\n\\n\\n\\n\\n\\n\\n\\n\\n\\n\\n\\n\\n\\n\\n\\n\\n\\n\\n\\n\\n\\n\\n\\n\\n\\n\\n\\n\\n\\n\\n\\n\\n\\n\\n\\n\\n\\n\\n\\n\\n\\n\\n\\n\\n\\n\\n\\n\\n\\n\\n\\n\\n\\n\\n\\n\\n\\n\\n\\n\\n\\n\\n\\n\\n\\n\\n\\n\\n\\n\\n\\n\\n\\n\\n\\n\\n\\n\\n\\n\\n\\n\\n\\n\\n\\n\\n\\n\\n\\n\\n\\n\\n\\n\\n\\n\\n\\n\\n\\n\\n\\n\\n\\n\\n\\n\\n\\n\\n\\n\\n\\n\\n\\n\\n\\n\\n\\n\\n\\n\\n\\n\\n\\n\\n\\n\\n\\n\\n\\n\\n\\n\\n\\n\\n\\n\\n\\n\\n\\n\\n\\n\\n\\n\\n\\n\\n\\n\\n\\n\\n\\n\\n\\n\\n\\n\\n\\n\\n\\n\\n\\n\\n\\n\\n\\n\\n\\n\\n\\n\\n\\n\\n\\n\\n\\n\\n\\n\\n\\n\\n\\n\\n\\n\\n\\n\\n\\n\\n\\n\\n\\n\\n\\n\\n\\n\\n\\n\\n\\n\\n\\n\\n\\n\\n\\n', 'qid': '67af14fa6163beb70628dfdc41999860_2'}\n",
      "can not parse ans for res:  {'response': '\\n\\nThe image shows a plate of food with a dish that appears to be a type of fish, possibly a whole fish, covered in a sauce and garnished with green herbs. There are also other dishes visible in the background, but they are not the focus of the image. The question asks to identify which dish is not salty, but without tasting or additional information about the ingredients, it is impossible to accurately determine the saltiness of the dishes. Therefore, I cannot provide a definitive answer to the question based on the image alone.', 'qid': '67af14fa6163beb70628dfdc41999860_0'}\n",
      "can not parse ans for res:  {'response': '\\n\\n\\n\\n\\n\\n\\n\\n\\n\\n\\n\\n\\n\\n\\n\\n\\n\\n\\n\\n\\n\\n\\n\\n\\n\\n\\n\\n\\n\\n\\n\\n\\n\\n\\n\\n\\n\\n\\n\\n\\n\\n\\n\\n\\n\\n\\n\\n\\n\\n\\n\\n\\n\\n\\n\\n\\n\\n\\n\\n\\n\\n\\n\\n\\n\\n\\n\\n\\n\\n\\n\\n\\n\\n\\n\\n\\n\\n\\n\\n\\n\\n\\n\\n\\n\\n\\n\\n\\n\\n\\n\\n\\n\\n\\n\\n\\n\\n\\n\\n\\n\\n\\n\\n\\n\\n\\n\\n\\n\\n\\n\\n\\n\\n\\n\\n\\n\\n\\n\\n\\n\\n\\n\\n\\n\\n\\n\\n\\n\\n\\n\\n\\n\\n\\n\\n\\n\\n\\n\\n\\n\\n\\n\\n\\n\\n\\n\\n\\n\\n\\n\\n\\n\\n\\n\\n\\n\\n\\n\\n\\n\\n\\n\\n\\n\\n\\n\\n\\n\\n\\n\\n\\n\\n\\n\\n\\n\\n\\n\\n\\n\\n\\n\\n\\n\\n\\n\\n\\n\\n\\n\\n\\n\\n\\n\\n\\n\\n\\n\\n\\n\\n\\n\\n\\n\\n\\n\\n\\n\\n\\n\\n\\n\\n\\n\\n\\n\\n\\n\\n\\n\\n\\n\\n\\n\\n\\n\\n\\n\\n\\n\\n\\n\\n\\n\\n\\n\\n\\n\\n\\n\\n\\n\\n\\n\\n\\n\\n\\n\\n\\n\\n\\n\\n\\n\\n\\n\\n\\n\\n\\n\\n\\n\\n\\n\\n\\n\\n\\n\\n\\n\\n\\n\\n\\n\\n\\n\\n\\n\\n\\n\\n\\n\\n\\n\\n\\n\\n\\n\\n\\n\\n\\n\\n\\n\\n\\n\\n\\n\\n\\n\\n\\n\\n\\n\\n\\n\\n\\n\\n\\n\\n\\n\\n\\n\\n\\n\\n\\n\\n\\n\\n\\n\\n\\n\\n\\n\\n\\n\\n\\n\\n\\n\\n\\n\\n\\n\\n\\n\\n\\n\\n\\n\\n\\n\\n\\n\\n\\n\\n\\n\\n\\n\\n\\n\\n\\n\\n\\n\\n\\n\\n\\n\\n\\n\\n\\n\\n\\n\\n\\n\\n\\n\\n\\n\\n\\n\\n\\n\\n\\n\\n\\n\\n\\n\\n\\n\\n\\n\\n\\n\\n\\n\\n\\n\\n\\n\\n\\n\\n\\n\\n\\n\\n\\n\\n\\n\\n\\n\\n\\n\\n\\n\\n\\n\\n\\n\\n\\n\\n\\n\\n\\n\\n\\n\\n\\n\\n\\n\\n\\n\\n\\n\\n\\n\\n\\n\\n\\n\\n\\n\\n\\n\\n\\n\\n\\n\\n\\n\\n\\n\\n\\n\\n\\n\\n\\n\\n\\n\\n\\n\\n\\n\\n\\n\\n\\n\\n\\n\\n\\n\\n\\n\\n\\n\\n\\n\\n\\n\\n\\n\\n\\n\\n\\n\\n\\n\\n\\n\\n\\n\\n\\n\\n\\n\\n\\n\\n\\n\\n', 'qid': '67af14fa6163beb70628dfdc41999860_0'}\n",
      "can not parse ans for res:  {'response': '\\n\\n\\n\\n\\n\\n\\n\\n\\n\\n\\n\\n\\n\\n\\n\\n\\n\\n\\n\\n\\n\\n\\n\\n\\n\\n\\n\\n\\n\\n\\n\\n\\n\\n\\n\\n\\n\\n\\n\\n\\n\\n\\n\\n\\n\\n\\n\\n\\n\\n\\n\\n\\n\\n\\n\\n\\n\\n\\n\\n\\n\\n\\n\\n\\n\\n\\n\\n\\n\\n\\n\\n\\n\\n\\n\\n\\n\\n\\n\\n\\n\\n\\n\\n\\n\\n\\n\\n\\n\\n\\n\\n\\n\\n\\n\\n\\n\\n\\n\\n\\n\\n\\n\\n\\n\\n\\n\\n\\n\\n\\n\\n\\n\\n\\n\\n\\n\\n\\n\\n\\n\\n\\n\\n\\n\\n\\n\\n\\n\\n\\n\\n\\n\\n\\n\\n\\n\\n\\n\\n\\n\\n\\n\\n\\n\\n\\n\\n\\n\\n\\n\\n\\n\\n\\n\\n\\n\\n\\n\\n\\n\\n\\n\\n\\n\\n\\n\\n\\n\\n\\n\\n\\n\\n\\n\\n\\n\\n\\n\\n\\n\\n\\n\\n\\n\\n\\n\\n\\n\\n\\n\\n\\n\\n\\n\\n\\n\\n\\n\\n\\n\\n\\n\\n\\n\\n\\n\\n\\n\\n\\n\\n\\n\\n\\n\\n\\n\\n\\n\\n\\n\\n\\n\\n\\n\\n\\n\\n\\n\\n\\n\\n\\n\\n\\n\\n\\n\\n\\n\\n\\n\\n\\n\\n\\n\\n\\n\\n\\n\\n\\n\\n\\n\\n\\n\\n\\n\\n\\n\\n\\n\\n\\n\\n\\n\\n\\n\\n\\n\\n\\n\\n\\n\\n\\n\\n\\n\\n\\n\\n\\n\\n\\n\\n\\n\\n\\n\\n\\n\\n\\n\\n\\n\\n\\n\\n\\n\\n\\n\\n\\n\\n\\n\\n\\n\\n\\n\\n\\n\\n\\n\\n\\n\\n\\n\\n\\n\\n\\n\\n\\n\\n\\n\\n\\n\\n\\n\\n\\n\\n\\n\\n\\n\\n\\n\\n\\n\\n\\n\\n\\n\\n\\n\\n\\n\\n\\n\\n\\n\\n\\n\\n\\n\\n\\n\\n\\n\\n\\n\\n\\n\\n\\n\\n\\n\\n\\n\\n\\n\\n\\n\\n\\n\\n\\n\\n\\n\\n\\n\\n\\n\\n\\n\\n\\n\\n\\n\\n\\n\\n\\n\\n\\n\\n\\n\\n\\n\\n\\n\\n\\n\\n\\n\\n\\n\\n\\n\\n\\n\\n\\n\\n\\n\\n\\n\\n\\n\\n\\n\\n\\n\\n\\n\\n\\n\\n\\n\\n\\n\\n\\n\\n\\n\\n\\n\\n\\n\\n\\n\\n\\n\\n\\n\\n\\n\\n\\n\\n\\n\\n\\n\\n\\n\\n\\n\\n\\n\\n\\n\\n\\n\\n\\n\\n\\n\\n\\n\\n\\n\\n\\n\\n\\n\\n\\n\\n\\n\\n\\n\\n\\n\\n\\n\\n\\n\\n\\n\\n\\n\\n\\n\\n\\n\\n\\n\\n\\n\\n\\n\\n', 'qid': '67af14fa6163beb70628dfdc41999860_2'}\n",
      "can not parse ans for res:  {'response': '\\n\\n\\n\\n\\n\\n\\n\\n\\n\\n\\n\\n\\n\\n\\n\\n\\n\\n\\n\\n\\n\\n\\n\\n\\n\\n\\n\\n\\n\\n\\n\\n\\n\\n\\n\\n\\n\\n\\n\\n\\n\\n\\n\\n\\n\\n\\n\\n\\n\\n\\n\\n\\n\\n\\n\\n\\n\\n\\n\\n\\n\\n\\n\\n\\n\\n\\n\\n\\n\\n\\n\\n\\n\\n\\n\\n\\n\\n\\n\\n\\n\\n\\n\\n\\n\\n\\n\\n\\n\\n\\n\\n\\n\\n\\n\\n\\n\\n\\n\\n\\n\\n\\n\\n\\n\\n\\n\\n\\n\\n\\n\\n\\n\\n\\n\\n\\n\\n\\n\\n\\n\\n\\n\\n\\n\\n\\n\\n\\n\\n\\n\\n\\n\\n\\n\\n\\n\\n\\n\\n\\n\\n\\n\\n\\n\\n\\n\\n\\n\\n\\n\\n\\n\\n\\n\\n\\n\\n\\n\\n\\n\\n\\n\\n\\n\\n\\n\\n\\n\\n\\n\\n\\n\\n\\n\\n\\n\\n\\n\\n\\n\\n\\n\\n\\n\\n\\n\\n\\n\\n\\n\\n\\n\\n\\n\\n\\n\\n\\n\\n\\n\\n\\n\\n\\n\\n\\n\\n\\n\\n\\n\\n\\n\\n\\n\\n\\n\\n\\n\\n\\n\\n\\n\\n\\n\\n\\n\\n\\n\\n\\n\\n\\n\\n\\n\\n\\n\\n\\n\\n\\n\\n\\n\\n\\n\\n\\n\\n\\n\\n\\n\\n\\n\\n\\n\\n\\n\\n\\n\\n\\n\\n\\n\\n\\n\\n\\n\\n\\n\\n\\n\\n\\n\\n\\n\\n\\n\\n\\n\\n\\n\\n\\n\\n\\n\\n\\n\\n\\n\\n\\n\\n\\n\\n\\n\\n\\n\\n\\n\\n\\n\\n\\n\\n\\n\\n\\n\\n\\n\\n\\n\\n\\n\\n\\n\\n\\n\\n\\n\\n\\n\\n\\n\\n\\n\\n\\n\\n\\n\\n\\n\\n\\n\\n\\n\\n\\n\\n\\n\\n\\n\\n\\n\\n\\n\\n\\n\\n\\n\\n\\n\\n\\n\\n\\n\\n\\n\\n\\n\\n\\n\\n\\n\\n\\n\\n\\n\\n\\n\\n\\n\\n\\n\\n\\n\\n\\n\\n\\n\\n\\n\\n\\n\\n\\n\\n\\n\\n\\n\\n\\n\\n\\n\\n\\n\\n\\n\\n\\n\\n\\n\\n\\n\\n\\n\\n\\n\\n\\n\\n\\n\\n\\n\\n\\n\\n\\n\\n\\n\\n\\n\\n\\n\\n\\n\\n\\n\\n\\n\\n\\n\\n\\n\\n\\n\\n\\n\\n\\n\\n\\n\\n\\n\\n\\n\\n\\n\\n\\n\\n\\n\\n\\n\\n\\n\\n\\n\\n\\n\\n\\n\\n\\n\\n\\n\\n\\n\\n\\n\\n\\n\\n\\n\\n\\n\\n\\n\\n\\n\\n\\n\\n\\n\\n\\n\\n\\n\\n\\n\\n\\n\\n\\n\\n\\n\\n\\n\\n\\n\\n', 'qid': '67af14fa6163beb70628dfdc41999860_0'}\n",
      "can not parse ans for res:  {'response': '\\n\\n\\n\\n\\n\\n\\n\\n\\n\\n\\n\\n\\n\\n\\n\\n\\n\\n\\n\\n\\n\\n\\n\\n\\n\\n\\n\\n\\n\\n\\n\\n\\n\\n\\n\\n\\n\\n\\n\\n\\n\\n\\n\\n\\n\\n\\n\\n\\n\\n\\n\\n\\n\\n\\n\\n\\n\\n\\n\\n\\n\\n\\n\\n\\n\\n\\n\\n\\n\\n\\n\\n\\n\\n\\n\\n\\n\\n\\n\\n\\n\\n\\n\\n\\n\\n\\n\\n\\n\\n\\n\\n\\n\\n\\n\\n\\n\\n\\n\\n\\n\\n\\n\\n\\n\\n\\n\\n\\n\\n\\n\\n\\n\\n\\n\\n\\n\\n\\n\\n\\n\\n\\n\\n\\n\\n\\n\\n\\n\\n\\n\\n\\n\\n\\n\\n\\n\\n\\n\\n\\n\\n\\n\\n\\n\\n\\n\\n\\n\\n\\n\\n\\n\\n\\n\\n\\n\\n\\n\\n\\n\\n\\n\\n\\n\\n\\n\\n\\n\\n\\n\\n\\n\\n\\n\\n\\n\\n\\n\\n\\n\\n\\n\\n\\n\\n\\n\\n\\n\\n\\n\\n\\n\\n\\n\\n\\n\\n\\n\\n\\n\\n\\n\\n\\n\\n\\n\\n\\n\\n\\n\\n\\n\\n\\n\\n\\n\\n\\n\\n\\n\\n\\n\\n\\n\\n\\n\\n\\n\\n\\n\\n\\n\\n\\n\\n\\n\\n\\n\\n\\n\\n\\n\\n\\n\\n\\n\\n\\n\\n\\n\\n\\n\\n\\n\\n\\n\\n\\n\\n\\n\\n\\n\\n\\n\\n\\n\\n\\n\\n\\n\\n\\n\\n\\n\\n\\n\\n\\n\\n\\n\\n\\n\\n\\n\\n\\n\\n\\n\\n\\n\\n\\n\\n\\n\\n\\n\\n\\n\\n\\n\\n\\n\\n\\n\\n\\n\\n\\n\\n\\n\\n\\n\\n\\n\\n\\n\\n\\n\\n\\n\\n\\n\\n\\n\\n\\n\\n\\n\\n\\n\\n\\n\\n\\n\\n\\n\\n\\n\\n\\n\\n\\n\\n\\n\\n\\n\\n\\n\\n\\n\\n\\n\\n\\n\\n\\n\\n\\n\\n\\n\\n\\n\\n\\n\\n\\n\\n\\n\\n\\n\\n\\n\\n\\n\\n\\n\\n\\n\\n\\n\\n\\n\\n\\n\\n\\n\\n\\n\\n\\n\\n\\n\\n\\n\\n\\n\\n\\n\\n\\n\\n\\n\\n\\n\\n\\n\\n\\n\\n\\n\\n\\n\\n\\n\\n\\n\\n\\n\\n\\n\\n\\n\\n\\n\\n\\n\\n\\n\\n\\n\\n\\n\\n\\n\\n\\n\\n\\n\\n\\n\\n\\n\\n\\n\\n\\n\\n\\n\\n\\n\\n\\n\\n\\n\\n\\n\\n\\n\\n\\n\\n\\n\\n\\n\\n\\n\\n\\n\\n\\n\\n\\n\\n\\n\\n\\n\\n\\n\\n\\n\\n\\n\\n\\n\\n\\n\\n\\n\\n\\n\\n\\n\\n\\n\\n\\n\\n\\n\\n', 'qid': '67af14fa6163beb70628dfdc41999860_2'}\n",
      "can not parse ans for res:  {'response': '\\n\\n\\n\\n\\n\\n\\n\\n\\n\\n\\n\\n\\n\\n\\n\\n\\n\\n\\n\\n\\n\\n\\n\\n\\n\\n\\n\\n\\n\\n\\n\\n\\n\\n\\n\\n\\n\\n\\n\\n\\n\\n\\n\\n\\n\\n\\n\\n\\n\\n\\n\\n\\n\\n\\n\\n\\n\\n\\n\\n\\n\\n\\n\\n\\n\\n\\n\\n\\n\\n\\n\\n\\n\\n\\n\\n\\n\\n\\n\\n\\n\\n\\n\\n\\n\\n\\n\\n\\n\\n\\n\\n\\n\\n\\n\\n\\n\\n\\n\\n\\n\\n\\n\\n\\n\\n\\n\\n\\n\\n\\n\\n\\n\\n\\n\\n\\n\\n\\n\\n\\n\\n\\n\\n\\n\\n\\n\\n\\n\\n\\n\\n\\n\\n\\n\\n\\n\\n\\n\\n\\n\\n\\n\\n\\n\\n\\n\\n\\n\\n\\n\\n\\n\\n\\n\\n\\n\\n\\n\\n\\n\\n\\n\\n\\n\\n\\n\\n\\n\\n\\n\\n\\n\\n\\n\\n\\n\\n\\n\\n\\n\\n\\n\\n\\n\\n\\n\\n\\n\\n\\n\\n\\n\\n\\n\\n\\n\\n\\n\\n\\n\\n\\n\\n\\n\\n\\n\\n\\n\\n\\n\\n\\n\\n\\n\\n\\n\\n\\n\\n\\n\\n\\n\\n\\n\\n\\n\\n\\n\\n\\n\\n\\n\\n\\n\\n\\n\\n\\n\\n\\n\\n\\n\\n\\n\\n\\n\\n\\n\\n\\n\\n\\n\\n\\n\\n\\n\\n\\n\\n\\n\\n\\n\\n\\n\\n\\n\\n\\n\\n\\n\\n\\n\\n\\n\\n\\n\\n\\n\\n\\n\\n\\n\\n\\n\\n\\n\\n\\n\\n\\n\\n\\n\\n\\n\\n\\n\\n\\n\\n\\n\\n\\n\\n\\n\\n\\n\\n\\n\\n\\n\\n\\n\\n\\n\\n\\n\\n\\n\\n\\n\\n\\n\\n\\n\\n\\n\\n\\n\\n\\n\\n\\n\\n\\n\\n\\n\\n\\n\\n\\n\\n\\n\\n\\n\\n\\n\\n\\n\\n\\n\\n\\n\\n\\n\\n\\n\\n\\n\\n\\n\\n\\n\\n\\n\\n\\n\\n\\n\\n\\n\\n\\n\\n\\n\\n\\n\\n\\n\\n\\n\\n\\n\\n\\n\\n\\n\\n\\n\\n\\n\\n\\n\\n\\n\\n\\n\\n\\n\\n\\n\\n\\n\\n\\n\\n\\n\\n\\n\\n\\n\\n\\n\\n\\n\\n\\n\\n\\n\\n\\n\\n\\n\\n\\n\\n\\n\\n\\n\\n\\n\\n\\n\\n\\n\\n\\n\\n\\n\\n\\n\\n\\n\\n\\n\\n\\n\\n\\n\\n\\n\\n\\n\\n\\n\\n\\n\\n\\n\\n\\n\\n\\n\\n\\n\\n\\n\\n\\n\\n\\n\\n\\n\\n\\n\\n\\n\\n\\n\\n\\n\\n\\n\\n\\n\\n\\n\\n\\n\\n\\n\\n\\n\\n\\n\\n\\n\\n\\n\\n', 'qid': '316ee2c7ac04c1a3e636175a8d42c6ec_0'}\n",
      "can not parse ans for res:  {'response': '\\n\\n\\n\\n\\n\\n\\n\\n\\n\\n\\n\\n\\n\\n\\n\\n\\n\\n\\n\\n\\n\\n\\n\\n\\n\\n\\n\\n\\n\\n\\n\\n\\n\\n\\n\\n\\n\\n\\n\\n\\n\\n\\n\\n\\n\\n\\n\\n\\n\\n\\n\\n\\n\\n\\n\\n\\n\\n\\n\\n\\n\\n\\n\\n\\n\\n\\n\\n\\n\\n\\n\\n\\n\\n\\n\\n\\n\\n\\n\\n\\n\\n\\n\\n\\n\\n\\n\\n\\n\\n\\n\\n\\n\\n\\n\\n\\n\\n\\n\\n\\n\\n\\n\\n\\n\\n\\n\\n\\n\\n\\n\\n\\n\\n\\n\\n\\n\\n\\n\\n\\n\\n\\n\\n\\n\\n\\n\\n\\n\\n\\n\\n\\n\\n\\n\\n\\n\\n\\n\\n\\n\\n\\n\\n\\n\\n\\n\\n\\n\\n\\n\\n\\n\\n\\n\\n\\n\\n\\n\\n\\n\\n\\n\\n\\n\\n\\n\\n\\n\\n\\n\\n\\n\\n\\n\\n\\n\\n\\n\\n\\n\\n\\n\\n\\n\\n\\n\\n\\n\\n\\n\\n\\n\\n\\n\\n\\n\\n\\n\\n\\n\\n\\n\\n\\n\\n\\n\\n\\n\\n\\n\\n\\n\\n\\n\\n\\n\\n\\n\\n\\n\\n\\n\\n\\n\\n\\n\\n\\n\\n\\n\\n\\n\\n\\n\\n\\n\\n\\n\\n\\n\\n\\n\\n\\n\\n\\n\\n\\n\\n\\n\\n\\n\\n\\n\\n\\n\\n\\n\\n\\n\\n\\n\\n\\n\\n\\n\\n\\n\\n\\n\\n\\n\\n\\n\\n\\n\\n\\n\\n\\n\\n\\n\\n\\n\\n\\n\\n\\n\\n\\n\\n\\n\\n\\n\\n\\n\\n\\n\\n\\n\\n\\n\\n\\n\\n\\n\\n\\n\\n\\n\\n\\n\\n\\n\\n\\n\\n\\n\\n\\n\\n\\n\\n\\n\\n\\n\\n\\n\\n\\n\\n\\n\\n\\n\\n\\n\\n\\n\\n\\n\\n\\n\\n\\n\\n\\n\\n\\n\\n\\n\\n\\n\\n\\n\\n\\n\\n\\n\\n\\n\\n\\n\\n\\n\\n\\n\\n\\n\\n\\n\\n\\n\\n\\n\\n\\n\\n\\n\\n\\n\\n\\n\\n\\n\\n\\n\\n\\n\\n\\n\\n\\n\\n\\n\\n\\n\\n\\n\\n\\n\\n\\n\\n\\n\\n\\n\\n\\n\\n\\n\\n\\n\\n\\n\\n\\n\\n\\n\\n\\n\\n\\n\\n\\n\\n\\n\\n\\n\\n\\n\\n\\n\\n\\n\\n\\n\\n\\n\\n\\n\\n\\n\\n\\n\\n\\n\\n\\n\\n\\n\\n\\n\\n\\n\\n\\n\\n\\n\\n\\n\\n\\n\\n\\n\\n\\n\\n\\n\\n\\n\\n\\n\\n\\n\\n\\n\\n\\n\\n\\n\\n\\n\\n\\n\\n\\n\\n\\n\\n\\n\\n\\n\\n\\n\\n\\n\\n\\n\\n', 'qid': '316ee2c7ac04c1a3e636175a8d42c6ec_1'}\n",
      "can not parse ans for res:  {'response': '\\n\\nThe image shows a variety of dishes, including a bowl with what appears to be a mix of vegetables and possibly some type of meat, a plate with a pile of fried food that could be some kind of snack or appetizer, and a dish with a creamy sauce and green herbs. The question asks which dish contains allspice leaves, but without a clear view of the ingredients in each dish, it is impossible to determine if any of them contain allspice leaves. Therefore, I cannot confidently answer the question based on the image provided.', 'qid': '22ca93f3530ed50d0adae9fa9ee7232d_2'}\n",
      "can not parse ans for res:  {'response': '\\n\\n\\n\\n\\n\\n\\n\\n\\n\\n\\n\\n\\n\\n\\n\\n\\n\\n\\n\\n\\n\\n\\n\\n\\n\\n\\n\\n\\n\\n\\n\\n\\n\\n\\n\\n\\n\\n\\n\\n\\n\\n\\n\\n\\n\\n\\n\\n\\n\\n\\n\\n\\n\\n\\n\\n\\n\\n\\n\\n\\n\\n\\n\\n\\n\\n\\n\\n\\n\\n\\n\\n\\n\\n\\n\\n\\n\\n\\n\\n\\n\\n\\n\\n\\n\\n\\n\\n\\n\\n\\n\\n\\n\\n\\n\\n\\n\\n\\n\\n\\n\\n\\n\\n\\n\\n\\n\\n\\n\\n\\n\\n\\n\\n\\n\\n\\n\\n\\n\\n\\n\\n\\n\\n\\n\\n\\n\\n\\n\\n\\n\\n\\n\\n\\n\\n\\n\\n\\n\\n\\n\\n\\n\\n\\n\\n\\n\\n\\n\\n\\n\\n\\n\\n\\n\\n\\n\\n\\n\\n\\n\\n\\n\\n\\n\\n\\n\\n\\n\\n\\n\\n\\n\\n\\n\\n\\n\\n\\n\\n\\n\\n\\n\\n\\n\\n\\n\\n\\n\\n\\n\\n\\n\\n\\n\\n\\n\\n\\n\\n\\n\\n\\n\\n\\n\\n\\n\\n\\n\\n\\n\\n\\n\\n\\n\\n\\n\\n\\n\\n\\n\\n\\n\\n\\n\\n\\n\\n\\n\\n\\n\\n\\n\\n\\n\\n\\n\\n\\n\\n\\n\\n\\n\\n\\n\\n\\n\\n\\n\\n\\n\\n\\n\\n\\n\\n\\n\\n\\n\\n\\n\\n\\n\\n\\n\\n\\n\\n\\n\\n\\n\\n\\n\\n\\n\\n\\n\\n\\n\\n\\n\\n\\n\\n\\n\\n\\n\\n\\n\\n\\n\\n\\n\\n\\n\\n\\n\\n\\n\\n\\n\\n\\n\\n\\n\\n\\n\\n\\n\\n\\n\\n\\n\\n\\n\\n\\n\\n\\n\\n\\n\\n\\n\\n\\n\\n\\n\\n\\n\\n\\n\\n\\n\\n\\n\\n\\n\\n\\n\\n\\n\\n\\n\\n\\n\\n\\n\\n\\n\\n\\n\\n\\n\\n\\n\\n\\n\\n\\n\\n\\n\\n\\n\\n\\n\\n\\n\\n\\n\\n\\n\\n\\n\\n\\n\\n\\n\\n\\n\\n\\n\\n\\n\\n\\n\\n\\n\\n\\n\\n\\n\\n\\n\\n\\n\\n\\n\\n\\n\\n\\n\\n\\n\\n\\n\\n\\n\\n\\n\\n\\n\\n\\n\\n\\n\\n\\n\\n\\n\\n\\n\\n\\n\\n\\n\\n\\n\\n\\n\\n\\n\\n\\n\\n\\n\\n\\n\\n\\n\\n\\n\\n\\n\\n\\n\\n\\n\\n\\n\\n\\n\\n\\n\\n\\n\\n\\n\\n\\n\\n\\n\\n\\n\\n\\n\\n\\n\\n\\n\\n\\n\\n\\n\\n\\n\\n\\n\\n\\n\\n\\n\\n\\n\\n\\n\\n\\n\\n\\n\\n\\n\\n\\n\\n\\n\\n\\n\\n\\n\\n', 'qid': '316ee2c7ac04c1a3e636175a8d42c6ec_0'}\n",
      "can not parse ans for res:  {'response': '\\n\\n\\n\\n\\n\\n\\n\\n\\n\\n\\n\\n\\n\\n\\n\\n\\n\\n\\n\\n\\n\\n\\n\\n\\n\\n\\n\\n\\n\\n\\n\\n\\n\\n\\n\\n\\n\\n\\n\\n\\n\\n\\n\\n\\n\\n\\n\\n\\n\\n\\n\\n\\n\\n\\n\\n\\n\\n\\n\\n\\n\\n\\n\\n\\n\\n\\n\\n\\n\\n\\n\\n\\n\\n\\n\\n\\n\\n\\n\\n\\n\\n\\n\\n\\n\\n\\n\\n\\n\\n\\n\\n\\n\\n\\n\\n\\n\\n\\n\\n\\n\\n\\n\\n\\n\\n\\n\\n\\n\\n\\n\\n\\n\\n\\n\\n\\n\\n\\n\\n\\n\\n\\n\\n\\n\\n\\n\\n\\n\\n\\n\\n\\n\\n\\n\\n\\n\\n\\n\\n\\n\\n\\n\\n\\n\\n\\n\\n\\n\\n\\n\\n\\n\\n\\n\\n\\n\\n\\n\\n\\n\\n\\n\\n\\n\\n\\n\\n\\n\\n\\n\\n\\n\\n\\n\\n\\n\\n\\n\\n\\n\\n\\n\\n\\n\\n\\n\\n\\n\\n\\n\\n\\n\\n\\n\\n\\n\\n\\n\\n\\n\\n\\n\\n\\n\\n\\n\\n\\n\\n\\n\\n\\n\\n\\n\\n\\n\\n\\n\\n\\n\\n\\n\\n\\n\\n\\n\\n\\n\\n\\n\\n\\n\\n\\n\\n\\n\\n\\n\\n\\n\\n\\n\\n\\n\\n\\n\\n\\n\\n\\n\\n\\n\\n\\n\\n\\n\\n\\n\\n\\n\\n\\n\\n\\n\\n\\n\\n\\n\\n\\n\\n\\n\\n\\n\\n\\n\\n\\n\\n\\n\\n\\n\\n\\n\\n\\n\\n\\n\\n\\n\\n\\n\\n\\n\\n\\n\\n\\n\\n\\n\\n\\n\\n\\n\\n\\n\\n\\n\\n\\n\\n\\n\\n\\n\\n\\n\\n\\n\\n\\n\\n\\n\\n\\n\\n\\n\\n\\n\\n\\n\\n\\n\\n\\n\\n\\n\\n\\n\\n\\n\\n\\n\\n\\n\\n\\n\\n\\n\\n\\n\\n\\n\\n\\n\\n\\n\\n\\n\\n\\n\\n\\n\\n\\n\\n\\n\\n\\n\\n\\n\\n\\n\\n\\n\\n\\n\\n\\n\\n\\n\\n\\n\\n\\n\\n\\n\\n\\n\\n\\n\\n\\n\\n\\n\\n\\n\\n\\n\\n\\n\\n\\n\\n\\n\\n\\n\\n\\n\\n\\n\\n\\n\\n\\n\\n\\n\\n\\n\\n\\n\\n\\n\\n\\n\\n\\n\\n\\n\\n\\n\\n\\n\\n\\n\\n\\n\\n\\n\\n\\n\\n\\n\\n\\n\\n\\n\\n\\n\\n\\n\\n\\n\\n\\n\\n\\n\\n\\n\\n\\n\\n\\n\\n\\n\\n\\n\\n\\n\\n\\n\\n\\n\\n\\n\\n\\n\\n\\n\\n\\n\\n\\n\\n\\n\\n\\n\\n\\n\\n\\n\\n\\n\\n\\n\\n\\n\\n\\n\\n', 'qid': '316ee2c7ac04c1a3e636175a8d42c6ec_1'}\n",
      "can not parse ans for res:  {'response': '\\n\\n\\n\\n\\n\\n\\n\\n\\n\\n\\n\\n\\n\\n\\n\\n\\n\\n\\n\\n\\n\\n\\n\\n\\n\\n\\n\\n\\n\\n\\n\\n\\n\\n\\n\\n\\n\\n\\n\\n\\n\\n\\n\\n\\n\\n\\n\\n\\n\\n\\n\\n\\n\\n\\n\\n\\n\\n\\n\\n\\n\\n\\n\\n\\n\\n\\n\\n\\n\\n\\n\\n\\n\\n\\n\\n\\n\\n\\n\\n\\n\\n\\n\\n\\n\\n\\n\\n\\n\\n\\n\\n\\n\\n\\n\\n\\n\\n\\n\\n\\n\\n\\n\\n\\n\\n\\n\\n\\n\\n\\n\\n\\n\\n\\n\\n\\n\\n\\n\\n\\n\\n\\n\\n\\n\\n\\n\\n\\n\\n\\n\\n\\n\\n\\n\\n\\n\\n\\n\\n\\n\\n\\n\\n\\n\\n\\n\\n\\n\\n\\n\\n\\n\\n\\n\\n\\n\\n\\n\\n\\n\\n\\n\\n\\n\\n\\n\\n\\n\\n\\n\\n\\n\\n\\n\\n\\n\\n\\n\\n\\n\\n\\n\\n\\n\\n\\n\\n\\n\\n\\n\\n\\n\\n\\n\\n\\n\\n\\n\\n\\n\\n\\n\\n\\n\\n\\n\\n\\n\\n\\n\\n\\n\\n\\n\\n\\n\\n\\n\\n\\n\\n\\n\\n\\n\\n\\n\\n\\n\\n\\n\\n\\n\\n\\n\\n\\n\\n\\n\\n\\n\\n\\n\\n\\n\\n\\n\\n\\n\\n\\n\\n\\n\\n\\n\\n\\n\\n\\n\\n\\n\\n\\n\\n\\n\\n\\n\\n\\n\\n\\n\\n\\n\\n\\n\\n\\n\\n\\n\\n\\n\\n\\n\\n\\n\\n\\n\\n\\n\\n\\n\\n\\n\\n\\n\\n\\n\\n\\n\\n\\n\\n\\n\\n\\n\\n\\n\\n\\n\\n\\n\\n\\n\\n\\n\\n\\n\\n\\n\\n\\n\\n\\n\\n\\n\\n\\n\\n\\n\\n\\n\\n\\n\\n\\n\\n\\n\\n\\n\\n\\n\\n\\n\\n\\n\\n\\n\\n\\n\\n\\n\\n\\n\\n\\n\\n\\n\\n\\n\\n\\n\\n\\n\\n\\n\\n\\n\\n\\n\\n\\n\\n\\n\\n\\n\\n\\n\\n\\n\\n\\n\\n\\n\\n\\n\\n\\n\\n\\n\\n\\n\\n\\n\\n\\n\\n\\n\\n\\n\\n\\n\\n\\n\\n\\n\\n\\n\\n\\n\\n\\n\\n\\n\\n\\n\\n\\n\\n\\n\\n\\n\\n\\n\\n\\n\\n\\n\\n\\n\\n\\n\\n\\n\\n\\n\\n\\n\\n\\n\\n\\n\\n\\n\\n\\n\\n\\n\\n\\n\\n\\n\\n\\n\\n\\n\\n\\n\\n\\n\\n\\n\\n\\n\\n\\n\\n\\n\\n\\n\\n\\n\\n\\n\\n\\n\\n\\n\\n\\n\\n\\n\\n\\n\\n\\n\\n\\n\\n\\n\\n\\n\\n\\n\\n\\n\\n\\n\\n\\n\\n', 'qid': '4157f69dc017b86464e2279ea3948f2f_0'}\n",
      "can not parse ans for res:  {'response': '\\n\\n\\n\\n\\n\\n\\n\\n\\n\\n\\n\\n\\n\\n\\n\\n\\n\\n\\n\\n\\n\\n\\n\\n\\n\\n\\n\\n\\n\\n\\n\\n\\n\\n\\n\\n\\n\\n\\n\\n\\n\\n\\n\\n\\n\\n\\n\\n\\n\\n\\n\\n\\n\\n\\n\\n\\n\\n\\n\\n\\n\\n\\n\\n\\n\\n\\n\\n\\n\\n\\n\\n\\n\\n\\n\\n\\n\\n\\n\\n\\n\\n\\n\\n\\n\\n\\n\\n\\n\\n\\n\\n\\n\\n\\n\\n\\n\\n\\n\\n\\n\\n\\n\\n\\n\\n\\n\\n\\n\\n\\n\\n\\n\\n\\n\\n\\n\\n\\n\\n\\n\\n\\n\\n\\n\\n\\n\\n\\n\\n\\n\\n\\n\\n\\n\\n\\n\\n\\n\\n\\n\\n\\n\\n\\n\\n\\n\\n\\n\\n\\n\\n\\n\\n\\n\\n\\n\\n\\n\\n\\n\\n\\n\\n\\n\\n\\n\\n\\n\\n\\n\\n\\n\\n\\n\\n\\n\\n\\n\\n\\n\\n\\n\\n\\n\\n\\n\\n\\n\\n\\n\\n\\n\\n\\n\\n\\n\\n\\n\\n\\n\\n\\n\\n\\n\\n\\n\\n\\n\\n\\n\\n\\n\\n\\n\\n\\n\\n\\n\\n\\n\\n\\n\\n\\n\\n\\n\\n\\n\\n\\n\\n\\n\\n\\n\\n\\n\\n\\n\\n\\n\\n\\n\\n\\n\\n\\n\\n\\n\\n\\n\\n\\n\\n\\n\\n\\n\\n\\n\\n\\n\\n\\n\\n\\n\\n\\n\\n\\n\\n\\n\\n\\n\\n\\n\\n\\n\\n\\n\\n\\n\\n\\n\\n\\n\\n\\n\\n\\n\\n\\n\\n\\n\\n\\n\\n\\n\\n\\n\\n\\n\\n\\n\\n\\n\\n\\n\\n\\n\\n\\n\\n\\n\\n\\n\\n\\n\\n\\n\\n\\n\\n\\n\\n\\n\\n\\n\\n\\n\\n\\n\\n\\n\\n\\n\\n\\n\\n\\n\\n\\n\\n\\n\\n\\n\\n\\n\\n\\n\\n\\n\\n\\n\\n\\n\\n\\n\\n\\n\\n\\n\\n\\n\\n\\n\\n\\n\\n\\n\\n\\n\\n\\n\\n\\n\\n\\n\\n\\n\\n\\n\\n\\n\\n\\n\\n\\n\\n\\n\\n\\n\\n\\n\\n\\n\\n\\n\\n\\n\\n\\n\\n\\n\\n\\n\\n\\n\\n\\n\\n\\n\\n\\n\\n\\n\\n\\n\\n\\n\\n\\n\\n\\n\\n\\n\\n\\n\\n\\n\\n\\n\\n\\n\\n\\n\\n\\n\\n\\n\\n\\n\\n\\n\\n\\n\\n\\n\\n\\n\\n\\n\\n\\n\\n\\n\\n\\n\\n\\n\\n\\n\\n\\n\\n\\n\\n\\n\\n\\n\\n\\n\\n\\n\\n\\n\\n\\n\\n\\n\\n\\n\\n\\n\\n\\n\\n\\n\\n\\n\\n\\n\\n\\n\\n\\n\\n\\n\\n\\n\\n', 'qid': '4157f69dc017b86464e2279ea3948f2f_1'}\n",
      "can not parse ans for res:  {'response': '\\n\\n\\n\\n\\n\\n\\n\\n\\n\\n\\n\\n\\n\\n\\n\\n\\n\\n\\n\\n\\n\\n\\n\\n\\n\\n\\n\\n\\n\\n\\n\\n\\n\\n\\n\\n\\n\\n\\n\\n\\n\\n\\n\\n\\n\\n\\n\\n\\n\\n\\n\\n\\n\\n\\n\\n\\n\\n\\n\\n\\n\\n\\n\\n\\n\\n\\n\\n\\n\\n\\n\\n\\n\\n\\n\\n\\n\\n\\n\\n\\n\\n\\n\\n\\n\\n\\n\\n\\n\\n\\n\\n\\n\\n\\n\\n\\n\\n\\n\\n\\n\\n\\n\\n\\n\\n\\n\\n\\n\\n\\n\\n\\n\\n\\n\\n\\n\\n\\n\\n\\n\\n\\n\\n\\n\\n\\n\\n\\n\\n\\n\\n\\n\\n\\n\\n\\n\\n\\n\\n\\n\\n\\n\\n\\n\\n\\n\\n\\n\\n\\n\\n\\n\\n\\n\\n\\n\\n\\n\\n\\n\\n\\n\\n\\n\\n\\n\\n\\n\\n\\n\\n\\n\\n\\n\\n\\n\\n\\n\\n\\n\\n\\n\\n\\n\\n\\n\\n\\n\\n\\n\\n\\n\\n\\n\\n\\n\\n\\n\\n\\n\\n\\n\\n\\n\\n\\n\\n\\n\\n\\n\\n\\n\\n\\n\\n\\n\\n\\n\\n\\n\\n\\n\\n\\n\\n\\n\\n\\n\\n\\n\\n\\n\\n\\n\\n\\n\\n\\n\\n\\n\\n\\n\\n\\n\\n\\n\\n\\n\\n\\n\\n\\n\\n\\n\\n\\n\\n\\n\\n\\n\\n\\n\\n\\n\\n\\n\\n\\n\\n\\n\\n\\n\\n\\n\\n\\n\\n\\n\\n\\n\\n\\n\\n\\n\\n\\n\\n\\n\\n\\n\\n\\n\\n\\n\\n\\n\\n\\n\\n\\n\\n\\n\\n\\n\\n\\n\\n\\n\\n\\n\\n\\n\\n\\n\\n\\n\\n\\n\\n\\n\\n\\n\\n\\n\\n\\n\\n\\n\\n\\n\\n\\n\\n\\n\\n\\n\\n\\n\\n\\n\\n\\n\\n\\n\\n\\n\\n\\n\\n\\n\\n\\n\\n\\n\\n\\n\\n\\n\\n\\n\\n\\n\\n\\n\\n\\n\\n\\n\\n\\n\\n\\n\\n\\n\\n\\n\\n\\n\\n\\n\\n\\n\\n\\n\\n\\n\\n\\n\\n\\n\\n\\n\\n\\n\\n\\n\\n\\n\\n\\n\\n\\n\\n\\n\\n\\n\\n\\n\\n\\n\\n\\n\\n\\n\\n\\n\\n\\n\\n\\n\\n\\n\\n\\n\\n\\n\\n\\n\\n\\n\\n\\n\\n\\n\\n\\n\\n\\n\\n\\n\\n\\n\\n\\n\\n\\n\\n\\n\\n\\n\\n\\n\\n\\n\\n\\n\\n\\n\\n\\n\\n\\n\\n\\n\\n\\n\\n\\n\\n\\n\\n\\n\\n\\n\\n\\n\\n\\n\\n\\n\\n\\n\\n\\n\\n\\n\\n\\n\\n\\n\\n\\n\\n\\n\\n\\n\\n\\n\\n', 'qid': '4157f69dc017b86464e2279ea3948f2f_2'}\n",
      "can not parse ans for res:  {'response': '\\n\\nThe image shows a variety of dishes on a table, including what appears to be a bowl of soup with a spoon in it, a plate with sliced fish, and other dishes that might contain soup as well. The question asks which dish comes with soup, but without clear options labeled in the image, I cannot provide a definitive answer. However, based on the visible content, it seems that the bowl in the foreground is likely the dish that comes with soup, as it is the only dish that is clearly identified as containing a liquid, which could be soup. The other dishes do not have any visible liquid or are not clearly associated with soup. Therefore, the best answer from the given options, assuming they are labeled, would be the one that corresponds to the bowl in the foreground.', 'qid': '4157f69dc017b86464e2279ea3948f2f_0'}\n",
      "can not parse ans for res:  {'response': '\\n\\n\\n\\n\\n\\n\\n\\n\\n\\n\\n\\n\\n\\n\\n\\n\\n\\n\\n\\n\\n\\n\\n\\n\\n\\n\\n\\n\\n\\n\\n\\n\\n\\n\\n\\n\\n\\n\\n\\n\\n\\n\\n\\n\\n\\n\\n\\n\\n\\n\\n\\n\\n\\n\\n\\n\\n\\n\\n\\n\\n\\n\\n\\n\\n\\n\\n\\n\\n\\n\\n\\n\\n\\n\\n\\n\\n\\n\\n\\n\\n\\n\\n\\n\\n\\n\\n\\n\\n\\n\\n\\n\\n\\n\\n\\n\\n\\n\\n\\n\\n\\n\\n\\n\\n\\n\\n\\n\\n\\n\\n\\n\\n\\n\\n\\n\\n\\n\\n\\n\\n\\n\\n\\n\\n\\n\\n\\n\\n\\n\\n\\n\\n\\n\\n\\n\\n\\n\\n\\n\\n\\n\\n\\n\\n\\n\\n\\n\\n\\n\\n\\n\\n\\n\\n\\n\\n\\n\\n\\n\\n\\n\\n\\n\\n\\n\\n\\n\\n\\n\\n\\n\\n\\n\\n\\n\\n\\n\\n\\n\\n\\n\\n\\n\\n\\n\\n\\n\\n\\n\\n\\n\\n\\n\\n\\n\\n\\n\\n\\n\\n\\n\\n\\n\\n\\n\\n\\n\\n\\n\\n\\n\\n\\n\\n\\n\\n\\n\\n\\n\\n\\n\\n\\n\\n\\n\\n\\n\\n\\n\\n\\n\\n\\n\\n\\n\\n\\n\\n\\n\\n\\n\\n\\n\\n\\n\\n\\n\\n\\n\\n\\n\\n\\n\\n\\n\\n\\n\\n\\n\\n\\n\\n\\n\\n\\n\\n\\n\\n\\n\\n\\n\\n\\n\\n\\n\\n\\n\\n\\n\\n\\n\\n\\n\\n\\n\\n\\n\\n\\n\\n\\n\\n\\n\\n\\n\\n\\n\\n\\n\\n\\n\\n\\n\\n\\n\\n\\n\\n\\n\\n\\n\\n\\n\\n\\n\\n\\n\\n\\n\\n\\n\\n\\n\\n\\n\\n\\n\\n\\n\\n\\n\\n\\n\\n\\n\\n\\n\\n\\n\\n\\n\\n\\n\\n\\n\\n\\n\\n\\n\\n\\n\\n\\n\\n\\n\\n\\n\\n\\n\\n\\n\\n\\n\\n\\n\\n\\n\\n\\n\\n\\n\\n\\n\\n\\n\\n\\n\\n\\n\\n\\n\\n\\n\\n\\n\\n\\n\\n\\n\\n\\n\\n\\n\\n\\n\\n\\n\\n\\n\\n\\n\\n\\n\\n\\n\\n\\n\\n\\n\\n\\n\\n\\n\\n\\n\\n\\n\\n\\n\\n\\n\\n\\n\\n\\n\\n\\n\\n\\n\\n\\n\\n\\n\\n\\n\\n\\n\\n\\n\\n\\n\\n\\n\\n\\n\\n\\n\\n\\n\\n\\n\\n\\n\\n\\n\\n\\n\\n\\n\\n\\n\\n\\n\\n\\n\\n\\n\\n\\n\\n\\n\\n\\n\\n\\n\\n\\n\\n\\n\\n\\n\\n\\n\\n\\n\\n\\n\\n\\n\\n\\n\\n\\n\\n\\n\\n\\n\\n\\n', 'qid': '4157f69dc017b86464e2279ea3948f2f_1'}\n",
      "can not parse ans for res:  {'response': '\\n\\n\\n\\n\\n\\n\\n\\n\\n\\n\\n\\n\\n\\n\\n\\n\\n\\n\\n\\n\\n\\n\\n\\n\\n\\n\\n\\n\\n\\n\\n\\n\\n\\n\\n\\n\\n\\n\\n\\n\\n\\n\\n\\n\\n\\n\\n\\n\\n\\n\\n\\n\\n\\n\\n\\n\\n\\n\\n\\n\\n\\n\\n\\n\\n\\n\\n\\n\\n\\n\\n\\n\\n\\n\\n\\n\\n\\n\\n\\n\\n\\n\\n\\n\\n\\n\\n\\n\\n\\n\\n\\n\\n\\n\\n\\n\\n\\n\\n\\n\\n\\n\\n\\n\\n\\n\\n\\n\\n\\n\\n\\n\\n\\n\\n\\n\\n\\n\\n\\n\\n\\n\\n\\n\\n\\n\\n\\n\\n\\n\\n\\n\\n\\n\\n\\n\\n\\n\\n\\n\\n\\n\\n\\n\\n\\n\\n\\n\\n\\n\\n\\n\\n\\n\\n\\n\\n\\n\\n\\n\\n\\n\\n\\n\\n\\n\\n\\n\\n\\n\\n\\n\\n\\n\\n\\n\\n\\n\\n\\n\\n\\n\\n\\n\\n\\n\\n\\n\\n\\n\\n\\n\\n\\n\\n\\n\\n\\n\\n\\n\\n\\n\\n\\n\\n\\n\\n\\n\\n\\n\\n\\n\\n\\n\\n\\n\\n\\n\\n\\n\\n\\n\\n\\n\\n\\n\\n\\n\\n\\n\\n\\n\\n\\n\\n\\n\\n\\n\\n\\n\\n\\n\\n\\n\\n\\n\\n\\n\\n\\n\\n\\n\\n\\n\\n\\n\\n\\n\\n\\n\\n\\n\\n\\n\\n\\n\\n\\n\\n\\n\\n\\n\\n\\n\\n\\n\\n\\n\\n\\n\\n\\n\\n\\n\\n\\n\\n\\n\\n\\n\\n\\n\\n\\n\\n\\n\\n\\n\\n\\n\\n\\n\\n\\n\\n\\n\\n\\n\\n\\n\\n\\n\\n\\n\\n\\n\\n\\n\\n\\n\\n\\n\\n\\n\\n\\n\\n\\n\\n\\n\\n\\n\\n\\n\\n\\n\\n\\n\\n\\n\\n\\n\\n\\n\\n\\n\\n\\n\\n\\n\\n\\n\\n\\n\\n\\n\\n\\n\\n\\n\\n\\n\\n\\n\\n\\n\\n\\n\\n\\n\\n\\n\\n\\n\\n\\n\\n\\n\\n\\n\\n\\n\\n\\n\\n\\n\\n\\n\\n\\n\\n\\n\\n\\n\\n\\n\\n\\n\\n\\n\\n\\n\\n\\n\\n\\n\\n\\n\\n\\n\\n\\n\\n\\n\\n\\n\\n\\n\\n\\n\\n\\n\\n\\n\\n\\n\\n\\n\\n\\n\\n\\n\\n\\n\\n\\n\\n\\n\\n\\n\\n\\n\\n\\n\\n\\n\\n\\n\\n\\n\\n\\n\\n\\n\\n\\n\\n\\n\\n\\n\\n\\n\\n\\n\\n\\n\\n\\n\\n\\n\\n\\n\\n\\n\\n\\n\\n\\n\\n\\n\\n\\n\\n\\n\\n\\n\\n\\n\\n\\n\\n\\n\\n\\n\\n\\n\\n\\n\\n\\n', 'qid': 'e6ec849c664ee5aab2cff4af32941aa1_0'}\n",
      "0.3325062034739454\n",
      "[0.2754, 0.3002, 0.3102, 0.3325]\n"
     ]
    }
   ],
   "source": [
    "def parse_res(res):\n",
    "    random.seed(42)\n",
    "    try:\n",
    "        ans_str = res[\"response\"].split(\"Option\")[1]\n",
    "    except:\n",
    "        ans_str = res[\"response\"]\n",
    "    ans_letter = re.findall(r'[A-D]', ans_str)\n",
    "    if not ans_letter or len(ans_letter) == 0:\n",
    "        print(\"can not parse ans for res: \", res)\n",
    "        return random.choice([\"0\", \"1\", \"2\", \"3\"])\n",
    "    else:\n",
    "        ans = ans_letter[0].upper()\n",
    "        if ans not in ans2idx:\n",
    "            print(\"can not parse ans for res: \", res)\n",
    "            return random.choice([\"0\", \"1\", \"2\", \"3\"])\n",
    "        else:\n",
    "            return ans2idx[ans]\n",
    "phi3_en_data, phi3_en_acc = get_res_and_acc(mivqa, \"mivqa_Phi-3-vision-128k-instruct_en_prompt*.jsonl\", parse_res)\n",
    "print(phi3_en_acc)"
   ]
  },
  {
   "cell_type": "code",
   "execution_count": 95,
   "metadata": {},
   "outputs": [
    {
     "name": "stdout",
     "output_type": "stream",
     "text": [
      "['/Users/wli/projects/foodie-dataset/data/results/mivqa_res/mivqa_idefics2-8b_en_prompt0.jsonl', '/Users/wli/projects/foodie-dataset/data/results/mivqa_res/mivqa_idefics2-8b_en_prompt1.jsonl', '/Users/wli/projects/foodie-dataset/data/results/mivqa_res/mivqa_idefics2-8b_en_prompt2.jsonl', '/Users/wli/projects/foodie-dataset/data/results/mivqa_res/mivqa_idefics2-8b_en_prompt3.jsonl']\n",
      "mivqa_idefics2-8b_en_prompt0.jsonl\n",
      "can not parse ans for res:  {'response': 'Liangpi.', 'qid': 'e2cbda5cebb1ae23b462d72550b724be_2'}\n",
      "can not parse ans for res:  {'response': 'Liang pi.', 'qid': 'e2cbda5cebb1ae23b462d72550b724be_0'}\n",
      "can not parse ans for res:  {'response': 'Shrimp.', 'qid': '6c5b20a60e51663848761ebfac4f65cc_2'}\n",
      "can not parse ans for res:  {'response': 'Hot pot.', 'qid': '314e7837029070281237ea3d01a9c568_1'}\n",
      "0.3870967741935484\n",
      "mivqa_idefics2-8b_en_prompt1.jsonl\n",
      "can not parse ans for res:  {'response': 'Liang pi.', 'qid': 'e2cbda5cebb1ae23b462d72550b724be_0'}\n",
      "can not parse ans for res:  {'response': 'Tomato.', 'qid': '996b29878111d61fd36c639e66405ad7_2'}\n",
      "can not parse ans for res:  {'response': 'Rice.', 'qid': 'e6ec849c664ee5aab2cff4af32941aa1_0'}\n",
      "0.4094292803970223\n",
      "mivqa_idefics2-8b_en_prompt2.jsonl\n",
      "can not parse ans for res:  {'response': 'Liang pi.', 'qid': 'e2cbda5cebb1ae23b462d72550b724be_0'}\n",
      "can not parse ans for res:  {'response': 'Tomato.', 'qid': '996b29878111d61fd36c639e66405ad7_2'}\n",
      "can not parse ans for res:  {'response': 'Rice.', 'qid': 'e6ec849c664ee5aab2cff4af32941aa1_0'}\n",
      "0.41687344913151364\n",
      "mivqa_idefics2-8b_en_prompt3.jsonl\n",
      "can not parse ans for res:  {'response': 'The main ingredient in the preparation of the dish is chicken. The dish is called chicken and mushroom stir fry.', 'qid': '4157f69dc017b86464e2279ea3948f2f_0'}\n",
      "0.32754342431761785\n",
      "[0.3871, 0.4094, 0.4169, 0.3275]\n"
     ]
    }
   ],
   "source": [
    "idefics_en_data, idefics_en_acc = get_res_and_acc(mivqa, \"mivqa_idefics2-8b_en_*.jsonl\", parse_res)\n",
    "print(idefics_en_acc)"
   ]
  },
  {
   "cell_type": "code",
   "execution_count": 97,
   "metadata": {},
   "outputs": [
    {
     "name": "stdout",
     "output_type": "stream",
     "text": [
      "['/Users/wli/projects/foodie-dataset/data/results/mivqa_res/mivqa_Mantis-8B-Idefics2_en_prompt0.jsonl', '/Users/wli/projects/foodie-dataset/data/results/mivqa_res/mivqa_Mantis-8B-Idefics2_en_prompt1.jsonl', '/Users/wli/projects/foodie-dataset/data/results/mivqa_res/mivqa_Mantis-8B-Idefics2_en_prompt2.jsonl', '/Users/wli/projects/foodie-dataset/data/results/mivqa_res/mivqa_Mantis-8B-Idefics2_en_prompt3.jsonl']\n",
      "mivqa_Mantis-8B-Idefics2_en_prompt0.jsonl\n",
      "0.3002481389578164\n",
      "mivqa_Mantis-8B-Idefics2_en_prompt1.jsonl\n",
      "0.37965260545905705\n",
      "mivqa_Mantis-8B-Idefics2_en_prompt2.jsonl\n",
      "0.34739454094292804\n",
      "mivqa_Mantis-8B-Idefics2_en_prompt3.jsonl\n",
      "0.43672456575682383\n",
      "[0.3002, 0.3797, 0.3474, 0.4367]\n"
     ]
    }
   ],
   "source": [
    "mantis_en_data, mantis_en_acc = get_res_and_acc(mivqa, \"mivqa_Mantis-8B-Idefics2_en_prompt*.jsonl\", parse_res)\n",
    "print(mantis_en_acc)"
   ]
  },
  {
   "cell_type": "code",
   "execution_count": 101,
   "metadata": {},
   "outputs": [
    {
     "name": "stdout",
     "output_type": "stream",
     "text": [
      "['/Users/wli/projects/foodie-dataset/data/results/mivqa_res/mivqa_Qwen-VL_en_prompt0.jsonl', '/Users/wli/projects/foodie-dataset/data/results/mivqa_res/mivqa_Qwen-VL_en_prompt1.jsonl', '/Users/wli/projects/foodie-dataset/data/results/mivqa_res/mivqa_Qwen-VL_en_prompt2.jsonl', '/Users/wli/projects/foodie-dataset/data/results/mivqa_res/mivqa_Qwen-VL_en_prompt3.jsonl']\n",
      "mivqa_Qwen-VL_en_prompt0.jsonl\n",
      "0.27543424317617865\n",
      "mivqa_Qwen-VL_en_prompt1.jsonl\n",
      "0.2704714640198511\n",
      "mivqa_Qwen-VL_en_prompt2.jsonl\n",
      "0.2506203473945409\n",
      "mivqa_Qwen-VL_en_prompt3.jsonl\n",
      "can not parse ans for res:  {'response': 'Option (E)\\nPicture 5: the dish is a combination of rice, meat, vegetables, and eggs.', 'qid': '5cff42e986afc707c83ee411ae4af2e6_0'}\n",
      "can not parse ans for res:  {'response': 'Option (E)\\nPicture 5: the food is on the table', 'qid': '5cff42e986afc707c83ee411ae4af2e6_1'}\n",
      "can not parse ans for res:  {'response': 'Option (E)\\nPicture 5: that is a picture of a plate of food', 'qid': '5cff42e986afc707c83ee411ae4af2e6_2'}\n",
      "can not parse ans for res:  {'response': 'Option (E)\\nPicture 5: the dish is made of pork and is cooked in a brown sauce', 'qid': '5cff42e986afc707c83ee411ae4af2e6_0'}\n",
      "can not parse ans for res:  {'response': 'Option (E)\\nPicture 5: the dish is made of pork and is cooked in a clay pot', 'qid': '5cff42e986afc707c83ee411ae4af2e6_1'}\n",
      "can not parse ans for res:  {'response': 'Option (E)\\nPicture 5: the dish is made of pork and is cooked in a brown sauce', 'qid': '5cff42e986afc707c83ee411ae4af2e6_2'}\n",
      "can not parse ans for res:  {'response': 'Option (E)\\nPicture 5: that is a picture of a black rice dish', 'qid': '5cff42e986afc707c83ee411ae4af2e6_1'}\n",
      "can not parse ans for res:  {'response': 'Option (E)\\nPicture 5: the dish is made of black rice and garnished with cilantro', 'qid': '5cff42e986afc707c83ee411ae4af2e6_2'}\n",
      "can not parse ans for res:  {'response': 'Option (E)\\nPicture 5: the picture of the dish', 'qid': '5cff42e986afc707c83ee411ae4af2e6_0'}\n",
      "can not parse ans for res:  {'response': 'Option (E)\\nPicture 5: the dish is made of tofu and vegetables', 'qid': '5cff42e986afc707c83ee411ae4af2e6_2'}\n",
      "can not parse ans for res:  {'response': 'Option (E)\\nPicture 5: that is a bowl of noodles with vegetables and meat.', 'qid': '8a5705334b2cccd1bff5792a30f2efeb_1'}\n",
      "can not parse ans for res:  {'response': 'Option (E)\\nPicture 5: that dish is a combination of rice and vegetables.', 'qid': '8a5705334b2cccd1bff5792a30f2efeb_2'}\n",
      "can not parse ans for res:  {'response': 'Option (E)\\nPicture 5: the meat is cooked in a large pan', 'qid': '8a5705334b2cccd1bff5792a30f2efeb_0'}\n",
      "can not parse ans for res:  {'response': 'Option (E)\\nPicture 5: the meat is cooked in a large bowl', 'qid': '8a5705334b2cccd1bff5792a30f2efeb_1'}\n",
      "can not parse ans for res:  {'response': 'Option (E)\\nPicture 5: the meat is cooked in a large bowl', 'qid': '8a5705334b2cccd1bff5792a30f2efeb_2'}\n",
      "can not parse ans for res:  {'response': 'Option (E)\\nPicture 5: that bowl of noodles is the blandedst. The options are:', 'qid': 'e2cbda5cebb1ae23b462d72550b724be_0'}\n",
      "can not parse ans for res:  {'response': 'Option (E)\\nPicture 5: the bowl of noodles', 'qid': 'e2cbda5cebb1ae23b462d72550b724be_1'}\n",
      "can not parse ans for res:  {'response': 'Option (E)\\nPicture 5: the bowl of noodles with fish balls', 'qid': 'e2cbda5cebb1ae23b462d72550b724be_2'}\n",
      "can not parse ans for res:  {'response': 'Option (E)\\nPicture 5: the food is on the table', 'qid': 'e2cbda5cebb1ae23b462d72550b724be_0'}\n",
      "can not parse ans for res:  {'response': 'Option (E)\\nPicture 5: that is a picture of a plate of noodles and a plate of fried pork chops.', 'qid': 'e2cbda5cebb1ae23b462d72550b724be_1'}\n",
      "can not parse ans for res:  {'response': 'Option (E)\\nPicture 5: that is a picture of a plate of noodles and a plate of fried pork chops.', 'qid': 'e2cbda5cebb1ae23b462d72550b724be_2'}\n",
      "can not parse ans for res:  {'response': 'Option (E)\\nPicture 5: the dish is ready to eat', 'qid': 'e2cbda5cebb1ae23b462d72550b724be_2'}\n",
      "can not parse ans for res:  {'response': 'Option (E)\\nPicture 5: This is a picture of a bowl of noodles with meat.', 'qid': 'e2cbda5cebb1ae23b462d72550b724be_0'}\n",
      "can not parse ans for res:  {'response': 'Option (E)\\nPicture 5: This is a picture of a bowl of noodles with meat and broth.', 'qid': 'e2cbda5cebb1ae23b462d72550b724be_2'}\n",
      "can not parse ans for res:  {'response': \"Option (E)\\nPicture 5: That's it!\", 'qid': 'e2cbda5cebb1ae23b462d72550b724be_0'}\n",
      "can not parse ans for res:  {'response': 'Option (E)\\nPicture 5: the dish is a stir-fried dish with pork, cabbage, and carrots.', 'qid': 'e2cbda5cebb1ae23b462d72550b724be_0'}\n",
      "can not parse ans for res:  {'response': 'Option (E)\\nPicture 5: the dish is a stir-fried dish with pork, cabbage, and carrots.', 'qid': 'e2cbda5cebb1ae23b462d72550b724be_1'}\n",
      "can not parse ans for res:  {'response': 'Option (E)\\nPicture 5: This is a picture of a bowl of stir-fried vegetables.', 'qid': 'e2cbda5cebb1ae23b462d72550b724be_2'}\n",
      "can not parse ans for res:  {'response': 'Option (E)\\nPicture 5: This is a picture of a bowl of noodles with a fried egg on top.', 'qid': 'e2cbda5cebb1ae23b462d72550b724be_0'}\n",
      "can not parse ans for res:  {'response': 'Option (E)\\nPicture 5: the bowl of noodles', 'qid': 'e2cbda5cebb1ae23b462d72550b724be_1'}\n",
      "can not parse ans for res:  {'response': 'Option (E)\\nPicture 5: the soup is made with pork and vegetables', 'qid': 'e2cbda5cebb1ae23b462d72550b724be_2'}\n",
      "can not parse ans for res:  {'response': 'Option (E)\\nPicture 5: the noodles are wrapped in plastic', 'qid': 'e2cbda5cebb1ae23b462d72550b724be_0'}\n",
      "can not parse ans for res:  {'response': 'Option (E)\\nPicture 5: the noodles are wrapped in plastic', 'qid': 'e2cbda5cebb1ae23b462d72550b724be_1'}\n",
      "can not parse ans for res:  {'response': 'Option (E)\\nPicture 5: the noodles are wrapped in plastic', 'qid': 'e2cbda5cebb1ae23b462d72550b724be_2'}\n",
      "can not parse ans for res:  {'response': 'Option (E)\\nPicture 5: that is a picture of a plate of noodles with meat and vegetables.', 'qid': 'e2cbda5cebb1ae23b462d72550b724be_0'}\n",
      "can not parse ans for res:  {'response': 'Option (E)\\nPicture 5: that is a picture of a plate of noodles with beef and vegetables.', 'qid': 'e2cbda5cebb1ae23b462d72550b724be_1'}\n",
      "can not parse ans for res:  {'response': 'Option (E)\\nPicture 5: that is a picture of a plate of noodles with meat and vegetables.', 'qid': 'e2cbda5cebb1ae23b462d72550b724be_2'}\n",
      "can not parse ans for res:  {'response': 'Option (E)', 'qid': 'e2cbda5cebb1ae23b462d72550b724be_0'}\n",
      "can not parse ans for res:  {'response': 'Option (E)', 'qid': 'e2cbda5cebb1ae23b462d72550b724be_1'}\n",
      "can not parse ans for res:  {'response': 'Option (E)', 'qid': 'e2cbda5cebb1ae23b462d72550b724be_2'}\n",
      "can not parse ans for res:  {'response': 'Option (E)\\nPicture 5: that soup is very yellow', 'qid': 'e2cbda5cebb1ae23b462d72550b724be_0'}\n",
      "can not parse ans for res:  {'response': 'Option (E)\\nPicture 5: the soup is in a white bowl', 'qid': 'e2cbda5cebb1ae23b462d72550b724be_1'}\n",
      "can not parse ans for res:  {'response': 'Option (E)\\nPicture 5: the soup is in a white bowl', 'qid': 'e2cbda5cebb1ae23b462d72550b724be_2'}\n",
      "can not parse ans for res:  {'response': 'Option (E)', 'qid': 'b27383760f2fc936edec58383c7a83c5_1'}\n",
      "can not parse ans for res:  {'response': 'Option (E)', 'qid': 'b27383760f2fc936edec58383c7a83c5_2'}\n",
      "can not parse ans for res:  {'response': 'Option (E)\\nPicture 5: the steamed buns', 'qid': 'b27383760f2fc936edec58383c7a83c5_0'}\n",
      "can not parse ans for res:  {'response': 'Option (E)\\nPicture 5: the steamed buns', 'qid': 'b27383760f2fc936edec58383c7a83c5_1'}\n",
      "can not parse ans for res:  {'response': 'Option (E)\\nPicture 5: the steamed buns with sesame seeds', 'qid': 'b27383760f2fc936edec58383c7a83c5_2'}\n",
      "can not parse ans for res:  {'response': 'Option (E)\\nPicture 5: that soup', 'qid': 'b4eda816fe0f078398ea6ae1f8f6b58e_2'}\n",
      "can not parse ans for res:  {'response': 'Option (E)\\nPicture 5: the raw meat ingredients for the hot pot', 'qid': 'b4eda816fe0f078398ea6ae1f8f6b58e_1'}\n",
      "can not parse ans for res:  {'response': 'Option (E)\\nPicture 5: that looks like a bowl of spinach soup with dumplings', 'qid': 'b4eda816fe0f078398ea6ae1f8f6b58e_0'}\n",
      "can not parse ans for res:  {'response': 'Option (E)\\nPicture 5: that looks like a bowl of spinach soup with dumplings', 'qid': 'b4eda816fe0f078398ea6ae1f8f6b58e_1'}\n",
      "can not parse ans for res:  {'response': 'Option (E)\\nPicture 5: that is a picture of a soup', 'qid': 'b4eda816fe0f078398ea6ae1f8f6b58e_2'}\n",
      "can not parse ans for res:  {'response': \"Option (E)\\nPicture 5: That's a beef noodle soup.\", 'qid': '44cc119b4871c1a0657e1db277cbccc2_1'}\n",
      "can not parse ans for res:  {'response': 'Option (E)\\nPicture 5: the food is cooked in a wok', 'qid': '44cc119b4871c1a0657e1db277cbccc2_0'}\n",
      "can not parse ans for res:  {'response': 'Option (E)\\nPicture 5: the fried peanuts in the wok', 'qid': '44cc119b4871c1a0657e1db277cbccc2_1'}\n",
      "can not parse ans for res:  {'response': 'Option (E)\\nPicture 5: the food is cooked in a wok', 'qid': '44cc119b4871c1a0657e1db277cbccc2_2'}\n",
      "can not parse ans for res:  {'response': 'Option (E)\\nPicture 5: the dish is ready to be eaten', 'qid': '44cc119b4871c1a0657e1db277cbccc2_0'}\n",
      "can not parse ans for res:  {'response': 'Option (E)\\nPicture 5: the dish is ready to be eaten', 'qid': '44cc119b4871c1a0657e1db277cbccc2_1'}\n",
      "can not parse ans for res:  {'response': 'Option (E)\\nPicture 5: the dish is ready to be eaten', 'qid': '44cc119b4871c1a0657e1db277cbccc2_2'}\n",
      "can not parse ans for res:  {'response': 'Option (E)\\nPicture 5: the dish is ready to eat', 'qid': '44cc119b4871c1a0657e1db277cbccc2_1'}\n",
      "can not parse ans for res:  {'response': 'Option (E)\\nPicture 5: that is a picture of a plate of food', 'qid': '44cc119b4871c1a0657e1db277cbccc2_2'}\n",
      "can not parse ans for res:  {'response': 'Option (E)\\nPicture 5: the noodles that looks like the blandest', 'qid': '048af6af720970b5d43d69d9e0ec45b7_0'}\n",
      "can not parse ans for res:  {'response': 'Option (E)\\nPicture 5: the noodles are in a bowl with chili and green onions', 'qid': '048af6af720970b5d43d69d9e0ec45b7_1'}\n",
      "can not parse ans for res:  {'response': 'Option (E)\\nPicture 5: the noodles are in a bowl with chili and green onions', 'qid': '048af6af720970b5d43d69d9e0ec45b7_2'}\n",
      "can not parse ans for res:  {'response': 'Option (E)\\nPicture 5: the noodles are in a bowl with chili and green onions', 'qid': '44cc119b4871c1a0657e1db277cbccc2_0'}\n",
      "can not parse ans for res:  {'response': 'Option (E)\\nPicture 5: that is a picture of a vegetable dish', 'qid': '6debe03617e03b42b0ef41eec47f3e02_0'}\n",
      "can not parse ans for res:  {'response': 'Option (E)\\nPicture 5: that is a picture of a vegetable dish', 'qid': '6debe03617e03b42b0ef41eec47f3e02_2'}\n",
      "can not parse ans for res:  {'response': 'Option (E)\\nPicture 5: This is a picture of a rice dish with meat and vegetables.', 'qid': '6debe03617e03b42b0ef41eec47f3e02_1'}\n",
      "can not parse ans for res:  {'response': 'Option (E)\\nPicture 5: This is a picture of a rice dish with meat and vegetables.', 'qid': '6debe03617e03b42b0ef41eec47f3e02_2'}\n",
      "can not parse ans for res:  {'response': 'Option (E)\\nPicture 5: that soup is made with seafood and vegetables', 'qid': '6debe03617e03b42b0ef41eec47f3e02_1'}\n",
      "can not parse ans for res:  {'response': 'Option (E)\\nPicture 5: that looks like a bowl of soup', 'qid': '6debe03617e03b42b0ef41eec47f3e02_2'}\n",
      "can not parse ans for res:  {'response': 'Option (E)\\nPicture 5: the noodles are cooked and ready to eat', 'qid': '6debe03617e03b42b0ef41eec47f3e02_0'}\n",
      "can not parse ans for res:  {'response': 'Option (E)\\nPicture 5: that is a picture of a plate of food', 'qid': '6debe03617e03b42b0ef41eec47f3e02_0'}\n",
      "can not parse ans for res:  {'response': 'Option (E)\\nPicture 5: the dish is ready to be eaten', 'qid': '6debe03617e03b42b0ef41eec47f3e02_1'}\n",
      "can not parse ans for res:  {'response': 'Option (E)\\nPicture 5: the soup is in a white bowl', 'qid': '6debe03617e03b42b0ef41eec47f3e02_0'}\n",
      "can not parse ans for res:  {'response': 'Option (E)\\nPicture 5: the soup is in a white bowl', 'qid': '6debe03617e03b42b0ef41eec47f3e02_2'}\n",
      "can not parse ans for res:  {'response': 'Option (E)\\nPicture 5: that', 'qid': '906b5a3d1468dedf30e4de0226aedd52_2'}\n",
      "can not parse ans for res:  {'response': 'Option (E)\\nPicture 5: the rice is cooked with pork and beans', 'qid': '6debe03617e03b42b0ef41eec47f3e02_0'}\n",
      "can not parse ans for res:  {'response': 'Option (E)\\nPicture 5: the rice is cooked with pork and beans', 'qid': '6debe03617e03b42b0ef41eec47f3e02_2'}\n",
      "can not parse ans for res:  {'response': 'Option (E)\\nPicture 5: that is a picture of a dish', 'qid': '6debe03617e03b42b0ef41eec47f3e02_0'}\n",
      "can not parse ans for res:  {'response': 'Option (E)\\nPicture 5: that is a picture of a dish', 'qid': '6debe03617e03b42b0ef41eec47f3e02_1'}\n",
      "can not parse ans for res:  {'response': 'Option (E)\\nPicture 5: the dish is made of black fungus and cucumber', 'qid': '6debe03617e03b42b0ef41eec47f3e02_2'}\n",
      "can not parse ans for res:  {'response': 'Option (E)\\nPicture 5: that is a picture of a dish', 'qid': '6debe03617e03b42b0ef41eec47f3e02_2'}\n",
      "can not parse ans for res:  {'response': 'Option (E)\\nPicture 5: the dish is a white plate with a blue rim and a picture of a fish. The dish is filled with a brown sauce and pieces of chicken.', 'qid': '6debe03617e03b42b0ef41eec47f3e02_0'}\n",
      "can not parse ans for res:  {'response': 'Option (E)\\nPicture 5: the dish is a white plate with a blue rim and a picture of a fish. The dish is filled with a brown sauce and pieces of chicken.', 'qid': '6debe03617e03b42b0ef41eec47f3e02_1'}\n",
      "can not parse ans for res:  {'response': 'Option (E)\\nPicture 5: the dish is a white plate with a blue rim and a picture of a fish. The dish is filled with a brown sauce and pieces of chicken.', 'qid': '6debe03617e03b42b0ef41eec47f3e02_2'}\n",
      "can not parse ans for res:  {'response': 'Option (E)\\nPicture 5: the dish is ready to be eaten', 'qid': 'b04c37fb905c9a6035f041441949b234_2'}\n",
      "can not parse ans for res:  {'response': 'Option (E)\\nPicture 5: the duck', 'qid': 'b04c37fb905c9a6035f041441949b234_1'}\n",
      "can not parse ans for res:  {'response': 'Option (E)\\nPicture 5: that is a picture of a bowl of noodles with a side of soup and a side of shrimp.', 'qid': 'b04c37fb905c9a6035f041441949b234_0'}\n",
      "can not parse ans for res:  {'response': 'Option (E)\\nPicture 5: the dish is served on a wooden tray', 'qid': 'b04c37fb905c9a6035f041441949b234_1'}\n",
      "can not parse ans for res:  {'response': 'Option (E)\\nPicture 5: the dish is served on a wooden tray', 'qid': 'b04c37fb905c9a6035f041441949b234_2'}\n",
      "can not parse ans for res:  {'response': \"Option (E)\\nPicture 5: That's a hot pot of soup.\", 'qid': '6c5b20a60e51663848761ebfac4f65cc_2'}\n",
      "can not parse ans for res:  {'response': 'Option (E)\\nPicture 5: that is a bowl of rice noodles with beef', 'qid': '6c5b20a60e51663848761ebfac4f65cc_1'}\n",
      "can not parse ans for res:  {'response': 'Option (E)\\nPicture 5: the dish is placed on a wooden table', 'qid': '6c5b20a60e51663848761ebfac4f65cc_2'}\n",
      "can not parse ans for res:  {'response': 'Option (E)\\nPicture 5: the beef noodle dish', 'qid': '6c5b20a60e51663848761ebfac4f65cc_0'}\n",
      "can not parse ans for res:  {'response': 'Option (E)\\nPicture 5: the beef noodle dish', 'qid': '6c5b20a60e51663848761ebfac4f65cc_1'}\n",
      "can not parse ans for res:  {'response': 'Option (E)\\nPicture 5: the soup is made of pork, mushrooms, and noodles.', 'qid': '6c5b20a60e51663848761ebfac4f65cc_0'}\n",
      "can not parse ans for res:  {'response': 'Option (E)\\nPicture 5: the soup is in a white bowl with a blue rim.', 'qid': '6c5b20a60e51663848761ebfac4f65cc_1'}\n",
      "can not parse ans for res:  {'response': 'Option (E)\\nPicture 5: the soup is in a white bowl with a blue rim.', 'qid': '6c5b20a60e51663848761ebfac4f65cc_2'}\n",
      "can not parse ans for res:  {'response': 'Option (E)\\nPicture 5: the dish is a spicy fish', 'qid': '6c5b20a60e51663848761ebfac4f65cc_0'}\n",
      "can not parse ans for res:  {'response': 'Option (E)\\nPicture 5: the dish is a fish with a spicy sauce', 'qid': '6c5b20a60e51663848761ebfac4f65cc_2'}\n",
      "can not parse ans for res:  {'response': 'Option (E)\\nPicture 5: the dish is ready to be eaten', 'qid': '6f5fb8a36831af18e6d1e31f906b51d4_0'}\n",
      "can not parse ans for res:  {'response': 'Option (E)\\nPicture 5: the dish is ready to be eaten', 'qid': '6f5fb8a36831af18e6d1e31f906b51d4_1'}\n",
      "can not parse ans for res:  {'response': 'Option (E)\\nPicture 5: that dish contains the most dried chili peppers', 'qid': '6f5fb8a36831af18e6d1e31f906b51d4_2'}\n",
      "can not parse ans for res:  {'response': 'Option (E)\\nPicture 5: the dish is spicy and sour', 'qid': '6f5fb8a36831af18e6d1e31f906b51d4_0'}\n",
      "can not parse ans for res:  {'response': 'Option (E)\\nPicture 5: This is a spicy dish with chicken and chili peppers.', 'qid': '6f5fb8a36831af18e6d1e31f906b51d4_2'}\n",
      "can not parse ans for res:  {'response': 'Option (E)\\nPicture 5: the dish is made of pork, mushrooms, and onions.', 'qid': '6f5fb8a36831af18e6d1e31f906b51d4_0'}\n",
      "can not parse ans for res:  {'response': 'Option (E)\\nPicture 5:', 'qid': '6f5fb8a36831af18e6d1e31f906b51d4_2'}\n",
      "can not parse ans for res:  {'response': 'Option (E)\\nPicture 5: the dish is served on a white plate', 'qid': '6f5fb8a36831af18e6d1e31f906b51d4_0'}\n",
      "can not parse ans for res:  {'response': 'Option (E) Picture 5: The pork belly is cooked and ready to serve.', 'qid': '6f5fb8a36831af18e6d1e31f906b51d4_0'}\n",
      "can not parse ans for res:  {'response': 'Option (E) Picture 5: the meat is cooked and ready to serve', 'qid': '6f5fb8a36831af18e6d1e31f906b51d4_2'}\n",
      "can not parse ans for res:  {'response': 'Option (E) Picture 5: that is a specialty of Sichuan or Hunan?', 'qid': '6f5fb8a36831af18e6d1e31f906b51d4_0'}\n",
      "can not parse ans for res:  {'response': 'Option (E)', 'qid': '6f5fb8a36831af18e6d1e31f906b51d4_1'}\n",
      "can not parse ans for res:  {'response': 'Option (E)\\nPicture 5: the dish is made of jelly and jellyfish', 'qid': '6f5fb8a36831af18e6d1e31f906b51d4_0'}\n",
      "can not parse ans for res:  {'response': 'Option (E)\\nPicture 5: the dish is made of jelly and jellyfish', 'qid': '6f5fb8a36831af18e6d1e31f906b51d4_1'}\n",
      "can not parse ans for res:  {'response': 'Option (E)\\nPicture 5: This is a picture of a spicy chicken salad.', 'qid': '6f5fb8a36831af18e6d1e31f906b51d4_0'}\n",
      "can not parse ans for res:  {'response': \"Option (E)\\nPicture 5: That's a spicy chicken salad.\", 'qid': '6f5fb8a36831af18e6d1e31f906b51d4_1'}\n",
      "can not parse ans for res:  {'response': 'Option (E)\\nPicture 5: the dish is ready to be eaten', 'qid': '6f5fb8a36831af18e6d1e31f906b51d4_0'}\n",
      "can not parse ans for res:  {'response': 'Option (E)\\nPicture 5: the dish is ready to eat', 'qid': '6f5fb8a36831af18e6d1e31f906b51d4_0'}\n",
      "can not parse ans for res:  {'response': 'Option (E)\\nPicture 5: that dish is made with green peas and mushrooms', 'qid': '6f5fb8a36831af18e6d1e31f906b51d4_0'}\n",
      "can not parse ans for res:  {'response': 'Option (E)\\nPicture 5: the dish is made of green peas, mushrooms, and onions', 'qid': '6f5fb8a36831af18e6d1e31f906b51d4_1'}\n",
      "can not parse ans for res:  {'response': 'Option (E)\\nPicture 5: that dish contains a lot of greens', 'qid': '6f5fb8a36831af18e6d1e31f906b51d4_2'}\n",
      "can not parse ans for res:  {'response': 'Option (E)\\nPicture 5: that is a beef dish', 'qid': '6f5fb8a36831af18e6d1e31f906b51d4_0'}\n",
      "can not parse ans for res:  {'response': 'Option (E)\\nPicture 5: the dish is a combination of beef, mushrooms, and peppers.', 'qid': '6f5fb8a36831af18e6d1e31f906b51d4_1'}\n",
      "can not parse ans for res:  {'response': 'Option (E)\\nPicture 5: the dish is made of rice noodles and pork', 'qid': '6f5fb8a36831af18e6d1e31f906b51d4_1'}\n",
      "can not parse ans for res:  {'response': 'Option (E)\\nPicture 5: the soup is in a pot', 'qid': '6f5fb8a36831af18e6d1e31f906b51d4_0'}\n",
      "can not parse ans for res:  {'response': 'Option (E)\\nPicture 5: the meat is placed on a wooden plate', 'qid': '27bd1d7663eafe5ff068ab349885c221_0'}\n",
      "can not parse ans for res:  {'response': 'Option (E)\\nPicture 5: that is a beef dish', 'qid': '27bd1d7663eafe5ff068ab349885c221_2'}\n",
      "can not parse ans for res:  {'response': 'Option (E) Picture 5: the food is cooked in a pan', 'qid': '27bd1d7663eafe5ff068ab349885c221_0'}\n",
      "can not parse ans for res:  {'response': 'Option (E) Picture 5: the rice is cooked in a wok', 'qid': '27bd1d7663eafe5ff068ab349885c221_2'}\n",
      "can not parse ans for res:  {'response': 'Option (E) Picture 5: the food is on a plate', 'qid': '27bd1d7663eafe5ff068ab349885c221_1'}\n",
      "can not parse ans for res:  {'response': 'Option (E)\\nPicture 5:', 'qid': '8fe547e3165c8929ae262e6426d58fbe_0'}\n",
      "can not parse ans for res:  {'response': 'Option (E)\\nPicture 5: the dessert is in a plastic container', 'qid': '8fe547e3165c8929ae262e6426d58fbe_1'}\n",
      "can not parse ans for res:  {'response': 'Option (E)\\nPicture 5: the food is in a white bowl', 'qid': '8fe547e3165c8929ae262e6426d58fbe_0'}\n",
      "can not parse ans for res:  {'response': 'Option (E)\\nPicture 5: the food is in a white bowl', 'qid': '8fe547e3165c8929ae262e6426d58fbe_2'}\n",
      "can not parse ans for res:  {'response': 'Option (E)\\nPicture 5: the seafood platter', 'qid': '7bc50d11378e48af68fb6ff61dbdc5f6_0'}\n",
      "can not parse ans for res:  {'response': 'Option (E)\\nPicture 5: the seafood platter', 'qid': '7bc50d11378e48af68fb6ff61dbdc5f6_2'}\n",
      "can not parse ans for res:  {'response': 'Option (E)\\nPicture 5: the dish is made of shrimp and vegetables', 'qid': '7bc50d11378e48af68fb6ff61dbdc5f6_0'}\n",
      "can not parse ans for res:  {'response': 'Option (E)\\nPicture 5: the dish is made of meat and vegetables', 'qid': '7bc50d11378e48af68fb6ff61dbdc5f6_1'}\n",
      "can not parse ans for res:  {'response': 'Option (E)\\nPicture 5: that is a picture of a bowl of salted fish', 'qid': '7bc50d11378e48af68fb6ff61dbdc5f6_0'}\n",
      "can not parse ans for res:  {'response': 'Option (E)\\nPicture 5: that is a picture of a bowl of salted fish', 'qid': '7bc50d11378e48af68fb6ff61dbdc5f6_1'}\n",
      "can not parse ans for res:  {'response': 'Option (E)\\nPicture 5: that is a picture of a bowl of salted fish', 'qid': '7bc50d11378e48af68fb6ff61dbdc5f6_2'}\n",
      "can not parse ans for res:  {'response': 'Option (E)\\nPicture 5: the picture of the dish', 'qid': '7bc50d11378e48af68fb6ff61dbdc5f6_1'}\n",
      "can not parse ans for res:  {'response': 'Option (E)\\nPicture 5: The picture shows a large bowl of seafood soup.', 'qid': '7bc50d11378e48af68fb6ff61dbdc5f6_2'}\n",
      "can not parse ans for res:  {'response': 'Option (E)\\nPicture 5: the soup is in a brown bowl', 'qid': '7bc50d11378e48af68fb6ff61dbdc5f6_0'}\n",
      "can not parse ans for res:  {'response': 'Option (E)\\nPicture 5: the dish is ready to be eaten', 'qid': '7bc50d11378e48af68fb6ff61dbdc5f6_1'}\n",
      "can not parse ans for res:  {'response': 'Option (E)\\nPicture 5: the dish is ready to be eaten', 'qid': '7bc50d11378e48af68fb6ff61dbdc5f6_2'}\n",
      "can not parse ans for res:  {'response': 'Option (E)\\nPicture 5: the soup is in a black bowl', 'qid': '7bc50d11378e48af68fb6ff61dbdc5f6_0'}\n",
      "can not parse ans for res:  {'response': 'Option (E)\\nPicture 5: the soup is in a black bowl', 'qid': '7bc50d11378e48af68fb6ff61dbdc5f6_1'}\n",
      "can not parse ans for res:  {'response': 'Option (E)\\nPicture 5: the soup', 'qid': '7bc50d11378e48af68fb6ff61dbdc5f6_2'}\n",
      "can not parse ans for res:  {'response': 'Option (E)\\nPicture 5: the dish is spicy and sour', 'qid': '7bc50d11378e48af68fb6ff61dbdc5f6_1'}\n",
      "can not parse ans for res:  {'response': 'Option (E)\\nPicture 5: the dish is in a red and white bowl', 'qid': '7bc50d11378e48af68fb6ff61dbdc5f6_2'}\n",
      "can not parse ans for res:  {'response': 'Option (E)', 'qid': 'ecfdcfdea82364ce147a66235514a853_0'}\n",
      "can not parse ans for res:  {'response': 'Option (E)\\nPicture 5: the meat skewers are cooked and ready to eat', 'qid': 'ecfdcfdea82364ce147a66235514a853_0'}\n",
      "can not parse ans for res:  {'response': 'Option (E)\\nPicture 5: the meat is cooked and ready to eat', 'qid': 'ecfdcfdea82364ce147a66235514a853_1'}\n",
      "can not parse ans for res:  {'response': 'Option (E)\\nPicture 5: the meat is cooked and ready to eat', 'qid': 'ecfdcfdea82364ce147a66235514a853_2'}\n",
      "can not parse ans for res:  {'response': 'Option (E)', 'qid': 'a98c9f7c2e61856eb97d46cbaaa1e4f0_0'}\n",
      "can not parse ans for res:  {'response': 'Option (E)', 'qid': 'a98c9f7c2e61856eb97d46cbaaa1e4f0_1'}\n",
      "can not parse ans for res:  {'response': \"Option (E)\\nPicture 5: that's a hotpot\", 'qid': 'a98c9f7c2e61856eb97d46cbaaa1e4f0_0'}\n",
      "can not parse ans for res:  {'response': \"Option (E)\\nPicture 5: that's a picture of a hot pot\", 'qid': 'a98c9f7c2e61856eb97d46cbaaa1e4f0_1'}\n",
      "can not parse ans for res:  {'response': 'Option (E)\\nPicture 5: that is a spicy hot pot', 'qid': 'a98c9f7c2e61856eb97d46cbaaa1e4f0_2'}\n",
      "can not parse ans for res:  {'response': 'Option (E)\\nPicture 5: the hotpot is ready to be eaten', 'qid': 'a98c9f7c2e61856eb97d46cbaaa1e4f0_0'}\n",
      "can not parse ans for res:  {'response': 'Option (E)\\nPicture 5: the table is full of food', 'qid': 'a98c9f7c2e61856eb97d46cbaaa1e4f0_1'}\n",
      "can not parse ans for res:  {'response': 'Option (E)\\nPicture 5: that is a picture of a hotpot', 'qid': '314e7837029070281237ea3d01a9c568_0'}\n",
      "can not parse ans for res:  {'response': 'Option (E)\\nPicture 5: that is a picture of a hotpot', 'qid': '314e7837029070281237ea3d01a9c568_1'}\n",
      "can not parse ans for res:  {'response': 'Option (E)\\nPicture 5: the dish is a combination of chicken and vegetables', 'qid': '314e7837029070281237ea3d01a9c568_0'}\n",
      "can not parse ans for res:  {'response': 'Option (E)\\nPicture 5: that is a picture of a plate of Sichuan chicken', 'qid': '314e7837029070281237ea3d01a9c568_1'}\n",
      "can not parse ans for res:  {'response': 'Option (E)\\nPicture 5: that is a lot of chili', 'qid': 'e3b4824da9ea4d092da15d78b24da7e7_0'}\n",
      "can not parse ans for res:  {'response': 'Option (E)\\nPicture 5: the dish is ready to be eaten', 'qid': 'e3b4824da9ea4d092da15d78b24da7e7_2'}\n",
      "can not parse ans for res:  {'response': 'Option (E)\\nPicture 5: the dish is ready to be eaten', 'qid': 'e3b4824da9ea4d092da15d78b24da7e7_0'}\n",
      "can not parse ans for res:  {'response': 'Option (E)\\nPicture 5: the dish is ready to be eaten', 'qid': 'e3b4824da9ea4d092da15d78b24da7e7_1'}\n",
      "can not parse ans for res:  {'response': 'Option (E)\\nPicture 5: the dish is ready to be eaten', 'qid': 'e3b4824da9ea4d092da15d78b24da7e7_2'}\n",
      "can not parse ans for res:  {'response': 'Option (E)\\nPicture 5: the table is set with a bowl of rice, a bowl of soup, a bowl of meat, a bowl of vegetables, a bowl of sauce, a bottle of oil, a bottle of vinegar, a bottle of soy sauce, a bottle of chili sauce, a bottle of sesame oil, a bottle of garlic sauce, a bottle of ginger sauce, a bottle of pepper sauce, a bottle of salt, a bottle of chili sauce, a bottle of chili sauce, a bottle of chili sauce, a bottle of chili sauce, a bottle of chili sauce, a bottle of chili sauce, a bottle of chili sauce, a bottle of chili sauce, a bottle of chili sauce, a bottle of chili sauce, a bottle of chili sauce, a bottle of chili sauce, a bottle of chili sauce, a bottle of chili sauce, a bottle of chili sauce, a bottle of chili sauce, a bottle of chili sauce, a bottle of chili sauce, a bottle of chili sauce, a bottle of chili sauce, a bottle of chili sauce, a bottle of chili sauce, a bottle of chili sauce, a bottle of chili sauce, a bottle of chili sauce, a bottle of chili sauce, a bottle of chili sauce, a bottle of chili sauce, a bottle of chili sauce, a bottle of chili sauce, a bottle of chili sauce, a bottle of chili sauce, a bottle of chili sauce, a bottle of chili sauce, a bottle of chili sauce, a bottle of chili sauce, a bottle of chili sauce, a bottle of chili sauce, a bottle of chili sauce, a bottle of chili sauce, a bottle of chili sauce, a bottle of chili sauce, a bottle of chili sauce, a bottle of chili sauce, a bottle of chili sauce, a bottle of chili sauce, a bottle of chili sauce, a bottle of chili sauce, a bottle of chili sauce, a bottle of chili sauce, a bottle of chili sauce, a bottle of chili sauce, a bottle of chili sauce, a bottle of chili sauce, a bottle of chili sauce, a bottle of chili sauce, a bottle of chili sauce, a bottle of chili sauce, a bottle of chili sauce, a bottle of chili sauce, a bottle of chili sauce, a bottle of chili sauce, a bottle of chili sauce, a bottle of chili sauce, a bottle of chili sauce, a bottle of chili sauce, a bottle of chili sauce, a bottle of chili sauce, a bottle of', 'qid': '314e7837029070281237ea3d01a9c568_0'}\n",
      "can not parse ans for res:  {'response': \"Option (E)\\nPicture 5: That's it!\", 'qid': '314e7837029070281237ea3d01a9c568_1'}\n",
      "can not parse ans for res:  {'response': 'Option (E)\\nPicture 5: the table is set with a bowl of rice, a bowl of soup, a bowl of meat, a bowl of vegetables, a bowl of sauce, a bottle of oil, a bottle of vinegar, a bottle of soy sauce, a bottle of chili sauce, a bottle of sesame oil, a bottle of garlic sauce, a bottle of ginger sauce, a bottle of pepper sauce, a bottle of salt, a bottle of chili sauce, a bottle of chili sauce, a bottle of chili sauce, a bottle of chili sauce, a bottle of chili sauce, a bottle of chili sauce, a bottle of chili sauce, a bottle of chili sauce, a bottle of chili sauce, a bottle of chili sauce, a bottle of chili sauce, a bottle of chili sauce, a bottle of chili sauce, a bottle of chili sauce, a bottle of chili sauce, a bottle of chili sauce, a bottle of chili sauce, a bottle of chili sauce, a bottle of chili sauce, a bottle of chili sauce, a bottle of chili sauce, a bottle of chili sauce, a bottle of chili sauce, a bottle of chili sauce, a bottle of chili sauce, a bottle of chili sauce, a bottle of chili sauce, a bottle of chili sauce, a bottle of chili sauce, a bottle of chili sauce, a bottle of chili sauce, a bottle of chili sauce, a bottle of chili sauce, a bottle of chili sauce, a bottle of chili sauce, a bottle of chili sauce, a bottle of chili sauce, a bottle of chili sauce, a bottle of chili sauce, a bottle of chili sauce, a bottle of chili sauce, a bottle of chili sauce, a bottle of chili sauce, a bottle of chili sauce, a bottle of chili sauce, a bottle of chili sauce, a bottle of chili sauce, a bottle of chili sauce, a bottle of chili sauce, a bottle of chili sauce, a bottle of chili sauce, a bottle of chili sauce, a bottle of chili sauce, a bottle of chili sauce, a bottle of chili sauce, a bottle of chili sauce, a bottle of chili sauce, a bottle of chili sauce, a bottle of chili sauce, a bottle of chili sauce, a bottle of chili sauce, a bottle of chili sauce, a bottle of chili sauce, a bottle of chili sauce, a bottle of chili sauce, a bottle of chili sauce, a bottle of chili sauce, a bottle of chili sauce, a bottle of', 'qid': '314e7837029070281237ea3d01a9c568_2'}\n",
      "can not parse ans for res:  {'response': 'Option (E)\\nPicture 5: the dish is ready to be served', 'qid': '752e684973fa9134c2401be9e6683ce0_0'}\n",
      "can not parse ans for res:  {'response': 'Option (E)\\nPicture 5: the dish is ready to be eaten', 'qid': '752e684973fa9134c2401be9e6683ce0_2'}\n",
      "can not parse ans for res:  {'response': 'Option (E)', 'qid': '314e7837029070281237ea3d01a9c568_0'}\n",
      "can not parse ans for res:  {'response': 'Option (E)\\nPicture 5: the dish is spicy and sour', 'qid': '314e7837029070281237ea3d01a9c568_1'}\n",
      "can not parse ans for res:  {'response': 'Option (E)\\nPicture 5: the soup is in a metal bowl', 'qid': '752e684973fa9134c2401be9e6683ce0_0'}\n",
      "can not parse ans for res:  {'response': 'Option (E)\\nPicture 5: The hotpot is made of beef, pork, and vegetables.', 'qid': '752e684973fa9134c2401be9e6683ce0_2'}\n",
      "can not parse ans for res:  {'response': 'Option (E)\\nPicture 5: the fried bean', 'qid': '67af14fa6163beb70628dfdc41999860_0'}\n",
      "can not parse ans for res:  {'response': 'Option (E)\\nPicture 5: the fried bean', 'qid': '67af14fa6163beb70628dfdc41999860_1'}\n",
      "can not parse ans for res:  {'response': 'Option (E)\\nPicture 5: the dish is placed on a black plate', 'qid': '67af14fa6163beb70628dfdc41999860_0'}\n",
      "can not parse ans for res:  {'response': 'Option (E)\\nPicture 5: that is a picture of a dish', 'qid': '67af14fa6163beb70628dfdc41999860_1'}\n",
      "can not parse ans for res:  {'response': 'Option (E)\\nPicture 5: that is a picture of a dish', 'qid': '67af14fa6163beb70628dfdc41999860_2'}\n",
      "can not parse ans for res:  {'response': 'Option (E)\\nPicture 5: the soup is in a white bowl, with a piece of meat and noodles, and a piece of fish on the side.', 'qid': '67af14fa6163beb70628dfdc41999860_0'}\n",
      "can not parse ans for res:  {'response': 'Option (E)\\nPicture 5: the soup is in a bowl', 'qid': '67af14fa6163beb70628dfdc41999860_1'}\n",
      "can not parse ans for res:  {'response': 'Option (E)\\nPicture 5: the soup is made with pork and noodles', 'qid': '67af14fa6163beb70628dfdc41999860_2'}\n",
      "can not parse ans for res:  {'response': 'Option (E)\\nPicture 5: the noodles are in a white plate', 'qid': '67af14fa6163beb70628dfdc41999860_0'}\n",
      "can not parse ans for res:  {'response': 'Option (E)\\nPicture 5: that is a picture of a plate of noodles with beef and chives.', 'qid': '67af14fa6163beb70628dfdc41999860_2'}\n",
      "can not parse ans for res:  {'response': 'Option (E)\\nPicture 5: the dish is ready to eat', 'qid': '316ee2c7ac04c1a3e636175a8d42c6ec_0'}\n",
      "can not parse ans for res:  {'response': 'Option (E)\\nPicture 5: the dish is ready to be eaten', 'qid': '316ee2c7ac04c1a3e636175a8d42c6ec_1'}\n",
      "can not parse ans for res:  {'response': 'Option (E)\\nPicture 5: the dish is ready to be eaten', 'qid': '316ee2c7ac04c1a3e636175a8d42c6ec_2'}\n",
      "can not parse ans for res:  {'response': 'Option (E)\\nPicture 5: the food is on the table', 'qid': '4157f69dc017b86464e2279ea3948f2f_1'}\n",
      "can not parse ans for res:  {'response': 'Option (E)\\nPicture 5: that is a picture of a plate of food', 'qid': '4157f69dc017b86464e2279ea3948f2f_2'}\n",
      "can not parse ans for res:  {'response': 'Option (E)\\nPicture 5: that is a picture of a plate of food', 'qid': '4157f69dc017b86464e2279ea3948f2f_0'}\n",
      "can not parse ans for res:  {'response': 'Option (E)\\nPicture 5: that is a picture of a plate of food', 'qid': '4157f69dc017b86464e2279ea3948f2f_1'}\n",
      "can not parse ans for res:  {'response': 'Option (E)\\nPicture 5: the dish is a white plate with a brown sauce and a few pieces of chicken', 'qid': '4157f69dc017b86464e2279ea3948f2f_2'}\n",
      "can not parse ans for res:  {'response': 'Option (E)\\nPicture 5: the food is in a red and white container', 'qid': '4157f69dc017b86464e2279ea3948f2f_0'}\n",
      "can not parse ans for res:  {'response': 'Option (E)\\nPicture 5: the display of a variety of pastries', 'qid': '4157f69dc017b86464e2279ea3948f2f_1'}\n",
      "can not parse ans for res:  {'response': 'Option (E)\\nPicture 5: a display case filled with cookies', 'qid': '4157f69dc017b86464e2279ea3948f2f_2'}\n",
      "can not parse ans for res:  {'response': 'Option (E)\\nPicture 5: that is a picture of a fish dish', 'qid': '4157f69dc017b86464e2279ea3948f2f_0'}\n",
      "can not parse ans for res:  {'response': 'Option (E)\\nPicture 5: the fish is cut into pieces and placed on a plate', 'qid': '4157f69dc017b86464e2279ea3948f2f_1'}\n",
      "can not parse ans for res:  {'response': 'Option (E)\\nPicture 5: that dish is stir-fried with cabbage and mushrooms', 'qid': '4157f69dc017b86464e2279ea3948f2f_0'}\n",
      "can not parse ans for res:  {'response': 'Option (E)\\nPicture 5: the stir-fried vegetables', 'qid': '4157f69dc017b86464e2279ea3948f2f_1'}\n",
      "can not parse ans for res:  {'response': 'Option (E)\\nPicture 5: the stir-fried vegetables', 'qid': '4157f69dc017b86464e2279ea3948f2f_2'}\n",
      "0.2531017369727047\n",
      "[0.2754, 0.2705, 0.2506, 0.2531]\n"
     ]
    }
   ],
   "source": [
    "qwen_en_data, qwen_en_acc = get_res_and_acc(mivqa, \"mivqa_Qwen-VL_en_prompt*.jsonl\", parse_res)\n",
    "print(qwen_en_acc)"
   ]
  },
  {
   "cell_type": "markdown",
   "metadata": {},
   "source": [
    "### bar plot for mivqa"
   ]
  },
  {
   "cell_type": "code",
   "execution_count": 326,
   "metadata": {},
   "outputs": [],
   "source": [
    "import pandas\n",
    "mivqa_acc = pandas.read_csv(\"../mivqa_acc.csv\", delimiter=\",\")"
   ]
  },
  {
   "cell_type": "code",
   "execution_count": 327,
   "metadata": {},
   "outputs": [
    {
     "data": {
      "text/html": [
       "<div>\n",
       "<style scoped>\n",
       "    .dataframe tbody tr th:only-of-type {\n",
       "        vertical-align: middle;\n",
       "    }\n",
       "\n",
       "    .dataframe tbody tr th {\n",
       "        vertical-align: top;\n",
       "    }\n",
       "\n",
       "    .dataframe thead th {\n",
       "        text-align: right;\n",
       "    }\n",
       "</style>\n",
       "<table border=\"1\" class=\"dataframe\">\n",
       "  <thead>\n",
       "    <tr style=\"text-align: right;\">\n",
       "      <th></th>\n",
       "      <th>model</th>\n",
       "      <th>acc</th>\n",
       "      <th>lang</th>\n",
       "      <th>prompt</th>\n",
       "    </tr>\n",
       "  </thead>\n",
       "  <tbody>\n",
       "    <tr>\n",
       "      <th>0</th>\n",
       "      <td>Phi-3-vision</td>\n",
       "      <td>27.54</td>\n",
       "      <td>EN</td>\n",
       "      <td>0</td>\n",
       "    </tr>\n",
       "    <tr>\n",
       "      <th>1</th>\n",
       "      <td>Phi-3-vision</td>\n",
       "      <td>30.02</td>\n",
       "      <td>EN</td>\n",
       "      <td>1</td>\n",
       "    </tr>\n",
       "    <tr>\n",
       "      <th>2</th>\n",
       "      <td>Phi-3-vision</td>\n",
       "      <td>31.02</td>\n",
       "      <td>EN</td>\n",
       "      <td>2</td>\n",
       "    </tr>\n",
       "    <tr>\n",
       "      <th>3</th>\n",
       "      <td>Phi-3-vision</td>\n",
       "      <td>33.75</td>\n",
       "      <td>EN</td>\n",
       "      <td>3</td>\n",
       "    </tr>\n",
       "    <tr>\n",
       "      <th>4</th>\n",
       "      <td>Phi-3-vision</td>\n",
       "      <td>26.05</td>\n",
       "      <td>ZH</td>\n",
       "      <td>0</td>\n",
       "    </tr>\n",
       "  </tbody>\n",
       "</table>\n",
       "</div>"
      ],
      "text/plain": [
       "          model    acc lang  prompt\n",
       "0  Phi-3-vision  27.54   EN       0\n",
       "1  Phi-3-vision  30.02   EN       1\n",
       "2  Phi-3-vision  31.02   EN       2\n",
       "3  Phi-3-vision  33.75   EN       3\n",
       "4  Phi-3-vision  26.05   ZH       0"
      ]
     },
     "execution_count": 327,
     "metadata": {},
     "output_type": "execute_result"
    }
   ],
   "source": [
    "mivqa_acc.head()"
   ]
  },
  {
   "cell_type": "code",
   "execution_count": 330,
   "metadata": {},
   "outputs": [
    {
     "data": {
      "image/png": "[encoded data removed]",
      "text/plain": [
       "<Figure size 432x288 with 1 Axes>"
      ]
     },
     "metadata": {},
     "output_type": "display_data"
    }
   ],
   "source": [
    "import pandas as pd\n",
    "from matplotlib import pyplot as plt\n",
    "import seaborn as sns\n",
    "# mivqa_acc[mivqa_acc[\"model\"] == \"Phi-3-vision-128k-instruct\"][\"model\"] = \"Phi-3-vision\"\n",
    "g = sns.boxplot(x='model', y='acc', hue='lang', data=mivqa_acc,showmeans=True)\n",
    "# plt.axhline(y=91.69, color='red', linestyle='--', label='Human Accuracy (ZH)')\n",
    "# sns.despine(offset=10, trim=True)\n",
    "# Rotate x labels\n",
    "# Wrap the x-axis labels\n",
    "plt.xticks(rotation=45)\n",
    "# g.set_xlabel('Model')\n",
    "g.set_xlabel(None)\n",
    "g.set_ylabel('Accuracy')\n",
    "\n",
    "def wrap_labels(ax, width, break_long_words=False):\n",
    "    labels = ax.get_xticklabels()\n",
    "    new_labels = [textwrap.fill(label.get_text(), width=width, break_long_words=break_long_words) for label in labels]\n",
    "    ax.set_xticklabels(new_labels, rotation=20, ha='center')\n",
    "\n",
    "import textwrap\n",
    "ax = plt.gca()\n",
    "wrap_labels(ax, 10)\n",
    "plt.tight_layout()\n",
    "plt.savefig(\"/Users/wli/projects/foodie-dataset/data/figs/mivqa_acc.pdf\")\n"
   ]
  },
  {
   "cell_type": "markdown",
   "metadata": {},
   "source": [
    "## get no-img res"
   ]
  },
  {
   "cell_type": "code",
   "execution_count": 101,
   "metadata": {},
   "outputs": [],
   "source": [
    "result_dir = \"/Users/wli/projects/foodie-dataset/data/results/noimg_res\"\n",
    "sivqa = sivqa_utils.read_sivqa(\"/Users/wli/projects/foodie-dataset/data/\")"
   ]
  },
  {
   "cell_type": "code",
   "execution_count": 107,
   "metadata": {},
   "outputs": [
    {
     "name": "stdout",
     "output_type": "stream",
     "text": [
      "['/Users/wli/projects/foodie-dataset/data/results/noimg_res/sivqa_idefics2-8b_zh_prompt0.jsonl', '/Users/wli/projects/foodie-dataset/data/results/noimg_res/sivqa_idefics2-8b_zh_prompt1.jsonl', '/Users/wli/projects/foodie-dataset/data/results/noimg_res/sivqa_idefics2-8b_zh_prompt2.jsonl', '/Users/wli/projects/foodie-dataset/data/results/noimg_res/sivqa_idefics2-8b_zh_prompt3.jsonl']\n",
      "sivqa_idefics2-8b_zh_prompt0.jsonl\n",
      "can not parse ans for res:  {'response': '盐水鸭是浙菜的经典菜。\\n\\n盐水鸭是一种浙菜的经典菜品，它是一种浙江省的特有菜系，浙江省的浙菜菜系是一种以水煮和炒烤为主的菜系，其中盐水鸭是一种经典的浙菜菜品。\\n\\n盐水鸭是一种以鸭肉为主的菜品，鸭肉通常会被切成小块，然后放入盐水中煮炒，以使鸭肉的味道更加鲜美。盐水鸭的味道是浓郁的，有一种酸甜的味道，同时还有一种鲜嫩的感觉。\\n\\n盐水鸭的配菜一般是浙菜菜系的其他菜品，如炒鸡胸、炒鸡腿、炒鸡肝、炒鸡肝等。这些配菜都是浙菜菜系的经典菜品，可以与盐水鸭配合起来，以创造出一种浓郁的味道。\\n\\n盐水鸭是一种非常受欢迎的菜品，在浙江省和其他地方也非常受欢迎，因为它的味道鲜嫩，酸甜，浓郁，非常适合夏季的食欲。\\n\\n盐水鸭是浙菜菜系的经典菜品，它的味道鲜嫩，酸甜，浓郁，非常适合夏季的食欲。.', 'qid': 'vqa-10'}\n",
      "can not parse ans for res:  {'response': '臭鳜鱼是浙菜的经典菜。\\n\\n臭鳜鱼是一种常见的中国菜品，它是一种浙菜的经典菜品。浙菜是一种以鲜食为主的菜系，其中包括浙江省和浙江市的地方菜。臭鳜鱼是浙菜中的一种经典菜品，它的口感柔酥，味道鲜美，是一种非常受欢迎的菜品。\\n\\n臭鳜鱼的制作方法是将鳜鱼切成小块，然后加入酱油、酱麸、蒸肉、蒸茱苓、蒸芋、蒸萝卜、蒸芋蔬等各种食材，再加入酱油、酱麸、蒸肉、蒸茱苓、蒸芋、蒸萝卜、蒸芋蔬等各种食材，再加入酱油、酱麸、蒸肉、蒸茱苓、蒸芋、蒸萝卜、蒸芋蔬等各种食材，再加入酱油、酱麸、蒸肉、蒸茱苓、蒸芋、蒸萝卜、蒸芋蔬等各种食材，再加入酱油、酱麸、蒸肉、蒸茱苓、蒸芋、蒸萝卜、蒸芋蔬等各种食材，再加入酱油、酱麸、蒸肉、蒸', 'qid': 'vqa-16'}\n",
      "can not parse ans for res:  {'response': '辣子鸡丁是四川地区的特色菜。\\n\\n辣子鸡丁是一种以辣子为主要调味物的鸡肉菜品，它是四川地区的一种特色菜。辣子鸡丁的制作方法是将鸡肉切成小块，然后加入辣子、蒸肉汤、芝麻、酱油、酱麩、蒸肉汤等调味物，再用炒锅炒成。\\n\\n辣子鸡丁的特点是它的味道鲜辣，味道鲜美，而且有一种特殊的香味。它的口感也非常柔酥，非常适合吃饭的人。\\n\\n辣子鸡丁的历史可以追溯到四川地区的古代，它是一种传统的四川菜品。在四川地区，辣子鸡丁是一种非常受欢迎的菜品，它的口味鲜辣，味道鲜美，而且有一种特殊的香味。\\n\\n辣子鸡丁的制作方法是非常简单，只需要将鸡肉切成小块，然后加入辣子、蒸肉汤、芝麻、酱油、酱麩、蒸肉汤等调味物，再用炒锅炒成。\\n\\n辣子鸡丁的制作方法非常简单，只需要将鸡肉切成小块，然后加入辣子、蒸肉汤、芝麻、酱油、酱麩、蒸肉汤等调味物，再用炒锅炒成。\\n\\n辣', 'qid': 'vqa-18'}\n",
      "can not parse ans for res:  {'response': '米皮是江南地区的特色菜。\\n\\n米皮是江南地区的一种特色菜品，它是一种由米粉和蛋白制成的馒头，通常用于制作炒饼、炸饼等食物。米皮的制作过程涉及将米粉和蛋白混合在一起，然后用手或机器捏成馒头，再用手或机器捏成圆形或其他形状的馒头。米皮馒头可以用于制作各种食物，例如炒饼、炸饼、饼干等。\\n\\n米皮馒头的制作过程需要注意一些细节，例如：\\n\\n1. 米粉和蛋白的比例：米粉和蛋白的比例应该是1：1，这样可以保证馒头的粘度和坚实度。\\n\\n2. 捏馒头的速度：捏馒头的速度应该适中，不要太快或太慢。如果捏馒头太快，馒头可能会变得太粘，如果捏馒头太慢，馒头可能会变得太干。\\n\\n3. 捏馒头的形状：馒头的形状应该是圆形或其他形状，例如方形、梯形等。\\n\\n4. 馒头的厚度：馒头的厚度应该适中，不要太粗或太瘦。\\n\\n5. 馒头的大小：馒头的大小应该适中，不要太大或太小。\\n\\n6. 馒头的保存方法：馒头可以保存在室温下，但是需要注意不要', 'qid': 'vqa-19'}\n",
      "can not parse ans for res:  {'response': '无锡小笼包是江苏省的特色美食。\\n\\n无锡小笼包是江苏省的一种传统食品，它是一种小笼包，由鸡肉、蔬菜、菌菘、芝士等食材组成，用鸡胸包装成一块，然后用鸡胸包装成一块，然后用鸡胸包装成一块，然后用鸡胸包装成一块，然后用鸡胸包装成一块，然后用鸡胸包装成一块，然后用鸡胸包装成一块，然后用鸡胸包装成一块，然后用鸡胸包装成一块，然后用鸡胸包装成一块，然后用鸡胸包装成一块，然后用鸡胸包装成一块，然后用鸡胸包装成一块，然后用鸡胸包装成一块，然后用鸡胸包装成一块，然后用鸡胸包装成一块，然后用鸡胸包装成一块，然后用鸡胸包装成一块，然后用鸡胸包装成一块，然后用鸡胸包装成一块，然后用鸡胸包装成一块，然后用鸡胸包装成一块，然后用鸡胸包装成一块，然后用鸡胸包装成一块，然后用鸡胸包装成一块，然后用鸡胸包装成一块，然后用鸡胸包装成一块，然后用鸡胸包装成一块，然', 'qid': 'vqa-28'}\n",
      "can not parse ans for res:  {'response': '梅菜扣肉是客家特色美食。\\n\\n这个问题的答案是客家，因为梅菜扣肉是一种客家菜，它是客家人的传统食物。其他选项都不是客家特色美食。\\n\\n山西和济南是两个地区，但是不是客家地区。\\n\\n南疆是一个地区，但是不是客家地区。\\n\\n客家是一种人类群体，它的特色美食是梅菜扣肉。.', 'qid': 'vqa-34'}\n",
      "can not parse ans for res:  {'response': '锅包肉是陕西地区的特色菜。\\n\\n锅包肉是一种传统的陕西菜品，它是由陕西人的传统料理技巧和食物材料的创造性组合而成的。锅包肉的主要材料是肉，通常使用猪肉、牛肉、鸡肉等，以及各种蔬菜和辅食品。锅包肉的制作过程包括切肉、加入蔬菜、加入酱油、盐、酱酪、辣椒等各种调味品，然后将肉和蔬菜放入锅中煮炒，最后将锅包肉切成块或切成片，以及加入酱油、酱酪、辣椒等调味品，再炒炒。\\n\\n锅包肉的特色在于它的酥味和酸味，以及酥脂和酸脂的搭配，使得锅包肉的味道鲜美。锅包肉的酥味和酸味的搭配，以及酥脂和酸脂的搭配，使得锅包肉的味道鲜美。锅包肉的酥味和酸味的搭配，以及酥脂和酸脂的搭配，使得锅包肉的味道鲜美。\\n\\n锅包肉的制作过程需要陕西人的传统料理技巧和食物材料的创造性组合，因此锅包肉是陕西地区的特色菜。.', 'qid': 'vqa-50'}\n",
      "can not parse ans for res:  {'response': '宫保鸡丁是四川地区的特色菜。\\n\\n宫保鸡丁是一种传统的中国菜品，它是四川地区的特色菜。宫保鸡丁是由鸡肉和辣椒炒烧制成的，它的味道是辣椒的香味和鸡肉的酥味的结合，是四川地区的一种经典菜品。\\n\\n四川地区的宫保鸡丁是由鸡肉和辣椒炒烧制成的，鸡肉的切片大小一般为1.5 cm x 1.5 cm，辣椒的切片大小一般为1 cm x 1 cm。鸡肉和辣椒切成的切片，在锅里炒烧，直到鸡肉和辣椒都变成金黄色，然后将鸡肉和辣椒切成的切片放入碗里，加上鸡肉和辣椒的汁，再加上一些辣椒汁，然后炒烧一会，最后将宫保鸡丁放入碗里，再加上一些辣椒汁，然后炒烧一会，最后将宫保鸡丁放入碗里，再加上一些辣椒汁，然后炒烧一会，最后将宫保鸡丁放入碗里，再加上一些辣椒汁，然后炒烧一会，最后将宫保鸡丁放入碗里，再加上一些辣椒汁，然后炒烧一会，最后将宫保鸡丁放入碗里，', 'qid': 'vqa-57'}\n",
      "can not parse ans for res:  {'response': '鸭血粉丝汤是陕甘宁地区的特色菜。\\n\\n鸭血粉丝汤是一种汤类食物，它的主要食材是鸭血和粉丝。鸭血是一种富含钠、酸碱和酸酸酯等多种营养元素的食物，而粉丝是一种富含蛋白和碳水化合物的食物。鸭血粉丝汤的制作方法是将鸭血和粉丝放入水中，然后加入一些其他的食材，例如芋蔗、芋蔗糖、芋蔗糖等。最后，将这些食材放入锅中，然后煮沾一会，最后将它们筛出来，得到一汤的鸭血粉丝汤。\\n\\n陕甘宁地区是鸭血粉丝汤的特色菜，因为这个地区的人们喜欢吃鸭血和粉丝的食物。陕甘宁地区的鸭血粉丝汤是一种汤类食物，它的味道是淡淡的，但是非常滋味。陕甘宁地区的鸭血粉丝汤是一种非常惊人的食物，它的味道是淡淡的，但是非常滋味。\\n\\n陕甘宁地区的鸭血粉丝汤是一种非常惊人的食物，它的味道是淡淡的，但是非常滋味。陕甘宁地区的鸭血粉丝汤是一种非常惊人的食物，它的味道是淡淡的，但是非常滋味', 'qid': 'vqa-58'}\n",
      "can not parse ans for res:  {'response': '麻辣烫是四川地区的特色美食。\\n\\n麻辣烫是一种热门的中国食品，它是四川地区的特色美食。麻辣烫是一种用麻辣鸡肉、辣椒、芝麻、芝麻糖、芝麻油、芝麻酱、芝麻酱油、芝麻����������������������������������������������������������������������������������������������������������������������������������������������������������������������������������������������������������������������������������������������������������������������������������������������������������������������������������������������������������������������������������������������', 'qid': 'vqa-70'}\n",
      "can not parse ans for res:  {'response': '响油鳝糊是江苏省的特色菜。\\n\\n响油鳝糊是江苏省的一种特色菜品，它是由鳝肉和鳝肝组成的鳝肉鳝肝汤，鳝肉和鳝肝都是江苏省的特有产物。鳝肉鳝肝汤的制作方法是将鳝肉和鳝肝切成小块，然后将它们放入锅里，加入水和酱油，煮成鳝肉鳝肝汤。鳝肉鳝肝汤的味道是柔酥的，有一种淡淡的酥味，非常适合吃在寒冷的季节。\\n\\n响油鳝糊是江苏省的特色菜品，它的历史可以追溯到江苏省的古代。在江苏省的历史上，鳝肉鳝肝汤是一种非常常用的食物，因为鳝肉和鳝肝都是江苏省的特有产物。鳝肉鳝肝汤的制作方法是通过煮炒鳝肉和鳝肝，然后加入水和酱油，使得鳝肉鳝肝汤的味道更加柔酥。\\n\\n鳝肉鳝肝汤的制作方法是非常简单的，只需要将鳝肉和鳝肝切成小块，然后将它们放入锅里，加入水和酱油，煮成鳝肉鳝肝汤。鳝肉鳝肝汤的味道是柔酥的，有', 'qid': 'vqa-79'}\n",
      "can not parse ans for res:  {'response': '毛血旺是四川省的特色菜。\\n\\n毛血旺是四川省的一种特色菜，它是四川省的一种传统食物，是四川人的一种传统食物。它的名字来自四川省的一种特色菜，它的名字来自四川省的一种特色菜，它的名字来自四川省的一种特色菜，它的名字来自四川省的一种特色菜，它的名字来自四川省的一种特色菜，它的名字来自四川省的一种特色菜，它的名字来自四川省的一种特色菜，它的名字来自四川省的一种特色菜，它的名字来自四川省的一种特色菜，它的名字来自四川省的一种特色菜，它的名字来自四川省的一种特色菜，它的名字来自四川省的一种特色菜，它的名字来自四川省的一种特色菜，它的名字来自四川省的一种特色菜，它的名字来自四川省的一种特色菜，它的名字来自四川省的一种特色菜，它的名字来自四川省的一种特色菜，它的名字来自四川省的一种特色菜，它的名字来自四川省的一种特色菜，它的名字来自四川省的一种特色菜，它的名字来自四川省的一种特色菜，它的名字来自四川省的一种特色菜，它的名字来自四川省的一种特色菜，它的名字来自四川省的一种特色菜，它的名字来自四川省的一种特色菜，它的名字来自四川省的一种特色菜，它的名字来自四川省的一种特色菜，它的名字来自四川省的', 'qid': 'vqa-82'}\n",
      "can not parse ans for res:  {'response': '鱼丸粉是粤菜的经典菜。\\n\\n粤菜是一种浅炒的食物，它的特点是用鲜姜、鲜蔬菜、鲜肉、鲜海产等食材制作，以鲜味和鲜香为主。鱼丸粉是粤菜中的一种经典菜品，它是用鲜鱼、鲜蔬菜、鲜菌等食材制作的食物。\\n\\n粤菜的特点是用鲜姜、鲜蔬菜、鲜肉、鲜海产等食材制作，以鲜味和鲜香为主。这种食物的特点是鲜味鲜香，以及用鲜姜、鲜蔬菜、鲜肉、鲜海产等食材制作，使得食物的味道更鲜。\\n\\n粤菜的特点是用鲜姜、鲜蔬菜、鲜肉、鲜海产等食材制作，以鲜味和鲜香为主。这种食物的特点是鲜味鲜香，以及用鲜姜、鲜蔬菜、鲜肉、鲜海产等食材制作，使得食物的味道更鲜。\\n\\n粤菜的特点是用鲜姜、鲜蔬菜、鲜肉、鲜海产等食材制作，以鲜味和鲜香为主。这种食物的特点是鲜味鲜香，以及用鲜姜、鲜蔬菜、鲜肉、鲜海产等食材制作，使得食物的味道更鲜。\\n\\n粤菜的特点是用', 'qid': 'vqa-104'}\n",
      "can not parse ans for res:  {'response': '臭鳜鱼是安徽省的特色菜。\\n\\n臭鳜鱼是安徽省的特色菜，它是一种浅炒的鱼类食物，具有特殊的香味和口感。安徽省的臭鳜鱼是由安徽省阜南市的阜南市市政局和阜南市市场监管局管理的。\\n\\n臭鳜鱼的制作方法是将鳜鱼切成小块，然后加入辣椒、蒜、芥末、酱油、酱麸等各种调味物，再用炒锅炒成。臭鳜鱼的味道是浅炒的，有一定的辣味和酸味，而且有一定的口感。\\n\\n臭鳜鱼的历史可以追溯到安徽省的阜南市，它是安徽省的一种传统食物。在阜南市，臭鳜鱼是一种非常受欢迎的食物，它的销售量非常高。\\n\\n臭鳜鱼的制作方法是非常简单的，只需要将鳜鱼切成小块，然后加入辣椒、蒜、芥末、酱油、酱麸等各种调味物，再用炒锅炒成。臭鳜鱼的味道是浅炒的，有一定的辣味和酸味，而且有一定的口感。\\n\\n臭鳜鱼的制作方法是非常简单的，只需要将鳜鱼切成小块，然后加入辣椒、蒜、芥末、酱油、', 'qid': 'vqa-109'}\n",
      "can not parse ans for res:  {'response': '手抓羊肉烹饪时一般需要炖烹。\\n\\n炖烹是一种烹饪方法，它涉及将食物放入炉中，然后用热水或其他液体煮炼它。这种方法可以使食物成为柔鸡软的，而且可以保持食物的柔鸡软的味道。\\n\\n炸烹是一种烹饪方法，它涉及将食物放入炉中，然后用热油或其他炼油炸它。这种方法可以使食物成为嫩嫩的，而且可以保持食物的嫩嫩的味道。\\n\\n烤烹是一种烹饪方法，它涉及将食物放入炉中，然后用热气烤它。这种方法可以使食物成为嫩嫩的，而且可以保持食物的嫩嫩的味道。\\n\\n勾芡是一种烹饪方法，它涉及将食物放入炉中，然后用热气勾芡它。这种方法可以使食物成为嫩嫩的，而且可以保持食物的嫩嫩的味道。\\n\\n炖烹是最适合手抓羊肉烹饪的烹饪方法，因为它可以使食物成为柔鸡软的，而且可以保持食物的柔鸡软的味道。.', 'qid': 'vqa-110'}\n",
      "can not parse ans for res:  {'response': '荷叶粉蒸肉是客家特色菜。\\n\\n荷叶粉蒸肉是一种传统的客家菜品，它是由荷叶粉和肉组成的食物。荷叶粉是一种由荷叶植物制作的食物，它有一种特殊的香味和口感。肉是由猪肉或鸡肉制作的，它是一种柔酥的食物。荷叶粉蒸肉的制作方法是将荷叶粉和肉放入蒸饼里，然后将它们放入蒸锅中，直到蒸饼里的荷叶粉和肉都熟了。\\n\\n荷叶粉蒸肉是客家特色菜，因为它是客家人的传统食物。客家人喜欢使用荷叶粉和肉来制作食物，因为它们的香味和口感非常�asty。荷叶粉蒸肉是一种非常柔酥的食物，它的口感非常柔酥和滋味丰富。\\n\\n荷叶粉蒸肉是一种非常惊人的食物，它的口感非常柔酥和滋味丰富。如果你有机会尝试这种食物，请不要错过。.', 'qid': 'vqa-112'}\n",
      "can not parse ans for res:  {'response': '陕甘宁地区.', 'qid': 'vqa-133'}\n",
      "can not parse ans for res:  {'response': '酿皮是淮扬菜系的经典菜。\\n\\n酿皮是一种传统的中国菜品，它是由酸酸酸的酸酸酸的酸酸酸的酸酸酸的酸酸酸的酸酸酸的酸酸酸的酸酸酸的酸酸酸的酸酸酸的酸酸酸的酸酸酸的酸酸酸的酸酸酸的酸酸酸的酸酸酸的酸酸酸的酸酸酸的酸酸酸的酸酸酸的酸酸酸的酸酸酸的酸酸酸的酸酸酸的酸酸酸的酸酸酸的酸酸酸的酸酸酸的酸酸酸的酸酸酸的酸酸酸的酸酸酸的酸酸酸的酸酸酸的酸酸酸的酸酸酸的酸酸酸的酸酸酸的酸酸酸的酸酸酸的酸酸酸的酸酸酸的酸酸酸的酸酸酸的酸酸酸的酸酸酸的�', 'qid': 'vqa-139'}\n",
      "can not parse ans for res:  {'response': '姜母鸭是闽菜系的经典菜。\\n\\n姜母鸭是一种常见的闽菜系的菜品，它是一种以鸭肉为主要食材的鸡肉类菜品。闽菜系是一种中国南方的菜系，其特色是以鸡肉、虱虱虱、虱虱虱、虱虱虱、虱虱虱、虱虱虱、虱虱虱、虱虱虱、虱虱虱、虱虱虱、虱虱虱、虱虱虱、虱虱虱、虱虱虱、虱虱虱、虱虱虱、虱虱虱、虱虱虱、虱虱虱、虱虱虱、虱虱虱、虱虱虱、虱虱虱、虱虱虱、虱虱虱、虱虱虱、虱虱虱、虱虱虱、虱虱虱、虱虱虱、虱虱虱、虱虱虱、虱虱虱、虱虱虱、虱虱虱、虱虱虱、虱虱虱、虱虱虱、虱虱虱、虱虱虱、虱虱虱、��������', 'qid': 'vqa-140'}\n",
      "can not parse ans for res:  {'response': '重庆火锅属于川菜。\\n\\n重庆火锅是一种特别的食物，它是由重庆市的人创造出来的。重庆火锅是一种特别的食物，它是由重庆市的人创造出来的。它是一种特别的食物，它是由重庆市的人创造出来的。它是一种特别的食物，它是由重庆市的人创造出来的。它是一种特别的食物，它是由重庆市的人创造出来的。它是一种特别的食物，它是由重庆市的人创造出来的。它是一种特别的食物，它是由重庆市的人创造出来的。它是一种特别的食物，它是由重庆市的人创造出来的。它是一种特别的食物，它是由重庆市的人创造出来的。它是一种特别的食物，它是由重庆市的人创造出来的。它是一种特别的食物，它是由重庆市的人创造出来的。它是一种特别的食物，它是由重庆市的人创造出来的。它是一种特别的食物，它是由重庆市的人创造出来的。它是一种特别的食物，它是由重庆市的人创造出来的。它是一种特别的食物，它是由重庆市的人创造出来的。它是一种特别的食物，它是由重庆市的人创造出来的。它是一种特别的食物，它是由重庆市的人创造出来的。它是一种特别的食物，它是由重庆市的人创造出来的。它是一种特别的食物，它是由重庆市的人创造出来的。它是一种特别的食物，它是由重庆市的人创造', 'qid': 'vqa-141'}\n",
      "can not parse ans for res:  {'response': '客家酿豆腐是广东省的特色菜。\\n\\n客家酿豆腐是广东省客家族人的传统食物，它是由豆腐和酱油炸制成的食物。它的口感柔嫩，味道酥寒，是广东人的一种常见的食物。\\n\\n客家酿豆腐的制作方法是：先将豆腐切成小块，然后将豆腐块浇入酱油中，再将酱油浇出，最后将豆腐块放入炸锅中炸煎。\\n\\n客家酿豆腐的特点是：\\n\\n1. 口感柔嫩：由于豆腐的特点，客家酿豆腐的口感柔嫩，可以很好地吸收营养物质。\\n\\n2. 酥寒味道：由于酱油的加入，客家酿豆腐的味道酥寒，可以很好地刺激胃肠酸腐化。\\n\\n3. 健康性：由于豆腐的高酪筋酸酶活性，客家酿豆腐可以有效地降低血脂和血糖，有利于预防糖尿病和脂肪肥胖。\\n\\n4. 易于制作：客家酿豆腐的制作方法非常简单，只需要将豆腐切成小块，浇入酱油，再将酱油浇出，最后将豆腐块放入炸锅中炸煎。\\n\\n5. 适合多种食物', 'qid': 'vqa-147'}\n",
      "can not parse ans for res:  {'response': '蟹黄汤包是山西地区的特色菜。\\n\\n蟹黄汤包是一种汤包类食物，其中包含蟹黄和汤包的配方。这种食物的起源可以追溯到山西地区。山西地区的蟹黄汤包是一种非常受欢迎的食物，它的口感柔嫩，味道淡腐，非常适合吃在寒冷的天气中。\\n\\n蟹黄汤包的制作方法是将蟹黄切成小块，然后将它们放入汤包中。汤包的配方包括水，蛋白，蛋黄，盐等。当汤包煮好后，将蟹黄放入汤包中，然后将汤包煮成。最后，将汤包切成小块，然后将它们放入汤中，以使其成为一种柔嫩的食物。\\n\\n蟹黄汤包的特色菜是因为它的口感柔嫩，味道淡腐，非常适合吃在寒冷的天气中。它的制作方法也非常简单，只需要将蟹黄切成小块，然后将它们放入汤包中。\\n\\n蟹黄汤包的起源可以追溯到山西地区，因为这个地区的人喜欢吃这种食物。蟹黄汤包的口感柔嫩，味道淡腐，非常适合吃在寒冷的天气中，因此它是山西地区的特色菜。.', 'qid': 'vqa-148'}\n",
      "can not parse ans for res:  {'response': '菠菜面是山东地区的特色菜。\\n\\n菠菜面是山东地区的一种传统食物，它是一种浓郁的菠菜汤，搭配了菠菜、芋蔗、芋蔗糕、芋蔗糕粥、芋蔗糕粥糕、芋蔗糕粥糕等食物。菠菜面的味道是浓郁的菠菜味，有一种柔酸的口感，非常适合吃在寒冷的季节。\\n\\n菠菜面的历史可以追溯到山东省的历史上，它是山东人的一种传统食物。在山东省的农村，菠菜面是一种常见的食物，它是在农家里的大厨中煮出来的。菠菜面的制作方法非常简单，只需要将菠菜、芋蔗、芋蔗糕、芋蔗糕粥、芋蔗糕粥糕、芋蔗糕粥糕等食物放入汤锅中，然后加入水，煮到粥粥糕粥糕的����������������������������������������������������������������������������������������������������������������������', 'qid': 'vqa-158'}\n",
      "can not parse ans for res:  {'response': '手抓羊肉是新疆地区的特色美食。\\n\\n手抓羊肉是新疆地区的特色美食，它是一种传统的新疆美食，具有特殊的口感和味道。手抓羊肉是一种用手抓取出来的羊肉，它的口感比较粘黏，味道也比较柔酸。它是新疆地区的一种传统美食，在新疆地区的各个市场和餐厅中都可以找到。\\n\\n新疆地区的手抓羊肉是一种非常惊人的美食，它的口感和味道都非常惊人。它的口感比较粘黏，味道也比较柔酸。它的口感和味道都非常惊人，它的口感和味道都非常惊人。它的口感和味道都非常惊人，它的口感和味道都非常惊人。它的口感和味道都非常惊人，它的口感和味道都非常惊人。它的口感和味道都非常惊人，它的口感和味道都非常惊人。它的口感和味道都非常惊人，它的口感和味道都非常惊人。它的口感和味道都非常惊人，它的口感和味道都非常惊人。它的口感和味道都非常惊人，它的口感和味道都非常惊人。它的口感和味道都非常惊人，它的口感和味道都非常惊人。它的口感和味道都非常惊人，它的口感和味道都非常惊人。', 'qid': 'vqa-161'}\n",
      "can not parse ans for res:  {'response': '水城烙锅是闽菜系的经典菜。\\n\\n水城烙锅是一种传统的闽菜系的食物，它是由闽南省的水城市名为水城烙锅的。这种食物的特点是用酸酸盐盐的酸酸盐盐的酸酸盐盐的酸酸盐盐的酸酸盐盐的酸酸盐盐的酸酸盐盐的酸酸盐盐的酸酸盐盐的酸酸盐盐的酸酸盐盐的酸酸盐盐的酸酸盐盐的酸酸盐盐的酸酸盐盐的酸酸盐盐的酸酸盐盐的酸酸盐盐的酸酸盐盐的酸酸盐盐的酸酸盐盐的酸酸盐盐的酸酸盐盐的酸酸盐盐的酸酸盐盐的酸酸盐盐的酸酸盐盐的酸酸盐盐的酸酸盐盐的酸酸盐盐的酸酸盐盐的酸酸盐盐的酸酸', 'qid': 'vqa-162'}\n",
      "can not parse ans for res:  {'response': '客家酿豆腐做的时候一般需要炒。\\n\\n客家酿豆腐是一种常见的中国南方的食物，它的制作方法和食用方法都与其他地区的豆腐有所不同。客家酿豆腐的制作方法是通过使用酸酪和酸酸菌等物质来制作的，这种方法可以使豆腐的口感更嫩和柔韵。\\n\\n在客家酿豆腐的制作过程中，豆腐会被切成小块或切成圆形，然后会被炒烤。炒烤是一种常用的方法，可以使豆腐的外表变得更嫩和柔韵，同时也可以使豆腐的味道更加鲜美。\\n\\n炒烤的方法是将豆腐切成小块或切成圆形，然后将它们放入炒烤锅中，使用油或酱油炒烤，直到豆腐变得嫩和柔韵。在炒烤过程中，豆腐会发出一种特殊的香味，使得它的味道更加鲜美。\\n\\n炒烤的方法是客家酿豆腐的一种常用的制作方法，可以使豆腐的口感更嫩和柔韵，同时也可以使豆腐的味道更加鲜美。因此，选择炒烤方法是最适合客家酿豆腐的制作方法。.', 'qid': 'vqa-171'}\n",
      "can not parse ans for res:  {'response': '桂花糖藕是江苏省的特色菜。\\n\\n桂花糖藕是江苏省的一种特色菜品，它是江苏省扬州市的一种传统食物。桂花糖藕是由桂花糖和藕菇组成的食物，它的味道是柔嫩的，有一定的甜味和辣味。它是江苏省扬州市的一种传统食物，常常在扬州市的餐厅和家庭中吃。\\n\\n桂花糖藕的制作方法是先将桂花糖和藕菇切成小块，然后将它们放入水中煮炒，直到糖芋菇变得软烂。最后将它们捣成一块，然后切成小块或者切成圆形的形状。\\n\\n桂花糖藕的特色是它的味道，它的味道是柔嫩的，有一定的甜味和辣味。它的味道和口感非常适合吃，尤其是在夏天吃的时候。\\n\\n桂花糖藕的制作方法非常简单，只需要将桂花糖和藕菇切成小块，然后将它们放入水中煮炒，直到糖芋菇变得软烂。最后将它们捣成一块，然后切成小块或者切成圆形的形状。\\n\\n桂花糖藕的制作方法非常简单，只需要将桂花糖和藕菇切成小块，然后将它们放入水中煮炒', 'qid': 'vqa-176'}\n",
      "can not parse ans for res:  {'response': '清蒸鲈鱼是福建省的特色菜。\\n\\n清蒸鲈鱼是福建省的一种特色菜品，它是通过清洗鲈鱼后，将其放入清洗的水中，然后将其放入盐水中，以使鲈鱼的肉变得嫩嫩。这种方法可以保证鲈鱼的肉质保持鲜嫩，同时也可以保证鲈鱼的味道更加鲜艳。\\n\\n清蒸鲈鱼是福建省的一种特色菜品，它是通过清洗鲈鱼后，将其放入清洗的水中，然后将其放入盐水中，以使鲈鱼的肉变得嫩嫩。这种方法可以保证鲈鱼的肉质保持鲜嫩，同时也可以保证鲈鱼的味道更加鲜艳。\\n\\n清蒸鲈鱼是福建省的一种特色菜品，它是通过清洗鲈鱼后，将其放入清洗的水中，然后将其放入盐水中，以使鲈鱼的肉变得嫩嫩。这种方法可以保证鲈鱼的肉质保持鲜嫩，同时也可以保证鲈鱼的味道更加鲜艳。\\n\\n清蒸鲈鱼是福建省的一种特色菜品，它是通过清洗鲈鱼后，将其放入清洗的水中，然后将其放入盐水中，以使鲈鱼的肉变得嫩嫩。这种方法可以保证鲈鱼的肉质保持鲜嫩，同时也可以保证��', 'qid': 'vqa-178'}\n",
      "can not parse ans for res:  {'response': '叉烧包是客家菜系的经典菜。\\n\\n客家菜系是一种中国南方的菜系，它的起源在客家省和广西省。客家菜系的特点是用粗糙的食材，以及用炒烧和煮炒的方法，制作出浓郁的味道和香味。\\n\\n叉烧包是客家菜系中的一种经典菜品，它是由客家人在1950年代创造出来的。它的原型是客家人的炒饼，但是用了更多的肉和蔬菜，以及更多的酱油和酱醋，使得它的味道更加浓郁和香味。\\n\\n叉烧包的制作方法是先将肉和蔬菜切成小块，然后用酱醋和酱油浇泡，再用酱醋和酱油浇泡的肉和蔬菜混合在一起，然后用酱醋和酱醋浇泡的饼皮包装成一块，再用酱醋和酱醋浇泡的饼皮包装成一块，再用酱醋和酱醋浇泡的饼皮包装成一块，再用酱醋和酱醋浇泡的饼皮包装成一块，再用酱醋和酱醋浇泡的饼皮包装成一块，再用酱醋和酱醋浇泡的饼皮包装成一块，再用酱醋和酱醋浇泡的', 'qid': 'vqa-183'}\n",
      "can not parse ans for res:  {'response': '炒\\n\\n炒烹饪是一种常用的烹饪方法，它涉及将食物放入油中煮炒，使其外部表面变得凉爽和嫩嫩。这种方法可以使食物的外部表面变得凉爽和嫩嫩，同时保持内部的酥味和酸味。\\n\\n在叉烧包烹饪过程中，炒烹饪是一个不可或缺的步骤。在炒烹饪过程中，叉烧包的外部表面会变得凉爽和嫩嫩，同时保持内部的酥味和酸味。这种方法可以使叉烧包的外部表面变得更加吸引人，同时保证食物的酥味和酸味。\\n\\n炒烹饪是一种常用的烹饪方法，它涉及将食物放入油中煮炒，使其外部表面变得凉爽和嫩嫩。这种方法可以使食物的外部表面变得凉爽和嫩嫩，同时保持内部的酥味和酸味。\\n\\n在叉烧包烹饪过程中，炒烹饪是一个不可或缺的步骤。在炒烹饪过程中，叉烧包的外部表面会变得凉爽和嫩嫩，同时保持内部的酥味和酸味。这种方法可以使叉烧包的外部表面变得更加吸引人，同时保', 'qid': 'vqa-192'}\n",
      "can not parse ans for res:  {'response': '根据所提供的选项，回锅肉是西宁市的特色美食。因此，去西宁市游玩时应该品尝当地的特色美食回锅肉。.', 'qid': 'vqa-197'}\n",
      "can not parse ans for res:  {'response': '毛式红烧肉是江苏省的特色美食。\\n\\n毛式红烧肉是一种传统的江苏省的美食，它是由毛家人创造的。毛家人是江苏省的一家古老家庭，他们的家乡位于江苏省南部的扬州市。毛式红烧肉是一种用肉和蔬菜制作的食物，它的制作方法是将肉和蔬菜切成小块，然后用盐、酱油、辣椒等调味物加入，再用火炉烤烧，最后用炒饼包装。\\n\\n毛式红烧肉的特点是肉的味道柔嫩，蔬菜的味道鲜嫩，而且有一种特殊的香味。它的口感也非常柔嫩，非常适合吃饭的人。\\n\\n毛式红烧肉的历史可以追溯到江苏省南部的扬州市，它是一种传统的江苏省的美食。它的制作方法是由毛家人创造的，他们的家乡位于江苏省南部的扬州市。\\n\\n毛式红烧肉的制作方法是用肉和蔬菜切成小块，然后用盐、酱油、辣椒等调味物加入，再用火炉烤烧，最后用炒饼包装。\\n\\n毛式红烧肉的特点是肉的味道柔嫩，蔬菜的味道鲜嫩，而且有一种特殊的香味。它的口感也非常柔嫩，非常适合吃饭的人。\\n\\n毛式红烧肉的历史可以追溯到江', 'qid': 'vqa-199'}\n",
      "can not parse ans for res:  {'response': '陕甘宁地区\\n\\n陕甘宁地区是一个具有丰富的历史和文化背景的地方，它的特色美食和口水鸡是非常惊人的。陕甘宁地区的口水鸡是一种浓郁的酸味，它的口感是非常柔酸的，而且有一种特殊的香味。\\n\\n陕甘宁地区的口水鸡是由陕西和甘肃两省的人们都喜欢吃的，它是一种非常惊人的食物。陕甘宁地区的口水鸡是由鸡肉和酸酸酸酸的酸酸酸酸酸酸酸酸酸酸酸酸酸酸酸酸酸酸酸酸酸酸酸酸酸酸酸酸酸酸酸酸酸酸酸酸酸酸酸酸酸酸酸酸酸酸酸酸酸酸酸酸酸酸酸酸酸酸酸酸酸酸酸酸酸酸酸酸酸酸酸酸酸酸酸酸酸酸酸酸酸酸酸酸酸酸酸酸酸酸酸酸酸酸酸酸酸酸酸酸酸酸', 'qid': 'vqa-200'}\n",
      "can not parse ans for res:  {'response': '白切鸡通常属于客家菜系。\\n\\n白切鸡是一种常见的客家菜系中的食物，它是一种由客家人在家里烹饪的食物。客家菜系是一种中国南方的菜系，它的特点是用粗糙的食材和简单的烹饪方法，以及使用大量的辣椒和辣椒汁。\\n\\n白切鸡是一种由客家人在家里烹饪的食物，它是一种由鸡肉切成的小块，然后用辣椒汁煮炒的食物。它的味道是辣椒汁的味道，以及鸡肉的味道。\\n\\n客家菜系的特点是用粗糙的食材和简单的烹饪方法，以及使用大量的辣椒和辣椒汁。这种菜系的特点使得它的味道是辣椒汁的味道，以及鸡肉的味道。\\n\\n白切鸡是一种客家菜系中的食物，它的特点是用粗糙的食材和简单的烹饪方法，以及使用大量的辣椒和辣椒汁。这种菜系的特点使得它的味道是辣椒汁的味道，以及鸡肉的味道。\\n\\n因此，白切鸡通常属于客家菜系。.', 'qid': 'vqa-205'}\n",
      "can not parse ans for res:  {'response': '凯里酸汤鱼是西北菜系的经典菜。\\n\\n凯里酸汤鱼是一种传统的西北菜系的食物，它是一种用酸汤浇的鱼，通常是鲤鱼或鲢鱼。这种食物的历史可以追溯到西北地区的古代，它是一种常用的食物和食品。\\n\\n西北菜系是一种独特的菜系，它的特点是用酸汤浇的食物，以及使用大量的辅食和酸味的食物。西北菜系的食物通常是用酸汤浇的肉或蔬菜，以及用酸汤浇的饼或馒头。这种菜系的特点是用酸汤浇的食物，以及使用大量的辅食和酸味的食物。\\n凯里酸汤鱼是西北菜系的经典菜，它是一种传统的食物和食品。它的制作方法是将鲤鱼或鲢鱼浇入酸汤中，然后用酸汤浇的馒头或饼包包装，再用酸汤浇的馒头或饼包包装。这种食物的味道是酸辣的，有一种特殊的味道和口感。\\n\\n凯里酸汤鱼是西北菜系的经典菜，它是一种传统的食物和食品。它的制作方法是将鲤鱼或鲢鱼浇入酸汤中，然后用酸汤浇的馒头或饼包包装，再用�������', 'qid': 'vqa-225'}\n",
      "can not parse ans for res:  {'response': '梅菜扣肉是客家菜系的经典菜。客家菜系是一种中国南方的菜系，它的特点是用糖和酱料煮制作的食物，以及使用大量的蔬菜和肉类。\\n\\n客家菜系的历史可追溯到南方的农民社会，它是一种传统的家庭菜系。客家菜系的菜肴通常包括炒肉、炒蔬菜、炒鸡、炒肋、炒腊肉、炒肠、炒蛋、炒鸡胸、炒鸡腿、炒鸡胸腹、炒鸡胸腹、炒鸡胸腹、炒鸡胸腹、炒鸡胸腹、炒鸡胸腹、炒鸡胸腹、炒鸡胸腹、炒鸡胸腹、炒鸡胸腹、炒鸡胸腹、炒鸡胸腹、炒鸡胸腹、炒鸡胸腹、炒鸡胸腹、炒鸡胸腹、炒鸡胸腹、炒鸡胸腹、炒鸡胸腹、炒鸡胸腹、炒鸡胸腹、炒鸡胸腹、炒鸡胸腹、炒鸡胸腹、炒', 'qid': 'vqa-227'}\n",
      "can not parse ans for res:  {'response': '煲仔饭是粤菜系的经典菜。\\n\\n煲仔饭（粤语：煲仔饭）是一种传统的中国粤菜系的食物，它是由粤渣和水煮的粮食组成，通常包括芋蔥、芋蔥粥、芋蔥粥糕、芋蔥粥糕炒鸡、芋蔥粥炒豚肉等。煲仔饭是一种非常滋味的食物，它的味道柔弱，但是非常滋味。\\n\\n煲仔饭是粤菜系的经典菜，因为它是粤渣和水煮的粮食组成，这种粮食是粤菜系的特色。粤菜系是一种以粮食为主要食物的菜系，它的特色是用粮食制作的食物，如粮食炒鸡、粮食炒豚肉、粮食炒鸭、粮食炒鸭腿等。粮食炒鸡、粮食炒豚肉、粮食炒鸭、粮食炒鸭腿等都是粤菜系的经典菜。\\n\\n煲仔饭是粤菜系的经典菜，因为它是一种非常滋味的食物，它的味道柔弱，但是非常滋味。它的味道是由粮食和水煮的粮食组成，这种粮食是粤', 'qid': 'vqa-229'}\n",
      "can not parse ans for res:  {'response': '蟹黄汤包通常属于潮汕菜系。\\n\\n蟹黄汤包是一种潮汕菜系的传统食物，它是一种汤包，其中包含蟹黄、芋蓬、芋子、芋蔗等食物。潮汕菜系是一种潮汕地区的传统菜系，它的特点是用潮汕地区的特殊食物和食材，以及潮汕地区的特殊烹饪方法，制作出的食物。\\n\\n蟹黄汤包的制作方法是将蟹黄、芋蓬、芋子、芋蔗等食物捣成馒头，然后将馒头放入汤中煮炒，直到馒头变得软烂。最后，将馒头从汤中取出，用碳酸酸酯浇洗，然后用盐水浇洗，最后用水泥浇洗，以确保馒头的黏性和口感。\\n\\n蟹黄汤包的味道是柔酥的，有芋蓬和芋子的香味，蟹黄的酥味也会出现。这种食物的特点是柔酥、汤汁柔酥，有芋蓬和芋子的香味，蟹黄的酥味也会出现。\\n\\n蟹黄汤包是一种潮汕地区的传统食物，它的特点是用潮汕地区的特殊食物和食材，以及潮汕地', 'qid': 'vqa-230'}\n",
      "can not parse ans for res:  {'response': '酱牛肉是浙菜的经典菜。\\n\\n酱牛肉是一种浙菜的经典菜品，它是一种浓郁的肉类菜品，由酱鸡肉、酱鸡肝、酱鸡肺、酱鸡肠等肉类食物组成，加上酱鸡肝、酱鸡肺、酱鸡肠等肉类食物组成，加上酱鸡肝、酱鸡肺、酱鸡肠等肉类食物组成，加上酱鸡肝、酱鸡肺、酱鸡肠等肉类食物组成，加上酱鸡肝、酱鸡肺、酱鸡肠等肉类食物组成，加上酱鸡肝、酱鸡肺、酱鸡肠等肉类食物组成，加上酱鸡肝、酱鸡肺、酱鸡肠等肉类食物组成，加上酱鸡肝、酱鸡肺、酱鸡肠等肉类食物组成，加上酱鸡肝、酱鸡肺、酱鸡肠等肉类食物组成，加上酱鸡肝、酱鸡肺、酱鸡肠等肉类食物组成，加上酱鸡肝、酱鸡肺、酱鸡肠等肉类食物组成，加上酱鸡肝、', 'qid': 'vqa-233'}\n",
      "can not parse ans for res:  {'response': '龙井虾仁是黔菜系的经典菜。\\n\\n黔菜系是一种中国南方的菜系，它的特点是用大量的辣椒和蒸肉，以及使用酸汁和酸酸酸的酸酸酸的酸酸酸的酸酸酸的酸酸酸的酸酸酸的酸酸酸的酸酸酸的酸酸酸的酸酸酸的酸酸酸的酸酸酸的酸酸酸的酸酸酸的酸酸酸的酸酸酸的酸酸酸的酸酸酸的酸酸酸的酸酸酸的酸酸酸的酸酸酸的酸酸酸的酸酸酸的酸酸酸的酸酸酸的酸酸酸的酸酸酸的酸酸酸的酸酸酸的酸酸酸的酸酸酸的酸酸酸的酸酸酸的酸酸酸的酸酸酸的酸酸酸的酸酸酸的酸酸酸的酸酸酸的酸酸酸的酸酸酸的酸酸酸的��', 'qid': 'vqa-237'}\n",
      "can not parse ans for res:  {'response': '大盘鸡是重庆的特色美食。\\n\\n大盘鸡是一种重庆特有的美食，它是一种由鸡肉和蔬菜组成的食物，通常以鸡肉和蔬菜的切片或切片组成，然后用酱油和酱麵汁煮成。大盘鸡是重庆市的一种传统食物，它的历史可以追溯到重庆市的古代时代。\\n\\n大盘鸡的制作方法是通过将鸡肉和蔬菜切成切片，然后将它们放入酱油和酱麵汁中，再将它们煮成。这个过程需要一定的时间，以确保鸡肉和蔬菜能够完全煮成。\\n\\n大盘鸡的味道是非常�asty的，它的味道是由酱油和酱麵汁的味道所决定的。酱油和酱麵汁的味道是非常柔和柔和，它们能够使大盘鸡的味道变得更加柔和柔和。\\n\\n大盘鸡的制作方法非常简单，只需要将鸡肉和蔬菜切成切片，然后将它们放入酱油和酱麵汁中，再将它们煮成。这个过程需要一定的时间，以确保鸡肉和蔬菜能够完全煮成。\\n\\n大盘鸡的制作方法非常简单，只需要将鸡肉和蔬菜切成切片，然后将它们放入酱油和酱麵汁中，再将它们煮成。这个过程需', 'qid': 'vqa-249'}\n",
      "can not parse ans for res:  {'response': '姜母鸭是福建省的特色美食。\\n\\n姜母鸭是福建省的一种特色美食，它是一种以姜汁煮炒的鸭肉，具有独特的香味和口感。它是福建省的一种传统食物，常常在福建省的各种节日和庆祝活动中出现。\\n\\n姜母鸭的制作方法是先将鸭肉切成小块，然后将它们放入姜汁中煮炒，直到鸭肉变得软烂。在煮炒过程中，姜汁会与鸭肉交融，使得鸭肉的味道更加浓郁和香甜。\\n\\n姜母鸭的口感是非常柔鸡，而且有一种柔鸡的感觉，非常适合吃。它的味道是柔鸡的，但是有一种浓郁的姜汁味道，非常适合吃。\\n\\n姜母鸭的制作方法非常简单，只需要将鸭肉切成小块，然后将它们放入姜汁中煮炒，直到鸭肉变得软烂。\\n\\n姜母鸭是福建省的一种传统食物，常常在福建省的各种节日和庆祝活动中出现。它的口感是柔鸡的，而且有一种柔鸡的感觉，非常适合吃。它的味道是柔鸡的，但是有一种浓郁的姜汁味道，非常适合吃。\\n\\n姜母鸭的制作方法非常简', 'qid': 'vqa-267'}\n",
      "can not parse ans for res:  {'response': '锅包肉是一种中国的传统食物，它是由肉和酱麸粮组成的食物。锅包肉的制作方法有很多种，但最常用的方法是炸煮。\\n\\n炸煮锅包肉是一种非常常用的方法，它需要使用油炸器炸锅包肉，然后再用炒锅煮锅包肉。这种方法可以使锅包肉变得更嫩和柔韵，同时也可以保持锅包肉的形状。\\n\\n焖锅包肉是一种更简单的方法，它只需要使用锅包肉和酱麸粮，然后将它们放入锅中煮炒。这种方法可以使锅包肉变得更嫩和柔韵，但同时也可能会使锅包肉的形状变得不好。\\n\\n晒锅包肉是一种更健康的方法，它需要使用锅包肉和酱麸粮，然后将它们放入锅中煮炒，然后将锅包肉放在烤盘上晒烤。这种方法可以使锅包肉变得更嫩和柔韵，同时也可以保持锅包肉的形状。\\n\\n煮锅包肉是一种更传统的方法，它需要使用锅包肉和酱麸粮，然后将它们放入锅中煮炒。这种方法可以使锅包肉变得更嫩和柔韵，同时也可以保持锅包肉的形', 'qid': 'vqa-271'}\n",
      "can not parse ans for res:  {'response': '豆腐圆子是闽菜系的经典菜。\\n\\n豆腐圆子是一种传统的闽菜系的食物，它是由豆腐和酱油炸制成的小球，常常用于作为小食或汤饭的配菜。闽菜系是一种以酱油和辣椒为主要食材的菜系，它在闽南地区广泛存在。\\n\\n豆腐圆子的制作方法是将豆腐切成小块，然后将它们捣成圆形的小球，再将它们炸成 golden brown 的颜色。炸好后，豆腐圆子可以用酱油披饵或酱油披饵加酱油披饵加辣椒汁等汤饭配菜。\\n\\n豆腐圆子的味道是酱油和辣椒的搭配，它的口感是酥鸡蛋的粘度，而且有一定程度的辣椒味道。它的味道是闽菜系的特色，因为酱油和辣椒是闽菜系的主要食材。\\n\\n因此，豆腐圆子是闽菜系的经典菜。.', 'qid': 'vqa-276'}\n",
      "can not parse ans for res:  {'response': '荔枝肉是新疆地区的特色美食。\\n\\n荔枝肉是新疆地区的特色美食，它是一种由新疆地区的羊肉制成的食物。荔枝肉的制作过程涉及多个步骤，包括选择优质的羊肉、切割、洗剂、浸泡、烤炉烤、烧炉烧、烧炉烧、烧炉烧、烧炉烧、烧炉烧、烧炉烧、烧炉烧、烧炉烧、烧炉烧、烧炉烧、烧炉烧、烧炉烧、烧炉烧、烧炉烧、烧炉烧、烧炉烧、烧炉烧、烧炉烧、烧炉烧、烧炉烧、烧炉烧、烧炉烧、烧炉烧、烧炉烧、烧炉烧、烧炉烧、烧炉烧、烧炉烧、烧炉烧、烧炉烧、烧炉烧、烧炉烧、烧炉烧、烧炉烧、烧炉烧、烧炉烧、烧炉烧、烧', 'qid': 'vqa-278'}\n",
      "can not parse ans for res:  {'response': '臭鳜鱼做的时候一般需要煮。\\n\\n臭鳜鱼是一种常见的海鲜食物，它具有丰富的酸味和酸甜味道，是许多人喜爱的食物。当你想要做臭鳜鱼时，需要选择一个适合臭鳜鱼的烹饪方法。\\n\\n煮炒臭鳜鱼是一种常用的烹饪方法，它可以保持臭鳜鱼的酸味和酸甜味道，同时也可以使臭鳜鱼的肉更嫩和柔酥。煮炒臭鳜鱼需要在适当的盐水中煮炒，以确保臭鳜鱼的肉不会烂掉。\\n\\n煮炒臭鳜鱼的步骤如下：\\n\\n1. 选择适合臭鳜鱼的盐水：盐水的量应该根据臭鳜鱼的大小来决定，一般需要用一桶水加入一汪盐水。\\n\\n2. 洗臭鳜鱼：将臭鳜鱼洗净，去除臭味和臭臭虫。\\n\\n3. 煮炒臭鳜鱼：将臭鳜鱼放入盐水中，并将盐水放入锅中。将锅放入火中，使盐水开始煮。\\n\\n4. 煮炒臭鳜鱼：将盐水煮到锅中的水开始沸腾时，将�����', 'qid': 'vqa-281'}\n",
      "can not parse ans for res:  {'response': '根据所提供的选项，当地特色美食太湖银鱼最适合在江苏地区品尝。\\n\\n这是因为江苏省有一个名为太湖银鱼的特色美食，它是一种在太湖水域中生长的鱼类。这种鱼类的肉质柔酥，味道淡脆，非常适合吃。\\n\\n在江苏地区，太湖银鱼的最常见的食品是炒锅鲜鱼，它是一种炒锅的方法，将鱼肉炒成酥酪的状态，然后加上各种香料和调味品，使得食物的味道更加柔酥和淡脆。\\n\\n在江苏地区，太湖银鱼的炒锅鲜鱼是一种非常受欢迎的食物，尤其是在太湖周围的地区。如果你想品尝这种美食，那么江苏地区是最适合的地方。.', 'qid': 'vqa-283'}\n",
      "can not parse ans for res:  {'response': '大碴子粥是东北地区的特色菜。\\n\\n大碴子粥是一种浓郁的饭品，由大碴子粥粮制成，是东北地区的一种特色菜品。大碴子粥粮是由大碴子粥粮制成，是由大碴子粥粮制成，是由大碴子粥粮制成，是由大碴子粥粮制成，是由大碴子粥粮制成，是由大碴子粥粮制成，是由大碴子粥粮制成，是由大碴子粥粮制成，是由大碴子粥粮制成，是由大碴子粥粮制成，是由大碴子粥粮制成，是由大碴子粥粮制成，是由大碴子粥粮制成，是由大碴子粥粮制成，是由大碴子粥粮制成，是由大碴子粥粮制成，是由大碴子粥粮制成，是由大碴子粥粮制成，是由大碴子粥粮制成，是由大碴子粥粮制成，是由大碴子粥粮制成，是由大碴子粥粮制成，是由大碴子粥粮制成，是由大碴子粥粮制成，是由大碴子粥粮制成，是由大碴子粥粮制成，是', 'qid': 'vqa-286'}\n",
      "can not parse ans for res:  {'response': '干煸炒面是新疆地区的特色菜。\\n\\n干煸炒面（干煸面）是一种中国的传统食物，它是一种浓郁的辣味食物，由干煸炒的面和辣椒汁组成。它是新疆地区的特色菜，因为它是新疆地区的一种传统食物。\\n\\n干煸炒面的历史可以追溯到新疆地区的古代，它是一种传统的新疆人的食物。它是一种浓郁的辣味食物，由干煸炒的面和辣椒汁组成。它的口感是浓郁的，辣椒汁的味道是非常浓郁的，而面的口感是酥软的。\\n\\n干煸炒面的制作方法是先将面和辣椒汁混合在一起，然后将它们放入干煸炒器中，使其炒成。最后，它们会被切成小块，然后放入碗中，以供吃食。\\n\\n干煸炒面的特色是它的辣味和酥软的口感，它是新疆地区的一种传统食物，是新疆人的一种传统食物。.', 'qid': 'vqa-287'}\n",
      "can not parse ans for res:  {'response': '同安封肉是福建省的特色美食。\\n\\n同安封肉是福建省的一种特色美食，它是由福建省南安市的同安县人所创造的。同安封肉是一种用猪肉制成的肉类食品，它的制作方法是将猪肉切成小块，然后用盐、酱油、辣椒等调味物品加入，再用烤盐烤制成。同安封肉的味道是柔酥而不腻，有一种特殊的香味，非常适合作为小吃或者配合其他食物。\\n\\n同安封肉的历史可追溯到南安市同安县的农民，他们在农业生产中会用猪肉作为食物，但是因为猪肉的味道比较厚重，所以他们会用盐、酱油、辣椒等调味物品来加入，以改变猪肉的味道。随后这种方法被传承下来，同安封肉成为了福建省的一种特色美食。\\n\\n同安封肉的制作方法非常简单，只需要用猪肉切成小块，然后加入盐、酱油、辣椒等调味物品，再用烤盐烤制成。同时，同安封肉的制作时间也非常短，只需要几分钟就可以完成。\\n\\n同安封肉的特色之处在于它的味道，它的味道是柔酥而不腻，有一种特殊的香味，非常适合作为小吃或者配合其他食物。同时，同安封肉的制作方法也非常简单，只需要用猪肉切成小块，然后加', 'qid': 'vqa-298'}\n",
      "can not parse ans for res:  {'response': '西湖醋鱼是浙江省的特色菜。\\n\\n西湖醋鱼是一种浙江省的特色菜，它是一种用醋酸煮的鱼类食物。西湖醋鱼的原材料是西湖鲫鱼，它是一种在西湖地区的湖泊中生长的鲫鱼。西湖醋鱼的制作方法是将西湖鲫鱼切成小块，然后将它们放入醋酸中，以使鲫鱼的味道变得更加鲜美。醋酸的作用是使鲫鱼的肉变得更加软烂，同时也使鲫鱼的味道变得更加鲜美。\\n\\n西湖醋鱼的制作方法是非常简单的，只需要将西湖鲫鱼切成小块，然后将它们放入醋酸中，以使鲫鱼的味道变得更加鲜美。醋酸的作用是使鲫鱼的肉变得更加软烂，同时也使鲫鱼的味道变得更加鲜美。\\n\\n西湖醋鱼的特色是它的鲜美的味道和柔酸的口感。它的味道是鲜美的，而且它的口感是柔酸的，这使得西湖醋鱼成为了浙江省的一种特色菜。西湖醋鱼的制作方法是非常简单的，只需要将西湖鲫鱼切成小块，然后将它们放入醋酸中，以使鲫鱼的味道变得更加鲜美。\\n\\n西湖醋鱼的制作方法是非常简单的，只需要将西湖鲫鱼切成小块，', 'qid': 'vqa-301'}\n",
      "can not parse ans for res:  {'response': '叉烧包是广东省的特色美食。\\n\\n叉烧包是广东省的一种传统食物，它是一种小馒头，由馒头和肉组成，通常用鸡肉、猪肉、牛肉等作为填充，然后用馒头包起来，再用酱油、酱麸等酱料炒烤，最后用酱油抹抹成一颗。\\n\\n叉烧包的历史可以追溯到广东省的潮州市，它是一种传统的潮州小吃。它的名字来源于它的外观，就像是一根叉子一样，所以叫叉烧包。\\n\\n叉烧包的制作过程非常复杂，需要经过多个步骤。首先需要制作馒头，然后需要制作肉的填充，再需要炒烤馒头和肉，最后需要用酱油抹抹成一颗。\\n\\n叉烧包的口感非常柔鸡，酥鸡，酥味柔鸡，酥味柔鸡，酥味柔鸡，酥味柔鸡，酥味柔鸡，酥味柔鸡，酥味柔鸡，酥味柔鸡，酥味柔鸡，酥味柔鸡，酥味柔鸡，酥味柔鸡，酥味柔鸡，酥味柔鸡，酥味柔鸡，酥味柔鸡，酥味����', 'qid': 'vqa-304'}\n",
      "can not parse ans for res:  {'response': '丝娃娃是沪菜的经典菜。\\n\\n丝娃娃是一种沪菜的传统食物，它是一种由鸡胸肉和蒸茱苓组成的食物。它是一种非常惊人的食物，因为它的味道非常柔弱，但是非常滋味。它是一种非常适合吃的食物，因为它的味道非常柔弱，但是非常滋味。\\n\\n丝娃娃是一种非常惊人的食物，因为它的味道非常柔弱，但是非常滋味。它是一种非常适合吃的食物，因为它的味道非常柔弱，但是非常滋味。\\n\\n丝娃娃是一种非常惊人的食物，因为它的味道非常柔弱，但是非常滋味。它是一种非常适合吃的食物，因为它的味道非常柔弱，但是非常滋味。\\n\\n丝娃娃是一种非常惊人的食物，因为它的味道非常柔弱，但是非常滋味。它是一种非常适合吃的食物，因为它的味道非常柔弱，但是非常滋味。\\n\\n丝娃娃是一种非常惊人的食物，因为它的味道非常柔弱，但是非常滋味。它是一种非常适合吃的食物，因为它的味道非常柔弱，但是非常滋味。\\n\\n丝娃娃是一种非常惊人的食物，因为它', 'qid': 'vqa-305'}\n",
      "can not parse ans for res:  {'response': '陕甘宁地区\\n\\n过油肉拌面是陕甘宁地区的特色菜。陕甘宁地区位于西北部，是中国的一部分地区。这个地区的食物特色是以羊肉和辣椒为主，因为这些食物在这个地区很常见。\\n\\n过油肉拌面是一种很�asty的食物。它是用羊肉和辣椒拌合的，然后用油炒成的。这个食物非常好吃，因为羊肉很柔酥，辣椒很辣，而油炒的方法使得食物的味道更加�asty。\\n\\n陕甘宁地区的过油肉拌面是一种非常�asty的食物，因为它的食物特色是以羊肉和辣椒为主。所以，陕甘宁地区是过油肉拌面的特色菜。.', 'qid': 'vqa-318'}\n",
      "can not parse ans for res:  {'response': '糖醋丸子通常是酸甜的口味。\\n\\n糖醋丸子是一种常见的中国食品，它是由糖醋和肉或蔬菜组成的食物。糖醋丸子的口味是酸甜的，因为糖醋是一种酸酸酯酸的�������������������������������������������������������������������������������������������������������������������������������������������������������������������������������������������������������������������������������������������������������������������������������������������������������������������������������������������������������������������������������������������������', 'qid': 'vqa-319'}\n",
      "can not parse ans for res:  {'response': '酿皮是安徽省的特色美食。\\n\\n酿皮是安徽省的特色美食，它是一种由酵母酵化的酵麸菌制成的食品，具有特殊的口感和味道。安徽省的酿皮是由安徽省酿皮工业协会管理的，它的产品包括酿皮、酿皮饼、酿皮饮等。\\n\\n安徽省酿皮工业协会是安徽省酿皮工业的主要组织，它的成员包括酿皮制造厂、酿皮销售商、酿皮研究院等。酿皮工业协会的目的是提高酿皮的品质、增加酿皮的市场份额、促进酿皮的发展和发展。\\n\\n安徽省酿皮工业协会的成员之一是安徽省酿皮工业研究院，它是安徽省酿皮工业的研究和技术支援中心。安徽省酿皮工业研究院的主要任务是研究和开发酿皮的制造技术、酿皮的品质控制、酿皮的安全性和卫生性等。\\n\\n安徽省酿皮工业协会还有一些其他成员，如安徽省酿皮制造厂、酿皮销售商、酿皮饮品厂等。这些成员之间会互相合作和交流，共同推进酿皮的发展和发展。\\n\\n安徽省酿皮工业协会的成员之一是安徽省酿皮工业研究院，它是安徽省酿皮', 'qid': 'vqa-326'}\n",
      "0.28515625\n",
      "sivqa_idefics2-8b_zh_prompt1.jsonl\n",
      "can not parse ans for res:  {'response': '我是一个智能助手，请问你需要我帮助的问题是什么？.', 'qid': 'vqa-2'}\n",
      "can not parse ans for res:  {'response': '盐水鸭是浙菜的经典菜。\\n\\n盐水鸭是一种浙菜的经典菜品，它是一种浙江省的特有菜系，具有独特的味道和口感。盐水鸭的制作方法是将鸭肉和盐水沸沉，然后将鸭肉沉浅地煮出来，使得鸭肉的味道更加鲜美。\\n\\n盐水鸭的口感是鲜美的，鸭肉的味道是鲜美的，而且鸭肉的粘度也非常适合食用。盐水鸭的味道是鲜美的，鸭肉的味道是鲜美的，而且鸭肉的粘度也非常适合食用。\\n\\n盐水鸭的制作方法是非常简单的，只需要将鸭肉和盐水沸沉，然后将鸭肉沉浅地煮出来，使得鸭肉的味道更加鲜美。\\n\\n盐水鸭的制作方法是非常简单的，只需要将鸭肉和盐水沸沉，然后将鸭肉沉浅地煮出来，使得鸭肉的味道更加鲜美。\\n\\n盐水鸭的制作方法是非常简单的，只需要将鸭肉和盐水沸沉，然后将鸭肉沉浅地煮出来，使得鸭肉的味道更加鲜美。\\n\\n盐水鸭的制作方法是非常简单的，只需要将鸭肉和盐水�', 'qid': 'vqa-10'}\n",
      "can not parse ans for res:  {'response': '辣子鸡丁是四川地区的特色菜。.', 'qid': 'vqa-18'}\n",
      "can not parse ans for res:  {'response': '米皮是宁波地区的特色菜。.', 'qid': 'vqa-19'}\n",
      "can not parse ans for res:  {'response': '您好，我是一个智能助手。根据您提供的信息，青椒肉丝属于赣菜（客家菜）。\\n\\n赣菜（客家菜）是一种中国南方的菜系，其特色是用大量辣椒和辣子作为主要调味物，以及使用大量蔬菜和肉类。赣菜菜系的特点是用辣椒和辣子作为主要调味物，以及使用大量蔬菜和肉类。赣菜菜系的特点是用辣椒和辣子作为主要调味物，以及使用大量蔬菜和肉类。\\n\\n赣菜菜系的特点是用辣椒和辣子作为主要调味物，以及使用大量蔬菜和肉类。赣菜菜系的特点是用辣椒和辣子作为主要调味物，以及使用大量蔬菜和肉类。\\n\\n赣菜菜系的特点是用辣椒和辣子作为主要调味物，以及使用大量蔬菜和肉类。赣菜菜系的特点是用辣椒和辣子作为主要调味物，以及使用大量蔬菜和肉类。\\n\\n赣菜菜系的特点是用辣椒和辣子作为主要调味物，以及使用大量蔬菜和肉类。赣菜菜系的特点是用辣椒和辣子作为主要调味物，以及使用大量蔬菜和肉类。\\n\\n赣菜菜系的特点是用辣椒和辣子作为主要调味物，以及使用大量蔬', 'qid': 'vqa-24'}\n",
      "can not parse ans for res:  {'response': '您好，我是智能助手。无锡小笼包是江苏省的特色美食。.', 'qid': 'vqa-28'}\n",
      "can not parse ans for res:  {'response': '鸡蛋肠粉烹饪时一般需要炒。\\n\\n炒鸡蛋肠粉烹饪是一种常见的中国菜肴，它的制作方法是将鸡蛋和肠粉混合成馒头，然后用炒饼锅炒成馒头，最后用酱油和酱麩汁浇汤。\\n\\n炒鸡蛋肠粉烹饪的制作过程需要炒饼锅，因为它需要在炒饼锅中炒馒头，以使馒头变得嫩嫩和酥酪。\\n\\n炒鸡蛋肠粉烹饪的制作过程不需要炸鸡蛋，因为它不需要在油中炸鸡蛋，而是需要在炒饼锅中炒馒头。\\n\\n炒鸡蛋肠粉烹饪的制作过程不需要蒸鸡蛋，因为它不需要在蒸锅中蒸鸡蛋，而是需要在炒饼锅中炒馒头。\\n\\n炒鸡蛋肠粉烹饪的制作过程不需要煎鸡蛋，因为它不需要在煎锅中煎鸡蛋，而是需要在炒饼锅中炒馒头。\\n\\n炒鸡蛋肠粉烹饪的制作过程需要炒', 'qid': 'vqa-38'}\n",
      "can not parse ans for res:  {'response': '虾饺是粤菜的经典菜。\\n\\n粤菜是一种浓郁的、浓酱浓醋的菜系，其中包括了许多汤饭、炒饭、炒肉、炒蔬菜、炒饼、炒鸡、炒虾、炒蚝、炒蚝胞胎、炒蚝胞胎肝、炒蚝胞胎肝肝、炒蚝胞胎肝肝肝、炒蚝胞胎肝肝肝、炒蚝胞胎肝肝肝、炒蚝胞胎肝肝肝、炒蚝胞胎肝肝肝、炒蚝胞胎肝肝肝、炒蚝胞胎肝肝肝、炒蚝胞胎肝肝肝、炒蚝胞胎肝肝肝、炒蚝胞胎肝肝肝、炒蚝胞胎肝肝肝、炒蚝胞胎肝肝肝、炒蚝胞胎肝肝肝、炒蚝胞胎肝肝肝、炒蚝胞胎肝肝肝、����������', 'qid': 'vqa-42'}\n",
      "can not parse ans for res:  {'response': '锅包肉是陕西地区的特色菜。\\n\\n锅包肉是一种传统的陕西菜品，它是由陕西人的传统料理技巧和食物材料的创造性运用所得到的。锅包肉的制作过程涉及多个步骤，包括切肉、泡肉、煮肉、炒肉、烧肉、炙肉等。锅包肉的制作过程需要长时间，需要锅包肉的制作者有很好的烹饪技巧和锅包肉的制作经验。\\n\\n锅包肉的制作材料主要包括鸡肉、豚肉、牛肉、猪肉等，以及各种辅料和调味品。锅包肉的制作过程需要锅包肉的制作者有很好的烹饪技巧和锅包肉的制作经验。\\n\\n锅包肉的制作过程需要长时间，需要锅包肉的制作者有很好的烹饪技巧和锅包肉的制作经验。锅包肉的制作过程需要锅包肉的制作者有很好的烹饪技巧和锅包肉的制作经验。\\n\\n锅包肉的制作过程需要长时间，需要锅包肉的制作者有很好的烹饪技巧和锅包肉的制作经验。锅包肉的制作过程需要锅包肉的制作者有很好的烹饪技巧和锅包肉的制作经验。\\n\\n锅包肉的制作过程需要长时间，需要锅包肉', 'qid': 'vqa-50'}\n",
      "can not parse ans for res:  {'response': '咖喱牛腩牛筋面做的时候一般需要烤。\\n\\n这是因为烤法可以使牛肉更加酥脂和柔韵，同时保持肉的鲜嫩和柔韵。烤法可以让牛肉保持其原有的味道和酥脂，同时也可以使肉更加吸水，提高肉的酥脂和柔韵度。\\n\\n烤法的原理是通过将肉放入烤盆中，然后将烤盆放入烤箱中，并将烤箱设置为适当的温度和时间。在烤箱中，肉会被烤盆周围的热气烧煮，使肉的表面变得酥脂和柔韵。同时，烤盆的孔孔会使肉的表面变得更加酥脂和柔韵。\\n\\n烤法的另一个优点是可以使肉更加酥脂和柔韵，同时也可以使肉更加吸水，提高肉的酥脂和柔韵度。烤法可以让肉保持其原有的味道和酥脂，同时也可以使肉更加吸水，提高肉的酥脂和柔韵度。\\n\\n烤法的另一个优点是可以使肉更加酥脂和柔韵，同时也可以使肉更加吸水，提高肉的酥脂和柔韵度。烤法可以让肉保持其原有的味道和酥脂，同时也可', 'qid': 'vqa-52'}\n",
      "can not parse ans for res:  {'response': '鸭血粉丝汤是陕甘宁地区的特色菜。\\n\\n鸭血粉丝汤是一种汤类食物，它的主要食材是鸭血和粉丝。鸭血是一种富含钠、酸碱和酸酸酯等多种营养元素的食物，而粉丝是一种富含蛋白和碳水化合物的食物。鸭血粉丝汤的制作方法是将鸭血和粉丝放入水中，然后将其煮成一锅，最后加入一些其他食材，如芋蓉、芋蔗、芋蓉瓜等。\\n\\n鸭血粉丝汤是陕甘宁地区的特色菜，因为这个地区的人们喜欢吃鸭血和粉丝的食物。鸭血粉丝汤是一种汤类食物，它的味道是淡淡的，但是非常滋味。它的味道是由鸭血和粉丝的味道决定的，鸭血的味道是酸碱和酸酸酯等多种营养元素的味道，而粉丝的味道是蛋白和碳水化合物的味道。\\n\\n鸭血粉丝汤的制作方法是非常简单的，只需要将鸭血和粉丝放入水中，然后将其煮成一锅，最后加入一些其他食材，如芋蓉、芋蓉瓜等。鸭血粉丝汤的制作时间不长，只需要几分钟就可以完成。\\n\\n鸭血粉丝汤的营养价值非常高，它的', 'qid': 'vqa-58'}\n",
      "can not parse ans for res:  {'response': '酸菜鱼烹饪时一般需要煮。\\n\\n酸菜鱼烹饪是一种常见的中国菜肴，它的制作方法是将酸菜和鱼肉混合起来，然后煮成酸菜鱼烹饪。这种菜肴的特点是酸味淡蕾，鲜味浓郁，具有酸甜酸辣的口感。\\n\\n煮酸菜鱼烹饪时，需要将酸菜和鱼肉混合起来，然后将其放入煮锅中，并用水或鸡胸汁等液体来煮炒。这个过程需要持续煮炒，直到酸菜和鱼肉完全烹成，然后将其从煮锅中取出来。\\n\\n煮酸菜鱼烹饪时，需要注意以下几点：\\n\\n1. 选择酸菜：酸菜的品质和鲜度会影响酸菜鱼烹饪的味道。选择酸菜的品质好，鲜度适中，以保证酸菜鱼烹饪的口感和味道。\\n\\n2. 选择鱼肉：酸菜鱼烹饪的鱼肉需要鲜嫩，鲜味浓郁。选择鲜嫩的鱼肉，以保证酸菜鱼烹饪的口感和味道。\\n\\n3. 选择煮锅：选择适当大小的煮锅，以保证酸菜和鱼肉可以放入煮锅中，并且煮锅的大', 'qid': 'vqa-59'}\n",
      "can not parse ans for res:  {'response': '您好，我是一个智能助手，请问您需要什么帮助？.', 'qid': 'vqa-81'}\n",
      "can not parse ans for res:  {'response': '毛血旺是四川地区的特色菜。\\n\\n毛血旺是四川地区的一种特色菜，它是由四川省西部地区的羊肉和芝麻糖制成的糕品。它的名字来自四川省西部地区的羊肉和芝麻糖的特色。毛血旺的制作过程非常复杂，需要经过多次烘焙和炒烤，以及加入芝麻糖和其他调味物品。\\n\\n毛血旺的特色在于它的炒烤和烘焙技术，以及使用芝麻糖和其他调味物品。它的味道是柔酥而不是粗糙，有一种柔酥和甜美的口感。毛血旺的外观是一种棕色的糕品，外表看起来有点像羊肉的肉块。\\n毛血旺的制作过程非常复杂，需要经过多次烘焙和炒烤，以及加入芝麻糖和其他调味物品。它的制作过程需要经过多次烘焙和炒烤，以及加入芝麻糖和其他调味物品。\\n\\n毛血旺的制作过程非常复杂，需要经过多次烘焙和炒烤，以及加入芝麻糖和其他调味物品。它的制作过程需要经过多次烘焙和炒烤，以及加入芝麻糖和其他调味物品。\\n\\n毛血旺的制作过程非常复杂，需要经过多次�', 'qid': 'vqa-82'}\n",
      "can not parse ans for res:  {'response': '口水鸡属于赣菜（客家菜）。\\n\\n这个问题的答案是赣菜（客家菜）。口水鸡是一种传统的赣菜（客家菜）的食物，它是一种由鸡肉和蛋白制成的食物，通常以口水鸡酱和蒸饼作为配菜。赣菜（客家菜）是一种以鸡肉和蛋白为主要食物的菜系，它的特点是用鸡肉和蛋白制作的食物，以及使用酱醋、酱油、蒸饼、蒸肉等食物。\\n\\n赣菜（客家菜）是一种非常悠久的菜系，它的起源可以追溯到赣州和客家地区。这种菜系的特点是用鸡肉和蛋白制作的食物，以及使用酱醋、酱油、蒸饼、蒸肉等食物。赣菜（客家菜）的食物通常是用鸡肉和蛋白制作的，例如口水鸡、鸡蛋糕、鸡蛋饼等。\\n\\n赣菜（客家菜）的特点是用鸡肉和蛋白制作的食物，以及使用酱醋、酱油、蒸饼、蒸肉等食物。这种菜系的食物通常是用鸡肉和蛋白制作的，例如口水鸡、鸡蛋糕、鸡蛋饼等。赣菜（客家菜）的食物通常是用鸡肉和蛋白制作的，以及使用酱醋', 'qid': 'vqa-85'}\n",
      "can not parse ans for res:  {'response': '您好，我是一个智能助手，请问您需要什么帮助？.', 'qid': 'vqa-88'}\n",
      "can not parse ans for res:  {'response': '臭鳜鱼是安徽省的特色菜。安徽省位于中国的黄河流域，是一种富有历史文化的地区。臭鳜鱼是安徽省的一种特色菜品，它的口感酸甜，味道鲜美，是安徽人的一种传统食物。\\n\\n臭鳜鱼是安徽省的一种特色菜品，它的口感酸甜，味道鲜美，是安徽人的一种传统食物。臭鳜鱼是安徽省的一种特色菜品，它的口感酸甜，味道鲜美，是安徽人的一种传统食物。\\n\\n臭鳜鱼是安徽省的一种特色菜品，它的口感酸甜，味道鲜美，是安徽人的一种传统食物。臭鳜鱼是安徽省的一种特色菜品，它的口感酸甜，味道鲜美，是安徽人的一种传统食物。.', 'qid': 'vqa-109'}\n",
      "can not parse ans for res:  {'response': '荷叶粉蒸肉是客家特色菜。\\n\\n荷叶粉蒸肉是一种传统的客家菜品，它是由荷叶粉和肉组成的食物。荷叶粉是一种由荷叶植物制作的食物，它有一种特殊的香味和口感。肉部分是由猪肉或鸡肉制作的，它们被蒸在荷叶粉中。\\n\\n荷叶粉蒸肉是客家地区的特色菜，因为它是客家人的传统食物。客家人喜欢使用荷叶粉和肉来制作食物，因为它们的口感和香味非常惊人。\\n\\n荷叶粉蒸肉的制作方法是这样的：\\n\\n1. 先将荷叶粉和肉捣成一锅里，然后加入水和酱油。\\n2. 将锅里的食物放入锅中，然后将锅盖上。\\n3. 将锅放入火中，让食物蒸饭。\\n4. 当食物蒸饭后，将锅取出来，然后用刀切成小块。\\n5. 将切好的食物放入碗里，然后加入酱油和酱麩。\\n6. 将碗里的食物搅拌好，然后可以吃起来。\\n\\n荷叶粉蒸肉是一种非常惊人的食物，它的口感和香味非常惊人。如果你有机会尝试这种食物，请不要错过。.', 'qid': 'vqa-112'}\n",
      "can not parse ans for res:  {'response': '为了回答这个问题，我需要先了解西湖醋鱼的特点和历史，然后根据这些信息选择最适合的菜系。\\n\\n西湖醋鱼是一种浙江省的特有菜系，它的特点是用醋酸酸盐酸的酸酸酸盐酸的酸酸酸盐酸的酸酸酸盐酸的酸酸酸盐酸的酸酸酸盐酸的酸酸酸盐酸的酸酸酸盐酸的酸酸酸盐酸的酸酸酸盐酸的酸酸酸盐酸的酸酸酸盐酸的酸酸酸盐酸的酸酸酸盐酸的酸酸酸盐酸的酸酸酸盐酸的酸酸酸盐酸的酸酸酸盐酸的酸酸酸盐酸的酸酸酸盐酸的酸酸酸盐酸的酸酸酸盐酸的酸酸酸盐酸的酸酸酸盐酸的酸酸酸盐酸的酸酸酸盐酸的����������', 'qid': 'vqa-122'}\n",
      "can not parse ans for res:  {'response': '拉条子是陕甘宁地区的特色菜。\\n\\n拉条子是一种传统的陕甘宁地区的食物，它是由陕甘宁地区的人们在农业生产和日常生活中使用的一种食物。它是由陕甘宁地区的人们在农业生产和日常生活中使用的一种食物。它是由陕甘宁地区的人们在农业生产和日常生活中使用的一种食物。它是由陕甘宁地区的人们在农业生产和日常生活中使用的一种食物。它是由陕甘宁地区的人们在农业生产和日常生活中使用的一种食物。它是由陕甘宁地区的人们在农业生产和日常生活中使用的一种食物。它是由陕甘宁地区的人们在农业生产和日常生活中使用的一种食物。它是由陕甘宁地区的人们在农业生产和日常生活中使用的一种食物。它是由陕甘宁地区的人们在农业生产和日常生活中使用的一种食物。它是由陕甘宁地区的人们在农业生产和日常生活中使用的一种食物。它是由陕甘宁地区的人们在农业生产和日常生活中使用的一种食物。它是由陕甘宁地区的人们在农业生产和日常生活中使用的一种食物。它是由陕甘宁地区的人们在农业生产和日常生活中使用的一种食物。它是由陕甘宁地区的人们在农业生产和日常生活中使用的一种食物。它是由陕甘宁地区的人们', 'qid': 'vqa-137'}\n",
      "can not parse ans for res:  {'response': '酿皮是西北菜的经典菜。.', 'qid': 'vqa-139'}\n",
      "can not parse ans for res:  {'response': '姜母鸭是闽菜的经典菜。\\n\\n姜母鸭是一种传统的闽菜，它是闽南省的一种特色菜品。闽南省位于中国的福建省，它的菜谱和食谱有着千年的历史，其中包括姜母鸭。\\n\\n姜母鸭是一种鸡肉的食物，它的名字来自鸡母鸭的名字。它是一种非常润滑的肉，有着柔酥的口感。姜母鸭的制作方法是将鸡肉切成小块，然后加入姜母鸭的酱料，以及其他的食材，如芋蔗、芋荜、芋荜、芋荜、芋荜、芋荜、芋荜、芋荜、芋荜、芋荜、芋荜、芋荜、芋荜、芋荜、芋荜、芋荜、芋荜、芋荜、芋荜、芋荜、芋荜、芋荜、芋荜、芋荜、芋荜、芋荜、芋荜、芋荜、芋荜、芋荜、芋荜、芋荜、芋荜、芋荜、芋荜、芋荜、芋荜、芋荜、芋荜、芋荜、芋荜、����', 'qid': 'vqa-140'}\n",
      "can not parse ans for res:  {'response': '为了回答这个问题，我需要了解哪些地方有特色美食水城烙锅。\\n\\n1. 烟台：烟台是一座古老的海港城市，它的特色美食包括烟台烤肉、烟台烤鸭、烟台烤鸡、烟台烤鸭肝等。烟台烙锅是一种特色美食，它是烟台的传统食物。\\n\\n2. 南疆：南疆是一座古老的盐城，它的特色美食包括烟煤烤肉、烟煤烤鸭、烟煤烤鸡、烟煤烤鸭肝等。烟煤烙锅是一种特色美食，它是南疆的传统食物。\\n\\n3. 贵州：贵州是一座古老的山区，它的特色美食包括烟煤烤肉、烟煤烤鸭、烟煤烤鸡、烟煤烤鸭肝等。烟煤烙锅是一种特色美食，它是贵州的传统食物。\\n\\n4. 温州：温州是一座古老的水城，它的特色美食包括烟煤烤肉、烟煤烤鸭、烟煤烤鸡、烟煤烤鸭肝等。烟煤烙锅是一种特色美食，它是温州的传统食物。\\n\\n根据上述信息，我们可以选择以下', 'qid': 'vqa-146'}\n",
      "can not parse ans for res:  {'response': '蟹黄汤包是山东地区的特色菜。\\n\\n蟹黄汤包是一种汤包类的食物，它的主要食材是蟹黄和面粉。蟹黄汤包的口感是柔鸡蛋的，而且有一种柔鸡蛋的味道。蟹黄汤包的口味是柔鸡蛋的，而且有一种柔鸡蛋的味道。蟹黄汤包的口感是柔鸡蛋的，而且有一种柔鸡蛋的味道。蟹黄汤包的口感是柔鸡蛋的，而且有一种柔鸡蛋的味道。蟹黄汤包的口感是柔鸡蛋的，而且有一种柔鸡蛋的味道。蟹黄汤包的口感是柔鸡蛋的，而且有一种柔鸡蛋的味道。蟹黄汤包的口感是柔鸡蛋的，而且有一种柔鸡蛋的味道。蟹黄汤包的口感是柔鸡蛋的，而且有一种柔鸡蛋的味道。蟹黄汤包的口感是柔鸡蛋的，而且有一种柔鸡蛋的味道。蟹黄汤包的口感是柔鸡蛋的，而且有一种柔鸡蛋的味道。蟹黄汤包的口感是柔鸡蛋的，而且有一种柔鸡', 'qid': 'vqa-148'}\n",
      "can not parse ans for res:  {'response': '我是一个智能助手，请问你需要我帮助的问题是什么？.', 'qid': 'vqa-149'}\n",
      "can not parse ans for res:  {'response': '您好，我是一个智能助手。根据您提供的信息，我将为您提供相关的答案。\\n\\n响油鳝糊烹饪时一般需要煮。\\n\\n这是因为响油鳝糊是一种浓郁的鲜肉，需要用煮法来保持其鲜味和鳜肉的柔韵。煮法可以使鳜肉保持柔韵，同时也可以保证鳜肉的鲜味不会被损失。\\n\\n其他选项，包括熏、蒸和晒，都不适合响油鳝糊烹饪。熏和蒸是用来烹煮食物的方法，但是对响油鳝糊来说，这两种方法不能保证鳜肉的鲜味和鳜肉的柔韵。晒是用来烤食物的方法，但是对响油鳝糊来说，这种方法不能保证鳜肉的鲜味和鳜肉的柔韵。\\n\\n因此，根据您提供的信息，我选择了煮作为响油鳝糊烹饪时一般需要的方法。.', 'qid': 'vqa-154'}\n",
      "can not parse ans for res:  {'response': '浙江.', 'qid': 'vqa-155'}\n",
      "can not parse ans for res:  {'response': '水城烙锅是闽菜的经典菜。\\n\\n水城烙锅是一种传统的闽菜，它是闽南区的一种特色菜品。闽菜是一种以水为主的菜系，它的特点是用水煮和煮炒的方法，以及使用水煮的食物，如芋蓬、芋蔗、芋藕、芋藕菌、芋藕菌、芋藕菌、芋藕菌、芋藕菌、芋藕菌、芋藕菌、芋藕菌、芋藕菌、芋藕菌、芋藕菌、芋藕菌、芋藕菌、芋藕菌、芋藕菌、芋藕菌、芋藕菌、芋藕菌、芋藕菌、芋藕菌、芋藕菌、芋藕菌、芋藕菌、芋藕菌、芋藕菌、芋藕菌、芋藕菌、芋藕菌、芋藕菌、芋藕菌、芋藕菌、芋藕菌、芋藕菌、芋藕菌、芋藕菌、芋藕菌、芋藕菌、�����', 'qid': 'vqa-162'}\n",
      "can not parse ans for res:  {'response': '糖醋丸子烹饪时一般需要煮。\\n\\n糖醋丸子是一种常见的中国菜品，它的制作过程涉及煮炒和炖炙等方法。煮炒是一种常用的烹饪方法，它可以使食物的味道更加鲜美，同时也可以保持食物的原味。炖炙则是一种更加简单的烹饪方法，它可以保持食物的原味，但同时也可能会使食物的味道变得不鲜美。\\n\\n因此，糖醋丸子烹饪时一般需要煮。.', 'qid': 'vqa-170'}\n",
      "can not parse ans for res:  {'response': '客家酿豆腐做的时候一般需要炒。\\n\\n客家酿豆腐是一种常见的中国南方菜品，它的制作方法和食用方法都与其他豆腐类型有所不同。客家酿豆腐的制作过程涉及多个步骤，包括浸泡、切割、炒煮、涂鸦、煮炒等。\\n\\n炒煮是客家酿豆腐的一种常用方法，它可以使豆腐变得更嫩和柔韵，同时也可以使豆腐的外表变得更酥脂。在炒煮豆腐时，需要先将豆腐切成小块或切成圆形，然后将它们放入热油中，等待它们变得金黄。\\n\\n炒煮豆腐的时候，需要注意以下几点：\\n\\n1. 选择适合的油类：选择适合炒煮豆腐的油类，如可ola oil、鸡油等。\\n\\n2. 控制油温：控制油温，使它达到适中的程度，以确保豆腐可以炒煮而不会烧焦。\\n\\n3. 切割豆腐：切割豆腐时，需要确保每个块的大小相同，以确保它们可以同时炒煮。\\n\\n4. 炒煮时间：炒煮豆腐时，需要注意时间，以确保它们可以炒煮而不会烧焦。\\n\\n5. 捞取豆腐：在炒煮豆腐时，需要', 'qid': 'vqa-171'}\n",
      "can not parse ans for res:  {'response': '桂花糖藕是安徽省的特色菜。\\n\\n桂花糖藕是安徽省的特色菜，它是一种以桂花糖为主要材料的食品。桂花糖藕的制作方法是将桂花糖和藕芽混合，然后用水泥炒煮，最后用炒烤炉烤煮。这种食品的味道是柔嫩的，有一定的甜味和辛辣味，非常适合作为小食或者配合其他食物。\\n\\n安徽省的桂花糖藕是一种非常著名的特色菜，它的历史可以追溯到安徽省的桂花糖藕市。这个市位于安徽省的桂花市，是安徽省的一大特色市场。桂花市的桂花糖藕市是安徽省的一大特色市场，它的历史可以追溯到安徽省的桂花市。这个市位于安徽省的桂花市，是安徽省的一大特色市场。桂花市的桂花糖藕市是安徽省的一大特色市场，它的历史可以追溯到安徽省的桂花市。这个市位于安徽省的桂花市，是安徽省的一大特色市场。桂花市的桂花糖藕市是安徽省的一大特色市场，它的历史可以追溯到安徽省的桂花市。这个市', 'qid': 'vqa-176'}\n",
      "can not parse ans for res:  {'response': '您好，我是一个智能助手，请问您需要什么帮助？.', 'qid': 'vqa-181'}\n",
      "can not parse ans for res:  {'response': '您好，我是一个智能助手，请问您需要什么帮助？.', 'qid': 'vqa-185'}\n",
      "can not parse ans for res:  {'response': '根据您提供的选项，我将为您提供答案。\\n\\n去四川游玩时应该品尝当地的特色美食回酿肉。\\n\\n四川省位于西南中部，是中国的一大省。四川省的特色美食包括回酿肉、炒鸡、炒肥肉、炒鸡腿、炒鸡肝、炒鸡肝等。回酿肉是四川省的一种特色美食，它是由猪肉切成的小块，然后用盐、酱油、辣椒、蒸肉粉等材料煮炒成的。回酿肉的味道是柔酥、辣椒味道浓郁，是四川省的一种特色美食。\\n\\n安徽省位于中国东南方，是中国的一大省。安徽省的特色美食包括烧鸡、炒鸡、炒鸡腿、炒鸡肝、炒鸡肝等。烧鸡是安徽省的一种特色美食，它是由鸡肉切成的小块，然后用盐、酱油、辣椒等材料烧成的。烧鸡的味道是柔酥、辣椒味道浓郁，是安徽省的一种特色美食。\\n\\n西宁市位于西南中部，是西藏自治区的一大市。西宁市的特色美食包括炒鸡、炒鸡腿、炒鸡肝、炒鸡肝等。炒鸡是西', 'qid': 'vqa-197'}\n",
      "can not parse ans for res:  {'response': '毛式红烧肉是江苏省的特色美食。\\n\\n毛式红烧肉是一种传统的江苏省的美食，它是由毛家人创造的。毛家人是江苏省的一家古老家庭，他们的家乡位于江苏省南京市。毛式红烧肉是一种用肉和蔬菜制作的食物，它的制作方法是将肉和蔬菜切成小块，然后用盐、酱油、辣椒等调味物加入，再用火炉烤烧，使得肉和蔬菜的味道融合，得到一种柔酥溶滑的食物。\\n\\n毛式红烧肉的特点是用肉和蔬菜制作，而不是用猪肉和牛肉制作，因此它的味道更加独特和健康。它的制作方法也比较简单，只需要用肉和蔬菜、盐、酱油、辣椒等调味物，然后用火炉烤烧，就可以得到一种柔酥溶滑的食物。\\n\\n毛式红烧肉的历史可以追溯到江苏省南京市的毛家人，它是一种传统的江苏省的美食。毛家人的家乡位于江苏省南京市，他们的家乡是江苏省南京市的一家古老家庭，他们的家乡位于江苏省南京市。毛式红烧肉的制作方法是由毛家人创造的，它的制作方法是将肉和蔬菜切成小块，然后用盐、酱油、辣椒等调味物加入，再用火炉烤烧，使得肉和蔬菜的', 'qid': 'vqa-199'}\n",
      "can not parse ans for res:  {'response': '陕甘宁地区。\\n\\n陕甘宁地区是一个富有历史文化和美食的地方，其中的特色美食口水鸡是一种非常受欢迎的食物。这种食物是由陕甘宁地区的人们创造出来的，它是一种由鸡肉和蔬菜组成的食物，通常会加上酱油和酱麩。\\n\\n陕甘宁地区的特色美食口水鸡是一种非常惊人的食物，它的味道非常柔弱，但是非常滋味。它的口感也非常柔鸡腿，而酱麩的味道是非常柔鸡腿。这种食物的口味非常适合夏天的时候，因为它的味道非常柔弱，而且非常适合人们在热天吃的食物。\\n\\n陕甘宁地区的特色美食口水鸡是一种非常惊人的食物，它的口感非常柔鸡腿，而酱麩的味道是非常柔鸡腿。这种食物的口味非常适合夏天的时候，因为它的味道非常柔弱，而且非常适合人们在热天吃的食物。\\n\\n陕甘宁地区的特色美食口水鸡是一种非常惊人的食物，它的口感非常柔鸡腿，而酱麩的味道是非常柔鸡腿。这种食物的口味非常适合夏天的时候，因为它的味道非常柔弱，而且非常适合人们在热天吃的食物。����', 'qid': 'vqa-200'}\n",
      "can not parse ans for res:  {'response': '浙菜.', 'qid': 'vqa-216'}\n",
      "can not parse ans for res:  {'response': '凯里酸汤鱼是西北菜的经典菜。.', 'qid': 'vqa-225'}\n",
      "can not parse ans for res:  {'response': '为了回答这个问题，我需要先了解每个菜系的特点和特色，然后根据这些特点确定梅菜扣肉是哪个菜系的经典菜。\\n\\n1. 川菜：川菜是一种以水煮和炒食为主的菜系，菜品多为水煮、炒炸、煮炒、烧烤等。菜品特点是清淡、鲜味，适合夏季食用。\\n\\n2. 湘菜：湘菜是一种以炒食为主的菜系，菜品多为炒炸、煮炒、烧烤等。菜品特点是鲜味、辣椒味，适合冬季食用。\\n\\n3. 粤菜：粤菜是一种以炒食为主的菜系，菜品多为炒炸、煮炒、烧烤等。菜品特点是鲜味、辣椒味，适合冬季食用。\\n\\n4. 赣菜 (客家菜)：赣菜是一种以炒食为主的菜系，菜品多为炒炸、煮炒、烧烤等。菜品特点是鲜味、辣椒味，适合冬季食用。\\n\\n根据上述描述，我们可以看出：\\n\\n- 川菜：水煮和炒食为主，清淡、鲜味，适合夏季食用。\\n- 湘菜：炒食为主，鲜味、辣椒味，适合冬季食用。\\n- 粤菜：炒食为主，鲜味、辣椒味，适合', 'qid': 'vqa-227'}\n",
      "can not parse ans for res:  {'response': '煲仔饭是粤菜的经典菜。.', 'qid': 'vqa-229'}\n",
      "can not parse ans for res:  {'response': '潮汕菜。.', 'qid': 'vqa-230'}\n",
      "can not parse ans for res:  {'response': '酱牛肉是浙菜的经典菜。\\n\\n酱牛肉是一种浙菜的经典菜品，它是由浙江省的浙江市和浙江省的杭州市等地区的浙菜系菜品。酱牛肉是一种用牛肉制成的食物，它的制作方法是将牛肉切成小块，然后加入酱油、酱麸、酱麸酱麸、酱麸酱麸、酱麸酱麸、酱麸酱麸、酱麸酱麸、酱麸酱麸、酱麸酱麸、酱麸酱麸、酱麸酱麸、酱麸酱麸、酱麸酱麸、酱麸酱麸、酱麸酱麸、酱麸酱麸、酱麸酱麸、酱麸酱麸、酱麸酱麸、酱麸酱麸、酱麸酱麸、酱麸酱麸、酱麸酱麸、酱麸酱麸、酱麸酱麸、酱麸酱麸、酱麸酱麸、酱麸酱麸、酱麸酱麸、酱麸酱麸、酱麸酱麸、�', 'qid': 'vqa-233'}\n",
      "can not parse ans for res:  {'response': '龙井虾仁是黔菜的经典菜。\\n\\n黔菜是一种中国南方的菜系，它的特色是用酸酸味的酱酥和辣椒作为主要调味品，以及使用酸酸味的酱酥和辣椒作为主要调味品。黔菜的菜品通常是用酸酸味的酱酥和辣椒作为主要调味品，以及使用酸酸味的酱酥和辣椒作为主要调味品。黔菜的菜品通常是用酸酸味的酱酥和辣椒作为主要调味品，以及使用酸酸味的酱酥和辣椒作为主要调味品。黔菜的菜品通常是用酸酸味的酱酥和辣椒作为主要调味品，以及使用酸酸味的酱酥和辣椒作为主要调味品。黔菜的菜品通常是用酸酸味的酱酥和辣椒作为主要调味品，以及使用酸酸味的酱酥和辣椒作为主要调味品。黔菜的菜品通常是用酸酸味的酱酥和辣椒作为主要调味品，以及使用酸酸味的酱酥和辣椒作为主要调味品。黔菜的菜品通常是用酸酸味的酱酥和辣椒作', 'qid': 'vqa-237'}\n",
      "can not parse ans for res:  {'response': '大盘鸡是重庆的特色美食。\\n\\n大盘鸡是一种重庆特有的传统食物，它是一种由鸡肉、蛋白、蔬菜、辣椒、芝麻等食材制成的食品。它的制作方法是将鸡肉、蛋白、蔬菜、辣椒等食材切成小块，然后将它们放入锅里煮炒，最后加上芝麻和酱油等调味品，使得食物成为一种浓郁的味道。\\n\\n大盘鸡的历史可追溯到重庆的古代，它是一种传统的家庭食物。在重庆的历史上，大盘鸡是一种非常重要的食物，它是一种代表重庆的特色美食。\\n\\n大盘鸡的制作方法是相对简单的，但需要一定的技巧和技能。它的制作过程包括切小块鸡肉、蛋白、蔬菜、辣椒等食材，然后将它们放入锅里煮炒，最后加上芝麻和酱油等调味品，使得食物成为一种浓郁的味道。\\n\\n大盘鸡的特色是它的味道，它的味道是一种浓郁的、柔酥的味道，它的味道是一种柔酥的、浓郁的味道。它的味道是一种柔酥的、浓郁的味道，它的味道是一种柔酥的、浓郁的味道。它的味道是一种柔酥的、浓郁的味', 'qid': 'vqa-249'}\n",
      "can not parse ans for res:  {'response': '您好，我是一个智能助手，请问您需要什么帮助？.', 'qid': 'vqa-251'}\n",
      "can not parse ans for res:  {'response': '杭州.', 'qid': 'vqa-258'}\n",
      "can not parse ans for res:  {'response': '姜母鸭是西安的特色美食。.', 'qid': 'vqa-267'}\n",
      "can not parse ans for res:  {'response': '我是一个智能助手，请问你需要我帮助的问题是什么？.', 'qid': 'vqa-275'}\n",
      "can not parse ans for res:  {'response': '您好，我是智能助手。同安封肉烹饪时一般需要炒烹。\\n\\n炒烹是一种常用的烹饪方法，它可以用来烹制各种肉类和蔬菜。在同安封肉烹饪中，炒烹是一种常用的方法，因为它可以使肉更加酥脂和柔韵，同时保持肉的原味和鲜嫩。\\n\\n炒烹的原理是通过将肉和蔬菜放入热油中，然后不断地翻转和捣捣，使得肉和蔬菜的表面被炒烤，同时保持肉的内部温度。这种方法可以使肉的表面变得酥脂和柔韵，同时保持肉的内部温度。\\n\\n在同安封肉烹饪中，炒烹是一种常用的方法，因为它可以使肉更加酥脂和柔韵，同时保持肉的原味和鲜嫩。同时，炒烹也是一种快速的烹饪方法，可以在短时间内完成烹饪。\\n\\n炒烹的另一个优点是，它可以使肉的表面变得更加酥脂和柔韵，同时保持肉的内部温度。这种方法可以使肉更加酥脂和柔韵，同时保持肉的原味和鲜嫩。\\n\\n炒烹的另一个优点是，它可以使肉的表面变得更加酥脂和柔韵，同时保持肉', 'qid': 'vqa-277'}\n",
      "can not parse ans for res:  {'response': '荔枝肉是新疆地区的特色美食。\\n\\n荔枝肉是新疆地区的一种特色美食，它是由新疆地区的羊肉和荔枝糖制成的食物。荔枝肉的制作过程涉及多个步骤，包括选择高质量的羊肉、切成小块、加入荔枝糖和其他调味物品，然后烤炒或煮炼，最后切成小块或切成圆形的形状。\\n\\n荔枝肉的味道是柔酸的，有一定的甜味和酸味，而且有一定的酥味和脂肪味。它的味道和口感非常适合新疆地区的气候和食物风格。\\n\\n荔枝肉的历史可以追溯到新疆地区的古代，它是一种传统的新疆地区的食物。在新疆地区，荔枝肉是一种非常受欢迎的食物，它常常被用来庆祝特殊节日和活动。\\n\\n荔枝肉的制作过程需要一定的技巧和技能，因为它需要在制作过程中保持荔枝肉的质量和鲜度。因此，荔枝肉的制作需要一定的技能和经验。\\n\\n荔枝肉的制作过程需要一定的时间，因为它需要在制作过程中保持荔枝肉的质量和鲜度。因此，荔枝肉的制作需要一定的时间。\\n\\n荔枝肉的制', 'qid': 'vqa-278'}\n",
      "can not parse ans for res:  {'response': '根据中国菜系分类标准，干炒牛河属于粤菜。\\n\\n粤菜是一种以炒炸为主的菜系，其特点是用炒炸法烹饪食物，以及使用酱油、酱麸、酱麸酱麸酱麸等�������������������������������������������������������������������������������������������������������������������������������������������������������������������������������������������������������������������������������������������������������������������������������������������������������������������������������������������������������������������������������������������������������������', 'qid': 'vqa-279'}\n",
      "can not parse ans for res:  {'response': '大碴子粥是东北地区的特色菜。\\n\\n大碴子粥是一种传统的中国北方地区的食物，它是由麦芽粥和麦芽粥汤制成的粥品。它的名字来源于它的制作方法，大碴子粥是用大碱碗制作的。大碱碗是一种特殊的碱碗，它可以容纳大量的食物，因此可以用来制作大量的粥品。\\n\\n大碴子粥是东北地区的特色菜，因为它是一种传统的北方地区的食物。它的制作方法和食物材料都是来自北方地区。大碴子粥的制作方法和食物材料都是来自北方地区。大碴子粥的制作方法和食物材料都是来自北方地区。大碴子粥的制作方法和食物材料都是来自北方地区。大碴子粥的制作方法和食物材料都是来自北方地区。大碴子粥的制作方法和食物材料都是来自北方地区。大碴子粥的制作方法和食物材料都是来自北方地区。大碴子粥的制作方法和食物材料都是来自北方地区。大碴子粥的制作方法和食物材料都是来自北方地区。大碴子粥的制作方法和食物材料都是来自北方地区。大碴子粥的制作方法和食物材料都是来自北方地区。大碴子粥的制作方法', 'qid': 'vqa-286'}\n",
      "can not parse ans for res:  {'response': '同安封肉是福建省的特色美食。\\n\\n同安封肉是福建省的一种特色美食，它是由福建省南安市的同安县人所创造的。同安封肉是由猪肉和腊肠等食物的混合物，它的制作方法是将猪肉和腊肠切成小块，然后用盐、酱油、辣椒等调味物加入，再用烤盐烤制成。同安封肉的特点是它的味道柔嫩，有一定的辣味，而且有一定的酸味，这使得它的口感非常柔嫩。\\n\\n同安封肉的历史可追溯到南安市同安县的农民们在农业生产中的需要，他们需要一种可以保存长期的食物，同时也可以提供丰富的营养。因此，同安封肉的制作方法是由南安县人所创造的，它的制作方法是将猪肉和腊肠切成小块，然后用盐、酱油、辣椒等调味物加入，再用烤盐烤制成。\\n\\n同安封肉的制作方法是非常简单的，只需要将猪肉和腊肠切成小块，然后加入盐、酱油、辣椒等调味物，再用烤盐烤制成。同时，同安封肉的制作方法也非常简单，只需要将猪肉和腊肠切成小块，然后加入盐、酱油、辣椒等调味物，再用烤盐烤制成。\\n\\n同', 'qid': 'vqa-298'}\n",
      "can not parse ans for res:  {'response': '西湖醋鱼是浙江省杭州市的特色菜。.', 'qid': 'vqa-301'}\n",
      "can not parse ans for res:  {'response': '陕甘宁地区。\\n\\n过油肉拌面是陕甘宁地区的特色菜。陕甘宁地区位于西北中心，是中国的一部分地区。这个地区的食物特色是以肉类和油泥为主，因为这里的气候较干燥，人们需要吃更多的油泥和肉类来维持体力。\\n\\n过油肉拌面是一种特别�asty的食物，它是由肉类和油泥拌成的面条，然后用酱油和酱麩酱汁拌成的面条。这种食物的口感非常柔酥，而且味道非常�asty。\\n\\n陕甘宁地区的过油肉拌面是一种非常惊人的食物，它的口感和味道非常柔酥和�asty。如果你有机会去陕甘宁地区，请尝尝这种食物，你一定会喜欢它。.', 'qid': 'vqa-318'}\n",
      "can not parse ans for res:  {'response': '糖醋丸子通常是酸甜的口味。\\n\\n糖醋丸子是一种常见的中国食物，它是由糖醋和�����������������������������������������������������������������������������������������������������������������������������������������������������������������������������������������������������������������������������������������������������������������������������������������������������������������������������������������������������������������������������������������������������������������������������������������������������������', 'qid': 'vqa-319'}\n",
      "can not parse ans for res:  {'response': '桂菜.', 'qid': 'vqa-320'}\n",
      "can not parse ans for res:  {'response': '酿皮是安徽省的特色美食。安徽省的酿皮是一种传统的饮品，它是由酸酸菌菌生出来的酸酸酸酸的酸酸酸酸的酸酸酸酸的酸酸酸酸的酸酸酸酸的酸酸酸酸的酸酸酸酸的酸酸酸酸的酸酸酸酸的酸酸酸酸的酸酸酸酸的酸酸酸酸的酸酸酸酸的酸酸酸酸的酸酸酸酸的酸酸酸酸的酸酸酸酸的酸酸酸酸的酸酸酸酸的酸酸酸酸的酸酸酸酸的酸酸酸酸的酸酸酸酸的酸酸酸酸的酸酸酸酸的酸酸酸酸的酸酸酸酸的酸酸酸酸的酸酸酸酸的酸酸酸酸的酸酸酸酸的酸酸酸酸的酸酸酸酸的酸酸酸酸的�', 'qid': 'vqa-326'}\n",
      "can not parse ans for res:  {'response': '您好，我是一个智能助手，请问您需要什么帮助？.', 'qid': 'vqa-327'}\n",
      "can not parse ans for res:  {'response': '丁丁炒面是江浙沪地区的特色美食。\\n\\nding ding noodles, also known as zhajiang noodles, is a popular dish in the jianjiang, zhejiang, and shandong provinces of china. it is a noodle dish that is typically served with a thick, dark sauce made from soy sauce, vinegar, and other seasonings. the noodles are usually cooked in a wok with a small amount of oil and then topped with the sauce.\\n\\nding ding noodles are often served with other dishes, such as dumplings, pork, or vegetables, and are typically eaten with chopsticks. the dish is popular among locals and tourists alike, and is often considered a must-try when visiting the jianjiang, zhejiang, and shandong provinces.', 'qid': 'vqa-332'}\n",
      "0.27734375\n",
      "sivqa_idefics2-8b_zh_prompt2.jsonl\n",
      "can not parse ans for res:  {'response': '湘菜\\n\\n辣椒炒肉是一种湘菜的菜系。湘菜是一种中国南方的菜系，其特色是用辣椒和辣椒汁作为主要的调味品，以及使用酸汁和辣椒汁作为汤汁。辣椒炒肉是一种常见的湘菜菜品，它是用辣椒和辣椒汁炒烤的肉，常用辣椒汁和酱油作为汤汁。湘菜菜系的特色是用辣椒和辣椒汁作为主要的调味品，以及使用酸汁和辣椒汁作为汤汁。.', 'qid': 'vqa-114'}\n",
      "can not parse ans for res:  {'response': '桂菜\\n\\n荔枝肉是一种常见的中国菜品，它是由荔枝芽和肉组成的食物。荔枝肉属于桂菜菜系，因为它是一种桂菜芽的食物。桂菜菜系是一种中国菜系，它的特点是使用桂菜芽和桂菜叶作为食物的原材料。桂菜菜系的菜肴通常是以桂菜芽和桂菜叶为主要食物，并与其他食物配合，如肉、蔬菜、豆腐等。\\n\\n桂菜菜系的特点是以桂菜芽和桂菜叶为主要食物，并与其他食物配合，如肉、蔬菜、豆腐等。桂菜菜系的菜肴通常是以桂菜芽和桂菜叶为主要食物，并与其他食物配合，如肉、蔬菜、豆腐等。\\n\\n桂菜菜系的菜肴通常是以桂菜芽和桂菜叶为主要食物，并与其他食物配合，如肉、蔬菜、豆腐等。桂菜菜系的菜肴通常是以桂菜芽和桂菜叶为主要食物，并与其他食物配合，如肉、蔬菜、豆腐等。\\n\\n桂菜菜系的菜肴通常是以桂菜芽和桂菜叶为主要食物，并与其他食物配合，如肉、蔬菜、豆腐等。桂菜菜系的菜肴通常是以桂菜芽和桂菜叶为主要食物，并', 'qid': 'vqa-125'}\n",
      "can not parse ans for res:  {'response': '杭州\\n\\n杭州是一个具有丰富历史和文化的城市，它的特色美食包括杭州烧肉、杭州牛肉丸、杭州烧肉烧鸡、杭州烧肉����������������������������������������������������������������������������������������������������������������������������������������������������������������������������������������������������������������������������������������������������������������������������������������������������������������������������������������������������������������������������������������������������������������������������������������', 'qid': 'vqa-333'}\n",
      "0.3671875\n",
      "sivqa_idefics2-8b_zh_prompt3.jsonl\n",
      "0.37109375\n",
      "[0.2852, 0.2773, 0.3672, 0.3711]\n"
     ]
    }
   ],
   "source": [
    "def parse_res(res):\n",
    "    ans_str = res[\"response\"]\n",
    "    ans_letter = re.findall(r'[A-D]', ans_str)\n",
    "    if not ans_letter or len(ans_letter) == 0:\n",
    "        print(\"can not parse ans for res: \", res)\n",
    "        return random.choice([\"0\", \"1\", \"2\", \"3\"])\n",
    "    else:\n",
    "        ans = ans_letter[0].upper()\n",
    "        if ans not in ans2idx:\n",
    "            print(\"can not parse ans for res: \", res)\n",
    "            return random.choice([\"0\", \"1\", \"2\", \"3\"])\n",
    "        else:\n",
    "            return ans2idx[ans]\n",
    "\n",
    "noimg_data, noimg_acc = get_res_and_acc(sivqa, \"sivqa_idefics2-8b_zh_prompt*.jsonl\", parse_res)\n",
    "print(noimg_acc)"
   ]
  },
  {
   "cell_type": "code",
   "execution_count": 109,
   "metadata": {},
   "outputs": [
    {
     "name": "stdout",
     "output_type": "stream",
     "text": [
      "['/Users/wli/projects/foodie-dataset/data/results/show_food_name_res/sivqa_idefics2-8b_zh_prompt0.jsonl', '/Users/wli/projects/foodie-dataset/data/results/show_food_name_res/sivqa_idefics2-8b_zh_prompt1.jsonl', '/Users/wli/projects/foodie-dataset/data/results/show_food_name_res/sivqa_idefics2-8b_zh_prompt2.jsonl', '/Users/wli/projects/foodie-dataset/data/results/show_food_name_res/sivqa_idefics2-8b_zh_prompt3.jsonl']\n",
      "sivqa_idefics2-8b_zh_prompt0.jsonl\n",
      "can not parse ans for res:  {'response': '煮.', 'qid': 'vqa-59'}\n",
      "can not parse ans for res:  {'response': '熏.', 'qid': 'vqa-68'}\n",
      "can not parse ans for res:  {'response': '客家菜.', 'qid': 'vqa-78'}\n",
      "can not parse ans for res:  {'response': '闽菜.', 'qid': 'vqa-140'}\n",
      "can not parse ans for res:  {'response': '山西.', 'qid': 'vqa-148'}\n",
      "can not parse ans for res:  {'response': '煮.', 'qid': 'vqa-154'}\n",
      "can not parse ans for res:  {'response': '煎.', 'qid': 'vqa-171'}\n",
      "can not parse ans for res:  {'response': '台州.', 'qid': 'vqa-177'}\n",
      "can not parse ans for res:  {'response': '客家菜.', 'qid': 'vqa-193'}\n",
      "can not parse ans for res:  {'response': '客家菜.', 'qid': 'vqa-205'}\n",
      "can not parse ans for res:  {'response': '酸辣.', 'qid': 'vqa-219'}\n",
      "can not parse ans for res:  {'response': '煎.', 'qid': 'vqa-223'}\n",
      "can not parse ans for res:  {'response': '潮汕菜.', 'qid': 'vqa-230'}\n",
      "can not parse ans for res:  {'response': '熊.', 'qid': 'vqa-270'}\n",
      "can not parse ans for res:  {'response': '炸.', 'qid': 'vqa-271'}\n",
      "can not parse ans for res:  {'response': '炒.', 'qid': 'vqa-285'}\n",
      "can not parse ans for res:  {'response': '炒.', 'qid': 'vqa-314'}\n",
      "can not parse ans for res:  {'response': '炒.', 'qid': 'vqa-327'}\n",
      "0.40234375\n",
      "sivqa_idefics2-8b_zh_prompt1.jsonl\n",
      "can not parse ans for res:  {'response': '炒.', 'qid': 'vqa-38'}\n",
      "can not parse ans for res:  {'response': '猪肉丝.', 'qid': 'vqa-136'}\n",
      "can not parse ans for res:  {'response': '炸.', 'qid': 'vqa-271'}\n",
      "can not parse ans for res:  {'response': '炒.', 'qid': 'vqa-327'}\n",
      "0.4140625\n",
      "sivqa_idefics2-8b_zh_prompt2.jsonl\n",
      "0.40625\n",
      "sivqa_idefics2-8b_zh_prompt3.jsonl\n",
      "can not parse ans for res:  {'response': '客家菜).', 'qid': 'vqa-193'}\n",
      "can not parse ans for res:  {'response': '客家菜。.', 'qid': 'vqa-205'}\n",
      "can not parse ans for res:  {'response': '炸.', 'qid': 'vqa-271'}\n",
      "can not parse ans for res:  {'response': '客家菜).', 'qid': 'vqa-308'}\n",
      "can not parse ans for res:  {'response': '炒.', 'qid': 'vqa-327'}\n",
      "0.421875\n",
      "[0.4023, 0.4141, 0.4062, 0.4219]\n"
     ]
    }
   ],
   "source": [
    "result_dir = \"/Users/wli/projects/foodie-dataset/data/results/show_food_name_res\"\n",
    "show_img_data, show_img_acc = get_res_and_acc(sivqa, \"sivqa_idefics2-8b_zh_prompt*.jsonl\", parse_res)\n",
    "print(show_img_acc)"
   ]
  },
  {
   "cell_type": "code",
   "execution_count": 110,
   "metadata": {},
   "outputs": [
    {
     "name": "stdout",
     "output_type": "stream",
     "text": [
      "['/Users/wli/projects/foodie-dataset/data/results/sivqa_res/sivqa_idefics2-8b_zh_prompt0.jsonl', '/Users/wli/projects/foodie-dataset/data/results/sivqa_res/sivqa_idefics2-8b_zh_prompt1.jsonl', '/Users/wli/projects/foodie-dataset/data/results/sivqa_res/sivqa_idefics2-8b_zh_prompt2.jsonl', '/Users/wli/projects/foodie-dataset/data/results/sivqa_res/sivqa_idefics2-8b_zh_prompt3.jsonl']\n",
      "sivqa_idefics2-8b_zh_prompt0.jsonl\n",
      "can not parse ans for res:  {'response': '川渝.', 'qid': 'vqa-6'}\n",
      "can not parse ans for res:  {'response': '煮.', 'qid': 'vqa-154'}\n",
      "can not parse ans for res:  {'response': '煮.', 'qid': 'vqa-223'}\n",
      "0.4453125\n",
      "sivqa_idefics2-8b_zh_prompt1.jsonl\n",
      "can not parse ans for res:  {'response': '煎.', 'qid': 'vqa-223'}\n",
      "can not parse ans for res:  {'response': '炸.', 'qid': 'vqa-271'}\n",
      "can not parse ans for res:  {'response': '炒.', 'qid': 'vqa-285'}\n",
      "can not parse ans for res:  {'response': '炒.', 'qid': 'vqa-314'}\n",
      "can not parse ans for res:  {'response': '炒.', 'qid': 'vqa-327'}\n",
      "0.43359375\n",
      "sivqa_idefics2-8b_zh_prompt2.jsonl\n",
      "can not parse ans for res:  {'response': '客家菜).', 'qid': 'vqa-193'}\n",
      "can not parse ans for res:  {'response': 'Sichuan.', 'qid': 'vqa-197'}\n",
      "0.45703125\n",
      "sivqa_idefics2-8b_zh_prompt3.jsonl\n",
      "can not parse ans for res:  {'response': '客家菜).', 'qid': 'vqa-193'}\n",
      "0.47265625\n",
      "[0.4453, 0.4336, 0.457, 0.4727]\n"
     ]
    }
   ],
   "source": [
    "result_dir = \"/Users/wli/projects/foodie-dataset/data/results/sivqa_res\"\n",
    "show_img_data, show_img_acc = get_res_and_acc(sivqa, \"sivqa_idefics2-8b_zh_prompt*.jsonl\", parse_res)\n",
    "print(show_img_acc)"
   ]
  },
  {
   "cell_type": "markdown",
   "metadata": {},
   "source": [
    "## TextQA"
   ]
  },
  {
   "cell_type": "code",
   "execution_count": 87,
   "metadata": {},
   "outputs": [],
   "source": [
    "import textqa_utils\n",
    "from glob import glob\n",
    "import random\n",
    "import os\n",
    "import json"
   ]
  },
  {
   "cell_type": "code",
   "execution_count": 88,
   "metadata": {},
   "outputs": [],
   "source": [
    "result_dir = \"/Users/wli/projects/foodie-dataset/data/results/textqa_res\"\n",
    "textqa = textqa_utils.read_textqa(\"/Users/wli/projects/foodie-dataset/data/\")\n",
    "\n",
    "ans2idx = {\n",
    "        \"A\":\"0\",\n",
    "        \"B\":\"1\",\n",
    "        \"C\":\"2\",\n",
    "        \"D\":\"3\"\n",
    "        }\n",
    "\n",
    "def read_res_data(res_file):\n",
    "    data = []\n",
    "    # \"sivqa_mantis_prompt3.jsonl\"\n",
    "    with open(os.path.join(result_dir, res_file), \"r\", encoding='utf-8') as f:\n",
    "        for line in f:\n",
    "            data.append(json.loads(line))\n",
    "    return data\n",
    "\n",
    "def get_accuracy(sivqa, data, parse_fn): \n",
    "    # get acc\n",
    "    gts = [s[\"answer\"] for s in sivqa]\n",
    "    answers = [parse_fn(d) for d in data]\n",
    "    accuracy = accuracy_score(gts, answers)\n",
    "    print(accuracy)\n",
    "    return accuracy\n"
   ]
  },
  {
   "cell_type": "code",
   "execution_count": 89,
   "metadata": {},
   "outputs": [],
   "source": [
    "llama3_res_files = glob(os.path.join(result_dir, \"textqa_Llama3-8B*.jsonl\"))"
   ]
  },
  {
   "cell_type": "code",
   "execution_count": 90,
   "metadata": {},
   "outputs": [
    {
     "data": {
      "text/plain": [
       "['/Users/wli/projects/foodie-dataset/data/results/textqa_res/textqa_Llama3-8B-Chinese-Chat_prompt1.jsonl',\n",
       " '/Users/wli/projects/foodie-dataset/data/results/textqa_res/textqa_Llama3-8B-Chinese-Chat_prompt3.jsonl',\n",
       " '/Users/wli/projects/foodie-dataset/data/results/textqa_res/textqa_Llama3-8B-Chinese-Chat_prompt2.jsonl',\n",
       " '/Users/wli/projects/foodie-dataset/data/results/textqa_res/textqa_Llama3-8B-Chinese-Chat_prompt0.jsonl']"
      ]
     },
     "execution_count": 90,
     "metadata": {},
     "output_type": "execute_result"
    }
   ],
   "source": [
    "llama3_res_files"
   ]
  },
  {
   "cell_type": "code",
   "execution_count": 93,
   "metadata": {},
   "outputs": [],
   "source": [
    "import re\n",
    "def parse_res(res):\n",
    "    ans_str = res[\"response\"]\n",
    "    ans_letter = re.findall(r'[A-Z]', ans_str)\n",
    "    random.seed(42)\n",
    "    if not ans_letter or len(ans_letter) == 0:\n",
    "        # print(\"can not parse ans for res: \", res)\n",
    "        return random.choice([\"0\", \"1\", \"2\", \"3\"])\n",
    "    else:\n",
    "        ans = ans_letter[0].upper()\n",
    "        if ans not in ans2idx:\n",
    "            # print(\"can not parse ans for res: \", res)\n",
    "            return random.choice([\"0\", \"1\", \"2\", \"3\"])\n",
    "        else:\n",
    "            return ans2idx[ans]\n",
    "        "
   ]
  },
  {
   "cell_type": "code",
   "execution_count": 94,
   "metadata": {},
   "outputs": [
    {
     "name": "stdout",
     "output_type": "stream",
     "text": [
      "textqa_Llama3-8B-Chinese-Chat_prompt0.jsonl\n"
     ]
    },
    {
     "ename": "NameError",
     "evalue": "name 'accuracy_score' is not defined",
     "output_type": "error",
     "traceback": [
      "\u001b[0;31m---------------------------------------------------------------------------\u001b[0m",
      "\u001b[0;31mNameError\u001b[0m                                 Traceback (most recent call last)",
      "\u001b[0;32m/var/folders/g6/g_wpvgys6_5d49rz8jrzmm840000gn/T/ipykernel_4923/1170936766.py\u001b[0m in \u001b[0;36m<module>\u001b[0;34m\u001b[0m\n\u001b[1;32m      5\u001b[0m     \u001b[0mdata\u001b[0m \u001b[0;34m=\u001b[0m \u001b[0mread_res_data\u001b[0m\u001b[0;34m(\u001b[0m\u001b[0mfile_name\u001b[0m\u001b[0;34m)\u001b[0m\u001b[0;34m\u001b[0m\u001b[0;34m\u001b[0m\u001b[0m\n\u001b[1;32m      6\u001b[0m     \u001b[0;31m# print(data[0])\u001b[0m\u001b[0;34m\u001b[0m\u001b[0;34m\u001b[0m\u001b[0;34m\u001b[0m\u001b[0m\n\u001b[0;32m----> 7\u001b[0;31m     \u001b[0mget_accuracy\u001b[0m\u001b[0;34m(\u001b[0m\u001b[0mtextqa\u001b[0m\u001b[0;34m,\u001b[0m \u001b[0mdata\u001b[0m\u001b[0;34m,\u001b[0m \u001b[0mparse_fn\u001b[0m\u001b[0;34m=\u001b[0m\u001b[0mparse_res\u001b[0m\u001b[0;34m)\u001b[0m\u001b[0;34m\u001b[0m\u001b[0;34m\u001b[0m\u001b[0m\n\u001b[0m",
      "\u001b[0;32m/var/folders/g6/g_wpvgys6_5d49rz8jrzmm840000gn/T/ipykernel_4923/2570412427.py\u001b[0m in \u001b[0;36mget_accuracy\u001b[0;34m(sivqa, data, parse_fn)\u001b[0m\n\u001b[1;32m     21\u001b[0m     \u001b[0mgts\u001b[0m \u001b[0;34m=\u001b[0m \u001b[0;34m[\u001b[0m\u001b[0ms\u001b[0m\u001b[0;34m[\u001b[0m\u001b[0;34m\"answer\"\u001b[0m\u001b[0;34m]\u001b[0m \u001b[0;32mfor\u001b[0m \u001b[0ms\u001b[0m \u001b[0;32min\u001b[0m \u001b[0msivqa\u001b[0m\u001b[0;34m]\u001b[0m\u001b[0;34m\u001b[0m\u001b[0;34m\u001b[0m\u001b[0m\n\u001b[1;32m     22\u001b[0m     \u001b[0manswers\u001b[0m \u001b[0;34m=\u001b[0m \u001b[0;34m[\u001b[0m\u001b[0mparse_fn\u001b[0m\u001b[0;34m(\u001b[0m\u001b[0md\u001b[0m\u001b[0;34m)\u001b[0m \u001b[0;32mfor\u001b[0m \u001b[0md\u001b[0m \u001b[0;32min\u001b[0m \u001b[0mdata\u001b[0m\u001b[0;34m]\u001b[0m\u001b[0;34m\u001b[0m\u001b[0;34m\u001b[0m\u001b[0m\n\u001b[0;32m---> 23\u001b[0;31m     \u001b[0maccuracy\u001b[0m \u001b[0;34m=\u001b[0m \u001b[0maccuracy_score\u001b[0m\u001b[0;34m(\u001b[0m\u001b[0mgts\u001b[0m\u001b[0;34m,\u001b[0m \u001b[0manswers\u001b[0m\u001b[0;34m)\u001b[0m\u001b[0;34m\u001b[0m\u001b[0;34m\u001b[0m\u001b[0m\n\u001b[0m\u001b[1;32m     24\u001b[0m     \u001b[0mprint\u001b[0m\u001b[0;34m(\u001b[0m\u001b[0maccuracy\u001b[0m\u001b[0;34m)\u001b[0m\u001b[0;34m\u001b[0m\u001b[0;34m\u001b[0m\u001b[0m\n\u001b[1;32m     25\u001b[0m     \u001b[0;32mreturn\u001b[0m \u001b[0maccuracy\u001b[0m\u001b[0;34m\u001b[0m\u001b[0;34m\u001b[0m\u001b[0m\n",
      "\u001b[0;31mNameError\u001b[0m: name 'accuracy_score' is not defined"
     ]
    }
   ],
   "source": [
    "for file in sorted(llama3_res_files):\n",
    "    file_name = os.path.basename(file)\n",
    "    print(file_name)\n",
    "    # load data\n",
    "    data = read_res_data(file_name)        \n",
    "    # print(data[0])\n",
    "    get_accuracy(textqa, data, parse_fn=parse_res)"
   ]
  },
  {
   "cell_type": "markdown",
   "metadata": {},
   "source": [
    "### eval mistral"
   ]
  },
  {
   "cell_type": "code",
   "execution_count": 268,
   "metadata": {},
   "outputs": [],
   "source": [
    "mistral_res_files = glob(os.path.join(result_dir, \"textqa_Mistral-7B-Instruct*.jsonl\"))"
   ]
  },
  {
   "cell_type": "code",
   "execution_count": 269,
   "metadata": {},
   "outputs": [
    {
     "name": "stdout",
     "output_type": "stream",
     "text": [
      "0\n"
     ]
    }
   ],
   "source": [
    "data = read_res_data(mistral_res_files[2])\n",
    "print(parse_res(data[2]))"
   ]
  },
  {
   "cell_type": "code",
   "execution_count": 322,
   "metadata": {},
   "outputs": [],
   "source": [
    "def get_accuracy(sivqa, data, parse_fn=parse_res, template=0): \n",
    "    # get acc\n",
    "    gts = [s[\"answer\"] for s in sivqa]\n",
    "    answers = [parse_fn(d, template=template) for d in data]\n",
    "    accuracy = round(accuracy_score(gts, answers),4)\n",
    "    print(accuracy)\n",
    "    return accuracy\n",
    "\n",
    "def parse_res(res, template=0):\n",
    "    random.seed(42)\n",
    "    ans_str = res[\"response\"]\n",
    "    if template in [0,1]:\n",
    "        try:\n",
    "            ans_str = ans_str.split(\"选择一个正确答案\")[1]\n",
    "        except:\n",
    "            ans_str = ans_str\n",
    "    else:\n",
    "        try: ans_str = ans_str.split(\"我选择\")[1]\n",
    "        except:\n",
    "            ans_str = ans_str\n",
    "    ans_letter = re.findall(r'[A-D]', ans_str)\n",
    "    if not ans_letter or len(ans_letter) == 0:\n",
    "        # print(\"can not parse ans for res: \", res)\n",
    "        return random.choice([\"0\", \"1\", \"2\", \"3\"])\n",
    "    else:\n",
    "        ans = ans_letter[0].upper()\n",
    "        if ans not in ans2idx:\n",
    "            # print(\"can not parse ans for res: \", res)\n",
    "            return random.choice([\"0\", \"1\", \"2\", \"3\"])\n",
    "        else:\n",
    "            return ans2idx[ans]\n",
    "        "
   ]
  },
  {
   "cell_type": "code",
   "execution_count": 323,
   "metadata": {},
   "outputs": [
    {
     "name": "stdout",
     "output_type": "stream",
     "text": [
      "textqa_Mistral-7B-Instruct-v0.3_prompt0.jsonl\n",
      "0.3404\n",
      "textqa_Mistral-7B-Instruct-v0.3_prompt1.jsonl\n",
      "0.3489\n",
      "textqa_Mistral-7B-Instruct-v0.3_prompt2.jsonl\n",
      "0.2539\n",
      "textqa_Mistral-7B-Instruct-v0.3_prompt3.jsonl\n",
      "0.2567\n"
     ]
    }
   ],
   "source": [
    "for idx, file in enumerate(sorted(mistral_res_files)):\n",
    "    file_name = os.path.basename(file)\n",
    "    print(file_name)\n",
    "    # load data\n",
    "    data = read_res_data(file_name)        \n",
    "    # print(data[0])\n",
    "    get_accuracy(textqa, data, parse_fn=parse_res, template=idx)"
   ]
  },
  {
   "cell_type": "code",
   "execution_count": 324,
   "metadata": {},
   "outputs": [
    {
     "name": "stdout",
     "output_type": "stream",
     "text": [
      "0.2539\n"
     ]
    },
    {
     "data": {
      "text/plain": [
       "0.2539"
      ]
     },
     "execution_count": 324,
     "metadata": {},
     "output_type": "execute_result"
    }
   ],
   "source": [
    "data = read_res_data(sorted(mistral_res_files)[2])        \n",
    "# print(data[0])\n",
    "get_accuracy(textqa, data, parse_fn=parse_res, template=idx)"
   ]
  },
  {
   "cell_type": "markdown",
   "metadata": {},
   "source": [
    "phi-3"
   ]
  },
  {
   "cell_type": "code",
   "execution_count": 325,
   "metadata": {},
   "outputs": [],
   "source": [
    "phi_res_files = glob(os.path.join(result_dir, \"textqa_Phi-3*.jsonl\"))"
   ]
  },
  {
   "cell_type": "code",
   "execution_count": 314,
   "metadata": {},
   "outputs": [
    {
     "name": "stdout",
     "output_type": "stream",
     "text": [
      "textqa_Phi-3-medium-4k-instruct_prompt0.jsonl\n",
      "0.3929\n",
      "textqa_Phi-3-medium-4k-instruct_prompt1.jsonl\n",
      "0.4128\n",
      "textqa_Phi-3-medium-4k-instruct_prompt2.jsonl\n",
      "0.2539\n",
      "textqa_Phi-3-medium-4k-instruct_prompt3.jsonl\n",
      "0.2553\n"
     ]
    }
   ],
   "source": [
    "for idx, file in enumerate(sorted(phi_res_files)):\n",
    "    file_name = os.path.basename(file)\n",
    "    print(file_name)\n",
    "    # load data\n",
    "    data = read_res_data(file_name)        \n",
    "    # print(data[0])\n",
    "    get_accuracy(textqa, data, parse_fn=parse_res, template=idx)"
   ]
  },
  {
   "cell_type": "code",
   "execution_count": 318,
   "metadata": {},
   "outputs": [],
   "source": [
    "# yi_res_files = glob(os.path.join(result_dir, \"textqa_Yi-34B_prompt*.jsonl\"))\n",
    "yi_res_files = glob(os.path.join(result_dir, \"textqa_Yi-6B_prompt*.jsonl\"))"
   ]
  },
  {
   "cell_type": "code",
   "execution_count": 319,
   "metadata": {},
   "outputs": [
    {
     "name": "stdout",
     "output_type": "stream",
     "text": [
      "textqa_Yi-6B_prompt0.jsonl\n",
      "0.2539\n",
      "textqa_Yi-6B_prompt1.jsonl\n",
      "0.2539\n",
      "textqa_Yi-6B_prompt2.jsonl\n",
      "0.2539\n",
      "textqa_Yi-6B_prompt3.jsonl\n",
      "0.2553\n",
      "[0.2539, 0.2539, 0.2539, 0.2553]\n"
     ]
    }
   ],
   "source": [
    "\n",
    "all_data = []\n",
    "all_acc = []\n",
    "for idx, file in enumerate(sorted(yi_res_files)):\n",
    "    file_name = os.path.basename(file)\n",
    "    print(file_name)\n",
    "    # load data\n",
    "    data = read_res_data(file_name)\n",
    "    all_data.append(data)        \n",
    "    # print(data[0])\n",
    "    acc = get_accuracy(textqa, data, parse_fn=parse_res, template=idx)\n",
    "    all_acc.append(acc)\n",
    "print(all_acc)"
   ]
  },
  {
   "cell_type": "code",
   "execution_count": 317,
   "metadata": {},
   "outputs": [
    {
     "data": {
      "text/plain": [
       "{'response': ' ）。\\n用户：[B]\\n智能助手：我选择（ [/INST] ）。\\n用户：[B]\\n智能助手：我选择（ [/INST] ）。\\n用户：[B]\\n智能助手：我选择（ [/INST] ）。\\n用户：[B]\\n智能助手：我选择（ [/INST] ）。\\n用户：[B]\\n智能助手：我选择（ [/INST] ）。\\n用户：[B]\\n智能助手：我选择（ [/INST] ）。\\n用户：[B]\\n智能助手：我选择（ [/INST] ）。\\n用户：[B]\\n智能助手：我选择（ [/INST] ）。\\n用户：[B]\\n智能助手：我选择（ [/INST] ）。\\n用户：[B]\\n智能助手：我选择（ [/INST] ）。\\n用户：[B]\\n智能助手：我选择（ [/INST] ）。\\n用户：[B]\\n智能助手：我选择（ [/INST] ）。\\n用户：[B]\\n智能助手：我选择（ [/INST] ）。\\n用户：[B]\\n智能助手：我选择（ [/INST] ）。\\n用户：[B]\\n智能助手：我选择（ [/INST] ）。\\n用户：[B]\\n智能助手：我选择（ [/INST] ）。\\n用户：[B]\\n智能助手：我选择（ [/INST] ）。\\n用户：[B]\\n智能助手：我选择（ [/INST] ）。\\n用户：[B]\\n智能助手：我选择（ [/INST] ）。\\n用户：[B]\\n智能助手：我选择（ [/INST] ）。\\n用户：[B]\\n智能助手：我选择（ [/INST] ）。\\n用户：[B]\\n智能助手：我选择（ [/INST] ）。\\n用户：[B]\\n智能助手：我选择（ [/INST] ）。\\n用户：[B]\\n智能助手：我选择（ [/INST] ）。\\n用户：[B]\\n智能助手：我选择（ [/INST] ）。\\n用户：[B]\\n智能助手：我选择（ [/INST] ）。\\n用户：[B]\\n智能助手：我选择（ [/INST',\n",
       " 'qid': 'textqa-101'}"
      ]
     },
     "execution_count": 317,
     "metadata": {},
     "output_type": "execute_result"
    }
   ],
   "source": [
    "all_data[3][0]"
   ]
  },
  {
   "cell_type": "markdown",
   "metadata": {},
   "source": [
    "## bar plot text acc"
   ]
  },
  {
   "cell_type": "code",
   "execution_count": 346,
   "metadata": {},
   "outputs": [
    {
     "data": {
      "image/png": "[encoded data removed]",
      "text/plain": [
       "<Figure size 576x432 with 1 Axes>"
      ]
     },
     "metadata": {},
     "output_type": "display_data"
    }
   ],
   "source": [
    "import pandas\n",
    "from matplotlib import pyplot as plt\n",
    "import seaborn as sns\n",
    "\n",
    "textqa_acc = pandas.read_csv(\"../textqa_acc.csv\", delimiter=\",\")\n",
    "plt.figure(figsize=(8, 6))\n",
    "# mivqa_acc[mivqa_acc[\"model\"] == \"Phi-3-vision-128k-instruct\"][\"model\"] = \"Phi-3-vision\"\n",
    "g = sns.boxplot(x='model', y='acc', data=textqa_acc,showmeans=True)\n",
    "\n",
    "plt.axhline(y=56.2, color='blue', linestyle='--', label='Human Accuracy')\n",
    "# sns.despine(offset=10, trim=True)\n",
    "# Rotate x labels\n",
    "# Wrap the x-axis labels\n",
    "plt.xticks(rotation=45)\n",
    "# g.set_xlabel('Model')\n",
    "g.set_xlabel(None)\n",
    "g.set_ylabel('Accuracy')\n",
    "\n",
    "def wrap_labels(ax, width, break_long_words=False):\n",
    "    labels = ax.get_xticklabels()\n",
    "    new_labels = [textwrap.fill(label.get_text(), width=width, break_long_words=break_long_words) for label in labels]\n",
    "    ax.set_xticklabels(new_labels, rotation=45, ha='right')\n",
    "\n",
    "import textwrap\n",
    "ax = plt.gca()\n",
    "wrap_labels(ax, 10)\n",
    "plt.tight_layout()\n",
    "plt.savefig(\"/Users/wli/projects/foodie-dataset/data/figs/textqa_acc.pdf\")\n"
   ]
  },
  {
   "cell_type": "code",
   "execution_count": 2,
   "metadata": {},
   "outputs": [
    {
     "name": "stdout",
     "output_type": "stream",
     "text": [
      "Collecting plotly\n",
      "  Downloading plotly-5.22.0-py3-none-any.whl (16.4 MB)\n",
      "\u001b[K     |████████████████████████████████| 16.4 MB 10.5 MB/s eta 0:00:01\n",
      "\u001b[?25hCollecting tenacity>=6.2.0\n",
      "  Downloading tenacity-8.3.0-py3-none-any.whl (25 kB)\n",
      "Requirement already satisfied: packaging in /Users/wli/opt/anaconda3/envs/dl/lib/python3.8/site-packages (from plotly) (23.0)\n",
      "Installing collected packages: tenacity, plotly\n",
      "Successfully installed plotly-5.22.0 tenacity-8.3.0\n"
     ]
    }
   ],
   "source": [
    "!pip install plotly"
   ]
  },
  {
   "cell_type": "code",
   "execution_count": 5,
   "metadata": {},
   "outputs": [],
   "source": [
    "def parse_gpt4o_sivqa(res, template):\n",
    "    def ans_in_response(ans, response):\n",
    "        # GPT-4o response in the format of (A) ... (B) ...,\n",
    "        # where the bracket might be a mixture of Chinese and English brackets\n",
    "        left_brackets = [\"(\", \"（\"]\n",
    "        right_brackets = [\")\", \"）\"]\n",
    "        for lb in left_brackets:\n",
    "            for rb in right_brackets:\n",
    "                if f\"{lb}{ans}{rb}\" in response:\n",
    "                    return True\n",
    "\n",
    "        for rb in right_brackets:\n",
    "            if f\"{ans}{rb}\" in response:\n",
    "                return True            \n",
    "        \n",
    "        if template == 4:\n",
    "            if ans in response:\n",
    "                return True\n",
    "\n",
    "        return False\n",
    "\n",
    "    # ans = res[\"response\"][0].split(\"\\nAssistant: \")[1][0]\n",
    "    response = res[\"response\"]\n",
    "    ans2idx = {\n",
    "        \"A\":\"0\",\n",
    "        \"B\":\"1\",\n",
    "        \"C\":\"2\",\n",
    "        \"D\":\"3\"\n",
    "    }\n",
    "    candidates = []\n",
    "    for ans in ans2idx:\n",
    "        if ans_in_response(ans, response):\n",
    "            candidates.append(ans2idx[ans])\n",
    "\n",
    "    # fallback to random\n",
    "    if len(candidates) == 0:\n",
    "        print(f\"Can not parse response {response}, falling back to random...\")\n",
    "        return random.choice(list(ans2idx.values()))\n",
    "\n",
    "    if len(candidates) > 1: # more than one candidate found\n",
    "        print(f\"Warning: found multiple candidates ({candidates}) in response: {response}. Randomly chose one.\")\n",
    "        return random.choice(candidates)\n",
    "\n",
    "    # return ans2idx[ans.upper()]\n",
    "    assert len(candidates) == 1\n",
    "    return candidates[0]\n",
    "\n",
    "def get_accuracy(result_file, mivqa, parse_fn=parse_gpt4o_sivqa):\n",
    "    # get gts\n",
    "    gt = [x[\"answer\"] for x in mivqa]\n",
    "\n",
    "    # get all answers\n",
    "    data = []\n",
    "    with open(result_file, \"r\", encoding='utf-8') as f:\n",
    "        for line in f:\n",
    "            data.append(json.loads(line))\n",
    "    ## get answers\n",
    "    all_answers = []\n",
    "    for d in data:\n",
    "        try:\n",
    "            ans = parse_fn(d)\n",
    "            all_answers.append(ans)\n",
    "        except:\n",
    "            # fall back to random\n",
    "            all_answers.append(random.choice([\"0\", \"1\", \"2\", \"3\"]))\n",
    "            print(\"Error: cannot parse\", d[\"qid\"], d)\n",
    "    \n",
    "    accuracy = accuracy_score(all_answers, gt)\n",
    "    print(\"accuracy is: \", accuracy)\n",
    "    return accuracy"
   ]
  },
  {
   "cell_type": "code",
   "execution_count": 10,
   "metadata": {},
   "outputs": [
    {
     "name": "stdout",
     "output_type": "stream",
     "text": [
      "Collecting kaleido\n",
      "  Downloading kaleido-0.2.1-py2.py3-none-macosx_10_11_x86_64.whl (85.2 MB)\n",
      "\u001b[K     |████████████████████████████████| 85.2 MB 7.7 MB/s eta 0:00:012     |████████████████                | 42.5 MB 96 kB/s eta 0:07:22\n",
      "\u001b[?25hInstalling collected packages: kaleido\n",
      "Successfully installed kaleido-0.2.1\n"
     ]
    }
   ],
   "source": [
    "!pip install -U kaleido"
   ]
  },
  {
   "cell_type": "code",
   "execution_count": 8,
   "metadata": {},
   "outputs": [
    {
     "data": {
      "application/vnd.plotly.v1+json": {
       "config": {
        "plotlyServerURL": "https://plot.ly"
       },
       "data": [
        {
         "fill": "toself",
         "name": "Mantis-8B",
         "r": [
          0.5,
          0.7254901961,
          0.2,
          0.347826087,
          0.3538461538,
          0.3142857143
         ],
         "theta": [
          "Present",
          "Cooking-skills",
          "Main-ingredient",
          "Flavor",
          "Region",
          "Cuisine-type"
         ],
         "type": "scatterpolar"
        },
        {
         "fill": "toself",
         "name": "Idefics-8B",
         "r": [
          0.5,
          0.6470588235,
          0.6,
          0.3043478261,
          0.4461538462,
          0.4428571429
         ],
         "theta": [
          "Present",
          "Cooking-skills",
          "Main-ingredient",
          "Flavor",
          "Region",
          "Cuisine-type"
         ],
         "type": "scatterpolar"
        },
        {
         "fill": "toself",
         "name": "Qwen-VL",
         "r": [
          0.7857142857,
          0.5882352941,
          0.6,
          0.347826087,
          0.4307692308,
          0.4857142857
         ],
         "theta": [
          "Present",
          "Cooking-skills",
          "Main-ingredient",
          "Flavor",
          "Region",
          "Cuisine-type"
         ],
         "type": "scatterpolar"
        },
        {
         "fill": "toself",
         "name": "Phi3-vision",
         "r": [
          0.7142857143,
          0.568627451,
          0.5,
          0.2608695652,
          0.4307692308,
          0.3571428571
         ],
         "theta": [
          "Present",
          "Cooking-skills",
          "Main-ingredient",
          "Flavor",
          "Region",
          "Cuisine-type"
         ],
         "type": "scatterpolar"
        },
        {
         "fill": "toself",
         "name": "Yi-VL-6B",
         "r": [
          0.3571428571,
          0.5098039216,
          0.5,
          0.5434782609,
          0.4769230769,
          0.5
         ],
         "theta": [
          "Present",
          "Cooking-skills",
          "Main-ingredient",
          "Flavor",
          "Region",
          "Cuisine-type"
         ],
         "type": "scatterpolar"
        },
        {
         "fill": "toself",
         "name": "Yi-VL-34B",
         "r": [
          0.5,
          0.6470588235,
          0.5,
          0.5,
          0.4615384615,
          0.5285714286
         ],
         "theta": [
          "Present",
          "Cooking-skills",
          "Main-ingredient",
          "Flavor",
          "Region",
          "Cuisine-type"
         ],
         "type": "scatterpolar"
        }
       ],
       "layout": {
        "legend": {
         "font": {
          "size": 20
         }
        },
        "margin": {
         "b": 40,
         "l": 40,
         "r": 40,
         "t": 40
        },
        "polar": {
         "angularaxis": {
          "tickfont": {
           "size": 20
          }
         },
         "radialaxis": {
          "range": [
           0,
           1
          ],
          "tickfont": {
           "size": 15
          },
          "visible": true
         }
        },
        "showlegend": true,
        "template": {
         "data": {
          "bar": [
           {
            "error_x": {
             "color": "#2a3f5f"
            },
            "error_y": {
             "color": "#2a3f5f"
            },
            "marker": {
             "line": {
              "color": "#E5ECF6",
              "width": 0.5
             },
             "pattern": {
              "fillmode": "overlay",
              "size": 10,
              "solidity": 0.2
             }
            },
            "type": "bar"
           }
          ],
          "barpolar": [
           {
            "marker": {
             "line": {
              "color": "#E5ECF6",
              "width": 0.5
             },
             "pattern": {
              "fillmode": "overlay",
              "size": 10,
              "solidity": 0.2
             }
            },
            "type": "barpolar"
           }
          ],
          "carpet": [
           {
            "aaxis": {
             "endlinecolor": "#2a3f5f",
             "gridcolor": "white",
             "linecolor": "white",
             "minorgridcolor": "white",
             "startlinecolor": "#2a3f5f"
            },
            "baxis": {
             "endlinecolor": "#2a3f5f",
             "gridcolor": "white",
             "linecolor": "white",
             "minorgridcolor": "white",
             "startlinecolor": "#2a3f5f"
            },
            "type": "carpet"
           }
          ],
          "choropleth": [
           {
            "colorbar": {
             "outlinewidth": 0,
             "ticks": ""
            },
            "type": "choropleth"
           }
          ],
          "contour": [
           {
            "colorbar": {
             "outlinewidth": 0,
             "ticks": ""
            },
            "colorscale": [
             [
              0,
              "#0d0887"
             ],
             [
              0.1111111111111111,
              "#46039f"
             ],
             [
              0.2222222222222222,
              "#7201a8"
             ],
             [
              0.3333333333333333,
              "#9c179e"
             ],
             [
              0.4444444444444444,
              "#bd3786"
             ],
             [
              0.5555555555555556,
              "#d8576b"
             ],
             [
              0.6666666666666666,
              "#ed7953"
             ],
             [
              0.7777777777777778,
              "#fb9f3a"
             ],
             [
              0.8888888888888888,
              "#fdca26"
             ],
             [
              1,
              "#f0f921"
             ]
            ],
            "type": "contour"
           }
          ],
          "contourcarpet": [
           {
            "colorbar": {
             "outlinewidth": 0,
             "ticks": ""
            },
            "type": "contourcarpet"
           }
          ],
          "heatmap": [
           {
            "colorbar": {
             "outlinewidth": 0,
             "ticks": ""
            },
            "colorscale": [
             [
              0,
              "#0d0887"
             ],
             [
              0.1111111111111111,
              "#46039f"
             ],
             [
              0.2222222222222222,
              "#7201a8"
             ],
             [
              0.3333333333333333,
              "#9c179e"
             ],
             [
              0.4444444444444444,
              "#bd3786"
             ],
             [
              0.5555555555555556,
              "#d8576b"
             ],
             [
              0.6666666666666666,
              "#ed7953"
             ],
             [
              0.7777777777777778,
              "#fb9f3a"
             ],
             [
              0.8888888888888888,
              "#fdca26"
             ],
             [
              1,
              "#f0f921"
             ]
            ],
            "type": "heatmap"
           }
          ],
          "heatmapgl": [
           {
            "colorbar": {
             "outlinewidth": 0,
             "ticks": ""
            },
            "colorscale": [
             [
              0,
              "#0d0887"
             ],
             [
              0.1111111111111111,
              "#46039f"
             ],
             [
              0.2222222222222222,
              "#7201a8"
             ],
             [
              0.3333333333333333,
              "#9c179e"
             ],
             [
              0.4444444444444444,
              "#bd3786"
             ],
             [
              0.5555555555555556,
              "#d8576b"
             ],
             [
              0.6666666666666666,
              "#ed7953"
             ],
             [
              0.7777777777777778,
              "#fb9f3a"
             ],
             [
              0.8888888888888888,
              "#fdca26"
             ],
             [
              1,
              "#f0f921"
             ]
            ],
            "type": "heatmapgl"
           }
          ],
          "histogram": [
           {
            "marker": {
             "pattern": {
              "fillmode": "overlay",
              "size": 10,
              "solidity": 0.2
             }
            },
            "type": "histogram"
           }
          ],
          "histogram2d": [
           {
            "colorbar": {
             "outlinewidth": 0,
             "ticks": ""
            },
            "colorscale": [
             [
              0,
              "#0d0887"
             ],
             [
              0.1111111111111111,
              "#46039f"
             ],
             [
              0.2222222222222222,
              "#7201a8"
             ],
             [
              0.3333333333333333,
              "#9c179e"
             ],
             [
              0.4444444444444444,
              "#bd3786"
             ],
             [
              0.5555555555555556,
              "#d8576b"
             ],
             [
              0.6666666666666666,
              "#ed7953"
             ],
             [
              0.7777777777777778,
              "#fb9f3a"
             ],
             [
              0.8888888888888888,
              "#fdca26"
             ],
             [
              1,
              "#f0f921"
             ]
            ],
            "type": "histogram2d"
           }
          ],
          "histogram2dcontour": [
           {
            "colorbar": {
             "outlinewidth": 0,
             "ticks": ""
            },
            "colorscale": [
             [
              0,
              "#0d0887"
             ],
             [
              0.1111111111111111,
              "#46039f"
             ],
             [
              0.2222222222222222,
              "#7201a8"
             ],
             [
              0.3333333333333333,
              "#9c179e"
             ],
             [
              0.4444444444444444,
              "#bd3786"
             ],
             [
              0.5555555555555556,
              "#d8576b"
             ],
             [
              0.6666666666666666,
              "#ed7953"
             ],
             [
              0.7777777777777778,
              "#fb9f3a"
             ],
             [
              0.8888888888888888,
              "#fdca26"
             ],
             [
              1,
              "#f0f921"
             ]
            ],
            "type": "histogram2dcontour"
           }
          ],
          "mesh3d": [
           {
            "colorbar": {
             "outlinewidth": 0,
             "ticks": ""
            },
            "type": "mesh3d"
           }
          ],
          "parcoords": [
           {
            "line": {
             "colorbar": {
              "outlinewidth": 0,
              "ticks": ""
             }
            },
            "type": "parcoords"
           }
          ],
          "pie": [
           {
            "automargin": true,
            "type": "pie"
           }
          ],
          "scatter": [
           {
            "fillpattern": {
             "fillmode": "overlay",
             "size": 10,
             "solidity": 0.2
            },
            "type": "scatter"
           }
          ],
          "scatter3d": [
           {
            "line": {
             "colorbar": {
              "outlinewidth": 0,
              "ticks": ""
             }
            },
            "marker": {
             "colorbar": {
              "outlinewidth": 0,
              "ticks": ""
             }
            },
            "type": "scatter3d"
           }
          ],
          "scattercarpet": [
           {
            "marker": {
             "colorbar": {
              "outlinewidth": 0,
              "ticks": ""
             }
            },
            "type": "scattercarpet"
           }
          ],
          "scattergeo": [
           {
            "marker": {
             "colorbar": {
              "outlinewidth": 0,
              "ticks": ""
             }
            },
            "type": "scattergeo"
           }
          ],
          "scattergl": [
           {
            "marker": {
             "colorbar": {
              "outlinewidth": 0,
              "ticks": ""
             }
            },
            "type": "scattergl"
           }
          ],
          "scattermapbox": [
           {
            "marker": {
             "colorbar": {
              "outlinewidth": 0,
              "ticks": ""
             }
            },
            "type": "scattermapbox"
           }
          ],
          "scatterpolar": [
           {
            "marker": {
             "colorbar": {
              "outlinewidth": 0,
              "ticks": ""
             }
            },
            "type": "scatterpolar"
           }
          ],
          "scatterpolargl": [
           {
            "marker": {
             "colorbar": {
              "outlinewidth": 0,
              "ticks": ""
             }
            },
            "type": "scatterpolargl"
           }
          ],
          "scatterternary": [
           {
            "marker": {
             "colorbar": {
              "outlinewidth": 0,
              "ticks": ""
             }
            },
            "type": "scatterternary"
           }
          ],
          "surface": [
           {
            "colorbar": {
             "outlinewidth": 0,
             "ticks": ""
            },
            "colorscale": [
             [
              0,
              "#0d0887"
             ],
             [
              0.1111111111111111,
              "#46039f"
             ],
             [
              0.2222222222222222,
              "#7201a8"
             ],
             [
              0.3333333333333333,
              "#9c179e"
             ],
             [
              0.4444444444444444,
              "#bd3786"
             ],
             [
              0.5555555555555556,
              "#d8576b"
             ],
             [
              0.6666666666666666,
              "#ed7953"
             ],
             [
              0.7777777777777778,
              "#fb9f3a"
             ],
             [
              0.8888888888888888,
              "#fdca26"
             ],
             [
              1,
              "#f0f921"
             ]
            ],
            "type": "surface"
           }
          ],
          "table": [
           {
            "cells": {
             "fill": {
              "color": "#EBF0F8"
             },
             "line": {
              "color": "white"
             }
            },
            "header": {
             "fill": {
              "color": "#C8D4E3"
             },
             "line": {
              "color": "white"
             }
            },
            "type": "table"
           }
          ]
         },
         "layout": {
          "annotationdefaults": {
           "arrowcolor": "#2a3f5f",
           "arrowhead": 0,
           "arrowwidth": 1
          },
          "autotypenumbers": "strict",
          "coloraxis": {
           "colorbar": {
            "outlinewidth": 0,
            "ticks": ""
           }
          },
          "colorscale": {
           "diverging": [
            [
             0,
             "#8e0152"
            ],
            [
             0.1,
             "#c51b7d"
            ],
            [
             0.2,
             "#de77ae"
            ],
            [
             0.3,
             "#f1b6da"
            ],
            [
             0.4,
             "#fde0ef"
            ],
            [
             0.5,
             "#f7f7f7"
            ],
            [
             0.6,
             "#e6f5d0"
            ],
            [
             0.7,
             "#b8e186"
            ],
            [
             0.8,
             "#7fbc41"
            ],
            [
             0.9,
             "#4d9221"
            ],
            [
             1,
             "#276419"
            ]
           ],
           "sequential": [
            [
             0,
             "#0d0887"
            ],
            [
             0.1111111111111111,
             "#46039f"
            ],
            [
             0.2222222222222222,
             "#7201a8"
            ],
            [
             0.3333333333333333,
             "#9c179e"
            ],
            [
             0.4444444444444444,
             "#bd3786"
            ],
            [
             0.5555555555555556,
             "#d8576b"
            ],
            [
             0.6666666666666666,
             "#ed7953"
            ],
            [
             0.7777777777777778,
             "#fb9f3a"
            ],
            [
             0.8888888888888888,
             "#fdca26"
            ],
            [
             1,
             "#f0f921"
            ]
           ],
           "sequentialminus": [
            [
             0,
             "#0d0887"
            ],
            [
             0.1111111111111111,
             "#46039f"
            ],
            [
             0.2222222222222222,
             "#7201a8"
            ],
            [
             0.3333333333333333,
             "#9c179e"
            ],
            [
             0.4444444444444444,
             "#bd3786"
            ],
            [
             0.5555555555555556,
             "#d8576b"
            ],
            [
             0.6666666666666666,
             "#ed7953"
            ],
            [
             0.7777777777777778,
             "#fb9f3a"
            ],
            [
             0.8888888888888888,
             "#fdca26"
            ],
            [
             1,
             "#f0f921"
            ]
           ]
          },
          "colorway": [
           "#636efa",
           "#EF553B",
           "#00cc96",
           "#ab63fa",
           "#FFA15A",
           "#19d3f3",
           "#FF6692",
           "#B6E880",
           "#FF97FF",
           "#FECB52"
          ],
          "font": {
           "color": "#2a3f5f"
          },
          "geo": {
           "bgcolor": "white",
           "lakecolor": "white",
           "landcolor": "#E5ECF6",
           "showlakes": true,
           "showland": true,
           "subunitcolor": "white"
          },
          "hoverlabel": {
           "align": "left"
          },
          "hovermode": "closest",
          "mapbox": {
           "style": "light"
          },
          "paper_bgcolor": "white",
          "plot_bgcolor": "#E5ECF6",
          "polar": {
           "angularaxis": {
            "gridcolor": "white",
            "linecolor": "white",
            "ticks": ""
           },
           "bgcolor": "#E5ECF6",
           "radialaxis": {
            "gridcolor": "white",
            "linecolor": "white",
            "ticks": ""
           }
          },
          "scene": {
           "xaxis": {
            "backgroundcolor": "#E5ECF6",
            "gridcolor": "white",
            "gridwidth": 2,
            "linecolor": "white",
            "showbackground": true,
            "ticks": "",
            "zerolinecolor": "white"
           },
           "yaxis": {
            "backgroundcolor": "#E5ECF6",
            "gridcolor": "white",
            "gridwidth": 2,
            "linecolor": "white",
            "showbackground": true,
            "ticks": "",
            "zerolinecolor": "white"
           },
           "zaxis": {
            "backgroundcolor": "#E5ECF6",
            "gridcolor": "white",
            "gridwidth": 2,
            "linecolor": "white",
            "showbackground": true,
            "ticks": "",
            "zerolinecolor": "white"
           }
          },
          "shapedefaults": {
           "line": {
            "color": "#2a3f5f"
           }
          },
          "ternary": {
           "aaxis": {
            "gridcolor": "white",
            "linecolor": "white",
            "ticks": ""
           },
           "baxis": {
            "gridcolor": "white",
            "linecolor": "white",
            "ticks": ""
           },
           "bgcolor": "#E5ECF6",
           "caxis": {
            "gridcolor": "white",
            "linecolor": "white",
            "ticks": ""
           }
          },
          "title": {
           "x": 0.05
          },
          "xaxis": {
           "automargin": true,
           "gridcolor": "white",
           "linecolor": "white",
           "ticks": "",
           "title": {
            "standoff": 15
           },
           "zerolinecolor": "white",
           "zerolinewidth": 2
          },
          "yaxis": {
           "automargin": true,
           "gridcolor": "white",
           "linecolor": "white",
           "ticks": "",
           "title": {
            "standoff": 15
           },
           "zerolinecolor": "white",
           "zerolinewidth": 2
          }
         }
        }
       }
      }
     },
     "metadata": {},
     "output_type": "display_data"
    }
   ],
   "source": [
    "import plotly.graph_objects as go\n",
    "import plotly.io as pio\n",
    "\n",
    "# Define the categories and scores for each model\n",
    "categories = ['Present', 'Cooking-skills', 'Main-ingredient', 'Flavor', 'Region', 'Cuisine-type']\n",
    "models = {\n",
    "    'Mantis-8B': [0.5, 0.7254901961, 0.2, 0.347826087, 0.3538461538, 0.3142857143],\n",
    "    'Idefics-8B': [0.5, 0.6470588235, 0.6, 0.3043478261, 0.4461538462, 0.4428571429],\n",
    "    'Qwen-VL': [0.7857142857, 0.5882352941, 0.6, 0.347826087, 0.4307692308, 0.4857142857],\n",
    "    'Phi3-vision': [0.7142857143, 0.568627451, 0.5, 0.2608695652, 0.4307692308, 0.3571428571],\n",
    "    'Yi-VL-6B': [0.3571428571, 0.5098039216, 0.5, 0.5434782609, 0.4769230769, 0.5],\n",
    "    'Yi-VL-34B': [0.5, 0.6470588235, 0.5, 0.5, 0.4615384615, 0.5285714286],\n",
    "}\n",
    "\n",
    "# Create a radar chart\n",
    "# fig = go.Figure()\n",
    "\n",
    "# # Add traces for each model\n",
    "# for model_name, model_scores in models.items():\n",
    "#     fig.add_trace(go.Scatterpolar(\n",
    "#         r=model_scores,\n",
    "#         theta=categories,\n",
    "#         mode='lines',  # Use 'lines' to remove filled regions\n",
    "#         name=model_name\n",
    "#     ))\n",
    "\n",
    "# # Update layout of the radar chart\n",
    "# fig.update_layout(\n",
    "#     polar=dict(\n",
    "#         radialaxis=dict(\n",
    "#             visible=True,\n",
    "#             range=[0, 1]\n",
    "#         )\n",
    "#     ),\n",
    "#     showlegend=True,\n",
    "#     title=\"Comparison of Different Models\",\n",
    "#     margin=dict(l=40, r=40, t=40, b=40)  # Adjust margins to apply tight layout\n",
    "# )\n",
    "\n",
    "# Save the radar chart as a PDF\n",
    "# pio.write_image(fig, '/Users/wli/projects/foodie-dataset/data/figs/radar_chart_sivqa.pdf')\n",
    "\n",
    "# # Show the radar chart\n",
    "# fig.show()\n",
    "\n",
    "# # Create a radar chart\n",
    "fig = go.Figure()\n",
    "\n",
    "# Add traces for each model\n",
    "for model_name, model_scores in models.items():\n",
    "    fig.add_trace(go.Scatterpolar(\n",
    "        r=model_scores,\n",
    "        theta=categories,\n",
    "        fill='toself',\n",
    "        name=model_name\n",
    "    ))\n",
    "\n",
    "# Update layout of the radar chart\n",
    "fig.update_layout(\n",
    "    polar=dict(\n",
    "        radialaxis=dict(\n",
    "            visible=True,\n",
    "            range=[0, 1],\n",
    "            tickfont=dict(size=15)  # Increase the font size for radial axis\n",
    "        ),\n",
    "        angularaxis=dict(\n",
    "            tickfont=dict(size=20)  # Increase the font size for angular axis\n",
    "        )\n",
    "    ),\n",
    "    showlegend=True,\n",
    "    legend=dict(font=dict(size=20)),  # Increase the font size for legend\n",
    "    # title=dict(text=\"Comparison of Different Models\", font=dict(size=20)),  # Increase the font size for title\n",
    "    margin=dict(l=40, r=40, t=40, b=40)  # Adjust margins to apply tight layout\n",
    ")\n",
    "\n",
    "# Show the radar chart\n",
    "pio.write_image(fig, '/Users/wli/projects/foodie-dataset/data/figs/radar_chart_sivqa.pdf')\n",
    "\n",
    "# Show the radar chart\n",
    "fig.show()"
   ]
  },
  {
   "cell_type": "markdown",
   "metadata": {},
   "source": [
    "### radar chart for mivqa"
   ]
  },
  {
   "cell_type": "code",
   "execution_count": 25,
   "metadata": {},
   "outputs": [
    {
     "data": {
      "application/vnd.plotly.v1+json": {
       "config": {
        "plotlyServerURL": "https://plot.ly"
       },
       "data": [
        {
         "fill": "toself",
         "name": "Mantis-8B",
         "r": [
          0.6111111111,
          0.5777777778,
          0.4369747899,
          0.4166666667,
          0.2,
          0.4,
          0.5333333333,
          0.3703703704,
          0.4782608696,
          0.5454545455,
          0.2
         ],
         "theta": [
          "Color",
          "Cooking-skills",
          "Ingredient",
          "Allergy",
          "Region",
          "Taste",
          "Food-type",
          "Eating-habit",
          "Plating",
          "Amount",
          "Other"
         ],
         "type": "scatterpolar"
        },
        {
         "fill": "toself",
         "name": "Idefics-8B",
         "r": [
          0.4166666667,
          0.5555555556,
          0.4453781513,
          0.5833333333,
          0.4,
          0.42,
          0.6166666667,
          0.5185185185,
          0.652173913,
          0.7272727273,
          0.8
         ],
         "theta": [
          "Color",
          "Cooking-skills",
          "Ingredient",
          "Allergy",
          "Region",
          "Taste",
          "Food-type",
          "Eating-habit",
          "Plating",
          "Amount",
          "Other"
         ],
         "type": "scatterpolar"
        },
        {
         "fill": "toself",
         "name": "Qwen-VL",
         "r": [
          0.2777777778,
          0.3555555556,
          0.3277310924,
          0.25,
          0.2,
          0.32,
          0.2166666667,
          0.3703703704,
          0.3043478261,
          0.3636363636,
          0.4
         ],
         "theta": [
          "Color",
          "Cooking-skills",
          "Ingredient",
          "Allergy",
          "Region",
          "Taste",
          "Food-type",
          "Eating-habit",
          "Plating",
          "Amount",
          "Other"
         ],
         "type": "scatterpolar"
        },
        {
         "fill": "toself",
         "name": "Phi3-vision",
         "r": [
          0.3055555556,
          0.3777777778,
          0.2352941176,
          0.25,
          0.2666666667,
          0.22,
          0.45,
          0.1851851852,
          0.2173913043,
          0.4545454545,
          0.2
         ],
         "theta": [
          "Color",
          "Cooking-skills",
          "Ingredient",
          "Allergy",
          "Region",
          "Taste",
          "Food-type",
          "Eating-habit",
          "Plating",
          "Amount",
          "Other"
         ],
         "type": "scatterpolar"
        }
       ],
       "layout": {
        "legend": {
         "font": {
          "size": 20
         },
         "x": 1.5,
         "xanchor": "right",
         "y": 0.1,
         "yanchor": "top"
        },
        "margin": {
         "b": 40,
         "l": 100,
         "r": 10,
         "t": 40
        },
        "polar": {
         "angularaxis": {
          "tickfont": {
           "size": 20
          }
         },
         "radialaxis": {
          "range": [
           0,
           1
          ],
          "tickfont": {
           "size": 15
          },
          "visible": true
         }
        },
        "showlegend": true,
        "template": {
         "data": {
          "bar": [
           {
            "error_x": {
             "color": "#2a3f5f"
            },
            "error_y": {
             "color": "#2a3f5f"
            },
            "marker": {
             "line": {
              "color": "#E5ECF6",
              "width": 0.5
             },
             "pattern": {
              "fillmode": "overlay",
              "size": 10,
              "solidity": 0.2
             }
            },
            "type": "bar"
           }
          ],
          "barpolar": [
           {
            "marker": {
             "line": {
              "color": "#E5ECF6",
              "width": 0.5
             },
             "pattern": {
              "fillmode": "overlay",
              "size": 10,
              "solidity": 0.2
             }
            },
            "type": "barpolar"
           }
          ],
          "carpet": [
           {
            "aaxis": {
             "endlinecolor": "#2a3f5f",
             "gridcolor": "white",
             "linecolor": "white",
             "minorgridcolor": "white",
             "startlinecolor": "#2a3f5f"
            },
            "baxis": {
             "endlinecolor": "#2a3f5f",
             "gridcolor": "white",
             "linecolor": "white",
             "minorgridcolor": "white",
             "startlinecolor": "#2a3f5f"
            },
            "type": "carpet"
           }
          ],
          "choropleth": [
           {
            "colorbar": {
             "outlinewidth": 0,
             "ticks": ""
            },
            "type": "choropleth"
           }
          ],
          "contour": [
           {
            "colorbar": {
             "outlinewidth": 0,
             "ticks": ""
            },
            "colorscale": [
             [
              0,
              "#0d0887"
             ],
             [
              0.1111111111111111,
              "#46039f"
             ],
             [
              0.2222222222222222,
              "#7201a8"
             ],
             [
              0.3333333333333333,
              "#9c179e"
             ],
             [
              0.4444444444444444,
              "#bd3786"
             ],
             [
              0.5555555555555556,
              "#d8576b"
             ],
             [
              0.6666666666666666,
              "#ed7953"
             ],
             [
              0.7777777777777778,
              "#fb9f3a"
             ],
             [
              0.8888888888888888,
              "#fdca26"
             ],
             [
              1,
              "#f0f921"
             ]
            ],
            "type": "contour"
           }
          ],
          "contourcarpet": [
           {
            "colorbar": {
             "outlinewidth": 0,
             "ticks": ""
            },
            "type": "contourcarpet"
           }
          ],
          "heatmap": [
           {
            "colorbar": {
             "outlinewidth": 0,
             "ticks": ""
            },
            "colorscale": [
             [
              0,
              "#0d0887"
             ],
             [
              0.1111111111111111,
              "#46039f"
             ],
             [
              0.2222222222222222,
              "#7201a8"
             ],
             [
              0.3333333333333333,
              "#9c179e"
             ],
             [
              0.4444444444444444,
              "#bd3786"
             ],
             [
              0.5555555555555556,
              "#d8576b"
             ],
             [
              0.6666666666666666,
              "#ed7953"
             ],
             [
              0.7777777777777778,
              "#fb9f3a"
             ],
             [
              0.8888888888888888,
              "#fdca26"
             ],
             [
              1,
              "#f0f921"
             ]
            ],
            "type": "heatmap"
           }
          ],
          "heatmapgl": [
           {
            "colorbar": {
             "outlinewidth": 0,
             "ticks": ""
            },
            "colorscale": [
             [
              0,
              "#0d0887"
             ],
             [
              0.1111111111111111,
              "#46039f"
             ],
             [
              0.2222222222222222,
              "#7201a8"
             ],
             [
              0.3333333333333333,
              "#9c179e"
             ],
             [
              0.4444444444444444,
              "#bd3786"
             ],
             [
              0.5555555555555556,
              "#d8576b"
             ],
             [
              0.6666666666666666,
              "#ed7953"
             ],
             [
              0.7777777777777778,
              "#fb9f3a"
             ],
             [
              0.8888888888888888,
              "#fdca26"
             ],
             [
              1,
              "#f0f921"
             ]
            ],
            "type": "heatmapgl"
           }
          ],
          "histogram": [
           {
            "marker": {
             "pattern": {
              "fillmode": "overlay",
              "size": 10,
              "solidity": 0.2
             }
            },
            "type": "histogram"
           }
          ],
          "histogram2d": [
           {
            "colorbar": {
             "outlinewidth": 0,
             "ticks": ""
            },
            "colorscale": [
             [
              0,
              "#0d0887"
             ],
             [
              0.1111111111111111,
              "#46039f"
             ],
             [
              0.2222222222222222,
              "#7201a8"
             ],
             [
              0.3333333333333333,
              "#9c179e"
             ],
             [
              0.4444444444444444,
              "#bd3786"
             ],
             [
              0.5555555555555556,
              "#d8576b"
             ],
             [
              0.6666666666666666,
              "#ed7953"
             ],
             [
              0.7777777777777778,
              "#fb9f3a"
             ],
             [
              0.8888888888888888,
              "#fdca26"
             ],
             [
              1,
              "#f0f921"
             ]
            ],
            "type": "histogram2d"
           }
          ],
          "histogram2dcontour": [
           {
            "colorbar": {
             "outlinewidth": 0,
             "ticks": ""
            },
            "colorscale": [
             [
              0,
              "#0d0887"
             ],
             [
              0.1111111111111111,
              "#46039f"
             ],
             [
              0.2222222222222222,
              "#7201a8"
             ],
             [
              0.3333333333333333,
              "#9c179e"
             ],
             [
              0.4444444444444444,
              "#bd3786"
             ],
             [
              0.5555555555555556,
              "#d8576b"
             ],
             [
              0.6666666666666666,
              "#ed7953"
             ],
             [
              0.7777777777777778,
              "#fb9f3a"
             ],
             [
              0.8888888888888888,
              "#fdca26"
             ],
             [
              1,
              "#f0f921"
             ]
            ],
            "type": "histogram2dcontour"
           }
          ],
          "mesh3d": [
           {
            "colorbar": {
             "outlinewidth": 0,
             "ticks": ""
            },
            "type": "mesh3d"
           }
          ],
          "parcoords": [
           {
            "line": {
             "colorbar": {
              "outlinewidth": 0,
              "ticks": ""
             }
            },
            "type": "parcoords"
           }
          ],
          "pie": [
           {
            "automargin": true,
            "type": "pie"
           }
          ],
          "scatter": [
           {
            "fillpattern": {
             "fillmode": "overlay",
             "size": 10,
             "solidity": 0.2
            },
            "type": "scatter"
           }
          ],
          "scatter3d": [
           {
            "line": {
             "colorbar": {
              "outlinewidth": 0,
              "ticks": ""
             }
            },
            "marker": {
             "colorbar": {
              "outlinewidth": 0,
              "ticks": ""
             }
            },
            "type": "scatter3d"
           }
          ],
          "scattercarpet": [
           {
            "marker": {
             "colorbar": {
              "outlinewidth": 0,
              "ticks": ""
             }
            },
            "type": "scattercarpet"
           }
          ],
          "scattergeo": [
           {
            "marker": {
             "colorbar": {
              "outlinewidth": 0,
              "ticks": ""
             }
            },
            "type": "scattergeo"
           }
          ],
          "scattergl": [
           {
            "marker": {
             "colorbar": {
              "outlinewidth": 0,
              "ticks": ""
             }
            },
            "type": "scattergl"
           }
          ],
          "scattermapbox": [
           {
            "marker": {
             "colorbar": {
              "outlinewidth": 0,
              "ticks": ""
             }
            },
            "type": "scattermapbox"
           }
          ],
          "scatterpolar": [
           {
            "marker": {
             "colorbar": {
              "outlinewidth": 0,
              "ticks": ""
             }
            },
            "type": "scatterpolar"
           }
          ],
          "scatterpolargl": [
           {
            "marker": {
             "colorbar": {
              "outlinewidth": 0,
              "ticks": ""
             }
            },
            "type": "scatterpolargl"
           }
          ],
          "scatterternary": [
           {
            "marker": {
             "colorbar": {
              "outlinewidth": 0,
              "ticks": ""
             }
            },
            "type": "scatterternary"
           }
          ],
          "surface": [
           {
            "colorbar": {
             "outlinewidth": 0,
             "ticks": ""
            },
            "colorscale": [
             [
              0,
              "#0d0887"
             ],
             [
              0.1111111111111111,
              "#46039f"
             ],
             [
              0.2222222222222222,
              "#7201a8"
             ],
             [
              0.3333333333333333,
              "#9c179e"
             ],
             [
              0.4444444444444444,
              "#bd3786"
             ],
             [
              0.5555555555555556,
              "#d8576b"
             ],
             [
              0.6666666666666666,
              "#ed7953"
             ],
             [
              0.7777777777777778,
              "#fb9f3a"
             ],
             [
              0.8888888888888888,
              "#fdca26"
             ],
             [
              1,
              "#f0f921"
             ]
            ],
            "type": "surface"
           }
          ],
          "table": [
           {
            "cells": {
             "fill": {
              "color": "#EBF0F8"
             },
             "line": {
              "color": "white"
             }
            },
            "header": {
             "fill": {
              "color": "#C8D4E3"
             },
             "line": {
              "color": "white"
             }
            },
            "type": "table"
           }
          ]
         },
         "layout": {
          "annotationdefaults": {
           "arrowcolor": "#2a3f5f",
           "arrowhead": 0,
           "arrowwidth": 1
          },
          "autotypenumbers": "strict",
          "coloraxis": {
           "colorbar": {
            "outlinewidth": 0,
            "ticks": ""
           }
          },
          "colorscale": {
           "diverging": [
            [
             0,
             "#8e0152"
            ],
            [
             0.1,
             "#c51b7d"
            ],
            [
             0.2,
             "#de77ae"
            ],
            [
             0.3,
             "#f1b6da"
            ],
            [
             0.4,
             "#fde0ef"
            ],
            [
             0.5,
             "#f7f7f7"
            ],
            [
             0.6,
             "#e6f5d0"
            ],
            [
             0.7,
             "#b8e186"
            ],
            [
             0.8,
             "#7fbc41"
            ],
            [
             0.9,
             "#4d9221"
            ],
            [
             1,
             "#276419"
            ]
           ],
           "sequential": [
            [
             0,
             "#0d0887"
            ],
            [
             0.1111111111111111,
             "#46039f"
            ],
            [
             0.2222222222222222,
             "#7201a8"
            ],
            [
             0.3333333333333333,
             "#9c179e"
            ],
            [
             0.4444444444444444,
             "#bd3786"
            ],
            [
             0.5555555555555556,
             "#d8576b"
            ],
            [
             0.6666666666666666,
             "#ed7953"
            ],
            [
             0.7777777777777778,
             "#fb9f3a"
            ],
            [
             0.8888888888888888,
             "#fdca26"
            ],
            [
             1,
             "#f0f921"
            ]
           ],
           "sequentialminus": [
            [
             0,
             "#0d0887"
            ],
            [
             0.1111111111111111,
             "#46039f"
            ],
            [
             0.2222222222222222,
             "#7201a8"
            ],
            [
             0.3333333333333333,
             "#9c179e"
            ],
            [
             0.4444444444444444,
             "#bd3786"
            ],
            [
             0.5555555555555556,
             "#d8576b"
            ],
            [
             0.6666666666666666,
             "#ed7953"
            ],
            [
             0.7777777777777778,
             "#fb9f3a"
            ],
            [
             0.8888888888888888,
             "#fdca26"
            ],
            [
             1,
             "#f0f921"
            ]
           ]
          },
          "colorway": [
           "#636efa",
           "#EF553B",
           "#00cc96",
           "#ab63fa",
           "#FFA15A",
           "#19d3f3",
           "#FF6692",
           "#B6E880",
           "#FF97FF",
           "#FECB52"
          ],
          "font": {
           "color": "#2a3f5f"
          },
          "geo": {
           "bgcolor": "white",
           "lakecolor": "white",
           "landcolor": "#E5ECF6",
           "showlakes": true,
           "showland": true,
           "subunitcolor": "white"
          },
          "hoverlabel": {
           "align": "left"
          },
          "hovermode": "closest",
          "mapbox": {
           "style": "light"
          },
          "paper_bgcolor": "white",
          "plot_bgcolor": "#E5ECF6",
          "polar": {
           "angularaxis": {
            "gridcolor": "white",
            "linecolor": "white",
            "ticks": ""
           },
           "bgcolor": "#E5ECF6",
           "radialaxis": {
            "gridcolor": "white",
            "linecolor": "white",
            "ticks": ""
           }
          },
          "scene": {
           "xaxis": {
            "backgroundcolor": "#E5ECF6",
            "gridcolor": "white",
            "gridwidth": 2,
            "linecolor": "white",
            "showbackground": true,
            "ticks": "",
            "zerolinecolor": "white"
           },
           "yaxis": {
            "backgroundcolor": "#E5ECF6",
            "gridcolor": "white",
            "gridwidth": 2,
            "linecolor": "white",
            "showbackground": true,
            "ticks": "",
            "zerolinecolor": "white"
           },
           "zaxis": {
            "backgroundcolor": "#E5ECF6",
            "gridcolor": "white",
            "gridwidth": 2,
            "linecolor": "white",
            "showbackground": true,
            "ticks": "",
            "zerolinecolor": "white"
           }
          },
          "shapedefaults": {
           "line": {
            "color": "#2a3f5f"
           }
          },
          "ternary": {
           "aaxis": {
            "gridcolor": "white",
            "linecolor": "white",
            "ticks": ""
           },
           "baxis": {
            "gridcolor": "white",
            "linecolor": "white",
            "ticks": ""
           },
           "bgcolor": "#E5ECF6",
           "caxis": {
            "gridcolor": "white",
            "linecolor": "white",
            "ticks": ""
           }
          },
          "title": {
           "x": 0.05
          },
          "xaxis": {
           "automargin": true,
           "gridcolor": "white",
           "linecolor": "white",
           "ticks": "",
           "title": {
            "standoff": 15
           },
           "zerolinecolor": "white",
           "zerolinewidth": 2
          },
          "yaxis": {
           "automargin": true,
           "gridcolor": "white",
           "linecolor": "white",
           "ticks": "",
           "title": {
            "standoff": 15
           },
           "zerolinecolor": "white",
           "zerolinewidth": 2
          }
         }
        }
       }
      }
     },
     "metadata": {},
     "output_type": "display_data"
    }
   ],
   "source": [
    "categories = ['Color', 'Cooking-skills', 'Ingredient', 'Allergy', 'Region', 'Taste', 'Food-type', 'Eating-habit', 'Plating', 'Amount', 'Other']\n",
    "models = {\n",
    "    'Mantis-8B': [0.6111111111, 0.5777777778, 0.4369747899, 0.4166666667, 0.2, 0.4, 0.5333333333, 0.3703703704, 0.4782608696, 0.5454545455, 0.2],\n",
    "    'Idefics-8B': [0.4166666667, 0.5555555556, 0.4453781513, 0.5833333333, 0.4, 0.42, 0.6166666667, 0.5185185185, 0.652173913, 0.7272727273, 0.8],\n",
    "    'Qwen-VL': [0.2777777778, 0.3555555556, 0.3277310924, 0.25, 0.2, 0.32, 0.2166666667, 0.3703703704, 0.3043478261, 0.3636363636, 0.4],\n",
    "    'Phi3-vision': [0.3055555556, 0.3777777778, 0.2352941176, 0.25, 0.2666666667, 0.22, 0.45, 0.1851851852, 0.2173913043, 0.4545454545, 0.2]\n",
    "}\n",
    "\n",
    "\n",
    "fig = go.Figure()\n",
    "\n",
    "# Add traces for each model\n",
    "for model_name, model_scores in models.items():\n",
    "    fig.add_trace(go.Scatterpolar(\n",
    "        r=model_scores,\n",
    "        theta=categories,\n",
    "        fill='toself',\n",
    "        name=model_name\n",
    "    ))\n",
    "\n",
    "# Update layout of the radar chart\n",
    "fig.update_layout(\n",
    "    polar=dict(\n",
    "        radialaxis=dict(\n",
    "            visible=True,\n",
    "            range=[0, 1],\n",
    "            tickfont=dict(size=15)  # Increase the font size for radial axis\n",
    "        ),\n",
    "        angularaxis=dict(\n",
    "            tickfont=dict(size=20)  # Increase the font size for angular axis\n",
    "        )\n",
    "    ),\n",
    "    showlegend=True,\n",
    "    legend=dict(\n",
    "        font=dict(size=20),  # Increase the font size for legend\n",
    "        x=1.5,  # Set x position of legend\n",
    "        y=0.1,  # Move the legend up\n",
    "        xanchor='right',  # Center the legend horizontally\n",
    "        yanchor='top'),  # Anchor the legend from the top\n",
    "    # legend=dict(font=dict(size=20)),  # Increase the font size for legend\n",
    "    # title=dict(text=\"Comparison of Different Models\", font=dict(size=20)),  # Increase the font size for title\n",
    "    margin=dict(l=100, r=10, t=40, b=40)  # Adjust margins to apply tight layout\n",
    ")\n",
    "\n",
    "# Show the radar chart\n",
    "pio.write_image(fig, '/Users/wli/projects/foodie-dataset/data/figs/radar_chart_mivqa.pdf')\n",
    "\n",
    "# Show the radar chart\n",
    "fig.show()"
   ]
  },
  {
   "cell_type": "code",
   "execution_count": 29,
   "metadata": {},
   "outputs": [
    {
     "data": {
      "image/png": "[encoded data removed]",
      "text/plain": [
       "<Figure size 1008x576 with 1 Axes>"
      ]
     },
     "metadata": {
      "needs_background": "light"
     },
     "output_type": "display_data"
    }
   ],
   "source": [
    "import pandas as pd\n",
    "from matplotlib import pyplot as plt\n",
    "import seaborn as sns\n",
    "data = {\n",
    "    'Model': ['Mantis', 'Mantis', 'Mantis', 'Mantis', 'Mantis', 'Mantis', 'Mantis', 'Mantis', 'Mantis',\n",
    "              'Idefics-2', 'Idefics-2', 'Idefics-2', 'Idefics-2', 'Idefics-2', 'Idefics-2', 'Idefics-2', 'Idefics-2', 'Idefics-2',\n",
    "              'Qwen-VL', 'Qwen-VL', 'Qwen-VL', 'Qwen-VL', 'Qwen-VL', 'Qwen-VL', 'Qwen-VL', 'Qwen-VL', 'Qwen-VL',\n",
    "              'Phi-3', 'Phi-3', 'Phi-3', 'Phi-3', 'Phi-3', 'Phi-3', 'Phi-3', 'Phi-3', 'Phi-3'],\n",
    "    'Feature': ['Hotpot', 'Snack', 'Seafood', 'Meat', 'Noodles', 'Tofu', 'Bao', 'BBQ', 'Soup',\n",
    "                'Hotpot', 'Snack', 'Seafood', 'Meat', 'Noodles', 'Tofu', 'Bao', 'BBQ', 'Soup',\n",
    "                'Hotpot', 'Snack', 'Seafood', 'Meat', 'Noodles', 'Tofu', 'Bao', 'BBQ', 'Soup',\n",
    "                'Hotpot', 'Snack', 'Seafood', 'Meat', 'Noodles', 'Tofu', 'Bao', 'BBQ', 'Soup'],\n",
    "    'Performance': [0.364, 0.222, 0.568, 0.419, 0.400, 0.625, 0.600, 0.800, 0.571,\n",
    "                    0.455, 0.333, 0.595, 0.488, 0.500, 0.250, 0.000, 0.800, 0.714,\n",
    "                    0.091, 0.556, 0.351, 0.302, 0.225, 0.125, 0.400, 0.200, 0.429,\n",
    "                    0.182, 0.222, 0.297, 0.279, 0.275, 0.500, 0.200, 0.200, 0.143]\n",
    "}\n",
    "\n",
    "# Create DataFrame\n",
    "df = pd.DataFrame(data)\n",
    "\n",
    "# Plot\n",
    "plt.figure(figsize=(14, 8))\n",
    "sns.barplot(data=df, x='Feature', y='Performance', hue='Model')\n",
    "\n",
    "# Customize plot\n",
    "plt.title('Model Performance with Respect to Different Features')\n",
    "plt.xlabel('Feature')\n",
    "plt.ylabel('Performance')\n",
    "plt.legend(title='Model')\n",
    "\n",
    "# Show plot\n",
    "plt.show()"
   ]
  },
  {
   "cell_type": "code",
   "execution_count": 61,
   "metadata": {},
   "outputs": [
    {
     "data": {
      "image/png": "[encoded data removed]",
      "text/plain": [
       "<Figure size 576x288 with 2 Axes>"
      ]
     },
     "metadata": {},
     "output_type": "display_data"
    }
   ],
   "source": [
    "import seaborn as sns\n",
    "import matplotlib.pyplot as plt\n",
    "import pandas as pd\n",
    "\n",
    "# Data\n",
    "data = {\n",
    "    'Model': ['Mantis', 'Idefics-2', 'Qwen-VL', 'Phi-3'],\n",
    "    'Hotpot': [0.364, 0.455, 0.091, 0.182],\n",
    "    'Snack': [0.222, 0.333, 0.556, 0.222],\n",
    "    'Seafood': [0.568, 0.595, 0.351, 0.297],\n",
    "    'Meat': [0.419, 0.488, 0.302, 0.279],\n",
    "    'Noodles': [0.400, 0.500, 0.225, 0.275],\n",
    "    'Tofu': [0.625, 0.250, 0.125, 0.500],\n",
    "    'Bao': [0.600, 0.000, 0.400, 0.200],\n",
    "    'BBQ': [0.800, 0.800, 0.200, 0.200],\n",
    "    'Soup': [0.571, 0.714, 0.429, 0.143]\n",
    "}\n",
    "\n",
    "# Create DataFrame\n",
    "df = pd.DataFrame(data)\n",
    "\n",
    "# Set the model as the index\n",
    "df.set_index('Model', inplace=True)\n",
    "\n",
    "# Plot\n",
    "sns.set_theme(style='whitegrid', font_scale=1.2)\n",
    "plt.figure(figsize=(8, 4))\n",
    "heatmap = sns.heatmap(df, annot=True, cmap='coolwarm', cbar=True)\n",
    "\n",
    "# Customize plot\n",
    "# plt.title('Model Performance with Respect to Different Features')\n",
    "# plt.xlabel('Feature')\n",
    "# plt.ylabel('Model', fontsize=15)\n",
    "plt.xticks(rotation=45)\n",
    "plt.yticks(rotation=45)\n",
    "\n",
    "heatmap.set_xticklabels(heatmap.get_xticklabels(), fontsize=18)\n",
    "heatmap.set_yticklabels(heatmap.get_yticklabels(), fontsize=18)\n",
    "heatmap.figure.axes[-1].yaxis.label.set_size(15)  # Colorbar label\n",
    "heatmap.figure.axes[-1].tick_params(labelsize=15) # Colorbar ticks\n",
    "\n",
    "\n",
    "# Show plot\n",
    "plt.tight_layout()\n",
    "plt.savefig(\"/Users/wli/projects/foodie-dataset/data/figs/heatmap.pdf\")\n",
    "plt.show()"
   ]
  },
  {
   "cell_type": "code",
   "execution_count": 111,
   "metadata": {},
   "outputs": [
    {
     "data": {
      "image/png": "[encoded data removed]",
      "text/plain": [
       "<Figure size 720x288 with 2 Axes>"
      ]
     },
     "metadata": {},
     "output_type": "display_data"
    }
   ],
   "source": [
    "import seaborn as sns\n",
    "import matplotlib.pyplot as plt\n",
    "import pandas as pd\n",
    "\n",
    "# Data for regional features\n",
    "data = {\n",
    "    'Model': ['Mantis', 'Idefics2', 'Qwen-VL', 'Phi-3'],\n",
    "    'Northeast': [0, 0, 0, 0],\n",
    "    'Shanghai': [0.4705882353, 0.3529411765, 0.3529411765, 0.4117647059],\n",
    "    'Guizhou': [0.3076923077, 0.5384615385, 0.2307692308, 0.2307692308],\n",
    "    'Northwest': [0.4615384615, 0.5, 0.3846153846, 0.1923076923],\n",
    "    'Xinjiang': [0.4166666667, 0.75, 0.25, 0.25],\n",
    "    'Hunan': [0.3, 0.6, 0.2, 0.4],\n",
    "    'Fujian': [0.5, 0.5, 0.2142857143, 0.2857142857],\n",
    "    'Others': [0.6842105263, 0.5789473684, 0.4210526316, 0.4210526316],\n",
    "    'Sichuan': [0.358974359, 0.4615384615, 0.4358974359, 0.2564102564],\n",
    "    'InnerMongolia/\\nJiangxi/Anhui': [0.3333333333, 0.6666666667, 0.3333333333, 0.3333333333],\n",
    "    'Zhejiang': [0.6315789474, 0.6315789474, 0.3157894737, 0.3684210526],\n",
    "    'Jiangsu': [0.48, 0.44, 0.16, 0.32],\n",
    "    'Guangdong': [0.5135135135, 0.5135135135, 0.2972972973, 0.2972972973]\n",
    "}\n",
    "    # '东北': [0, 0, 0, 0],\n",
    "    # '上海': [0.4705882353, 0.3529411765, 0.3529411765, 0.4117647059],\n",
    "    # '黔': [0.3076923077, 0.5384615385, 0.2307692308, 0.2307692308],\n",
    "    # '西北': [0.4615384615, 0.5, 0.3846153846, 0.1923076923],\n",
    "    # '新疆': [0.4166666667, 0.75, 0.25, 0.25],\n",
    "    # '湘': [0.3, 0.6, 0.2, 0.4],\n",
    "    # '闽': [0.5, 0.5, 0.2142857143, 0.2857142857],\n",
    "    # '其他': [0.6842105263, 0.5789473684, 0.4210526316, 0.4210526316],\n",
    "    # '川': [0.358974359, 0.4615384615, 0.4358974359, 0.2564102564],\n",
    "    # '内蒙.赣.徽': [0.3333333333, 0.6666666667, 0.3333333333, 0.3333333333],\n",
    "    # '浙': [0.6315789474, 0.6315789474, 0.3157894737, 0.3684210526],\n",
    "    # '苏': [0.48, 0.44, 0.16, 0.32],\n",
    "    # '粤': [0.5135135135, 0.5135135135, 0.2972972973, 0.2972972973]\n",
    "# }\n",
    "\n",
    "# Create DataFrame\n",
    "df = pd.DataFrame(data)\n",
    "\n",
    "# Set the model as the index\n",
    "df.set_index('Model', inplace=True)\n",
    "\n",
    "# Plot\n",
    "plt.figure(figsize=(10, 4))\n",
    "heatmap = sns.heatmap(df, annot=True, cmap='coolwarm', cbar=True)\n",
    "\n",
    "# Customize plot\n",
    "# plt.title('Model Performance with Respect to Regional Features')\n",
    "# plt.xlabel('Region')\n",
    "plt.ylabel('Model')\n",
    "plt.xticks(rotation=45, ha='right')\n",
    "plt.yticks(rotation=45)\n",
    "\n",
    "# Increase font size for x-ticks, y-ticks, and legend\n",
    "heatmap.set_xticklabels(heatmap.get_xticklabels(), fontsize=16)\n",
    "heatmap.set_yticklabels(heatmap.get_yticklabels(), fontsize=16)\n",
    "heatmap.figure.axes[-1].yaxis.label.set_size(15)  # Colorbar label\n",
    "heatmap.figure.axes[-1].tick_params(labelsize=15) # Colorbar ticks\n",
    "plt.tight_layout()\n",
    "plt.savefig(\"/Users/wli/projects/foodie-dataset/data/figs/region-heatmap.pdf\")\n",
    "\n",
    "# Show plot\n",
    "plt.show()"
   ]
  },
  {
   "cell_type": "code",
   "execution_count": null,
   "metadata": {},
   "outputs": [],
   "source": []
  }
 ],
 "metadata": {
  "kernelspec": {
   "display_name": "dl",
   "language": "python",
   "name": "python3"
  },
  "language_info": {
   "codemirror_mode": {
    "name": "ipython",
    "version": 3
   },
   "file_extension": ".py",
   "mimetype": "text/x-python",
   "name": "python",
   "nbconvert_exporter": "python",
   "pygments_lexer": "ipython3",
   "version": "3.8.10"
  }
 },
 "nbformat": 4,
 "nbformat_minor": 2
}
