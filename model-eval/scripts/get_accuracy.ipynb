{
 "cells": [
  {
   "cell_type": "markdown",
   "metadata": {},
   "source": [
    "### get accuracy of sivqa evaluation"
   ]
  },
  {
   "cell_type": "markdown",
   "metadata": {},
   "source": [
    "idefics2 model"
   ]
  },
  {
   "cell_type": "code",
   "execution_count": 1,
   "metadata": {},
   "outputs": [],
   "source": [
    "import utils, sivqa_utils\n",
    "import os \n",
    "import json\n",
    "from sklearn.metrics import accuracy_score\n",
    "import re\n",
    "import random"
   ]
  },
  {
   "cell_type": "code",
   "execution_count": 2,
   "metadata": {},
   "outputs": [],
   "source": [
    "result_dir = \"/scratch3/wenyan/data/foodie/results\""
   ]
  },
  {
   "cell_type": "code",
   "execution_count": 3,
   "metadata": {},
   "outputs": [],
   "source": [
    "data = []\n",
    "with open(os.path.join(result_dir, \"sivqa_idefics_prompt3.jsonl\"), \"r\", encoding='utf-8') as f:\n",
    "    for line in f:\n",
    "        data.append(json.loads(line))"
   ]
  },
  {
   "cell_type": "code",
   "execution_count": 4,
   "metadata": {},
   "outputs": [],
   "source": [
    "sivqa = sivqa_utils.read_sivqa(\"/scratch3/wenyan/data/foodie\")"
   ]
  },
  {
   "cell_type": "code",
   "execution_count": 50,
   "metadata": {},
   "outputs": [],
   "source": [
    "\n",
    "ans2idx = {\n",
    "        \"A\":\"0\",\n",
    "        \"B\":\"1\",\n",
    "        \"C\":\"2\",\n",
    "        \"D\":\"3\"\n",
    "        }\n",
    "\n",
    "def parse_res(res):\n",
    "    ans_str = res[\"response\"][0].split(\"\\nAssistant:\")[-1].strip()\n",
    "    ans_letter = re.findall(r'[A-Z]', ans_str)\n",
    "    if not ans_letter or len(ans_letter) == 0:\n",
    "        print(\"can not parse ans for res: \", res)\n",
    "        return random.choice([\"0\", \"1\", \"2\", \"3\"])\n",
    "    else:\n",
    "        ans = ans_letter[0].upper()\n",
    "        if ans not in ans2idx:\n",
    "            print(\"can not parse ans for res: \", res)\n",
    "            return random.choice([\"0\", \"1\", \"2\", \"3\"])\n",
    "        else:\n",
    "            return ans2idx[ans]\n"
   ]
  },
  {
   "cell_type": "code",
   "execution_count": 51,
   "metadata": {},
   "outputs": [
    {
     "name": "stdout",
     "output_type": "stream",
     "text": [
      "can not parse ans for res:  {'response': ['User: 图片中的食物通常属于哪个菜系? 这是选项: （A) 赣菜 (客家菜）\\n（B) 内蒙古菜\\n（C) 粤菜\\n（D) 赣菜\\n 请根据上图从所提供的选项中选择一个正确答案。 \\nAssistant: 我选择（ \\nAssistant: 客家菜).'], 'qid': 'vqa-193'}\n",
      "0.46875\n"
     ]
    }
   ],
   "source": [
    "gts = [s[\"answer\"] for s in sivqa]\n",
    "answers = [parse_res(d) for d in data]\n",
    "accuracy = accuracy_score(gts, answers)\n",
    "print(accuracy)"
   ]
  },
  {
   "cell_type": "markdown",
   "metadata": {},
   "source": [
    "get qwen accuracy"
   ]
  },
  {
   "cell_type": "code",
   "execution_count": 28,
   "metadata": {},
   "outputs": [],
   "source": [
    "data = []\n",
    "with open(os.path.join(result_dir, \"sivqa_qwen_prompt2.jsonl\"), \"r\", encoding='utf-8') as f:\n",
    "    for line in f:\n",
    "        data.append(json.loads(line))"
   ]
  },
  {
   "cell_type": "code",
   "execution_count": 29,
   "metadata": {},
   "outputs": [
    {
     "data": {
      "text/plain": [
       "'Picture 1:<img>/scratch3/wenyan/data/foodie/14456664_all_202404292352223293/217_IMG_3854.jpeg</img>\\n用户：你是一个智能助手，现在请看图回答以下选择题：图片中的食物通常属于哪个菜系? 选项有: （A) 京菜\\n（B) 徽菜\\n（C) 新疆菜\\n（D) 桂菜\\n智能助手：我从所提供的选项中选择一个正确答案，为（C) 新疆菜。<|endoftext|>'"
      ]
     },
     "execution_count": 29,
     "metadata": {},
     "output_type": "execute_result"
    }
   ],
   "source": [
    "data[0][\"response\"]#.split(\"为\")[-1].strip()"
   ]
  },
  {
   "cell_type": "code",
   "execution_count": 30,
   "metadata": {},
   "outputs": [],
   "source": [
    "\n",
    "ans2idx = {\n",
    "        \"A\":\"0\",\n",
    "        \"B\":\"1\",\n",
    "        \"C\":\"2\",\n",
    "        \"D\":\"3\"\n",
    "        }\n",
    "\n",
    "def parse_res(res, template=0):\n",
    "    if template == 0 or template ==1 or template == 3:\n",
    "        ans_str = res[\"response\"].split(\"选择一个正确答案，\")[1].strip()\n",
    "    ans_letter = re.findall(r'([A-Z])', ans_str)\n",
    "    if not ans_letter or len(ans_letter) == 0:\n",
    "        print(\"can not parse ans for res: \", res)\n",
    "        return random.choice([\"0\", \"1\", \"2\", \"3\"])\n",
    "    else:\n",
    "        ans = ans_letter[0].upper()\n",
    "        if ans not in ans2idx:\n",
    "            print(\"can not parse ans for res: \", res)\n",
    "            return random.choice([\"0\", \"1\", \"2\", \"3\"])\n",
    "        else:\n",
    "            return ans2idx[ans]\n"
   ]
  },
  {
   "cell_type": "code",
   "execution_count": 31,
   "metadata": {},
   "outputs": [
    {
     "data": {
      "text/plain": [
       "'2'"
      ]
     },
     "execution_count": 31,
     "metadata": {},
     "output_type": "execute_result"
    }
   ],
   "source": [
    "parse_res(data[0])"
   ]
  },
  {
   "cell_type": "code",
   "execution_count": 32,
   "metadata": {},
   "outputs": [],
   "source": [
    "def get_accuracy(data, sivqa, template=0):\n",
    "    gts = [s[\"answer\"] for s in sivqa]\n",
    "    answers = [parse_res(d, template=template) for d in data]\n",
    "    accuracy = accuracy_score(gts, answers)\n",
    "    print(accuracy)"
   ]
  },
  {
   "cell_type": "code",
   "execution_count": 33,
   "metadata": {},
   "outputs": [
    {
     "name": "stdout",
     "output_type": "stream",
     "text": [
      "0.48828125\n"
     ]
    }
   ],
   "source": [
    "get_accuracy(data, sivqa, template=0)"
   ]
  },
  {
   "cell_type": "code",
   "execution_count": null,
   "metadata": {},
   "outputs": [],
   "source": []
  }
 ],
 "metadata": {
  "kernelspec": {
   "display_name": "dl",
   "language": "python",
   "name": "python3"
  },
  "language_info": {
   "codemirror_mode": {
    "name": "ipython",
    "version": 3
   },
   "file_extension": ".py",
   "mimetype": "text/x-python",
   "name": "python",
   "nbconvert_exporter": "python",
   "pygments_lexer": "ipython3",
   "version": "3.9.19"
  }
 },
 "nbformat": 4,
 "nbformat_minor": 2
}
