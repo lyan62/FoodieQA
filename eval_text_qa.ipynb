{
 "cells": [
  {
   "cell_type": "code",
   "execution_count": 2,
   "metadata": {},
   "outputs": [
    {
     "data": {
      "application/vnd.jupyter.widget-view+json": {
       "model_id": "fb20391434ae456693189dede35956a6",
       "version_major": 2,
       "version_minor": 0
      },
      "text/plain": [
       "config.json:   0%|          | 0.00/605 [00:00<?, ?B/s]"
      ]
     },
     "metadata": {},
     "output_type": "display_data"
    },
    {
     "data": {
      "application/vnd.jupyter.widget-view+json": {
       "model_id": "b5a57d86b478424eb2c6ef124e1fbce5",
       "version_major": 2,
       "version_minor": 0
      },
      "text/plain": [
       "model.safetensors.index.json:   0%|          | 0.00/23.9k [00:00<?, ?B/s]"
      ]
     },
     "metadata": {},
     "output_type": "display_data"
    },
    {
     "data": {
      "application/vnd.jupyter.widget-view+json": {
       "model_id": "0020dab518554030ab109ca7341b5baf",
       "version_major": 2,
       "version_minor": 0
      },
      "text/plain": [
       "Downloading shards:   0%|          | 0/2 [00:00<?, ?it/s]"
      ]
     },
     "metadata": {},
     "output_type": "display_data"
    },
    {
     "data": {
      "application/vnd.jupyter.widget-view+json": {
       "model_id": "0ac1cd087fca418c99ea0f496a0ae803",
       "version_major": 2,
       "version_minor": 0
      },
      "text/plain": [
       "model-00001-of-00002.safetensors:   0%|          | 0.00/9.94G [00:00<?, ?B/s]"
      ]
     },
     "metadata": {},
     "output_type": "display_data"
    },
    {
     "data": {
      "application/vnd.jupyter.widget-view+json": {
       "model_id": "346c1f51ebc04a2893945608336f20fa",
       "version_major": 2,
       "version_minor": 0
      },
      "text/plain": [
       "model-00002-of-00002.safetensors:   0%|          | 0.00/2.18G [00:00<?, ?B/s]"
      ]
     },
     "metadata": {},
     "output_type": "display_data"
    },
    {
     "data": {
      "application/vnd.jupyter.widget-view+json": {
       "model_id": "964f4bd9436a48298b4df27e13bfc9b1",
       "version_major": 2,
       "version_minor": 0
      },
      "text/plain": [
       "Loading checkpoint shards:   0%|          | 0/2 [00:00<?, ?it/s]"
      ]
     },
     "metadata": {},
     "output_type": "display_data"
    },
    {
     "data": {
      "application/vnd.jupyter.widget-view+json": {
       "model_id": "34f6caf70c2549639d5d4409d827a81f",
       "version_major": 2,
       "version_minor": 0
      },
      "text/plain": [
       "generation_config.json:   0%|          | 0.00/132 [00:00<?, ?B/s]"
      ]
     },
     "metadata": {},
     "output_type": "display_data"
    },
    {
     "data": {
      "application/vnd.jupyter.widget-view+json": {
       "model_id": "bf0a66bac033489b9c1f7f9590a542e7",
       "version_major": 2,
       "version_minor": 0
      },
      "text/plain": [
       "tokenizer_config.json:   0%|          | 0.00/320 [00:00<?, ?B/s]"
      ]
     },
     "metadata": {},
     "output_type": "display_data"
    },
    {
     "data": {
      "application/vnd.jupyter.widget-view+json": {
       "model_id": "2c65949cd4cc4b02b77c85ad906bc36c",
       "version_major": 2,
       "version_minor": 0
      },
      "text/plain": [
       "tokenizer.model:   0%|          | 0.00/1.03M [00:00<?, ?B/s]"
      ]
     },
     "metadata": {},
     "output_type": "display_data"
    },
    {
     "data": {
      "application/vnd.jupyter.widget-view+json": {
       "model_id": "18e3742d0e7a4e7cb98f341e85ee767c",
       "version_major": 2,
       "version_minor": 0
      },
      "text/plain": [
       "tokenizer.json:   0%|          | 0.00/3.56M [00:00<?, ?B/s]"
      ]
     },
     "metadata": {},
     "output_type": "display_data"
    }
   ],
   "source": [
    "from transformers import AutoModelForCausalLM, AutoTokenizer\n",
    "\n",
    "model = AutoModelForCausalLM.from_pretrained(\"01-ai/Yi-6B\", torch_dtype=\"auto\").to(\"cuda\")\n",
    "tokenizer = AutoTokenizer.from_pretrained(\"01-ai/Yi-6B\", use_fast=False)"
   ]
  },
  {
   "cell_type": "code",
   "execution_count": 3,
   "metadata": {},
   "outputs": [
    {
     "data": {
      "text/html": [
       "<div>\n",
       "<style scoped>\n",
       "    .dataframe tbody tr th:only-of-type {\n",
       "        vertical-align: middle;\n",
       "    }\n",
       "\n",
       "    .dataframe tbody tr th {\n",
       "        vertical-align: top;\n",
       "    }\n",
       "\n",
       "    .dataframe thead th {\n",
       "        text-align: right;\n",
       "    }\n",
       "</style>\n",
       "<table border=\"1\" class=\"dataframe\">\n",
       "  <thead>\n",
       "    <tr style=\"text-align: right;\">\n",
       "      <th></th>\n",
       "      <th>Question type</th>\n",
       "      <th>Question</th>\n",
       "      <th>Choices</th>\n",
       "      <th>Answer</th>\n",
       "      <th>Relevant cuisines</th>\n",
       "      <th>Image-ids</th>\n",
       "      <th>related-meta-field</th>\n",
       "      <th>reference</th>\n",
       "      <th>Annotation</th>\n",
       "      <th>Verification</th>\n",
       "      <th>Rational</th>\n",
       "    </tr>\n",
       "  </thead>\n",
       "  <tbody>\n",
       "    <tr>\n",
       "      <th>0</th>\n",
       "      <td>binary</td>\n",
       "      <td>东坡肉和苏式红烧肉其中哪一个口感更为软糯？</td>\n",
       "      <td>东坡肉/苏式红烧肉</td>\n",
       "      <td>东坡肉</td>\n",
       "      <td>苏式红烧肉/东坡肉</td>\n",
       "      <td>NaN</td>\n",
       "      <td>口味</td>\n",
       "      <td>NaN</td>\n",
       "      <td>wenyan</td>\n",
       "      <td>NaN</td>\n",
       "      <td>NaN</td>\n",
       "    </tr>\n",
       "    <tr>\n",
       "      <th>1</th>\n",
       "      <td>binary</td>\n",
       "      <td>东坡肉和苏式红烧肉哪一个的起源和名字跟中国宋代的一位文人墨客有关？</td>\n",
       "      <td>东坡肉/苏式红烧肉</td>\n",
       "      <td>东坡肉</td>\n",
       "      <td>苏式红烧肉/东坡肉</td>\n",
       "      <td>NaN</td>\n",
       "      <td>菜系/地域/文化</td>\n",
       "      <td>NaN</td>\n",
       "      <td>wenyan</td>\n",
       "      <td>NaN</td>\n",
       "      <td>NaN</td>\n",
       "    </tr>\n",
       "    <tr>\n",
       "      <th>2</th>\n",
       "      <td>binary</td>\n",
       "      <td>东坡肉和苏式红烧肉哪一个属于浙菜？</td>\n",
       "      <td>东坡肉/苏式红烧肉</td>\n",
       "      <td>东坡肉</td>\n",
       "      <td>苏式红烧肉/东坡肉</td>\n",
       "      <td>NaN</td>\n",
       "      <td>菜系/地域</td>\n",
       "      <td>NaN</td>\n",
       "      <td>wenyan</td>\n",
       "      <td>NaN</td>\n",
       "      <td>NaN</td>\n",
       "    </tr>\n",
       "    <tr>\n",
       "      <th>3</th>\n",
       "      <td>binary</td>\n",
       "      <td>毛氏红烧肉和东坡肉，其中哪一道菜需要使用砂锅制作？</td>\n",
       "      <td>毛氏红烧肉/东坡肉</td>\n",
       "      <td>东坡肉</td>\n",
       "      <td>毛氏红烧肉/东坡肉</td>\n",
       "      <td>NaN</td>\n",
       "      <td>制作工具</td>\n",
       "      <td>NaN</td>\n",
       "      <td>wenyan</td>\n",
       "      <td>NaN</td>\n",
       "      <td>NaN</td>\n",
       "    </tr>\n",
       "    <tr>\n",
       "      <th>4</th>\n",
       "      <td>binary</td>\n",
       "      <td>潮汕火锅和北京铜锅涮羊肉，其中哪一道菜通常配麻酱蘸碟？</td>\n",
       "      <td>潮汕火锅/铜锅涮羊肉</td>\n",
       "      <td>铜锅涮羊肉</td>\n",
       "      <td>潮汕火锅/铜锅涮羊肉</td>\n",
       "      <td>NaN</td>\n",
       "      <td>NaN</td>\n",
       "      <td>NaN</td>\n",
       "      <td>NaN</td>\n",
       "      <td>NaN</td>\n",
       "      <td>NaN</td>\n",
       "    </tr>\n",
       "  </tbody>\n",
       "</table>\n",
       "</div>"
      ],
      "text/plain": [
       "  Question type                           Question     Choices Answer  \\\n",
       "0        binary              东坡肉和苏式红烧肉其中哪一个口感更为软糯？   东坡肉/苏式红烧肉    东坡肉   \n",
       "1        binary  东坡肉和苏式红烧肉哪一个的起源和名字跟中国宋代的一位文人墨客有关？   东坡肉/苏式红烧肉    东坡肉   \n",
       "2        binary                  东坡肉和苏式红烧肉哪一个属于浙菜？   东坡肉/苏式红烧肉    东坡肉   \n",
       "3        binary          毛氏红烧肉和东坡肉，其中哪一道菜需要使用砂锅制作？   毛氏红烧肉/东坡肉    东坡肉   \n",
       "4        binary        潮汕火锅和北京铜锅涮羊肉，其中哪一道菜通常配麻酱蘸碟？  潮汕火锅/铜锅涮羊肉  铜锅涮羊肉   \n",
       "\n",
       "  Relevant cuisines  Image-ids related-meta-field reference Annotation  \\\n",
       "0         苏式红烧肉/东坡肉        NaN                 口味       NaN     wenyan   \n",
       "1         苏式红烧肉/东坡肉        NaN           菜系/地域/文化       NaN     wenyan   \n",
       "2         苏式红烧肉/东坡肉        NaN              菜系/地域       NaN     wenyan   \n",
       "3         毛氏红烧肉/东坡肉        NaN               制作工具       NaN     wenyan   \n",
       "4        潮汕火锅/铜锅涮羊肉        NaN                NaN       NaN        NaN   \n",
       "\n",
       "   Verification  Rational  \n",
       "0           NaN       NaN  \n",
       "1           NaN       NaN  \n",
       "2           NaN       NaN  \n",
       "3           NaN       NaN  \n",
       "4           NaN       NaN  "
      ]
     },
     "execution_count": 3,
     "metadata": {},
     "output_type": "execute_result"
    }
   ],
   "source": [
    "import pandas as pd\n",
    "df = pd.read_csv(\"/scratch3/wenyan/data/foodie/QA.csv\")\n",
    "df.head()"
   ]
  },
  {
   "cell_type": "code",
   "execution_count": 4,
   "metadata": {},
   "outputs": [
    {
     "data": {
      "text/plain": [
       "0"
      ]
     },
     "execution_count": 4,
     "metadata": {},
     "output_type": "execute_result"
    }
   ],
   "source": [
    "import torch\n",
    "torch.cuda.current_device()"
   ]
  },
  {
   "cell_type": "code",
   "execution_count": 5,
   "metadata": {},
   "outputs": [
    {
     "name": "stdout",
     "output_type": "stream",
     "text": [
      "cuda:0\n"
     ]
    }
   ],
   "source": [
    "print(model.device)"
   ]
  },
  {
   "cell_type": "markdown",
   "metadata": {},
   "source": [
    "## translation examples:"
   ]
  },
  {
   "cell_type": "code",
   "execution_count": 15,
   "metadata": {},
   "outputs": [
    {
     "name": "stdout",
     "output_type": "stream",
     "text": [
      "translate the following Chinese to English about food: 东坡肉和苏式红烧肉其中哪一个口感更为软糯？\n",
      "\n",
      "Which of the two, Su Dongpo's Pork and Suzhou-style Red-cooked Pork, is more tender?\n",
      "******************************************************************************************\n",
      "\n",
      "translate the following Chinese to English about food: 东坡肉和苏式红烧肉哪一个的起源和名字跟中国宋代的一位文人墨客有关？\n",
      "\n",
      "东坡肉和苏式红烧肉哪一个的起源和名字跟中国宋代的一位文人墨客有关？\n",
      "******************************************************************************************\n",
      "\n",
      "translate the following Chinese to English about food: 东坡肉和苏式红烧肉哪一个属于浙菜？\n",
      "\n",
      "Which of the following dishes is from Zhejiang cuisine: Dongpo pork and Su-style red-cooked pork?\n",
      "******************************************************************************************\n",
      "\n"
     ]
    }
   ],
   "source": [
    "for i in range(3):\n",
    "    input_zh = df.iloc[i][\"Question\"]\n",
    "    input_text = \"translate the following Chinese to English about food: {}\".format(input_zh)\n",
    "    inputs = tokenizer(input_text, return_tensors=\"pt\").to(model.device)\n",
    "    outputs = model.generate(**inputs, max_length=256)\n",
    "    print(tokenizer.decode(outputs[0], skip_special_tokens=True))\n",
    "    print(\"*\"*90+\"\\n\")"
   ]
  },
  {
   "cell_type": "markdown",
   "metadata": {},
   "source": [
    "## QA examples"
   ]
  },
  {
   "cell_type": "code",
   "execution_count": 16,
   "metadata": {},
   "outputs": [
    {
     "data": {
      "text/plain": [
       "['东坡肉', '苏式红烧肉']"
      ]
     },
     "execution_count": 16,
     "metadata": {},
     "output_type": "execute_result"
    }
   ],
   "source": [
    "df.iloc[i][\"Choices\"].split(\"/\")"
   ]
  },
  {
   "cell_type": "markdown",
   "metadata": {},
   "source": [
    "## zero-shot example"
   ]
  },
  {
   "cell_type": "code",
   "execution_count": 32,
   "metadata": {},
   "outputs": [
    {
     "name": "stdout",
     "output_type": "stream",
     "text": [
      "回答以下问题: 东坡肉和苏式红烧肉其中哪一个口感更为软糯？，选项有: A. 东坡肉, B. 苏式红烧肉, 答案是: A. 东坡肉.\n",
      "GT: 东坡肉\n",
      "******************************************************************************************\n",
      "\n",
      "回答以下问题: 东坡肉和苏式红烧肉哪一个的起源和名字跟中国宋代的一位文人墨客有关？，选项有: A. 东坡肉, B. 苏式红烧肉, 答案是: A. 东坡肉.\n",
      "GT: 东坡肉\n",
      "******************************************************************************************\n",
      "\n",
      "回答以下问题: 东坡肉和苏式红烧肉哪一个属于浙菜？，选项有: A. 东坡肉, B. 苏式红烧肉, 答案是: A. 东坡肉. 苏式红烧肉属于苏菜. 苏菜即江苏菜系. 东坡肉属于浙菜. 浙菜即浙江菜系. 浙菜包括杭州菜,宁波菜,温州菜,绍兴菜,湖州菜,嘉兴菜,金华菜,衢州菜,台州菜. 苏菜包括南京菜,扬州菜,苏州菜,镇江菜,泰州菜,徐州菜,淮安菜,盐城菜,连云港菜,邳州菜,宿迁菜. 浙菜和苏菜的区别: 浙菜和苏菜的区别在于: 1. 浙菜以杭州菜,宁波菜,温州菜,绍兴菜,湖州菜,嘉兴菜,金华菜,衢州菜,台州菜为主. 2. 苏菜以南京菜,扬州菜,苏州菜,镇江菜,泰州菜,徐州菜,淮安菜,盐城菜,连\n",
      "GT: 东坡肉\n",
      "******************************************************************************************\n",
      "\n",
      "回答以下问题: 毛氏红烧肉和东坡肉，其中哪一道菜需要使用砂锅制作？，选项有: A. 毛氏红烧肉, B. 东坡肉, 答案是:A. 毛氏红烧肉.\n",
      "GT: 东坡肉\n",
      "******************************************************************************************\n",
      "\n",
      "回答以下问题: 潮汕火锅和北京铜锅涮羊肉，其中哪一道菜通常配麻酱蘸碟？，选项有: A. 潮汕火锅, B. 铜锅涮羊肉, 答案是: A. 潮汕火锅.\n",
      "GT: 铜锅涮羊肉\n",
      "******************************************************************************************\n",
      "\n"
     ]
    }
   ],
   "source": [
    "for i in range(5):\n",
    "    input_zh = df.iloc[i][\"Question\"]\n",
    "    choice_dict = {1: \"A\", 2: \"B\", 3: \"C\", 4: \"D\", 5: \"E\"}\n",
    "    choices = df.iloc[i][\"Choices\"].split(\"/\")\n",
    "    # add a,b,c to the choices\n",
    "    choices_prompt = \", \".join([choice_dict[i+1]+\". \"+choice for i, choice in enumerate(choices)])\n",
    "    input_text = \"回答以下问题: {}，选项有: {}, 答案是:\".format(input_zh, choices_prompt)\n",
    "    inputs = tokenizer(input_text, return_tensors=\"pt\").to(model.device)\n",
    "    outputs = model.generate(**inputs, max_length=256)\n",
    "    print(tokenizer.decode(outputs[0], skip_special_tokens=True))\n",
    "    print(\"GT: {}\".format(df.iloc[i][\"Answer\"]))\n",
    "    print(\"*\"*90+\"\\n\")"
   ]
  },
  {
   "cell_type": "markdown",
   "metadata": {},
   "source": [
    "## one-shot example"
   ]
  },
  {
   "cell_type": "code",
   "execution_count": 50,
   "metadata": {},
   "outputs": [
    {
     "name": "stdout",
     "output_type": "stream",
     "text": [
      "现按照以上格式回答以下问题。 问题: 东坡肉和苏式红烧肉哪一个的起源和名字跟中国宋代的一位文人墨客有关？\n",
      "选项: A. 东坡肉, B. 苏式红烧肉\n",
      "答案: 东坡肉\n",
      "GT: 东坡肉\n",
      "******************************************************************************************\n",
      "\n",
      "现按照以上格式回答以下问题。 问题: 东坡肉和苏式红烧肉哪一个属于浙菜？\n",
      "选项: A. 东坡肉, B. 苏式红烧肉\n",
      "答案: 东坡肉\n",
      "GT: 东坡肉\n",
      "******************************************************************************************\n",
      "\n",
      "现按照以上格式回答以下问题。 问题: 毛氏红烧肉和东坡肉，其中哪一道菜需要使用砂锅制作？\n",
      "选项: A. 毛氏红烧肉, B. 东坡肉\n",
      "答案: 毛氏红烧肉\n",
      "GT: 东坡肉\n",
      "******************************************************************************************\n",
      "\n",
      "现按照以上格式回答以下问题。 问题: 潮汕火锅和北京铜锅涮羊肉，其中哪一道菜通常配麻酱蘸碟？\n",
      "选项: A. 潮汕火锅, B. 铜锅涮羊肉\n",
      "答案: 潮汕火锅\n",
      "GT: 铜锅涮羊肉\n",
      "******************************************************************************************\n",
      "\n",
      "现按照以上格式回答以下问题。 问题: 糖醋排骨属于以下哪一个菜系？\n",
      "选项: A. 苏菜, B. 浙菜, C. 湘菜, D. 闽菜\n",
      "答案: 浙菜\n",
      "GT: 苏菜\n",
      "******************************************************************************************\n",
      "\n"
     ]
    }
   ],
   "source": [
    "shot = \"问题: 东坡肉和苏式红烧肉其中哪一个口感更为软糯？\\n选项: A. 东坡肉, B. 苏式红烧肉\\n答案: 东坡肉\\n\" + \"-\"*10 +\"\\n\"\n",
    "for i in range(1,6):\n",
    "    input_zh = df.iloc[i][\"Question\"]\n",
    "    choice_dict = {1: \"A\", 2: \"B\", 3: \"C\", 4: \"D\", 5: \"E\"}\n",
    "    choices = df.iloc[i][\"Choices\"].split(\"/\")\n",
    "    # add a,b,c to the choices\n",
    "    choices_prompt = \", \".join([choice_dict[i+1]+\". \"+choice for i, choice in enumerate(choices)])\n",
    "    input_text = shot+\"现按照以上格式回答以下问题。 问题: {}\\n选项: {}\\n答案:\".format(input_zh, choices_prompt)\n",
    "    inputs = tokenizer(input_text, return_tensors=\"pt\").to(model.device)\n",
    "    outputs = model.generate(**inputs, max_length=200)\n",
    "    answer = tokenizer.decode(outputs[0], skip_special_tokens=True)\n",
    "    print(answer.split(\"-\"*10)[1].strip())\n",
    "    print(\"GT: {}\".format(df.iloc[i][\"Answer\"]))\n",
    "    print(\"*\"*90+\"\\n\")"
   ]
  },
  {
   "cell_type": "code",
   "execution_count": 48,
   "metadata": {},
   "outputs": [
    {
     "data": {
      "text/plain": [
       "'现按照以上格式回答以下问题。 问题: 东坡肉和苏式红烧肉哪一个的起源和名字跟中国宋代的一位文人墨客有关？\\n选项: A. 东坡肉, B. 苏式红烧肉\\n答案: 东坡肉'"
      ]
     },
     "execution_count": 48,
     "metadata": {},
     "output_type": "execute_result"
    }
   ],
   "source": [
    "answer.split(\"-\"*10)[1].strip()"
   ]
  },
  {
   "cell_type": "markdown",
   "metadata": {},
   "source": [
    "## evaluate on current 50 examples"
   ]
  },
  {
   "cell_type": "code",
   "execution_count": 51,
   "metadata": {},
   "outputs": [
    {
     "data": {
      "text/plain": [
       "69"
      ]
     },
     "execution_count": 51,
     "metadata": {},
     "output_type": "execute_result"
    }
   ],
   "source": [
    "len(df)"
   ]
  },
  {
   "cell_type": "code",
   "execution_count": 97,
   "metadata": {},
   "outputs": [],
   "source": [
    "from tqdm import tqdm\n",
    "\n",
    "\n",
    "shot = \"问题: 东坡肉和苏式红烧肉其中哪一个口感更为软糯？\\n选项: A. 东坡肉, B. 苏式红烧肉\\n答案: 东坡肉\\n\" + \"-\"*10 +\"\\n\"\n",
    "\n",
    "\n",
    "def eval_question(i, n_shot=0):\n",
    "    input_zh = df.iloc[i][\"Question\"]\n",
    "    choice_dict = {1: \"A\", 2: \"B\", 3: \"C\", 4: \"D\", 5: \"E\"}\n",
    "    choices = df.iloc[i][\"Choices\"].split(\"/\")\n",
    "    # add a,b,c to the choices\n",
    "    choices_prompt = \", \".join([choice_dict[i+1]+\". \"+choice for i, choice in enumerate(choices)])\n",
    "    if n_shot > 0:\n",
    "        input_text = shot+\"现按照以上格式回答以下问题。 问题: {}\\n选项: {}\\n答案:\".format(input_zh, choices_prompt)\n",
    "    else:\n",
    "        input_text = \"现按照以下格式回答以下问题。 问题: {}\\n选项: {}\\n答案:\".format(input_zh, choices_prompt)\n",
    "    \n",
    "    inputs = tokenizer(input_text, return_tensors=\"pt\").to(model.device)\n",
    "    outputs = model.generate(**inputs, max_length=200)\n",
    "    answer = tokenizer.decode(outputs[0], skip_special_tokens=True)\n",
    "    if n_shot > 0:\n",
    "        return answer.split(\"-\"*10)[1].strip(), df.iloc[i][\"Answer\"]\n",
    "    else:\n",
    "        return answer.strip(), df.iloc[i][\"Answer\"]\n",
    "\n",
    "def eval_questions(df, n_shot=0):\n",
    "    questions = []\n",
    "    answers = []\n",
    "    gts = []\n",
    "    choices = []\n",
    "    \n",
    "    for i in tqdm(range(1,51), total=50):\n",
    "        question = df.iloc[i][\"Question\"]\n",
    "        choice = df.iloc[i][\"Choices\"].split(\"/\")\n",
    "        answer, gt = eval_question(i, n_shot=n_shot)\n",
    "        \n",
    "        questions.append(question)\n",
    "        choices.append(choice)\n",
    "        answers.append(answer)\n",
    "        gts.append(gt)\n",
    "    \n",
    "    # save to df\n",
    "    eval_df = pd.DataFrame({\"Question\": questions, \"Choices\": choices, \"Answer\": answers, \"GT\": gts})\n",
    "    return eval_df"
   ]
  },
  {
   "cell_type": "code",
   "execution_count": 98,
   "metadata": {},
   "outputs": [
    {
     "name": "stderr",
     "output_type": "stream",
     "text": [
      "100%|██████████| 50/50 [02:21<00:00,  2.83s/it]\n"
     ]
    }
   ],
   "source": [
    "one_shot_pred = eval_questions(df, n_shot=1)"
   ]
  },
  {
   "cell_type": "code",
   "execution_count": 102,
   "metadata": {},
   "outputs": [
    {
     "name": "stdout",
     "output_type": "stream",
     "text": [
      "One-shot accuracy:  0.52\n"
     ]
    }
   ],
   "source": [
    "def contains_answer(row):\n",
    "    return (row[\"PredAnswer\"].strip() in row[\"GT\"].strip()) or (row[\"PredAnswer\"].strip() == row[\"GT\"].strip())\n",
    "\n",
    "# post process and evaluate\n",
    "one_shot_pred[\"PredAnswer\"] = one_shot_pred[\"Answer\"].map(lambda x: x.split(\"\\n答案: \")[1])\n",
    "one_shot_pred[\"Correct\"] = one_shot_pred.apply(contains_answer, axis=1)\n",
    "print(\"One-shot accuracy: \", len(one_shot_pred[one_shot_pred[\"Correct\"]==True])/(len(one_shot_pred)))"
   ]
  },
  {
   "cell_type": "code",
   "execution_count": 106,
   "metadata": {},
   "outputs": [
    {
     "data": {
      "text/html": [
       "<div>\n",
       "<style scoped>\n",
       "    .dataframe tbody tr th:only-of-type {\n",
       "        vertical-align: middle;\n",
       "    }\n",
       "\n",
       "    .dataframe tbody tr th {\n",
       "        vertical-align: top;\n",
       "    }\n",
       "\n",
       "    .dataframe thead th {\n",
       "        text-align: right;\n",
       "    }\n",
       "</style>\n",
       "<table border=\"1\" class=\"dataframe\">\n",
       "  <thead>\n",
       "    <tr style=\"text-align: right;\">\n",
       "      <th></th>\n",
       "      <th>Question</th>\n",
       "      <th>Choices</th>\n",
       "      <th>Answer</th>\n",
       "      <th>GT</th>\n",
       "      <th>PredAnswer</th>\n",
       "      <th>Correct</th>\n",
       "    </tr>\n",
       "  </thead>\n",
       "  <tbody>\n",
       "    <tr>\n",
       "      <th>2</th>\n",
       "      <td>毛氏红烧肉和东坡肉，其中哪一道菜需要使用砂锅制作？</td>\n",
       "      <td>[毛氏红烧肉, 东坡肉]</td>\n",
       "      <td>现按照以上格式回答以下问题。 问题: 毛氏红烧肉和东坡肉，其中哪一道菜需要使用砂锅制作？\\n...</td>\n",
       "      <td>东坡肉</td>\n",
       "      <td>毛氏红烧肉</td>\n",
       "      <td>False</td>\n",
       "    </tr>\n",
       "    <tr>\n",
       "      <th>3</th>\n",
       "      <td>潮汕火锅和北京铜锅涮羊肉，其中哪一道菜通常配麻酱蘸碟？</td>\n",
       "      <td>[潮汕火锅, 铜锅涮羊肉]</td>\n",
       "      <td>现按照以上格式回答以下问题。 问题: 潮汕火锅和北京铜锅涮羊肉，其中哪一道菜通常配麻酱蘸碟？...</td>\n",
       "      <td>铜锅涮羊肉</td>\n",
       "      <td>潮汕火锅</td>\n",
       "      <td>False</td>\n",
       "    </tr>\n",
       "    <tr>\n",
       "      <th>4</th>\n",
       "      <td>糖醋排骨属于以下哪一个菜系？</td>\n",
       "      <td>[苏菜, 浙菜, 湘菜, 闽菜]</td>\n",
       "      <td>现按照以上格式回答以下问题。 问题: 糖醋排骨属于以下哪一个菜系？\\n选项: A. 苏菜, ...</td>\n",
       "      <td>苏菜</td>\n",
       "      <td>浙菜</td>\n",
       "      <td>False</td>\n",
       "    </tr>\n",
       "    <tr>\n",
       "      <th>6</th>\n",
       "      <td>其中哪一种肉属于湘菜？</td>\n",
       "      <td>[东坡肉, 苏式红烧肉, 毛氏红烧肉]</td>\n",
       "      <td>现按照以上格式回答以下问题。 问题: 其中哪一种肉属于湘菜？\\n选项: A. 东坡肉, B....</td>\n",
       "      <td>毛式红烧肉</td>\n",
       "      <td>毛氏红烧肉</td>\n",
       "      <td>False</td>\n",
       "    </tr>\n",
       "    <tr>\n",
       "      <th>7</th>\n",
       "      <td>四川红烧肉，毛式红烧肉和东坡肉中，对于一个不能吃辣的人，你更推荐哪道菜？</td>\n",
       "      <td>[东坡肉, 四川红烧肉, 毛氏红烧肉]</td>\n",
       "      <td>现按照以上格式回答以下问题。 问题: 四川红烧肉，毛式红烧肉和东坡肉中，对于一个不能吃辣的人...</td>\n",
       "      <td>东坡肉</td>\n",
       "      <td>四川红烧肉</td>\n",
       "      <td>False</td>\n",
       "    </tr>\n",
       "    <tr>\n",
       "      <th>8</th>\n",
       "      <td>梅菜扣肉和香芋扣肉有什么区别？</td>\n",
       "      <td>[主料, 配料, 主要制作方法, 主要制作工具]</td>\n",
       "      <td>现按照以上格式回答以下问题。 问题: 梅菜扣肉和香芋扣肉有什么区别？\\n选项: A. 主料,...</td>\n",
       "      <td>配料</td>\n",
       "      <td>主料</td>\n",
       "      <td>False</td>\n",
       "    </tr>\n",
       "    <tr>\n",
       "      <th>11</th>\n",
       "      <td>以下哪一道丸子类菜品食用口感上更多汁？</td>\n",
       "      <td>[狮子头, 四喜丸子, 糟熘丸子, 猪血丸子]</td>\n",
       "      <td>现按照以上格式回答以下问题。 问题: 以下哪一道丸子类菜品食用口感上更多汁？\\n选项: A....</td>\n",
       "      <td>狮子头</td>\n",
       "      <td>四喜丸子</td>\n",
       "      <td>False</td>\n",
       "    </tr>\n",
       "    <tr>\n",
       "      <th>13</th>\n",
       "      <td>以下哪一道菜品不需要炒制？</td>\n",
       "      <td>[黄牛肉, 青椒肉片, 水煮牛肉, 兰州糟肉]</td>\n",
       "      <td>现按照以上格式回答以下问题。 问题: 以下哪一道菜品不需要炒制？\\n选项: A. 黄牛肉, ...</td>\n",
       "      <td>水煮牛肉</td>\n",
       "      <td>兰州糟肉</td>\n",
       "      <td>False</td>\n",
       "    </tr>\n",
       "    <tr>\n",
       "      <th>14</th>\n",
       "      <td>以下哪道菜的主要原料其实并不是猪肉而是豆腐？</td>\n",
       "      <td>[狮子头, 四喜丸子, 猪血丸子, 炸糯米丸子]</td>\n",
       "      <td>现按照以上格式回答以下问题。 问题: 以下哪道菜的主要原料其实并不是猪肉而是豆腐？\\n选项:...</td>\n",
       "      <td>猪血丸子</td>\n",
       "      <td>四喜丸子</td>\n",
       "      <td>False</td>\n",
       "    </tr>\n",
       "    <tr>\n",
       "      <th>23</th>\n",
       "      <td>以下哪一道菜更经常作为小吃食用？</td>\n",
       "      <td>[三杯鸡, 大盘鸡, 白切鸡, 泡椒鸡爪]</td>\n",
       "      <td>现按照以上格式回答以下问题。 问题: 以下哪一道菜更经常作为小吃食用？\\n选项: A. 三杯...</td>\n",
       "      <td>泡椒鸡爪</td>\n",
       "      <td>D</td>\n",
       "      <td>False</td>\n",
       "    </tr>\n",
       "    <tr>\n",
       "      <th>24</th>\n",
       "      <td>以下哪一道菜在制作的过程中需要用到泡椒？</td>\n",
       "      <td>[三杯鸡, 大盘鸡, 白切鸡, 泡椒鸡爪]</td>\n",
       "      <td>现按照以上格式回答以下问题。 问题: 以下哪一道菜在制作的过程中需要用到泡椒？\\n选项: A...</td>\n",
       "      <td>泡椒鸡爪</td>\n",
       "      <td>大盘鸡</td>\n",
       "      <td>False</td>\n",
       "    </tr>\n",
       "    <tr>\n",
       "      <th>26</th>\n",
       "      <td>以下哪一道鸡肉的菜品在江南地区更常见？</td>\n",
       "      <td>[大盘鸡, 辣子鸡, 葫芦鸡, 叫花鸡]</td>\n",
       "      <td>现按照以上格式回答以下问题。 问题: 以下哪一道鸡肉的菜品在江南地区更常见？\\n选项: A....</td>\n",
       "      <td>叫花鸡</td>\n",
       "      <td>辣子鸡</td>\n",
       "      <td>False</td>\n",
       "    </tr>\n",
       "    <tr>\n",
       "      <th>28</th>\n",
       "      <td>在制作叫花鸡的过程中，通常需要使用以下哪种原料将鸡肉包裹？</td>\n",
       "      <td>[米粉, 泥巴, 辣椒面, 芝麻油]</td>\n",
       "      <td>现按照以上格式回答以下问题。 问题: 在制作叫花鸡的过程中，通常需要使用以下哪种原料将鸡肉包...</td>\n",
       "      <td>泥巴</td>\n",
       "      <td>米粉</td>\n",
       "      <td>False</td>\n",
       "    </tr>\n",
       "    <tr>\n",
       "      <th>33</th>\n",
       "      <td>以下哪种包子与其他包子在外形上更为不同？</td>\n",
       "      <td>[杭州小笼包, 灌汤包, 新疆烤包子, 新疆薄皮包子]</td>\n",
       "      <td>现按照以上格式回答以下问题。 问题: 以下哪种包子与其他包子在外形上更为不同？\\n选项: A...</td>\n",
       "      <td>新疆烤包子</td>\n",
       "      <td>新疆薄皮包子</td>\n",
       "      <td>False</td>\n",
       "    </tr>\n",
       "    <tr>\n",
       "      <th>35</th>\n",
       "      <td>以下哪种包子经常是一笼只有一个？</td>\n",
       "      <td>[杭州小笼包, 蟹黄汤包, 新疆烤包子, 新疆薄皮包子]</td>\n",
       "      <td>现按照以上格式回答以下问题。 问题: 以下哪种包子经常是一笼只有一个？\\n选项: A. 杭州...</td>\n",
       "      <td>蟹黄汤包</td>\n",
       "      <td>新疆薄皮包子</td>\n",
       "      <td>False</td>\n",
       "    </tr>\n",
       "    <tr>\n",
       "      <th>36</th>\n",
       "      <td>以下哪种包子制作过程中不需要蒸？</td>\n",
       "      <td>[杭州小笼包, 蟹黄汤包, 新疆烤包子, 新疆薄皮包子]</td>\n",
       "      <td>现按照以上格式回答以下问题。 问题: 以下哪种包子制作过程中不需要蒸？\\n选项: A. 杭州...</td>\n",
       "      <td>新疆烤包子</td>\n",
       "      <td>新疆薄皮包子</td>\n",
       "      <td>False</td>\n",
       "    </tr>\n",
       "    <tr>\n",
       "      <th>37</th>\n",
       "      <td>以下哪种包子是煎包？</td>\n",
       "      <td>[杭州小笼包, 安庆大南门牛肉包, 新疆烤包子, 新疆薄皮包子]</td>\n",
       "      <td>现按照以上格式回答以下问题。 问题: 以下哪种包子是煎包？\\n选项: A. 杭州小笼包, B...</td>\n",
       "      <td>安庆大南门牛肉包</td>\n",
       "      <td>D</td>\n",
       "      <td>False</td>\n",
       "    </tr>\n",
       "    <tr>\n",
       "      <th>38</th>\n",
       "      <td>以下哪道菜在北方更常见？</td>\n",
       "      <td>[焦溜丸子, 猪血丸子, 炸糯米丸子, 炸藕丸子]</td>\n",
       "      <td>现按照以上格式回答以下问题。 问题: 以下哪道菜在北方更常见？\\n选项: A. 焦溜丸子, ...</td>\n",
       "      <td>焦溜丸子</td>\n",
       "      <td>猪血丸子</td>\n",
       "      <td>False</td>\n",
       "    </tr>\n",
       "    <tr>\n",
       "      <th>39</th>\n",
       "      <td>如果你喜欢口味稍偏酸一点的面食，以下几种面条你更可能选择哪一个？</td>\n",
       "      <td>[炸酱面, 干煸炒面, 过油肉拌面, 丁丁炒面]</td>\n",
       "      <td>现按照以上格式回答以下问题。 问题: 如果你喜欢口味稍偏酸一点的面食，以下几种面条你更可能选...</td>\n",
       "      <td>丁丁炒面</td>\n",
       "      <td>过油肉拌面</td>\n",
       "      <td>False</td>\n",
       "    </tr>\n",
       "    <tr>\n",
       "      <th>42</th>\n",
       "      <td>以下几种面条，哪一种你更可能在新疆旅行时吃到正宗的？</td>\n",
       "      <td>[炸酱面, 干煸炒面, 宜宾燃面, 重庆小面]</td>\n",
       "      <td>现按照以上格式回答以下问题。 问题: 以下几种面条，哪一种你更可能在新疆旅行时吃到正宗的？\\...</td>\n",
       "      <td>干煸炒面</td>\n",
       "      <td>炸酱面</td>\n",
       "      <td>False</td>\n",
       "    </tr>\n",
       "    <tr>\n",
       "      <th>44</th>\n",
       "      <td>以下哪一种面条跟北方的麻食最相似？</td>\n",
       "      <td>[阳春面, 芜湖虾子面, 重庆小面, 杭州猫耳朵]</td>\n",
       "      <td>现按照以上格式回答以下问题。 问题: 以下哪一种面条跟北方的麻食最相似？\\n选项: A. 阳...</td>\n",
       "      <td>杭州猫耳朵</td>\n",
       "      <td>芜湖虾子面</td>\n",
       "      <td>False</td>\n",
       "    </tr>\n",
       "    <tr>\n",
       "      <th>45</th>\n",
       "      <td>以下哪种面条不属于川渝地区特色？</td>\n",
       "      <td>[担担面, 宜宾燃面, 重庆小面, 羊肉板面]</td>\n",
       "      <td>现按照以上格式回答以下问题。 问题: 以下哪种面条不属于川渝地区特色？\\n选项: A. 担担...</td>\n",
       "      <td>羊肉板面</td>\n",
       "      <td>D</td>\n",
       "      <td>False</td>\n",
       "    </tr>\n",
       "    <tr>\n",
       "      <th>46</th>\n",
       "      <td>如果你不想吃细面，你应该选择菜单上以下面条的哪一种？</td>\n",
       "      <td>[担担面, 宜宾燃面, 重庆小面, biangbiang面]</td>\n",
       "      <td>现按照以上格式回答以下问题。 问题: 如果你不想吃细面，你应该选择菜单上以下面条的哪一种？\\...</td>\n",
       "      <td>biangbiang面</td>\n",
       "      <td>宜宾燃面</td>\n",
       "      <td>False</td>\n",
       "    </tr>\n",
       "    <tr>\n",
       "      <th>47</th>\n",
       "      <td>如果你不想吃辣，你应该选择以下食物中的哪一种？</td>\n",
       "      <td>[重庆火锅, 钵钵鸡, 铜锅涮羊肉, 麻辣烫]</td>\n",
       "      <td>现按照以上格式回答以下问题。 问题: 如果你不想吃辣，你应该选择以下食物中的哪一种？\\n选项...</td>\n",
       "      <td>铜锅涮羊肉</td>\n",
       "      <td>钵钵鸡</td>\n",
       "      <td>False</td>\n",
       "    </tr>\n",
       "  </tbody>\n",
       "</table>\n",
       "</div>"
      ],
      "text/plain": [
       "                                Question                           Choices  \\\n",
       "2              毛氏红烧肉和东坡肉，其中哪一道菜需要使用砂锅制作？                      [毛氏红烧肉, 东坡肉]   \n",
       "3            潮汕火锅和北京铜锅涮羊肉，其中哪一道菜通常配麻酱蘸碟？                     [潮汕火锅, 铜锅涮羊肉]   \n",
       "4                         糖醋排骨属于以下哪一个菜系？                  [苏菜, 浙菜, 湘菜, 闽菜]   \n",
       "6                            其中哪一种肉属于湘菜？               [东坡肉, 苏式红烧肉, 毛氏红烧肉]   \n",
       "7   四川红烧肉，毛式红烧肉和东坡肉中，对于一个不能吃辣的人，你更推荐哪道菜？               [东坡肉, 四川红烧肉, 毛氏红烧肉]   \n",
       "8                        梅菜扣肉和香芋扣肉有什么区别？          [主料, 配料, 主要制作方法, 主要制作工具]   \n",
       "11                   以下哪一道丸子类菜品食用口感上更多汁？           [狮子头, 四喜丸子, 糟熘丸子, 猪血丸子]   \n",
       "13                         以下哪一道菜品不需要炒制？           [黄牛肉, 青椒肉片, 水煮牛肉, 兰州糟肉]   \n",
       "14                以下哪道菜的主要原料其实并不是猪肉而是豆腐？          [狮子头, 四喜丸子, 猪血丸子, 炸糯米丸子]   \n",
       "23                      以下哪一道菜更经常作为小吃食用？             [三杯鸡, 大盘鸡, 白切鸡, 泡椒鸡爪]   \n",
       "24                  以下哪一道菜在制作的过程中需要用到泡椒？             [三杯鸡, 大盘鸡, 白切鸡, 泡椒鸡爪]   \n",
       "26                   以下哪一道鸡肉的菜品在江南地区更常见？              [大盘鸡, 辣子鸡, 葫芦鸡, 叫花鸡]   \n",
       "28         在制作叫花鸡的过程中，通常需要使用以下哪种原料将鸡肉包裹？                [米粉, 泥巴, 辣椒面, 芝麻油]   \n",
       "33                  以下哪种包子与其他包子在外形上更为不同？       [杭州小笼包, 灌汤包, 新疆烤包子, 新疆薄皮包子]   \n",
       "35                      以下哪种包子经常是一笼只有一个？      [杭州小笼包, 蟹黄汤包, 新疆烤包子, 新疆薄皮包子]   \n",
       "36                      以下哪种包子制作过程中不需要蒸？      [杭州小笼包, 蟹黄汤包, 新疆烤包子, 新疆薄皮包子]   \n",
       "37                            以下哪种包子是煎包？  [杭州小笼包, 安庆大南门牛肉包, 新疆烤包子, 新疆薄皮包子]   \n",
       "38                          以下哪道菜在北方更常见？         [焦溜丸子, 猪血丸子, 炸糯米丸子, 炸藕丸子]   \n",
       "39      如果你喜欢口味稍偏酸一点的面食，以下几种面条你更可能选择哪一个？          [炸酱面, 干煸炒面, 过油肉拌面, 丁丁炒面]   \n",
       "42            以下几种面条，哪一种你更可能在新疆旅行时吃到正宗的？           [炸酱面, 干煸炒面, 宜宾燃面, 重庆小面]   \n",
       "44                     以下哪一种面条跟北方的麻食最相似？         [阳春面, 芜湖虾子面, 重庆小面, 杭州猫耳朵]   \n",
       "45                      以下哪种面条不属于川渝地区特色？           [担担面, 宜宾燃面, 重庆小面, 羊肉板面]   \n",
       "46            如果你不想吃细面，你应该选择菜单上以下面条的哪一种？    [担担面, 宜宾燃面, 重庆小面, biangbiang面]   \n",
       "47               如果你不想吃辣，你应该选择以下食物中的哪一种？           [重庆火锅, 钵钵鸡, 铜锅涮羊肉, 麻辣烫]   \n",
       "\n",
       "                                               Answer           GT PredAnswer  \\\n",
       "2   现按照以上格式回答以下问题。 问题: 毛氏红烧肉和东坡肉，其中哪一道菜需要使用砂锅制作？\\n...          东坡肉      毛氏红烧肉   \n",
       "3   现按照以上格式回答以下问题。 问题: 潮汕火锅和北京铜锅涮羊肉，其中哪一道菜通常配麻酱蘸碟？...        铜锅涮羊肉       潮汕火锅   \n",
       "4   现按照以上格式回答以下问题。 问题: 糖醋排骨属于以下哪一个菜系？\\n选项: A. 苏菜, ...           苏菜         浙菜   \n",
       "6   现按照以上格式回答以下问题。 问题: 其中哪一种肉属于湘菜？\\n选项: A. 东坡肉, B....        毛式红烧肉      毛氏红烧肉   \n",
       "7   现按照以上格式回答以下问题。 问题: 四川红烧肉，毛式红烧肉和东坡肉中，对于一个不能吃辣的人...          东坡肉      四川红烧肉   \n",
       "8   现按照以上格式回答以下问题。 问题: 梅菜扣肉和香芋扣肉有什么区别？\\n选项: A. 主料,...           配料         主料   \n",
       "11  现按照以上格式回答以下问题。 问题: 以下哪一道丸子类菜品食用口感上更多汁？\\n选项: A....          狮子头       四喜丸子   \n",
       "13  现按照以上格式回答以下问题。 问题: 以下哪一道菜品不需要炒制？\\n选项: A. 黄牛肉, ...         水煮牛肉       兰州糟肉   \n",
       "14  现按照以上格式回答以下问题。 问题: 以下哪道菜的主要原料其实并不是猪肉而是豆腐？\\n选项:...         猪血丸子       四喜丸子   \n",
       "23  现按照以上格式回答以下问题。 问题: 以下哪一道菜更经常作为小吃食用？\\n选项: A. 三杯...         泡椒鸡爪          D   \n",
       "24  现按照以上格式回答以下问题。 问题: 以下哪一道菜在制作的过程中需要用到泡椒？\\n选项: A...         泡椒鸡爪        大盘鸡   \n",
       "26  现按照以上格式回答以下问题。 问题: 以下哪一道鸡肉的菜品在江南地区更常见？\\n选项: A....          叫花鸡        辣子鸡   \n",
       "28  现按照以上格式回答以下问题。 问题: 在制作叫花鸡的过程中，通常需要使用以下哪种原料将鸡肉包...           泥巴         米粉   \n",
       "33  现按照以上格式回答以下问题。 问题: 以下哪种包子与其他包子在外形上更为不同？\\n选项: A...        新疆烤包子     新疆薄皮包子   \n",
       "35  现按照以上格式回答以下问题。 问题: 以下哪种包子经常是一笼只有一个？\\n选项: A. 杭州...         蟹黄汤包     新疆薄皮包子   \n",
       "36  现按照以上格式回答以下问题。 问题: 以下哪种包子制作过程中不需要蒸？\\n选项: A. 杭州...        新疆烤包子     新疆薄皮包子   \n",
       "37  现按照以上格式回答以下问题。 问题: 以下哪种包子是煎包？\\n选项: A. 杭州小笼包, B...     安庆大南门牛肉包          D   \n",
       "38  现按照以上格式回答以下问题。 问题: 以下哪道菜在北方更常见？\\n选项: A. 焦溜丸子, ...         焦溜丸子       猪血丸子   \n",
       "39  现按照以上格式回答以下问题。 问题: 如果你喜欢口味稍偏酸一点的面食，以下几种面条你更可能选...         丁丁炒面      过油肉拌面   \n",
       "42  现按照以上格式回答以下问题。 问题: 以下几种面条，哪一种你更可能在新疆旅行时吃到正宗的？\\...         干煸炒面        炸酱面   \n",
       "44  现按照以上格式回答以下问题。 问题: 以下哪一种面条跟北方的麻食最相似？\\n选项: A. 阳...        杭州猫耳朵      芜湖虾子面   \n",
       "45  现按照以上格式回答以下问题。 问题: 以下哪种面条不属于川渝地区特色？\\n选项: A. 担担...         羊肉板面          D   \n",
       "46  现按照以上格式回答以下问题。 问题: 如果你不想吃细面，你应该选择菜单上以下面条的哪一种？\\...  biangbiang面       宜宾燃面   \n",
       "47  现按照以上格式回答以下问题。 问题: 如果你不想吃辣，你应该选择以下食物中的哪一种？\\n选项...        铜锅涮羊肉        钵钵鸡   \n",
       "\n",
       "    Correct  \n",
       "2     False  \n",
       "3     False  \n",
       "4     False  \n",
       "6     False  \n",
       "7     False  \n",
       "8     False  \n",
       "11    False  \n",
       "13    False  \n",
       "14    False  \n",
       "23    False  \n",
       "24    False  \n",
       "26    False  \n",
       "28    False  \n",
       "33    False  \n",
       "35    False  \n",
       "36    False  \n",
       "37    False  \n",
       "38    False  \n",
       "39    False  \n",
       "42    False  \n",
       "44    False  \n",
       "45    False  \n",
       "46    False  \n",
       "47    False  "
      ]
     },
     "execution_count": 106,
     "metadata": {},
     "output_type": "execute_result"
    }
   ],
   "source": [
    "one_shot_pred[one_shot_pred[\"Correct\"]==False]"
   ]
  },
  {
   "cell_type": "code",
   "execution_count": 115,
   "metadata": {},
   "outputs": [],
   "source": [
    "one_shot_pred = one_shot_pred[[\"Question\", \"Choices\", \"Answer\", \"GT\", \"PredAnswer\", \"Correct\"]]"
   ]
  },
  {
   "cell_type": "code",
   "execution_count": 116,
   "metadata": {},
   "outputs": [],
   "source": [
    "one_shot_pred.to_csv(\"one_shot_pred_sample50.csv\", index=False)"
   ]
  },
  {
   "cell_type": "code",
   "execution_count": null,
   "metadata": {},
   "outputs": [],
   "source": []
  }
 ],
 "metadata": {
  "kernelspec": {
   "display_name": "yi",
   "language": "python",
   "name": "python3"
  },
  "language_info": {
   "codemirror_mode": {
    "name": "ipython",
    "version": 3
   },
   "file_extension": ".py",
   "mimetype": "text/x-python",
   "name": "python",
   "nbconvert_exporter": "python",
   "pygments_lexer": "ipython3",
   "version": "3.10.14"
  }
 },
 "nbformat": 4,
 "nbformat_minor": 2
}
